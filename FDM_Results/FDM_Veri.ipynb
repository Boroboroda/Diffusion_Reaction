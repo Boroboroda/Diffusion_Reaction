{
 "cells": [
  {
   "cell_type": "code",
   "execution_count": 2,
   "metadata": {},
   "outputs": [],
   "source": [
    "import pandas as pd\n",
    "import numpy as np"
   ]
  },
  {
   "cell_type": "code",
   "execution_count": 3,
   "metadata": {},
   "outputs": [],
   "source": [
    "FDM_2001_path = \"E:/Report 12 Some Try/FDM_Veri/2001/\"\n",
    "file_names = ['u1_output.csv','u2_output.csv','u3_output.csv','u4_output.csv','u5_output.csv','u6_output.csv']\n",
    "data_2001 = [pd.read_csv(FDM_2001_path+file,header=None) for file in file_names]\n"
   ]
  },
  {
   "cell_type": "code",
   "execution_count": 4,
   "metadata": {},
   "outputs": [
    {
     "name": "stdout",
     "output_type": "stream",
     "text": [
      "(101, 101)\n"
     ]
    }
   ],
   "source": [
    "true_2001 = [fdm.iloc[1:,1:].iloc[::20,::20].values for fdm in data_2001]\n",
    "print(true_2001[0].shape)"
   ]
  },
  {
   "cell_type": "code",
   "execution_count": 5,
   "metadata": {},
   "outputs": [],
   "source": [
    "FDM_1001_path = \"E:/Report 12 Some Try/FDM_Veri/1001/\"\n",
    "file_names = ['u1_output.csv','u2_output.csv','u3_output.csv','u4_output.csv','u5_output.csv','u6_output.csv']\n",
    "data_1001 = [pd.read_csv(FDM_1001_path+file,header=None) for file in file_names]"
   ]
  },
  {
   "cell_type": "code",
   "execution_count": 6,
   "metadata": {},
   "outputs": [
    {
     "name": "stdout",
     "output_type": "stream",
     "text": [
      "(101, 101)\n"
     ]
    }
   ],
   "source": [
    "true_1001 = [fdm.iloc[1:,1:].iloc[::10,::10].values for fdm in data_1001]\n",
    "print(true_1001[0].shape)"
   ]
  },
  {
   "cell_type": "code",
   "execution_count": 7,
   "metadata": {},
   "outputs": [],
   "source": [
    "FDM_101_path = \"E:/Report 12 Some Try/FDM_Veri/101/\"\n",
    "file_names = ['u1_output.csv','u2_output.csv','u3_output.csv','u4_output.csv','u5_output.csv','u6_output.csv']\n",
    "data_101 = [pd.read_csv(FDM_101_path+file,header=None) for file in file_names]"
   ]
  },
  {
   "cell_type": "code",
   "execution_count": 8,
   "metadata": {},
   "outputs": [
    {
     "name": "stdout",
     "output_type": "stream",
     "text": [
      "(101, 101)\n"
     ]
    }
   ],
   "source": [
    "true_101 = [fdm.iloc[1:,1:].values for fdm in data_101]\n",
    "print(true_101[0].shape)"
   ]
  },
  {
   "cell_type": "code",
   "execution_count": 9,
   "metadata": {},
   "outputs": [
    {
     "name": "stdout",
     "output_type": "stream",
     "text": [
      "L2_Error = 0.0021, Inf_Error = 0.0020\n",
      "L2_Error = 0.0004, Inf_Error = 0.0006\n",
      "L2_Error = 0.0012, Inf_Error = 0.0020\n",
      "L2_Error = 0.0026, Inf_Error = 0.0025\n",
      "L2_Error = 0.0025, Inf_Error = 0.0039\n"
     ]
    }
   ],
   "source": [
    "for i,(fdm1, fdm2) in enumerate(zip(true_1001,true_2001)):\n",
    "    if i == 5:\n",
    "        continue\n",
    "    L2_Error = np.linalg.norm(fdm1-fdm2,2)/np.linalg.norm(fdm2,2)\n",
    "    Inf_Error = np.linalg.norm(fdm1-fdm2,np.inf)/np.linalg.norm(fdm2,np.inf)\n",
    "    print('L2_Error = %.4f, Inf_Error = %.4f' % (L2_Error,Inf_Error))"
   ]
  },
  {
   "cell_type": "code",
   "execution_count": 10,
   "metadata": {},
   "outputs": [
    {
     "name": "stdout",
     "output_type": "stream",
     "text": [
      "L2_Error = 0.0153, Inf_Error = 0.0155\n",
      "L2_Error = 0.0029, Inf_Error = 0.0039\n",
      "L2_Error = 0.0086, Inf_Error = 0.0156\n",
      "L2_Error = 0.0182, Inf_Error = 0.0176\n",
      "L2_Error = 0.0161, Inf_Error = 0.0253\n"
     ]
    }
   ],
   "source": [
    "for i,(fdm1, fdm2) in enumerate(zip(true_101,true_2001)):\n",
    "    if i == 5:\n",
    "        continue\n",
    "    L2_Error = np.linalg.norm(fdm1-fdm2,2)/np.linalg.norm(fdm2,2)\n",
    "    Inf_Error = np.linalg.norm(fdm1-fdm2,np.inf)/np.linalg.norm(fdm2,np.inf)\n",
    "    print('L2_Error = %.4f, Inf_Error = %.4f' % (L2_Error,Inf_Error))"
   ]
  }
 ],
 "metadata": {
  "kernelspec": {
   "display_name": "pytorch",
   "language": "python",
   "name": "python3"
  },
  "language_info": {
   "codemirror_mode": {
    "name": "ipython",
    "version": 3
   },
   "file_extension": ".py",
   "mimetype": "text/x-python",
   "name": "python",
   "nbconvert_exporter": "python",
   "pygments_lexer": "ipython3",
   "version": "3.9.7"
  }
 },
 "nbformat": 4,
 "nbformat_minor": 2
}
