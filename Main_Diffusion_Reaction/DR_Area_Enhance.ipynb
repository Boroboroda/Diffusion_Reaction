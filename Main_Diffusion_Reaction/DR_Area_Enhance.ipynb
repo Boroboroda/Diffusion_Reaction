{
 "cells": [
  {
   "cell_type": "code",
   "execution_count": 5,
   "metadata": {},
   "outputs": [
    {
     "name": "stdout",
     "output_type": "stream",
     "text": [
      "Using device: cuda:0\n"
     ]
    }
   ],
   "source": [
    "import sys\n",
    "import os\n",
    "import timeit\n",
    "\n",
    "current_dir = os.getcwd()\n",
    "\n",
    "parent_dir = os.path.dirname(current_dir)\n",
    "sys.path.append(parent_dir)\n",
    "\n",
    "import torch\n",
    "import torch.nn as nn\n",
    "import torch.optim as optim\n",
    "import numpy as np\n",
    "from tqdm import *\n",
    "import matplotlib.pyplot as plt\n",
    "from matplotlib import cm\n",
    "from mpl_toolkits.mplot3d import Axes3D\n",
    "from matplotlib import gridspec\n",
    "import random\n",
    "\n",
    "from Networks.DNN import PINN\n",
    "from Networks.IA_DNN import Attention_PINN\n",
    "from Networks.Fourier_DNN import Fourier_PINN\n",
    "from Networks.AF_PINN import AF_PINN\n",
    "from Networks.Efficient_KAN import KAN\n",
    "from Networks.Cheby_KAN import ChebyKAN\n",
    "from DataGenerator import DataGenerator\n",
    "\n",
    "import pandas as pd\n",
    "\n",
    "from torch.utils.data import TensorDataset, DataLoader\n",
    "\n",
    "import time\n",
    "from datetime import datetime\n",
    "\n",
    "device = torch.device(\"cuda:0\" if torch.cuda.is_available() else \"cpu\")\n",
    "print(\"Using device:\", device)\n",
    "def seed_torch(seed):\n",
    "    random.seed(seed)\n",
    "    np.random.seed(seed)\n",
    "    torch.manual_seed(seed)\n",
    "    torch.cuda.manual_seed(seed)\n",
    "seed_torch(42)"
   ]
  },
  {
   "cell_type": "code",
   "execution_count": 6,
   "metadata": {},
   "outputs": [
    {
     "name": "stdout",
     "output_type": "stream",
     "text": [
      "AF_PINN_[128]x3:\n",
      "Epoch: 1/5----------------\n"
     ]
    },
    {
     "name": "stderr",
     "output_type": "stream",
     "text": [
      "100%|██████████| 2000/2000 [10:29<00:00,  3.18it/s, Loss=3.281e-03, PDE=1.855e-04, BC=6.155e-04,4.393e-06, IC=2.466e-03,9.314e-06, D*=9.99e-05,8.52e-07, lr=9.06e-04]\n",
      "e:\\Report 12 Some Try\\Main_Diffusion_Reaction\\pde_system.py:142: RuntimeWarning: divide by zero encountered in scalar divide\n",
      "  relative_R2 = np.linalg.norm(net - fdm, 2)/np.linalg.norm(fdm, 2)\n",
      "e:\\Report 12 Some Try\\Main_Diffusion_Reaction\\pde_system.py:143: RuntimeWarning: divide by zero encountered in scalar divide\n",
      "  relative_Inf = np.linalg.norm(net - fdm, np.Inf)/np.linalg.norm(fdm, np.Inf)\n"
     ]
    },
    {
     "name": "stdout",
     "output_type": "stream",
     "text": [
      "R^2 Error: {'Ni': 0.034, 'SiC': 0.01, 'C': inf, 'NiSi': inf, 'NiSi2': inf}\n",
      "Inf Error: {'Ni': 0.086, 'SiC': 0.063, 'C': inf, 'NiSi': inf, 'NiSi2': inf}\n",
      "Mean Error: (inf, inf)\n",
      "模型已保存至 ./Results/AF_PINN_[128]x3/model_save/AF_PINN_[128]x3_2000.pth\n",
      "Epoch: 2/5----------------\n"
     ]
    },
    {
     "name": "stderr",
     "output_type": "stream",
     "text": [
      "100%|██████████| 2000/2000 [10:11<00:00,  3.27it/s, Loss=4.225e-03, PDE=2.001e-04, BC=1.012e-05,2.725e-05, IC=3.968e-03,1.942e-05, D*=1.00e-04,6.93e-07, lr=6.56e-04]\n",
      "e:\\Report 12 Some Try\\Main_Diffusion_Reaction\\pde_system.py:142: RuntimeWarning: divide by zero encountered in scalar divide\n",
      "  relative_R2 = np.linalg.norm(net - fdm, 2)/np.linalg.norm(fdm, 2)\n",
      "e:\\Report 12 Some Try\\Main_Diffusion_Reaction\\pde_system.py:143: RuntimeWarning: divide by zero encountered in scalar divide\n",
      "  relative_Inf = np.linalg.norm(net - fdm, np.Inf)/np.linalg.norm(fdm, np.Inf)\n"
     ]
    },
    {
     "name": "stdout",
     "output_type": "stream",
     "text": [
      "R^2 Error: {'Ni': 0.035, 'SiC': 0.012, 'C': inf, 'NiSi': inf, 'NiSi2': inf}\n",
      "Inf Error: {'Ni': 0.114, 'SiC': 0.084, 'C': inf, 'NiSi': inf, 'NiSi2': inf}\n",
      "Mean Error: (inf, inf)\n",
      "模型已保存至 ./Results/AF_PINN_[128]x3/model_save/AF_PINN_[128]x3_4000.pth\n",
      "Epoch: 3/5----------------\n"
     ]
    },
    {
     "name": "stderr",
     "output_type": "stream",
     "text": [
      "100%|██████████| 2000/2000 [10:02<00:00,  3.32it/s, Loss=1.046e-03, PDE=8.834e-05, BC=1.285e-05,1.177e-05, IC=9.211e-04,1.173e-05, D*=1.00e-04,7.35e-07, lr=3.48e-04]\n",
      "e:\\Report 12 Some Try\\Main_Diffusion_Reaction\\pde_system.py:142: RuntimeWarning: divide by zero encountered in scalar divide\n",
      "  relative_R2 = np.linalg.norm(net - fdm, 2)/np.linalg.norm(fdm, 2)\n",
      "e:\\Report 12 Some Try\\Main_Diffusion_Reaction\\pde_system.py:143: RuntimeWarning: divide by zero encountered in scalar divide\n",
      "  relative_Inf = np.linalg.norm(net - fdm, np.Inf)/np.linalg.norm(fdm, np.Inf)\n"
     ]
    },
    {
     "name": "stdout",
     "output_type": "stream",
     "text": [
      "R^2 Error: {'Ni': 0.019, 'SiC': 0.005, 'C': inf, 'NiSi': inf, 'NiSi2': inf}\n",
      "Inf Error: {'Ni': 0.06, 'SiC': 0.032, 'C': inf, 'NiSi': inf, 'NiSi2': inf}\n",
      "Mean Error: (inf, inf)\n",
      "模型已保存至 ./Results/AF_PINN_[128]x3/model_save/AF_PINN_[128]x3_6000.pth\n",
      "Epoch: 4/5----------------\n"
     ]
    },
    {
     "name": "stderr",
     "output_type": "stream",
     "text": [
      "100%|██████████| 2000/2000 [09:52<00:00,  3.37it/s, Loss=6.221e-04, PDE=3.059e-05, BC=6.017e-07,2.821e-08, IC=5.864e-04,4.478e-06, D*=1.00e-04,4.85e-07, lr=9.73e-05]\n",
      "e:\\Report 12 Some Try\\Main_Diffusion_Reaction\\pde_system.py:142: RuntimeWarning: divide by zero encountered in scalar divide\n",
      "  relative_R2 = np.linalg.norm(net - fdm, 2)/np.linalg.norm(fdm, 2)\n",
      "e:\\Report 12 Some Try\\Main_Diffusion_Reaction\\pde_system.py:143: RuntimeWarning: divide by zero encountered in scalar divide\n",
      "  relative_Inf = np.linalg.norm(net - fdm, np.Inf)/np.linalg.norm(fdm, np.Inf)\n"
     ]
    },
    {
     "name": "stdout",
     "output_type": "stream",
     "text": [
      "R^2 Error: {'Ni': 0.019, 'SiC': 0.004, 'C': inf, 'NiSi': inf, 'NiSi2': inf}\n",
      "Inf Error: {'Ni': 0.058, 'SiC': 0.027, 'C': inf, 'NiSi': inf, 'NiSi2': inf}\n",
      "Mean Error: (inf, inf)\n",
      "模型已保存至 ./Results/AF_PINN_[128]x3/model_save/AF_PINN_[128]x3_8000.pth\n",
      "Epoch: 5/5----------------\n"
     ]
    },
    {
     "name": "stderr",
     "output_type": "stream",
     "text": [
      "100%|██████████| 2000/2000 [09:59<00:00,  3.33it/s, Loss=5.503e-04, PDE=2.671e-05, BC=4.456e-07,2.305e-08, IC=5.194e-04,3.662e-06, D*=1.00e-04,4.22e-07, lr=1.00e-06]\n",
      "e:\\Report 12 Some Try\\Main_Diffusion_Reaction\\pde_system.py:142: RuntimeWarning: divide by zero encountered in scalar divide\n",
      "  relative_R2 = np.linalg.norm(net - fdm, 2)/np.linalg.norm(fdm, 2)\n",
      "e:\\Report 12 Some Try\\Main_Diffusion_Reaction\\pde_system.py:143: RuntimeWarning: divide by zero encountered in scalar divide\n",
      "  relative_Inf = np.linalg.norm(net - fdm, np.Inf)/np.linalg.norm(fdm, np.Inf)\n"
     ]
    },
    {
     "name": "stdout",
     "output_type": "stream",
     "text": [
      "R^2 Error: {'Ni': 0.02, 'SiC': 0.005, 'C': inf, 'NiSi': inf, 'NiSi2': inf}\n",
      "Inf Error: {'Ni': 0.06, 'SiC': 0.032, 'C': inf, 'NiSi': inf, 'NiSi2': inf}\n",
      "Mean Error: (inf, inf)\n",
      "模型已保存至 ./Results/AF_PINN_[128]x3/model_save/AF_PINN_[128]x3_10000.pth\n"
     ]
    },
    {
     "name": "stderr",
     "output_type": "stream",
     "text": [
      "e:\\Report 12 Some Try\\Main_Diffusion_Reaction\\graphics.py:137: RuntimeWarning: divide by zero encountered in scalar divide\n",
      "  relative_R2 = np.linalg.norm(net - fdm, 2)/np.linalg.norm(fdm, 2)\n",
      "e:\\Report 12 Some Try\\Main_Diffusion_Reaction\\graphics.py:138: RuntimeWarning: divide by zero encountered in scalar divide\n",
      "  relative_Inf = np.linalg.norm(net - fdm, np.Inf)/np.linalg.norm(fdm, np.Inf)\n"
     ]
    },
    {
     "name": "stdout",
     "output_type": "stream",
     "text": [
      "Training time: 3045.10s-------------------------\n",
      "AF_PINN_[96]x3:\n",
      "Epoch: 1/5----------------\n"
     ]
    },
    {
     "name": "stderr",
     "output_type": "stream",
     "text": [
      "100%|██████████| 2000/2000 [07:59<00:00,  4.17it/s, Loss=2.869e-03, PDE=2.775e-04, BC=2.708e-06,7.338e-07, IC=2.586e-03,2.721e-06, D*=9.99e-05,7.96e-07, lr=9.06e-04]\n",
      "e:\\Report 12 Some Try\\Main_Diffusion_Reaction\\pde_system.py:142: RuntimeWarning: divide by zero encountered in scalar divide\n",
      "  relative_R2 = np.linalg.norm(net - fdm, 2)/np.linalg.norm(fdm, 2)\n",
      "e:\\Report 12 Some Try\\Main_Diffusion_Reaction\\pde_system.py:143: RuntimeWarning: divide by zero encountered in scalar divide\n",
      "  relative_Inf = np.linalg.norm(net - fdm, np.Inf)/np.linalg.norm(fdm, np.Inf)\n"
     ]
    },
    {
     "name": "stdout",
     "output_type": "stream",
     "text": [
      "R^2 Error: {'Ni': 0.035, 'SiC': 0.008, 'C': inf, 'NiSi': inf, 'NiSi2': inf}\n",
      "Inf Error: {'Ni': 0.12, 'SiC': 0.064, 'C': inf, 'NiSi': inf, 'NiSi2': inf}\n",
      "Mean Error: (inf, inf)\n",
      "模型已保存至 ./Results/AF_PINN_[96]x3/model_save/AF_PINN_[96]x3_2000.pth\n",
      "Epoch: 2/5----------------\n"
     ]
    },
    {
     "name": "stderr",
     "output_type": "stream",
     "text": [
      "100%|██████████| 2000/2000 [07:56<00:00,  4.20it/s, Loss=3.066e-03, PDE=2.755e-04, BC=5.938e-06,6.144e-06, IC=2.764e-03,1.373e-05, D*=9.99e-05,9.70e-07, lr=6.56e-04]\n",
      "e:\\Report 12 Some Try\\Main_Diffusion_Reaction\\pde_system.py:142: RuntimeWarning: divide by zero encountered in scalar divide\n",
      "  relative_R2 = np.linalg.norm(net - fdm, 2)/np.linalg.norm(fdm, 2)\n",
      "e:\\Report 12 Some Try\\Main_Diffusion_Reaction\\pde_system.py:143: RuntimeWarning: divide by zero encountered in scalar divide\n",
      "  relative_Inf = np.linalg.norm(net - fdm, np.Inf)/np.linalg.norm(fdm, np.Inf)\n"
     ]
    },
    {
     "name": "stdout",
     "output_type": "stream",
     "text": [
      "R^2 Error: {'Ni': 0.035, 'SiC': 0.01, 'C': inf, 'NiSi': inf, 'NiSi2': inf}\n",
      "Inf Error: {'Ni': 0.117, 'SiC': 0.076, 'C': inf, 'NiSi': inf, 'NiSi2': inf}\n",
      "Mean Error: (inf, inf)\n",
      "模型已保存至 ./Results/AF_PINN_[96]x3/model_save/AF_PINN_[96]x3_4000.pth\n",
      "Epoch: 3/5----------------\n"
     ]
    },
    {
     "name": "stderr",
     "output_type": "stream",
     "text": [
      "100%|██████████| 2000/2000 [07:55<00:00,  4.21it/s, Loss=1.768e-03, PDE=1.643e-04, BC=5.466e-07,4.184e-07, IC=1.577e-03,2.530e-05, D*=9.99e-05,9.14e-07, lr=3.48e-04]\n",
      "e:\\Report 12 Some Try\\Main_Diffusion_Reaction\\pde_system.py:142: RuntimeWarning: divide by zero encountered in scalar divide\n",
      "  relative_R2 = np.linalg.norm(net - fdm, 2)/np.linalg.norm(fdm, 2)\n",
      "e:\\Report 12 Some Try\\Main_Diffusion_Reaction\\pde_system.py:143: RuntimeWarning: divide by zero encountered in scalar divide\n",
      "  relative_Inf = np.linalg.norm(net - fdm, np.Inf)/np.linalg.norm(fdm, np.Inf)\n"
     ]
    },
    {
     "name": "stdout",
     "output_type": "stream",
     "text": [
      "R^2 Error: {'Ni': 0.021, 'SiC': 0.006, 'C': inf, 'NiSi': inf, 'NiSi2': inf}\n",
      "Inf Error: {'Ni': 0.069, 'SiC': 0.047, 'C': inf, 'NiSi': inf, 'NiSi2': inf}\n",
      "Mean Error: (inf, inf)\n",
      "模型已保存至 ./Results/AF_PINN_[96]x3/model_save/AF_PINN_[96]x3_6000.pth\n",
      "Epoch: 4/5----------------\n"
     ]
    },
    {
     "name": "stderr",
     "output_type": "stream",
     "text": [
      "100%|██████████| 2000/2000 [07:58<00:00,  4.18it/s, Loss=8.552e-04, PDE=4.933e-05, BC=1.879e-07,3.909e-08, IC=7.966e-04,9.047e-06, D*=9.99e-05,5.73e-07, lr=9.73e-05]\n",
      "e:\\Report 12 Some Try\\Main_Diffusion_Reaction\\pde_system.py:142: RuntimeWarning: divide by zero encountered in scalar divide\n",
      "  relative_R2 = np.linalg.norm(net - fdm, 2)/np.linalg.norm(fdm, 2)\n",
      "e:\\Report 12 Some Try\\Main_Diffusion_Reaction\\pde_system.py:143: RuntimeWarning: divide by zero encountered in scalar divide\n",
      "  relative_Inf = np.linalg.norm(net - fdm, np.Inf)/np.linalg.norm(fdm, np.Inf)\n"
     ]
    },
    {
     "name": "stdout",
     "output_type": "stream",
     "text": [
      "R^2 Error: {'Ni': 0.016, 'SiC': 0.003, 'C': inf, 'NiSi': inf, 'NiSi2': inf}\n",
      "Inf Error: {'Ni': 0.051, 'SiC': 0.023, 'C': inf, 'NiSi': inf, 'NiSi2': inf}\n",
      "Mean Error: (inf, inf)\n",
      "模型已保存至 ./Results/AF_PINN_[96]x3/model_save/AF_PINN_[96]x3_8000.pth\n",
      "Epoch: 5/5----------------\n"
     ]
    },
    {
     "name": "stderr",
     "output_type": "stream",
     "text": [
      "100%|██████████| 2000/2000 [07:55<00:00,  4.20it/s, Loss=7.699e-04, PDE=4.293e-05, BC=2.118e-07,4.020e-08, IC=7.192e-04,7.557e-06, D*=1.00e-04,4.97e-07, lr=1.00e-06]\n",
      "e:\\Report 12 Some Try\\Main_Diffusion_Reaction\\pde_system.py:142: RuntimeWarning: divide by zero encountered in scalar divide\n",
      "  relative_R2 = np.linalg.norm(net - fdm, 2)/np.linalg.norm(fdm, 2)\n",
      "e:\\Report 12 Some Try\\Main_Diffusion_Reaction\\pde_system.py:143: RuntimeWarning: divide by zero encountered in scalar divide\n",
      "  relative_Inf = np.linalg.norm(net - fdm, np.Inf)/np.linalg.norm(fdm, np.Inf)\n"
     ]
    },
    {
     "name": "stdout",
     "output_type": "stream",
     "text": [
      "R^2 Error: {'Ni': 0.016, 'SiC': 0.003, 'C': inf, 'NiSi': inf, 'NiSi2': inf}\n",
      "Inf Error: {'Ni': 0.051, 'SiC': 0.023, 'C': inf, 'NiSi': inf, 'NiSi2': inf}\n",
      "Mean Error: (inf, inf)\n",
      "模型已保存至 ./Results/AF_PINN_[96]x3/model_save/AF_PINN_[96]x3_10000.pth\n"
     ]
    },
    {
     "name": "stderr",
     "output_type": "stream",
     "text": [
      "e:\\Report 12 Some Try\\Main_Diffusion_Reaction\\graphics.py:137: RuntimeWarning: divide by zero encountered in scalar divide\n",
      "  relative_R2 = np.linalg.norm(net - fdm, 2)/np.linalg.norm(fdm, 2)\n",
      "e:\\Report 12 Some Try\\Main_Diffusion_Reaction\\graphics.py:138: RuntimeWarning: divide by zero encountered in scalar divide\n",
      "  relative_Inf = np.linalg.norm(net - fdm, np.Inf)/np.linalg.norm(fdm, np.Inf)\n"
     ]
    },
    {
     "name": "stdout",
     "output_type": "stream",
     "text": [
      "Training time: 2396.82s-------------------------\n",
      "AF_PINN_[64]x3:\n",
      "Epoch: 1/5----------------\n"
     ]
    },
    {
     "name": "stderr",
     "output_type": "stream",
     "text": [
      " 39%|███▉      | 779/2000 [02:19<03:39,  5.57it/s, Loss=8.909e-03, PDE=1.019e-03, BC=6.289e-04,1.568e-04, IC=7.086e-03,1.839e-05, D*=9.94e-05,1.61e-06, lr=9.85e-04]\n"
     ]
    },
    {
     "ename": "KeyboardInterrupt",
     "evalue": "",
     "output_type": "error",
     "traceback": [
      "\u001b[1;31m---------------------------------------------------------------------------\u001b[0m",
      "\u001b[1;31mKeyboardInterrupt\u001b[0m                         Traceback (most recent call last)",
      "Cell \u001b[1;32mIn[6], line 118\u001b[0m\n\u001b[0;32m    115\u001b[0m     torch\u001b[38;5;241m.\u001b[39mnn\u001b[38;5;241m.\u001b[39mutils\u001b[38;5;241m.\u001b[39mclip_grad_norm_(model\u001b[38;5;241m.\u001b[39mparameters(), max_norm\u001b[38;5;241m=\u001b[39m\u001b[38;5;241m1.0\u001b[39m, norm_type\u001b[38;5;241m=\u001b[39m \u001b[38;5;241m2\u001b[39m)\n\u001b[0;32m    116\u001b[0m     \u001b[38;5;28;01mreturn\u001b[39;00m loss\n\u001b[1;32m--> 118\u001b[0m \u001b[43moptimizer\u001b[49m\u001b[38;5;241;43m.\u001b[39;49m\u001b[43mstep\u001b[49m\u001b[43m(\u001b[49m\u001b[43mclosure\u001b[49m\u001b[43m)\u001b[49m\n\u001b[0;32m    120\u001b[0m \u001b[38;5;66;03m# 如果使用scheduler（只在Adam阶段）\u001b[39;00m\n\u001b[0;32m    121\u001b[0m \u001b[38;5;28;01mif\u001b[39;00m scheduler \u001b[38;5;129;01mis\u001b[39;00m \u001b[38;5;129;01mnot\u001b[39;00m \u001b[38;5;28;01mNone\u001b[39;00m:\n",
      "File \u001b[1;32md:\\conda\\envs\\pytorch\\lib\\site-packages\\torch\\optim\\lr_scheduler.py:75\u001b[0m, in \u001b[0;36mLRScheduler.__init__.<locals>.with_counter.<locals>.wrapper\u001b[1;34m(*args, **kwargs)\u001b[0m\n\u001b[0;32m     73\u001b[0m instance\u001b[38;5;241m.\u001b[39m_step_count \u001b[38;5;241m+\u001b[39m\u001b[38;5;241m=\u001b[39m \u001b[38;5;241m1\u001b[39m\n\u001b[0;32m     74\u001b[0m wrapped \u001b[38;5;241m=\u001b[39m func\u001b[38;5;241m.\u001b[39m\u001b[38;5;21m__get__\u001b[39m(instance, \u001b[38;5;28mcls\u001b[39m)\n\u001b[1;32m---> 75\u001b[0m \u001b[38;5;28;01mreturn\u001b[39;00m wrapped(\u001b[38;5;241m*\u001b[39margs, \u001b[38;5;241m*\u001b[39m\u001b[38;5;241m*\u001b[39mkwargs)\n",
      "File \u001b[1;32md:\\conda\\envs\\pytorch\\lib\\site-packages\\torch\\optim\\optimizer.py:391\u001b[0m, in \u001b[0;36mOptimizer.profile_hook_step.<locals>.wrapper\u001b[1;34m(*args, **kwargs)\u001b[0m\n\u001b[0;32m    386\u001b[0m         \u001b[38;5;28;01melse\u001b[39;00m:\n\u001b[0;32m    387\u001b[0m             \u001b[38;5;28;01mraise\u001b[39;00m \u001b[38;5;167;01mRuntimeError\u001b[39;00m(\n\u001b[0;32m    388\u001b[0m                 \u001b[38;5;124mf\u001b[39m\u001b[38;5;124m\"\u001b[39m\u001b[38;5;132;01m{\u001b[39;00mfunc\u001b[38;5;132;01m}\u001b[39;00m\u001b[38;5;124m must return None or a tuple of (new_args, new_kwargs), but got \u001b[39m\u001b[38;5;132;01m{\u001b[39;00mresult\u001b[38;5;132;01m}\u001b[39;00m\u001b[38;5;124m.\u001b[39m\u001b[38;5;124m\"\u001b[39m\n\u001b[0;32m    389\u001b[0m             )\n\u001b[1;32m--> 391\u001b[0m out \u001b[38;5;241m=\u001b[39m func(\u001b[38;5;241m*\u001b[39margs, \u001b[38;5;241m*\u001b[39m\u001b[38;5;241m*\u001b[39mkwargs)\n\u001b[0;32m    392\u001b[0m \u001b[38;5;28mself\u001b[39m\u001b[38;5;241m.\u001b[39m_optimizer_step_code()\n\u001b[0;32m    394\u001b[0m \u001b[38;5;66;03m# call optimizer step post hooks\u001b[39;00m\n",
      "File \u001b[1;32md:\\conda\\envs\\pytorch\\lib\\site-packages\\torch\\optim\\optimizer.py:76\u001b[0m, in \u001b[0;36m_use_grad_for_differentiable.<locals>._use_grad\u001b[1;34m(self, *args, **kwargs)\u001b[0m\n\u001b[0;32m     74\u001b[0m     torch\u001b[38;5;241m.\u001b[39mset_grad_enabled(\u001b[38;5;28mself\u001b[39m\u001b[38;5;241m.\u001b[39mdefaults[\u001b[38;5;124m'\u001b[39m\u001b[38;5;124mdifferentiable\u001b[39m\u001b[38;5;124m'\u001b[39m])\n\u001b[0;32m     75\u001b[0m     torch\u001b[38;5;241m.\u001b[39m_dynamo\u001b[38;5;241m.\u001b[39mgraph_break()\n\u001b[1;32m---> 76\u001b[0m     ret \u001b[38;5;241m=\u001b[39m func(\u001b[38;5;28mself\u001b[39m, \u001b[38;5;241m*\u001b[39margs, \u001b[38;5;241m*\u001b[39m\u001b[38;5;241m*\u001b[39mkwargs)\n\u001b[0;32m     77\u001b[0m \u001b[38;5;28;01mfinally\u001b[39;00m:\n\u001b[0;32m     78\u001b[0m     torch\u001b[38;5;241m.\u001b[39m_dynamo\u001b[38;5;241m.\u001b[39mgraph_break()\n",
      "File \u001b[1;32md:\\conda\\envs\\pytorch\\lib\\site-packages\\torch\\optim\\adam.py:148\u001b[0m, in \u001b[0;36mAdam.step\u001b[1;34m(self, closure)\u001b[0m\n\u001b[0;32m    146\u001b[0m \u001b[38;5;28;01mif\u001b[39;00m closure \u001b[38;5;129;01mis\u001b[39;00m \u001b[38;5;129;01mnot\u001b[39;00m \u001b[38;5;28;01mNone\u001b[39;00m:\n\u001b[0;32m    147\u001b[0m     \u001b[38;5;28;01mwith\u001b[39;00m torch\u001b[38;5;241m.\u001b[39menable_grad():\n\u001b[1;32m--> 148\u001b[0m         loss \u001b[38;5;241m=\u001b[39m \u001b[43mclosure\u001b[49m\u001b[43m(\u001b[49m\u001b[43m)\u001b[49m\n\u001b[0;32m    150\u001b[0m \u001b[38;5;28;01mfor\u001b[39;00m group \u001b[38;5;129;01min\u001b[39;00m \u001b[38;5;28mself\u001b[39m\u001b[38;5;241m.\u001b[39mparam_groups:\n\u001b[0;32m    151\u001b[0m     params_with_grad \u001b[38;5;241m=\u001b[39m []\n",
      "Cell \u001b[1;32mIn[6], line 109\u001b[0m, in \u001b[0;36mclosure\u001b[1;34m()\u001b[0m\n\u001b[0;32m    107\u001b[0m loss_bc1 \u001b[38;5;241m=\u001b[39m compute_bc(model, coords_bc1)\n\u001b[0;32m    108\u001b[0m loss_bc2 \u001b[38;5;241m=\u001b[39m compute_bc(model, coords_bc2)\n\u001b[1;32m--> 109\u001b[0m loss_ic1, loss_ic2 \u001b[38;5;241m=\u001b[39m \u001b[43mcompute_ic\u001b[49m\u001b[43m(\u001b[49m\u001b[43mmodel\u001b[49m\u001b[43m,\u001b[49m\u001b[43m \u001b[49m\u001b[43mcoords_ic\u001b[49m\u001b[43m)\u001b[49m\n\u001b[0;32m    111\u001b[0m \u001b[38;5;66;03m#Give a weight to initial loss term\u001b[39;00m\n\u001b[0;32m    112\u001b[0m loss \u001b[38;5;241m=\u001b[39m weight[\u001b[38;5;241m0\u001b[39m]\u001b[38;5;241m*\u001b[39mloss_pde \u001b[38;5;241m+\u001b[39m  weight[\u001b[38;5;241m1\u001b[39m]\u001b[38;5;241m*\u001b[39mloss_bc1 \u001b[38;5;241m+\u001b[39m  weight[\u001b[38;5;241m2\u001b[39m]\u001b[38;5;241m*\u001b[39mloss_bc2 \u001b[38;5;241m+\u001b[39m  weight[\u001b[38;5;241m3\u001b[39m]\u001b[38;5;241m*\u001b[39mloss_ic1 \u001b[38;5;241m+\u001b[39m  weight[\u001b[38;5;241m4\u001b[39m]\u001b[38;5;241m*\u001b[39mloss_ic2 \n",
      "File \u001b[1;32me:\\Report 12 Some Try\\Main_Diffusion_Reaction\\pde_system.py:115\u001b[0m, in \u001b[0;36mcompute_ic\u001b[1;34m(model, coords)\u001b[0m\n\u001b[0;32m    111\u001b[0m ca_in_L,cbc_in_L \u001b[38;5;241m=\u001b[39m model(tensor_L)[:,\u001b[38;5;241m0\u001b[39m],model(tensor_L)[:,\u001b[38;5;241m1\u001b[39m]\n\u001b[0;32m    113\u001b[0m cc_init,cab_init,cabb_init,caab_init \u001b[38;5;241m=\u001b[39m model(coords)[:,\u001b[38;5;241m2\u001b[39m],model(coords)[:,\u001b[38;5;241m3\u001b[39m],model(coords)[:,\u001b[38;5;241m4\u001b[39m],model(coords)[:,\u001b[38;5;241m5\u001b[39m]\n\u001b[1;32m--> 115\u001b[0m loss_ic1 \u001b[38;5;241m=\u001b[39m \u001b[43mtorch\u001b[49m\u001b[38;5;241;43m.\u001b[39;49m\u001b[43mmean\u001b[49m\u001b[43m(\u001b[49m\u001b[43m(\u001b[49m\u001b[43mca_in_h\u001b[49m\u001b[43m \u001b[49m\u001b[38;5;241;43m-\u001b[39;49m\u001b[43m \u001b[49m\u001b[43mN_SA\u001b[49m\u001b[38;5;241;43m/\u001b[39;49m\u001b[43mN_SA\u001b[49m\u001b[43m)\u001b[49m\u001b[38;5;241;43m*\u001b[39;49m\u001b[38;5;241;43m*\u001b[39;49m\u001b[38;5;241;43m2\u001b[39;49m\u001b[43m)\u001b[49m\u001b[43m \u001b[49m\u001b[38;5;241;43m+\u001b[39;49m\u001b[43m \u001b[49m\u001b[43mtorch\u001b[49m\u001b[38;5;241;43m.\u001b[39;49m\u001b[43mmean\u001b[49m\u001b[43m(\u001b[49m\u001b[43m(\u001b[49m\u001b[43mcbc_in_L\u001b[49m\u001b[43m \u001b[49m\u001b[38;5;241;43m-\u001b[39;49m\u001b[43m \u001b[49m\u001b[43mN_SB\u001b[49m\u001b[38;5;241;43m/\u001b[39;49m\u001b[43mN_SB\u001b[49m\u001b[43m)\u001b[49m\u001b[38;5;241;43m*\u001b[39;49m\u001b[38;5;241;43m*\u001b[39;49m\u001b[38;5;241;43m2\u001b[39;49m\u001b[43m)\u001b[49m\u001b[43m \u001b[49m\u001b[38;5;241;43m+\u001b[39;49m\u001b[43m \u001b[49m\u001b[43mtorch\u001b[49m\u001b[38;5;241;43m.\u001b[39;49m\u001b[43mmean\u001b[49m\u001b[43m(\u001b[49m\u001b[43mca_in_L\u001b[49m\u001b[38;5;241;43m*\u001b[39;49m\u001b[38;5;241;43m*\u001b[39;49m\u001b[38;5;241;43m2\u001b[39;49m\u001b[43m)\u001b[49m\u001b[43m \u001b[49m\u001b[38;5;241;43m+\u001b[39;49m\u001b[43m \u001b[49m\u001b[43mtorch\u001b[49m\u001b[38;5;241;43m.\u001b[39;49m\u001b[43mmean\u001b[49m\u001b[43m(\u001b[49m\u001b[43mcbc_in_h\u001b[49m\u001b[38;5;241;43m*\u001b[39;49m\u001b[38;5;241;43m*\u001b[39;49m\u001b[38;5;241;43m2\u001b[39;49m\u001b[43m)\u001b[49m\n\u001b[0;32m    117\u001b[0m loss_ic2 \u001b[38;5;241m=\u001b[39m torch\u001b[38;5;241m.\u001b[39mmean(cc_init \u001b[38;5;241m*\u001b[39m\u001b[38;5;241m*\u001b[39m\u001b[38;5;241m2\u001b[39m) \u001b[38;5;241m+\u001b[39m torch\u001b[38;5;241m.\u001b[39mmean(cab_init \u001b[38;5;241m*\u001b[39m\u001b[38;5;241m*\u001b[39m\u001b[38;5;241m2\u001b[39m) \u001b[38;5;241m+\u001b[39m torch\u001b[38;5;241m.\u001b[39mmean(cabb_init \u001b[38;5;241m*\u001b[39m\u001b[38;5;241m*\u001b[39m\u001b[38;5;241m2\u001b[39m) \u001b[38;5;241m+\u001b[39m torch\u001b[38;5;241m.\u001b[39mmean(caab_init \u001b[38;5;241m*\u001b[39m\u001b[38;5;241m*\u001b[39m\u001b[38;5;241m2\u001b[39m)\n\u001b[0;32m    119\u001b[0m \u001b[38;5;28;01mreturn\u001b[39;00m loss_ic1, loss_ic2\n",
      "\u001b[1;31mKeyboardInterrupt\u001b[0m: "
     ]
    }
   ],
   "source": [
    "L = 600.0\n",
    "h = 100.0\n",
    "anneal_time= 0.1\n",
    "D_A = 360.0  #6nm^2/s 360nm^2/min\n",
    "k11,k12,k21 = 0.0,0.0,0.0\n",
    "N_SA,N_SB,N_SC,N_SAB,N_SABB,N_SAAB = 90.0,48.0,90.0,90.0,90.0,90.0\n",
    "\n",
    "geom = [0,L]\n",
    "time = [0,anneal_time]\n",
    "\n",
    "##How I genertate data\n",
    "generator = DataGenerator(geom,time)\n",
    "\n",
    "from torch._tensor import Tensor\n",
    "from pde_system import compute_pde, compute_bc, compute_ic,relative_error\n",
    "from graphics import plot_loss_curve,plot_relative_concen,plot_3d_concen\n",
    "# from Utilitiy.residual_adaptive_resample import select_high_loss_points\n",
    "\n",
    "def get_points(N:list) -> tuple[Tensor, Tensor, Tensor, Tensor]: \n",
    "    coords_pde =  generator.LHS_generator(N[0], points_type = 'domain' , nondim= True) \n",
    "    coords_bc1 =  generator.LHS_generator(N[1], points_type = 'left_bc' , nondim= True) \n",
    "    coords_bc2 =  generator.LHS_generator(N[1], points_type = 'right_bc' , nondim= True) \n",
    "    coords_ic =  generator.LHS_generator(N[2], points_type = 'initial' , nondim= True) \n",
    "    return coords_pde, coords_bc1, coords_bc2, coords_ic\n",
    "\n",
    "N = [15000, 3000, 4000]\n",
    "\n",
    "from torch import Tensor\n",
    "\n",
    "\n",
    "hiddens = [3]  ##[3,4] already finished\n",
    "neurons = [64]\n",
    "\n",
    "activation = torch.nn.functional.tanh\n",
    "\n",
    "start_lr = 1e-3\n",
    "end_lr = 1e-6\n",
    "\n",
    "weight = [1, 1, 1, 1, 1, 1]\n",
    "\n",
    "mode = \"AF_PINN\"\n",
    "for hidden in hiddens:\n",
    "    # for neuron in neurons:\n",
    "        for annealing_time in [60, 10, 0.1]:  ##['PINN', 'IA_PINN', 'Fourier_PINN', 'AF_PINN']\n",
    "\n",
    "            if annealing_time == 0.1:\n",
    "                neuron = 64\n",
    "            elif annealing_time == 10:\n",
    "                neuron = 96\n",
    "            else:\n",
    "                neuron = 128\n",
    "\n",
    "            layer = [2] + [neuron]*hidden + [6]\n",
    "            \n",
    "            star_time = timeit.default_timer()\n",
    "            num_epochs = 2000\n",
    "            sub_spochs = 5\n",
    "\n",
    "            loss_log_total,loss_log_pde, loss_log_bc, loss_log_ic = [],[],[],[]\n",
    "            torch.cuda.empty_cache()\n",
    "            print(f'{mode}_[{neuron}]x{hidden}:')\n",
    "            \n",
    "            if mode == 'PINN':\n",
    "                model = PINN(layer,activation,non_negative=True).to(device)\n",
    "                optimizer = optim.Adam(model.parameters(), lr=start_lr)  \n",
    "                scheduler = optim.lr_scheduler.CosineAnnealingLR(optimizer, T_max=num_epochs * sub_spochs, eta_min=end_lr)\n",
    "            elif mode == 'IA_PINN':\n",
    "                model = Attention_PINN(layer,activation,non_negative=True).to(device)\n",
    "                optimizer = optim.Adam(model.parameters(), lr=start_lr)  \n",
    "                scheduler = optim.lr_scheduler.CosineAnnealingLR(optimizer, T_max=num_epochs * sub_spochs, eta_min=end_lr)\n",
    "            elif mode == 'Fourier_PINN':\n",
    "                model = Fourier_PINN(layer,non_negative=True, activation= activation, use_rff=True, rff_num_features=2*neuron, rff_sigma=1.0).to(device)\n",
    "                optimizer = optim.Adam(model.parameters(), lr=start_lr)  \n",
    "                scheduler = optim.lr_scheduler.CosineAnnealingLR(optimizer, T_max=num_epochs * sub_spochs, eta_min=end_lr)\n",
    "            elif mode == 'AF_PINN':\n",
    "                model = AF_PINN(layer, non_negative=True,activation = activation, use_rff=True, rff_num_features=2*neuron, rff_sigma=1.0).to(device)\n",
    "                optimizer = optim.Adam(model.parameters(), lr=start_lr)  \n",
    "                scheduler = optim.lr_scheduler.CosineAnnealingLR(optimizer, T_max=num_epochs * sub_spochs, eta_min=end_lr)\n",
    "            else:\n",
    "                print(\"Man! What can I say! Wrong Mode!!!\")\n",
    "                break            \n",
    "            points_types = ['domain', 'left_bc', 'right_bc', 'initial']\n",
    "            coords_pde, coords_bc1, coords_bc2, coords_ic = get_points(N)    \n",
    "            # coords_pde, coords_bc1, coords_bc2, coords_ic = [\n",
    "            #     generator.grid_generator(2500 if pt in ['left_bc', 'right_bc'] else 10201, points_type=pt, nondim= True) \n",
    "            #     for pt in points_types\n",
    "            # ]\n",
    "            # Since x = [0,200] is interphase-boundary area, we should add my sample points in this area.\n",
    "            # area_enhance = generator.LHS_local_enhance(N = 5000, points_type='domain',enhance_area=[[0,200],[0,60]],nondim= True)\n",
    "\n",
    "            # coords_pde = torch.cat((coords_pde, area_enhance), dim=0)\n",
    "\n",
    "            for idx in range(sub_spochs):\n",
    "                print(f'Epoch: {idx+1}/{sub_spochs}----------------')\n",
    "                model.train()\n",
    "                \n",
    "                pbar = tqdm(range(num_epochs))\n",
    "                for epoch in pbar:\n",
    "                    current_lr = optimizer.param_groups[0]['lr'] \n",
    "                    def closure() -> Tensor:\n",
    "                        global loss_pde, D_star, loss_bc1, loss_bc2, loss_ic1, loss_ic2\n",
    "                        optimizer.zero_grad()\n",
    "\n",
    "                        # 计算损失时使用batch数据\n",
    "                        loss_eq1, loss_eq2, loss_eq3, loss_eq4, loss_eq5, loss_eq6, D_star = compute_pde(model, coords_pde, anneal_time=anneal_time)\n",
    "                        loss_pde = loss_eq1 + loss_eq2 + loss_eq3 + loss_eq4 + loss_eq5 + loss_eq6\n",
    "                        loss_bc1 = compute_bc(model, coords_bc1)\n",
    "                        loss_bc2 = compute_bc(model, coords_bc2)\n",
    "                        loss_ic1, loss_ic2 = compute_ic(model, coords_ic)\n",
    "\n",
    "                        #Give a weight to initial loss term\n",
    "                        loss = weight[0]*loss_pde +  weight[1]*loss_bc1 +  weight[2]*loss_bc2 +  weight[3]*loss_ic1 +  weight[4]*loss_ic2 \n",
    "\n",
    "                        loss.backward()\n",
    "                        torch.nn.utils.clip_grad_norm_(model.parameters(), max_norm=1.0, norm_type= 2)\n",
    "                        return loss\n",
    "\n",
    "                    optimizer.step(closure)\n",
    "                    \n",
    "                    # 如果使用scheduler（只在Adam阶段）\n",
    "                    if scheduler is not None:\n",
    "                        scheduler.step()\n",
    "                    \n",
    "                    loss_total = weight[0]*loss_pde +  weight[1]*loss_bc1 +  weight[2]*loss_bc2 +  weight[3]*loss_ic1 +  weight[4]*loss_ic2 \n",
    "\n",
    "                    loss_log_total.append(loss_total.item())\n",
    "                    loss_log_pde.append(loss_pde.item())\n",
    "                    loss_log_bc.append(loss_bc1.item() + loss_bc2.item())\n",
    "                    loss_log_ic.append(loss_ic1.item() + loss_ic2.item())\n",
    "                    \n",
    "                    if epoch % 10 == 0:\n",
    "                        pbar.set_postfix({\n",
    "                            'Loss': '{0:.3e}'.format(loss_total),\n",
    "                            'PDE': '{0:.3e}'.format(weight[0]*loss_pde.item()),\n",
    "                            'BC': '{0:.3e},{1:.3e}'.format(weight[1]*loss_bc1.item(),weight[2]*loss_bc2.item()),\n",
    "                            'IC': '{0:.3e},{1:.3e}'.format(weight[3]*loss_ic1.item(),weight[4]*loss_ic2.item()),\n",
    "                            'D*': '{0:.2e},{1:.2e}'.format(torch.max(D_star),torch.min(D_star)),\n",
    "                            'lr': '{0:.2e}'.format(current_lr),\n",
    "                        })        \n",
    "                    # # 将四个张量放在一个列表中并随机打乱\n",
    "                    shuffled_tensors = [tensor[torch.randperm(tensor.size(0))] for tensor in [coords_pde, coords_bc1, coords_bc2, coords_ic]]\n",
    "\n",
    "                    # 解包到四个变量中\n",
    "                    coords_pde, coords_bc1, coords_bc2, coords_ic = shuffled_tensors\n",
    "                \n",
    "                    if torch.isnan(loss_total):\n",
    "                        print('Loss is Nan, please check your model parameters')\n",
    "                        break\n",
    "                \n",
    "                true_path = './FDM/range[0,1]_01/'\n",
    "                file_names = ['u1_output.csv','u2_output.csv','u3_output.csv','u4_output.csv','u5_output.csv','u6_output.csv']\n",
    "                true_data = [pd.read_csv(true_path + file_name,header=None) for file_name in file_names]\n",
    "\n",
    "                model.eval()\n",
    "                val_data = generator.grid_generator(N=10201, points_type= 'domain', nondim= True)\n",
    "                result = model(val_data).data.cpu().numpy()\n",
    "                relative_error(result,true_data)\n",
    "\n",
    "                ##模型储存\n",
    "                save_path = f'./Results/{mode}_[{neuron}]x{hidden}/model_save/'\n",
    "                os.makedirs(save_path, exist_ok=True)  # 确保保存路径存在\n",
    "                # 指定模型文件名\n",
    "                model_file = os.path.join(save_path, f'{mode}_[{neuron}]x{hidden}_{(idx+1)*num_epochs}.pth')\n",
    "                # 保存模型\n",
    "                torch.save(model.state_dict(), model_file)\n",
    "                print(f\"模型已保存至 {model_file}\")\n",
    "            \n",
    "            # 绘制结果\n",
    "            plot_loss_curve(f'{mode}_[{neuron}]x{hidden}',loss_log_total,loss_log_pde, loss_log_bc, loss_log_ic)\n",
    "            \n",
    "            plot_relative_concen(f'{mode}_[{neuron}]x{hidden}',result,data_save=True, annealing_time= annealing_time)\n",
    "            \n",
    "            plot_3d_concen(f'{mode}_[{neuron}]x{hidden}', result, true_data)\n",
    "\n",
    "            Training_time = timeit.default_timer() - star_time\n",
    "            print(f'Training time: {Training_time:.2f}s-------------------------')\n"
   ]
  },
  {
   "cell_type": "code",
   "execution_count": 2,
   "metadata": {},
   "outputs": [
    {
     "name": "stdout",
     "output_type": "stream",
     "text": [
      "PINN_[64]x3:\n",
      "Epoch: 1/5----------------\n"
     ]
    },
    {
     "name": "stderr",
     "output_type": "stream",
     "text": [
      "100%|██████████| 2000/2000 [02:12<00:00, 15.12it/s, Loss=1.432e-02, PDE=9.445e-04, BC=4.911e-05,3.095e-06, IC=1.326e-02,6.264e-05, D*=9.93e-05,1.88e-06, lr=9.06e-04]\n",
      "e:\\Report 12 Some Try\\Main_Diffusion_Reaction\\pde_system.py:142: RuntimeWarning: divide by zero encountered in scalar divide\n",
      "  relative_R2 = np.linalg.norm(net - fdm, 2)/np.linalg.norm(fdm, 2)\n",
      "e:\\Report 12 Some Try\\Main_Diffusion_Reaction\\pde_system.py:143: RuntimeWarning: divide by zero encountered in scalar divide\n",
      "  relative_Inf = np.linalg.norm(net - fdm, np.Inf)/np.linalg.norm(fdm, np.Inf)\n"
     ]
    },
    {
     "name": "stdout",
     "output_type": "stream",
     "text": [
      "R^2 Error: {'Ni': 0.123, 'SiC': 0.043, 'C': inf, 'NiSi': inf, 'NiSi2': inf}\n",
      "Inf Error: {'Ni': 0.286, 'SiC': 0.32, 'C': inf, 'NiSi': inf, 'NiSi2': inf}\n",
      "Mean Error: (inf, inf)\n",
      "模型已保存至 ./Results/PINN_[64]x3/model_save/PINN_[64]x3_2000.pth\n",
      "Epoch: 2/5----------------\n"
     ]
    },
    {
     "name": "stderr",
     "output_type": "stream",
     "text": [
      "100%|██████████| 2000/2000 [02:11<00:00, 15.22it/s, Loss=6.225e-03, PDE=9.221e-04, BC=6.550e-06,1.454e-06, IC=5.285e-03,1.026e-05, D*=9.97e-05,6.50e-07, lr=6.56e-04]\n",
      "e:\\Report 12 Some Try\\Main_Diffusion_Reaction\\pde_system.py:142: RuntimeWarning: divide by zero encountered in scalar divide\n",
      "  relative_R2 = np.linalg.norm(net - fdm, 2)/np.linalg.norm(fdm, 2)\n",
      "e:\\Report 12 Some Try\\Main_Diffusion_Reaction\\pde_system.py:143: RuntimeWarning: divide by zero encountered in scalar divide\n",
      "  relative_Inf = np.linalg.norm(net - fdm, np.Inf)/np.linalg.norm(fdm, np.Inf)\n"
     ]
    },
    {
     "name": "stdout",
     "output_type": "stream",
     "text": [
      "R^2 Error: {'Ni': 0.06, 'SiC': 0.017, 'C': inf, 'NiSi': inf, 'NiSi2': inf}\n",
      "Inf Error: {'Ni': 0.152, 'SiC': 0.14, 'C': inf, 'NiSi': inf, 'NiSi2': inf}\n",
      "Mean Error: (inf, inf)\n",
      "模型已保存至 ./Results/PINN_[64]x3/model_save/PINN_[64]x3_4000.pth\n",
      "Epoch: 3/5----------------\n"
     ]
    },
    {
     "name": "stderr",
     "output_type": "stream",
     "text": [
      "100%|██████████| 2000/2000 [02:11<00:00, 15.23it/s, Loss=4.000e-03, PDE=4.351e-04, BC=3.467e-06,8.804e-07, IC=3.556e-03,4.170e-06, D*=9.98e-05,3.93e-07, lr=3.48e-04]\n",
      "e:\\Report 12 Some Try\\Main_Diffusion_Reaction\\pde_system.py:142: RuntimeWarning: divide by zero encountered in scalar divide\n",
      "  relative_R2 = np.linalg.norm(net - fdm, 2)/np.linalg.norm(fdm, 2)\n",
      "e:\\Report 12 Some Try\\Main_Diffusion_Reaction\\pde_system.py:143: RuntimeWarning: divide by zero encountered in scalar divide\n",
      "  relative_Inf = np.linalg.norm(net - fdm, np.Inf)/np.linalg.norm(fdm, np.Inf)\n"
     ]
    },
    {
     "name": "stdout",
     "output_type": "stream",
     "text": [
      "R^2 Error: {'Ni': 0.045, 'SiC': 0.011, 'C': inf, 'NiSi': inf, 'NiSi2': inf}\n",
      "Inf Error: {'Ni': 0.147, 'SiC': 0.083, 'C': inf, 'NiSi': inf, 'NiSi2': inf}\n",
      "Mean Error: (inf, inf)\n",
      "模型已保存至 ./Results/PINN_[64]x3/model_save/PINN_[64]x3_6000.pth\n",
      "Epoch: 4/5----------------\n"
     ]
    },
    {
     "name": "stderr",
     "output_type": "stream",
     "text": [
      "100%|██████████| 2000/2000 [02:09<00:00, 15.39it/s, Loss=3.063e-03, PDE=3.570e-04, BC=2.508e-06,6.056e-07, IC=2.700e-03,2.851e-06, D*=9.99e-05,3.20e-07, lr=9.73e-05]\n",
      "e:\\Report 12 Some Try\\Main_Diffusion_Reaction\\pde_system.py:142: RuntimeWarning: divide by zero encountered in scalar divide\n",
      "  relative_R2 = np.linalg.norm(net - fdm, 2)/np.linalg.norm(fdm, 2)\n",
      "e:\\Report 12 Some Try\\Main_Diffusion_Reaction\\pde_system.py:143: RuntimeWarning: divide by zero encountered in scalar divide\n",
      "  relative_Inf = np.linalg.norm(net - fdm, np.Inf)/np.linalg.norm(fdm, np.Inf)\n"
     ]
    },
    {
     "name": "stdout",
     "output_type": "stream",
     "text": [
      "R^2 Error: {'Ni': 0.035, 'SiC': 0.009, 'C': inf, 'NiSi': inf, 'NiSi2': inf}\n",
      "Inf Error: {'Ni': 0.118, 'SiC': 0.068, 'C': inf, 'NiSi': inf, 'NiSi2': inf}\n",
      "Mean Error: (inf, inf)\n",
      "模型已保存至 ./Results/PINN_[64]x3/model_save/PINN_[64]x3_8000.pth\n",
      "Epoch: 5/5----------------\n"
     ]
    },
    {
     "name": "stderr",
     "output_type": "stream",
     "text": [
      "100%|██████████| 2000/2000 [02:12<00:00, 15.12it/s, Loss=2.851e-03, PDE=3.389e-04, BC=2.311e-06,6.010e-07, IC=2.507e-03,2.648e-06, D*=9.99e-05,3.10e-07, lr=1.00e-06]\n",
      "e:\\Report 12 Some Try\\Main_Diffusion_Reaction\\pde_system.py:142: RuntimeWarning: divide by zero encountered in scalar divide\n",
      "  relative_R2 = np.linalg.norm(net - fdm, 2)/np.linalg.norm(fdm, 2)\n",
      "e:\\Report 12 Some Try\\Main_Diffusion_Reaction\\pde_system.py:143: RuntimeWarning: divide by zero encountered in scalar divide\n",
      "  relative_Inf = np.linalg.norm(net - fdm, np.Inf)/np.linalg.norm(fdm, np.Inf)\n"
     ]
    },
    {
     "name": "stdout",
     "output_type": "stream",
     "text": [
      "R^2 Error: {'Ni': 0.033, 'SiC': 0.008, 'C': inf, 'NiSi': inf, 'NiSi2': inf}\n",
      "Inf Error: {'Ni': 0.111, 'SiC': 0.065, 'C': inf, 'NiSi': inf, 'NiSi2': inf}\n",
      "Mean Error: (inf, inf)\n",
      "模型已保存至 ./Results/PINN_[64]x3/model_save/PINN_[64]x3_10000.pth\n"
     ]
    },
    {
     "name": "stderr",
     "output_type": "stream",
     "text": [
      "e:\\Report 12 Some Try\\Main_Diffusion_Reaction\\graphics.py:137: RuntimeWarning: divide by zero encountered in scalar divide\n",
      "  relative_R2 = np.linalg.norm(net - fdm, 2)/np.linalg.norm(fdm, 2)\n",
      "e:\\Report 12 Some Try\\Main_Diffusion_Reaction\\graphics.py:138: RuntimeWarning: divide by zero encountered in scalar divide\n",
      "  relative_Inf = np.linalg.norm(net - fdm, np.Inf)/np.linalg.norm(fdm, np.Inf)\n"
     ]
    },
    {
     "name": "stdout",
     "output_type": "stream",
     "text": [
      "Training time: 673.70s-------------------------\n",
      "IA_PINN_[64]x3:\n",
      "Epoch: 1/5----------------\n"
     ]
    },
    {
     "name": "stderr",
     "output_type": "stream",
     "text": [
      "100%|██████████| 2000/2000 [04:46<00:00,  6.98it/s, Loss=9.422e-03, PDE=1.460e-03, BC=2.318e-05,1.977e-06, IC=7.870e-03,6.572e-05, D*=1.00e-04,3.02e-06, lr=9.06e-04]\n",
      "e:\\Report 12 Some Try\\Main_Diffusion_Reaction\\pde_system.py:142: RuntimeWarning: divide by zero encountered in scalar divide\n",
      "  relative_R2 = np.linalg.norm(net - fdm, 2)/np.linalg.norm(fdm, 2)\n",
      "e:\\Report 12 Some Try\\Main_Diffusion_Reaction\\pde_system.py:143: RuntimeWarning: divide by zero encountered in scalar divide\n",
      "  relative_Inf = np.linalg.norm(net - fdm, np.Inf)/np.linalg.norm(fdm, np.Inf)\n"
     ]
    },
    {
     "name": "stdout",
     "output_type": "stream",
     "text": [
      "R^2 Error: {'Ni': 0.087, 'SiC': 0.033, 'C': inf, 'NiSi': inf, 'NiSi2': inf}\n",
      "Inf Error: {'Ni': 0.191, 'SiC': 0.242, 'C': inf, 'NiSi': inf, 'NiSi2': inf}\n",
      "Mean Error: (inf, inf)\n",
      "模型已保存至 ./Results/IA_PINN_[64]x3/model_save/IA_PINN_[64]x3_2000.pth\n",
      "Epoch: 2/5----------------\n"
     ]
    },
    {
     "name": "stderr",
     "output_type": "stream",
     "text": [
      "100%|██████████| 2000/2000 [04:49<00:00,  6.91it/s, Loss=5.302e-03, PDE=1.197e-03, BC=4.210e-06,1.928e-06, IC=4.085e-03,1.357e-05, D*=1.00e-04,1.49e-06, lr=6.56e-04]\n",
      "e:\\Report 12 Some Try\\Main_Diffusion_Reaction\\pde_system.py:142: RuntimeWarning: divide by zero encountered in scalar divide\n",
      "  relative_R2 = np.linalg.norm(net - fdm, 2)/np.linalg.norm(fdm, 2)\n",
      "e:\\Report 12 Some Try\\Main_Diffusion_Reaction\\pde_system.py:143: RuntimeWarning: divide by zero encountered in scalar divide\n",
      "  relative_Inf = np.linalg.norm(net - fdm, np.Inf)/np.linalg.norm(fdm, np.Inf)\n"
     ]
    },
    {
     "name": "stdout",
     "output_type": "stream",
     "text": [
      "R^2 Error: {'Ni': 0.058, 'SiC': 0.015, 'C': inf, 'NiSi': inf, 'NiSi2': inf}\n",
      "Inf Error: {'Ni': 0.15, 'SiC': 0.123, 'C': inf, 'NiSi': inf, 'NiSi2': inf}\n",
      "Mean Error: (inf, inf)\n",
      "模型已保存至 ./Results/IA_PINN_[64]x3/model_save/IA_PINN_[64]x3_4000.pth\n",
      "Epoch: 3/5----------------\n"
     ]
    },
    {
     "name": "stderr",
     "output_type": "stream",
     "text": [
      "100%|██████████| 2000/2000 [04:48<00:00,  6.93it/s, Loss=2.927e-03, PDE=6.163e-04, BC=2.570e-06,6.459e-07, IC=2.301e-03,6.181e-06, D*=1.00e-04,1.04e-06, lr=3.48e-04]\n",
      "e:\\Report 12 Some Try\\Main_Diffusion_Reaction\\pde_system.py:142: RuntimeWarning: divide by zero encountered in scalar divide\n",
      "  relative_R2 = np.linalg.norm(net - fdm, 2)/np.linalg.norm(fdm, 2)\n",
      "e:\\Report 12 Some Try\\Main_Diffusion_Reaction\\pde_system.py:143: RuntimeWarning: divide by zero encountered in scalar divide\n",
      "  relative_Inf = np.linalg.norm(net - fdm, np.Inf)/np.linalg.norm(fdm, np.Inf)\n"
     ]
    },
    {
     "name": "stdout",
     "output_type": "stream",
     "text": [
      "R^2 Error: {'Ni': 0.033, 'SiC': 0.008, 'C': inf, 'NiSi': inf, 'NiSi2': inf}\n",
      "Inf Error: {'Ni': 0.111, 'SiC': 0.06, 'C': inf, 'NiSi': inf, 'NiSi2': inf}\n",
      "Mean Error: (inf, inf)\n",
      "模型已保存至 ./Results/IA_PINN_[64]x3/model_save/IA_PINN_[64]x3_6000.pth\n",
      "Epoch: 4/5----------------\n"
     ]
    },
    {
     "name": "stderr",
     "output_type": "stream",
     "text": [
      "100%|██████████| 2000/2000 [04:49<00:00,  6.92it/s, Loss=1.963e-03, PDE=3.744e-04, BC=2.126e-06,4.005e-07, IC=1.582e-03,4.280e-06, D*=1.00e-04,8.46e-07, lr=9.73e-05]\n",
      "e:\\Report 12 Some Try\\Main_Diffusion_Reaction\\pde_system.py:142: RuntimeWarning: divide by zero encountered in scalar divide\n",
      "  relative_R2 = np.linalg.norm(net - fdm, 2)/np.linalg.norm(fdm, 2)\n",
      "e:\\Report 12 Some Try\\Main_Diffusion_Reaction\\pde_system.py:143: RuntimeWarning: divide by zero encountered in scalar divide\n",
      "  relative_Inf = np.linalg.norm(net - fdm, np.Inf)/np.linalg.norm(fdm, np.Inf)\n"
     ]
    },
    {
     "name": "stdout",
     "output_type": "stream",
     "text": [
      "R^2 Error: {'Ni': 0.022, 'SiC': 0.006, 'C': inf, 'NiSi': inf, 'NiSi2': inf}\n",
      "Inf Error: {'Ni': 0.072, 'SiC': 0.047, 'C': inf, 'NiSi': inf, 'NiSi2': inf}\n",
      "Mean Error: (inf, inf)\n",
      "模型已保存至 ./Results/IA_PINN_[64]x3/model_save/IA_PINN_[64]x3_8000.pth\n",
      "Epoch: 5/5----------------\n"
     ]
    },
    {
     "name": "stderr",
     "output_type": "stream",
     "text": [
      "100%|██████████| 2000/2000 [04:48<00:00,  6.92it/s, Loss=1.787e-03, PDE=3.348e-04, BC=1.815e-06,2.446e-07, IC=1.447e-03,3.995e-06, D*=1.00e-04,8.15e-07, lr=1.00e-06]\n",
      "e:\\Report 12 Some Try\\Main_Diffusion_Reaction\\pde_system.py:142: RuntimeWarning: divide by zero encountered in scalar divide\n",
      "  relative_R2 = np.linalg.norm(net - fdm, 2)/np.linalg.norm(fdm, 2)\n",
      "e:\\Report 12 Some Try\\Main_Diffusion_Reaction\\pde_system.py:143: RuntimeWarning: divide by zero encountered in scalar divide\n",
      "  relative_Inf = np.linalg.norm(net - fdm, np.Inf)/np.linalg.norm(fdm, np.Inf)\n"
     ]
    },
    {
     "name": "stdout",
     "output_type": "stream",
     "text": [
      "R^2 Error: {'Ni': 0.02, 'SiC': 0.006, 'C': inf, 'NiSi': inf, 'NiSi2': inf}\n",
      "Inf Error: {'Ni': 0.066, 'SiC': 0.046, 'C': inf, 'NiSi': inf, 'NiSi2': inf}\n",
      "Mean Error: (inf, inf)\n",
      "模型已保存至 ./Results/IA_PINN_[64]x3/model_save/IA_PINN_[64]x3_10000.pth\n"
     ]
    },
    {
     "name": "stderr",
     "output_type": "stream",
     "text": [
      "e:\\Report 12 Some Try\\Main_Diffusion_Reaction\\graphics.py:137: RuntimeWarning: divide by zero encountered in scalar divide\n",
      "  relative_R2 = np.linalg.norm(net - fdm, 2)/np.linalg.norm(fdm, 2)\n",
      "e:\\Report 12 Some Try\\Main_Diffusion_Reaction\\graphics.py:138: RuntimeWarning: divide by zero encountered in scalar divide\n",
      "  relative_Inf = np.linalg.norm(net - fdm, np.Inf)/np.linalg.norm(fdm, np.Inf)\n"
     ]
    },
    {
     "name": "stdout",
     "output_type": "stream",
     "text": [
      "Training time: 1455.45s-------------------------\n",
      "Fourier_PINN_[64]x3:\n",
      "Epoch: 1/5----------------\n"
     ]
    },
    {
     "name": "stderr",
     "output_type": "stream",
     "text": [
      "100%|██████████| 2000/2000 [03:15<00:00, 10.25it/s, Loss=5.050e-03, PDE=3.471e-04, BC=3.893e-04,6.838e-07, IC=4.288e-03,2.547e-05, D*=9.96e-05,1.39e-06, lr=9.06e-04]\n",
      "e:\\Report 12 Some Try\\Main_Diffusion_Reaction\\pde_system.py:142: RuntimeWarning: divide by zero encountered in scalar divide\n",
      "  relative_R2 = np.linalg.norm(net - fdm, 2)/np.linalg.norm(fdm, 2)\n",
      "e:\\Report 12 Some Try\\Main_Diffusion_Reaction\\pde_system.py:143: RuntimeWarning: divide by zero encountered in scalar divide\n",
      "  relative_Inf = np.linalg.norm(net - fdm, np.Inf)/np.linalg.norm(fdm, np.Inf)\n"
     ]
    },
    {
     "name": "stdout",
     "output_type": "stream",
     "text": [
      "R^2 Error: {'Ni': 0.022, 'SiC': 0.007, 'C': inf, 'NiSi': inf, 'NiSi2': inf}\n",
      "Inf Error: {'Ni': 0.056, 'SiC': 0.046, 'C': inf, 'NiSi': inf, 'NiSi2': inf}\n",
      "Mean Error: (inf, inf)\n",
      "模型已保存至 ./Results/Fourier_PINN_[64]x3/model_save/Fourier_PINN_[64]x3_2000.pth\n",
      "Epoch: 2/5----------------\n"
     ]
    },
    {
     "name": "stderr",
     "output_type": "stream",
     "text": [
      "100%|██████████| 2000/2000 [03:14<00:00, 10.29it/s, Loss=1.821e-03, PDE=1.772e-04, BC=1.608e-06,2.167e-07, IC=1.634e-03,8.281e-06, D*=9.97e-05,7.31e-07, lr=6.56e-04]\n",
      "e:\\Report 12 Some Try\\Main_Diffusion_Reaction\\pde_system.py:142: RuntimeWarning: divide by zero encountered in scalar divide\n",
      "  relative_R2 = np.linalg.norm(net - fdm, 2)/np.linalg.norm(fdm, 2)\n",
      "e:\\Report 12 Some Try\\Main_Diffusion_Reaction\\pde_system.py:143: RuntimeWarning: divide by zero encountered in scalar divide\n",
      "  relative_Inf = np.linalg.norm(net - fdm, np.Inf)/np.linalg.norm(fdm, np.Inf)\n"
     ]
    },
    {
     "name": "stdout",
     "output_type": "stream",
     "text": [
      "R^2 Error: {'Ni': 0.02, 'SiC': 0.004, 'C': inf, 'NiSi': inf, 'NiSi2': inf}\n",
      "Inf Error: {'Ni': 0.06, 'SiC': 0.029, 'C': inf, 'NiSi': inf, 'NiSi2': inf}\n",
      "Mean Error: (inf, inf)\n",
      "模型已保存至 ./Results/Fourier_PINN_[64]x3/model_save/Fourier_PINN_[64]x3_4000.pth\n",
      "Epoch: 3/5----------------\n"
     ]
    },
    {
     "name": "stderr",
     "output_type": "stream",
     "text": [
      "100%|██████████| 2000/2000 [03:14<00:00, 10.28it/s, Loss=1.230e-03, PDE=1.096e-04, BC=3.901e-07,7.937e-08, IC=1.116e-03,4.436e-06, D*=9.98e-05,5.69e-07, lr=3.48e-04]\n",
      "e:\\Report 12 Some Try\\Main_Diffusion_Reaction\\pde_system.py:142: RuntimeWarning: divide by zero encountered in scalar divide\n",
      "  relative_R2 = np.linalg.norm(net - fdm, 2)/np.linalg.norm(fdm, 2)\n",
      "e:\\Report 12 Some Try\\Main_Diffusion_Reaction\\pde_system.py:143: RuntimeWarning: divide by zero encountered in scalar divide\n",
      "  relative_Inf = np.linalg.norm(net - fdm, np.Inf)/np.linalg.norm(fdm, np.Inf)\n"
     ]
    },
    {
     "name": "stdout",
     "output_type": "stream",
     "text": [
      "R^2 Error: {'Ni': 0.019, 'SiC': 0.006, 'C': inf, 'NiSi': inf, 'NiSi2': inf}\n",
      "Inf Error: {'Ni': 0.057, 'SiC': 0.042, 'C': inf, 'NiSi': inf, 'NiSi2': inf}\n",
      "Mean Error: (inf, inf)\n",
      "模型已保存至 ./Results/Fourier_PINN_[64]x3/model_save/Fourier_PINN_[64]x3_6000.pth\n",
      "Epoch: 4/5----------------\n"
     ]
    },
    {
     "name": "stderr",
     "output_type": "stream",
     "text": [
      "100%|██████████| 2000/2000 [03:14<00:00, 10.27it/s, Loss=8.717e-04, PDE=6.686e-05, BC=2.121e-07,7.332e-08, IC=8.016e-04,2.981e-06, D*=9.98e-05,4.57e-07, lr=9.73e-05]\n",
      "e:\\Report 12 Some Try\\Main_Diffusion_Reaction\\pde_system.py:142: RuntimeWarning: divide by zero encountered in scalar divide\n",
      "  relative_R2 = np.linalg.norm(net - fdm, 2)/np.linalg.norm(fdm, 2)\n",
      "e:\\Report 12 Some Try\\Main_Diffusion_Reaction\\pde_system.py:143: RuntimeWarning: divide by zero encountered in scalar divide\n",
      "  relative_Inf = np.linalg.norm(net - fdm, np.Inf)/np.linalg.norm(fdm, np.Inf)\n"
     ]
    },
    {
     "name": "stdout",
     "output_type": "stream",
     "text": [
      "R^2 Error: {'Ni': 0.022, 'SiC': 0.007, 'C': inf, 'NiSi': inf, 'NiSi2': inf}\n",
      "Inf Error: {'Ni': 0.064, 'SiC': 0.05, 'C': inf, 'NiSi': inf, 'NiSi2': inf}\n",
      "Mean Error: (inf, inf)\n",
      "模型已保存至 ./Results/Fourier_PINN_[64]x3/model_save/Fourier_PINN_[64]x3_8000.pth\n",
      "Epoch: 5/5----------------\n"
     ]
    },
    {
     "name": "stderr",
     "output_type": "stream",
     "text": [
      "100%|██████████| 2000/2000 [03:14<00:00, 10.29it/s, Loss=8.020e-04, PDE=6.149e-05, BC=1.979e-07,7.101e-08, IC=7.375e-04,2.787e-06, D*=9.98e-05,4.42e-07, lr=1.00e-06]\n",
      "e:\\Report 12 Some Try\\Main_Diffusion_Reaction\\pde_system.py:142: RuntimeWarning: divide by zero encountered in scalar divide\n",
      "  relative_R2 = np.linalg.norm(net - fdm, 2)/np.linalg.norm(fdm, 2)\n",
      "e:\\Report 12 Some Try\\Main_Diffusion_Reaction\\pde_system.py:143: RuntimeWarning: divide by zero encountered in scalar divide\n",
      "  relative_Inf = np.linalg.norm(net - fdm, np.Inf)/np.linalg.norm(fdm, np.Inf)\n"
     ]
    },
    {
     "name": "stdout",
     "output_type": "stream",
     "text": [
      "R^2 Error: {'Ni': 0.023, 'SiC': 0.008, 'C': inf, 'NiSi': inf, 'NiSi2': inf}\n",
      "Inf Error: {'Ni': 0.065, 'SiC': 0.05, 'C': inf, 'NiSi': inf, 'NiSi2': inf}\n",
      "Mean Error: (inf, inf)\n",
      "模型已保存至 ./Results/Fourier_PINN_[64]x3/model_save/Fourier_PINN_[64]x3_10000.pth\n"
     ]
    },
    {
     "name": "stderr",
     "output_type": "stream",
     "text": [
      "e:\\Report 12 Some Try\\Main_Diffusion_Reaction\\graphics.py:137: RuntimeWarning: divide by zero encountered in scalar divide\n",
      "  relative_R2 = np.linalg.norm(net - fdm, 2)/np.linalg.norm(fdm, 2)\n",
      "e:\\Report 12 Some Try\\Main_Diffusion_Reaction\\graphics.py:138: RuntimeWarning: divide by zero encountered in scalar divide\n",
      "  relative_Inf = np.linalg.norm(net - fdm, np.Inf)/np.linalg.norm(fdm, np.Inf)\n"
     ]
    },
    {
     "name": "stdout",
     "output_type": "stream",
     "text": [
      "Training time: 984.61s-------------------------\n",
      "AF_PINN_[64]x3:\n",
      "Epoch: 1/5----------------\n"
     ]
    },
    {
     "name": "stderr",
     "output_type": "stream",
     "text": [
      "100%|██████████| 2000/2000 [06:10<00:00,  5.40it/s, Loss=3.956e-03, PDE=4.538e-04, BC=1.473e-05,7.925e-07, IC=3.484e-03,2.707e-06, D*=9.97e-05,8.64e-07, lr=9.06e-04]\n",
      "e:\\Report 12 Some Try\\Main_Diffusion_Reaction\\pde_system.py:142: RuntimeWarning: divide by zero encountered in scalar divide\n",
      "  relative_R2 = np.linalg.norm(net - fdm, 2)/np.linalg.norm(fdm, 2)\n",
      "e:\\Report 12 Some Try\\Main_Diffusion_Reaction\\pde_system.py:143: RuntimeWarning: divide by zero encountered in scalar divide\n",
      "  relative_Inf = np.linalg.norm(net - fdm, np.Inf)/np.linalg.norm(fdm, np.Inf)\n"
     ]
    },
    {
     "name": "stdout",
     "output_type": "stream",
     "text": [
      "R^2 Error: {'Ni': 0.029, 'SiC': 0.006, 'C': inf, 'NiSi': inf, 'NiSi2': inf}\n",
      "Inf Error: {'Ni': 0.086, 'SiC': 0.037, 'C': inf, 'NiSi': inf, 'NiSi2': inf}\n",
      "Mean Error: (inf, inf)\n",
      "模型已保存至 ./Results/AF_PINN_[64]x3/model_save/AF_PINN_[64]x3_2000.pth\n",
      "Epoch: 2/5----------------\n"
     ]
    },
    {
     "name": "stderr",
     "output_type": "stream",
     "text": [
      "100%|██████████| 2000/2000 [06:09<00:00,  5.41it/s, Loss=2.024e-03, PDE=2.014e-04, BC=1.848e-06,8.594e-07, IC=1.816e-03,3.459e-06, D*=9.98e-05,8.19e-07, lr=6.56e-04]\n",
      "e:\\Report 12 Some Try\\Main_Diffusion_Reaction\\pde_system.py:142: RuntimeWarning: divide by zero encountered in scalar divide\n",
      "  relative_R2 = np.linalg.norm(net - fdm, 2)/np.linalg.norm(fdm, 2)\n",
      "e:\\Report 12 Some Try\\Main_Diffusion_Reaction\\pde_system.py:143: RuntimeWarning: divide by zero encountered in scalar divide\n",
      "  relative_Inf = np.linalg.norm(net - fdm, np.Inf)/np.linalg.norm(fdm, np.Inf)\n"
     ]
    },
    {
     "name": "stdout",
     "output_type": "stream",
     "text": [
      "R^2 Error: {'Ni': 0.029, 'SiC': 0.006, 'C': inf, 'NiSi': inf, 'NiSi2': inf}\n",
      "Inf Error: {'Ni': 0.083, 'SiC': 0.044, 'C': inf, 'NiSi': inf, 'NiSi2': inf}\n",
      "Mean Error: (inf, inf)\n",
      "模型已保存至 ./Results/AF_PINN_[64]x3/model_save/AF_PINN_[64]x3_4000.pth\n",
      "Epoch: 3/5----------------\n"
     ]
    },
    {
     "name": "stderr",
     "output_type": "stream",
     "text": [
      "100%|██████████| 2000/2000 [06:10<00:00,  5.40it/s, Loss=1.403e-03, PDE=1.425e-04, BC=6.076e-07,2.793e-07, IC=1.256e-03,3.689e-06, D*=9.99e-05,5.03e-07, lr=3.48e-04]\n",
      "e:\\Report 12 Some Try\\Main_Diffusion_Reaction\\pde_system.py:142: RuntimeWarning: divide by zero encountered in scalar divide\n",
      "  relative_R2 = np.linalg.norm(net - fdm, 2)/np.linalg.norm(fdm, 2)\n",
      "e:\\Report 12 Some Try\\Main_Diffusion_Reaction\\pde_system.py:143: RuntimeWarning: divide by zero encountered in scalar divide\n",
      "  relative_Inf = np.linalg.norm(net - fdm, np.Inf)/np.linalg.norm(fdm, np.Inf)\n"
     ]
    },
    {
     "name": "stdout",
     "output_type": "stream",
     "text": [
      "R^2 Error: {'Ni': 0.023, 'SiC': 0.007, 'C': inf, 'NiSi': inf, 'NiSi2': inf}\n",
      "Inf Error: {'Ni': 0.063, 'SiC': 0.05, 'C': inf, 'NiSi': inf, 'NiSi2': inf}\n",
      "Mean Error: (inf, inf)\n",
      "模型已保存至 ./Results/AF_PINN_[64]x3/model_save/AF_PINN_[64]x3_6000.pth\n",
      "Epoch: 4/5----------------\n"
     ]
    },
    {
     "name": "stderr",
     "output_type": "stream",
     "text": [
      "100%|██████████| 2000/2000 [06:10<00:00,  5.40it/s, Loss=1.103e-03, PDE=9.921e-05, BC=6.698e-07,1.299e-07, IC=9.999e-04,3.556e-06, D*=9.99e-05,4.22e-07, lr=9.73e-05]\n",
      "e:\\Report 12 Some Try\\Main_Diffusion_Reaction\\pde_system.py:142: RuntimeWarning: divide by zero encountered in scalar divide\n",
      "  relative_R2 = np.linalg.norm(net - fdm, 2)/np.linalg.norm(fdm, 2)\n",
      "e:\\Report 12 Some Try\\Main_Diffusion_Reaction\\pde_system.py:143: RuntimeWarning: divide by zero encountered in scalar divide\n",
      "  relative_Inf = np.linalg.norm(net - fdm, np.Inf)/np.linalg.norm(fdm, np.Inf)\n"
     ]
    },
    {
     "name": "stdout",
     "output_type": "stream",
     "text": [
      "R^2 Error: {'Ni': 0.019, 'SiC': 0.006, 'C': inf, 'NiSi': inf, 'NiSi2': inf}\n",
      "Inf Error: {'Ni': 0.053, 'SiC': 0.041, 'C': inf, 'NiSi': inf, 'NiSi2': inf}\n",
      "Mean Error: (inf, inf)\n",
      "模型已保存至 ./Results/AF_PINN_[64]x3/model_save/AF_PINN_[64]x3_8000.pth\n",
      "Epoch: 5/5----------------\n"
     ]
    },
    {
     "name": "stderr",
     "output_type": "stream",
     "text": [
      "100%|██████████| 2000/2000 [06:12<00:00,  5.37it/s, Loss=1.035e-03, PDE=9.419e-05, BC=8.012e-07,1.484e-07, IC=9.360e-04,4.012e-06, D*=9.99e-05,4.20e-07, lr=1.00e-06]\n",
      "e:\\Report 12 Some Try\\Main_Diffusion_Reaction\\pde_system.py:142: RuntimeWarning: divide by zero encountered in scalar divide\n",
      "  relative_R2 = np.linalg.norm(net - fdm, 2)/np.linalg.norm(fdm, 2)\n",
      "e:\\Report 12 Some Try\\Main_Diffusion_Reaction\\pde_system.py:143: RuntimeWarning: divide by zero encountered in scalar divide\n",
      "  relative_Inf = np.linalg.norm(net - fdm, np.Inf)/np.linalg.norm(fdm, np.Inf)\n"
     ]
    },
    {
     "name": "stdout",
     "output_type": "stream",
     "text": [
      "R^2 Error: {'Ni': 0.019, 'SiC': 0.005, 'C': inf, 'NiSi': inf, 'NiSi2': inf}\n",
      "Inf Error: {'Ni': 0.054, 'SiC': 0.04, 'C': inf, 'NiSi': inf, 'NiSi2': inf}\n",
      "Mean Error: (inf, inf)\n",
      "模型已保存至 ./Results/AF_PINN_[64]x3/model_save/AF_PINN_[64]x3_10000.pth\n"
     ]
    },
    {
     "name": "stderr",
     "output_type": "stream",
     "text": [
      "e:\\Report 12 Some Try\\Main_Diffusion_Reaction\\graphics.py:137: RuntimeWarning: divide by zero encountered in scalar divide\n",
      "  relative_R2 = np.linalg.norm(net - fdm, 2)/np.linalg.norm(fdm, 2)\n",
      "e:\\Report 12 Some Try\\Main_Diffusion_Reaction\\graphics.py:138: RuntimeWarning: divide by zero encountered in scalar divide\n",
      "  relative_Inf = np.linalg.norm(net - fdm, np.Inf)/np.linalg.norm(fdm, np.Inf)\n"
     ]
    },
    {
     "name": "stdout",
     "output_type": "stream",
     "text": [
      "Training time: 1867.30s-------------------------\n"
     ]
    }
   ],
   "source": [
    "L = 600.0\n",
    "h = 100.0\n",
    "anneal_time= 0.1\n",
    "D_A = 360.0  #6nm^2/s 360nm^2/min\n",
    "k11,k12,k21 = 0.0,0.0,0.0\n",
    "N_SA,N_SB,N_SC,N_SAB,N_SABB,N_SAAB = 90.0,48.0,90.0,90.0,90.0,90.0\n",
    "\n",
    "geom = [0,L]\n",
    "time = [0,anneal_time]\n",
    "\n",
    "##How I genertate data\n",
    "generator = DataGenerator(geom,time)\n",
    "\n",
    "from torch._tensor import Tensor\n",
    "from pde_system import compute_pde, compute_bc, compute_ic,relative_error\n",
    "from graphics import plot_loss_curve,plot_relative_concen,plot_3d_concen\n",
    "# from Utilitiy.residual_adaptive_resample import select_high_loss_points\n",
    "\n",
    "def get_points(N:list) -> tuple[Tensor, Tensor, Tensor, Tensor]: \n",
    "    coords_pde =  generator.LHS_generator(N[0], points_type = 'domain' , nondim= True) \n",
    "    coords_bc1 =  generator.LHS_generator(N[1], points_type = 'left_bc' , nondim= True) \n",
    "    coords_bc2 =  generator.LHS_generator(N[1], points_type = 'right_bc' , nondim= True) \n",
    "    coords_ic =  generator.LHS_generator(N[2], points_type = 'initial' , nondim= True) \n",
    "    return coords_pde, coords_bc1, coords_bc2, coords_ic\n",
    "\n",
    "N = [15000, 3000, 4000]\n",
    "\n",
    "from torch import Tensor\n",
    "\n",
    "\n",
    "hiddens = [3]  ##[3,4] already finished\n",
    "neurons = [64]\n",
    "\n",
    "activation = torch.nn.functional.tanh\n",
    "\n",
    "start_lr = 1e-3\n",
    "end_lr = 1e-6\n",
    "\n",
    "weight = [1, 1, 1, 1, 1, 1]\n",
    "for hidden in hiddens:\n",
    "    for neuron in neurons:\n",
    "        for mode in ['PINN', 'IA_PINN','Fourier_PINN', 'AF_PINN']:  ##['PINN', 'IA_PINN', 'Fourier_PINN', 'AF_PINN']\n",
    "\n",
    "            layer = [2] + [neuron]*hidden + [6]\n",
    "            \n",
    "            star_time = timeit.default_timer()\n",
    "            num_epochs = 2000\n",
    "            sub_spochs = 5\n",
    "\n",
    "            loss_log_total,loss_log_pde, loss_log_bc, loss_log_ic = [],[],[],[]\n",
    "            torch.cuda.empty_cache()\n",
    "            print(f'{mode}_[{neuron}]x{hidden}:')\n",
    "            \n",
    "            if mode == 'PINN':\n",
    "                model = PINN(layer,activation,non_negative=True).to(device)\n",
    "                optimizer = optim.Adam(model.parameters(), lr=start_lr)  \n",
    "                scheduler = optim.lr_scheduler.CosineAnnealingLR(optimizer, T_max=num_epochs * sub_spochs, eta_min=end_lr)\n",
    "            elif mode == 'IA_PINN':\n",
    "                model = Attention_PINN(layer,activation,non_negative=True).to(device)\n",
    "                optimizer = optim.Adam(model.parameters(), lr=start_lr)  \n",
    "                scheduler = optim.lr_scheduler.CosineAnnealingLR(optimizer, T_max=num_epochs * sub_spochs, eta_min=end_lr)\n",
    "            elif mode == 'Fourier_PINN':\n",
    "                model = Fourier_PINN(layer,non_negative=True, activation= activation, use_rff=True, rff_num_features=2*neuron, rff_sigma=1.0).to(device)\n",
    "                optimizer = optim.Adam(model.parameters(), lr=start_lr)  \n",
    "                scheduler = optim.lr_scheduler.CosineAnnealingLR(optimizer, T_max=num_epochs * sub_spochs, eta_min=end_lr)\n",
    "            elif mode == 'AF_PINN':\n",
    "                model = AF_PINN(layer, non_negative=True,activation = activation, use_rff=True, rff_num_features=2*neuron, rff_sigma=1.0).to(device)\n",
    "                optimizer = optim.Adam(model.parameters(), lr=start_lr)  \n",
    "                scheduler = optim.lr_scheduler.CosineAnnealingLR(optimizer, T_max=num_epochs * sub_spochs, eta_min=end_lr)\n",
    "            else:\n",
    "                print(\"Man! What can I say! Wrong Mode!!!\")\n",
    "                break            \n",
    "            points_types = ['domain', 'left_bc', 'right_bc', 'initial']\n",
    "            coords_pde, coords_bc1, coords_bc2, coords_ic = get_points(N)    \n",
    "            # coords_pde, coords_bc1, coords_bc2, coords_ic = [\n",
    "            #     generator.grid_generator(2500 if pt in ['left_bc', 'right_bc'] else 10201, points_type=pt, nondim= True) \n",
    "            #     for pt in points_types\n",
    "            # ]\n",
    "            # Since x = [0,200] is interphase-boundary area, we should add my sample points in this area.\n",
    "            # area_enhance = generator.LHS_local_enhance(N = 5000, points_type='domain',enhance_area=[[0,200],[0,60]],nondim= True)\n",
    "\n",
    "            # coords_pde = torch.cat((coords_pde, area_enhance), dim=0)\n",
    "\n",
    "            for idx in range(sub_spochs):\n",
    "                print(f'Epoch: {idx+1}/{sub_spochs}----------------')\n",
    "                model.train()\n",
    "                \n",
    "                pbar = tqdm(range(num_epochs))\n",
    "                for epoch in pbar:\n",
    "                    current_lr = optimizer.param_groups[0]['lr'] \n",
    "                    def closure() -> Tensor:\n",
    "                        global loss_pde, D_star, loss_bc1, loss_bc2, loss_ic1, loss_ic2\n",
    "                        optimizer.zero_grad()\n",
    "\n",
    "                        # 计算损失时使用batch数据\n",
    "                        loss_eq1, loss_eq2, loss_eq3, loss_eq4, loss_eq5, loss_eq6, D_star = compute_pde(model, coords_pde, anneal_time=anneal_time)\n",
    "                        loss_pde = loss_eq1 + loss_eq2 + loss_eq3 + loss_eq4 + loss_eq5 + loss_eq6\n",
    "                        loss_bc1 = compute_bc(model, coords_bc1)\n",
    "                        loss_bc2 = compute_bc(model, coords_bc2)\n",
    "                        loss_ic1, loss_ic2 = compute_ic(model, coords_ic)\n",
    "\n",
    "                        #Give a weight to initial loss term\n",
    "                        loss = weight[0]*loss_pde +  weight[1]*loss_bc1 +  weight[2]*loss_bc2 +  weight[3]*loss_ic1 +  weight[4]*loss_ic2 \n",
    "\n",
    "                        loss.backward()\n",
    "                        torch.nn.utils.clip_grad_norm_(model.parameters(), max_norm=1.0, norm_type= 2)\n",
    "                        return loss\n",
    "\n",
    "                    optimizer.step(closure)\n",
    "                    \n",
    "                    # 如果使用scheduler（只在Adam阶段）\n",
    "                    if scheduler is not None:\n",
    "                        scheduler.step()\n",
    "                    \n",
    "                    loss_total = weight[0]*loss_pde +  weight[1]*loss_bc1 +  weight[2]*loss_bc2 +  weight[3]*loss_ic1 +  weight[4]*loss_ic2 \n",
    "\n",
    "                    loss_log_total.append(loss_total.item())\n",
    "                    loss_log_pde.append(loss_pde.item())\n",
    "                    loss_log_bc.append(loss_bc1.item() + loss_bc2.item())\n",
    "                    loss_log_ic.append(loss_ic1.item() + loss_ic2.item())\n",
    "                    \n",
    "                    if epoch % 10 == 0:\n",
    "                        pbar.set_postfix({\n",
    "                            'Loss': '{0:.3e}'.format(loss_total),\n",
    "                            'PDE': '{0:.3e}'.format(weight[0]*loss_pde.item()),\n",
    "                            'BC': '{0:.3e},{1:.3e}'.format(weight[1]*loss_bc1.item(),weight[2]*loss_bc2.item()),\n",
    "                            'IC': '{0:.3e},{1:.3e}'.format(weight[3]*loss_ic1.item(),weight[4]*loss_ic2.item()),\n",
    "                            'D*': '{0:.2e},{1:.2e}'.format(torch.max(D_star),torch.min(D_star)),\n",
    "                            'lr': '{0:.2e}'.format(current_lr),\n",
    "                        })        \n",
    "                    # # 将四个张量放在一个列表中并随机打乱\n",
    "                    shuffled_tensors = [tensor[torch.randperm(tensor.size(0))] for tensor in [coords_pde, coords_bc1, coords_bc2, coords_ic]]\n",
    "\n",
    "                    # 解包到四个变量中\n",
    "                    coords_pde, coords_bc1, coords_bc2, coords_ic = shuffled_tensors\n",
    "                \n",
    "                    if torch.isnan(loss_total):\n",
    "                        print('Loss is Nan, please check your model parameters')\n",
    "                        break\n",
    "                \n",
    "                true_path = './FDM/range[0,1]_01/'\n",
    "                file_names = ['u1_output.csv','u2_output.csv','u3_output.csv','u4_output.csv','u5_output.csv','u6_output.csv']\n",
    "                true_data = [pd.read_csv(true_path + file_name,header=None) for file_name in file_names]\n",
    "\n",
    "                model.eval()\n",
    "                val_data = generator.grid_generator(N=10201, points_type= 'domain', nondim= True)\n",
    "                result = model(val_data).data.cpu().numpy()\n",
    "                relative_error(result,true_data)\n",
    "\n",
    "                ##模型储存\n",
    "                save_path = f'./Results/{mode}_[{neuron}]x{hidden}/model_save/'\n",
    "                os.makedirs(save_path, exist_ok=True)  # 确保保存路径存在\n",
    "                # 指定模型文件名\n",
    "                model_file = os.path.join(save_path, f'{mode}_[{neuron}]x{hidden}_{(idx+1)*num_epochs}.pth')\n",
    "                # 保存模型\n",
    "                torch.save(model.state_dict(), model_file)\n",
    "                print(f\"模型已保存至 {model_file}\")\n",
    "            \n",
    "            # 绘制结果\n",
    "            plot_loss_curve(f'{mode}_[{neuron}]x{hidden}',loss_log_total,loss_log_pde, loss_log_bc, loss_log_ic)\n",
    "            \n",
    "            plot_relative_concen(f'{mode}_[{neuron}]x{hidden}',result,data_save=True)\n",
    "            \n",
    "            plot_3d_concen(f'{mode}_[{neuron}]x{hidden}', result, true_data)\n",
    "\n",
    "            Training_time = timeit.default_timer() - star_time\n",
    "            print(f'Training time: {Training_time:.2f}s-------------------------')\n"
   ]
  },
  {
   "cell_type": "code",
   "execution_count": 3,
   "metadata": {},
   "outputs": [
    {
     "name": "stdout",
     "output_type": "stream",
     "text": [
      "PINN_[96]x3:\n",
      "Epoch: 1/5----------------\n"
     ]
    },
    {
     "name": "stderr",
     "output_type": "stream",
     "text": [
      "100%|██████████| 2000/2000 [02:18<00:00, 14.45it/s, Loss=3.209e-02, PDE=3.589e-03, BC=2.065e-03,2.416e-05, IC=2.613e-02,2.848e-04, D*=9.97e-03,5.35e-04, lr=9.06e-04]\n",
      "e:\\Report 12 Some Try\\Main_Diffusion_Reaction\\pde_system.py:142: RuntimeWarning: divide by zero encountered in scalar divide\n",
      "  relative_R2 = np.linalg.norm(net - fdm, 2)/np.linalg.norm(fdm, 2)\n",
      "e:\\Report 12 Some Try\\Main_Diffusion_Reaction\\pde_system.py:143: RuntimeWarning: divide by zero encountered in scalar divide\n",
      "  relative_Inf = np.linalg.norm(net - fdm, np.Inf)/np.linalg.norm(fdm, np.Inf)\n"
     ]
    },
    {
     "name": "stdout",
     "output_type": "stream",
     "text": [
      "R^2 Error: {'Ni': 0.117, 'SiC': 0.023, 'C': inf, 'NiSi': inf, 'NiSi2': inf}\n",
      "Inf Error: {'Ni': 0.129, 'SiC': 0.075, 'C': inf, 'NiSi': inf, 'NiSi2': inf}\n",
      "Mean Error: (inf, inf)\n",
      "模型已保存至 ./Results/PINN_[96]x3/model_save/PINN_[96]x3_2000.pth\n",
      "Epoch: 2/5----------------\n"
     ]
    },
    {
     "name": "stderr",
     "output_type": "stream",
     "text": [
      "100%|██████████| 2000/2000 [02:17<00:00, 14.51it/s, Loss=1.458e-02, PDE=2.203e-03, BC=1.156e-04,4.016e-06, IC=1.213e-02,1.307e-04, D*=9.99e-03,2.42e-04, lr=6.56e-04]\n",
      "e:\\Report 12 Some Try\\Main_Diffusion_Reaction\\pde_system.py:142: RuntimeWarning: divide by zero encountered in scalar divide\n",
      "  relative_R2 = np.linalg.norm(net - fdm, 2)/np.linalg.norm(fdm, 2)\n",
      "e:\\Report 12 Some Try\\Main_Diffusion_Reaction\\pde_system.py:143: RuntimeWarning: divide by zero encountered in scalar divide\n",
      "  relative_Inf = np.linalg.norm(net - fdm, np.Inf)/np.linalg.norm(fdm, np.Inf)\n"
     ]
    },
    {
     "name": "stdout",
     "output_type": "stream",
     "text": [
      "R^2 Error: {'Ni': 0.062, 'SiC': 0.014, 'C': inf, 'NiSi': inf, 'NiSi2': inf}\n",
      "Inf Error: {'Ni': 0.077, 'SiC': 0.048, 'C': inf, 'NiSi': inf, 'NiSi2': inf}\n",
      "Mean Error: (inf, inf)\n",
      "模型已保存至 ./Results/PINN_[96]x3/model_save/PINN_[96]x3_4000.pth\n",
      "Epoch: 3/5----------------\n"
     ]
    },
    {
     "name": "stderr",
     "output_type": "stream",
     "text": [
      "100%|██████████| 2000/2000 [02:18<00:00, 14.46it/s, Loss=8.192e-03, PDE=1.464e-03, BC=5.280e-05,4.377e-06, IC=6.619e-03,5.250e-05, D*=9.99e-03,1.46e-04, lr=3.48e-04]\n",
      "e:\\Report 12 Some Try\\Main_Diffusion_Reaction\\pde_system.py:142: RuntimeWarning: divide by zero encountered in scalar divide\n",
      "  relative_R2 = np.linalg.norm(net - fdm, 2)/np.linalg.norm(fdm, 2)\n",
      "e:\\Report 12 Some Try\\Main_Diffusion_Reaction\\pde_system.py:143: RuntimeWarning: divide by zero encountered in scalar divide\n",
      "  relative_Inf = np.linalg.norm(net - fdm, np.Inf)/np.linalg.norm(fdm, np.Inf)\n"
     ]
    },
    {
     "name": "stdout",
     "output_type": "stream",
     "text": [
      "R^2 Error: {'Ni': 0.049, 'SiC': 0.01, 'C': inf, 'NiSi': inf, 'NiSi2': inf}\n",
      "Inf Error: {'Ni': 0.063, 'SiC': 0.035, 'C': inf, 'NiSi': inf, 'NiSi2': inf}\n",
      "Mean Error: (inf, inf)\n",
      "模型已保存至 ./Results/PINN_[96]x3/model_save/PINN_[96]x3_6000.pth\n",
      "Epoch: 4/5----------------\n"
     ]
    },
    {
     "name": "stderr",
     "output_type": "stream",
     "text": [
      "100%|██████████| 2000/2000 [02:18<00:00, 14.49it/s, Loss=5.298e-03, PDE=7.799e-04, BC=1.297e-05,1.721e-06, IC=4.478e-03,2.486e-05, D*=1.00e-02,1.15e-04, lr=9.73e-05]\n",
      "e:\\Report 12 Some Try\\Main_Diffusion_Reaction\\pde_system.py:142: RuntimeWarning: divide by zero encountered in scalar divide\n",
      "  relative_R2 = np.linalg.norm(net - fdm, 2)/np.linalg.norm(fdm, 2)\n",
      "e:\\Report 12 Some Try\\Main_Diffusion_Reaction\\pde_system.py:143: RuntimeWarning: divide by zero encountered in scalar divide\n",
      "  relative_Inf = np.linalg.norm(net - fdm, np.Inf)/np.linalg.norm(fdm, np.Inf)\n"
     ]
    },
    {
     "name": "stdout",
     "output_type": "stream",
     "text": [
      "R^2 Error: {'Ni': 0.051, 'SiC': 0.017, 'C': inf, 'NiSi': inf, 'NiSi2': inf}\n",
      "Inf Error: {'Ni': 0.065, 'SiC': 0.053, 'C': inf, 'NiSi': inf, 'NiSi2': inf}\n",
      "Mean Error: (inf, inf)\n",
      "模型已保存至 ./Results/PINN_[96]x3/model_save/PINN_[96]x3_8000.pth\n",
      "Epoch: 5/5----------------\n"
     ]
    },
    {
     "name": "stderr",
     "output_type": "stream",
     "text": [
      "100%|██████████| 2000/2000 [02:17<00:00, 14.50it/s, Loss=4.799e-03, PDE=6.630e-04, BC=9.976e-06,1.384e-06, IC=4.103e-03,2.209e-05, D*=1.00e-02,1.12e-04, lr=1.00e-06]\n",
      "e:\\Report 12 Some Try\\Main_Diffusion_Reaction\\pde_system.py:142: RuntimeWarning: divide by zero encountered in scalar divide\n",
      "  relative_R2 = np.linalg.norm(net - fdm, 2)/np.linalg.norm(fdm, 2)\n",
      "e:\\Report 12 Some Try\\Main_Diffusion_Reaction\\pde_system.py:143: RuntimeWarning: divide by zero encountered in scalar divide\n",
      "  relative_Inf = np.linalg.norm(net - fdm, np.Inf)/np.linalg.norm(fdm, np.Inf)\n"
     ]
    },
    {
     "name": "stdout",
     "output_type": "stream",
     "text": [
      "R^2 Error: {'Ni': 0.052, 'SiC': 0.018, 'C': inf, 'NiSi': inf, 'NiSi2': inf}\n",
      "Inf Error: {'Ni': 0.067, 'SiC': 0.055, 'C': inf, 'NiSi': inf, 'NiSi2': inf}\n",
      "Mean Error: (inf, inf)\n",
      "模型已保存至 ./Results/PINN_[96]x3/model_save/PINN_[96]x3_10000.pth\n"
     ]
    },
    {
     "name": "stderr",
     "output_type": "stream",
     "text": [
      "e:\\Report 12 Some Try\\Main_Diffusion_Reaction\\graphics.py:137: RuntimeWarning: divide by zero encountered in scalar divide\n",
      "  relative_R2 = np.linalg.norm(net - fdm, 2)/np.linalg.norm(fdm, 2)\n",
      "e:\\Report 12 Some Try\\Main_Diffusion_Reaction\\graphics.py:138: RuntimeWarning: divide by zero encountered in scalar divide\n",
      "  relative_Inf = np.linalg.norm(net - fdm, np.Inf)/np.linalg.norm(fdm, np.Inf)\n"
     ]
    },
    {
     "name": "stdout",
     "output_type": "stream",
     "text": [
      "Training time: 704.34s-------------------------\n",
      "IA_PINN_[96]x3:\n",
      "Epoch: 1/5----------------\n"
     ]
    },
    {
     "name": "stderr",
     "output_type": "stream",
     "text": [
      "100%|██████████| 2000/2000 [05:37<00:00,  5.93it/s, Loss=1.806e-02, PDE=2.671e-03, BC=8.034e-04,7.072e-06, IC=1.446e-02,1.175e-04, D*=1.00e-02,3.55e-04, lr=9.06e-04]\n",
      "e:\\Report 12 Some Try\\Main_Diffusion_Reaction\\pde_system.py:142: RuntimeWarning: divide by zero encountered in scalar divide\n",
      "  relative_R2 = np.linalg.norm(net - fdm, 2)/np.linalg.norm(fdm, 2)\n",
      "e:\\Report 12 Some Try\\Main_Diffusion_Reaction\\pde_system.py:143: RuntimeWarning: divide by zero encountered in scalar divide\n",
      "  relative_Inf = np.linalg.norm(net - fdm, np.Inf)/np.linalg.norm(fdm, np.Inf)\n"
     ]
    },
    {
     "name": "stdout",
     "output_type": "stream",
     "text": [
      "R^2 Error: {'Ni': 0.079, 'SiC': 0.017, 'C': inf, 'NiSi': inf, 'NiSi2': inf}\n",
      "Inf Error: {'Ni': 0.087, 'SiC': 0.056, 'C': inf, 'NiSi': inf, 'NiSi2': inf}\n",
      "Mean Error: (inf, inf)\n",
      "模型已保存至 ./Results/IA_PINN_[96]x3/model_save/IA_PINN_[96]x3_2000.pth\n",
      "Epoch: 2/5----------------\n"
     ]
    },
    {
     "name": "stderr",
     "output_type": "stream",
     "text": [
      "100%|██████████| 2000/2000 [05:34<00:00,  5.98it/s, Loss=8.165e-03, PDE=1.310e-03, BC=4.092e-04,1.600e-06, IC=6.383e-03,6.186e-05, D*=1.00e-02,2.23e-04, lr=6.56e-04]\n",
      "e:\\Report 12 Some Try\\Main_Diffusion_Reaction\\pde_system.py:142: RuntimeWarning: divide by zero encountered in scalar divide\n",
      "  relative_R2 = np.linalg.norm(net - fdm, 2)/np.linalg.norm(fdm, 2)\n",
      "e:\\Report 12 Some Try\\Main_Diffusion_Reaction\\pde_system.py:143: RuntimeWarning: divide by zero encountered in scalar divide\n",
      "  relative_Inf = np.linalg.norm(net - fdm, np.Inf)/np.linalg.norm(fdm, np.Inf)\n"
     ]
    },
    {
     "name": "stdout",
     "output_type": "stream",
     "text": [
      "R^2 Error: {'Ni': 0.048, 'SiC': 0.014, 'C': inf, 'NiSi': inf, 'NiSi2': inf}\n",
      "Inf Error: {'Ni': 0.056, 'SiC': 0.046, 'C': inf, 'NiSi': inf, 'NiSi2': inf}\n",
      "Mean Error: (inf, inf)\n",
      "模型已保存至 ./Results/IA_PINN_[96]x3/model_save/IA_PINN_[96]x3_4000.pth\n",
      "Epoch: 3/5----------------\n"
     ]
    },
    {
     "name": "stderr",
     "output_type": "stream",
     "text": [
      "100%|██████████| 2000/2000 [05:34<00:00,  5.98it/s, Loss=3.865e-03, PDE=5.450e-04, BC=1.964e-05,9.987e-07, IC=3.264e-03,3.504e-05, D*=1.00e-02,1.79e-04, lr=3.48e-04]\n",
      "e:\\Report 12 Some Try\\Main_Diffusion_Reaction\\pde_system.py:142: RuntimeWarning: divide by zero encountered in scalar divide\n",
      "  relative_R2 = np.linalg.norm(net - fdm, 2)/np.linalg.norm(fdm, 2)\n",
      "e:\\Report 12 Some Try\\Main_Diffusion_Reaction\\pde_system.py:143: RuntimeWarning: divide by zero encountered in scalar divide\n",
      "  relative_Inf = np.linalg.norm(net - fdm, np.Inf)/np.linalg.norm(fdm, np.Inf)\n"
     ]
    },
    {
     "name": "stdout",
     "output_type": "stream",
     "text": [
      "R^2 Error: {'Ni': 0.032, 'SiC': 0.016, 'C': inf, 'NiSi': inf, 'NiSi2': inf}\n",
      "Inf Error: {'Ni': 0.04, 'SiC': 0.052, 'C': inf, 'NiSi': inf, 'NiSi2': inf}\n",
      "Mean Error: (inf, inf)\n",
      "模型已保存至 ./Results/IA_PINN_[96]x3/model_save/IA_PINN_[96]x3_6000.pth\n",
      "Epoch: 4/5----------------\n"
     ]
    },
    {
     "name": "stderr",
     "output_type": "stream",
     "text": [
      "100%|██████████| 2000/2000 [05:35<00:00,  5.96it/s, Loss=2.655e-03, PDE=3.039e-04, BC=9.110e-06,4.720e-07, IC=2.315e-03,2.638e-05, D*=1.00e-02,1.48e-04, lr=9.73e-05]\n",
      "e:\\Report 12 Some Try\\Main_Diffusion_Reaction\\pde_system.py:142: RuntimeWarning: divide by zero encountered in scalar divide\n",
      "  relative_R2 = np.linalg.norm(net - fdm, 2)/np.linalg.norm(fdm, 2)\n",
      "e:\\Report 12 Some Try\\Main_Diffusion_Reaction\\pde_system.py:143: RuntimeWarning: divide by zero encountered in scalar divide\n",
      "  relative_Inf = np.linalg.norm(net - fdm, np.Inf)/np.linalg.norm(fdm, np.Inf)\n"
     ]
    },
    {
     "name": "stdout",
     "output_type": "stream",
     "text": [
      "R^2 Error: {'Ni': 0.028, 'SiC': 0.016, 'C': inf, 'NiSi': inf, 'NiSi2': inf}\n",
      "Inf Error: {'Ni': 0.036, 'SiC': 0.052, 'C': inf, 'NiSi': inf, 'NiSi2': inf}\n",
      "Mean Error: (inf, inf)\n",
      "模型已保存至 ./Results/IA_PINN_[96]x3/model_save/IA_PINN_[96]x3_8000.pth\n",
      "Epoch: 5/5----------------\n"
     ]
    },
    {
     "name": "stderr",
     "output_type": "stream",
     "text": [
      "100%|██████████| 2000/2000 [05:35<00:00,  5.96it/s, Loss=2.437e-03, PDE=2.697e-04, BC=8.273e-06,4.720e-07, IC=2.134e-03,2.488e-05, D*=1.00e-02,1.46e-04, lr=1.00e-06]\n",
      "e:\\Report 12 Some Try\\Main_Diffusion_Reaction\\pde_system.py:142: RuntimeWarning: divide by zero encountered in scalar divide\n",
      "  relative_R2 = np.linalg.norm(net - fdm, 2)/np.linalg.norm(fdm, 2)\n",
      "e:\\Report 12 Some Try\\Main_Diffusion_Reaction\\pde_system.py:143: RuntimeWarning: divide by zero encountered in scalar divide\n",
      "  relative_Inf = np.linalg.norm(net - fdm, np.Inf)/np.linalg.norm(fdm, np.Inf)\n"
     ]
    },
    {
     "name": "stdout",
     "output_type": "stream",
     "text": [
      "R^2 Error: {'Ni': 0.027, 'SiC': 0.017, 'C': inf, 'NiSi': inf, 'NiSi2': inf}\n",
      "Inf Error: {'Ni': 0.035, 'SiC': 0.052, 'C': inf, 'NiSi': inf, 'NiSi2': inf}\n",
      "Mean Error: (inf, inf)\n",
      "模型已保存至 ./Results/IA_PINN_[96]x3/model_save/IA_PINN_[96]x3_10000.pth\n"
     ]
    },
    {
     "name": "stderr",
     "output_type": "stream",
     "text": [
      "e:\\Report 12 Some Try\\Main_Diffusion_Reaction\\graphics.py:137: RuntimeWarning: divide by zero encountered in scalar divide\n",
      "  relative_R2 = np.linalg.norm(net - fdm, 2)/np.linalg.norm(fdm, 2)\n",
      "e:\\Report 12 Some Try\\Main_Diffusion_Reaction\\graphics.py:138: RuntimeWarning: divide by zero encountered in scalar divide\n",
      "  relative_Inf = np.linalg.norm(net - fdm, np.Inf)/np.linalg.norm(fdm, np.Inf)\n"
     ]
    },
    {
     "name": "stdout",
     "output_type": "stream",
     "text": [
      "Training time: 1689.29s-------------------------\n",
      "Fourier_PINN_[96]x3:\n",
      "Epoch: 1/5----------------\n"
     ]
    },
    {
     "name": "stderr",
     "output_type": "stream",
     "text": [
      "100%|██████████| 2000/2000 [03:59<00:00,  8.34it/s, Loss=1.062e-02, PDE=1.614e-03, BC=9.136e-05,3.042e-05, IC=8.695e-03,1.850e-04, D*=9.98e-03,5.53e-04, lr=9.06e-04]\n",
      "e:\\Report 12 Some Try\\Main_Diffusion_Reaction\\pde_system.py:142: RuntimeWarning: divide by zero encountered in scalar divide\n",
      "  relative_R2 = np.linalg.norm(net - fdm, 2)/np.linalg.norm(fdm, 2)\n",
      "e:\\Report 12 Some Try\\Main_Diffusion_Reaction\\pde_system.py:143: RuntimeWarning: divide by zero encountered in scalar divide\n",
      "  relative_Inf = np.linalg.norm(net - fdm, np.Inf)/np.linalg.norm(fdm, np.Inf)\n"
     ]
    },
    {
     "name": "stdout",
     "output_type": "stream",
     "text": [
      "R^2 Error: {'Ni': 0.04, 'SiC': 0.015, 'C': inf, 'NiSi': inf, 'NiSi2': inf}\n",
      "Inf Error: {'Ni': 0.049, 'SiC': 0.042, 'C': inf, 'NiSi': inf, 'NiSi2': inf}\n",
      "Mean Error: (inf, inf)\n",
      "模型已保存至 ./Results/Fourier_PINN_[96]x3/model_save/Fourier_PINN_[96]x3_2000.pth\n",
      "Epoch: 2/5----------------\n"
     ]
    },
    {
     "name": "stderr",
     "output_type": "stream",
     "text": [
      "100%|██████████| 2000/2000 [04:00<00:00,  8.33it/s, Loss=8.075e-03, PDE=1.168e-03, BC=2.738e-05,4.025e-06, IC=6.827e-03,4.846e-05, D*=9.98e-03,2.90e-04, lr=6.56e-04]\n",
      "e:\\Report 12 Some Try\\Main_Diffusion_Reaction\\pde_system.py:142: RuntimeWarning: divide by zero encountered in scalar divide\n",
      "  relative_R2 = np.linalg.norm(net - fdm, 2)/np.linalg.norm(fdm, 2)\n",
      "e:\\Report 12 Some Try\\Main_Diffusion_Reaction\\pde_system.py:143: RuntimeWarning: divide by zero encountered in scalar divide\n",
      "  relative_Inf = np.linalg.norm(net - fdm, np.Inf)/np.linalg.norm(fdm, np.Inf)\n"
     ]
    },
    {
     "name": "stdout",
     "output_type": "stream",
     "text": [
      "R^2 Error: {'Ni': 0.024, 'SiC': 0.011, 'C': inf, 'NiSi': inf, 'NiSi2': inf}\n",
      "Inf Error: {'Ni': 0.03, 'SiC': 0.031, 'C': inf, 'NiSi': inf, 'NiSi2': inf}\n",
      "Mean Error: (inf, inf)\n",
      "模型已保存至 ./Results/Fourier_PINN_[96]x3/model_save/Fourier_PINN_[96]x3_4000.pth\n",
      "Epoch: 3/5----------------\n"
     ]
    },
    {
     "name": "stderr",
     "output_type": "stream",
     "text": [
      "100%|██████████| 2000/2000 [03:59<00:00,  8.37it/s, Loss=3.112e-03, PDE=1.947e-04, BC=1.848e-06,3.696e-07, IC=2.880e-03,3.501e-05, D*=9.98e-03,2.74e-04, lr=3.48e-04]\n",
      "e:\\Report 12 Some Try\\Main_Diffusion_Reaction\\pde_system.py:142: RuntimeWarning: divide by zero encountered in scalar divide\n",
      "  relative_R2 = np.linalg.norm(net - fdm, 2)/np.linalg.norm(fdm, 2)\n",
      "e:\\Report 12 Some Try\\Main_Diffusion_Reaction\\pde_system.py:143: RuntimeWarning: divide by zero encountered in scalar divide\n",
      "  relative_Inf = np.linalg.norm(net - fdm, np.Inf)/np.linalg.norm(fdm, np.Inf)\n"
     ]
    },
    {
     "name": "stdout",
     "output_type": "stream",
     "text": [
      "R^2 Error: {'Ni': 0.025, 'SiC': 0.007, 'C': inf, 'NiSi': inf, 'NiSi2': inf}\n",
      "Inf Error: {'Ni': 0.032, 'SiC': 0.024, 'C': inf, 'NiSi': inf, 'NiSi2': inf}\n",
      "Mean Error: (inf, inf)\n",
      "模型已保存至 ./Results/Fourier_PINN_[96]x3/model_save/Fourier_PINN_[96]x3_6000.pth\n",
      "Epoch: 4/5----------------\n"
     ]
    },
    {
     "name": "stderr",
     "output_type": "stream",
     "text": [
      "100%|██████████| 2000/2000 [03:58<00:00,  8.40it/s, Loss=2.101e-03, PDE=1.304e-04, BC=1.244e-06,5.493e-07, IC=1.958e-03,1.113e-05, D*=9.98e-03,1.81e-04, lr=9.73e-05]\n",
      "e:\\Report 12 Some Try\\Main_Diffusion_Reaction\\pde_system.py:142: RuntimeWarning: divide by zero encountered in scalar divide\n",
      "  relative_R2 = np.linalg.norm(net - fdm, 2)/np.linalg.norm(fdm, 2)\n",
      "e:\\Report 12 Some Try\\Main_Diffusion_Reaction\\pde_system.py:143: RuntimeWarning: divide by zero encountered in scalar divide\n",
      "  relative_Inf = np.linalg.norm(net - fdm, np.Inf)/np.linalg.norm(fdm, np.Inf)\n"
     ]
    },
    {
     "name": "stdout",
     "output_type": "stream",
     "text": [
      "R^2 Error: {'Ni': 0.027, 'SiC': 0.01, 'C': inf, 'NiSi': inf, 'NiSi2': inf}\n",
      "Inf Error: {'Ni': 0.035, 'SiC': 0.033, 'C': inf, 'NiSi': inf, 'NiSi2': inf}\n",
      "Mean Error: (inf, inf)\n",
      "模型已保存至 ./Results/Fourier_PINN_[96]x3/model_save/Fourier_PINN_[96]x3_8000.pth\n",
      "Epoch: 5/5----------------\n"
     ]
    },
    {
     "name": "stderr",
     "output_type": "stream",
     "text": [
      "100%|██████████| 2000/2000 [03:59<00:00,  8.36it/s, Loss=1.861e-03, PDE=1.041e-04, BC=1.198e-06,4.764e-07, IC=1.747e-03,8.008e-06, D*=9.98e-03,1.57e-04, lr=1.00e-06]\n",
      "e:\\Report 12 Some Try\\Main_Diffusion_Reaction\\pde_system.py:142: RuntimeWarning: divide by zero encountered in scalar divide\n",
      "  relative_R2 = np.linalg.norm(net - fdm, 2)/np.linalg.norm(fdm, 2)\n",
      "e:\\Report 12 Some Try\\Main_Diffusion_Reaction\\pde_system.py:143: RuntimeWarning: divide by zero encountered in scalar divide\n",
      "  relative_Inf = np.linalg.norm(net - fdm, np.Inf)/np.linalg.norm(fdm, np.Inf)\n"
     ]
    },
    {
     "name": "stdout",
     "output_type": "stream",
     "text": [
      "R^2 Error: {'Ni': 0.027, 'SiC': 0.011, 'C': inf, 'NiSi': inf, 'NiSi2': inf}\n",
      "Inf Error: {'Ni': 0.035, 'SiC': 0.034, 'C': inf, 'NiSi': inf, 'NiSi2': inf}\n",
      "Mean Error: (inf, inf)\n",
      "模型已保存至 ./Results/Fourier_PINN_[96]x3/model_save/Fourier_PINN_[96]x3_10000.pth\n"
     ]
    },
    {
     "name": "stderr",
     "output_type": "stream",
     "text": [
      "e:\\Report 12 Some Try\\Main_Diffusion_Reaction\\graphics.py:137: RuntimeWarning: divide by zero encountered in scalar divide\n",
      "  relative_R2 = np.linalg.norm(net - fdm, 2)/np.linalg.norm(fdm, 2)\n",
      "e:\\Report 12 Some Try\\Main_Diffusion_Reaction\\graphics.py:138: RuntimeWarning: divide by zero encountered in scalar divide\n",
      "  relative_Inf = np.linalg.norm(net - fdm, np.Inf)/np.linalg.norm(fdm, np.Inf)\n"
     ]
    },
    {
     "name": "stdout",
     "output_type": "stream",
     "text": [
      "Training time: 1208.88s-------------------------\n",
      "AF_PINN_[96]x3:\n",
      "Epoch: 1/5----------------\n"
     ]
    },
    {
     "name": "stderr",
     "output_type": "stream",
     "text": [
      "100%|██████████| 2000/2000 [08:14<00:00,  4.04it/s, Loss=1.855e-02, PDE=2.383e-03, BC=1.343e-03,6.781e-05, IC=1.471e-02,4.211e-05, D*=9.99e-03,2.37e-04, lr=9.06e-04]\n",
      "e:\\Report 12 Some Try\\Main_Diffusion_Reaction\\pde_system.py:142: RuntimeWarning: divide by zero encountered in scalar divide\n",
      "  relative_R2 = np.linalg.norm(net - fdm, 2)/np.linalg.norm(fdm, 2)\n",
      "e:\\Report 12 Some Try\\Main_Diffusion_Reaction\\pde_system.py:143: RuntimeWarning: divide by zero encountered in scalar divide\n",
      "  relative_Inf = np.linalg.norm(net - fdm, np.Inf)/np.linalg.norm(fdm, np.Inf)\n"
     ]
    },
    {
     "name": "stdout",
     "output_type": "stream",
     "text": [
      "R^2 Error: {'Ni': 0.027, 'SiC': 0.008, 'C': inf, 'NiSi': inf, 'NiSi2': inf}\n",
      "Inf Error: {'Ni': 0.029, 'SiC': 0.02, 'C': inf, 'NiSi': inf, 'NiSi2': inf}\n",
      "Mean Error: (inf, inf)\n",
      "模型已保存至 ./Results/AF_PINN_[96]x3/model_save/AF_PINN_[96]x3_2000.pth\n",
      "Epoch: 2/5----------------\n"
     ]
    },
    {
     "name": "stderr",
     "output_type": "stream",
     "text": [
      "100%|██████████| 2000/2000 [08:14<00:00,  4.05it/s, Loss=8.030e-03, PDE=2.343e-03, BC=4.446e-04,2.044e-05, IC=5.166e-03,5.668e-05, D*=9.99e-03,2.20e-04, lr=6.56e-04]\n",
      "e:\\Report 12 Some Try\\Main_Diffusion_Reaction\\pde_system.py:142: RuntimeWarning: divide by zero encountered in scalar divide\n",
      "  relative_R2 = np.linalg.norm(net - fdm, 2)/np.linalg.norm(fdm, 2)\n",
      "e:\\Report 12 Some Try\\Main_Diffusion_Reaction\\pde_system.py:143: RuntimeWarning: divide by zero encountered in scalar divide\n",
      "  relative_Inf = np.linalg.norm(net - fdm, np.Inf)/np.linalg.norm(fdm, np.Inf)\n"
     ]
    },
    {
     "name": "stdout",
     "output_type": "stream",
     "text": [
      "R^2 Error: {'Ni': 0.024, 'SiC': 0.011, 'C': inf, 'NiSi': inf, 'NiSi2': inf}\n",
      "Inf Error: {'Ni': 0.027, 'SiC': 0.02, 'C': inf, 'NiSi': inf, 'NiSi2': inf}\n",
      "Mean Error: (inf, inf)\n",
      "模型已保存至 ./Results/AF_PINN_[96]x3/model_save/AF_PINN_[96]x3_4000.pth\n",
      "Epoch: 3/5----------------\n"
     ]
    },
    {
     "name": "stderr",
     "output_type": "stream",
     "text": [
      "100%|██████████| 2000/2000 [08:13<00:00,  4.05it/s, Loss=2.891e-03, PDE=2.636e-04, BC=2.553e-06,1.569e-07, IC=2.597e-03,2.846e-05, D*=9.99e-03,1.95e-04, lr=3.48e-04]\n",
      "e:\\Report 12 Some Try\\Main_Diffusion_Reaction\\pde_system.py:142: RuntimeWarning: divide by zero encountered in scalar divide\n",
      "  relative_R2 = np.linalg.norm(net - fdm, 2)/np.linalg.norm(fdm, 2)\n",
      "e:\\Report 12 Some Try\\Main_Diffusion_Reaction\\pde_system.py:143: RuntimeWarning: divide by zero encountered in scalar divide\n",
      "  relative_Inf = np.linalg.norm(net - fdm, np.Inf)/np.linalg.norm(fdm, np.Inf)\n"
     ]
    },
    {
     "name": "stdout",
     "output_type": "stream",
     "text": [
      "R^2 Error: {'Ni': 0.018, 'SiC': 0.004, 'C': inf, 'NiSi': inf, 'NiSi2': inf}\n",
      "Inf Error: {'Ni': 0.023, 'SiC': 0.013, 'C': inf, 'NiSi': inf, 'NiSi2': inf}\n",
      "Mean Error: (inf, inf)\n",
      "模型已保存至 ./Results/AF_PINN_[96]x3/model_save/AF_PINN_[96]x3_6000.pth\n",
      "Epoch: 4/5----------------\n"
     ]
    },
    {
     "name": "stderr",
     "output_type": "stream",
     "text": [
      "100%|██████████| 2000/2000 [09:02<00:00,  3.69it/s, Loss=1.948e-03, PDE=1.363e-04, BC=1.166e-06,1.378e-07, IC=1.789e-03,2.138e-05, D*=9.99e-03,1.65e-04, lr=9.73e-05]\n",
      "e:\\Report 12 Some Try\\Main_Diffusion_Reaction\\pde_system.py:142: RuntimeWarning: divide by zero encountered in scalar divide\n",
      "  relative_R2 = np.linalg.norm(net - fdm, 2)/np.linalg.norm(fdm, 2)\n",
      "e:\\Report 12 Some Try\\Main_Diffusion_Reaction\\pde_system.py:143: RuntimeWarning: divide by zero encountered in scalar divide\n",
      "  relative_Inf = np.linalg.norm(net - fdm, np.Inf)/np.linalg.norm(fdm, np.Inf)\n"
     ]
    },
    {
     "name": "stdout",
     "output_type": "stream",
     "text": [
      "R^2 Error: {'Ni': 0.018, 'SiC': 0.005, 'C': inf, 'NiSi': inf, 'NiSi2': inf}\n",
      "Inf Error: {'Ni': 0.024, 'SiC': 0.018, 'C': inf, 'NiSi': inf, 'NiSi2': inf}\n",
      "Mean Error: (inf, inf)\n",
      "模型已保存至 ./Results/AF_PINN_[96]x3/model_save/AF_PINN_[96]x3_8000.pth\n",
      "Epoch: 5/5----------------\n"
     ]
    },
    {
     "name": "stderr",
     "output_type": "stream",
     "text": [
      "100%|██████████| 2000/2000 [09:08<00:00,  3.64it/s, Loss=1.741e-03, PDE=1.196e-04, BC=1.194e-06,1.205e-07, IC=1.603e-03,1.752e-05, D*=1.00e-02,1.50e-04, lr=1.00e-06]\n",
      "e:\\Report 12 Some Try\\Main_Diffusion_Reaction\\pde_system.py:142: RuntimeWarning: divide by zero encountered in scalar divide\n",
      "  relative_R2 = np.linalg.norm(net - fdm, 2)/np.linalg.norm(fdm, 2)\n",
      "e:\\Report 12 Some Try\\Main_Diffusion_Reaction\\pde_system.py:143: RuntimeWarning: divide by zero encountered in scalar divide\n",
      "  relative_Inf = np.linalg.norm(net - fdm, np.Inf)/np.linalg.norm(fdm, np.Inf)\n"
     ]
    },
    {
     "name": "stdout",
     "output_type": "stream",
     "text": [
      "R^2 Error: {'Ni': 0.016, 'SiC': 0.005, 'C': inf, 'NiSi': inf, 'NiSi2': inf}\n",
      "Inf Error: {'Ni': 0.022, 'SiC': 0.019, 'C': inf, 'NiSi': inf, 'NiSi2': inf}\n",
      "Mean Error: (inf, inf)\n",
      "模型已保存至 ./Results/AF_PINN_[96]x3/model_save/AF_PINN_[96]x3_10000.pth\n"
     ]
    },
    {
     "name": "stderr",
     "output_type": "stream",
     "text": [
      "e:\\Report 12 Some Try\\Main_Diffusion_Reaction\\graphics.py:137: RuntimeWarning: divide by zero encountered in scalar divide\n",
      "  relative_R2 = np.linalg.norm(net - fdm, 2)/np.linalg.norm(fdm, 2)\n",
      "e:\\Report 12 Some Try\\Main_Diffusion_Reaction\\graphics.py:138: RuntimeWarning: divide by zero encountered in scalar divide\n",
      "  relative_Inf = np.linalg.norm(net - fdm, np.Inf)/np.linalg.norm(fdm, np.Inf)\n"
     ]
    },
    {
     "name": "stdout",
     "output_type": "stream",
     "text": [
      "Training time: 2586.36s-------------------------\n"
     ]
    }
   ],
   "source": [
    "L = 600.0\n",
    "h = 100.0\n",
    "anneal_time= 10\n",
    "D_A = 360.0  #6nm^2/s 360nm^2/min\n",
    "k11,k12,k21 = 0.0,0.0,0.0\n",
    "N_SA,N_SB,N_SC,N_SAB,N_SABB,N_SAAB = 90.0,48.0,90.0,90.0,90.0,90.0\n",
    "\n",
    "geom = [0,L]\n",
    "time = [0,anneal_time]\n",
    "\n",
    "##How I genertate data\n",
    "generator = DataGenerator(geom,time)\n",
    "\n",
    "from torch._tensor import Tensor\n",
    "from pde_system import compute_pde, compute_bc, compute_ic,relative_error\n",
    "from graphics import plot_loss_curve,plot_relative_concen,plot_3d_concen\n",
    "# from Utilitiy.residual_adaptive_resample import select_high_loss_points\n",
    "\n",
    "def get_points(N:list) -> tuple[Tensor, Tensor, Tensor, Tensor]: \n",
    "    coords_pde =  generator.LHS_generator(N[0], points_type = 'domain' , nondim= True) \n",
    "    coords_bc1 =  generator.LHS_generator(N[1], points_type = 'left_bc' , nondim= True) \n",
    "    coords_bc2 =  generator.LHS_generator(N[1], points_type = 'right_bc' , nondim= True) \n",
    "    coords_ic =  generator.LHS_generator(N[2], points_type = 'initial' , nondim= True) \n",
    "    return coords_pde, coords_bc1, coords_bc2, coords_ic\n",
    "\n",
    "N = [15000, 3000, 4000]\n",
    "\n",
    "from torch import Tensor\n",
    "\n",
    "\n",
    "hiddens = [3]  ##[3,4] already finished\n",
    "neurons = [96]\n",
    "\n",
    "activation = torch.nn.functional.tanh\n",
    "\n",
    "start_lr = 1e-3\n",
    "end_lr = 1e-6\n",
    "\n",
    "weight = [1, 1, 1, 1, 1, 1]\n",
    "for hidden in hiddens:\n",
    "    for neuron in neurons:\n",
    "        for mode in ['PINN', 'IA_PINN','Fourier_PINN', 'AF_PINN']:  ##['PINN', 'IA_PINN', 'Fourier_PINN', 'AF_PINN']\n",
    "\n",
    "            layer = [2] + [neuron]*hidden + [6]\n",
    "            \n",
    "            star_time = timeit.default_timer()\n",
    "            num_epochs = 2000\n",
    "            sub_spochs = 5\n",
    "\n",
    "            loss_log_total,loss_log_pde, loss_log_bc, loss_log_ic = [],[],[],[]\n",
    "            torch.cuda.empty_cache()\n",
    "            print(f'{mode}_[{neuron}]x{hidden}:')\n",
    "            \n",
    "            if mode == 'PINN':\n",
    "                model = PINN(layer,activation,non_negative=True).to(device)\n",
    "                optimizer = optim.Adam(model.parameters(), lr=start_lr)  \n",
    "                scheduler = optim.lr_scheduler.CosineAnnealingLR(optimizer, T_max=num_epochs * sub_spochs, eta_min=end_lr)\n",
    "            elif mode == 'IA_PINN':\n",
    "                model = Attention_PINN(layer,activation,non_negative=True).to(device)\n",
    "                optimizer = optim.Adam(model.parameters(), lr=start_lr)  \n",
    "                scheduler = optim.lr_scheduler.CosineAnnealingLR(optimizer, T_max=num_epochs * sub_spochs, eta_min=end_lr)\n",
    "            elif mode == 'Fourier_PINN':\n",
    "                model = Fourier_PINN(layer,non_negative=True, activation= activation, use_rff=True, rff_num_features=2*neuron, rff_sigma=1.0).to(device)\n",
    "                optimizer = optim.Adam(model.parameters(), lr=start_lr)  \n",
    "                scheduler = optim.lr_scheduler.CosineAnnealingLR(optimizer, T_max=num_epochs * sub_spochs, eta_min=end_lr)\n",
    "            elif mode == 'AF_PINN':\n",
    "                model = AF_PINN(layer, non_negative=True,activation = activation, use_rff=True, rff_num_features=2*neuron, rff_sigma=1.0).to(device)\n",
    "                optimizer = optim.Adam(model.parameters(), lr=start_lr)  \n",
    "                scheduler = optim.lr_scheduler.CosineAnnealingLR(optimizer, T_max=num_epochs * sub_spochs, eta_min=end_lr)\n",
    "            else:\n",
    "                print(\"Man! What can I say! Wrong Mode!!!\")\n",
    "                break            \n",
    "            points_types = ['domain', 'left_bc', 'right_bc', 'initial']\n",
    "            coords_pde, coords_bc1, coords_bc2, coords_ic = get_points(N)    \n",
    "            # coords_pde, coords_bc1, coords_bc2, coords_ic = [\n",
    "            #     generator.grid_generator(2500 if pt in ['left_bc', 'right_bc'] else 10201, points_type=pt, nondim= True) \n",
    "            #     for pt in points_types\n",
    "            # ]\n",
    "            # Since x = [0,200] is interphase-boundary area, we should add my sample points in this area.\n",
    "            # area_enhance = generator.LHS_local_enhance(N = 5000, points_type='domain',enhance_area=[[0,200],[0,60]],nondim= True)\n",
    "\n",
    "            # coords_pde = torch.cat((coords_pde, area_enhance), dim=0)\n",
    "\n",
    "            for idx in range(sub_spochs):\n",
    "                print(f'Epoch: {idx+1}/{sub_spochs}----------------')\n",
    "                model.train()\n",
    "                \n",
    "                pbar = tqdm(range(num_epochs))\n",
    "                for epoch in pbar:\n",
    "                    current_lr = optimizer.param_groups[0]['lr'] \n",
    "                    def closure() -> Tensor:\n",
    "                        global loss_pde, D_star, loss_bc1, loss_bc2, loss_ic1, loss_ic2\n",
    "                        optimizer.zero_grad()\n",
    "\n",
    "                        # 计算损失时使用batch数据\n",
    "                        loss_eq1, loss_eq2, loss_eq3, loss_eq4, loss_eq5, loss_eq6, D_star = compute_pde(model, coords_pde, anneal_time=anneal_time)\n",
    "                        loss_pde = loss_eq1 + loss_eq2 + loss_eq3 + loss_eq4 + loss_eq5 + loss_eq6\n",
    "                        loss_bc1 = compute_bc(model, coords_bc1)\n",
    "                        loss_bc2 = compute_bc(model, coords_bc2)\n",
    "                        loss_ic1, loss_ic2 = compute_ic(model, coords_ic)\n",
    "\n",
    "                        #Give a weight to initial loss term\n",
    "                        loss = weight[0]*loss_pde +  weight[1]*loss_bc1 +  weight[2]*loss_bc2 +  weight[3]*loss_ic1 +  weight[4]*loss_ic2 \n",
    "\n",
    "                        loss.backward()\n",
    "                        torch.nn.utils.clip_grad_norm_(model.parameters(), max_norm=1.0, norm_type= 2)\n",
    "                        return loss\n",
    "\n",
    "                    optimizer.step(closure)\n",
    "                    \n",
    "                    # 如果使用scheduler（只在Adam阶段）\n",
    "                    if scheduler is not None:\n",
    "                        scheduler.step()\n",
    "                    \n",
    "                    loss_total = weight[0]*loss_pde +  weight[1]*loss_bc1 +  weight[2]*loss_bc2 +  weight[3]*loss_ic1 +  weight[4]*loss_ic2 \n",
    "\n",
    "                    loss_log_total.append(loss_total.item())\n",
    "                    loss_log_pde.append(loss_pde.item())\n",
    "                    loss_log_bc.append(loss_bc1.item() + loss_bc2.item())\n",
    "                    loss_log_ic.append(loss_ic1.item() + loss_ic2.item())\n",
    "                    \n",
    "                    if epoch % 10 == 0:\n",
    "                        pbar.set_postfix({\n",
    "                            'Loss': '{0:.3e}'.format(loss_total),\n",
    "                            'PDE': '{0:.3e}'.format(weight[0]*loss_pde.item()),\n",
    "                            'BC': '{0:.3e},{1:.3e}'.format(weight[1]*loss_bc1.item(),weight[2]*loss_bc2.item()),\n",
    "                            'IC': '{0:.3e},{1:.3e}'.format(weight[3]*loss_ic1.item(),weight[4]*loss_ic2.item()),\n",
    "                            'D*': '{0:.2e},{1:.2e}'.format(torch.max(D_star),torch.min(D_star)),\n",
    "                            'lr': '{0:.2e}'.format(current_lr),\n",
    "                        })        \n",
    "                    # # 将四个张量放在一个列表中并随机打乱\n",
    "                    shuffled_tensors = [tensor[torch.randperm(tensor.size(0))] for tensor in [coords_pde, coords_bc1, coords_bc2, coords_ic]]\n",
    "\n",
    "                    # 解包到四个变量中\n",
    "                    coords_pde, coords_bc1, coords_bc2, coords_ic = shuffled_tensors\n",
    "                \n",
    "                    if torch.isnan(loss_total):\n",
    "                        print('Loss is Nan, please check your model parameters')\n",
    "                        break\n",
    "                \n",
    "                true_path = './FDM/range[0,1]_10/'\n",
    "                file_names = ['u1_output.csv','u2_output.csv','u3_output.csv','u4_output.csv','u5_output.csv','u6_output.csv']\n",
    "                true_data = [pd.read_csv(true_path + file_name,header=None) for file_name in file_names]\n",
    "\n",
    "                model.eval()\n",
    "                val_data = generator.grid_generator(N=10201, points_type= 'domain', nondim= True)\n",
    "                result = model(val_data).data.cpu().numpy()\n",
    "                relative_error(result,true_data)\n",
    "\n",
    "                ##模型储存\n",
    "                save_path = f'./Results/{mode}_[{neuron}]x{hidden}/model_save/'\n",
    "                os.makedirs(save_path, exist_ok=True)  # 确保保存路径存在\n",
    "                # 指定模型文件名\n",
    "                model_file = os.path.join(save_path, f'{mode}_[{neuron}]x{hidden}_{(idx+1)*num_epochs}.pth')\n",
    "                # 保存模型\n",
    "                torch.save(model.state_dict(), model_file)\n",
    "                print(f\"模型已保存至 {model_file}\")\n",
    "            \n",
    "            # 绘制结果\n",
    "            plot_loss_curve(f'{mode}_[{neuron}]x{hidden}',loss_log_total,loss_log_pde, loss_log_bc, loss_log_ic)\n",
    "            \n",
    "            plot_relative_concen(f'{mode}_[{neuron}]x{hidden}',result,data_save=True)\n",
    "            \n",
    "            plot_3d_concen(f'{mode}_[{neuron}]x{hidden}', result, true_data)\n",
    "\n",
    "            Training_time = timeit.default_timer() - star_time\n",
    "            print(f'Training time: {Training_time:.2f}s-------------------------')\n"
   ]
  },
  {
   "cell_type": "code",
   "execution_count": 4,
   "metadata": {},
   "outputs": [
    {
     "name": "stdout",
     "output_type": "stream",
     "text": [
      "PINN_[128]x3:\n",
      "Epoch: 1/5----------------\n"
     ]
    },
    {
     "name": "stderr",
     "output_type": "stream",
     "text": [
      "100%|██████████| 2000/2000 [02:39<00:00, 12.56it/s, Loss=4.222e-02, PDE=4.181e-03, BC=4.214e-03,2.073e-04, IC=3.273e-02,8.907e-04, D*=5.99e-02,6.87e-03, lr=9.06e-04]\n",
      "e:\\Report 12 Some Try\\Main_Diffusion_Reaction\\pde_system.py:142: RuntimeWarning: divide by zero encountered in scalar divide\n",
      "  relative_R2 = np.linalg.norm(net - fdm, 2)/np.linalg.norm(fdm, 2)\n",
      "e:\\Report 12 Some Try\\Main_Diffusion_Reaction\\pde_system.py:143: RuntimeWarning: divide by zero encountered in scalar divide\n",
      "  relative_Inf = np.linalg.norm(net - fdm, np.Inf)/np.linalg.norm(fdm, np.Inf)\n"
     ]
    },
    {
     "name": "stdout",
     "output_type": "stream",
     "text": [
      "R^2 Error: {'Ni': 0.125, 'SiC': 0.023, 'C': inf, 'NiSi': inf, 'NiSi2': inf}\n",
      "Inf Error: {'Ni': 0.109, 'SiC': 0.051, 'C': inf, 'NiSi': inf, 'NiSi2': inf}\n",
      "Mean Error: (inf, inf)\n",
      "模型已保存至 ./Results/PINN_[128]x3/model_save/PINN_[128]x3_2000.pth\n",
      "Epoch: 2/5----------------\n"
     ]
    },
    {
     "name": "stderr",
     "output_type": "stream",
     "text": [
      "100%|██████████| 2000/2000 [02:39<00:00, 12.55it/s, Loss=2.042e-02, PDE=2.729e-03, BC=1.509e-04,6.703e-05, IC=1.682e-02,6.567e-04, D*=5.99e-02,5.80e-03, lr=6.56e-04]\n",
      "e:\\Report 12 Some Try\\Main_Diffusion_Reaction\\pde_system.py:142: RuntimeWarning: divide by zero encountered in scalar divide\n",
      "  relative_R2 = np.linalg.norm(net - fdm, 2)/np.linalg.norm(fdm, 2)\n",
      "e:\\Report 12 Some Try\\Main_Diffusion_Reaction\\pde_system.py:143: RuntimeWarning: divide by zero encountered in scalar divide\n",
      "  relative_Inf = np.linalg.norm(net - fdm, np.Inf)/np.linalg.norm(fdm, np.Inf)\n"
     ]
    },
    {
     "name": "stdout",
     "output_type": "stream",
     "text": [
      "R^2 Error: {'Ni': 0.084, 'SiC': 0.014, 'C': inf, 'NiSi': inf, 'NiSi2': inf}\n",
      "Inf Error: {'Ni': 0.078, 'SiC': 0.03, 'C': inf, 'NiSi': inf, 'NiSi2': inf}\n",
      "Mean Error: (inf, inf)\n",
      "模型已保存至 ./Results/PINN_[128]x3/model_save/PINN_[128]x3_4000.pth\n",
      "Epoch: 3/5----------------\n"
     ]
    },
    {
     "name": "stderr",
     "output_type": "stream",
     "text": [
      "100%|██████████| 2000/2000 [02:38<00:00, 12.64it/s, Loss=1.175e-02, PDE=1.423e-03, BC=2.327e-04,3.562e-05, IC=9.643e-03,4.115e-04, D*=6.00e-02,4.31e-03, lr=3.48e-04]\n",
      "e:\\Report 12 Some Try\\Main_Diffusion_Reaction\\pde_system.py:142: RuntimeWarning: divide by zero encountered in scalar divide\n",
      "  relative_R2 = np.linalg.norm(net - fdm, 2)/np.linalg.norm(fdm, 2)\n",
      "e:\\Report 12 Some Try\\Main_Diffusion_Reaction\\pde_system.py:143: RuntimeWarning: divide by zero encountered in scalar divide\n",
      "  relative_Inf = np.linalg.norm(net - fdm, np.Inf)/np.linalg.norm(fdm, np.Inf)\n"
     ]
    },
    {
     "name": "stdout",
     "output_type": "stream",
     "text": [
      "R^2 Error: {'Ni': 0.057, 'SiC': 0.01, 'C': inf, 'NiSi': inf, 'NiSi2': inf}\n",
      "Inf Error: {'Ni': 0.056, 'SiC': 0.029, 'C': inf, 'NiSi': inf, 'NiSi2': inf}\n",
      "Mean Error: (inf, inf)\n",
      "模型已保存至 ./Results/PINN_[128]x3/model_save/PINN_[128]x3_6000.pth\n",
      "Epoch: 4/5----------------\n"
     ]
    },
    {
     "name": "stderr",
     "output_type": "stream",
     "text": [
      "100%|██████████| 2000/2000 [02:38<00:00, 12.59it/s, Loss=8.728e-03, PDE=9.949e-04, BC=4.535e-05,2.667e-05, IC=7.373e-03,2.875e-04, D*=6.00e-02,3.70e-03, lr=9.73e-05]\n",
      "e:\\Report 12 Some Try\\Main_Diffusion_Reaction\\pde_system.py:142: RuntimeWarning: divide by zero encountered in scalar divide\n",
      "  relative_R2 = np.linalg.norm(net - fdm, 2)/np.linalg.norm(fdm, 2)\n",
      "e:\\Report 12 Some Try\\Main_Diffusion_Reaction\\pde_system.py:143: RuntimeWarning: divide by zero encountered in scalar divide\n",
      "  relative_Inf = np.linalg.norm(net - fdm, np.Inf)/np.linalg.norm(fdm, np.Inf)\n"
     ]
    },
    {
     "name": "stdout",
     "output_type": "stream",
     "text": [
      "R^2 Error: {'Ni': 0.054, 'SiC': 0.009, 'C': inf, 'NiSi': inf, 'NiSi2': inf}\n",
      "Inf Error: {'Ni': 0.054, 'SiC': 0.024, 'C': inf, 'NiSi': inf, 'NiSi2': inf}\n",
      "Mean Error: (inf, inf)\n",
      "模型已保存至 ./Results/PINN_[128]x3/model_save/PINN_[128]x3_8000.pth\n",
      "Epoch: 5/5----------------\n"
     ]
    },
    {
     "name": "stderr",
     "output_type": "stream",
     "text": [
      "100%|██████████| 2000/2000 [02:38<00:00, 12.60it/s, Loss=8.085e-03, PDE=8.995e-04, BC=4.301e-05,2.460e-05, IC=6.855e-03,2.637e-04, D*=6.00e-02,3.57e-03, lr=1.00e-06]\n",
      "e:\\Report 12 Some Try\\Main_Diffusion_Reaction\\pde_system.py:142: RuntimeWarning: divide by zero encountered in scalar divide\n",
      "  relative_R2 = np.linalg.norm(net - fdm, 2)/np.linalg.norm(fdm, 2)\n",
      "e:\\Report 12 Some Try\\Main_Diffusion_Reaction\\pde_system.py:143: RuntimeWarning: divide by zero encountered in scalar divide\n",
      "  relative_Inf = np.linalg.norm(net - fdm, np.Inf)/np.linalg.norm(fdm, np.Inf)\n"
     ]
    },
    {
     "name": "stdout",
     "output_type": "stream",
     "text": [
      "R^2 Error: {'Ni': 0.053, 'SiC': 0.009, 'C': inf, 'NiSi': inf, 'NiSi2': inf}\n",
      "Inf Error: {'Ni': 0.053, 'SiC': 0.022, 'C': inf, 'NiSi': inf, 'NiSi2': inf}\n",
      "Mean Error: (inf, inf)\n",
      "模型已保存至 ./Results/PINN_[128]x3/model_save/PINN_[128]x3_10000.pth\n"
     ]
    },
    {
     "name": "stderr",
     "output_type": "stream",
     "text": [
      "e:\\Report 12 Some Try\\Main_Diffusion_Reaction\\graphics.py:137: RuntimeWarning: divide by zero encountered in scalar divide\n",
      "  relative_R2 = np.linalg.norm(net - fdm, 2)/np.linalg.norm(fdm, 2)\n",
      "e:\\Report 12 Some Try\\Main_Diffusion_Reaction\\graphics.py:138: RuntimeWarning: divide by zero encountered in scalar divide\n",
      "  relative_Inf = np.linalg.norm(net - fdm, np.Inf)/np.linalg.norm(fdm, np.Inf)\n"
     ]
    },
    {
     "name": "stdout",
     "output_type": "stream",
     "text": [
      "Training time: 807.22s-------------------------\n",
      "IA_PINN_[128]x3:\n",
      "Epoch: 1/5----------------\n"
     ]
    },
    {
     "name": "stderr",
     "output_type": "stream",
     "text": [
      "100%|██████████| 2000/2000 [06:59<00:00,  4.77it/s, Loss=1.796e-02, PDE=2.334e-03, BC=3.311e-04,2.118e-05, IC=1.489e-02,3.853e-04, D*=6.00e-02,4.83e-03, lr=9.06e-04]\n",
      "e:\\Report 12 Some Try\\Main_Diffusion_Reaction\\pde_system.py:142: RuntimeWarning: divide by zero encountered in scalar divide\n",
      "  relative_R2 = np.linalg.norm(net - fdm, 2)/np.linalg.norm(fdm, 2)\n",
      "e:\\Report 12 Some Try\\Main_Diffusion_Reaction\\pde_system.py:143: RuntimeWarning: divide by zero encountered in scalar divide\n",
      "  relative_Inf = np.linalg.norm(net - fdm, np.Inf)/np.linalg.norm(fdm, np.Inf)\n"
     ]
    },
    {
     "name": "stdout",
     "output_type": "stream",
     "text": [
      "R^2 Error: {'Ni': 0.066, 'SiC': 0.012, 'C': inf, 'NiSi': inf, 'NiSi2': inf}\n",
      "Inf Error: {'Ni': 0.06, 'SiC': 0.029, 'C': inf, 'NiSi': inf, 'NiSi2': inf}\n",
      "Mean Error: (inf, inf)\n",
      "模型已保存至 ./Results/IA_PINN_[128]x3/model_save/IA_PINN_[128]x3_2000.pth\n",
      "Epoch: 2/5----------------\n"
     ]
    },
    {
     "name": "stderr",
     "output_type": "stream",
     "text": [
      "100%|██████████| 2000/2000 [06:58<00:00,  4.78it/s, Loss=8.386e-03, PDE=8.922e-04, BC=2.216e-04,1.148e-05, IC=7.066e-03,1.950e-04, D*=6.00e-02,3.41e-03, lr=6.56e-04]\n",
      "e:\\Report 12 Some Try\\Main_Diffusion_Reaction\\pde_system.py:142: RuntimeWarning: divide by zero encountered in scalar divide\n",
      "  relative_R2 = np.linalg.norm(net - fdm, 2)/np.linalg.norm(fdm, 2)\n",
      "e:\\Report 12 Some Try\\Main_Diffusion_Reaction\\pde_system.py:143: RuntimeWarning: divide by zero encountered in scalar divide\n",
      "  relative_Inf = np.linalg.norm(net - fdm, np.Inf)/np.linalg.norm(fdm, np.Inf)\n"
     ]
    },
    {
     "name": "stdout",
     "output_type": "stream",
     "text": [
      "R^2 Error: {'Ni': 0.033, 'SiC': 0.009, 'C': inf, 'NiSi': inf, 'NiSi2': inf}\n",
      "Inf Error: {'Ni': 0.03, 'SiC': 0.033, 'C': inf, 'NiSi': inf, 'NiSi2': inf}\n",
      "Mean Error: (inf, inf)\n",
      "模型已保存至 ./Results/IA_PINN_[128]x3/model_save/IA_PINN_[128]x3_4000.pth\n",
      "Epoch: 3/5----------------\n"
     ]
    },
    {
     "name": "stderr",
     "output_type": "stream",
     "text": [
      "100%|██████████| 2000/2000 [06:59<00:00,  4.76it/s, Loss=6.477e-03, PDE=6.117e-04, BC=5.277e-05,2.699e-06, IC=5.671e-03,1.393e-04, D*=6.00e-02,2.96e-03, lr=3.48e-04]\n",
      "e:\\Report 12 Some Try\\Main_Diffusion_Reaction\\pde_system.py:142: RuntimeWarning: divide by zero encountered in scalar divide\n",
      "  relative_R2 = np.linalg.norm(net - fdm, 2)/np.linalg.norm(fdm, 2)\n",
      "e:\\Report 12 Some Try\\Main_Diffusion_Reaction\\pde_system.py:143: RuntimeWarning: divide by zero encountered in scalar divide\n",
      "  relative_Inf = np.linalg.norm(net - fdm, np.Inf)/np.linalg.norm(fdm, np.Inf)\n"
     ]
    },
    {
     "name": "stdout",
     "output_type": "stream",
     "text": [
      "R^2 Error: {'Ni': 0.027, 'SiC': 0.009, 'C': inf, 'NiSi': inf, 'NiSi2': inf}\n",
      "Inf Error: {'Ni': 0.027, 'SiC': 0.032, 'C': inf, 'NiSi': inf, 'NiSi2': inf}\n",
      "Mean Error: (inf, inf)\n",
      "模型已保存至 ./Results/IA_PINN_[128]x3/model_save/IA_PINN_[128]x3_6000.pth\n",
      "Epoch: 4/5----------------\n"
     ]
    },
    {
     "name": "stderr",
     "output_type": "stream",
     "text": [
      "100%|██████████| 2000/2000 [06:58<00:00,  4.77it/s, Loss=5.525e-03, PDE=4.315e-04, BC=1.424e-05,1.946e-06, IC=4.959e-03,1.183e-04, D*=6.00e-02,2.76e-03, lr=9.73e-05]\n",
      "e:\\Report 12 Some Try\\Main_Diffusion_Reaction\\pde_system.py:142: RuntimeWarning: divide by zero encountered in scalar divide\n",
      "  relative_R2 = np.linalg.norm(net - fdm, 2)/np.linalg.norm(fdm, 2)\n",
      "e:\\Report 12 Some Try\\Main_Diffusion_Reaction\\pde_system.py:143: RuntimeWarning: divide by zero encountered in scalar divide\n",
      "  relative_Inf = np.linalg.norm(net - fdm, np.Inf)/np.linalg.norm(fdm, np.Inf)\n"
     ]
    },
    {
     "name": "stdout",
     "output_type": "stream",
     "text": [
      "R^2 Error: {'Ni': 0.024, 'SiC': 0.009, 'C': inf, 'NiSi': inf, 'NiSi2': inf}\n",
      "Inf Error: {'Ni': 0.028, 'SiC': 0.032, 'C': inf, 'NiSi': inf, 'NiSi2': inf}\n",
      "Mean Error: (inf, inf)\n",
      "模型已保存至 ./Results/IA_PINN_[128]x3/model_save/IA_PINN_[128]x3_8000.pth\n",
      "Epoch: 5/5----------------\n"
     ]
    },
    {
     "name": "stderr",
     "output_type": "stream",
     "text": [
      "100%|██████████| 2000/2000 [06:59<00:00,  4.77it/s, Loss=5.294e-03, PDE=4.103e-04, BC=1.208e-05,1.777e-06, IC=4.756e-03,1.134e-04, D*=6.00e-02,2.72e-03, lr=1.00e-06]\n",
      "e:\\Report 12 Some Try\\Main_Diffusion_Reaction\\pde_system.py:142: RuntimeWarning: divide by zero encountered in scalar divide\n",
      "  relative_R2 = np.linalg.norm(net - fdm, 2)/np.linalg.norm(fdm, 2)\n",
      "e:\\Report 12 Some Try\\Main_Diffusion_Reaction\\pde_system.py:143: RuntimeWarning: divide by zero encountered in scalar divide\n",
      "  relative_Inf = np.linalg.norm(net - fdm, np.Inf)/np.linalg.norm(fdm, np.Inf)\n"
     ]
    },
    {
     "name": "stdout",
     "output_type": "stream",
     "text": [
      "R^2 Error: {'Ni': 0.023, 'SiC': 0.009, 'C': inf, 'NiSi': inf, 'NiSi2': inf}\n",
      "Inf Error: {'Ni': 0.028, 'SiC': 0.032, 'C': inf, 'NiSi': inf, 'NiSi2': inf}\n",
      "Mean Error: (inf, inf)\n",
      "模型已保存至 ./Results/IA_PINN_[128]x3/model_save/IA_PINN_[128]x3_10000.pth\n"
     ]
    },
    {
     "name": "stderr",
     "output_type": "stream",
     "text": [
      "e:\\Report 12 Some Try\\Main_Diffusion_Reaction\\graphics.py:137: RuntimeWarning: divide by zero encountered in scalar divide\n",
      "  relative_R2 = np.linalg.norm(net - fdm, 2)/np.linalg.norm(fdm, 2)\n",
      "e:\\Report 12 Some Try\\Main_Diffusion_Reaction\\graphics.py:138: RuntimeWarning: divide by zero encountered in scalar divide\n",
      "  relative_Inf = np.linalg.norm(net - fdm, np.Inf)/np.linalg.norm(fdm, np.Inf)\n"
     ]
    },
    {
     "name": "stdout",
     "output_type": "stream",
     "text": [
      "Training time: 2108.14s-------------------------\n",
      "Fourier_PINN_[128]x3:\n",
      "Epoch: 1/5----------------\n"
     ]
    },
    {
     "name": "stderr",
     "output_type": "stream",
     "text": [
      "100%|██████████| 2000/2000 [05:23<00:00,  6.18it/s, Loss=2.614e-02, PDE=5.017e-03, BC=1.521e-03,5.374e-05, IC=1.903e-02,5.173e-04, D*=5.99e-02,5.26e-03, lr=9.06e-04]\n",
      "e:\\Report 12 Some Try\\Main_Diffusion_Reaction\\pde_system.py:142: RuntimeWarning: divide by zero encountered in scalar divide\n",
      "  relative_R2 = np.linalg.norm(net - fdm, 2)/np.linalg.norm(fdm, 2)\n",
      "e:\\Report 12 Some Try\\Main_Diffusion_Reaction\\pde_system.py:143: RuntimeWarning: divide by zero encountered in scalar divide\n",
      "  relative_Inf = np.linalg.norm(net - fdm, np.Inf)/np.linalg.norm(fdm, np.Inf)\n"
     ]
    },
    {
     "name": "stdout",
     "output_type": "stream",
     "text": [
      "R^2 Error: {'Ni': 0.061, 'SiC': 0.016, 'C': inf, 'NiSi': inf, 'NiSi2': inf}\n",
      "Inf Error: {'Ni': 0.057, 'SiC': 0.033, 'C': inf, 'NiSi': inf, 'NiSi2': inf}\n",
      "Mean Error: (inf, inf)\n",
      "模型已保存至 ./Results/Fourier_PINN_[128]x3/model_save/Fourier_PINN_[128]x3_2000.pth\n",
      "Epoch: 2/5----------------\n"
     ]
    },
    {
     "name": "stderr",
     "output_type": "stream",
     "text": [
      "100%|██████████| 2000/2000 [05:23<00:00,  6.18it/s, Loss=1.619e-02, PDE=2.792e-03, BC=1.453e-03,8.839e-06, IC=1.152e-02,4.149e-04, D*=5.99e-02,4.67e-03, lr=6.56e-04]\n",
      "e:\\Report 12 Some Try\\Main_Diffusion_Reaction\\pde_system.py:142: RuntimeWarning: divide by zero encountered in scalar divide\n",
      "  relative_R2 = np.linalg.norm(net - fdm, 2)/np.linalg.norm(fdm, 2)\n",
      "e:\\Report 12 Some Try\\Main_Diffusion_Reaction\\pde_system.py:143: RuntimeWarning: divide by zero encountered in scalar divide\n",
      "  relative_Inf = np.linalg.norm(net - fdm, np.Inf)/np.linalg.norm(fdm, np.Inf)\n"
     ]
    },
    {
     "name": "stdout",
     "output_type": "stream",
     "text": [
      "R^2 Error: {'Ni': 0.057, 'SiC': 0.013, 'C': inf, 'NiSi': inf, 'NiSi2': inf}\n",
      "Inf Error: {'Ni': 0.052, 'SiC': 0.039, 'C': inf, 'NiSi': inf, 'NiSi2': inf}\n",
      "Mean Error: (inf, inf)\n",
      "模型已保存至 ./Results/Fourier_PINN_[128]x3/model_save/Fourier_PINN_[128]x3_4000.pth\n",
      "Epoch: 3/5----------------\n"
     ]
    },
    {
     "name": "stderr",
     "output_type": "stream",
     "text": [
      "100%|██████████| 2000/2000 [05:22<00:00,  6.20it/s, Loss=6.875e-03, PDE=8.280e-04, BC=3.243e-05,2.034e-06, IC=5.772e-03,2.404e-04, D*=5.99e-02,3.68e-03, lr=3.48e-04]\n",
      "e:\\Report 12 Some Try\\Main_Diffusion_Reaction\\pde_system.py:142: RuntimeWarning: divide by zero encountered in scalar divide\n",
      "  relative_R2 = np.linalg.norm(net - fdm, 2)/np.linalg.norm(fdm, 2)\n",
      "e:\\Report 12 Some Try\\Main_Diffusion_Reaction\\pde_system.py:143: RuntimeWarning: divide by zero encountered in scalar divide\n",
      "  relative_Inf = np.linalg.norm(net - fdm, np.Inf)/np.linalg.norm(fdm, np.Inf)\n"
     ]
    },
    {
     "name": "stdout",
     "output_type": "stream",
     "text": [
      "R^2 Error: {'Ni': 0.038, 'SiC': 0.009, 'C': inf, 'NiSi': inf, 'NiSi2': inf}\n",
      "Inf Error: {'Ni': 0.036, 'SiC': 0.03, 'C': inf, 'NiSi': inf, 'NiSi2': inf}\n",
      "Mean Error: (inf, inf)\n",
      "模型已保存至 ./Results/Fourier_PINN_[128]x3/model_save/Fourier_PINN_[128]x3_6000.pth\n",
      "Epoch: 4/5----------------\n"
     ]
    },
    {
     "name": "stderr",
     "output_type": "stream",
     "text": [
      "100%|██████████| 2000/2000 [05:23<00:00,  6.18it/s, Loss=4.935e-03, PDE=4.802e-04, BC=1.205e-05,1.037e-06, IC=4.262e-03,1.794e-04, D*=5.99e-02,3.36e-03, lr=9.73e-05]\n",
      "e:\\Report 12 Some Try\\Main_Diffusion_Reaction\\pde_system.py:142: RuntimeWarning: divide by zero encountered in scalar divide\n",
      "  relative_R2 = np.linalg.norm(net - fdm, 2)/np.linalg.norm(fdm, 2)\n",
      "e:\\Report 12 Some Try\\Main_Diffusion_Reaction\\pde_system.py:143: RuntimeWarning: divide by zero encountered in scalar divide\n",
      "  relative_Inf = np.linalg.norm(net - fdm, np.Inf)/np.linalg.norm(fdm, np.Inf)\n"
     ]
    },
    {
     "name": "stdout",
     "output_type": "stream",
     "text": [
      "R^2 Error: {'Ni': 0.035, 'SiC': 0.008, 'C': inf, 'NiSi': inf, 'NiSi2': inf}\n",
      "Inf Error: {'Ni': 0.033, 'SiC': 0.024, 'C': inf, 'NiSi': inf, 'NiSi2': inf}\n",
      "Mean Error: (inf, inf)\n",
      "模型已保存至 ./Results/Fourier_PINN_[128]x3/model_save/Fourier_PINN_[128]x3_8000.pth\n",
      "Epoch: 5/5----------------\n"
     ]
    },
    {
     "name": "stderr",
     "output_type": "stream",
     "text": [
      "100%|██████████| 2000/2000 [05:23<00:00,  6.19it/s, Loss=4.511e-03, PDE=4.064e-04, BC=7.695e-06,9.720e-07, IC=3.930e-03,1.652e-04, D*=5.99e-02,3.28e-03, lr=1.00e-06]\n",
      "e:\\Report 12 Some Try\\Main_Diffusion_Reaction\\pde_system.py:142: RuntimeWarning: divide by zero encountered in scalar divide\n",
      "  relative_R2 = np.linalg.norm(net - fdm, 2)/np.linalg.norm(fdm, 2)\n",
      "e:\\Report 12 Some Try\\Main_Diffusion_Reaction\\pde_system.py:143: RuntimeWarning: divide by zero encountered in scalar divide\n",
      "  relative_Inf = np.linalg.norm(net - fdm, np.Inf)/np.linalg.norm(fdm, np.Inf)\n"
     ]
    },
    {
     "name": "stdout",
     "output_type": "stream",
     "text": [
      "R^2 Error: {'Ni': 0.036, 'SiC': 0.008, 'C': inf, 'NiSi': inf, 'NiSi2': inf}\n",
      "Inf Error: {'Ni': 0.034, 'SiC': 0.022, 'C': inf, 'NiSi': inf, 'NiSi2': inf}\n",
      "Mean Error: (inf, inf)\n",
      "模型已保存至 ./Results/Fourier_PINN_[128]x3/model_save/Fourier_PINN_[128]x3_10000.pth\n"
     ]
    },
    {
     "name": "stderr",
     "output_type": "stream",
     "text": [
      "e:\\Report 12 Some Try\\Main_Diffusion_Reaction\\graphics.py:137: RuntimeWarning: divide by zero encountered in scalar divide\n",
      "  relative_R2 = np.linalg.norm(net - fdm, 2)/np.linalg.norm(fdm, 2)\n",
      "e:\\Report 12 Some Try\\Main_Diffusion_Reaction\\graphics.py:138: RuntimeWarning: divide by zero encountered in scalar divide\n",
      "  relative_Inf = np.linalg.norm(net - fdm, np.Inf)/np.linalg.norm(fdm, np.Inf)\n"
     ]
    },
    {
     "name": "stdout",
     "output_type": "stream",
     "text": [
      "Training time: 1627.85s-------------------------\n",
      "AF_PINN_[128]x3:\n",
      "Epoch: 1/5----------------\n"
     ]
    },
    {
     "name": "stderr",
     "output_type": "stream",
     "text": [
      "100%|██████████| 2000/2000 [11:32<00:00,  2.89it/s, Loss=3.003e-02, PDE=3.988e-03, BC=6.094e-03,7.678e-05, IC=1.959e-02,2.728e-04, D*=5.99e-02,3.52e-03, lr=9.06e-04]\n",
      "e:\\Report 12 Some Try\\Main_Diffusion_Reaction\\pde_system.py:142: RuntimeWarning: divide by zero encountered in scalar divide\n",
      "  relative_R2 = np.linalg.norm(net - fdm, 2)/np.linalg.norm(fdm, 2)\n",
      "e:\\Report 12 Some Try\\Main_Diffusion_Reaction\\pde_system.py:143: RuntimeWarning: divide by zero encountered in scalar divide\n",
      "  relative_Inf = np.linalg.norm(net - fdm, np.Inf)/np.linalg.norm(fdm, np.Inf)\n"
     ]
    },
    {
     "name": "stdout",
     "output_type": "stream",
     "text": [
      "R^2 Error: {'Ni': 0.061, 'SiC': 0.021, 'C': inf, 'NiSi': inf, 'NiSi2': inf}\n",
      "Inf Error: {'Ni': 0.054, 'SiC': 0.049, 'C': inf, 'NiSi': inf, 'NiSi2': inf}\n",
      "Mean Error: (inf, inf)\n",
      "模型已保存至 ./Results/AF_PINN_[128]x3/model_save/AF_PINN_[128]x3_2000.pth\n",
      "Epoch: 2/5----------------\n"
     ]
    },
    {
     "name": "stderr",
     "output_type": "stream",
     "text": [
      "100%|██████████| 2000/2000 [11:31<00:00,  2.89it/s, Loss=2.178e-02, PDE=9.346e-03, BC=6.609e-04,1.076e-05, IC=1.135e-02,4.123e-04, D*=5.99e-02,3.67e-03, lr=6.56e-04]\n",
      "e:\\Report 12 Some Try\\Main_Diffusion_Reaction\\pde_system.py:142: RuntimeWarning: divide by zero encountered in scalar divide\n",
      "  relative_R2 = np.linalg.norm(net - fdm, 2)/np.linalg.norm(fdm, 2)\n",
      "e:\\Report 12 Some Try\\Main_Diffusion_Reaction\\pde_system.py:143: RuntimeWarning: divide by zero encountered in scalar divide\n",
      "  relative_Inf = np.linalg.norm(net - fdm, np.Inf)/np.linalg.norm(fdm, np.Inf)\n"
     ]
    },
    {
     "name": "stdout",
     "output_type": "stream",
     "text": [
      "R^2 Error: {'Ni': 0.062, 'SiC': 0.016, 'C': inf, 'NiSi': inf, 'NiSi2': inf}\n",
      "Inf Error: {'Ni': 0.056, 'SiC': 0.033, 'C': inf, 'NiSi': inf, 'NiSi2': inf}\n",
      "Mean Error: (inf, inf)\n",
      "模型已保存至 ./Results/AF_PINN_[128]x3/model_save/AF_PINN_[128]x3_4000.pth\n",
      "Epoch: 3/5----------------\n"
     ]
    },
    {
     "name": "stderr",
     "output_type": "stream",
     "text": [
      "100%|██████████| 2000/2000 [11:31<00:00,  2.89it/s, Loss=7.594e-03, PDE=1.480e-03, BC=1.449e-04,2.808e-06, IC=5.714e-03,2.527e-04, D*=5.99e-02,3.15e-03, lr=3.48e-04]\n",
      "e:\\Report 12 Some Try\\Main_Diffusion_Reaction\\pde_system.py:142: RuntimeWarning: divide by zero encountered in scalar divide\n",
      "  relative_R2 = np.linalg.norm(net - fdm, 2)/np.linalg.norm(fdm, 2)\n",
      "e:\\Report 12 Some Try\\Main_Diffusion_Reaction\\pde_system.py:143: RuntimeWarning: divide by zero encountered in scalar divide\n",
      "  relative_Inf = np.linalg.norm(net - fdm, np.Inf)/np.linalg.norm(fdm, np.Inf)\n"
     ]
    },
    {
     "name": "stdout",
     "output_type": "stream",
     "text": [
      "R^2 Error: {'Ni': 0.035, 'SiC': 0.008, 'C': inf, 'NiSi': inf, 'NiSi2': inf}\n",
      "Inf Error: {'Ni': 0.032, 'SiC': 0.022, 'C': inf, 'NiSi': inf, 'NiSi2': inf}\n",
      "Mean Error: (inf, inf)\n",
      "模型已保存至 ./Results/AF_PINN_[128]x3/model_save/AF_PINN_[128]x3_6000.pth\n",
      "Epoch: 4/5----------------\n"
     ]
    },
    {
     "name": "stderr",
     "output_type": "stream",
     "text": [
      "100%|██████████| 2000/2000 [11:31<00:00,  2.89it/s, Loss=4.235e-03, PDE=4.968e-04, BC=6.586e-05,7.744e-07, IC=3.524e-03,1.474e-04, D*=5.99e-02,2.79e-03, lr=9.73e-05]\n",
      "e:\\Report 12 Some Try\\Main_Diffusion_Reaction\\pde_system.py:142: RuntimeWarning: divide by zero encountered in scalar divide\n",
      "  relative_R2 = np.linalg.norm(net - fdm, 2)/np.linalg.norm(fdm, 2)\n",
      "e:\\Report 12 Some Try\\Main_Diffusion_Reaction\\pde_system.py:143: RuntimeWarning: divide by zero encountered in scalar divide\n",
      "  relative_Inf = np.linalg.norm(net - fdm, np.Inf)/np.linalg.norm(fdm, np.Inf)\n"
     ]
    },
    {
     "name": "stdout",
     "output_type": "stream",
     "text": [
      "R^2 Error: {'Ni': 0.034, 'SiC': 0.009, 'C': inf, 'NiSi': inf, 'NiSi2': inf}\n",
      "Inf Error: {'Ni': 0.031, 'SiC': 0.019, 'C': inf, 'NiSi': inf, 'NiSi2': inf}\n",
      "Mean Error: (inf, inf)\n",
      "模型已保存至 ./Results/AF_PINN_[128]x3/model_save/AF_PINN_[128]x3_8000.pth\n",
      "Epoch: 5/5----------------\n"
     ]
    },
    {
     "name": "stderr",
     "output_type": "stream",
     "text": [
      "100%|██████████| 2000/2000 [11:31<00:00,  2.89it/s, Loss=3.683e-03, PDE=3.654e-04, BC=7.672e-06,8.269e-07, IC=3.189e-03,1.205e-04, D*=5.99e-02,2.67e-03, lr=1.00e-06]\n",
      "e:\\Report 12 Some Try\\Main_Diffusion_Reaction\\pde_system.py:142: RuntimeWarning: divide by zero encountered in scalar divide\n",
      "  relative_R2 = np.linalg.norm(net - fdm, 2)/np.linalg.norm(fdm, 2)\n",
      "e:\\Report 12 Some Try\\Main_Diffusion_Reaction\\pde_system.py:143: RuntimeWarning: divide by zero encountered in scalar divide\n",
      "  relative_Inf = np.linalg.norm(net - fdm, np.Inf)/np.linalg.norm(fdm, np.Inf)\n"
     ]
    },
    {
     "name": "stdout",
     "output_type": "stream",
     "text": [
      "R^2 Error: {'Ni': 0.031, 'SiC': 0.008, 'C': inf, 'NiSi': inf, 'NiSi2': inf}\n",
      "Inf Error: {'Ni': 0.028, 'SiC': 0.017, 'C': inf, 'NiSi': inf, 'NiSi2': inf}\n",
      "Mean Error: (inf, inf)\n",
      "模型已保存至 ./Results/AF_PINN_[128]x3/model_save/AF_PINN_[128]x3_10000.pth\n"
     ]
    },
    {
     "name": "stderr",
     "output_type": "stream",
     "text": [
      "e:\\Report 12 Some Try\\Main_Diffusion_Reaction\\graphics.py:137: RuntimeWarning: divide by zero encountered in scalar divide\n",
      "  relative_R2 = np.linalg.norm(net - fdm, 2)/np.linalg.norm(fdm, 2)\n",
      "e:\\Report 12 Some Try\\Main_Diffusion_Reaction\\graphics.py:138: RuntimeWarning: divide by zero encountered in scalar divide\n",
      "  relative_Inf = np.linalg.norm(net - fdm, np.Inf)/np.linalg.norm(fdm, np.Inf)\n"
     ]
    },
    {
     "name": "stdout",
     "output_type": "stream",
     "text": [
      "Training time: 3473.01s-------------------------\n"
     ]
    }
   ],
   "source": [
    "L = 600.0\n",
    "h = 100.0\n",
    "anneal_time= 60\n",
    "D_A = 360.0  #6nm^2/s 360nm^2/min\n",
    "k11,k12,k21 = 0.0,0.0,0.0\n",
    "N_SA,N_SB,N_SC,N_SAB,N_SABB,N_SAAB = 90.0,48.0,90.0,90.0,90.0,90.0\n",
    "\n",
    "geom = [0,L]\n",
    "time = [0,anneal_time]\n",
    "\n",
    "##How I genertate data\n",
    "generator = DataGenerator(geom,time)\n",
    "\n",
    "from torch._tensor import Tensor\n",
    "from pde_system import compute_pde, compute_bc, compute_ic,relative_error\n",
    "from graphics import plot_loss_curve,plot_relative_concen,plot_3d_concen\n",
    "# from Utilitiy.residual_adaptive_resample import select_high_loss_points\n",
    "\n",
    "def get_points(N:list) -> tuple[Tensor, Tensor, Tensor, Tensor]: \n",
    "    coords_pde =  generator.LHS_generator(N[0], points_type = 'domain' , nondim= True) \n",
    "    coords_bc1 =  generator.LHS_generator(N[1], points_type = 'left_bc' , nondim= True) \n",
    "    coords_bc2 =  generator.LHS_generator(N[1], points_type = 'right_bc' , nondim= True) \n",
    "    coords_ic =  generator.LHS_generator(N[2], points_type = 'initial' , nondim= True) \n",
    "    return coords_pde, coords_bc1, coords_bc2, coords_ic\n",
    "\n",
    "N = [15000, 3000, 4000]\n",
    "\n",
    "from torch import Tensor\n",
    "\n",
    "\n",
    "hiddens = [3]  ##[3,4] already finished\n",
    "neurons = [128]\n",
    "\n",
    "activation = torch.nn.functional.tanh\n",
    "\n",
    "start_lr = 1e-3\n",
    "end_lr = 1e-6\n",
    "\n",
    "weight = [1, 1, 1, 1, 1, 1]\n",
    "for hidden in hiddens:\n",
    "    for neuron in neurons:\n",
    "        for mode in ['PINN', 'IA_PINN','Fourier_PINN', 'AF_PINN']:  ##['PINN', 'IA_PINN', 'Fourier_PINN', 'AF_PINN']\n",
    "\n",
    "            layer = [2] + [neuron]*hidden + [6]\n",
    "            \n",
    "            star_time = timeit.default_timer()\n",
    "            num_epochs = 2000\n",
    "            sub_spochs = 5\n",
    "\n",
    "            loss_log_total,loss_log_pde, loss_log_bc, loss_log_ic = [],[],[],[]\n",
    "            torch.cuda.empty_cache()\n",
    "            print(f'{mode}_[{neuron}]x{hidden}:')\n",
    "            \n",
    "            if mode == 'PINN':\n",
    "                model = PINN(layer,activation,non_negative=True).to(device)\n",
    "                optimizer = optim.Adam(model.parameters(), lr=start_lr)  \n",
    "                scheduler = optim.lr_scheduler.CosineAnnealingLR(optimizer, T_max=num_epochs * sub_spochs, eta_min=end_lr)\n",
    "            elif mode == 'IA_PINN':\n",
    "                model = Attention_PINN(layer,activation,non_negative=True).to(device)\n",
    "                optimizer = optim.Adam(model.parameters(), lr=start_lr)  \n",
    "                scheduler = optim.lr_scheduler.CosineAnnealingLR(optimizer, T_max=num_epochs * sub_spochs, eta_min=end_lr)\n",
    "            elif mode == 'Fourier_PINN':\n",
    "                model = Fourier_PINN(layer,non_negative=True, activation= activation, use_rff=True, rff_num_features=2*neuron, rff_sigma=1.0).to(device)\n",
    "                optimizer = optim.Adam(model.parameters(), lr=start_lr)  \n",
    "                scheduler = optim.lr_scheduler.CosineAnnealingLR(optimizer, T_max=num_epochs * sub_spochs, eta_min=end_lr)\n",
    "            elif mode == 'AF_PINN':\n",
    "                model = AF_PINN(layer, non_negative=True,activation = activation, use_rff=True, rff_num_features=2*neuron, rff_sigma=1.0).to(device)\n",
    "                optimizer = optim.Adam(model.parameters(), lr=start_lr)  \n",
    "                scheduler = optim.lr_scheduler.CosineAnnealingLR(optimizer, T_max=num_epochs * sub_spochs, eta_min=end_lr)\n",
    "            else:\n",
    "                print(\"Man! What can I say! Wrong Mode!!!\")\n",
    "                break            \n",
    "            points_types = ['domain', 'left_bc', 'right_bc', 'initial']\n",
    "            coords_pde, coords_bc1, coords_bc2, coords_ic = get_points(N)    \n",
    "            # coords_pde, coords_bc1, coords_bc2, coords_ic = [\n",
    "            #     generator.grid_generator(2500 if pt in ['left_bc', 'right_bc'] else 10201, points_type=pt, nondim= True) \n",
    "            #     for pt in points_types\n",
    "            # ]\n",
    "            # Since x = [0,200] is interphase-boundary area, we should add my sample points in this area.\n",
    "            # area_enhance = generator.LHS_local_enhance(N = 5000, points_type='domain',enhance_area=[[0,200],[0,60]],nondim= True)\n",
    "\n",
    "            # coords_pde = torch.cat((coords_pde, area_enhance), dim=0)\n",
    "\n",
    "            for idx in range(sub_spochs):\n",
    "                print(f'Epoch: {idx+1}/{sub_spochs}----------------')\n",
    "                model.train()\n",
    "                \n",
    "                pbar = tqdm(range(num_epochs))\n",
    "                for epoch in pbar:\n",
    "                    current_lr = optimizer.param_groups[0]['lr'] \n",
    "                    def closure() -> Tensor:\n",
    "                        global loss_pde, D_star, loss_bc1, loss_bc2, loss_ic1, loss_ic2\n",
    "                        optimizer.zero_grad()\n",
    "\n",
    "                        # 计算损失时使用batch数据\n",
    "                        loss_eq1, loss_eq2, loss_eq3, loss_eq4, loss_eq5, loss_eq6, D_star = compute_pde(model, coords_pde, anneal_time=anneal_time)\n",
    "                        loss_pde = loss_eq1 + loss_eq2 + loss_eq3 + loss_eq4 + loss_eq5 + loss_eq6\n",
    "                        loss_bc1 = compute_bc(model, coords_bc1)\n",
    "                        loss_bc2 = compute_bc(model, coords_bc2)\n",
    "                        loss_ic1, loss_ic2 = compute_ic(model, coords_ic)\n",
    "\n",
    "                        #Give a weight to initial loss term\n",
    "                        loss = weight[0]*loss_pde +  weight[1]*loss_bc1 +  weight[2]*loss_bc2 +  weight[3]*loss_ic1 +  weight[4]*loss_ic2 \n",
    "\n",
    "                        loss.backward()\n",
    "                        torch.nn.utils.clip_grad_norm_(model.parameters(), max_norm=1.0, norm_type= 2)\n",
    "                        return loss\n",
    "\n",
    "                    optimizer.step(closure)\n",
    "                    \n",
    "                    # 如果使用scheduler（只在Adam阶段）\n",
    "                    if scheduler is not None:\n",
    "                        scheduler.step()\n",
    "                    \n",
    "                    loss_total = weight[0]*loss_pde +  weight[1]*loss_bc1 +  weight[2]*loss_bc2 +  weight[3]*loss_ic1 +  weight[4]*loss_ic2 \n",
    "\n",
    "                    loss_log_total.append(loss_total.item())\n",
    "                    loss_log_pde.append(loss_pde.item())\n",
    "                    loss_log_bc.append(loss_bc1.item() + loss_bc2.item())\n",
    "                    loss_log_ic.append(loss_ic1.item() + loss_ic2.item())\n",
    "                    \n",
    "                    if epoch % 10 == 0:\n",
    "                        pbar.set_postfix({\n",
    "                            'Loss': '{0:.3e}'.format(loss_total),\n",
    "                            'PDE': '{0:.3e}'.format(weight[0]*loss_pde.item()),\n",
    "                            'BC': '{0:.3e},{1:.3e}'.format(weight[1]*loss_bc1.item(),weight[2]*loss_bc2.item()),\n",
    "                            'IC': '{0:.3e},{1:.3e}'.format(weight[3]*loss_ic1.item(),weight[4]*loss_ic2.item()),\n",
    "                            'D*': '{0:.2e},{1:.2e}'.format(torch.max(D_star),torch.min(D_star)),\n",
    "                            'lr': '{0:.2e}'.format(current_lr),\n",
    "                        })        \n",
    "                    # # 将四个张量放在一个列表中并随机打乱\n",
    "                    shuffled_tensors = [tensor[torch.randperm(tensor.size(0))] for tensor in [coords_pde, coords_bc1, coords_bc2, coords_ic]]\n",
    "\n",
    "                    # 解包到四个变量中\n",
    "                    coords_pde, coords_bc1, coords_bc2, coords_ic = shuffled_tensors\n",
    "                \n",
    "                    if torch.isnan(loss_total):\n",
    "                        print('Loss is Nan, please check your model parameters')\n",
    "                        break\n",
    "                \n",
    "                true_path = './FDM/range[0,1]_60/'\n",
    "                file_names = ['u1_output.csv','u2_output.csv','u3_output.csv','u4_output.csv','u5_output.csv','u6_output.csv']\n",
    "                true_data = [pd.read_csv(true_path + file_name,header=None) for file_name in file_names]\n",
    "\n",
    "                model.eval()\n",
    "                val_data = generator.grid_generator(N=10201, points_type= 'domain', nondim= True)\n",
    "                result = model(val_data).data.cpu().numpy()\n",
    "                relative_error(result,true_data)\n",
    "\n",
    "                ##模型储存\n",
    "                save_path = f'./Results/{mode}_[{neuron}]x{hidden}/model_save/'\n",
    "                os.makedirs(save_path, exist_ok=True)  # 确保保存路径存在\n",
    "                # 指定模型文件名\n",
    "                model_file = os.path.join(save_path, f'{mode}_[{neuron}]x{hidden}_{(idx+1)*num_epochs}.pth')\n",
    "                # 保存模型\n",
    "                torch.save(model.state_dict(), model_file)\n",
    "                print(f\"模型已保存至 {model_file}\")\n",
    "            \n",
    "            # 绘制结果\n",
    "            plot_loss_curve(f'{mode}_[{neuron}]x{hidden}',loss_log_total,loss_log_pde, loss_log_bc, loss_log_ic)\n",
    "            \n",
    "            plot_relative_concen(f'{mode}_[{neuron}]x{hidden}',result,data_save=True)\n",
    "            \n",
    "            plot_3d_concen(f'{mode}_[{neuron}]x{hidden}', result, true_data)\n",
    "\n",
    "            Training_time = timeit.default_timer() - star_time\n",
    "            print(f'Training time: {Training_time:.2f}s-------------------------')\n"
   ]
  },
  {
   "cell_type": "code",
   "execution_count": 5,
   "metadata": {},
   "outputs": [],
   "source": [
    "# from torch import Tensor\n",
    "\n",
    "\n",
    "# hiddens = [6, 5, 4, 3]  ##[3,4] already finished\n",
    "# neurons = [128,96,64]\n",
    "\n",
    "# activation = torch.nn.functional.silu\n",
    "\n",
    "# start_lr = 1e-3\n",
    "# end_lr = 1e-8\n",
    "\n",
    "# weight = [1, 1, 1, 1, 1, 1]\n",
    "# for hidden in hiddens:\n",
    "#     for neuron in neurons:\n",
    "#         for mode in ['Fourier_PINN']:  ##['PINN', 'IA_PINN', 'Fourier_PINN', 'AF_PINN']\n",
    "#             layer = [2] + [neuron]*hidden + [6]\n",
    "            \n",
    "#             star_time = timeit.default_timer()\n",
    "#             num_epochs = 5000\n",
    "#             sub_spochs = 10\n",
    "\n",
    "#             loss_log_total,loss_log_pde, loss_log_bc, loss_log_ic = [],[],[],[]\n",
    "#             torch.cuda.empty_cache()\n",
    "#             print(f'{mode}_[{neuron}]x{hidden}:')\n",
    "            \n",
    "#             if mode == 'PINN':\n",
    "#                 model = PINN(layer,activation,non_negative=True).to(device)\n",
    "#                 optimizer = optim.Adam(model.parameters(), lr=start_lr)  \n",
    "#                 scheduler = optim.lr_scheduler.CosineAnnealingLR(optimizer, T_max=num_epochs * sub_spochs, eta_min=end_lr)\n",
    "#             elif mode == 'IA_PINN':\n",
    "#                 model = Attention_PINN(layer,activation,non_negative=True).to(device)\n",
    "#                 optimizer = optim.Adam(model.parameters(), lr=start_lr)  \n",
    "#                 scheduler = optim.lr_scheduler.CosineAnnealingLR(optimizer, T_max=num_epochs * sub_spochs, eta_min=end_lr)\n",
    "#             elif mode == 'Fourier_PINN':\n",
    "#                 model = Fourier_PINN(layer,non_negative=True, activation= activation, use_rff=True, rff_num_features=64, rff_sigma=5.0).to(device)\n",
    "#                 optimizer = optim.Adam(model.parameters(), lr=start_lr)  \n",
    "#                 scheduler = optim.lr_scheduler.CosineAnnealingLR(optimizer, T_max=num_epochs * sub_spochs, eta_min=end_lr)\n",
    "#             elif mode == 'AF_PINN':\n",
    "#                 model = AF_PINN(layer, non_negative=True,activation = activation, use_rff=True, rff_num_features=64, rff_sigma=5.0).to(device)\n",
    "#                 optimizer = optim.Adam(model.parameters(), lr=start_lr)  \n",
    "#                 scheduler = optim.lr_scheduler.CosineAnnealingLR(optimizer, T_max=num_epochs * sub_spochs, eta_min=end_lr)\n",
    "#             else:\n",
    "#                 print(\"Man! What can I say! Wrong Mode!!!\")\n",
    "#                 break            \n",
    "#             points_types = ['domain', 'left_bc', 'right_bc', 'initial']\n",
    "\n",
    "#             coords_pde, coords_bc1, coords_bc2, coords_ic = [\n",
    "#                 generator.grid_generator(2500 if pt in ['left_bc', 'right_bc'] else 10201, points_type=pt, nondim= True) \n",
    "#                 for pt in points_types\n",
    "#             ]\n",
    "\n",
    "#             for idx in range(sub_spochs):\n",
    "#                 print(f'Epoch: {idx+1}/{sub_spochs}----------------')\n",
    "#                 model.train()\n",
    "                \n",
    "#                 pbar = tqdm(range(num_epochs))\n",
    "#                 for epoch in pbar:\n",
    "#                     current_lr = optimizer.param_groups[0]['lr'] \n",
    "#                     def closure() -> Tensor:\n",
    "#                         global loss_pde, D_star, loss_bc1, loss_bc2, loss_ic1, loss_ic2\n",
    "#                         optimizer.zero_grad()\n",
    "\n",
    "#                         # 计算损失时使用batch数据\n",
    "#                         loss_eq1, loss_eq2, loss_eq3, loss_eq4, loss_eq5, loss_eq6, D_star = compute_pde(model, coords_pde)\n",
    "#                         loss_pde = loss_eq1 + loss_eq2 + loss_eq3 + loss_eq4 + loss_eq5 + loss_eq6\n",
    "#                         loss_bc1 = compute_bc(model, coords_bc1)\n",
    "#                         loss_bc2 = compute_bc(model, coords_bc2)\n",
    "#                         loss_ic1, loss_ic2 = compute_ic(model, coords_ic)\n",
    "\n",
    "#                         #Give a weight to initial loss term\n",
    "#                         loss = weight[0]*loss_pde +  weight[1]*loss_bc1 +  weight[2]*loss_bc2 +  weight[3]*loss_ic1 +  weight[4]*loss_ic2 \n",
    "\n",
    "#                         loss.backward()\n",
    "#                         torch.nn.utils.clip_grad_norm_(model.parameters(), max_norm=1.0, norm_type= 2)\n",
    "#                         return loss\n",
    "\n",
    "#                     optimizer.step(closure)\n",
    "                    \n",
    "#                     # 如果使用scheduler（只在Adam阶段）\n",
    "#                     if scheduler is not None:\n",
    "#                         scheduler.step()\n",
    "                    \n",
    "#                     loss_total = weight[0]*loss_pde +  weight[1]*loss_bc1 +  weight[2]*loss_bc2 +  weight[3]*loss_ic1 +  weight[4]*loss_ic2 \n",
    "\n",
    "#                     loss_log_total.append(loss_total.item())\n",
    "#                     loss_log_pde.append(loss_pde.item())\n",
    "#                     loss_log_bc.append(loss_bc1.item() + loss_bc2.item())\n",
    "#                     loss_log_ic.append(loss_ic1.item() + loss_ic2.item())\n",
    "                    \n",
    "#                     if epoch % 10 == 0:\n",
    "#                         pbar.set_postfix({\n",
    "#                             'Loss': '{0:.3e}'.format(loss_total),\n",
    "#                             'PDE': '{0:.3e}'.format(weight[0]*loss_pde.item()),\n",
    "#                             'BC': '{0:.3e},{1:.3e}'.format(weight[1]*loss_bc1.item(),weight[2]*loss_bc2.item()),\n",
    "#                             'IC': '{0:.3e},{1:.3e}'.format(weight[3]*loss_ic1.item(),weight[4]*loss_ic2.item()),\n",
    "#                             'D*': '{0:.2e},{1:.2e}'.format(torch.max(D_star),torch.min(D_star)),\n",
    "#                             'lr': '{0:.2e}'.format(current_lr),\n",
    "#                         })        \n",
    "#                     # # 将四个张量放在一个列表中并随机打乱\n",
    "#                     shuffled_tensors = [tensor[torch.randperm(tensor.size(0))] for tensor in [coords_pde, coords_bc1, coords_bc2, coords_ic]]\n",
    "\n",
    "#                     # 解包到四个变量中\n",
    "#                     coords_pde, coords_bc1, coords_bc2, coords_ic = shuffled_tensors\n",
    "                \n",
    "#                     if torch.isnan(loss_total):\n",
    "#                         print('Loss is Nan, please check your model parameters')\n",
    "#                         break\n",
    "                \n",
    "#                 true_path = './FDM/range[0,1]/'\n",
    "#                 file_names = ['u1_output.csv','u2_output.csv','u3_output.csv','u4_output.csv','u5_output.csv','u6_output.csv']\n",
    "#                 true_data = [pd.read_csv(true_path + file_name,header=None) for file_name in file_names]\n",
    "\n",
    "#                 model.eval()\n",
    "#                 val_data = generator.grid_generator(N=10201, points_type= 'domain', nondim= True)\n",
    "#                 result = model(val_data).data.cpu().numpy()\n",
    "#                 relative_error(result,true_data)\n",
    "\n",
    "#                 ##模型储存\n",
    "#                 save_path = f'./Results/{mode}_[{neuron}]x{hidden}/model_save/'\n",
    "#                 os.makedirs(save_path, exist_ok=True)  # 确保保存路径存在\n",
    "#                 # 指定模型文件名\n",
    "#                 model_file = os.path.join(save_path, f'{mode}_[{neuron}]x{hidden}_{(idx+1)*num_epochs}.pth')\n",
    "#                 # 保存模型\n",
    "#                 torch.save(model.state_dict(), model_file)\n",
    "#                 print(f\"模型已保存至 {model_file}\")\n",
    "            \n",
    "#             # 绘制结果\n",
    "#             plot_loss_curve(f'{mode}_[{neuron}]x{hidden}',loss_log_total,loss_log_pde, loss_log_bc, loss_log_ic)\n",
    "            \n",
    "#             plot_relative_concen(f'{mode}_[{neuron}]x{hidden}',result,data_save=True)\n",
    "            \n",
    "#             plot_3d_concen(f'{mode}_[{neuron}]x{hidden}', result, true_data)\n",
    "\n",
    "#             Training_time = timeit.default_timer() - star_time\n",
    "#             print(f'Training time: {Training_time:.2f}s-------------------------')\n"
   ]
  }
 ],
 "metadata": {
  "kernelspec": {
   "display_name": "pytorch",
   "language": "python",
   "name": "python3"
  },
  "language_info": {
   "codemirror_mode": {
    "name": "ipython",
    "version": 3
   },
   "file_extension": ".py",
   "mimetype": "text/x-python",
   "name": "python",
   "nbconvert_exporter": "python",
   "pygments_lexer": "ipython3",
   "version": "3.9.7"
  }
 },
 "nbformat": 4,
 "nbformat_minor": 2
}
