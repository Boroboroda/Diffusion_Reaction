{
 "cells": [
  {
   "cell_type": "code",
   "execution_count": 1,
   "metadata": {},
   "outputs": [
    {
     "name": "stdout",
     "output_type": "stream",
     "text": [
      "Using device: cuda:0\n"
     ]
    }
   ],
   "source": [
    "import sys\n",
    "import os\n",
    "import timeit\n",
    "\n",
    "current_dir = os.getcwd()\n",
    "\n",
    "parent_dir = os.path.dirname(current_dir)\n",
    "sys.path.append(parent_dir)\n",
    "\n",
    "import torch\n",
    "import torch.nn as nn\n",
    "import torch.optim as optim\n",
    "import numpy as np\n",
    "from tqdm import *\n",
    "import matplotlib.pyplot as plt\n",
    "from matplotlib import cm\n",
    "from mpl_toolkits.mplot3d import Axes3D\n",
    "from matplotlib import gridspec\n",
    "import random\n",
    "\n",
    "from Networks.DNN import PINN\n",
    "from Networks.IA_DNN import Attention_PINN\n",
    "from Networks.Fourier_DNN import Fourier_PINN\n",
    "from Networks.AF_PINN import AF_PINN\n",
    "from Networks.Efficient_KAN import KAN\n",
    "from Networks.Cheby_KAN import ChebyKAN\n",
    "from DataGenerator import DataGenerator\n",
    "\n",
    "import pandas as pd\n",
    "\n",
    "from torch.utils.data import TensorDataset, DataLoader\n",
    "\n",
    "import time\n",
    "from datetime import datetime\n",
    "\n",
    "device = torch.device(\"cuda:0\" if torch.cuda.is_available() else \"cpu\")\n",
    "print(\"Using device:\", device)\n",
    "def seed_torch(seed):\n",
    "    random.seed(seed)\n",
    "    np.random.seed(seed)\n",
    "    torch.manual_seed(seed)\n",
    "    torch.cuda.manual_seed(seed)\n",
    "seed_torch(42)"
   ]
  },
  {
   "cell_type": "code",
   "execution_count": 2,
   "metadata": {},
   "outputs": [],
   "source": [
    "L = 600.0\n",
    "h = 100.0\n",
    "anneal_time= 60\n",
    "D_A = 360.0  #6nm^2/s 360nm^2/min\n",
    "k11,k12,k21 = 3.6e-3,3.6e-3,0.0\n",
    "N_SA,N_SB,N_SC,N_SAB,N_SABB,N_SAAB = 90.0,48.0,90.0,90.0,90.0,90.0\n",
    "\n",
    "geom = [0,L]\n",
    "time = [0,anneal_time]\n",
    "\n",
    "##How I genertate data\n",
    "generator = DataGenerator(geom,time)\n",
    "\n",
    "from pde_system import compute_pde, compute_bc, compute_ic,relative_error\n",
    "from graphics import plot_loss_curve,plot_relative_concen,plot_3d_concen\n",
    "# from Utilitiy.residual_adaptive_resample import select_high_loss_points\n"
   ]
  },
  {
   "cell_type": "code",
   "execution_count": 3,
   "metadata": {},
   "outputs": [
    {
     "name": "stdout",
     "output_type": "stream",
     "text": [
      "PINN_[128]x6:\n",
      "Epoch: 1/10----------------\n"
     ]
    },
    {
     "name": "stderr",
     "output_type": "stream",
     "text": [
      "100%|██████████| 5000/5000 [13:23<00:00,  6.22it/s, Loss=1.296e-02, PDE=3.972e-03, BC=1.735e-04,2.007e-04, IC=8.041e-03,5.774e-04, D*=6.00e-02,3.94e-03, lr=9.76e-04]\n"
     ]
    },
    {
     "name": "stdout",
     "output_type": "stream",
     "text": [
      "R^2 Error: {'Ni': 0.068, 'SiC': 0.022, 'C': 0.086, 'NiSi': 0.198, 'NiSi2': 0.192}\n",
      "Inf Error: {'Ni': 0.066, 'SiC': 0.019, 'C': 0.166, 'NiSi': 0.28, 'NiSi2': 0.269}\n",
      "Mean Error: (0.11299526790560555, 0.16011207649065823)\n",
      "模型已保存至 ./Results/PINN_[128]x6/model_save/PINN_[128]x6_5000.pth\n",
      "Epoch: 2/10----------------\n"
     ]
    },
    {
     "name": "stderr",
     "output_type": "stream",
     "text": [
      "100%|██████████| 5000/5000 [13:38<00:00,  6.11it/s, Loss=9.551e-03, PDE=2.526e-03, BC=3.816e-04,1.296e-05, IC=6.117e-03,5.133e-04, D*=6.00e-02,2.99e-03, lr=9.05e-04]\n"
     ]
    },
    {
     "name": "stdout",
     "output_type": "stream",
     "text": [
      "R^2 Error: {'Ni': 0.06, 'SiC': 0.015, 'C': 0.062, 'NiSi': 0.172, 'NiSi2': 0.201}\n",
      "Inf Error: {'Ni': 0.055, 'SiC': 0.017, 'C': 0.142, 'NiSi': 0.288, 'NiSi2': 0.392}\n",
      "Mean Error: (0.10198799662802471, 0.17902898882330737)\n",
      "模型已保存至 ./Results/PINN_[128]x6/model_save/PINN_[128]x6_10000.pth\n",
      "Epoch: 3/10----------------\n"
     ]
    },
    {
     "name": "stderr",
     "output_type": "stream",
     "text": [
      "100%|██████████| 5000/5000 [13:24<00:00,  6.21it/s, Loss=9.921e-03, PDE=5.178e-03, BC=2.943e-04,2.528e-05, IC=4.125e-03,2.977e-04, D*=6.00e-02,2.69e-03, lr=7.94e-04]\n"
     ]
    },
    {
     "name": "stdout",
     "output_type": "stream",
     "text": [
      "R^2 Error: {'Ni': 0.048, 'SiC': 0.007, 'C': 0.056, 'NiSi': 0.151, 'NiSi2': 0.162}\n",
      "Inf Error: {'Ni': 0.045, 'SiC': 0.012, 'C': 0.117, 'NiSi': 0.25, 'NiSi2': 0.359}\n",
      "Mean Error: (0.08475741900480706, 0.1566559951421615)\n",
      "模型已保存至 ./Results/PINN_[128]x6/model_save/PINN_[128]x6_15000.pth\n",
      "Epoch: 4/10----------------\n"
     ]
    },
    {
     "name": "stderr",
     "output_type": "stream",
     "text": [
      "100%|██████████| 5000/5000 [13:08<00:00,  6.34it/s, Loss=5.469e-03, PDE=1.247e-03, BC=3.100e-04,2.813e-05, IC=3.540e-03,3.440e-04, D*=6.00e-02,2.54e-03, lr=6.55e-04]\n"
     ]
    },
    {
     "name": "stdout",
     "output_type": "stream",
     "text": [
      "R^2 Error: {'Ni': 0.047, 'SiC': 0.009, 'C': 0.043, 'NiSi': 0.159, 'NiSi2': 0.193}\n",
      "Inf Error: {'Ni': 0.048, 'SiC': 0.009, 'C': 0.112, 'NiSi': 0.277, 'NiSi2': 0.45}\n",
      "Mean Error: (0.09007225914053403, 0.17915974760257578)\n",
      "模型已保存至 ./Results/PINN_[128]x6/model_save/PINN_[128]x6_20000.pth\n",
      "Epoch: 5/10----------------\n"
     ]
    },
    {
     "name": "stderr",
     "output_type": "stream",
     "text": [
      "100%|██████████| 5000/5000 [12:28<00:00,  6.68it/s, Loss=4.336e-03, PDE=1.442e-03, BC=2.032e-04,1.403e-05, IC=2.481e-03,1.951e-04, D*=6.00e-02,2.32e-03, lr=5.00e-04]\n"
     ]
    },
    {
     "name": "stdout",
     "output_type": "stream",
     "text": [
      "R^2 Error: {'Ni': 0.043, 'SiC': 0.006, 'C': 0.036, 'NiSi': 0.128, 'NiSi2': 0.128}\n",
      "Inf Error: {'Ni': 0.041, 'SiC': 0.009, 'C': 0.094, 'NiSi': 0.223, 'NiSi2': 0.298}\n",
      "Mean Error: (0.06816711168068687, 0.1331944746885113)\n",
      "模型已保存至 ./Results/PINN_[128]x6/model_save/PINN_[128]x6_25000.pth\n",
      "Epoch: 6/10----------------\n"
     ]
    },
    {
     "name": "stderr",
     "output_type": "stream",
     "text": [
      "100%|██████████| 5000/5000 [13:34<00:00,  6.14it/s, Loss=9.006e-03, PDE=6.028e-03, BC=2.614e-05,3.341e-06, IC=2.797e-03,1.507e-04, D*=6.00e-02,1.87e-03, lr=3.46e-04]\n"
     ]
    },
    {
     "name": "stdout",
     "output_type": "stream",
     "text": [
      "R^2 Error: {'Ni': 0.045, 'SiC': 0.008, 'C': 0.028, 'NiSi': 0.108, 'NiSi2': 0.114}\n",
      "Inf Error: {'Ni': 0.044, 'SiC': 0.01, 'C': 0.076, 'NiSi': 0.198, 'NiSi2': 0.275}\n",
      "Mean Error: (0.06055248399936012, 0.12068001060176874)\n",
      "模型已保存至 ./Results/PINN_[128]x6/model_save/PINN_[128]x6_30000.pth\n",
      "Epoch: 7/10----------------\n"
     ]
    },
    {
     "name": "stderr",
     "output_type": "stream",
     "text": [
      "100%|██████████| 5000/5000 [13:29<00:00,  6.18it/s, Loss=2.515e-03, PDE=1.107e-03, BC=9.201e-05,4.869e-07, IC=1.196e-03,1.195e-04, D*=6.00e-02,1.75e-03, lr=2.06e-04]\n"
     ]
    },
    {
     "name": "stdout",
     "output_type": "stream",
     "text": [
      "R^2 Error: {'Ni': 0.037, 'SiC': 0.007, 'C': 0.023, 'NiSi': 0.09, 'NiSi2': 0.103}\n",
      "Inf Error: {'Ni': 0.038, 'SiC': 0.009, 'C': 0.064, 'NiSi': 0.174, 'NiSi2': 0.245}\n",
      "Mean Error: (0.052115055897218696, 0.10595824084704535)\n",
      "模型已保存至 ./Results/PINN_[128]x6/model_save/PINN_[128]x6_35000.pth\n",
      "Epoch: 8/10----------------\n"
     ]
    },
    {
     "name": "stderr",
     "output_type": "stream",
     "text": [
      "100%|██████████| 5000/5000 [13:12<00:00,  6.31it/s, Loss=5.210e-04, PDE=1.171e-04, BC=1.696e-06,2.625e-07, IC=3.339e-04,6.805e-05, D*=6.00e-02,1.29e-03, lr=9.57e-05]\n"
     ]
    },
    {
     "name": "stdout",
     "output_type": "stream",
     "text": [
      "R^2 Error: {'Ni': 0.036, 'SiC': 0.008, 'C': 0.022, 'NiSi': 0.066, 'NiSi2': 0.074}\n",
      "Inf Error: {'Ni': 0.038, 'SiC': 0.011, 'C': 0.047, 'NiSi': 0.13, 'NiSi2': 0.162}\n",
      "Mean Error: (0.04136130199268735, 0.0775071480494045)\n",
      "模型已保存至 ./Results/PINN_[128]x6/model_save/PINN_[128]x6_40000.pth\n",
      "Epoch: 9/10----------------\n"
     ]
    },
    {
     "name": "stderr",
     "output_type": "stream",
     "text": [
      "100%|██████████| 5000/5000 [13:13<00:00,  6.30it/s, Loss=2.593e-04, PDE=7.967e-05, BC=7.577e-07,2.036e-07, IC=1.237e-04,5.496e-05, D*=6.00e-02,1.08e-03, lr=2.46e-05]\n"
     ]
    },
    {
     "name": "stdout",
     "output_type": "stream",
     "text": [
      "R^2 Error: {'Ni': 0.036, 'SiC': 0.009, 'C': 0.024, 'NiSi': 0.057, 'NiSi2': 0.07}\n",
      "Inf Error: {'Ni': 0.038, 'SiC': 0.012, 'C': 0.044, 'NiSi': 0.111, 'NiSi2': 0.141}\n",
      "Mean Error: (0.03910767190269469, 0.06918841508872375)\n",
      "模型已保存至 ./Results/PINN_[128]x6/model_save/PINN_[128]x6_45000.pth\n",
      "Epoch: 10/10----------------\n"
     ]
    },
    {
     "name": "stderr",
     "output_type": "stream",
     "text": [
      "100%|██████████| 5000/5000 [13:13<00:00,  6.30it/s, Loss=2.015e-04, PDE=7.368e-05, BC=7.539e-07,1.877e-07, IC=7.604e-05,5.086e-05, D*=6.00e-02,1.00e-03, lr=1.01e-08]\n"
     ]
    },
    {
     "name": "stdout",
     "output_type": "stream",
     "text": [
      "R^2 Error: {'Ni': 0.036, 'SiC': 0.009, 'C': 0.025, 'NiSi': 0.055, 'NiSi2': 0.069}\n",
      "Inf Error: {'Ni': 0.038, 'SiC': 0.012, 'C': 0.043, 'NiSi': 0.106, 'NiSi2': 0.134}\n",
      "Mean Error: (0.038807816492441326, 0.06675526955691465)\n",
      "模型已保存至 ./Results/PINN_[128]x6/model_save/PINN_[128]x6_50000.pth\n",
      "Training time: 7994.99s-------------------------\n",
      "PINN_[96]x6:\n",
      "Epoch: 1/10----------------\n"
     ]
    },
    {
     "name": "stderr",
     "output_type": "stream",
     "text": [
      "100%|██████████| 5000/5000 [11:55<00:00,  6.98it/s, Loss=1.554e-02, PDE=4.666e-03, BC=1.679e-04,1.712e-04, IC=9.931e-03,6.062e-04, D*=6.00e-02,4.59e-03, lr=9.76e-04]\n"
     ]
    },
    {
     "name": "stdout",
     "output_type": "stream",
     "text": [
      "R^2 Error: {'Ni': 0.071, 'SiC': 0.012, 'C': 0.093, 'NiSi': 0.197, 'NiSi2': 0.203}\n",
      "Inf Error: {'Ni': 0.074, 'SiC': 0.026, 'C': 0.202, 'NiSi': 0.255, 'NiSi2': 0.246}\n",
      "Mean Error: (0.11522319288671132, 0.16070800367033086)\n",
      "模型已保存至 ./Results/PINN_[96]x6/model_save/PINN_[96]x6_5000.pth\n",
      "Epoch: 2/10----------------\n"
     ]
    },
    {
     "name": "stderr",
     "output_type": "stream",
     "text": [
      "100%|██████████| 5000/5000 [11:42<00:00,  7.12it/s, Loss=9.716e-03, PDE=2.431e-03, BC=3.657e-05,2.070e-04, IC=6.588e-03,4.537e-04, D*=6.00e-02,3.26e-03, lr=9.05e-04]\n"
     ]
    },
    {
     "name": "stdout",
     "output_type": "stream",
     "text": [
      "R^2 Error: {'Ni': 0.063, 'SiC': 0.023, 'C': 0.063, 'NiSi': 0.183, 'NiSi2': 0.211}\n",
      "Inf Error: {'Ni': 0.061, 'SiC': 0.024, 'C': 0.151, 'NiSi': 0.302, 'NiSi2': 0.36}\n",
      "Mean Error: (0.10845259715943459, 0.17947297473399748)\n",
      "模型已保存至 ./Results/PINN_[96]x6/model_save/PINN_[96]x6_10000.pth\n",
      "Epoch: 3/10----------------\n"
     ]
    },
    {
     "name": "stderr",
     "output_type": "stream",
     "text": [
      "100%|██████████| 5000/5000 [11:43<00:00,  7.11it/s, Loss=6.612e-03, PDE=1.684e-03, BC=3.958e-04,8.515e-05, IC=4.147e-03,2.998e-04, D*=6.00e-02,2.93e-03, lr=7.94e-04]\n"
     ]
    },
    {
     "name": "stdout",
     "output_type": "stream",
     "text": [
      "R^2 Error: {'Ni': 0.049, 'SiC': 0.016, 'C': 0.058, 'NiSi': 0.148, 'NiSi2': 0.144}\n",
      "Inf Error: {'Ni': 0.049, 'SiC': 0.022, 'C': 0.145, 'NiSi': 0.256, 'NiSi2': 0.274}\n",
      "Mean Error: (0.08289733800571936, 0.1491492334058648)\n",
      "模型已保存至 ./Results/PINN_[96]x6/model_save/PINN_[96]x6_15000.pth\n",
      "Epoch: 4/10----------------\n"
     ]
    },
    {
     "name": "stderr",
     "output_type": "stream",
     "text": [
      "100%|██████████| 5000/5000 [11:47<00:00,  7.07it/s, Loss=5.692e-03, PDE=1.413e-03, BC=5.671e-04,5.226e-05, IC=3.413e-03,2.466e-04, D*=6.00e-02,2.62e-03, lr=6.55e-04]\n"
     ]
    },
    {
     "name": "stdout",
     "output_type": "stream",
     "text": [
      "R^2 Error: {'Ni': 0.049, 'SiC': 0.024, 'C': 0.048, 'NiSi': 0.146, 'NiSi2': 0.142}\n",
      "Inf Error: {'Ni': 0.044, 'SiC': 0.023, 'C': 0.123, 'NiSi': 0.25, 'NiSi2': 0.281}\n",
      "Mean Error: (0.08170274394887697, 0.14409514960277697)\n",
      "模型已保存至 ./Results/PINN_[96]x6/model_save/PINN_[96]x6_20000.pth\n",
      "Epoch: 5/10----------------\n"
     ]
    },
    {
     "name": "stderr",
     "output_type": "stream",
     "text": [
      "100%|██████████| 5000/5000 [11:43<00:00,  7.11it/s, Loss=6.327e-03, PDE=3.436e-03, BC=1.285e-04,6.357e-05, IC=2.504e-03,1.943e-04, D*=6.00e-02,2.26e-03, lr=5.00e-04]\n"
     ]
    },
    {
     "name": "stdout",
     "output_type": "stream",
     "text": [
      "R^2 Error: {'Ni': 0.041, 'SiC': 0.009, 'C': 0.044, 'NiSi': 0.127, 'NiSi2': 0.121}\n",
      "Inf Error: {'Ni': 0.04, 'SiC': 0.012, 'C': 0.11, 'NiSi': 0.224, 'NiSi2': 0.241}\n",
      "Mean Error: (0.06866444374222161, 0.12560599015384027)\n",
      "模型已保存至 ./Results/PINN_[96]x6/model_save/PINN_[96]x6_25000.pth\n",
      "Epoch: 6/10----------------\n"
     ]
    },
    {
     "name": "stderr",
     "output_type": "stream",
     "text": [
      "100%|██████████| 5000/5000 [11:44<00:00,  7.10it/s, Loss=3.714e-03, PDE=1.262e-03, BC=5.849e-05,2.885e-05, IC=2.203e-03,1.607e-04, D*=6.00e-02,2.06e-03, lr=3.46e-04]\n"
     ]
    },
    {
     "name": "stdout",
     "output_type": "stream",
     "text": [
      "R^2 Error: {'Ni': 0.037, 'SiC': 0.007, 'C': 0.04, 'NiSi': 0.111, 'NiSi2': 0.109}\n",
      "Inf Error: {'Ni': 0.038, 'SiC': 0.009, 'C': 0.098, 'NiSi': 0.199, 'NiSi2': 0.218}\n",
      "Mean Error: (0.06068471556398012, 0.11222946750014211)\n",
      "模型已保存至 ./Results/PINN_[96]x6/model_save/PINN_[96]x6_30000.pth\n",
      "Epoch: 7/10----------------\n"
     ]
    },
    {
     "name": "stderr",
     "output_type": "stream",
     "text": [
      "100%|██████████| 5000/5000 [11:41<00:00,  7.13it/s, Loss=2.712e-03, PDE=6.600e-04, BC=5.612e-05,5.376e-05, IC=1.829e-03,1.128e-04, D*=6.00e-02,1.75e-03, lr=2.06e-04]\n"
     ]
    },
    {
     "name": "stdout",
     "output_type": "stream",
     "text": [
      "R^2 Error: {'Ni': 0.031, 'SiC': 0.01, 'C': 0.041, 'NiSi': 0.1, 'NiSi2': 0.099}\n",
      "Inf Error: {'Ni': 0.032, 'SiC': 0.011, 'C': 0.095, 'NiSi': 0.178, 'NiSi2': 0.186}\n",
      "Mean Error: (0.05622902002947633, 0.10041482731386013)\n",
      "模型已保存至 ./Results/PINN_[96]x6/model_save/PINN_[96]x6_35000.pth\n",
      "Epoch: 8/10----------------\n"
     ]
    },
    {
     "name": "stderr",
     "output_type": "stream",
     "text": [
      "100%|██████████| 5000/5000 [11:44<00:00,  7.10it/s, Loss=1.267e-03, PDE=3.661e-04, BC=1.196e-06,1.808e-05, IC=7.991e-04,8.235e-05, D*=6.00e-02,1.40e-03, lr=9.57e-05]\n"
     ]
    },
    {
     "name": "stdout",
     "output_type": "stream",
     "text": [
      "R^2 Error: {'Ni': 0.027, 'SiC': 0.014, 'C': 0.043, 'NiSi': 0.089, 'NiSi2': 0.091}\n",
      "Inf Error: {'Ni': 0.032, 'SiC': 0.018, 'C': 0.09, 'NiSi': 0.157, 'NiSi2': 0.158}\n",
      "Mean Error: (0.05278710742832806, 0.09097486405444448)\n",
      "模型已保存至 ./Results/PINN_[96]x6/model_save/PINN_[96]x6_40000.pth\n",
      "Epoch: 9/10----------------\n"
     ]
    },
    {
     "name": "stderr",
     "output_type": "stream",
     "text": [
      "100%|██████████| 5000/5000 [11:42<00:00,  7.11it/s, Loss=7.209e-04, PDE=2.397e-04, BC=1.089e-06,1.798e-05, IC=3.951e-04,6.702e-05, D*=6.00e-02,1.17e-03, lr=2.46e-05]\n"
     ]
    },
    {
     "name": "stdout",
     "output_type": "stream",
     "text": [
      "R^2 Error: {'Ni': 0.026, 'SiC': 0.016, 'C': 0.044, 'NiSi': 0.085, 'NiSi2': 0.087}\n",
      "Inf Error: {'Ni': 0.034, 'SiC': 0.02, 'C': 0.088, 'NiSi': 0.146, 'NiSi2': 0.138}\n",
      "Mean Error: (0.051626833437978394, 0.08528387463933482)\n",
      "模型已保存至 ./Results/PINN_[96]x6/model_save/PINN_[96]x6_45000.pth\n",
      "Epoch: 10/10----------------\n"
     ]
    },
    {
     "name": "stderr",
     "output_type": "stream",
     "text": [
      "100%|██████████| 5000/5000 [11:45<00:00,  7.09it/s, Loss=5.781e-04, PDE=2.296e-04, BC=1.050e-06,1.817e-05, IC=2.664e-04,6.291e-05, D*=6.00e-02,1.13e-03, lr=1.01e-08]\n"
     ]
    },
    {
     "name": "stdout",
     "output_type": "stream",
     "text": [
      "R^2 Error: {'Ni': 0.025, 'SiC': 0.016, 'C': 0.045, 'NiSi': 0.084, 'NiSi2': 0.087}\n",
      "Inf Error: {'Ni': 0.036, 'SiC': 0.021, 'C': 0.087, 'NiSi': 0.142, 'NiSi2': 0.133}\n",
      "Mean Error: (0.0515465614086363, 0.08375045306886374)\n",
      "模型已保存至 ./Results/PINN_[96]x6/model_save/PINN_[96]x6_50000.pth\n",
      "Training time: 7070.55s-------------------------\n",
      "PINN_[64]x6:\n",
      "Epoch: 1/10----------------\n"
     ]
    },
    {
     "name": "stderr",
     "output_type": "stream",
     "text": [
      "100%|██████████| 5000/5000 [11:36<00:00,  7.18it/s, Loss=8.212e-02, PDE=5.523e-02, BC=7.603e-05,3.857e-04, IC=2.642e-02,8.840e-06, D*=6.00e-02,7.88e-05, lr=9.76e-04]\n"
     ]
    },
    {
     "name": "stdout",
     "output_type": "stream",
     "text": [
      "R^2 Error: {'Ni': 0.501, 'SiC': 0.097, 'C': 1.0, 'NiSi': 0.795, 'NiSi2': 1.0}\n",
      "Inf Error: {'Ni': 0.573, 'SiC': 0.114, 'C': 1.0, 'NiSi': 0.752, 'NiSi2': 1.0}\n",
      "Mean Error: (0.6785728998582354, 0.6877130819166108)\n",
      "模型已保存至 ./Results/PINN_[64]x6/model_save/PINN_[64]x6_5000.pth\n",
      "Epoch: 2/10----------------\n"
     ]
    },
    {
     "name": "stderr",
     "output_type": "stream",
     "text": [
      "100%|██████████| 5000/5000 [11:35<00:00,  7.19it/s, Loss=6.306e-02, PDE=4.930e-02, BC=6.465e-05,1.035e-04, IC=1.359e-02,7.037e-06, D*=6.00e-02,5.25e-05, lr=9.05e-04]\n"
     ]
    },
    {
     "name": "stdout",
     "output_type": "stream",
     "text": [
      "R^2 Error: {'Ni': 0.495, 'SiC': 0.099, 'C': 1.0, 'NiSi': 0.782, 'NiSi2': 1.0}\n",
      "Inf Error: {'Ni': 0.585, 'SiC': 0.131, 'C': 1.0, 'NiSi': 0.731, 'NiSi2': 1.0}\n",
      "Mean Error: (0.6751597424557689, 0.6892891362080504)\n",
      "模型已保存至 ./Results/PINN_[64]x6/model_save/PINN_[64]x6_10000.pth\n",
      "Epoch: 3/10----------------\n"
     ]
    },
    {
     "name": "stderr",
     "output_type": "stream",
     "text": [
      "100%|██████████| 5000/5000 [11:31<00:00,  7.23it/s, Loss=4.676e-02, PDE=4.102e-02, BC=5.504e-04,2.764e-05, IC=5.150e-03,1.234e-05, D*=6.00e-02,1.39e-04, lr=7.94e-04]\n"
     ]
    },
    {
     "name": "stdout",
     "output_type": "stream",
     "text": [
      "R^2 Error: {'Ni': 0.449, 'SiC': 0.11, 'C': 1.0, 'NiSi': 0.817, 'NiSi2': 1.0}\n",
      "Inf Error: {'Ni': 0.565, 'SiC': 0.148, 'C': 1.0, 'NiSi': 0.808, 'NiSi2': 1.0}\n",
      "Mean Error: (0.6751287395163278, 0.7040646779743084)\n",
      "模型已保存至 ./Results/PINN_[64]x6/model_save/PINN_[64]x6_15000.pth\n",
      "Epoch: 4/10----------------\n"
     ]
    },
    {
     "name": "stderr",
     "output_type": "stream",
     "text": [
      "100%|██████████| 5000/5000 [11:32<00:00,  7.22it/s, Loss=4.911e-02, PDE=4.484e-02, BC=1.074e-03,3.132e-04, IC=2.873e-03,1.748e-05, D*=6.00e-02,9.56e-05, lr=6.55e-04]\n"
     ]
    },
    {
     "name": "stdout",
     "output_type": "stream",
     "text": [
      "R^2 Error: {'Ni': 0.431, 'SiC': 0.127, 'C': 1.0, 'NiSi': 0.852, 'NiSi2': 1.0}\n",
      "Inf Error: {'Ni': 0.555, 'SiC': 0.165, 'C': 1.0, 'NiSi': 0.858, 'NiSi2': 1.0}\n",
      "Mean Error: (0.6821298100966686, 0.7156952326575079)\n",
      "模型已保存至 ./Results/PINN_[64]x6/model_save/PINN_[64]x6_20000.pth\n",
      "Epoch: 5/10----------------\n"
     ]
    },
    {
     "name": "stderr",
     "output_type": "stream",
     "text": [
      "100%|██████████| 5000/5000 [11:32<00:00,  7.22it/s, Loss=2.726e-02, PDE=2.505e-02, BC=2.381e-04,3.113e-05, IC=1.934e-03,7.600e-06, D*=6.00e-02,6.11e-05, lr=5.00e-04]\n"
     ]
    },
    {
     "name": "stdout",
     "output_type": "stream",
     "text": [
      "R^2 Error: {'Ni': 0.424, 'SiC': 0.115, 'C': 1.0, 'NiSi': 0.848, 'NiSi2': 1.0}\n",
      "Inf Error: {'Ni': 0.555, 'SiC': 0.163, 'C': 1.0, 'NiSi': 0.864, 'NiSi2': 1.0}\n",
      "Mean Error: (0.6772713327437934, 0.7165122417071066)\n",
      "模型已保存至 ./Results/PINN_[64]x6/model_save/PINN_[64]x6_25000.pth\n",
      "Epoch: 6/10----------------\n"
     ]
    },
    {
     "name": "stderr",
     "output_type": "stream",
     "text": [
      "100%|██████████| 5000/5000 [11:26<00:00,  7.28it/s, Loss=4.889e-03, PDE=4.756e-03, BC=1.253e-05,2.214e-05, IC=9.696e-05,9.105e-07, D*=6.00e-02,2.96e-05, lr=3.46e-04]\n"
     ]
    },
    {
     "name": "stdout",
     "output_type": "stream",
     "text": [
      "R^2 Error: {'Ni': 0.632, 'SiC': 0.323, 'C': 1.0, 'NiSi': 0.962, 'NiSi2': 1.0}\n",
      "Inf Error: {'Ni': 0.701, 'SiC': 0.342, 'C': 1.0, 'NiSi': 0.959, 'NiSi2': 1.0}\n",
      "Mean Error: (0.7833430577192497, 0.8004852544672441)\n",
      "模型已保存至 ./Results/PINN_[64]x6/model_save/PINN_[64]x6_30000.pth\n",
      "Epoch: 7/10----------------\n"
     ]
    },
    {
     "name": "stderr",
     "output_type": "stream",
     "text": [
      "100%|██████████| 5000/5000 [11:37<00:00,  7.17it/s, Loss=3.463e-03, PDE=3.299e-03, BC=6.767e-06,1.310e-05, IC=1.433e-04,7.909e-07, D*=6.00e-02,1.99e-05, lr=2.06e-04]\n"
     ]
    },
    {
     "name": "stdout",
     "output_type": "stream",
     "text": [
      "R^2 Error: {'Ni': 0.702, 'SiC': 0.459, 'C': 1.0, 'NiSi': 0.985, 'NiSi2': 1.0}\n",
      "Inf Error: {'Ni': 0.76, 'SiC': 0.498, 'C': 1.0, 'NiSi': 0.984, 'NiSi2': 1.0}\n",
      "Mean Error: (0.8291463416820843, 0.8483185102183978)\n",
      "模型已保存至 ./Results/PINN_[64]x6/model_save/PINN_[64]x6_35000.pth\n",
      "Epoch: 8/10----------------\n"
     ]
    },
    {
     "name": "stderr",
     "output_type": "stream",
     "text": [
      "100%|██████████| 5000/5000 [11:34<00:00,  7.20it/s, Loss=2.398e-04, PDE=2.211e-04, BC=4.692e-07,2.354e-06, IC=1.516e-05,6.646e-07, D*=6.00e-02,1.49e-05, lr=9.57e-05]\n"
     ]
    },
    {
     "name": "stdout",
     "output_type": "stream",
     "text": [
      "R^2 Error: {'Ni': 0.725, 'SiC': 0.545, 'C': 1.0, 'NiSi': 0.992, 'NiSi2': 1.0}\n",
      "Inf Error: {'Ni': 0.782, 'SiC': 0.582, 'C': 1.0, 'NiSi': 0.991, 'NiSi2': 1.0}\n",
      "Mean Error: (0.8523216446363227, 0.8708708605784159)\n",
      "模型已保存至 ./Results/PINN_[64]x6/model_save/PINN_[64]x6_40000.pth\n",
      "Epoch: 9/10----------------\n"
     ]
    },
    {
     "name": "stderr",
     "output_type": "stream",
     "text": [
      "100%|██████████| 5000/5000 [11:39<00:00,  7.15it/s, Loss=1.248e-04, PDE=1.150e-04, BC=2.091e-07,5.790e-07, IC=8.472e-06,5.026e-07, D*=6.00e-02,1.22e-05, lr=2.46e-05]\n"
     ]
    },
    {
     "name": "stdout",
     "output_type": "stream",
     "text": [
      "R^2 Error: {'Ni': 0.739, 'SiC': 0.59, 'C': 1.0, 'NiSi': 0.995, 'NiSi2': 1.0}\n",
      "Inf Error: {'Ni': 0.792, 'SiC': 0.625, 'C': 1.0, 'NiSi': 0.994, 'NiSi2': 1.0}\n",
      "Mean Error: (0.8648041535580294, 0.8820216199371531)\n",
      "模型已保存至 ./Results/PINN_[64]x6/model_save/PINN_[64]x6_45000.pth\n",
      "Epoch: 10/10----------------\n"
     ]
    },
    {
     "name": "stderr",
     "output_type": "stream",
     "text": [
      "100%|██████████| 5000/5000 [11:17<00:00,  7.38it/s, Loss=9.615e-05, PDE=8.806e-05, BC=1.453e-07,3.389e-07, IC=7.158e-06,4.463e-07, D*=6.00e-02,1.11e-05, lr=1.01e-08]\n"
     ]
    },
    {
     "name": "stdout",
     "output_type": "stream",
     "text": [
      "R^2 Error: {'Ni': 0.744, 'SiC': 0.608, 'C': 1.0, 'NiSi': 0.995, 'NiSi2': 1.0}\n",
      "Inf Error: {'Ni': 0.792, 'SiC': 0.641, 'C': 1.0, 'NiSi': 0.995, 'NiSi2': 1.0}\n",
      "Mean Error: (0.8695017667320846, 0.885509011301836)\n",
      "模型已保存至 ./Results/PINN_[64]x6/model_save/PINN_[64]x6_50000.pth\n",
      "Training time: 6945.73s-------------------------\n",
      "PINN_[128]x5:\n",
      "Epoch: 1/10----------------\n"
     ]
    },
    {
     "name": "stderr",
     "output_type": "stream",
     "text": [
      "100%|██████████| 5000/5000 [11:10<00:00,  7.46it/s, Loss=1.517e-02, PDE=1.966e-03, BC=7.199e-04,5.782e-04, IC=1.125e-02,6.521e-04, D*=6.00e-02,5.88e-03, lr=9.76e-04]\n"
     ]
    },
    {
     "name": "stdout",
     "output_type": "stream",
     "text": [
      "R^2 Error: {'Ni': 0.081, 'SiC': 0.024, 'C': 0.098, 'NiSi': 0.161, 'NiSi2': 0.238}\n",
      "Inf Error: {'Ni': 0.078, 'SiC': 0.028, 'C': 0.183, 'NiSi': 0.17, 'NiSi2': 0.278}\n",
      "Mean Error: (0.12030682758701754, 0.1472650579723059)\n",
      "模型已保存至 ./Results/PINN_[128]x5/model_save/PINN_[128]x5_5000.pth\n",
      "Epoch: 2/10----------------\n"
     ]
    },
    {
     "name": "stderr",
     "output_type": "stream",
     "text": [
      "100%|██████████| 5000/5000 [11:06<00:00,  7.50it/s, Loss=8.451e-03, PDE=1.228e-03, BC=4.493e-05,2.239e-05, IC=6.688e-03,4.674e-04, D*=6.00e-02,4.57e-03, lr=9.05e-04]\n"
     ]
    },
    {
     "name": "stdout",
     "output_type": "stream",
     "text": [
      "R^2 Error: {'Ni': 0.06, 'SiC': 0.012, 'C': 0.066, 'NiSi': 0.124, 'NiSi2': 0.15}\n",
      "Inf Error: {'Ni': 0.056, 'SiC': 0.02, 'C': 0.134, 'NiSi': 0.188, 'NiSi2': 0.255}\n",
      "Mean Error: (0.08250910135915578, 0.13046888399839673)\n",
      "模型已保存至 ./Results/PINN_[128]x5/model_save/PINN_[128]x5_10000.pth\n",
      "Epoch: 3/10----------------\n"
     ]
    },
    {
     "name": "stderr",
     "output_type": "stream",
     "text": [
      "100%|██████████| 5000/5000 [11:10<00:00,  7.46it/s, Loss=1.135e-02, PDE=6.485e-03, BC=1.094e-04,4.618e-06, IC=4.419e-03,3.328e-04, D*=6.00e-02,3.40e-03, lr=7.94e-04]\n"
     ]
    },
    {
     "name": "stdout",
     "output_type": "stream",
     "text": [
      "R^2 Error: {'Ni': 0.052, 'SiC': 0.01, 'C': 0.063, 'NiSi': 0.128, 'NiSi2': 0.137}\n",
      "Inf Error: {'Ni': 0.048, 'SiC': 0.013, 'C': 0.112, 'NiSi': 0.209, 'NiSi2': 0.277}\n",
      "Mean Error: (0.07804264878492947, 0.13191109660847253)\n",
      "模型已保存至 ./Results/PINN_[128]x5/model_save/PINN_[128]x5_15000.pth\n",
      "Epoch: 4/10----------------\n"
     ]
    },
    {
     "name": "stderr",
     "output_type": "stream",
     "text": [
      "100%|██████████| 5000/5000 [11:08<00:00,  7.47it/s, Loss=4.724e-03, PDE=5.794e-04, BC=1.081e-05,5.367e-06, IC=3.866e-03,2.621e-04, D*=6.00e-02,2.79e-03, lr=6.55e-04]\n"
     ]
    },
    {
     "name": "stdout",
     "output_type": "stream",
     "text": [
      "R^2 Error: {'Ni': 0.045, 'SiC': 0.009, 'C': 0.051, 'NiSi': 0.114, 'NiSi2': 0.123}\n",
      "Inf Error: {'Ni': 0.043, 'SiC': 0.011, 'C': 0.1, 'NiSi': 0.198, 'NiSi2': 0.264}\n",
      "Mean Error: (0.06839576556957311, 0.12330505146603774)\n",
      "模型已保存至 ./Results/PINN_[128]x5/model_save/PINN_[128]x5_20000.pth\n",
      "Epoch: 5/10----------------\n"
     ]
    },
    {
     "name": "stderr",
     "output_type": "stream",
     "text": [
      "100%|██████████| 5000/5000 [11:09<00:00,  7.47it/s, Loss=3.927e-03, PDE=5.723e-04, BC=2.521e-05,2.157e-06, IC=3.112e-03,2.155e-04, D*=6.00e-02,2.39e-03, lr=5.00e-04]\n"
     ]
    },
    {
     "name": "stdout",
     "output_type": "stream",
     "text": [
      "R^2 Error: {'Ni': 0.043, 'SiC': 0.006, 'C': 0.04, 'NiSi': 0.109, 'NiSi2': 0.115}\n",
      "Inf Error: {'Ni': 0.04, 'SiC': 0.009, 'C': 0.09, 'NiSi': 0.187, 'NiSi2': 0.245}\n",
      "Mean Error: (0.06253166773533629, 0.11427663264228513)\n",
      "模型已保存至 ./Results/PINN_[128]x5/model_save/PINN_[128]x5_25000.pth\n",
      "Epoch: 6/10----------------\n"
     ]
    },
    {
     "name": "stderr",
     "output_type": "stream",
     "text": [
      "100%|██████████| 5000/5000 [11:09<00:00,  7.46it/s, Loss=3.493e-03, PDE=7.850e-04, BC=1.717e-05,1.208e-06, IC=2.513e-03,1.767e-04, D*=6.00e-02,2.12e-03, lr=3.46e-04]\n"
     ]
    },
    {
     "name": "stdout",
     "output_type": "stream",
     "text": [
      "R^2 Error: {'Ni': 0.039, 'SiC': 0.005, 'C': 0.032, 'NiSi': 0.096, 'NiSi2': 0.101}\n",
      "Inf Error: {'Ni': 0.039, 'SiC': 0.007, 'C': 0.082, 'NiSi': 0.174, 'NiSi2': 0.224}\n",
      "Mean Error: (0.05473043425362245, 0.1051296316365952)\n",
      "模型已保存至 ./Results/PINN_[128]x5/model_save/PINN_[128]x5_30000.pth\n",
      "Epoch: 7/10----------------\n"
     ]
    },
    {
     "name": "stderr",
     "output_type": "stream",
     "text": [
      "100%|██████████| 5000/5000 [11:08<00:00,  7.48it/s, Loss=4.962e-03, PDE=2.028e-03, BC=8.365e-04,1.140e-06, IC=1.968e-03,1.283e-04, D*=6.00e-02,1.81e-03, lr=2.06e-04]\n"
     ]
    },
    {
     "name": "stdout",
     "output_type": "stream",
     "text": [
      "R^2 Error: {'Ni': 0.037, 'SiC': 0.005, 'C': 0.03, 'NiSi': 0.087, 'NiSi2': 0.088}\n",
      "Inf Error: {'Ni': 0.036, 'SiC': 0.007, 'C': 0.074, 'NiSi': 0.158, 'NiSi2': 0.191}\n",
      "Mean Error: (0.04946136206721806, 0.09318939159112909)\n",
      "模型已保存至 ./Results/PINN_[128]x5/model_save/PINN_[128]x5_35000.pth\n",
      "Epoch: 8/10----------------\n"
     ]
    },
    {
     "name": "stderr",
     "output_type": "stream",
     "text": [
      "100%|██████████| 5000/5000 [11:10<00:00,  7.45it/s, Loss=1.900e-03, PDE=3.061e-04, BC=2.281e-06,1.846e-07, IC=1.491e-03,1.006e-04, D*=6.00e-02,1.62e-03, lr=9.57e-05]\n"
     ]
    },
    {
     "name": "stdout",
     "output_type": "stream",
     "text": [
      "R^2 Error: {'Ni': 0.035, 'SiC': 0.006, 'C': 0.025, 'NiSi': 0.077, 'NiSi2': 0.077}\n",
      "Inf Error: {'Ni': 0.036, 'SiC': 0.007, 'C': 0.066, 'NiSi': 0.142, 'NiSi2': 0.166}\n",
      "Mean Error: (0.04398999670878606, 0.08345122888048621)\n",
      "模型已保存至 ./Results/PINN_[128]x5/model_save/PINN_[128]x5_40000.pth\n",
      "Epoch: 9/10----------------\n"
     ]
    },
    {
     "name": "stderr",
     "output_type": "stream",
     "text": [
      "100%|██████████| 5000/5000 [11:10<00:00,  7.46it/s, Loss=1.288e-03, PDE=1.960e-04, BC=1.237e-06,1.793e-07, IC=1.005e-03,8.649e-05, D*=6.00e-02,1.43e-03, lr=2.46e-05]\n"
     ]
    },
    {
     "name": "stdout",
     "output_type": "stream",
     "text": [
      "R^2 Error: {'Ni': 0.034, 'SiC': 0.006, 'C': 0.025, 'NiSi': 0.075, 'NiSi2': 0.074}\n",
      "Inf Error: {'Ni': 0.035, 'SiC': 0.008, 'C': 0.064, 'NiSi': 0.137, 'NiSi2': 0.157}\n",
      "Mean Error: (0.0428115855349588, 0.08006977110962987)\n",
      "模型已保存至 ./Results/PINN_[128]x5/model_save/PINN_[128]x5_45000.pth\n",
      "Epoch: 10/10----------------\n"
     ]
    },
    {
     "name": "stderr",
     "output_type": "stream",
     "text": [
      "100%|██████████| 5000/5000 [11:10<00:00,  7.46it/s, Loss=9.764e-04, PDE=1.351e-04, BC=1.228e-06,1.930e-07, IC=7.599e-04,8.000e-05, D*=6.00e-02,1.36e-03, lr=1.01e-08]\n"
     ]
    },
    {
     "name": "stdout",
     "output_type": "stream",
     "text": [
      "R^2 Error: {'Ni': 0.034, 'SiC': 0.006, 'C': 0.024, 'NiSi': 0.074, 'NiSi2': 0.073}\n",
      "Inf Error: {'Ni': 0.036, 'SiC': 0.008, 'C': 0.062, 'NiSi': 0.135, 'NiSi2': 0.152}\n",
      "Mean Error: (0.042226804399631314, 0.07824958853978067)\n",
      "模型已保存至 ./Results/PINN_[128]x5/model_save/PINN_[128]x5_50000.pth\n",
      "Training time: 6715.25s-------------------------\n",
      "PINN_[96]x5:\n",
      "Epoch: 1/10----------------\n"
     ]
    },
    {
     "name": "stderr",
     "output_type": "stream",
     "text": [
      "100%|██████████| 5000/5000 [10:17<00:00,  8.10it/s, Loss=6.895e-02, PDE=4.362e-02, BC=6.761e-04,6.792e-04, IC=2.341e-02,5.679e-04, D*=6.00e-02,2.29e-03, lr=9.76e-04]\n"
     ]
    },
    {
     "name": "stdout",
     "output_type": "stream",
     "text": [
      "R^2 Error: {'Ni': 0.159, 'SiC': 0.084, 'C': 0.482, 'NiSi': 1.0, 'NiSi2': 1.024}\n",
      "Inf Error: {'Ni': 0.17, 'SiC': 0.109, 'C': 0.429, 'NiSi': 1.0, 'NiSi2': 1.0}\n",
      "Mean Error: (0.5497765374326977, 0.5417327720194289)\n",
      "模型已保存至 ./Results/PINN_[96]x5/model_save/PINN_[96]x5_5000.pth\n",
      "Epoch: 2/10----------------\n"
     ]
    },
    {
     "name": "stderr",
     "output_type": "stream",
     "text": [
      "100%|██████████| 5000/5000 [10:14<00:00,  8.13it/s, Loss=5.984e-02, PDE=4.527e-02, BC=9.242e-05,2.858e-04, IC=1.391e-02,2.796e-04, D*=6.00e-02,8.37e-04, lr=9.05e-04]\n"
     ]
    },
    {
     "name": "stdout",
     "output_type": "stream",
     "text": [
      "R^2 Error: {'Ni': 0.12, 'SiC': 0.088, 'C': 0.501, 'NiSi': 1.0, 'NiSi2': 1.015}\n",
      "Inf Error: {'Ni': 0.102, 'SiC': 0.12, 'C': 0.47, 'NiSi': 1.0, 'NiSi2': 1.0}\n",
      "Mean Error: (0.5450766671583764, 0.5383689253321481)\n",
      "模型已保存至 ./Results/PINN_[96]x5/model_save/PINN_[96]x5_10000.pth\n",
      "Epoch: 3/10----------------\n"
     ]
    },
    {
     "name": "stderr",
     "output_type": "stream",
     "text": [
      "100%|██████████| 5000/5000 [10:20<00:00,  8.05it/s, Loss=6.198e-02, PDE=4.695e-02, BC=1.168e-03,8.299e-05, IC=1.355e-02,2.335e-04, D*=6.00e-02,5.82e-04, lr=7.94e-04]\n"
     ]
    },
    {
     "name": "stdout",
     "output_type": "stream",
     "text": [
      "R^2 Error: {'Ni': 0.126, 'SiC': 0.125, 'C': 0.484, 'NiSi': 1.0, 'NiSi2': 1.016}\n",
      "Inf Error: {'Ni': 0.119, 'SiC': 0.151, 'C': 0.465, 'NiSi': 1.0, 'NiSi2': 1.0}\n",
      "Mean Error: (0.5502799725361509, 0.5471229071358044)\n",
      "模型已保存至 ./Results/PINN_[96]x5/model_save/PINN_[96]x5_15000.pth\n",
      "Epoch: 4/10----------------\n"
     ]
    },
    {
     "name": "stderr",
     "output_type": "stream",
     "text": [
      "100%|██████████| 5000/5000 [10:16<00:00,  8.11it/s, Loss=1.029e-02, PDE=4.407e-03, BC=4.790e-05,4.922e-05, IC=5.749e-03,3.299e-05, D*=6.00e-02,1.33e-04, lr=6.55e-04]\n"
     ]
    },
    {
     "name": "stdout",
     "output_type": "stream",
     "text": [
      "R^2 Error: {'Ni': 0.948, 'SiC': 0.321, 'C': 0.921, 'NiSi': 1.0, 'NiSi2': 1.001}\n",
      "Inf Error: {'Ni': 0.963, 'SiC': 0.363, 'C': 0.917, 'NiSi': 1.0, 'NiSi2': 1.0}\n",
      "Mean Error: (0.8382366738286977, 0.8486007351744169)\n",
      "模型已保存至 ./Results/PINN_[96]x5/model_save/PINN_[96]x5_20000.pth\n",
      "Epoch: 5/10----------------\n"
     ]
    },
    {
     "name": "stderr",
     "output_type": "stream",
     "text": [
      "100%|██████████| 5000/5000 [10:19<00:00,  8.07it/s, Loss=5.782e-03, PDE=2.421e-03, BC=5.679e-05,4.720e-06, IC=3.273e-03,2.662e-05, D*=6.00e-02,4.51e-05, lr=5.00e-04]\n"
     ]
    },
    {
     "name": "stdout",
     "output_type": "stream",
     "text": [
      "R^2 Error: {'Ni': 0.964, 'SiC': 0.307, 'C': 0.955, 'NiSi': 1.0, 'NiSi2': 1.0}\n",
      "Inf Error: {'Ni': 0.973, 'SiC': 0.354, 'C': 0.954, 'NiSi': 1.0, 'NiSi2': 1.0}\n",
      "Mean Error: (0.8453742160265858, 0.8561474264706777)\n",
      "模型已保存至 ./Results/PINN_[96]x5/model_save/PINN_[96]x5_25000.pth\n",
      "Epoch: 6/10----------------\n"
     ]
    },
    {
     "name": "stderr",
     "output_type": "stream",
     "text": [
      "100%|██████████| 5000/5000 [10:19<00:00,  8.07it/s, Loss=3.901e-03, PDE=1.215e-03, BC=1.912e-05,6.135e-06, IC=2.642e-03,1.845e-05, D*=6.00e-02,1.41e-05, lr=3.46e-04]\n"
     ]
    },
    {
     "name": "stdout",
     "output_type": "stream",
     "text": [
      "R^2 Error: {'Ni': 0.971, 'SiC': 0.315, 'C': 0.971, 'NiSi': 1.0, 'NiSi2': 1.0}\n",
      "Inf Error: {'Ni': 0.976, 'SiC': 0.358, 'C': 0.97, 'NiSi': 1.0, 'NiSi2': 1.0}\n",
      "Mean Error: (0.8514282108755399, 0.860983170200854)\n",
      "模型已保存至 ./Results/PINN_[96]x5/model_save/PINN_[96]x5_30000.pth\n",
      "Epoch: 7/10----------------\n"
     ]
    },
    {
     "name": "stderr",
     "output_type": "stream",
     "text": [
      "100%|██████████| 5000/5000 [10:19<00:00,  8.08it/s, Loss=2.322e-03, PDE=7.471e-04, BC=2.832e-06,1.437e-07, IC=1.558e-03,1.330e-05, D*=6.00e-02,3.93e-06, lr=2.06e-04]\n"
     ]
    },
    {
     "name": "stdout",
     "output_type": "stream",
     "text": [
      "R^2 Error: {'Ni': 0.975, 'SiC': 0.308, 'C': 0.98, 'NiSi': 1.0, 'NiSi2': 1.0}\n",
      "Inf Error: {'Ni': 0.979, 'SiC': 0.352, 'C': 0.98, 'NiSi': 1.0, 'NiSi2': 1.0}\n",
      "Mean Error: (0.85268206356352, 0.8620230898510339)\n",
      "模型已保存至 ./Results/PINN_[96]x5/model_save/PINN_[96]x5_35000.pth\n",
      "Epoch: 8/10----------------\n"
     ]
    },
    {
     "name": "stderr",
     "output_type": "stream",
     "text": [
      "100%|██████████| 5000/5000 [10:16<00:00,  8.11it/s, Loss=1.136e-03, PDE=3.998e-04, BC=5.342e-07,1.593e-07, IC=7.264e-04,8.638e-06, D*=6.00e-02,1.83e-06, lr=9.57e-05]\n"
     ]
    },
    {
     "name": "stdout",
     "output_type": "stream",
     "text": [
      "R^2 Error: {'Ni': 0.977, 'SiC': 0.304, 'C': 0.985, 'NiSi': 1.0, 'NiSi2': 1.0}\n",
      "Inf Error: {'Ni': 0.98, 'SiC': 0.347, 'C': 0.985, 'NiSi': 1.0, 'NiSi2': 1.0}\n",
      "Mean Error: (0.8533021836976209, 0.8623270763141123)\n",
      "模型已保存至 ./Results/PINN_[96]x5/model_save/PINN_[96]x5_40000.pth\n",
      "Epoch: 9/10----------------\n"
     ]
    },
    {
     "name": "stderr",
     "output_type": "stream",
     "text": [
      "100%|██████████| 5000/5000 [10:23<00:00,  8.02it/s, Loss=8.456e-04, PDE=4.511e-04, BC=6.518e-07,1.691e-07, IC=3.853e-04,8.433e-06, D*=6.00e-02,1.18e-06, lr=2.46e-05]\n"
     ]
    },
    {
     "name": "stdout",
     "output_type": "stream",
     "text": [
      "R^2 Error: {'Ni': 0.978, 'SiC': 0.302, 'C': 0.987, 'NiSi': 1.0, 'NiSi2': 1.0}\n",
      "Inf Error: {'Ni': 0.98, 'SiC': 0.343, 'C': 0.987, 'NiSi': 1.0, 'NiSi2': 1.0}\n",
      "Mean Error: (0.8533322041032985, 0.8621441357398509)\n",
      "模型已保存至 ./Results/PINN_[96]x5/model_save/PINN_[96]x5_45000.pth\n",
      "Epoch: 10/10----------------\n"
     ]
    },
    {
     "name": "stderr",
     "output_type": "stream",
     "text": [
      "100%|██████████| 5000/5000 [10:21<00:00,  8.05it/s, Loss=5.155e-04, PDE=2.203e-04, BC=5.884e-07,1.549e-07, IC=2.830e-04,1.146e-05, D*=6.00e-02,1.10e-06, lr=1.01e-08]\n"
     ]
    },
    {
     "name": "stdout",
     "output_type": "stream",
     "text": [
      "R^2 Error: {'Ni': 0.978, 'SiC': 0.299, 'C': 0.988, 'NiSi': 1.0, 'NiSi2': 1.0}\n",
      "Inf Error: {'Ni': 0.98, 'SiC': 0.341, 'C': 0.987, 'NiSi': 1.0, 'NiSi2': 1.0}\n",
      "Mean Error: (0.8529938918701461, 0.8617473320175112)\n",
      "模型已保存至 ./Results/PINN_[96]x5/model_save/PINN_[96]x5_50000.pth\n",
      "Training time: 6210.32s-------------------------\n",
      "PINN_[64]x5:\n",
      "Epoch: 1/10----------------\n"
     ]
    },
    {
     "name": "stderr",
     "output_type": "stream",
     "text": [
      "100%|██████████| 5000/5000 [10:17<00:00,  8.10it/s, Loss=7.145e-02, PDE=4.649e-02, BC=4.886e-04,5.817e-04, IC=2.354e-02,3.499e-04, D*=6.00e-02,1.94e-03, lr=9.76e-04]\n"
     ]
    },
    {
     "name": "stdout",
     "output_type": "stream",
     "text": [
      "R^2 Error: {'Ni': 0.185, 'SiC': 0.075, 'C': 0.49, 'NiSi': 1.0, 'NiSi2': 1.015}\n",
      "Inf Error: {'Ni': 0.2, 'SiC': 0.101, 'C': 0.435, 'NiSi': 1.0, 'NiSi2': 0.999}\n",
      "Mean Error: (0.5530079325051018, 0.5470901384335269)\n",
      "模型已保存至 ./Results/PINN_[64]x5/model_save/PINN_[64]x5_5000.pth\n",
      "Epoch: 2/10----------------\n"
     ]
    },
    {
     "name": "stderr",
     "output_type": "stream",
     "text": [
      "100%|██████████| 5000/5000 [10:16<00:00,  8.10it/s, Loss=6.405e-02, PDE=4.539e-02, BC=9.705e-04,5.329e-04, IC=1.692e-02,2.305e-04, D*=6.00e-02,1.31e-03, lr=9.05e-04]\n"
     ]
    },
    {
     "name": "stdout",
     "output_type": "stream",
     "text": [
      "R^2 Error: {'Ni': 0.167, 'SiC': 0.078, 'C': 0.491, 'NiSi': 1.0, 'NiSi2': 1.014}\n",
      "Inf Error: {'Ni': 0.179, 'SiC': 0.107, 'C': 0.441, 'NiSi': 1.0, 'NiSi2': 1.0}\n",
      "Mean Error: (0.5498754323277496, 0.545504442785059)\n",
      "模型已保存至 ./Results/PINN_[64]x5/model_save/PINN_[64]x5_10000.pth\n",
      "Epoch: 3/10----------------\n"
     ]
    },
    {
     "name": "stderr",
     "output_type": "stream",
     "text": [
      "100%|██████████| 5000/5000 [10:18<00:00,  8.09it/s, Loss=5.263e-02, PDE=4.122e-02, BC=2.587e-04,2.785e-05, IC=1.097e-02,1.573e-04, D*=6.00e-02,7.23e-04, lr=7.94e-04]\n"
     ]
    },
    {
     "name": "stdout",
     "output_type": "stream",
     "text": [
      "R^2 Error: {'Ni': 0.188, 'SiC': 0.085, 'C': 0.533, 'NiSi': 1.0, 'NiSi2': 1.01}\n",
      "Inf Error: {'Ni': 0.209, 'SiC': 0.116, 'C': 0.486, 'NiSi': 1.0, 'NiSi2': 1.0}\n",
      "Mean Error: (0.5633396564423983, 0.5622172104626305)\n",
      "模型已保存至 ./Results/PINN_[64]x5/model_save/PINN_[64]x5_15000.pth\n",
      "Epoch: 4/10----------------\n"
     ]
    },
    {
     "name": "stderr",
     "output_type": "stream",
     "text": [
      "100%|██████████| 5000/5000 [09:55<00:00,  8.40it/s, Loss=1.598e-02, PDE=9.793e-03, BC=1.033e-04,4.950e-05, IC=5.720e-03,3.184e-04, D*=6.00e-02,6.39e-04, lr=6.55e-04]\n"
     ]
    },
    {
     "name": "stdout",
     "output_type": "stream",
     "text": [
      "R^2 Error: {'Ni': 0.249, 'SiC': 0.23, 'C': 0.829, 'NiSi': 1.0, 'NiSi2': 1.015}\n",
      "Inf Error: {'Ni': 0.308, 'SiC': 0.229, 'C': 0.813, 'NiSi': 1.0, 'NiSi2': 1.0}\n",
      "Mean Error: (0.6645326431562294, 0.6699440587007788)\n",
      "模型已保存至 ./Results/PINN_[64]x5/model_save/PINN_[64]x5_20000.pth\n",
      "Epoch: 5/10----------------\n"
     ]
    },
    {
     "name": "stderr",
     "output_type": "stream",
     "text": [
      "100%|██████████| 5000/5000 [10:17<00:00,  8.10it/s, Loss=1.207e-02, PDE=5.467e-03, BC=4.057e-05,2.374e-04, IC=6.252e-03,7.337e-05, D*=6.00e-02,4.73e-04, lr=5.00e-04]\n"
     ]
    },
    {
     "name": "stdout",
     "output_type": "stream",
     "text": [
      "R^2 Error: {'Ni': 0.313, 'SiC': 0.332, 'C': 0.939, 'NiSi': 1.0, 'NiSi2': 1.004}\n",
      "Inf Error: {'Ni': 0.36, 'SiC': 0.355, 'C': 0.939, 'NiSi': 1.0, 'NiSi2': 1.0}\n",
      "Mean Error: (0.7175882540869175, 0.7308626804243723)\n",
      "模型已保存至 ./Results/PINN_[64]x5/model_save/PINN_[64]x5_25000.pth\n",
      "Epoch: 6/10----------------\n"
     ]
    },
    {
     "name": "stderr",
     "output_type": "stream",
     "text": [
      "100%|██████████| 5000/5000 [10:18<00:00,  8.08it/s, Loss=6.421e-03, PDE=1.637e-03, BC=1.506e-05,1.844e-04, IC=4.537e-03,4.823e-05, D*=6.00e-02,3.02e-04, lr=3.46e-04]\n"
     ]
    },
    {
     "name": "stdout",
     "output_type": "stream",
     "text": [
      "R^2 Error: {'Ni': 0.45, 'SiC': 0.4, 'C': 0.966, 'NiSi': 1.0, 'NiSi2': 1.001}\n",
      "Inf Error: {'Ni': 0.382, 'SiC': 0.429, 'C': 0.968, 'NiSi': 1.0, 'NiSi2': 1.0}\n",
      "Mean Error: (0.7633496246585209, 0.7558171772681044)\n",
      "模型已保存至 ./Results/PINN_[64]x5/model_save/PINN_[64]x5_30000.pth\n",
      "Epoch: 7/10----------------\n"
     ]
    },
    {
     "name": "stderr",
     "output_type": "stream",
     "text": [
      "100%|██████████| 5000/5000 [10:18<00:00,  8.09it/s, Loss=4.456e-03, PDE=1.076e-03, BC=5.791e-06,9.708e-06, IC=3.337e-03,2.812e-05, D*=6.00e-02,1.46e-04, lr=2.06e-04]\n"
     ]
    },
    {
     "name": "stdout",
     "output_type": "stream",
     "text": [
      "R^2 Error: {'Ni': 0.547, 'SiC': 0.445, 'C': 0.978, 'NiSi': 1.0, 'NiSi2': 1.0}\n",
      "Inf Error: {'Ni': 0.426, 'SiC': 0.479, 'C': 0.98, 'NiSi': 1.0, 'NiSi2': 1.0}\n",
      "Mean Error: (0.7939353177230117, 0.7770250593569781)\n",
      "模型已保存至 ./Results/PINN_[64]x5/model_save/PINN_[64]x5_35000.pth\n",
      "Epoch: 8/10----------------\n"
     ]
    },
    {
     "name": "stderr",
     "output_type": "stream",
     "text": [
      "100%|██████████| 5000/5000 [10:22<00:00,  8.03it/s, Loss=3.535e-03, PDE=6.916e-04, BC=5.673e-06,2.499e-05, IC=2.800e-03,1.279e-05, D*=6.00e-02,7.45e-05, lr=9.57e-05]\n"
     ]
    },
    {
     "name": "stdout",
     "output_type": "stream",
     "text": [
      "R^2 Error: {'Ni': 0.613, 'SiC': 0.468, 'C': 0.983, 'NiSi': 1.0, 'NiSi2': 1.0}\n",
      "Inf Error: {'Ni': 0.473, 'SiC': 0.503, 'C': 0.984, 'NiSi': 1.0, 'NiSi2': 1.0}\n",
      "Mean Error: (0.8125877649039213, 0.7920763615537195)\n",
      "模型已保存至 ./Results/PINN_[64]x5/model_save/PINN_[64]x5_40000.pth\n",
      "Epoch: 9/10----------------\n"
     ]
    },
    {
     "name": "stderr",
     "output_type": "stream",
     "text": [
      "100%|██████████| 5000/5000 [09:54<00:00,  8.41it/s, Loss=2.760e-03, PDE=3.346e-04, BC=5.253e-06,8.735e-06, IC=2.407e-03,4.108e-06, D*=6.00e-02,3.46e-05, lr=2.46e-05]\n"
     ]
    },
    {
     "name": "stdout",
     "output_type": "stream",
     "text": [
      "R^2 Error: {'Ni': 0.657, 'SiC': 0.479, 'C': 0.986, 'NiSi': 1.0, 'NiSi2': 1.0}\n",
      "Inf Error: {'Ni': 0.519, 'SiC': 0.515, 'C': 0.987, 'NiSi': 1.0, 'NiSi2': 1.0}\n",
      "Mean Error: (0.8245001602987239, 0.8042135672831618)\n",
      "模型已保存至 ./Results/PINN_[64]x5/model_save/PINN_[64]x5_45000.pth\n",
      "Epoch: 10/10----------------\n"
     ]
    },
    {
     "name": "stderr",
     "output_type": "stream",
     "text": [
      "100%|██████████| 5000/5000 [10:01<00:00,  8.32it/s, Loss=2.461e-03, PDE=2.625e-04, BC=5.446e-06,8.572e-06, IC=2.182e-03,1.937e-06, D*=6.00e-02,2.16e-05, lr=1.01e-08]\n"
     ]
    },
    {
     "name": "stdout",
     "output_type": "stream",
     "text": [
      "R^2 Error: {'Ni': 0.689, 'SiC': 0.488, 'C': 0.988, 'NiSi': 1.0, 'NiSi2': 1.0}\n",
      "Inf Error: {'Ni': 0.561, 'SiC': 0.524, 'C': 0.989, 'NiSi': 1.0, 'NiSi2': 1.0}\n",
      "Mean Error: (0.8327722998089243, 0.8145812671016446)\n",
      "模型已保存至 ./Results/PINN_[64]x5/model_save/PINN_[64]x5_50000.pth\n",
      "Training time: 6141.40s-------------------------\n",
      "PINN_[128]x4:\n",
      "Epoch: 1/10----------------\n"
     ]
    },
    {
     "name": "stderr",
     "output_type": "stream",
     "text": [
      "100%|██████████| 5000/5000 [09:31<00:00,  8.76it/s, Loss=2.325e-02, PDE=5.562e-03, BC=1.809e-03,2.444e-04, IC=1.452e-02,1.117e-03, D*=6.00e-02,6.02e-03, lr=9.76e-04]\n"
     ]
    },
    {
     "name": "stdout",
     "output_type": "stream",
     "text": [
      "R^2 Error: {'Ni': 0.11, 'SiC': 0.054, 'C': 0.097, 'NiSi': 0.243, 'NiSi2': 0.253}\n",
      "Inf Error: {'Ni': 0.101, 'SiC': 0.048, 'C': 0.147, 'NiSi': 0.242, 'NiSi2': 0.43}\n",
      "Mean Error: (0.15127490875342076, 0.1935256165275085)\n",
      "模型已保存至 ./Results/PINN_[128]x4/model_save/PINN_[128]x4_5000.pth\n",
      "Epoch: 2/10----------------\n"
     ]
    },
    {
     "name": "stderr",
     "output_type": "stream",
     "text": [
      "100%|██████████| 5000/5000 [09:33<00:00,  8.72it/s, Loss=1.204e-02, PDE=1.570e-03, BC=4.690e-04,5.756e-04, IC=8.926e-03,4.990e-04, D*=6.00e-02,3.70e-03, lr=9.05e-04]\n"
     ]
    },
    {
     "name": "stdout",
     "output_type": "stream",
     "text": [
      "R^2 Error: {'Ni': 0.09, 'SiC': 0.021, 'C': 0.072, 'NiSi': 0.162, 'NiSi2': 0.113}\n",
      "Inf Error: {'Ni': 0.084, 'SiC': 0.028, 'C': 0.125, 'NiSi': 0.207, 'NiSi2': 0.178}\n",
      "Mean Error: (0.09157911192468064, 0.12451411776601014)\n",
      "模型已保存至 ./Results/PINN_[128]x4/model_save/PINN_[128]x4_10000.pth\n",
      "Epoch: 3/10----------------\n"
     ]
    },
    {
     "name": "stderr",
     "output_type": "stream",
     "text": [
      "100%|██████████| 5000/5000 [09:33<00:00,  8.72it/s, Loss=1.615e-02, PDE=9.797e-03, BC=2.106e-04,5.157e-06, IC=5.862e-03,2.795e-04, D*=6.00e-02,3.07e-03, lr=7.94e-04]\n"
     ]
    },
    {
     "name": "stdout",
     "output_type": "stream",
     "text": [
      "R^2 Error: {'Ni': 0.062, 'SiC': 0.011, 'C': 0.056, 'NiSi': 0.122, 'NiSi2': 0.086}\n",
      "Inf Error: {'Ni': 0.06, 'SiC': 0.021, 'C': 0.114, 'NiSi': 0.182, 'NiSi2': 0.156}\n",
      "Mean Error: (0.06743621470889212, 0.10635891550591858)\n",
      "模型已保存至 ./Results/PINN_[128]x4/model_save/PINN_[128]x4_15000.pth\n",
      "Epoch: 4/10----------------\n"
     ]
    },
    {
     "name": "stderr",
     "output_type": "stream",
     "text": [
      "100%|██████████| 5000/5000 [09:31<00:00,  8.75it/s, Loss=5.802e-03, PDE=7.877e-04, BC=3.061e-05,2.362e-06, IC=4.776e-03,2.051e-04, D*=6.00e-02,2.66e-03, lr=6.55e-04]\n"
     ]
    },
    {
     "name": "stdout",
     "output_type": "stream",
     "text": [
      "R^2 Error: {'Ni': 0.064, 'SiC': 0.008, 'C': 0.043, 'NiSi': 0.114, 'NiSi2': 0.09}\n",
      "Inf Error: {'Ni': 0.063, 'SiC': 0.018, 'C': 0.089, 'NiSi': 0.169, 'NiSi2': 0.175}\n",
      "Mean Error: (0.06380876653425128, 0.10280796434451718)\n",
      "模型已保存至 ./Results/PINN_[128]x4/model_save/PINN_[128]x4_20000.pth\n",
      "Epoch: 5/10----------------\n"
     ]
    },
    {
     "name": "stderr",
     "output_type": "stream",
     "text": [
      "100%|██████████| 5000/5000 [09:33<00:00,  8.72it/s, Loss=5.643e-03, PDE=1.301e-03, BC=1.282e-05,4.413e-05, IC=4.115e-03,1.692e-04, D*=6.00e-02,2.34e-03, lr=5.00e-04]\n"
     ]
    },
    {
     "name": "stdout",
     "output_type": "stream",
     "text": [
      "R^2 Error: {'Ni': 0.065, 'SiC': 0.009, 'C': 0.032, 'NiSi': 0.106, 'NiSi2': 0.09}\n",
      "Inf Error: {'Ni': 0.066, 'SiC': 0.016, 'C': 0.073, 'NiSi': 0.159, 'NiSi2': 0.184}\n",
      "Mean Error: (0.06049309494087827, 0.09956769778142166)\n",
      "模型已保存至 ./Results/PINN_[128]x4/model_save/PINN_[128]x4_25000.pth\n",
      "Epoch: 6/10----------------\n"
     ]
    },
    {
     "name": "stderr",
     "output_type": "stream",
     "text": [
      "100%|██████████| 5000/5000 [09:33<00:00,  8.72it/s, Loss=4.300e-03, PDE=5.151e-04, BC=1.846e-05,1.088e-04, IC=3.525e-03,1.319e-04, D*=6.00e-02,2.07e-03, lr=3.46e-04]\n"
     ]
    },
    {
     "name": "stdout",
     "output_type": "stream",
     "text": [
      "R^2 Error: {'Ni': 0.063, 'SiC': 0.011, 'C': 0.028, 'NiSi': 0.097, 'NiSi2': 0.082}\n",
      "Inf Error: {'Ni': 0.064, 'SiC': 0.015, 'C': 0.061, 'NiSi': 0.142, 'NiSi2': 0.166}\n",
      "Mean Error: (0.05622224043287237, 0.0894523783462762)\n",
      "模型已保存至 ./Results/PINN_[128]x4/model_save/PINN_[128]x4_30000.pth\n",
      "Epoch: 7/10----------------\n"
     ]
    },
    {
     "name": "stderr",
     "output_type": "stream",
     "text": [
      "100%|██████████| 5000/5000 [09:31<00:00,  8.75it/s, Loss=3.795e-03, PDE=6.890e-04, BC=1.526e-05,2.939e-06, IC=2.975e-03,1.121e-04, D*=6.00e-02,1.86e-03, lr=2.06e-04]\n"
     ]
    },
    {
     "name": "stdout",
     "output_type": "stream",
     "text": [
      "R^2 Error: {'Ni': 0.064, 'SiC': 0.007, 'C': 0.025, 'NiSi': 0.091, 'NiSi2': 0.077}\n",
      "Inf Error: {'Ni': 0.065, 'SiC': 0.014, 'C': 0.055, 'NiSi': 0.13, 'NiSi2': 0.154}\n",
      "Mean Error: (0.05263636635557435, 0.08364936738175946)\n",
      "模型已保存至 ./Results/PINN_[128]x4/model_save/PINN_[128]x4_35000.pth\n",
      "Epoch: 8/10----------------\n"
     ]
    },
    {
     "name": "stderr",
     "output_type": "stream",
     "text": [
      "100%|██████████| 5000/5000 [09:35<00:00,  8.69it/s, Loss=2.938e-03, PDE=3.831e-04, BC=2.271e-06,4.840e-07, IC=2.455e-03,9.640e-05, D*=6.00e-02,1.71e-03, lr=9.57e-05]\n"
     ]
    },
    {
     "name": "stdout",
     "output_type": "stream",
     "text": [
      "R^2 Error: {'Ni': 0.066, 'SiC': 0.007, 'C': 0.023, 'NiSi': 0.087, 'NiSi2': 0.072}\n",
      "Inf Error: {'Ni': 0.066, 'SiC': 0.014, 'C': 0.051, 'NiSi': 0.12, 'NiSi2': 0.143}\n",
      "Mean Error: (0.05113882640334154, 0.07886141584496914)\n",
      "模型已保存至 ./Results/PINN_[128]x4/model_save/PINN_[128]x4_40000.pth\n",
      "Epoch: 9/10----------------\n"
     ]
    },
    {
     "name": "stderr",
     "output_type": "stream",
     "text": [
      "100%|██████████| 5000/5000 [09:33<00:00,  8.71it/s, Loss=2.361e-03, PDE=2.174e-04, BC=2.045e-06,1.666e-07, IC=2.055e-03,8.613e-05, D*=6.00e-02,1.60e-03, lr=2.46e-05]\n"
     ]
    },
    {
     "name": "stdout",
     "output_type": "stream",
     "text": [
      "R^2 Error: {'Ni': 0.068, 'SiC': 0.007, 'C': 0.022, 'NiSi': 0.085, 'NiSi2': 0.071}\n",
      "Inf Error: {'Ni': 0.069, 'SiC': 0.014, 'C': 0.05, 'NiSi': 0.111, 'NiSi2': 0.137}\n",
      "Mean Error: (0.05080971550221004, 0.07608467127029053)\n",
      "模型已保存至 ./Results/PINN_[128]x4/model_save/PINN_[128]x4_45000.pth\n",
      "Epoch: 10/10----------------\n"
     ]
    },
    {
     "name": "stderr",
     "output_type": "stream",
     "text": [
      "100%|██████████| 5000/5000 [09:34<00:00,  8.71it/s, Loss=2.129e-03, PDE=2.098e-04, BC=2.119e-06,1.793e-07, IC=1.838e-03,7.873e-05, D*=6.00e-02,1.52e-03, lr=1.01e-08]\n"
     ]
    },
    {
     "name": "stdout",
     "output_type": "stream",
     "text": [
      "R^2 Error: {'Ni': 0.07, 'SiC': 0.007, 'C': 0.021, 'NiSi': 0.084, 'NiSi2': 0.071}\n",
      "Inf Error: {'Ni': 0.07, 'SiC': 0.014, 'C': 0.049, 'NiSi': 0.104, 'NiSi2': 0.134}\n",
      "Mean Error: (0.05071636925032835, 0.07431204613376495)\n",
      "模型已保存至 ./Results/PINN_[128]x4/model_save/PINN_[128]x4_50000.pth\n",
      "Training time: 5752.17s-------------------------\n",
      "PINN_[96]x4:\n",
      "Epoch: 1/10----------------\n"
     ]
    },
    {
     "name": "stderr",
     "output_type": "stream",
     "text": [
      "100%|██████████| 5000/5000 [08:46<00:00,  9.50it/s, Loss=3.382e-02, PDE=4.717e-03, BC=9.009e-03,9.981e-05, IC=1.913e-02,8.676e-04, D*=6.00e-02,4.87e-03, lr=9.76e-04]\n"
     ]
    },
    {
     "name": "stdout",
     "output_type": "stream",
     "text": [
      "R^2 Error: {'Ni': 0.105, 'SiC': 0.033, 'C': 0.077, 'NiSi': 0.183, 'NiSi2': 0.248}\n",
      "Inf Error: {'Ni': 0.096, 'SiC': 0.046, 'C': 0.096, 'NiSi': 0.188, 'NiSi2': 0.267}\n",
      "Mean Error: (0.12924862251637165, 0.1386334561020581)\n",
      "模型已保存至 ./Results/PINN_[96]x4/model_save/PINN_[96]x4_5000.pth\n",
      "Epoch: 2/10----------------\n"
     ]
    },
    {
     "name": "stderr",
     "output_type": "stream",
     "text": [
      "100%|██████████| 5000/5000 [08:51<00:00,  9.41it/s, Loss=1.322e-02, PDE=2.406e-03, BC=3.930e-04,3.786e-04, IC=9.654e-03,3.842e-04, D*=6.00e-02,3.46e-03, lr=9.05e-04]\n"
     ]
    },
    {
     "name": "stdout",
     "output_type": "stream",
     "text": [
      "R^2 Error: {'Ni': 0.097, 'SiC': 0.042, 'C': 0.046, 'NiSi': 0.141, 'NiSi2': 0.158}\n",
      "Inf Error: {'Ni': 0.088, 'SiC': 0.041, 'C': 0.08, 'NiSi': 0.129, 'NiSi2': 0.235}\n",
      "Mean Error: (0.09670314432054031, 0.11448587201868117)\n",
      "模型已保存至 ./Results/PINN_[96]x4/model_save/PINN_[96]x4_10000.pth\n",
      "Epoch: 3/10----------------\n"
     ]
    },
    {
     "name": "stderr",
     "output_type": "stream",
     "text": [
      "100%|██████████| 5000/5000 [08:48<00:00,  9.46it/s, Loss=1.369e-02, PDE=5.194e-03, BC=4.335e-04,5.330e-05, IC=7.649e-03,3.589e-04, D*=6.00e-02,3.04e-03, lr=7.94e-04]\n"
     ]
    },
    {
     "name": "stdout",
     "output_type": "stream",
     "text": [
      "R^2 Error: {'Ni': 0.09, 'SiC': 0.015, 'C': 0.042, 'NiSi': 0.14, 'NiSi2': 0.136}\n",
      "Inf Error: {'Ni': 0.084, 'SiC': 0.026, 'C': 0.079, 'NiSi': 0.123, 'NiSi2': 0.284}\n",
      "Mean Error: (0.08477500089604087, 0.1190855162068654)\n",
      "模型已保存至 ./Results/PINN_[96]x4/model_save/PINN_[96]x4_15000.pth\n",
      "Epoch: 4/10----------------\n"
     ]
    },
    {
     "name": "stderr",
     "output_type": "stream",
     "text": [
      "100%|██████████| 5000/5000 [08:38<00:00,  9.64it/s, Loss=8.607e-03, PDE=1.887e-03, BC=2.777e-04,1.907e-04, IC=5.983e-03,2.674e-04, D*=6.00e-02,2.55e-03, lr=6.55e-04]\n"
     ]
    },
    {
     "name": "stdout",
     "output_type": "stream",
     "text": [
      "R^2 Error: {'Ni': 0.093, 'SiC': 0.027, 'C': 0.046, 'NiSi': 0.125, 'NiSi2': 0.117}\n",
      "Inf Error: {'Ni': 0.085, 'SiC': 0.025, 'C': 0.079, 'NiSi': 0.122, 'NiSi2': 0.283}\n",
      "Mean Error: (0.08154186275291983, 0.11877618493057981)\n",
      "模型已保存至 ./Results/PINN_[96]x4/model_save/PINN_[96]x4_20000.pth\n",
      "Epoch: 5/10----------------\n"
     ]
    },
    {
     "name": "stderr",
     "output_type": "stream",
     "text": [
      "100%|██████████| 5000/5000 [08:36<00:00,  9.68it/s, Loss=8.893e-03, PDE=3.243e-03, BC=5.345e-04,4.558e-06, IC=4.894e-03,2.171e-04, D*=6.00e-02,2.16e-03, lr=5.00e-04]\n"
     ]
    },
    {
     "name": "stdout",
     "output_type": "stream",
     "text": [
      "R^2 Error: {'Ni': 0.096, 'SiC': 0.015, 'C': 0.051, 'NiSi': 0.107, 'NiSi2': 0.104}\n",
      "Inf Error: {'Ni': 0.09, 'SiC': 0.025, 'C': 0.087, 'NiSi': 0.116, 'NiSi2': 0.267}\n",
      "Mean Error: (0.07449121754352751, 0.11698343050934405)\n",
      "模型已保存至 ./Results/PINN_[96]x4/model_save/PINN_[96]x4_25000.pth\n",
      "Epoch: 6/10----------------\n"
     ]
    },
    {
     "name": "stderr",
     "output_type": "stream",
     "text": [
      "100%|██████████| 5000/5000 [08:38<00:00,  9.64it/s, Loss=5.758e-03, PDE=1.174e-03, BC=2.367e-04,1.438e-04, IC=4.029e-03,1.754e-04, D*=6.00e-02,1.95e-03, lr=3.46e-04]\n"
     ]
    },
    {
     "name": "stdout",
     "output_type": "stream",
     "text": [
      "R^2 Error: {'Ni': 0.111, 'SiC': 0.023, 'C': 0.055, 'NiSi': 0.104, 'NiSi2': 0.097}\n",
      "Inf Error: {'Ni': 0.102, 'SiC': 0.026, 'C': 0.095, 'NiSi': 0.102, 'NiSi2': 0.253}\n",
      "Mean Error: (0.07783842738959798, 0.11574994326256208)\n",
      "模型已保存至 ./Results/PINN_[96]x4/model_save/PINN_[96]x4_30000.pth\n",
      "Epoch: 7/10----------------\n"
     ]
    },
    {
     "name": "stderr",
     "output_type": "stream",
     "text": [
      "100%|██████████| 5000/5000 [08:40<00:00,  9.60it/s, Loss=4.767e-03, PDE=1.077e-03, BC=2.635e-04,9.995e-07, IC=3.290e-03,1.363e-04, D*=6.00e-02,1.72e-03, lr=2.06e-04]\n"
     ]
    },
    {
     "name": "stdout",
     "output_type": "stream",
     "text": [
      "R^2 Error: {'Ni': 0.124, 'SiC': 0.019, 'C': 0.059, 'NiSi': 0.114, 'NiSi2': 0.082}\n",
      "Inf Error: {'Ni': 0.113, 'SiC': 0.028, 'C': 0.101, 'NiSi': 0.11, 'NiSi2': 0.196}\n",
      "Mean Error: (0.07944122713611644, 0.10983217523532278)\n",
      "模型已保存至 ./Results/PINN_[96]x4/model_save/PINN_[96]x4_35000.pth\n",
      "Epoch: 8/10----------------\n"
     ]
    },
    {
     "name": "stderr",
     "output_type": "stream",
     "text": [
      "100%|██████████| 5000/5000 [08:40<00:00,  9.61it/s, Loss=4.103e-03, PDE=9.995e-04, BC=1.143e-04,1.101e-06, IC=2.875e-03,1.132e-04, D*=6.00e-02,1.52e-03, lr=9.57e-05]\n"
     ]
    },
    {
     "name": "stdout",
     "output_type": "stream",
     "text": [
      "R^2 Error: {'Ni': 0.138, 'SiC': 0.021, 'C': 0.063, 'NiSi': 0.124, 'NiSi2': 0.08}\n",
      "Inf Error: {'Ni': 0.126, 'SiC': 0.031, 'C': 0.108, 'NiSi': 0.121, 'NiSi2': 0.173}\n",
      "Mean Error: (0.08521270794488642, 0.11154954736587533)\n",
      "模型已保存至 ./Results/PINN_[96]x4/model_save/PINN_[96]x4_40000.pth\n",
      "Epoch: 9/10----------------\n"
     ]
    },
    {
     "name": "stderr",
     "output_type": "stream",
     "text": [
      "100%|██████████| 5000/5000 [08:41<00:00,  9.59it/s, Loss=3.520e-03, PDE=7.364e-04, BC=9.215e-05,1.151e-06, IC=2.594e-03,9.677e-05, D*=6.00e-02,1.35e-03, lr=2.46e-05]\n"
     ]
    },
    {
     "name": "stdout",
     "output_type": "stream",
     "text": [
      "R^2 Error: {'Ni': 0.152, 'SiC': 0.023, 'C': 0.067, 'NiSi': 0.139, 'NiSi2': 0.083}\n",
      "Inf Error: {'Ni': 0.138, 'SiC': 0.033, 'C': 0.113, 'NiSi': 0.137, 'NiSi2': 0.16}\n",
      "Mean Error: (0.0927356222701226, 0.1159946103876314)\n",
      "模型已保存至 ./Results/PINN_[96]x4/model_save/PINN_[96]x4_45000.pth\n",
      "Epoch: 10/10----------------\n"
     ]
    },
    {
     "name": "stderr",
     "output_type": "stream",
     "text": [
      "100%|██████████| 5000/5000 [08:48<00:00,  9.46it/s, Loss=3.280e-03, PDE=6.941e-04, BC=8.111e-05,1.181e-06, IC=2.415e-03,8.836e-05, D*=6.00e-02,1.26e-03, lr=1.01e-08]\n"
     ]
    },
    {
     "name": "stdout",
     "output_type": "stream",
     "text": [
      "R^2 Error: {'Ni': 0.164, 'SiC': 0.025, 'C': 0.071, 'NiSi': 0.151, 'NiSi2': 0.088}\n",
      "Inf Error: {'Ni': 0.148, 'SiC': 0.034, 'C': 0.117, 'NiSi': 0.15, 'NiSi2': 0.154}\n",
      "Mean Error: (0.09948744263437972, 0.12068176867970108)\n",
      "模型已保存至 ./Results/PINN_[96]x4/model_save/PINN_[96]x4_50000.pth\n",
      "Training time: 5250.21s-------------------------\n",
      "PINN_[64]x4:\n",
      "Epoch: 1/10----------------\n"
     ]
    },
    {
     "name": "stderr",
     "output_type": "stream",
     "text": [
      "100%|██████████| 5000/5000 [08:51<00:00,  9.41it/s, Loss=2.777e-02, PDE=4.837e-03, BC=6.519e-04,9.140e-04, IC=2.050e-02,8.625e-04, D*=6.00e-02,5.71e-03, lr=9.76e-04]\n"
     ]
    },
    {
     "name": "stdout",
     "output_type": "stream",
     "text": [
      "R^2 Error: {'Ni': 0.131, 'SiC': 0.039, 'C': 0.078, 'NiSi': 0.253, 'NiSi2': 0.181}\n",
      "Inf Error: {'Ni': 0.117, 'SiC': 0.046, 'C': 0.123, 'NiSi': 0.226, 'NiSi2': 0.171}\n",
      "Mean Error: (0.13613706745524745, 0.13645824118335553)\n",
      "模型已保存至 ./Results/PINN_[64]x4/model_save/PINN_[64]x4_5000.pth\n",
      "Epoch: 2/10----------------\n"
     ]
    },
    {
     "name": "stderr",
     "output_type": "stream",
     "text": [
      "100%|██████████| 5000/5000 [08:52<00:00,  9.39it/s, Loss=1.909e-02, PDE=5.852e-03, BC=1.455e-03,5.073e-04, IC=1.070e-02,5.741e-04, D*=6.00e-02,3.28e-03, lr=9.05e-04]\n"
     ]
    },
    {
     "name": "stdout",
     "output_type": "stream",
     "text": [
      "R^2 Error: {'Ni': 0.086, 'SiC': 0.027, 'C': 0.044, 'NiSi': 0.189, 'NiSi2': 0.083}\n",
      "Inf Error: {'Ni': 0.082, 'SiC': 0.029, 'C': 0.102, 'NiSi': 0.321, 'NiSi2': 0.129}\n",
      "Mean Error: (0.08604738772100023, 0.13271070480008135)\n",
      "模型已保存至 ./Results/PINN_[64]x4/model_save/PINN_[64]x4_10000.pth\n",
      "Epoch: 3/10----------------\n"
     ]
    },
    {
     "name": "stderr",
     "output_type": "stream",
     "text": [
      "100%|██████████| 5000/5000 [08:40<00:00,  9.60it/s, Loss=1.378e-02, PDE=4.790e-03, BC=4.815e-04,3.103e-05, IC=8.110e-03,3.689e-04, D*=6.00e-02,2.60e-03, lr=7.94e-04]\n"
     ]
    },
    {
     "name": "stdout",
     "output_type": "stream",
     "text": [
      "R^2 Error: {'Ni': 0.092, 'SiC': 0.02, 'C': 0.037, 'NiSi': 0.164, 'NiSi2': 0.048}\n",
      "Inf Error: {'Ni': 0.088, 'SiC': 0.023, 'C': 0.094, 'NiSi': 0.296, 'NiSi2': 0.087}\n",
      "Mean Error: (0.07218075739079159, 0.11748920368392705)\n",
      "模型已保存至 ./Results/PINN_[64]x4/model_save/PINN_[64]x4_15000.pth\n",
      "Epoch: 4/10----------------\n"
     ]
    },
    {
     "name": "stderr",
     "output_type": "stream",
     "text": [
      "100%|██████████| 5000/5000 [08:43<00:00,  9.55it/s, Loss=1.104e-02, PDE=2.563e-03, BC=8.018e-04,7.067e-04, IC=6.714e-03,2.584e-04, D*=6.00e-02,2.22e-03, lr=6.55e-04]\n"
     ]
    },
    {
     "name": "stdout",
     "output_type": "stream",
     "text": [
      "R^2 Error: {'Ni': 0.084, 'SiC': 0.03, 'C': 0.039, 'NiSi': 0.13, 'NiSi2': 0.042}\n",
      "Inf Error: {'Ni': 0.08, 'SiC': 0.032, 'C': 0.089, 'NiSi': 0.241, 'NiSi2': 0.078}\n",
      "Mean Error: (0.06494831003343475, 0.10399800603291127)\n",
      "模型已保存至 ./Results/PINN_[64]x4/model_save/PINN_[64]x4_20000.pth\n",
      "Epoch: 5/10----------------\n"
     ]
    },
    {
     "name": "stderr",
     "output_type": "stream",
     "text": [
      "100%|██████████| 5000/5000 [08:47<00:00,  9.47it/s, Loss=8.621e-03, PDE=1.796e-03, BC=1.089e-03,1.488e-05, IC=5.484e-03,2.363e-04, D*=6.00e-02,2.02e-03, lr=5.00e-04]\n"
     ]
    },
    {
     "name": "stdout",
     "output_type": "stream",
     "text": [
      "R^2 Error: {'Ni': 0.085, 'SiC': 0.011, 'C': 0.036, 'NiSi': 0.129, 'NiSi2': 0.044}\n",
      "Inf Error: {'Ni': 0.082, 'SiC': 0.02, 'C': 0.082, 'NiSi': 0.243, 'NiSi2': 0.08}\n",
      "Mean Error: (0.060987227769412754, 0.10139395669895564)\n",
      "模型已保存至 ./Results/PINN_[64]x4/model_save/PINN_[64]x4_25000.pth\n",
      "Epoch: 6/10----------------\n"
     ]
    },
    {
     "name": "stderr",
     "output_type": "stream",
     "text": [
      "100%|██████████| 5000/5000 [08:44<00:00,  9.54it/s, Loss=7.573e-03, PDE=2.361e-03, BC=2.069e-04,2.770e-05, IC=4.788e-03,1.901e-04, D*=6.00e-02,1.89e-03, lr=3.46e-04]\n"
     ]
    },
    {
     "name": "stdout",
     "output_type": "stream",
     "text": [
      "R^2 Error: {'Ni': 0.086, 'SiC': 0.01, 'C': 0.039, 'NiSi': 0.115, 'NiSi2': 0.044}\n",
      "Inf Error: {'Ni': 0.084, 'SiC': 0.018, 'C': 0.085, 'NiSi': 0.219, 'NiSi2': 0.089}\n",
      "Mean Error: (0.05904464098416895, 0.09901831310889138)\n",
      "模型已保存至 ./Results/PINN_[64]x4/model_save/PINN_[64]x4_30000.pth\n",
      "Epoch: 7/10----------------\n"
     ]
    },
    {
     "name": "stderr",
     "output_type": "stream",
     "text": [
      "100%|██████████| 5000/5000 [08:45<00:00,  9.52it/s, Loss=6.427e-03, PDE=1.902e-03, BC=2.708e-04,4.028e-06, IC=4.090e-03,1.598e-04, D*=6.00e-02,1.81e-03, lr=2.06e-04]\n"
     ]
    },
    {
     "name": "stdout",
     "output_type": "stream",
     "text": [
      "R^2 Error: {'Ni': 0.089, 'SiC': 0.01, 'C': 0.043, 'NiSi': 0.102, 'NiSi2': 0.048}\n",
      "Inf Error: {'Ni': 0.086, 'SiC': 0.019, 'C': 0.086, 'NiSi': 0.194, 'NiSi2': 0.095}\n",
      "Mean Error: (0.058559465451510216, 0.0960992972750612)\n",
      "模型已保存至 ./Results/PINN_[64]x4/model_save/PINN_[64]x4_35000.pth\n",
      "Epoch: 8/10----------------\n"
     ]
    },
    {
     "name": "stderr",
     "output_type": "stream",
     "text": [
      "100%|██████████| 5000/5000 [08:45<00:00,  9.52it/s, Loss=5.515e-03, PDE=1.504e-03, BC=1.707e-04,2.933e-06, IC=3.702e-03,1.352e-04, D*=6.00e-02,1.72e-03, lr=9.57e-05]\n"
     ]
    },
    {
     "name": "stdout",
     "output_type": "stream",
     "text": [
      "R^2 Error: {'Ni': 0.091, 'SiC': 0.01, 'C': 0.046, 'NiSi': 0.091, 'NiSi2': 0.05}\n",
      "Inf Error: {'Ni': 0.088, 'SiC': 0.018, 'C': 0.089, 'NiSi': 0.172, 'NiSi2': 0.1}\n",
      "Mean Error: (0.05752276896107565, 0.09337692073403969)\n",
      "模型已保存至 ./Results/PINN_[64]x4/model_save/PINN_[64]x4_40000.pth\n",
      "Epoch: 9/10----------------\n"
     ]
    },
    {
     "name": "stderr",
     "output_type": "stream",
     "text": [
      "100%|██████████| 5000/5000 [08:44<00:00,  9.53it/s, Loss=4.809e-03, PDE=1.252e-03, BC=1.542e-04,2.732e-06, IC=3.286e-03,1.144e-04, D*=6.00e-02,1.63e-03, lr=2.46e-05]\n"
     ]
    },
    {
     "name": "stdout",
     "output_type": "stream",
     "text": [
      "R^2 Error: {'Ni': 0.094, 'SiC': 0.01, 'C': 0.05, 'NiSi': 0.082, 'NiSi2': 0.055}\n",
      "Inf Error: {'Ni': 0.092, 'SiC': 0.018, 'C': 0.091, 'NiSi': 0.153, 'NiSi2': 0.109}\n",
      "Mean Error: (0.05802790869557315, 0.09244620816726523)\n",
      "模型已保存至 ./Results/PINN_[64]x4/model_save/PINN_[64]x4_45000.pth\n",
      "Epoch: 10/10----------------\n"
     ]
    },
    {
     "name": "stderr",
     "output_type": "stream",
     "text": [
      "100%|██████████| 5000/5000 [08:44<00:00,  9.53it/s, Loss=4.520e-03, PDE=1.199e-03, BC=1.441e-04,2.506e-06, IC=3.071e-03,1.036e-04, D*=6.00e-02,1.53e-03, lr=1.01e-08]\n"
     ]
    },
    {
     "name": "stdout",
     "output_type": "stream",
     "text": [
      "R^2 Error: {'Ni': 0.097, 'SiC': 0.01, 'C': 0.052, 'NiSi': 0.078, 'NiSi2': 0.057}\n",
      "Inf Error: {'Ni': 0.094, 'SiC': 0.018, 'C': 0.093, 'NiSi': 0.142, 'NiSi2': 0.114}\n",
      "Mean Error: (0.05878638212510971, 0.09219074654147606)\n",
      "模型已保存至 ./Results/PINN_[64]x4/model_save/PINN_[64]x4_50000.pth\n",
      "Training time: 5279.05s-------------------------\n",
      "PINN_[128]x3:\n",
      "Epoch: 1/10----------------\n"
     ]
    },
    {
     "name": "stderr",
     "output_type": "stream",
     "text": [
      "100%|██████████| 5000/5000 [07:44<00:00, 10.77it/s, Loss=3.391e-02, PDE=4.669e-03, BC=2.828e-03,2.177e-05, IC=2.528e-02,1.115e-03, D*=6.00e-02,5.28e-03, lr=9.76e-04]\n"
     ]
    },
    {
     "name": "stdout",
     "output_type": "stream",
     "text": [
      "R^2 Error: {'Ni': 0.126, 'SiC': 0.039, 'C': 0.131, 'NiSi': 0.22, 'NiSi2': 0.216}\n",
      "Inf Error: {'Ni': 0.112, 'SiC': 0.053, 'C': 0.169, 'NiSi': 0.236, 'NiSi2': 0.236}\n",
      "Mean Error: (0.1464078782444372, 0.16136428816713852)\n",
      "模型已保存至 ./Results/PINN_[128]x3/model_save/PINN_[128]x3_5000.pth\n",
      "Epoch: 2/10----------------\n"
     ]
    },
    {
     "name": "stderr",
     "output_type": "stream",
     "text": [
      "100%|██████████| 5000/5000 [07:35<00:00, 10.97it/s, Loss=2.164e-02, PDE=3.013e-03, BC=3.156e-03,3.418e-05, IC=1.473e-02,7.076e-04, D*=6.00e-02,4.05e-03, lr=9.05e-04]\n"
     ]
    },
    {
     "name": "stdout",
     "output_type": "stream",
     "text": [
      "R^2 Error: {'Ni': 0.09, 'SiC': 0.023, 'C': 0.085, 'NiSi': 0.147, 'NiSi2': 0.112}\n",
      "Inf Error: {'Ni': 0.079, 'SiC': 0.036, 'C': 0.135, 'NiSi': 0.163, 'NiSi2': 0.146}\n",
      "Mean Error: (0.09150880056552743, 0.11158400360494274)\n",
      "模型已保存至 ./Results/PINN_[128]x3/model_save/PINN_[128]x3_10000.pth\n",
      "Epoch: 3/10----------------\n"
     ]
    },
    {
     "name": "stderr",
     "output_type": "stream",
     "text": [
      "100%|██████████| 5000/5000 [07:36<00:00, 10.95it/s, Loss=1.556e-02, PDE=2.664e-03, BC=1.792e-03,2.608e-06, IC=1.073e-02,3.667e-04, D*=6.00e-02,3.07e-03, lr=7.94e-04]\n"
     ]
    },
    {
     "name": "stdout",
     "output_type": "stream",
     "text": [
      "R^2 Error: {'Ni': 0.08, 'SiC': 0.016, 'C': 0.055, 'NiSi': 0.107, 'NiSi2': 0.06}\n",
      "Inf Error: {'Ni': 0.072, 'SiC': 0.027, 'C': 0.108, 'NiSi': 0.114, 'NiSi2': 0.093}\n",
      "Mean Error: (0.06376749864677468, 0.08255224705212957)\n",
      "模型已保存至 ./Results/PINN_[128]x3/model_save/PINN_[128]x3_15000.pth\n",
      "Epoch: 4/10----------------\n"
     ]
    },
    {
     "name": "stderr",
     "output_type": "stream",
     "text": [
      "100%|██████████| 5000/5000 [07:46<00:00, 10.72it/s, Loss=1.308e-02, PDE=3.175e-03, BC=2.740e-04,2.158e-06, IC=9.348e-03,2.784e-04, D*=6.00e-02,2.88e-03, lr=6.55e-04]\n"
     ]
    },
    {
     "name": "stdout",
     "output_type": "stream",
     "text": [
      "R^2 Error: {'Ni': 0.078, 'SiC': 0.013, 'C': 0.043, 'NiSi': 0.107, 'NiSi2': 0.049}\n",
      "Inf Error: {'Ni': 0.072, 'SiC': 0.023, 'C': 0.097, 'NiSi': 0.152, 'NiSi2': 0.063}\n",
      "Mean Error: (0.05781432648206377, 0.08126096987753402)\n",
      "模型已保存至 ./Results/PINN_[128]x3/model_save/PINN_[128]x3_20000.pth\n",
      "Epoch: 5/10----------------\n"
     ]
    },
    {
     "name": "stderr",
     "output_type": "stream",
     "text": [
      "100%|██████████| 5000/5000 [07:44<00:00, 10.76it/s, Loss=1.049e-02, PDE=2.147e-03, BC=1.736e-04,8.439e-05, IC=7.877e-03,2.112e-04, D*=6.00e-02,2.89e-03, lr=5.00e-04]\n"
     ]
    },
    {
     "name": "stdout",
     "output_type": "stream",
     "text": [
      "R^2 Error: {'Ni': 0.073, 'SiC': 0.012, 'C': 0.034, 'NiSi': 0.1, 'NiSi2': 0.038}\n",
      "Inf Error: {'Ni': 0.068, 'SiC': 0.02, 'C': 0.085, 'NiSi': 0.172, 'NiSi2': 0.048}\n",
      "Mean Error: (0.05154620263654417, 0.07862865997342364)\n",
      "模型已保存至 ./Results/PINN_[128]x3/model_save/PINN_[128]x3_25000.pth\n",
      "Epoch: 6/10----------------\n"
     ]
    },
    {
     "name": "stderr",
     "output_type": "stream",
     "text": [
      "100%|██████████| 5000/5000 [07:42<00:00, 10.80it/s, Loss=8.454e-03, PDE=1.514e-03, BC=1.439e-04,1.363e-06, IC=6.632e-03,1.631e-04, D*=6.00e-02,2.15e-03, lr=3.46e-04]\n"
     ]
    },
    {
     "name": "stdout",
     "output_type": "stream",
     "text": [
      "R^2 Error: {'Ni': 0.074, 'SiC': 0.012, 'C': 0.032, 'NiSi': 0.089, 'NiSi2': 0.043}\n",
      "Inf Error: {'Ni': 0.069, 'SiC': 0.019, 'C': 0.08, 'NiSi': 0.149, 'NiSi2': 0.046}\n",
      "Mean Error: (0.050026906292406956, 0.07246312443590369)\n",
      "模型已保存至 ./Results/PINN_[128]x3/model_save/PINN_[128]x3_30000.pth\n",
      "Epoch: 7/10----------------\n"
     ]
    },
    {
     "name": "stderr",
     "output_type": "stream",
     "text": [
      "100%|██████████| 5000/5000 [07:45<00:00, 10.75it/s, Loss=7.291e-03, PDE=1.496e-03, BC=1.172e-04,9.337e-07, IC=5.552e-03,1.256e-04, D*=6.00e-02,1.52e-03, lr=2.06e-04]\n"
     ]
    },
    {
     "name": "stdout",
     "output_type": "stream",
     "text": [
      "R^2 Error: {'Ni': 0.076, 'SiC': 0.011, 'C': 0.032, 'NiSi': 0.082, 'NiSi2': 0.048}\n",
      "Inf Error: {'Ni': 0.071, 'SiC': 0.018, 'C': 0.079, 'NiSi': 0.128, 'NiSi2': 0.059}\n",
      "Mean Error: (0.049670774593241415, 0.0711340828219473)\n",
      "模型已保存至 ./Results/PINN_[128]x3/model_save/PINN_[128]x3_35000.pth\n",
      "Epoch: 8/10----------------\n"
     ]
    },
    {
     "name": "stderr",
     "output_type": "stream",
     "text": [
      "100%|██████████| 5000/5000 [07:45<00:00, 10.74it/s, Loss=6.062e-03, PDE=1.342e-03, BC=1.000e-04,7.496e-07, IC=4.522e-03,9.736e-05, D*=6.00e-02,1.05e-03, lr=9.57e-05]\n"
     ]
    },
    {
     "name": "stdout",
     "output_type": "stream",
     "text": [
      "R^2 Error: {'Ni': 0.08, 'SiC': 0.01, 'C': 0.033, 'NiSi': 0.08, 'NiSi2': 0.053}\n",
      "Inf Error: {'Ni': 0.075, 'SiC': 0.017, 'C': 0.08, 'NiSi': 0.112, 'NiSi2': 0.074}\n",
      "Mean Error: (0.051257038962205334, 0.07161548871057934)\n",
      "模型已保存至 ./Results/PINN_[128]x3/model_save/PINN_[128]x3_40000.pth\n",
      "Epoch: 9/10----------------\n"
     ]
    },
    {
     "name": "stderr",
     "output_type": "stream",
     "text": [
      "100%|██████████| 5000/5000 [07:46<00:00, 10.72it/s, Loss=4.993e-03, PDE=1.260e-03, BC=8.661e-05,5.678e-07, IC=3.564e-03,8.236e-05, D*=6.00e-02,7.30e-04, lr=2.46e-05]\n"
     ]
    },
    {
     "name": "stdout",
     "output_type": "stream",
     "text": [
      "R^2 Error: {'Ni': 0.086, 'SiC': 0.01, 'C': 0.035, 'NiSi': 0.081, 'NiSi2': 0.062}\n",
      "Inf Error: {'Ni': 0.081, 'SiC': 0.017, 'C': 0.083, 'NiSi': 0.095, 'NiSi2': 0.092}\n",
      "Mean Error: (0.05496218841500729, 0.07366108565713289)\n",
      "模型已保存至 ./Results/PINN_[128]x3/model_save/PINN_[128]x3_45000.pth\n",
      "Epoch: 10/10----------------\n"
     ]
    },
    {
     "name": "stderr",
     "output_type": "stream",
     "text": [
      "100%|██████████| 5000/5000 [07:45<00:00, 10.74it/s, Loss=4.472e-03, PDE=1.213e-03, BC=8.064e-05,4.824e-07, IC=3.101e-03,7.764e-05, D*=6.00e-02,7.35e-04, lr=1.01e-08]\n"
     ]
    },
    {
     "name": "stdout",
     "output_type": "stream",
     "text": [
      "R^2 Error: {'Ni': 0.09, 'SiC': 0.011, 'C': 0.037, 'NiSi': 0.085, 'NiSi2': 0.068}\n",
      "Inf Error: {'Ni': 0.085, 'SiC': 0.017, 'C': 0.086, 'NiSi': 0.09, 'NiSi2': 0.1}\n",
      "Mean Error: (0.05807197021899254, 0.07550837515634794)\n",
      "模型已保存至 ./Results/PINN_[128]x3/model_save/PINN_[128]x3_50000.pth\n",
      "Training time: 4652.77s-------------------------\n",
      "PINN_[96]x3:\n",
      "Epoch: 1/10----------------\n"
     ]
    },
    {
     "name": "stderr",
     "output_type": "stream",
     "text": [
      "100%|██████████| 5000/5000 [07:19<00:00, 11.37it/s, Loss=3.830e-02, PDE=5.463e-03, BC=7.196e-03,5.272e-05, IC=2.475e-02,8.299e-04, D*=6.00e-02,5.18e-03, lr=9.76e-04]\n"
     ]
    },
    {
     "name": "stdout",
     "output_type": "stream",
     "text": [
      "R^2 Error: {'Ni': 0.126, 'SiC': 0.036, 'C': 0.107, 'NiSi': 0.2, 'NiSi2': 0.212}\n",
      "Inf Error: {'Ni': 0.114, 'SiC': 0.051, 'C': 0.136, 'NiSi': 0.214, 'NiSi2': 0.236}\n",
      "Mean Error: (0.13632521604849182, 0.15010152258359483)\n",
      "模型已保存至 ./Results/PINN_[96]x3/model_save/PINN_[96]x3_5000.pth\n",
      "Epoch: 2/10----------------\n"
     ]
    },
    {
     "name": "stderr",
     "output_type": "stream",
     "text": [
      "100%|██████████| 5000/5000 [07:06<00:00, 11.73it/s, Loss=2.364e-02, PDE=4.626e-03, BC=1.168e-03,2.133e-03, IC=1.522e-02,4.985e-04, D*=6.00e-02,3.99e-03, lr=9.05e-04]\n"
     ]
    },
    {
     "name": "stdout",
     "output_type": "stream",
     "text": [
      "R^2 Error: {'Ni': 0.097, 'SiC': 0.027, 'C': 0.068, 'NiSi': 0.141, 'NiSi2': 0.079}\n",
      "Inf Error: {'Ni': 0.087, 'SiC': 0.033, 'C': 0.123, 'NiSi': 0.173, 'NiSi2': 0.107}\n",
      "Mean Error: (0.08224530317653644, 0.1045266774637642)\n",
      "模型已保存至 ./Results/PINN_[96]x3/model_save/PINN_[96]x3_10000.pth\n",
      "Epoch: 3/10----------------\n"
     ]
    },
    {
     "name": "stderr",
     "output_type": "stream",
     "text": [
      "100%|██████████| 5000/5000 [07:08<00:00, 11.67it/s, Loss=1.556e-02, PDE=2.799e-03, BC=1.674e-04,6.634e-04, IC=1.154e-02,3.833e-04, D*=6.00e-02,3.13e-03, lr=7.94e-04]\n"
     ]
    },
    {
     "name": "stdout",
     "output_type": "stream",
     "text": [
      "R^2 Error: {'Ni': 0.082, 'SiC': 0.02, 'C': 0.06, 'NiSi': 0.116, 'NiSi2': 0.075}\n",
      "Inf Error: {'Ni': 0.076, 'SiC': 0.027, 'C': 0.104, 'NiSi': 0.128, 'NiSi2': 0.171}\n",
      "Mean Error: (0.07051798151335184, 0.10125156472482752)\n",
      "模型已保存至 ./Results/PINN_[96]x3/model_save/PINN_[96]x3_15000.pth\n",
      "Epoch: 4/10----------------\n"
     ]
    },
    {
     "name": "stderr",
     "output_type": "stream",
     "text": [
      "100%|██████████| 5000/5000 [07:09<00:00, 11.64it/s, Loss=1.331e-02, PDE=3.197e-03, BC=2.528e-04,3.160e-04, IC=9.267e-03,2.820e-04, D*=6.00e-02,2.59e-03, lr=6.55e-04]\n"
     ]
    },
    {
     "name": "stdout",
     "output_type": "stream",
     "text": [
      "R^2 Error: {'Ni': 0.079, 'SiC': 0.021, 'C': 0.046, 'NiSi': 0.106, 'NiSi2': 0.072}\n",
      "Inf Error: {'Ni': 0.075, 'SiC': 0.024, 'C': 0.095, 'NiSi': 0.105, 'NiSi2': 0.202}\n",
      "Mean Error: (0.06488495606928965, 0.1002742052217797)\n",
      "模型已保存至 ./Results/PINN_[96]x3/model_save/PINN_[96]x3_20000.pth\n",
      "Epoch: 5/10----------------\n"
     ]
    },
    {
     "name": "stderr",
     "output_type": "stream",
     "text": [
      "100%|██████████| 5000/5000 [07:14<00:00, 11.51it/s, Loss=1.034e-02, PDE=1.994e-03, BC=1.847e-04,2.546e-04, IC=7.699e-03,2.072e-04, D*=6.00e-02,2.21e-03, lr=5.00e-04]\n"
     ]
    },
    {
     "name": "stdout",
     "output_type": "stream",
     "text": [
      "R^2 Error: {'Ni': 0.077, 'SiC': 0.014, 'C': 0.037, 'NiSi': 0.098, 'NiSi2': 0.064}\n",
      "Inf Error: {'Ni': 0.077, 'SiC': 0.019, 'C': 0.091, 'NiSi': 0.109, 'NiSi2': 0.188}\n",
      "Mean Error: (0.05818897053460431, 0.09678686288543266)\n",
      "模型已保存至 ./Results/PINN_[96]x3/model_save/PINN_[96]x3_25000.pth\n",
      "Epoch: 6/10----------------\n"
     ]
    },
    {
     "name": "stderr",
     "output_type": "stream",
     "text": [
      "100%|██████████| 5000/5000 [07:18<00:00, 11.41it/s, Loss=8.801e-03, PDE=1.796e-03, BC=1.018e-04,2.912e-04, IC=6.439e-03,1.726e-04, D*=6.00e-02,1.99e-03, lr=3.46e-04]\n"
     ]
    },
    {
     "name": "stdout",
     "output_type": "stream",
     "text": [
      "R^2 Error: {'Ni': 0.078, 'SiC': 0.013, 'C': 0.034, 'NiSi': 0.093, 'NiSi2': 0.059}\n",
      "Inf Error: {'Ni': 0.078, 'SiC': 0.017, 'C': 0.089, 'NiSi': 0.105, 'NiSi2': 0.165}\n",
      "Mean Error: (0.05555484342325624, 0.0907225330319849)\n",
      "模型已保存至 ./Results/PINN_[96]x3/model_save/PINN_[96]x3_30000.pth\n",
      "Epoch: 7/10----------------\n"
     ]
    },
    {
     "name": "stderr",
     "output_type": "stream",
     "text": [
      "100%|██████████| 5000/5000 [07:16<00:00, 11.45it/s, Loss=7.231e-03, PDE=1.742e-03, BC=1.055e-04,1.851e-06, IC=5.238e-03,1.444e-04, D*=6.00e-02,1.83e-03, lr=2.06e-04]\n"
     ]
    },
    {
     "name": "stdout",
     "output_type": "stream",
     "text": [
      "R^2 Error: {'Ni': 0.079, 'SiC': 0.008, 'C': 0.032, 'NiSi': 0.091, 'NiSi2': 0.053}\n",
      "Inf Error: {'Ni': 0.079, 'SiC': 0.015, 'C': 0.087, 'NiSi': 0.108, 'NiSi2': 0.126}\n",
      "Mean Error: (0.05233296543651507, 0.08314843591263779)\n",
      "模型已保存至 ./Results/PINN_[96]x3/model_save/PINN_[96]x3_35000.pth\n",
      "Epoch: 8/10----------------\n"
     ]
    },
    {
     "name": "stderr",
     "output_type": "stream",
     "text": [
      "100%|██████████| 5000/5000 [07:18<00:00, 11.41it/s, Loss=5.864e-03, PDE=1.551e-03, BC=8.857e-05,2.260e-06, IC=4.099e-03,1.233e-04, D*=6.00e-02,1.73e-03, lr=9.57e-05]\n"
     ]
    },
    {
     "name": "stdout",
     "output_type": "stream",
     "text": [
      "R^2 Error: {'Ni': 0.085, 'SiC': 0.008, 'C': 0.031, 'NiSi': 0.092, 'NiSi2': 0.055}\n",
      "Inf Error: {'Ni': 0.085, 'SiC': 0.015, 'C': 0.086, 'NiSi': 0.114, 'NiSi2': 0.086}\n",
      "Mean Error: (0.054187879796255466, 0.07716796145140525)\n",
      "模型已保存至 ./Results/PINN_[96]x3/model_save/PINN_[96]x3_40000.pth\n",
      "Epoch: 9/10----------------\n"
     ]
    },
    {
     "name": "stderr",
     "output_type": "stream",
     "text": [
      "100%|██████████| 5000/5000 [07:16<00:00, 11.44it/s, Loss=5.040e-03, PDE=1.394e-03, BC=7.258e-05,4.720e-07, IC=3.464e-03,1.093e-04, D*=6.00e-02,1.67e-03, lr=2.46e-05]\n"
     ]
    },
    {
     "name": "stdout",
     "output_type": "stream",
     "text": [
      "R^2 Error: {'Ni': 0.094, 'SiC': 0.008, 'C': 0.033, 'NiSi': 0.094, 'NiSi2': 0.061}\n",
      "Inf Error: {'Ni': 0.095, 'SiC': 0.016, 'C': 0.088, 'NiSi': 0.116, 'NiSi2': 0.083}\n",
      "Mean Error: (0.058159621193731005, 0.07950159622046042)\n",
      "模型已保存至 ./Results/PINN_[96]x3/model_save/PINN_[96]x3_45000.pth\n",
      "Epoch: 10/10----------------\n"
     ]
    },
    {
     "name": "stderr",
     "output_type": "stream",
     "text": [
      "100%|██████████| 5000/5000 [07:18<00:00, 11.40it/s, Loss=4.730e-03, PDE=1.327e-03, BC=6.817e-05,3.957e-07, IC=3.232e-03,1.029e-04, D*=6.00e-02,1.64e-03, lr=1.01e-08]\n"
     ]
    },
    {
     "name": "stdout",
     "output_type": "stream",
     "text": [
      "R^2 Error: {'Ni': 0.101, 'SiC': 0.009, 'C': 0.034, 'NiSi': 0.096, 'NiSi2': 0.066}\n",
      "Inf Error: {'Ni': 0.101, 'SiC': 0.016, 'C': 0.089, 'NiSi': 0.117, 'NiSi2': 0.091}\n",
      "Mean Error: (0.061091237191977954, 0.08295440442674448)\n",
      "模型已保存至 ./Results/PINN_[96]x3/model_save/PINN_[96]x3_50000.pth\n",
      "Training time: 4368.63s-------------------------\n",
      "PINN_[64]x3:\n",
      "Epoch: 1/10----------------\n"
     ]
    },
    {
     "name": "stderr",
     "output_type": "stream",
     "text": [
      "100%|██████████| 5000/5000 [07:25<00:00, 11.22it/s, Loss=4.026e-02, PDE=7.034e-03, BC=1.725e-03,7.800e-05, IC=3.032e-02,1.101e-03, D*=6.00e-02,6.78e-03, lr=9.76e-04]\n"
     ]
    },
    {
     "name": "stdout",
     "output_type": "stream",
     "text": [
      "R^2 Error: {'Ni': 0.161, 'SiC': 0.045, 'C': 0.139, 'NiSi': 0.235, 'NiSi2': 0.247}\n",
      "Inf Error: {'Ni': 0.142, 'SiC': 0.063, 'C': 0.19, 'NiSi': 0.258, 'NiSi2': 0.298}\n",
      "Mean Error: (0.16548796788395373, 0.19001839155490816)\n",
      "模型已保存至 ./Results/PINN_[64]x3/model_save/PINN_[64]x3_5000.pth\n",
      "Epoch: 2/10----------------\n"
     ]
    },
    {
     "name": "stderr",
     "output_type": "stream",
     "text": [
      "100%|██████████| 5000/5000 [07:18<00:00, 11.41it/s, Loss=2.785e-02, PDE=4.675e-03, BC=1.405e-03,1.353e-04, IC=2.078e-02,8.539e-04, D*=6.00e-02,5.28e-03, lr=9.05e-04]\n"
     ]
    },
    {
     "name": "stdout",
     "output_type": "stream",
     "text": [
      "R^2 Error: {'Ni': 0.129, 'SiC': 0.028, 'C': 0.094, 'NiSi': 0.201, 'NiSi2': 0.135}\n",
      "Inf Error: {'Ni': 0.111, 'SiC': 0.044, 'C': 0.162, 'NiSi': 0.232, 'NiSi2': 0.201}\n",
      "Mean Error: (0.1175822577341751, 0.1501107316972626)\n",
      "模型已保存至 ./Results/PINN_[64]x3/model_save/PINN_[64]x3_10000.pth\n",
      "Epoch: 3/10----------------\n"
     ]
    },
    {
     "name": "stderr",
     "output_type": "stream",
     "text": [
      "100%|██████████| 5000/5000 [07:17<00:00, 11.43it/s, Loss=2.031e-02, PDE=3.773e-03, BC=2.708e-04,7.678e-04, IC=1.473e-02,7.645e-04, D*=6.00e-02,4.55e-03, lr=7.94e-04]\n"
     ]
    },
    {
     "name": "stdout",
     "output_type": "stream",
     "text": [
      "R^2 Error: {'Ni': 0.102, 'SiC': 0.031, 'C': 0.099, 'NiSi': 0.162, 'NiSi2': 0.087}\n",
      "Inf Error: {'Ni': 0.09, 'SiC': 0.037, 'C': 0.163, 'NiSi': 0.178, 'NiSi2': 0.139}\n",
      "Mean Error: (0.09622925028037171, 0.12123806384713065)\n",
      "模型已保存至 ./Results/PINN_[64]x3/model_save/PINN_[64]x3_15000.pth\n",
      "Epoch: 4/10----------------\n"
     ]
    },
    {
     "name": "stderr",
     "output_type": "stream",
     "text": [
      "100%|██████████| 5000/5000 [07:25<00:00, 11.23it/s, Loss=1.499e-02, PDE=3.048e-03, BC=7.398e-04,1.471e-05, IC=1.063e-02,5.550e-04, D*=6.00e-02,3.55e-03, lr=6.55e-04]\n"
     ]
    },
    {
     "name": "stdout",
     "output_type": "stream",
     "text": [
      "R^2 Error: {'Ni': 0.085, 'SiC': 0.018, 'C': 0.078, 'NiSi': 0.128, 'NiSi2': 0.047}\n",
      "Inf Error: {'Ni': 0.077, 'SiC': 0.029, 'C': 0.145, 'NiSi': 0.128, 'NiSi2': 0.065}\n",
      "Mean Error: (0.07125164392706194, 0.08861881895038137)\n",
      "模型已保存至 ./Results/PINN_[64]x3/model_save/PINN_[64]x3_20000.pth\n",
      "Epoch: 5/10----------------\n"
     ]
    },
    {
     "name": "stderr",
     "output_type": "stream",
     "text": [
      "100%|██████████| 5000/5000 [07:25<00:00, 11.22it/s, Loss=1.259e-02, PDE=2.802e-03, BC=5.294e-04,1.484e-04, IC=8.642e-03,4.728e-04, D*=6.00e-02,3.18e-03, lr=5.00e-04]\n"
     ]
    },
    {
     "name": "stdout",
     "output_type": "stream",
     "text": [
      "R^2 Error: {'Ni': 0.083, 'SiC': 0.015, 'C': 0.076, 'NiSi': 0.117, 'NiSi2': 0.054}\n",
      "Inf Error: {'Ni': 0.077, 'SiC': 0.024, 'C': 0.14, 'NiSi': 0.111, 'NiSi2': 0.068}\n",
      "Mean Error: (0.06894598908758512, 0.08389783224380913)\n",
      "模型已保存至 ./Results/PINN_[64]x3/model_save/PINN_[64]x3_25000.pth\n",
      "Epoch: 6/10----------------\n"
     ]
    },
    {
     "name": "stderr",
     "output_type": "stream",
     "text": [
      "100%|██████████| 5000/5000 [07:26<00:00, 11.20it/s, Loss=1.012e-02, PDE=2.461e-03, BC=2.940e-04,1.625e-05, IC=6.952e-03,3.971e-04, D*=6.00e-02,2.96e-03, lr=3.46e-04]\n"
     ]
    },
    {
     "name": "stdout",
     "output_type": "stream",
     "text": [
      "R^2 Error: {'Ni': 0.079, 'SiC': 0.013, 'C': 0.069, 'NiSi': 0.111, 'NiSi2': 0.053}\n",
      "Inf Error: {'Ni': 0.074, 'SiC': 0.021, 'C': 0.132, 'NiSi': 0.109, 'NiSi2': 0.069}\n",
      "Mean Error: (0.0650627556928675, 0.0809848117139528)\n",
      "模型已保存至 ./Results/PINN_[64]x3/model_save/PINN_[64]x3_30000.pth\n",
      "Epoch: 7/10----------------\n"
     ]
    },
    {
     "name": "stderr",
     "output_type": "stream",
     "text": [
      "100%|██████████| 5000/5000 [07:27<00:00, 11.16it/s, Loss=8.766e-03, PDE=2.237e-03, BC=2.471e-04,6.178e-06, IC=5.929e-03,3.464e-04, D*=6.00e-02,2.88e-03, lr=2.06e-04]\n"
     ]
    },
    {
     "name": "stdout",
     "output_type": "stream",
     "text": [
      "R^2 Error: {'Ni': 0.076, 'SiC': 0.012, 'C': 0.063, 'NiSi': 0.106, 'NiSi2': 0.051}\n",
      "Inf Error: {'Ni': 0.073, 'SiC': 0.02, 'C': 0.124, 'NiSi': 0.112, 'NiSi2': 0.067}\n",
      "Mean Error: (0.06172089639917762, 0.0791431166601797)\n",
      "模型已保存至 ./Results/PINN_[64]x3/model_save/PINN_[64]x3_35000.pth\n",
      "Epoch: 8/10----------------\n"
     ]
    },
    {
     "name": "stderr",
     "output_type": "stream",
     "text": [
      "100%|██████████| 5000/5000 [07:27<00:00, 11.16it/s, Loss=7.552e-03, PDE=1.950e-03, BC=1.385e-04,4.346e-06, IC=5.159e-03,3.002e-04, D*=6.00e-02,2.80e-03, lr=9.57e-05]\n"
     ]
    },
    {
     "name": "stdout",
     "output_type": "stream",
     "text": [
      "R^2 Error: {'Ni': 0.075, 'SiC': 0.011, 'C': 0.058, 'NiSi': 0.102, 'NiSi2': 0.052}\n",
      "Inf Error: {'Ni': 0.072, 'SiC': 0.018, 'C': 0.116, 'NiSi': 0.111, 'NiSi2': 0.062}\n",
      "Mean Error: (0.05980673738456509, 0.07581488104220341)\n",
      "模型已保存至 ./Results/PINN_[64]x3/model_save/PINN_[64]x3_40000.pth\n",
      "Epoch: 9/10----------------\n"
     ]
    },
    {
     "name": "stderr",
     "output_type": "stream",
     "text": [
      "100%|██████████| 5000/5000 [07:28<00:00, 11.16it/s, Loss=6.787e-03, PDE=1.777e-03, BC=1.298e-04,3.097e-06, IC=4.610e-03,2.674e-04, D*=6.00e-02,2.75e-03, lr=2.46e-05]\n"
     ]
    },
    {
     "name": "stdout",
     "output_type": "stream",
     "text": [
      "R^2 Error: {'Ni': 0.074, 'SiC': 0.01, 'C': 0.054, 'NiSi': 0.099, 'NiSi2': 0.053}\n",
      "Inf Error: {'Ni': 0.071, 'SiC': 0.017, 'C': 0.111, 'NiSi': 0.11, 'NiSi2': 0.06}\n",
      "Mean Error: (0.057934678911459356, 0.0736355660552526)\n",
      "模型已保存至 ./Results/PINN_[64]x3/model_save/PINN_[64]x3_45000.pth\n",
      "Epoch: 10/10----------------\n"
     ]
    },
    {
     "name": "stderr",
     "output_type": "stream",
     "text": [
      "100%|██████████| 5000/5000 [07:27<00:00, 11.17it/s, Loss=6.476e-03, PDE=1.707e-03, BC=1.250e-04,2.618e-06, IC=4.389e-03,2.524e-04, D*=6.00e-02,2.72e-03, lr=1.01e-08]\n"
     ]
    },
    {
     "name": "stdout",
     "output_type": "stream",
     "text": [
      "R^2 Error: {'Ni': 0.074, 'SiC': 0.01, 'C': 0.052, 'NiSi': 0.098, 'NiSi2': 0.053}\n",
      "Inf Error: {'Ni': 0.07, 'SiC': 0.017, 'C': 0.108, 'NiSi': 0.11, 'NiSi2': 0.06}\n",
      "Mean Error: (0.05736183888906825, 0.07295880528788676)\n",
      "模型已保存至 ./Results/PINN_[64]x3/model_save/PINN_[64]x3_50000.pth\n",
      "Training time: 4471.14s-------------------------\n"
     ]
    }
   ],
   "source": [
    "from torch import Tensor\n",
    "\n",
    "\n",
    "hiddens = [6, 5, 4, 3]  ##[3,4] already finished\n",
    "neurons = [128,96,64]\n",
    "\n",
    "activation = torch.nn.functional.silu\n",
    "\n",
    "start_lr = 1e-3\n",
    "end_lr = 1e-8\n",
    "\n",
    "weight = [1, 1, 1, 1, 1, 1]\n",
    "for hidden in hiddens:\n",
    "    for neuron in neurons:\n",
    "        for mode in ['PINN']:  ##['PINN', 'IA_PINN', 'Fourier_PINN', 'AF_PINN']\n",
    "            layer = [2] + [neuron]*hidden + [6]\n",
    "            \n",
    "            star_time = timeit.default_timer()\n",
    "            num_epochs = 5000\n",
    "            sub_spochs = 10\n",
    "\n",
    "            loss_log_total,loss_log_pde, loss_log_bc, loss_log_ic = [],[],[],[]\n",
    "            torch.cuda.empty_cache()\n",
    "            print(f'{mode}_[{neuron}]x{hidden}:')\n",
    "            \n",
    "            if mode == 'PINN':\n",
    "                model = PINN(layer,activation,non_negative=True).to(device)\n",
    "                optimizer = optim.Adam(model.parameters(), lr=start_lr)  \n",
    "                scheduler = optim.lr_scheduler.CosineAnnealingLR(optimizer, T_max=num_epochs * sub_spochs, eta_min=end_lr)\n",
    "            elif mode == 'IA_PINN':\n",
    "                model = Attention_PINN(layer,activation,non_negative=True).to(device)\n",
    "                optimizer = optim.Adam(model.parameters(), lr=start_lr)  \n",
    "                scheduler = optim.lr_scheduler.CosineAnnealingLR(optimizer, T_max=num_epochs * sub_spochs, eta_min=end_lr)\n",
    "            elif mode == 'Fourier_PINN':\n",
    "                model = Fourier_PINN(layer,non_negative=True, activation= activation, use_rff=True, rff_num_features=64, rff_sigma=5.0).to(device)\n",
    "                optimizer = optim.Adam(model.parameters(), lr=start_lr)  \n",
    "                scheduler = optim.lr_scheduler.CosineAnnealingLR(optimizer, T_max=num_epochs * sub_spochs, eta_min=end_lr)\n",
    "            elif mode == 'AF_PINN':\n",
    "                model = AF_PINN(layer, non_negative=True,activation = activation, use_rff=True, rff_num_features=64, rff_sigma=5.0).to(device)\n",
    "                optimizer = optim.Adam(model.parameters(), lr=start_lr)  \n",
    "                scheduler = optim.lr_scheduler.CosineAnnealingLR(optimizer, T_max=num_epochs * sub_spochs, eta_min=end_lr)\n",
    "            else:\n",
    "                print(\"Man! What can I say! Wrong Mode!!!\")\n",
    "                break            \n",
    "            points_types = ['domain', 'left_bc', 'right_bc', 'initial']\n",
    "\n",
    "            coords_pde, coords_bc1, coords_bc2, coords_ic = [\n",
    "                generator.grid_generator(2500 if pt in ['left_bc', 'right_bc'] else 10201, points_type=pt, nondim= True) \n",
    "                for pt in points_types\n",
    "            ]\n",
    "\n",
    "            for idx in range(sub_spochs):\n",
    "                print(f'Epoch: {idx+1}/{sub_spochs}----------------')\n",
    "                model.train()\n",
    "                \n",
    "                pbar = tqdm(range(num_epochs))\n",
    "                for epoch in pbar:\n",
    "                    current_lr = optimizer.param_groups[0]['lr'] \n",
    "                    def closure() -> Tensor:\n",
    "                        global loss_pde, D_star, loss_bc1, loss_bc2, loss_ic1, loss_ic2\n",
    "                        optimizer.zero_grad()\n",
    "\n",
    "                        # 计算损失时使用batch数据\n",
    "                        loss_eq1, loss_eq2, loss_eq3, loss_eq4, loss_eq5, loss_eq6, D_star = compute_pde(model, coords_pde)\n",
    "                        loss_pde = loss_eq1 + loss_eq2 + loss_eq3 + loss_eq4 + loss_eq5 + loss_eq6\n",
    "                        loss_bc1 = compute_bc(model, coords_bc1)\n",
    "                        loss_bc2 = compute_bc(model, coords_bc2)\n",
    "                        loss_ic1, loss_ic2 = compute_ic(model, coords_ic)\n",
    "\n",
    "                        #Give a weight to initial loss term\n",
    "                        loss = weight[0]*loss_pde +  weight[1]*loss_bc1 +  weight[2]*loss_bc2 +  weight[3]*loss_ic1 +  weight[4]*loss_ic2 \n",
    "\n",
    "                        loss.backward()\n",
    "                        torch.nn.utils.clip_grad_norm_(model.parameters(), max_norm=1.0, norm_type= 2)\n",
    "                        return loss\n",
    "\n",
    "                    optimizer.step(closure)\n",
    "                    \n",
    "                    # 如果使用scheduler（只在Adam阶段）\n",
    "                    if scheduler is not None:\n",
    "                        scheduler.step()\n",
    "                    \n",
    "                    loss_total = weight[0]*loss_pde +  weight[1]*loss_bc1 +  weight[2]*loss_bc2 +  weight[3]*loss_ic1 +  weight[4]*loss_ic2 \n",
    "\n",
    "                    loss_log_total.append(loss_total.item())\n",
    "                    loss_log_pde.append(loss_pde.item())\n",
    "                    loss_log_bc.append(loss_bc1.item() + loss_bc2.item())\n",
    "                    loss_log_ic.append(loss_ic1.item() + loss_ic2.item())\n",
    "                    \n",
    "                    if epoch % 10 == 0:\n",
    "                        pbar.set_postfix({\n",
    "                            'Loss': '{0:.3e}'.format(loss_total),\n",
    "                            'PDE': '{0:.3e}'.format(weight[0]*loss_pde.item()),\n",
    "                            'BC': '{0:.3e},{1:.3e}'.format(weight[1]*loss_bc1.item(),weight[2]*loss_bc2.item()),\n",
    "                            'IC': '{0:.3e},{1:.3e}'.format(weight[3]*loss_ic1.item(),weight[4]*loss_ic2.item()),\n",
    "                            'D*': '{0:.2e},{1:.2e}'.format(torch.max(D_star),torch.min(D_star)),\n",
    "                            'lr': '{0:.2e}'.format(current_lr),\n",
    "                        })        \n",
    "                    # # 将四个张量放在一个列表中并随机打乱\n",
    "                    shuffled_tensors = [tensor[torch.randperm(tensor.size(0))] for tensor in [coords_pde, coords_bc1, coords_bc2, coords_ic]]\n",
    "\n",
    "                    # 解包到四个变量中\n",
    "                    coords_pde, coords_bc1, coords_bc2, coords_ic = shuffled_tensors\n",
    "                \n",
    "                    if torch.isnan(loss_total):\n",
    "                        print('Loss is Nan, please check your model parameters')\n",
    "                        break\n",
    "                \n",
    "                true_path = './FDM/range[0,1]/'\n",
    "                file_names = ['u1_output.csv','u2_output.csv','u3_output.csv','u4_output.csv','u5_output.csv','u6_output.csv']\n",
    "                true_data = [pd.read_csv(true_path + file_name,header=None) for file_name in file_names]\n",
    "\n",
    "                model.eval()\n",
    "                val_data = generator.grid_generator(N=10201, points_type= 'domain', nondim= True)\n",
    "                result = model(val_data).data.cpu().numpy()\n",
    "                relative_error(result,true_data)\n",
    "\n",
    "                ##模型储存\n",
    "                save_path = f'./Results/{mode}_[{neuron}]x{hidden}/model_save/'\n",
    "                os.makedirs(save_path, exist_ok=True)  # 确保保存路径存在\n",
    "                # 指定模型文件名\n",
    "                model_file = os.path.join(save_path, f'{mode}_[{neuron}]x{hidden}_{(idx+1)*num_epochs}.pth')\n",
    "                # 保存模型\n",
    "                torch.save(model.state_dict(), model_file)\n",
    "                print(f\"模型已保存至 {model_file}\")\n",
    "            \n",
    "            # 绘制结果\n",
    "            plot_loss_curve(f'{mode}_[{neuron}]x{hidden}',loss_log_total,loss_log_pde, loss_log_bc, loss_log_ic)\n",
    "            \n",
    "            plot_relative_concen(f'{mode}_[{neuron}]x{hidden}',result,data_save=True)\n",
    "            \n",
    "            plot_3d_concen(f'{mode}_[{neuron}]x{hidden}', result, true_data)\n",
    "\n",
    "            Training_time = timeit.default_timer() - star_time\n",
    "            print(f'Training time: {Training_time:.2f}s-------------------------')\n"
   ]
  },
  {
   "cell_type": "code",
   "execution_count": 4,
   "metadata": {},
   "outputs": [],
   "source": [
    "# from torch import Tensor\n",
    "\n",
    "\n",
    "# hiddens = [6, 5, 4, 3]  ##[3,4] already finished\n",
    "# neurons = [128,96,64]\n",
    "\n",
    "# activation = torch.nn.functional.silu\n",
    "\n",
    "# start_lr = 1e-3\n",
    "# end_lr = 1e-8\n",
    "\n",
    "# weight = [1, 1, 1, 1, 1, 1]\n",
    "# for hidden in hiddens:\n",
    "#     for neuron in neurons:\n",
    "#         for mode in ['Fourier_PINN']:  ##['PINN', 'IA_PINN', 'Fourier_PINN', 'AF_PINN']\n",
    "#             layer = [2] + [neuron]*hidden + [6]\n",
    "            \n",
    "#             star_time = timeit.default_timer()\n",
    "#             num_epochs = 5000\n",
    "#             sub_spochs = 10\n",
    "\n",
    "#             loss_log_total,loss_log_pde, loss_log_bc, loss_log_ic = [],[],[],[]\n",
    "#             torch.cuda.empty_cache()\n",
    "#             print(f'{mode}_[{neuron}]x{hidden}:')\n",
    "            \n",
    "#             if mode == 'PINN':\n",
    "#                 model = PINN(layer,activation,non_negative=True).to(device)\n",
    "#                 optimizer = optim.Adam(model.parameters(), lr=start_lr)  \n",
    "#                 scheduler = optim.lr_scheduler.CosineAnnealingLR(optimizer, T_max=num_epochs * sub_spochs, eta_min=end_lr)\n",
    "#             elif mode == 'IA_PINN':\n",
    "#                 model = Attention_PINN(layer,activation,non_negative=True).to(device)\n",
    "#                 optimizer = optim.Adam(model.parameters(), lr=start_lr)  \n",
    "#                 scheduler = optim.lr_scheduler.CosineAnnealingLR(optimizer, T_max=num_epochs * sub_spochs, eta_min=end_lr)\n",
    "#             elif mode == 'Fourier_PINN':\n",
    "#                 model = Fourier_PINN(layer,non_negative=True, activation= activation, use_rff=True, rff_num_features=64, rff_sigma=5.0).to(device)\n",
    "#                 optimizer = optim.Adam(model.parameters(), lr=start_lr)  \n",
    "#                 scheduler = optim.lr_scheduler.CosineAnnealingLR(optimizer, T_max=num_epochs * sub_spochs, eta_min=end_lr)\n",
    "#             elif mode == 'AF_PINN':\n",
    "#                 model = AF_PINN(layer, non_negative=True,activation = activation, use_rff=True, rff_num_features=64, rff_sigma=5.0).to(device)\n",
    "#                 optimizer = optim.Adam(model.parameters(), lr=start_lr)  \n",
    "#                 scheduler = optim.lr_scheduler.CosineAnnealingLR(optimizer, T_max=num_epochs * sub_spochs, eta_min=end_lr)\n",
    "#             else:\n",
    "#                 print(\"Man! What can I say! Wrong Mode!!!\")\n",
    "#                 break            \n",
    "#             points_types = ['domain', 'left_bc', 'right_bc', 'initial']\n",
    "\n",
    "#             coords_pde, coords_bc1, coords_bc2, coords_ic = [\n",
    "#                 generator.grid_generator(2500 if pt in ['left_bc', 'right_bc'] else 10201, points_type=pt, nondim= True) \n",
    "#                 for pt in points_types\n",
    "#             ]\n",
    "\n",
    "#             for idx in range(sub_spochs):\n",
    "#                 print(f'Epoch: {idx+1}/{sub_spochs}----------------')\n",
    "#                 model.train()\n",
    "                \n",
    "#                 pbar = tqdm(range(num_epochs))\n",
    "#                 for epoch in pbar:\n",
    "#                     current_lr = optimizer.param_groups[0]['lr'] \n",
    "#                     def closure() -> Tensor:\n",
    "#                         global loss_pde, D_star, loss_bc1, loss_bc2, loss_ic1, loss_ic2\n",
    "#                         optimizer.zero_grad()\n",
    "\n",
    "#                         # 计算损失时使用batch数据\n",
    "#                         loss_eq1, loss_eq2, loss_eq3, loss_eq4, loss_eq5, loss_eq6, D_star = compute_pde(model, coords_pde)\n",
    "#                         loss_pde = loss_eq1 + loss_eq2 + loss_eq3 + loss_eq4 + loss_eq5 + loss_eq6\n",
    "#                         loss_bc1 = compute_bc(model, coords_bc1)\n",
    "#                         loss_bc2 = compute_bc(model, coords_bc2)\n",
    "#                         loss_ic1, loss_ic2 = compute_ic(model, coords_ic)\n",
    "\n",
    "#                         #Give a weight to initial loss term\n",
    "#                         loss = weight[0]*loss_pde +  weight[1]*loss_bc1 +  weight[2]*loss_bc2 +  weight[3]*loss_ic1 +  weight[4]*loss_ic2 \n",
    "\n",
    "#                         loss.backward()\n",
    "#                         torch.nn.utils.clip_grad_norm_(model.parameters(), max_norm=1.0, norm_type= 2)\n",
    "#                         return loss\n",
    "\n",
    "#                     optimizer.step(closure)\n",
    "                    \n",
    "#                     # 如果使用scheduler（只在Adam阶段）\n",
    "#                     if scheduler is not None:\n",
    "#                         scheduler.step()\n",
    "                    \n",
    "#                     loss_total = weight[0]*loss_pde +  weight[1]*loss_bc1 +  weight[2]*loss_bc2 +  weight[3]*loss_ic1 +  weight[4]*loss_ic2 \n",
    "\n",
    "#                     loss_log_total.append(loss_total.item())\n",
    "#                     loss_log_pde.append(loss_pde.item())\n",
    "#                     loss_log_bc.append(loss_bc1.item() + loss_bc2.item())\n",
    "#                     loss_log_ic.append(loss_ic1.item() + loss_ic2.item())\n",
    "                    \n",
    "#                     if epoch % 10 == 0:\n",
    "#                         pbar.set_postfix({\n",
    "#                             'Loss': '{0:.3e}'.format(loss_total),\n",
    "#                             'PDE': '{0:.3e}'.format(weight[0]*loss_pde.item()),\n",
    "#                             'BC': '{0:.3e},{1:.3e}'.format(weight[1]*loss_bc1.item(),weight[2]*loss_bc2.item()),\n",
    "#                             'IC': '{0:.3e},{1:.3e}'.format(weight[3]*loss_ic1.item(),weight[4]*loss_ic2.item()),\n",
    "#                             'D*': '{0:.2e},{1:.2e}'.format(torch.max(D_star),torch.min(D_star)),\n",
    "#                             'lr': '{0:.2e}'.format(current_lr),\n",
    "#                         })        \n",
    "#                     # # 将四个张量放在一个列表中并随机打乱\n",
    "#                     shuffled_tensors = [tensor[torch.randperm(tensor.size(0))] for tensor in [coords_pde, coords_bc1, coords_bc2, coords_ic]]\n",
    "\n",
    "#                     # 解包到四个变量中\n",
    "#                     coords_pde, coords_bc1, coords_bc2, coords_ic = shuffled_tensors\n",
    "                \n",
    "#                     if torch.isnan(loss_total):\n",
    "#                         print('Loss is Nan, please check your model parameters')\n",
    "#                         break\n",
    "                \n",
    "#                 true_path = './FDM/range[0,1]/'\n",
    "#                 file_names = ['u1_output.csv','u2_output.csv','u3_output.csv','u4_output.csv','u5_output.csv','u6_output.csv']\n",
    "#                 true_data = [pd.read_csv(true_path + file_name,header=None) for file_name in file_names]\n",
    "\n",
    "#                 model.eval()\n",
    "#                 val_data = generator.grid_generator(N=10201, points_type= 'domain', nondim= True)\n",
    "#                 result = model(val_data).data.cpu().numpy()\n",
    "#                 relative_error(result,true_data)\n",
    "\n",
    "#                 ##模型储存\n",
    "#                 save_path = f'./Results/{mode}_[{neuron}]x{hidden}/model_save/'\n",
    "#                 os.makedirs(save_path, exist_ok=True)  # 确保保存路径存在\n",
    "#                 # 指定模型文件名\n",
    "#                 model_file = os.path.join(save_path, f'{mode}_[{neuron}]x{hidden}_{(idx+1)*num_epochs}.pth')\n",
    "#                 # 保存模型\n",
    "#                 torch.save(model.state_dict(), model_file)\n",
    "#                 print(f\"模型已保存至 {model_file}\")\n",
    "            \n",
    "#             # 绘制结果\n",
    "#             plot_loss_curve(f'{mode}_[{neuron}]x{hidden}',loss_log_total,loss_log_pde, loss_log_bc, loss_log_ic)\n",
    "            \n",
    "#             plot_relative_concen(f'{mode}_[{neuron}]x{hidden}',result,data_save=True)\n",
    "            \n",
    "#             plot_3d_concen(f'{mode}_[{neuron}]x{hidden}', result, true_data)\n",
    "\n",
    "#             Training_time = timeit.default_timer() - star_time\n",
    "#             print(f'Training time: {Training_time:.2f}s-------------------------')\n"
   ]
  }
 ],
 "metadata": {
  "kernelspec": {
   "display_name": "pytorch",
   "language": "python",
   "name": "python3"
  },
  "language_info": {
   "codemirror_mode": {
    "name": "ipython",
    "version": 3
   },
   "file_extension": ".py",
   "mimetype": "text/x-python",
   "name": "python",
   "nbconvert_exporter": "python",
   "pygments_lexer": "ipython3",
   "version": "3.9.7"
  }
 },
 "nbformat": 4,
 "nbformat_minor": 2
}
