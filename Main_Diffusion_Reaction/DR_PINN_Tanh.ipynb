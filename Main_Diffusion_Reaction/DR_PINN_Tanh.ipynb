{
 "cells": [
  {
   "cell_type": "code",
   "execution_count": 1,
   "metadata": {},
   "outputs": [
    {
     "name": "stdout",
     "output_type": "stream",
     "text": [
      "Using device: cuda:0\n"
     ]
    }
   ],
   "source": [
    "import sys\n",
    "import os\n",
    "import timeit\n",
    "\n",
    "current_dir = os.getcwd()\n",
    "\n",
    "parent_dir = os.path.dirname(current_dir)\n",
    "sys.path.append(parent_dir)\n",
    "\n",
    "import torch\n",
    "import torch.nn as nn\n",
    "import torch.optim as optim\n",
    "import numpy as np\n",
    "from tqdm import *\n",
    "import matplotlib.pyplot as plt\n",
    "from matplotlib import cm\n",
    "from mpl_toolkits.mplot3d import Axes3D\n",
    "from matplotlib import gridspec\n",
    "import random\n",
    "\n",
    "from Networks.DNN import PINN\n",
    "from Networks.IA_DNN import Attention_PINN\n",
    "from Networks.Fourier_DNN import Fourier_PINN\n",
    "from Networks.AF_PINN import AF_PINN\n",
    "from Networks.Efficient_KAN import KAN\n",
    "from Networks.Cheby_KAN import ChebyKAN\n",
    "from DataGenerator import DataGenerator\n",
    "\n",
    "import pandas as pd\n",
    "\n",
    "from torch.utils.data import TensorDataset, DataLoader\n",
    "\n",
    "import time\n",
    "from datetime import datetime\n",
    "\n",
    "device = torch.device(\"cuda:0\" if torch.cuda.is_available() else \"cpu\")\n",
    "print(\"Using device:\", device)\n",
    "def seed_torch(seed):\n",
    "    random.seed(seed)\n",
    "    np.random.seed(seed)\n",
    "    torch.manual_seed(seed)\n",
    "    torch.cuda.manual_seed(seed)\n",
    "seed_torch(42)"
   ]
  },
  {
   "cell_type": "code",
   "execution_count": 2,
   "metadata": {},
   "outputs": [],
   "source": [
    "L = 600.0\n",
    "h = 100.0\n",
    "anneal_time= 60\n",
    "D_A = 360.0  #6nm^2/s 360nm^2/min\n",
    "k11,k12,k21 = 3.6e-3,3.6e-3,0.0\n",
    "N_SA,N_SB,N_SC,N_SAB,N_SABB,N_SAAB = 90.0,48.0,90.0,90.0,90.0,90.0\n",
    "\n",
    "geom = [0,L]\n",
    "time = [0,anneal_time]\n",
    "\n",
    "##How I genertate data\n",
    "generator = DataGenerator(geom,time)\n",
    "\n",
    "from pde_system import compute_pde, compute_bc, compute_ic,relative_error\n",
    "from graphics import plot_loss_curve,plot_relative_concen,plot_3d_concen\n",
    "# from Utilitiy.residual_adaptive_resample import select_high_loss_points\n"
   ]
  },
  {
   "cell_type": "code",
   "execution_count": 3,
   "metadata": {},
   "outputs": [
    {
     "name": "stdout",
     "output_type": "stream",
     "text": [
      "PINN_[128]x6:\n",
      "Epoch: 1/10----------------\n"
     ]
    },
    {
     "name": "stderr",
     "output_type": "stream",
     "text": [
      "100%|██████████| 5000/5000 [08:53<00:00,  9.38it/s, Loss=2.079e-02, PDE=9.603e-03, BC=1.557e-03,1.586e-04, IC=8.843e-03,6.271e-04, D*=5.99e-02,3.69e-03, lr=9.76e-04]\n"
     ]
    },
    {
     "name": "stdout",
     "output_type": "stream",
     "text": [
      "R^2 Error: {'Ni': 0.078, 'SiC': 0.031, 'C': 0.096, 'NiSi': 0.292, 'NiSi2': 0.253}\n",
      "Inf Error: {'Ni': 0.079, 'SiC': 0.026, 'C': 0.177, 'NiSi': 0.408, 'NiSi2': 0.368}\n",
      "Mean Error: (0.1500663756299855, 0.21159728215106227)\n",
      "模型已保存至 ./Results/PINN_[128]x6/model_save/PINN_[128]x6_5000.pth\n",
      "Epoch: 2/10----------------\n"
     ]
    },
    {
     "name": "stderr",
     "output_type": "stream",
     "text": [
      "100%|██████████| 5000/5000 [09:10<00:00,  9.08it/s, Loss=1.349e-02, PDE=3.158e-03, BC=4.085e-03,1.019e-04, IC=5.924e-03,2.210e-04, D*=5.99e-02,2.53e-03, lr=9.05e-04]\n"
     ]
    },
    {
     "name": "stdout",
     "output_type": "stream",
     "text": [
      "R^2 Error: {'Ni': 0.078, 'SiC': 0.012, 'C': 0.064, 'NiSi': 0.256, 'NiSi2': 0.267}\n",
      "Inf Error: {'Ni': 0.099, 'SiC': 0.019, 'C': 0.155, 'NiSi': 0.412, 'NiSi2': 0.448}\n",
      "Mean Error: (0.13548376954012128, 0.2266795037103379)\n",
      "模型已保存至 ./Results/PINN_[128]x6/model_save/PINN_[128]x6_10000.pth\n",
      "Epoch: 3/10----------------\n"
     ]
    },
    {
     "name": "stderr",
     "output_type": "stream",
     "text": [
      "100%|██████████| 5000/5000 [08:37<00:00,  9.67it/s, Loss=1.038e-02, PDE=5.215e-03, BC=9.116e-05,9.379e-05, IC=4.899e-03,8.161e-05, D*=5.99e-02,2.12e-03, lr=7.94e-04]\n"
     ]
    },
    {
     "name": "stdout",
     "output_type": "stream",
     "text": [
      "R^2 Error: {'Ni': 0.156, 'SiC': 0.022, 'C': 0.067, 'NiSi': 0.364, 'NiSi2': 0.336}\n",
      "Inf Error: {'Ni': 0.227, 'SiC': 0.021, 'C': 0.163, 'NiSi': 0.548, 'NiSi2': 0.552}\n",
      "Mean Error: (0.18915968228341806, 0.30231875187643054)\n",
      "模型已保存至 ./Results/PINN_[128]x6/model_save/PINN_[128]x6_15000.pth\n",
      "Epoch: 4/10----------------\n"
     ]
    },
    {
     "name": "stderr",
     "output_type": "stream",
     "text": [
      "100%|██████████| 5000/5000 [08:37<00:00,  9.66it/s, Loss=1.896e-02, PDE=1.005e-02, BC=3.324e-05,7.872e-05, IC=8.763e-03,2.837e-05, D*=5.99e-02,1.23e-03, lr=6.55e-04]\n"
     ]
    },
    {
     "name": "stdout",
     "output_type": "stream",
     "text": [
      "R^2 Error: {'Ni': 0.308, 'SiC': 0.022, 'C': 0.083, 'NiSi': 0.363, 'NiSi2': 0.358}\n",
      "Inf Error: {'Ni': 0.39, 'SiC': 0.028, 'C': 0.152, 'NiSi': 0.503, 'NiSi2': 0.582}\n",
      "Mean Error: (0.2268281709318576, 0.3308569801867504)\n",
      "模型已保存至 ./Results/PINN_[128]x6/model_save/PINN_[128]x6_20000.pth\n",
      "Epoch: 5/10----------------\n"
     ]
    },
    {
     "name": "stderr",
     "output_type": "stream",
     "text": [
      "100%|██████████| 5000/5000 [08:38<00:00,  9.65it/s, Loss=1.616e-02, PDE=1.259e-02, BC=1.481e-04,8.131e-05, IC=3.336e-03,5.117e-06, D*=6.00e-02,5.08e-04, lr=5.00e-04]\n"
     ]
    },
    {
     "name": "stdout",
     "output_type": "stream",
     "text": [
      "R^2 Error: {'Ni': 0.457, 'SiC': 0.06, 'C': 0.166, 'NiSi': 0.416, 'NiSi2': 0.345}\n",
      "Inf Error: {'Ni': 0.53, 'SiC': 0.073, 'C': 0.171, 'NiSi': 0.393, 'NiSi2': 0.468}\n",
      "Mean Error: (0.2889405104875234, 0.32706927472112884)\n",
      "模型已保存至 ./Results/PINN_[128]x6/model_save/PINN_[128]x6_25000.pth\n",
      "Epoch: 6/10----------------\n"
     ]
    },
    {
     "name": "stderr",
     "output_type": "stream",
     "text": [
      "100%|██████████| 5000/5000 [08:39<00:00,  9.62it/s, Loss=4.105e-04, PDE=3.326e-04, BC=1.014e-06,3.243e-07, IC=6.832e-05,8.198e-06, D*=6.00e-02,6.74e-04, lr=3.46e-04]\n"
     ]
    },
    {
     "name": "stdout",
     "output_type": "stream",
     "text": [
      "R^2 Error: {'Ni': 0.41, 'SiC': 0.05, 'C': 0.135, 'NiSi': 0.341, 'NiSi2': 0.235}\n",
      "Inf Error: {'Ni': 0.48, 'SiC': 0.063, 'C': 0.138, 'NiSi': 0.345, 'NiSi2': 0.272}\n",
      "Mean Error: (0.23406022415761404, 0.25957127595903184)\n",
      "模型已保存至 ./Results/PINN_[128]x6/model_save/PINN_[128]x6_30000.pth\n",
      "Epoch: 7/10----------------\n"
     ]
    },
    {
     "name": "stderr",
     "output_type": "stream",
     "text": [
      "100%|██████████| 5000/5000 [08:38<00:00,  9.63it/s, Loss=6.012e-03, PDE=1.515e-03, BC=8.668e-06,1.075e-06, IC=4.449e-03,3.828e-05, D*=6.00e-02,1.11e-03, lr=2.06e-04]\n"
     ]
    },
    {
     "name": "stdout",
     "output_type": "stream",
     "text": [
      "R^2 Error: {'Ni': 0.267, 'SiC': 0.016, 'C': 0.054, 'NiSi': 0.241, 'NiSi2': 0.16}\n",
      "Inf Error: {'Ni': 0.343, 'SiC': 0.02, 'C': 0.138, 'NiSi': 0.351, 'NiSi2': 0.249}\n",
      "Mean Error: (0.14750948193861213, 0.2198702619580025)\n",
      "模型已保存至 ./Results/PINN_[128]x6/model_save/PINN_[128]x6_35000.pth\n",
      "Epoch: 8/10----------------\n"
     ]
    },
    {
     "name": "stderr",
     "output_type": "stream",
     "text": [
      "100%|██████████| 5000/5000 [08:39<00:00,  9.63it/s, Loss=2.380e-03, PDE=7.019e-04, BC=2.152e-06,4.050e-07, IC=1.651e-03,2.471e-05, D*=6.00e-02,8.90e-04, lr=9.57e-05]\n"
     ]
    },
    {
     "name": "stdout",
     "output_type": "stream",
     "text": [
      "R^2 Error: {'Ni': 0.294, 'SiC': 0.024, 'C': 0.069, 'NiSi': 0.27, 'NiSi2': 0.151}\n",
      "Inf Error: {'Ni': 0.368, 'SiC': 0.031, 'C': 0.13, 'NiSi': 0.369, 'NiSi2': 0.217}\n",
      "Mean Error: (0.16172354216867452, 0.22299397198814894)\n",
      "模型已保存至 ./Results/PINN_[128]x6/model_save/PINN_[128]x6_40000.pth\n",
      "Epoch: 9/10----------------\n"
     ]
    },
    {
     "name": "stderr",
     "output_type": "stream",
     "text": [
      "100%|██████████| 5000/5000 [08:38<00:00,  9.64it/s, Loss=1.288e-03, PDE=3.494e-04, BC=1.684e-06,2.375e-07, IC=9.141e-04,2.227e-05, D*=6.00e-02,8.33e-04, lr=2.46e-05]\n"
     ]
    },
    {
     "name": "stdout",
     "output_type": "stream",
     "text": [
      "R^2 Error: {'Ni': 0.302, 'SiC': 0.028, 'C': 0.076, 'NiSi': 0.28, 'NiSi2': 0.149}\n",
      "Inf Error: {'Ni': 0.375, 'SiC': 0.036, 'C': 0.13, 'NiSi': 0.375, 'NiSi2': 0.205}\n",
      "Mean Error: (0.16686235026753518, 0.22397665331450162)\n",
      "模型已保存至 ./Results/PINN_[128]x6/model_save/PINN_[128]x6_45000.pth\n",
      "Epoch: 10/10----------------\n"
     ]
    },
    {
     "name": "stderr",
     "output_type": "stream",
     "text": [
      "100%|██████████| 5000/5000 [08:39<00:00,  9.63it/s, Loss=7.297e-04, PDE=1.302e-04, BC=1.440e-06,2.553e-07, IC=5.781e-04,1.977e-05, D*=6.00e-02,8.07e-04, lr=1.01e-08]\n"
     ]
    },
    {
     "name": "stdout",
     "output_type": "stream",
     "text": [
      "R^2 Error: {'Ni': 0.303, 'SiC': 0.029, 'C': 0.077, 'NiSi': 0.279, 'NiSi2': 0.146}\n",
      "Inf Error: {'Ni': 0.375, 'SiC': 0.037, 'C': 0.128, 'NiSi': 0.37, 'NiSi2': 0.199}\n",
      "Mean Error: (0.1665750302658042, 0.22200077486160552)\n",
      "模型已保存至 ./Results/PINN_[128]x6/model_save/PINN_[128]x6_50000.pth\n",
      "Training time: 5250.34s-------------------------\n",
      "PINN_[96]x6:\n",
      "Epoch: 1/10----------------\n"
     ]
    },
    {
     "name": "stderr",
     "output_type": "stream",
     "text": [
      "100%|██████████| 5000/5000 [08:09<00:00, 10.21it/s, Loss=1.582e-02, PDE=6.738e-03, BC=1.902e-04,1.939e-04, IC=8.244e-03,4.493e-04, D*=5.99e-02,3.97e-03, lr=9.76e-04]\n"
     ]
    },
    {
     "name": "stdout",
     "output_type": "stream",
     "text": [
      "R^2 Error: {'Ni': 0.069, 'SiC': 0.028, 'C': 0.133, 'NiSi': 0.242, 'NiSi2': 0.233}\n",
      "Inf Error: {'Ni': 0.078, 'SiC': 0.025, 'C': 0.205, 'NiSi': 0.318, 'NiSi2': 0.261}\n",
      "Mean Error: (0.14099559062999747, 0.17733696284442213)\n",
      "模型已保存至 ./Results/PINN_[96]x6/model_save/PINN_[96]x6_5000.pth\n",
      "Epoch: 2/10----------------\n"
     ]
    },
    {
     "name": "stderr",
     "output_type": "stream",
     "text": [
      "100%|██████████| 5000/5000 [08:11<00:00, 10.17it/s, Loss=1.243e-02, PDE=4.951e-03, BC=3.022e-04,1.125e-04, IC=6.752e-03,3.167e-04, D*=5.99e-02,2.96e-03, lr=9.05e-04]\n"
     ]
    },
    {
     "name": "stdout",
     "output_type": "stream",
     "text": [
      "R^2 Error: {'Ni': 0.058, 'SiC': 0.018, 'C': 0.083, 'NiSi': 0.19, 'NiSi2': 0.164}\n",
      "Inf Error: {'Ni': 0.067, 'SiC': 0.02, 'C': 0.175, 'NiSi': 0.272, 'NiSi2': 0.213}\n",
      "Mean Error: (0.10271062238322767, 0.14931616130604305)\n",
      "模型已保存至 ./Results/PINN_[96]x6/model_save/PINN_[96]x6_10000.pth\n",
      "Epoch: 3/10----------------\n"
     ]
    },
    {
     "name": "stderr",
     "output_type": "stream",
     "text": [
      "100%|██████████| 5000/5000 [07:56<00:00, 10.49it/s, Loss=8.998e-03, PDE=4.028e-03, BC=6.399e-05,2.168e-05, IC=4.680e-03,2.047e-04, D*=5.99e-02,2.39e-03, lr=7.94e-04]\n"
     ]
    },
    {
     "name": "stdout",
     "output_type": "stream",
     "text": [
      "R^2 Error: {'Ni': 0.055, 'SiC': 0.016, 'C': 0.06, 'NiSi': 0.138, 'NiSi2': 0.137}\n",
      "Inf Error: {'Ni': 0.05, 'SiC': 0.021, 'C': 0.126, 'NiSi': 0.224, 'NiSi2': 0.202}\n",
      "Mean Error: (0.08123925990888996, 0.12476510775087739)\n",
      "模型已保存至 ./Results/PINN_[96]x6/model_save/PINN_[96]x6_15000.pth\n",
      "Epoch: 4/10----------------\n"
     ]
    },
    {
     "name": "stderr",
     "output_type": "stream",
     "text": [
      "100%|██████████| 5000/5000 [08:12<00:00, 10.15it/s, Loss=1.549e-02, PDE=1.209e-02, BC=3.153e-05,9.006e-06, IC=3.259e-03,1.001e-04, D*=5.99e-02,1.97e-03, lr=6.55e-04]\n"
     ]
    },
    {
     "name": "stdout",
     "output_type": "stream",
     "text": [
      "R^2 Error: {'Ni': 0.065, 'SiC': 0.019, 'C': 0.046, 'NiSi': 0.129, 'NiSi2': 0.148}\n",
      "Inf Error: {'Ni': 0.076, 'SiC': 0.022, 'C': 0.108, 'NiSi': 0.178, 'NiSi2': 0.228}\n",
      "Mean Error: (0.0814206259377968, 0.12213716822649864)\n",
      "模型已保存至 ./Results/PINN_[96]x6/model_save/PINN_[96]x6_20000.pth\n",
      "Epoch: 5/10----------------\n"
     ]
    },
    {
     "name": "stderr",
     "output_type": "stream",
     "text": [
      "100%|██████████| 5000/5000 [08:12<00:00, 10.15it/s, Loss=1.764e-03, PDE=9.704e-04, BC=4.797e-05,3.986e-06, IC=6.976e-04,4.421e-05, D*=6.00e-02,9.94e-04, lr=5.00e-04]\n"
     ]
    },
    {
     "name": "stdout",
     "output_type": "stream",
     "text": [
      "R^2 Error: {'Ni': 0.064, 'SiC': 0.01, 'C': 0.044, 'NiSi': 0.09, 'NiSi2': 0.145}\n",
      "Inf Error: {'Ni': 0.101, 'SiC': 0.012, 'C': 0.101, 'NiSi': 0.153, 'NiSi2': 0.238}\n",
      "Mean Error: (0.07053592710150343, 0.12098707547763406)\n",
      "模型已保存至 ./Results/PINN_[96]x6/model_save/PINN_[96]x6_25000.pth\n",
      "Epoch: 6/10----------------\n"
     ]
    },
    {
     "name": "stderr",
     "output_type": "stream",
     "text": [
      "100%|██████████| 5000/5000 [08:11<00:00, 10.17it/s, Loss=2.100e-03, PDE=1.427e-03, BC=3.153e-04,1.705e-06, IC=3.364e-04,2.013e-05, D*=6.00e-02,7.26e-04, lr=3.46e-04]\n"
     ]
    },
    {
     "name": "stdout",
     "output_type": "stream",
     "text": [
      "R^2 Error: {'Ni': 0.076, 'SiC': 0.015, 'C': 0.041, 'NiSi': 0.087, 'NiSi2': 0.128}\n",
      "Inf Error: {'Ni': 0.122, 'SiC': 0.021, 'C': 0.085, 'NiSi': 0.13, 'NiSi2': 0.203}\n",
      "Mean Error: (0.06951587383743876, 0.11244368168196646)\n",
      "模型已保存至 ./Results/PINN_[96]x6/model_save/PINN_[96]x6_30000.pth\n",
      "Epoch: 7/10----------------\n"
     ]
    },
    {
     "name": "stderr",
     "output_type": "stream",
     "text": [
      "100%|██████████| 5000/5000 [08:01<00:00, 10.39it/s, Loss=9.176e-05, PDE=5.964e-05, BC=8.052e-07,1.561e-07, IC=2.008e-05,1.108e-05, D*=6.00e-02,5.72e-04, lr=2.06e-04]\n"
     ]
    },
    {
     "name": "stdout",
     "output_type": "stream",
     "text": [
      "R^2 Error: {'Ni': 0.091, 'SiC': 0.018, 'C': 0.049, 'NiSi': 0.097, 'NiSi2': 0.125}\n",
      "Inf Error: {'Ni': 0.14, 'SiC': 0.025, 'C': 0.085, 'NiSi': 0.127, 'NiSi2': 0.187}\n",
      "Mean Error: (0.07600546887028292, 0.11279956675378988)\n",
      "模型已保存至 ./Results/PINN_[96]x6/model_save/PINN_[96]x6_35000.pth\n",
      "Epoch: 8/10----------------\n"
     ]
    },
    {
     "name": "stderr",
     "output_type": "stream",
     "text": [
      "100%|██████████| 5000/5000 [08:02<00:00, 10.37it/s, Loss=5.270e-05, PDE=3.573e-05, BC=4.993e-07,7.562e-08, IC=9.300e-06,7.101e-06, D*=6.00e-02,4.91e-04, lr=9.57e-05]\n"
     ]
    },
    {
     "name": "stdout",
     "output_type": "stream",
     "text": [
      "R^2 Error: {'Ni': 0.098, 'SiC': 0.02, 'C': 0.055, 'NiSi': 0.101, 'NiSi2': 0.129}\n",
      "Inf Error: {'Ni': 0.147, 'SiC': 0.028, 'C': 0.08, 'NiSi': 0.119, 'NiSi2': 0.187}\n",
      "Mean Error: (0.0805131978116708, 0.11218604728331938)\n",
      "模型已保存至 ./Results/PINN_[96]x6/model_save/PINN_[96]x6_40000.pth\n",
      "Epoch: 9/10----------------\n"
     ]
    },
    {
     "name": "stderr",
     "output_type": "stream",
     "text": [
      "100%|██████████| 5000/5000 [08:00<00:00, 10.42it/s, Loss=3.867e-05, PDE=2.723e-05, BC=3.801e-07,5.516e-08, IC=5.728e-06,5.273e-06, D*=6.00e-02,4.32e-04, lr=2.46e-05]\n"
     ]
    },
    {
     "name": "stdout",
     "output_type": "stream",
     "text": [
      "R^2 Error: {'Ni': 0.101, 'SiC': 0.022, 'C': 0.06, 'NiSi': 0.103, 'NiSi2': 0.134}\n",
      "Inf Error: {'Ni': 0.15, 'SiC': 0.03, 'C': 0.077, 'NiSi': 0.113, 'NiSi2': 0.191}\n",
      "Mean Error: (0.08395987681057761, 0.11228768608748915)\n",
      "模型已保存至 ./Results/PINN_[96]x6/model_save/PINN_[96]x6_45000.pth\n",
      "Epoch: 10/10----------------\n"
     ]
    },
    {
     "name": "stderr",
     "output_type": "stream",
     "text": [
      "100%|██████████| 5000/5000 [07:58<00:00, 10.46it/s, Loss=3.426e-05, PDE=2.467e-05, BC=3.374e-07,4.678e-08, IC=4.563e-06,4.637e-06, D*=6.00e-02,4.04e-04, lr=1.01e-08]\n"
     ]
    },
    {
     "name": "stdout",
     "output_type": "stream",
     "text": [
      "R^2 Error: {'Ni': 0.103, 'SiC': 0.022, 'C': 0.062, 'NiSi': 0.105, 'NiSi2': 0.137}\n",
      "Inf Error: {'Ni': 0.152, 'SiC': 0.03, 'C': 0.076, 'NiSi': 0.111, 'NiSi2': 0.193}\n",
      "Mean Error: (0.08562543067452891, 0.11249212259550798)\n",
      "模型已保存至 ./Results/PINN_[96]x6/model_save/PINN_[96]x6_50000.pth\n",
      "Training time: 4877.49s-------------------------\n",
      "PINN_[64]x6:\n",
      "Epoch: 1/10----------------\n"
     ]
    },
    {
     "name": "stderr",
     "output_type": "stream",
     "text": [
      "100%|██████████| 5000/5000 [07:57<00:00, 10.47it/s, Loss=2.133e-02, PDE=8.445e-03, BC=2.983e-03,4.944e-05, IC=9.079e-03,7.710e-04, D*=5.99e-02,5.31e-03, lr=9.76e-04]\n"
     ]
    },
    {
     "name": "stdout",
     "output_type": "stream",
     "text": [
      "R^2 Error: {'Ni': 0.093, 'SiC': 0.02, 'C': 0.119, 'NiSi': 0.254, 'NiSi2': 0.25}\n",
      "Inf Error: {'Ni': 0.079, 'SiC': 0.027, 'C': 0.224, 'NiSi': 0.357, 'NiSi2': 0.348}\n",
      "Mean Error: (0.14745348148349172, 0.20723182927220446)\n",
      "模型已保存至 ./Results/PINN_[64]x6/model_save/PINN_[64]x6_5000.pth\n",
      "Epoch: 2/10----------------\n"
     ]
    },
    {
     "name": "stderr",
     "output_type": "stream",
     "text": [
      "100%|██████████| 5000/5000 [08:08<00:00, 10.23it/s, Loss=1.795e-02, PDE=5.614e-03, BC=6.218e-03,2.211e-05, IC=5.583e-03,5.157e-04, D*=5.99e-02,4.52e-03, lr=9.05e-04]\n"
     ]
    },
    {
     "name": "stdout",
     "output_type": "stream",
     "text": [
      "R^2 Error: {'Ni': 0.07, 'SiC': 0.017, 'C': 0.084, 'NiSi': 0.197, 'NiSi2': 0.178}\n",
      "Inf Error: {'Ni': 0.068, 'SiC': 0.02, 'C': 0.176, 'NiSi': 0.301, 'NiSi2': 0.26}\n",
      "Mean Error: (0.10926522236633156, 0.16528735788501087)\n",
      "模型已保存至 ./Results/PINN_[64]x6/model_save/PINN_[64]x6_10000.pth\n",
      "Epoch: 3/10----------------\n"
     ]
    },
    {
     "name": "stderr",
     "output_type": "stream",
     "text": [
      "100%|██████████| 5000/5000 [08:10<00:00, 10.20it/s, Loss=2.059e-02, PDE=3.786e-03, BC=1.033e-02,7.798e-06, IC=5.974e-03,4.965e-04, D*=6.00e-02,4.01e-03, lr=7.94e-04]\n"
     ]
    },
    {
     "name": "stdout",
     "output_type": "stream",
     "text": [
      "R^2 Error: {'Ni': 0.069, 'SiC': 0.016, 'C': 0.08, 'NiSi': 0.2, 'NiSi2': 0.2}\n",
      "Inf Error: {'Ni': 0.074, 'SiC': 0.017, 'C': 0.172, 'NiSi': 0.295, 'NiSi2': 0.308}\n",
      "Mean Error: (0.11273933609000535, 0.17306153159869553)\n",
      "模型已保存至 ./Results/PINN_[64]x6/model_save/PINN_[64]x6_15000.pth\n",
      "Epoch: 4/10----------------\n"
     ]
    },
    {
     "name": "stderr",
     "output_type": "stream",
     "text": [
      "100%|██████████| 5000/5000 [07:59<00:00, 10.43it/s, Loss=3.708e-02, PDE=3.308e-02, BC=9.257e-04,3.054e-06, IC=2.722e-03,3.533e-04, D*=6.00e-02,3.55e-03, lr=6.55e-04]\n"
     ]
    },
    {
     "name": "stdout",
     "output_type": "stream",
     "text": [
      "R^2 Error: {'Ni': 0.062, 'SiC': 0.012, 'C': 0.075, 'NiSi': 0.177, 'NiSi2': 0.163}\n",
      "Inf Error: {'Ni': 0.06, 'SiC': 0.017, 'C': 0.151, 'NiSi': 0.268, 'NiSi2': 0.263}\n",
      "Mean Error: (0.09801980798190116, 0.15171806725694878)\n",
      "模型已保存至 ./Results/PINN_[64]x6/model_save/PINN_[64]x6_20000.pth\n",
      "Epoch: 5/10----------------\n"
     ]
    },
    {
     "name": "stderr",
     "output_type": "stream",
     "text": [
      "100%|██████████| 5000/5000 [07:58<00:00, 10.46it/s, Loss=6.785e-03, PDE=2.366e-03, BC=2.654e-04,1.226e-05, IC=3.771e-03,3.708e-04, D*=6.00e-02,3.03e-03, lr=5.00e-04]\n"
     ]
    },
    {
     "name": "stdout",
     "output_type": "stream",
     "text": [
      "R^2 Error: {'Ni': 0.054, 'SiC': 0.008, 'C': 0.063, 'NiSi': 0.164, 'NiSi2': 0.172}\n",
      "Inf Error: {'Ni': 0.067, 'SiC': 0.01, 'C': 0.147, 'NiSi': 0.256, 'NiSi2': 0.3}\n",
      "Mean Error: (0.09217004681123273, 0.15587960516833932)\n",
      "模型已保存至 ./Results/PINN_[64]x6/model_save/PINN_[64]x6_25000.pth\n",
      "Epoch: 6/10----------------\n"
     ]
    },
    {
     "name": "stderr",
     "output_type": "stream",
     "text": [
      "100%|██████████| 5000/5000 [08:00<00:00, 10.41it/s, Loss=3.299e-03, PDE=1.134e-03, BC=1.396e-05,2.221e-06, IC=1.941e-03,2.087e-04, D*=6.00e-02,2.68e-03, lr=3.46e-04]\n"
     ]
    },
    {
     "name": "stdout",
     "output_type": "stream",
     "text": [
      "R^2 Error: {'Ni': 0.045, 'SiC': 0.01, 'C': 0.048, 'NiSi': 0.137, 'NiSi2': 0.12}\n",
      "Inf Error: {'Ni': 0.049, 'SiC': 0.011, 'C': 0.112, 'NiSi': 0.219, 'NiSi2': 0.214}\n",
      "Mean Error: (0.07180796269415238, 0.12099066874022275)\n",
      "模型已保存至 ./Results/PINN_[64]x6/model_save/PINN_[64]x6_30000.pth\n",
      "Epoch: 7/10----------------\n"
     ]
    },
    {
     "name": "stderr",
     "output_type": "stream",
     "text": [
      "100%|██████████| 5000/5000 [08:00<00:00, 10.40it/s, Loss=2.977e-03, PDE=1.312e-03, BC=2.735e-05,9.734e-06, IC=1.451e-03,1.774e-04, D*=6.00e-02,2.46e-03, lr=2.06e-04]\n"
     ]
    },
    {
     "name": "stdout",
     "output_type": "stream",
     "text": [
      "R^2 Error: {'Ni': 0.041, 'SiC': 0.007, 'C': 0.044, 'NiSi': 0.133, 'NiSi2': 0.121}\n",
      "Inf Error: {'Ni': 0.048, 'SiC': 0.008, 'C': 0.11, 'NiSi': 0.209, 'NiSi2': 0.214}\n",
      "Mean Error: (0.06920215023870846, 0.11785480908798496)\n",
      "模型已保存至 ./Results/PINN_[64]x6/model_save/PINN_[64]x6_35000.pth\n",
      "Epoch: 8/10----------------\n"
     ]
    },
    {
     "name": "stderr",
     "output_type": "stream",
     "text": [
      "100%|██████████| 5000/5000 [08:10<00:00, 10.19it/s, Loss=1.635e-03, PDE=4.617e-04, BC=4.462e-06,4.760e-06, IC=1.018e-03,1.466e-04, D*=6.00e-02,2.32e-03, lr=9.57e-05]\n"
     ]
    },
    {
     "name": "stdout",
     "output_type": "stream",
     "text": [
      "R^2 Error: {'Ni': 0.039, 'SiC': 0.008, 'C': 0.041, 'NiSi': 0.121, 'NiSi2': 0.11}\n",
      "Inf Error: {'Ni': 0.05, 'SiC': 0.011, 'C': 0.107, 'NiSi': 0.194, 'NiSi2': 0.193}\n",
      "Mean Error: (0.06375286564120373, 0.11094078859794328)\n",
      "模型已保存至 ./Results/PINN_[64]x6/model_save/PINN_[64]x6_40000.pth\n",
      "Epoch: 9/10----------------\n"
     ]
    },
    {
     "name": "stderr",
     "output_type": "stream",
     "text": [
      "100%|██████████| 5000/5000 [08:12<00:00, 10.16it/s, Loss=9.942e-04, PDE=2.473e-04, BC=3.843e-06,1.161e-06, IC=6.166e-04,1.254e-04, D*=6.00e-02,2.16e-03, lr=2.46e-05]\n"
     ]
    },
    {
     "name": "stdout",
     "output_type": "stream",
     "text": [
      "R^2 Error: {'Ni': 0.037, 'SiC': 0.009, 'C': 0.041, 'NiSi': 0.115, 'NiSi2': 0.108}\n",
      "Inf Error: {'Ni': 0.052, 'SiC': 0.013, 'C': 0.107, 'NiSi': 0.184, 'NiSi2': 0.184}\n",
      "Mean Error: (0.06215999192362361, 0.10792988440721307)\n",
      "模型已保存至 ./Results/PINN_[64]x6/model_save/PINN_[64]x6_45000.pth\n",
      "Epoch: 10/10----------------\n"
     ]
    },
    {
     "name": "stderr",
     "output_type": "stream",
     "text": [
      "100%|██████████| 5000/5000 [08:11<00:00, 10.18it/s, Loss=7.577e-04, PDE=2.340e-04, BC=3.882e-06,1.248e-06, IC=3.997e-04,1.189e-04, D*=6.00e-02,2.09e-03, lr=1.01e-08]\n"
     ]
    },
    {
     "name": "stdout",
     "output_type": "stream",
     "text": [
      "R^2 Error: {'Ni': 0.037, 'SiC': 0.01, 'C': 0.042, 'NiSi': 0.114, 'NiSi2': 0.106}\n",
      "Inf Error: {'Ni': 0.053, 'SiC': 0.013, 'C': 0.108, 'NiSi': 0.181, 'NiSi2': 0.179}\n",
      "Mean Error: (0.061728651613632377, 0.10693333653460098)\n",
      "模型已保存至 ./Results/PINN_[64]x6/model_save/PINN_[64]x6_50000.pth\n",
      "Training time: 4869.44s-------------------------\n",
      "PINN_[128]x5:\n",
      "Epoch: 1/10----------------\n"
     ]
    },
    {
     "name": "stderr",
     "output_type": "stream",
     "text": [
      "100%|██████████| 5000/5000 [07:36<00:00, 10.95it/s, Loss=1.023e-02, PDE=2.510e-03, BC=8.924e-05,3.568e-05, IC=7.158e-03,4.362e-04, D*=5.99e-02,4.06e-03, lr=9.76e-04]\n"
     ]
    },
    {
     "name": "stdout",
     "output_type": "stream",
     "text": [
      "R^2 Error: {'Ni': 0.072, 'SiC': 0.031, 'C': 0.085, 'NiSi': 0.184, 'NiSi2': 0.202}\n",
      "Inf Error: {'Ni': 0.068, 'SiC': 0.028, 'C': 0.139, 'NiSi': 0.276, 'NiSi2': 0.269}\n",
      "Mean Error: (0.11468310806334252, 0.15589756117206527)\n",
      "模型已保存至 ./Results/PINN_[128]x5/model_save/PINN_[128]x5_5000.pth\n",
      "Epoch: 2/10----------------\n"
     ]
    },
    {
     "name": "stderr",
     "output_type": "stream",
     "text": [
      "100%|██████████| 5000/5000 [07:38<00:00, 10.89it/s, Loss=1.024e-02, PDE=4.717e-03, BC=1.791e-04,5.960e-06, IC=5.199e-03,1.380e-04, D*=5.99e-02,2.84e-03, lr=9.05e-04]\n"
     ]
    },
    {
     "name": "stdout",
     "output_type": "stream",
     "text": [
      "R^2 Error: {'Ni': 0.074, 'SiC': 0.012, 'C': 0.065, 'NiSi': 0.219, 'NiSi2': 0.178}\n",
      "Inf Error: {'Ni': 0.101, 'SiC': 0.015, 'C': 0.121, 'NiSi': 0.335, 'NiSi2': 0.292}\n",
      "Mean Error: (0.10935731064421408, 0.17276086288812076)\n",
      "模型已保存至 ./Results/PINN_[128]x5/model_save/PINN_[128]x5_10000.pth\n",
      "Epoch: 3/10----------------\n"
     ]
    },
    {
     "name": "stderr",
     "output_type": "stream",
     "text": [
      "100%|██████████| 5000/5000 [07:38<00:00, 10.89it/s, Loss=2.401e-02, PDE=1.872e-02, BC=8.656e-05,1.321e-04, IC=4.997e-03,7.493e-05, D*=5.99e-02,2.08e-03, lr=7.94e-04]\n"
     ]
    },
    {
     "name": "stdout",
     "output_type": "stream",
     "text": [
      "R^2 Error: {'Ni': 0.135, 'SiC': 0.016, 'C': 0.071, 'NiSi': 0.262, 'NiSi2': 0.227}\n",
      "Inf Error: {'Ni': 0.201, 'SiC': 0.018, 'C': 0.136, 'NiSi': 0.391, 'NiSi2': 0.394}\n",
      "Mean Error: (0.14206667024974168, 0.22807850208814084)\n",
      "模型已保存至 ./Results/PINN_[128]x5/model_save/PINN_[128]x5_15000.pth\n",
      "Epoch: 4/10----------------\n"
     ]
    },
    {
     "name": "stderr",
     "output_type": "stream",
     "text": [
      "100%|██████████| 5000/5000 [07:26<00:00, 11.19it/s, Loss=1.216e-02, PDE=6.993e-03, BC=1.161e-04,2.636e-05, IC=4.982e-03,4.657e-05, D*=5.99e-02,1.57e-03, lr=6.55e-04]\n"
     ]
    },
    {
     "name": "stdout",
     "output_type": "stream",
     "text": [
      "R^2 Error: {'Ni': 0.221, 'SiC': 0.015, 'C': 0.06, 'NiSi': 0.268, 'NiSi2': 0.24}\n",
      "Inf Error: {'Ni': 0.296, 'SiC': 0.02, 'C': 0.101, 'NiSi': 0.401, 'NiSi2': 0.413}\n",
      "Mean Error: (0.16088671247822364, 0.24612764857187322)\n",
      "模型已保存至 ./Results/PINN_[128]x5/model_save/PINN_[128]x5_20000.pth\n",
      "Epoch: 5/10----------------\n"
     ]
    },
    {
     "name": "stderr",
     "output_type": "stream",
     "text": [
      "100%|██████████| 5000/5000 [07:31<00:00, 11.09it/s, Loss=7.174e-03, PDE=4.333e-03, BC=3.166e-05,9.164e-06, IC=2.779e-03,2.167e-05, D*=6.00e-02,1.04e-03, lr=5.00e-04]\n"
     ]
    },
    {
     "name": "stdout",
     "output_type": "stream",
     "text": [
      "R^2 Error: {'Ni': 0.306, 'SiC': 0.025, 'C': 0.087, 'NiSi': 0.272, 'NiSi2': 0.223}\n",
      "Inf Error: {'Ni': 0.379, 'SiC': 0.032, 'C': 0.098, 'NiSi': 0.355, 'NiSi2': 0.362}\n",
      "Mean Error: (0.18261250047630956, 0.24558201307456082)\n",
      "模型已保存至 ./Results/PINN_[128]x5/model_save/PINN_[128]x5_25000.pth\n",
      "Epoch: 6/10----------------\n"
     ]
    },
    {
     "name": "stderr",
     "output_type": "stream",
     "text": [
      "100%|██████████| 5000/5000 [07:32<00:00, 11.04it/s, Loss=3.584e-03, PDE=2.456e-03, BC=5.457e-06,1.716e-06, IC=1.108e-03,1.214e-05, D*=6.00e-02,7.45e-04, lr=3.46e-04]\n"
     ]
    },
    {
     "name": "stdout",
     "output_type": "stream",
     "text": [
      "R^2 Error: {'Ni': 0.349, 'SiC': 0.035, 'C': 0.114, 'NiSi': 0.292, 'NiSi2': 0.202}\n",
      "Inf Error: {'Ni': 0.42, 'SiC': 0.044, 'C': 0.117, 'NiSi': 0.312, 'NiSi2': 0.294}\n",
      "Mean Error: (0.19821482322309897, 0.23739423814548616)\n",
      "模型已保存至 ./Results/PINN_[128]x5/model_save/PINN_[128]x5_30000.pth\n",
      "Epoch: 7/10----------------\n"
     ]
    },
    {
     "name": "stderr",
     "output_type": "stream",
     "text": [
      "100%|██████████| 5000/5000 [07:33<00:00, 11.03it/s, Loss=2.446e-04, PDE=9.488e-05, BC=2.041e-06,1.951e-07, IC=1.398e-04,7.733e-06, D*=6.00e-02,6.00e-04, lr=2.06e-04]\n"
     ]
    },
    {
     "name": "stdout",
     "output_type": "stream",
     "text": [
      "R^2 Error: {'Ni': 0.374, 'SiC': 0.045, 'C': 0.135, 'NiSi': 0.304, 'NiSi2': 0.223}\n",
      "Inf Error: {'Ni': 0.443, 'SiC': 0.057, 'C': 0.142, 'NiSi': 0.289, 'NiSi2': 0.297}\n",
      "Mean Error: (0.21612865230594136, 0.24553824754812698)\n",
      "模型已保存至 ./Results/PINN_[128]x5/model_save/PINN_[128]x5_35000.pth\n",
      "Epoch: 8/10----------------\n"
     ]
    },
    {
     "name": "stderr",
     "output_type": "stream",
     "text": [
      "100%|██████████| 5000/5000 [07:31<00:00, 11.08it/s, Loss=1.219e-04, PDE=5.655e-05, BC=1.768e-06,1.811e-07, IC=5.717e-05,6.199e-06, D*=6.00e-02,5.32e-04, lr=9.57e-05]\n"
     ]
    },
    {
     "name": "stdout",
     "output_type": "stream",
     "text": [
      "R^2 Error: {'Ni': 0.382, 'SiC': 0.048, 'C': 0.145, 'NiSi': 0.312, 'NiSi2': 0.229}\n",
      "Inf Error: {'Ni': 0.449, 'SiC': 0.062, 'C': 0.153, 'NiSi': 0.279, 'NiSi2': 0.292}\n",
      "Mean Error: (0.2231071111943838, 0.2470154299999101)\n",
      "模型已保存至 ./Results/PINN_[128]x5/model_save/PINN_[128]x5_40000.pth\n",
      "Epoch: 9/10----------------\n"
     ]
    },
    {
     "name": "stderr",
     "output_type": "stream",
     "text": [
      "100%|██████████| 5000/5000 [07:38<00:00, 10.91it/s, Loss=7.390e-05, PDE=4.589e-05, BC=7.040e-07,1.173e-07, IC=2.177e-05,5.421e-06, D*=6.00e-02,4.96e-04, lr=2.46e-05]\n"
     ]
    },
    {
     "name": "stdout",
     "output_type": "stream",
     "text": [
      "R^2 Error: {'Ni': 0.383, 'SiC': 0.049, 'C': 0.15, 'NiSi': 0.314, 'NiSi2': 0.232}\n",
      "Inf Error: {'Ni': 0.45, 'SiC': 0.063, 'C': 0.158, 'NiSi': 0.276, 'NiSi2': 0.293}\n",
      "Mean Error: (0.22573280357249295, 0.24789570446424775)\n",
      "模型已保存至 ./Results/PINN_[128]x5/model_save/PINN_[128]x5_45000.pth\n",
      "Epoch: 10/10----------------\n"
     ]
    },
    {
     "name": "stderr",
     "output_type": "stream",
     "text": [
      "100%|██████████| 5000/5000 [07:40<00:00, 10.87it/s, Loss=5.764e-05, PDE=3.557e-05, BC=5.920e-07,1.062e-07, IC=1.623e-05,5.138e-06, D*=6.00e-02,4.82e-04, lr=1.01e-08]\n"
     ]
    },
    {
     "name": "stdout",
     "output_type": "stream",
     "text": [
      "R^2 Error: {'Ni': 0.383, 'SiC': 0.05, 'C': 0.152, 'NiSi': 0.316, 'NiSi2': 0.234}\n",
      "Inf Error: {'Ni': 0.451, 'SiC': 0.064, 'C': 0.16, 'NiSi': 0.278, 'NiSi2': 0.293}\n",
      "Mean Error: (0.22683862432725727, 0.2489946101998763)\n",
      "模型已保存至 ./Results/PINN_[128]x5/model_save/PINN_[128]x5_50000.pth\n",
      "Training time: 4570.19s-------------------------\n",
      "PINN_[96]x5:\n",
      "Epoch: 1/10----------------\n"
     ]
    },
    {
     "name": "stderr",
     "output_type": "stream",
     "text": [
      "100%|██████████| 5000/5000 [07:18<00:00, 11.39it/s, Loss=1.820e-02, PDE=7.273e-03, BC=1.033e-03,2.048e-04, IC=9.242e-03,4.433e-04, D*=5.99e-02,4.15e-03, lr=9.76e-04]\n"
     ]
    },
    {
     "name": "stdout",
     "output_type": "stream",
     "text": [
      "R^2 Error: {'Ni': 0.078, 'SiC': 0.013, 'C': 0.075, 'NiSi': 0.173, 'NiSi2': 0.174}\n",
      "Inf Error: {'Ni': 0.072, 'SiC': 0.02, 'C': 0.144, 'NiSi': 0.257, 'NiSi2': 0.236}\n",
      "Mean Error: (0.10254438846221858, 0.14583388676033926)\n",
      "模型已保存至 ./Results/PINN_[96]x5/model_save/PINN_[96]x5_5000.pth\n",
      "Epoch: 2/10----------------\n"
     ]
    },
    {
     "name": "stderr",
     "output_type": "stream",
     "text": [
      "100%|██████████| 5000/5000 [07:19<00:00, 11.37it/s, Loss=2.590e-02, PDE=2.031e-02, BC=1.659e-04,7.141e-06, IC=5.068e-03,3.522e-04, D*=5.99e-02,3.05e-03, lr=9.05e-04]\n"
     ]
    },
    {
     "name": "stdout",
     "output_type": "stream",
     "text": [
      "R^2 Error: {'Ni': 0.068, 'SiC': 0.009, 'C': 0.047, 'NiSi': 0.18, 'NiSi2': 0.167}\n",
      "Inf Error: {'Ni': 0.065, 'SiC': 0.012, 'C': 0.111, 'NiSi': 0.264, 'NiSi2': 0.259}\n",
      "Mean Error: (0.0943139218803354, 0.14201454111249587)\n",
      "模型已保存至 ./Results/PINN_[96]x5/model_save/PINN_[96]x5_10000.pth\n",
      "Epoch: 3/10----------------\n"
     ]
    },
    {
     "name": "stderr",
     "output_type": "stream",
     "text": [
      "100%|██████████| 5000/5000 [07:18<00:00, 11.40it/s, Loss=9.595e-03, PDE=4.085e-03, BC=3.972e-05,3.034e-05, IC=5.304e-03,1.357e-04, D*=5.99e-02,2.42e-03, lr=7.94e-04]\n"
     ]
    },
    {
     "name": "stdout",
     "output_type": "stream",
     "text": [
      "R^2 Error: {'Ni': 0.059, 'SiC': 0.011, 'C': 0.059, 'NiSi': 0.151, 'NiSi2': 0.152}\n",
      "Inf Error: {'Ni': 0.083, 'SiC': 0.014, 'C': 0.142, 'NiSi': 0.238, 'NiSi2': 0.242}\n",
      "Mean Error: (0.08647240856488064, 0.1436898472148293)\n",
      "模型已保存至 ./Results/PINN_[96]x5/model_save/PINN_[96]x5_15000.pth\n",
      "Epoch: 4/10----------------\n"
     ]
    },
    {
     "name": "stderr",
     "output_type": "stream",
     "text": [
      "100%|██████████| 5000/5000 [07:17<00:00, 11.44it/s, Loss=4.501e-03, PDE=1.134e-03, BC=1.835e-04,1.947e-05, IC=3.088e-03,7.614e-05, D*=5.99e-02,1.88e-03, lr=6.55e-04]\n"
     ]
    },
    {
     "name": "stdout",
     "output_type": "stream",
     "text": [
      "R^2 Error: {'Ni': 0.093, 'SiC': 0.011, 'C': 0.054, 'NiSi': 0.149, 'NiSi2': 0.145}\n",
      "Inf Error: {'Ni': 0.146, 'SiC': 0.013, 'C': 0.137, 'NiSi': 0.24, 'NiSi2': 0.233}\n",
      "Mean Error: (0.09050806065333158, 0.15388604841508205)\n",
      "模型已保存至 ./Results/PINN_[96]x5/model_save/PINN_[96]x5_20000.pth\n",
      "Epoch: 5/10----------------\n"
     ]
    },
    {
     "name": "stderr",
     "output_type": "stream",
     "text": [
      "100%|██████████| 5000/5000 [07:18<00:00, 11.41it/s, Loss=5.723e-03, PDE=1.655e-03, BC=2.954e-04,3.749e-06, IC=3.724e-03,4.498e-05, D*=6.00e-02,1.46e-03, lr=5.00e-04]\n"
     ]
    },
    {
     "name": "stdout",
     "output_type": "stream",
     "text": [
      "R^2 Error: {'Ni': 0.132, 'SiC': 0.013, 'C': 0.054, 'NiSi': 0.155, 'NiSi2': 0.139}\n",
      "Inf Error: {'Ni': 0.197, 'SiC': 0.015, 'C': 0.141, 'NiSi': 0.244, 'NiSi2': 0.22}\n",
      "Mean Error: (0.09861624229531377, 0.1634860455098528)\n",
      "模型已保存至 ./Results/PINN_[96]x5/model_save/PINN_[96]x5_25000.pth\n",
      "Epoch: 6/10----------------\n"
     ]
    },
    {
     "name": "stderr",
     "output_type": "stream",
     "text": [
      "100%|██████████| 5000/5000 [07:06<00:00, 11.72it/s, Loss=4.259e-03, PDE=2.466e-03, BC=3.794e-05,1.097e-06, IC=1.725e-03,2.909e-05, D*=6.00e-02,1.21e-03, lr=3.46e-04]\n"
     ]
    },
    {
     "name": "stdout",
     "output_type": "stream",
     "text": [
      "R^2 Error: {'Ni': 0.163, 'SiC': 0.016, 'C': 0.058, 'NiSi': 0.168, 'NiSi2': 0.131}\n",
      "Inf Error: {'Ni': 0.23, 'SiC': 0.021, 'C': 0.125, 'NiSi': 0.237, 'NiSi2': 0.195}\n",
      "Mean Error: (0.10703893826551163, 0.16154990098271643)\n",
      "模型已保存至 ./Results/PINN_[96]x5/model_save/PINN_[96]x5_30000.pth\n",
      "Epoch: 7/10----------------\n"
     ]
    },
    {
     "name": "stderr",
     "output_type": "stream",
     "text": [
      "100%|██████████| 5000/5000 [07:07<00:00, 11.69it/s, Loss=4.765e-03, PDE=3.761e-03, BC=1.130e-05,1.171e-06, IC=9.697e-04,2.230e-05, D*=6.00e-02,1.04e-03, lr=2.06e-04]\n"
     ]
    },
    {
     "name": "stdout",
     "output_type": "stream",
     "text": [
      "R^2 Error: {'Ni': 0.177, 'SiC': 0.017, 'C': 0.056, 'NiSi': 0.173, 'NiSi2': 0.127}\n",
      "Inf Error: {'Ni': 0.244, 'SiC': 0.022, 'C': 0.13, 'NiSi': 0.244, 'NiSi2': 0.188}\n",
      "Mean Error: (0.10990536580507504, 0.16553450046556809)\n",
      "模型已保存至 ./Results/PINN_[96]x5/model_save/PINN_[96]x5_35000.pth\n",
      "Epoch: 8/10----------------\n"
     ]
    },
    {
     "name": "stderr",
     "output_type": "stream",
     "text": [
      "100%|██████████| 5000/5000 [07:07<00:00, 11.70it/s, Loss=4.054e-04, PDE=1.245e-04, BC=1.294e-06,4.591e-07, IC=2.608e-04,1.837e-05, D*=6.00e-02,9.54e-04, lr=9.57e-05]\n"
     ]
    },
    {
     "name": "stdout",
     "output_type": "stream",
     "text": [
      "R^2 Error: {'Ni': 0.18, 'SiC': 0.02, 'C': 0.064, 'NiSi': 0.179, 'NiSi2': 0.129}\n",
      "Inf Error: {'Ni': 0.245, 'SiC': 0.028, 'C': 0.127, 'NiSi': 0.243, 'NiSi2': 0.177}\n",
      "Mean Error: (0.11446369667172647, 0.16380464523509364)\n",
      "模型已保存至 ./Results/PINN_[96]x5/model_save/PINN_[96]x5_40000.pth\n",
      "Epoch: 9/10----------------\n"
     ]
    },
    {
     "name": "stderr",
     "output_type": "stream",
     "text": [
      "100%|██████████| 5000/5000 [07:08<00:00, 11.67it/s, Loss=2.149e-04, PDE=8.851e-05, BC=1.032e-06,3.223e-07, IC=1.101e-04,1.502e-05, D*=6.00e-02,8.70e-04, lr=2.46e-05]\n"
     ]
    },
    {
     "name": "stdout",
     "output_type": "stream",
     "text": [
      "R^2 Error: {'Ni': 0.184, 'SiC': 0.022, 'C': 0.067, 'NiSi': 0.179, 'NiSi2': 0.124}\n",
      "Inf Error: {'Ni': 0.248, 'SiC': 0.03, 'C': 0.127, 'NiSi': 0.235, 'NiSi2': 0.16}\n",
      "Mean Error: (0.11515211101633302, 0.1599956921063551)\n",
      "模型已保存至 ./Results/PINN_[96]x5/model_save/PINN_[96]x5_45000.pth\n",
      "Epoch: 10/10----------------\n"
     ]
    },
    {
     "name": "stderr",
     "output_type": "stream",
     "text": [
      "100%|██████████| 5000/5000 [07:11<00:00, 11.59it/s, Loss=1.676e-04, PDE=7.537e-05, BC=9.767e-07,2.875e-07, IC=7.714e-05,1.381e-05, D*=6.00e-02,8.34e-04, lr=1.01e-08]\n"
     ]
    },
    {
     "name": "stdout",
     "output_type": "stream",
     "text": [
      "R^2 Error: {'Ni': 0.186, 'SiC': 0.023, 'C': 0.068, 'NiSi': 0.179, 'NiSi2': 0.122}\n",
      "Inf Error: {'Ni': 0.25, 'SiC': 0.031, 'C': 0.127, 'NiSi': 0.23, 'NiSi2': 0.153}\n",
      "Mean Error: (0.1153705361764421, 0.15829096433114528)\n",
      "模型已保存至 ./Results/PINN_[96]x5/model_save/PINN_[96]x5_50000.pth\n",
      "Training time: 4356.85s-------------------------\n",
      "PINN_[64]x5:\n",
      "Epoch: 1/10----------------\n"
     ]
    },
    {
     "name": "stderr",
     "output_type": "stream",
     "text": [
      "100%|██████████| 5000/5000 [07:23<00:00, 11.27it/s, Loss=1.313e-02, PDE=3.585e-03, BC=3.458e-04,9.817e-06, IC=8.706e-03,4.813e-04, D*=5.99e-02,3.83e-03, lr=9.76e-04]\n"
     ]
    },
    {
     "name": "stdout",
     "output_type": "stream",
     "text": [
      "R^2 Error: {'Ni': 0.073, 'SiC': 0.028, 'C': 0.093, 'NiSi': 0.261, 'NiSi2': 0.221}\n",
      "Inf Error: {'Ni': 0.066, 'SiC': 0.025, 'C': 0.119, 'NiSi': 0.37, 'NiSi2': 0.289}\n",
      "Mean Error: (0.13520185638420476, 0.17387054784867417)\n",
      "模型已保存至 ./Results/PINN_[64]x5/model_save/PINN_[64]x5_5000.pth\n",
      "Epoch: 2/10----------------\n"
     ]
    },
    {
     "name": "stderr",
     "output_type": "stream",
     "text": [
      "100%|██████████| 5000/5000 [07:20<00:00, 11.35it/s, Loss=1.180e-02, PDE=1.884e-03, BC=4.333e-03,5.380e-06, IC=5.212e-03,3.648e-04, D*=5.99e-02,3.02e-03, lr=9.05e-04]\n"
     ]
    },
    {
     "name": "stdout",
     "output_type": "stream",
     "text": [
      "R^2 Error: {'Ni': 0.074, 'SiC': 0.02, 'C': 0.068, 'NiSi': 0.212, 'NiSi2': 0.183}\n",
      "Inf Error: {'Ni': 0.112, 'SiC': 0.018, 'C': 0.141, 'NiSi': 0.316, 'NiSi2': 0.252}\n",
      "Mean Error: (0.11137441032429096, 0.16797745275844023)\n",
      "模型已保存至 ./Results/PINN_[64]x5/model_save/PINN_[64]x5_10000.pth\n",
      "Epoch: 3/10----------------\n"
     ]
    },
    {
     "name": "stderr",
     "output_type": "stream",
     "text": [
      "100%|██████████| 5000/5000 [07:11<00:00, 11.59it/s, Loss=9.840e-03, PDE=4.790e-03, BC=1.136e-04,5.309e-06, IC=4.807e-03,1.249e-04, D*=5.99e-02,1.82e-03, lr=7.94e-04]\n"
     ]
    },
    {
     "name": "stdout",
     "output_type": "stream",
     "text": [
      "R^2 Error: {'Ni': 0.087, 'SiC': 0.016, 'C': 0.044, 'NiSi': 0.189, 'NiSi2': 0.17}\n",
      "Inf Error: {'Ni': 0.135, 'SiC': 0.018, 'C': 0.105, 'NiSi': 0.282, 'NiSi2': 0.209}\n",
      "Mean Error: (0.10123576219546575, 0.15000578690791935)\n",
      "模型已保存至 ./Results/PINN_[64]x5/model_save/PINN_[64]x5_15000.pth\n",
      "Epoch: 4/10----------------\n"
     ]
    },
    {
     "name": "stderr",
     "output_type": "stream",
     "text": [
      "100%|██████████| 5000/5000 [07:13<00:00, 11.53it/s, Loss=5.402e-03, PDE=2.011e-03, BC=8.252e-05,4.925e-06, IC=3.229e-03,7.437e-05, D*=5.99e-02,1.38e-03, lr=6.55e-04]\n"
     ]
    },
    {
     "name": "stdout",
     "output_type": "stream",
     "text": [
      "R^2 Error: {'Ni': 0.167, 'SiC': 0.014, 'C': 0.056, 'NiSi': 0.195, 'NiSi2': 0.147}\n",
      "Inf Error: {'Ni': 0.234, 'SiC': 0.019, 'C': 0.113, 'NiSi': 0.293, 'NiSi2': 0.178}\n",
      "Mean Error: (0.11583551918462025, 0.16762859099536204)\n",
      "模型已保存至 ./Results/PINN_[64]x5/model_save/PINN_[64]x5_20000.pth\n",
      "Epoch: 5/10----------------\n"
     ]
    },
    {
     "name": "stderr",
     "output_type": "stream",
     "text": [
      "100%|██████████| 5000/5000 [07:15<00:00, 11.49it/s, Loss=6.459e-03, PDE=3.133e-03, BC=5.914e-04,4.575e-06, IC=2.682e-03,4.839e-05, D*=5.99e-02,1.10e-03, lr=5.00e-04]\n"
     ]
    },
    {
     "name": "stdout",
     "output_type": "stream",
     "text": [
      "R^2 Error: {'Ni': 0.228, 'SiC': 0.018, 'C': 0.065, 'NiSi': 0.208, 'NiSi2': 0.128}\n",
      "Inf Error: {'Ni': 0.3, 'SiC': 0.024, 'C': 0.11, 'NiSi': 0.296, 'NiSi2': 0.152}\n",
      "Mean Error: (0.12960922769196764, 0.17641004142402977)\n",
      "模型已保存至 ./Results/PINN_[64]x5/model_save/PINN_[64]x5_25000.pth\n",
      "Epoch: 6/10----------------\n"
     ]
    },
    {
     "name": "stderr",
     "output_type": "stream",
     "text": [
      "100%|██████████| 5000/5000 [07:14<00:00, 11.50it/s, Loss=7.869e-03, PDE=4.241e-03, BC=1.655e-03,1.567e-05, IC=1.919e-03,3.887e-05, D*=5.99e-02,9.54e-04, lr=3.46e-04]\n"
     ]
    },
    {
     "name": "stdout",
     "output_type": "stream",
     "text": [
      "R^2 Error: {'Ni': 0.264, 'SiC': 0.026, 'C': 0.084, 'NiSi': 0.234, 'NiSi2': 0.139}\n",
      "Inf Error: {'Ni': 0.337, 'SiC': 0.035, 'C': 0.112, 'NiSi': 0.308, 'NiSi2': 0.144}\n",
      "Mean Error: (0.149276320912432, 0.18731515754495504)\n",
      "模型已保存至 ./Results/PINN_[64]x5/model_save/PINN_[64]x5_30000.pth\n",
      "Epoch: 7/10----------------\n"
     ]
    },
    {
     "name": "stderr",
     "output_type": "stream",
     "text": [
      "100%|██████████| 5000/5000 [07:15<00:00, 11.49it/s, Loss=1.944e-03, PDE=4.079e-04, BC=8.681e-06,1.144e-06, IC=1.495e-03,3.153e-05, D*=5.99e-02,8.69e-04, lr=2.06e-04]\n"
     ]
    },
    {
     "name": "stdout",
     "output_type": "stream",
     "text": [
      "R^2 Error: {'Ni': 0.275, 'SiC': 0.025, 'C': 0.081, 'NiSi': 0.237, 'NiSi2': 0.135}\n",
      "Inf Error: {'Ni': 0.348, 'SiC': 0.033, 'C': 0.115, 'NiSi': 0.308, 'NiSi2': 0.143}\n",
      "Mean Error: (0.1507305461255126, 0.18949467412402157)\n",
      "模型已保存至 ./Results/PINN_[64]x5/model_save/PINN_[64]x5_35000.pth\n",
      "Epoch: 8/10----------------\n"
     ]
    },
    {
     "name": "stderr",
     "output_type": "stream",
     "text": [
      "100%|██████████| 5000/5000 [07:16<00:00, 11.44it/s, Loss=1.416e-03, PDE=4.204e-04, BC=5.704e-06,8.701e-07, IC=9.661e-04,2.258e-05, D*=5.99e-02,7.72e-04, lr=9.57e-05]\n"
     ]
    },
    {
     "name": "stdout",
     "output_type": "stream",
     "text": [
      "R^2 Error: {'Ni': 0.28, 'SiC': 0.028, 'C': 0.086, 'NiSi': 0.239, 'NiSi2': 0.136}\n",
      "Inf Error: {'Ni': 0.353, 'SiC': 0.037, 'C': 0.116, 'NiSi': 0.301, 'NiSi2': 0.136}\n",
      "Mean Error: (0.15391249080481814, 0.1886981333453821)\n",
      "模型已保存至 ./Results/PINN_[64]x5/model_save/PINN_[64]x5_40000.pth\n",
      "Epoch: 9/10----------------\n"
     ]
    },
    {
     "name": "stderr",
     "output_type": "stream",
     "text": [
      "100%|██████████| 5000/5000 [07:12<00:00, 11.55it/s, Loss=9.771e-04, PDE=2.205e-04, BC=4.998e-06,8.860e-07, IC=7.328e-04,1.787e-05, D*=5.99e-02,7.08e-04, lr=2.46e-05]\n"
     ]
    },
    {
     "name": "stdout",
     "output_type": "stream",
     "text": [
      "R^2 Error: {'Ni': 0.283, 'SiC': 0.029, 'C': 0.087, 'NiSi': 0.239, 'NiSi2': 0.135}\n",
      "Inf Error: {'Ni': 0.355, 'SiC': 0.039, 'C': 0.117, 'NiSi': 0.295, 'NiSi2': 0.129}\n",
      "Mean Error: (0.1545775188216041, 0.18713793362088496)\n",
      "模型已保存至 ./Results/PINN_[64]x5/model_save/PINN_[64]x5_45000.pth\n",
      "Epoch: 10/10----------------\n"
     ]
    },
    {
     "name": "stderr",
     "output_type": "stream",
     "text": [
      "100%|██████████| 5000/5000 [07:18<00:00, 11.40it/s, Loss=8.028e-04, PDE=1.864e-04, BC=4.907e-06,8.840e-07, IC=5.952e-04,1.542e-05, D*=5.99e-02,6.71e-04, lr=1.01e-08]\n"
     ]
    },
    {
     "name": "stdout",
     "output_type": "stream",
     "text": [
      "R^2 Error: {'Ni': 0.282, 'SiC': 0.029, 'C': 0.086, 'NiSi': 0.236, 'NiSi2': 0.132}\n",
      "Inf Error: {'Ni': 0.355, 'SiC': 0.039, 'C': 0.117, 'NiSi': 0.291, 'NiSi2': 0.125}\n",
      "Mean Error: (0.15324803422042765, 0.18531492303089456)\n",
      "模型已保存至 ./Results/PINN_[64]x5/model_save/PINN_[64]x5_50000.pth\n",
      "Training time: 4384.06s-------------------------\n",
      "PINN_[128]x4:\n",
      "Epoch: 1/10----------------\n"
     ]
    },
    {
     "name": "stderr",
     "output_type": "stream",
     "text": [
      "100%|██████████| 5000/5000 [06:37<00:00, 12.58it/s, Loss=1.540e-02, PDE=4.198e-03, BC=2.046e-03,1.581e-05, IC=8.684e-03,4.547e-04, D*=5.99e-02,3.69e-03, lr=9.76e-04]\n"
     ]
    },
    {
     "name": "stdout",
     "output_type": "stream",
     "text": [
      "R^2 Error: {'Ni': 0.082, 'SiC': 0.022, 'C': 0.075, 'NiSi': 0.199, 'NiSi2': 0.148}\n",
      "Inf Error: {'Ni': 0.074, 'SiC': 0.022, 'C': 0.149, 'NiSi': 0.267, 'NiSi2': 0.202}\n",
      "Mean Error: (0.10524336229257562, 0.14271716022349526)\n",
      "模型已保存至 ./Results/PINN_[128]x4/model_save/PINN_[128]x4_5000.pth\n",
      "Epoch: 2/10----------------\n"
     ]
    },
    {
     "name": "stderr",
     "output_type": "stream",
     "text": [
      "100%|██████████| 5000/5000 [06:40<00:00, 12.49it/s, Loss=8.884e-03, PDE=2.361e-03, BC=1.059e-04,2.542e-05, IC=6.095e-03,2.962e-04, D*=5.99e-02,2.62e-03, lr=9.05e-04]\n"
     ]
    },
    {
     "name": "stdout",
     "output_type": "stream",
     "text": [
      "R^2 Error: {'Ni': 0.057, 'SiC': 0.016, 'C': 0.067, 'NiSi': 0.166, 'NiSi2': 0.126}\n",
      "Inf Error: {'Ni': 0.056, 'SiC': 0.018, 'C': 0.149, 'NiSi': 0.247, 'NiSi2': 0.188}\n",
      "Mean Error: (0.0865285153164073, 0.13169272845863578)\n",
      "模型已保存至 ./Results/PINN_[128]x4/model_save/PINN_[128]x4_10000.pth\n",
      "Epoch: 3/10----------------\n"
     ]
    },
    {
     "name": "stderr",
     "output_type": "stream",
     "text": [
      "100%|██████████| 5000/5000 [06:38<00:00, 12.56it/s, Loss=7.432e-03, PDE=2.998e-03, BC=1.379e-04,6.192e-06, IC=4.053e-03,2.367e-04, D*=6.00e-02,2.12e-03, lr=7.94e-04]\n"
     ]
    },
    {
     "name": "stdout",
     "output_type": "stream",
     "text": [
      "R^2 Error: {'Ni': 0.055, 'SiC': 0.014, 'C': 0.055, 'NiSi': 0.141, 'NiSi2': 0.114}\n",
      "Inf Error: {'Ni': 0.058, 'SiC': 0.015, 'C': 0.13, 'NiSi': 0.218, 'NiSi2': 0.171}\n",
      "Mean Error: (0.07572489285569617, 0.11857636519756767)\n",
      "模型已保存至 ./Results/PINN_[128]x4/model_save/PINN_[128]x4_15000.pth\n",
      "Epoch: 4/10----------------\n"
     ]
    },
    {
     "name": "stderr",
     "output_type": "stream",
     "text": [
      "100%|██████████| 5000/5000 [06:35<00:00, 12.64it/s, Loss=8.179e-03, PDE=4.407e-03, BC=1.510e-05,3.346e-05, IC=3.587e-03,1.367e-04, D*=6.00e-02,1.76e-03, lr=6.55e-04]\n"
     ]
    },
    {
     "name": "stdout",
     "output_type": "stream",
     "text": [
      "R^2 Error: {'Ni': 0.053, 'SiC': 0.007, 'C': 0.043, 'NiSi': 0.112, 'NiSi2': 0.11}\n",
      "Inf Error: {'Ni': 0.053, 'SiC': 0.01, 'C': 0.113, 'NiSi': 0.183, 'NiSi2': 0.178}\n",
      "Mean Error: (0.0650441100805297, 0.10726663864749127)\n",
      "模型已保存至 ./Results/PINN_[128]x4/model_save/PINN_[128]x4_20000.pth\n",
      "Epoch: 5/10----------------\n"
     ]
    },
    {
     "name": "stderr",
     "output_type": "stream",
     "text": [
      "100%|██████████| 5000/5000 [06:33<00:00, 12.72it/s, Loss=3.856e-03, PDE=1.327e-03, BC=3.967e-05,3.959e-06, IC=2.408e-03,7.700e-05, D*=6.00e-02,1.44e-03, lr=5.00e-04]\n"
     ]
    },
    {
     "name": "stdout",
     "output_type": "stream",
     "text": [
      "R^2 Error: {'Ni': 0.051, 'SiC': 0.011, 'C': 0.042, 'NiSi': 0.095, 'NiSi2': 0.105}\n",
      "Inf Error: {'Ni': 0.059, 'SiC': 0.013, 'C': 0.113, 'NiSi': 0.158, 'NiSi2': 0.167}\n",
      "Mean Error: (0.06080310057064523, 0.10205482615534991)\n",
      "模型已保存至 ./Results/PINN_[128]x4/model_save/PINN_[128]x4_25000.pth\n",
      "Epoch: 6/10----------------\n"
     ]
    },
    {
     "name": "stderr",
     "output_type": "stream",
     "text": [
      "100%|██████████| 5000/5000 [06:33<00:00, 12.70it/s, Loss=3.977e-03, PDE=2.255e-03, BC=2.489e-05,4.244e-06, IC=1.644e-03,4.918e-05, D*=6.00e-02,1.27e-03, lr=3.46e-04]\n"
     ]
    },
    {
     "name": "stdout",
     "output_type": "stream",
     "text": [
      "R^2 Error: {'Ni': 0.05, 'SiC': 0.008, 'C': 0.039, 'NiSi': 0.082, 'NiSi2': 0.1}\n",
      "Inf Error: {'Ni': 0.066, 'SiC': 0.01, 'C': 0.106, 'NiSi': 0.137, 'NiSi2': 0.16}\n",
      "Mean Error: (0.05581696783449993, 0.09591155502402367)\n",
      "模型已保存至 ./Results/PINN_[128]x4/model_save/PINN_[128]x4_30000.pth\n",
      "Epoch: 7/10----------------\n"
     ]
    },
    {
     "name": "stderr",
     "output_type": "stream",
     "text": [
      "100%|██████████| 5000/5000 [06:34<00:00, 12.67it/s, Loss=1.792e-03, PDE=6.125e-04, BC=1.373e-05,2.725e-06, IC=1.129e-03,3.386e-05, D*=6.00e-02,1.19e-03, lr=2.06e-04]\n"
     ]
    },
    {
     "name": "stdout",
     "output_type": "stream",
     "text": [
      "R^2 Error: {'Ni': 0.049, 'SiC': 0.008, 'C': 0.039, 'NiSi': 0.07, 'NiSi2': 0.099}\n",
      "Inf Error: {'Ni': 0.072, 'SiC': 0.01, 'C': 0.104, 'NiSi': 0.117, 'NiSi2': 0.159}\n",
      "Mean Error: (0.053154665540757116, 0.09233504217079161)\n",
      "模型已保存至 ./Results/PINN_[128]x4/model_save/PINN_[128]x4_35000.pth\n",
      "Epoch: 8/10----------------\n"
     ]
    },
    {
     "name": "stderr",
     "output_type": "stream",
     "text": [
      "100%|██████████| 5000/5000 [06:37<00:00, 12.57it/s, Loss=1.065e-03, PDE=4.519e-04, BC=3.708e-06,4.609e-07, IC=5.872e-04,2.156e-05, D*=6.00e-02,1.00e-03, lr=9.57e-05]\n"
     ]
    },
    {
     "name": "stdout",
     "output_type": "stream",
     "text": [
      "R^2 Error: {'Ni': 0.05, 'SiC': 0.009, 'C': 0.039, 'NiSi': 0.064, 'NiSi2': 0.091}\n",
      "Inf Error: {'Ni': 0.076, 'SiC': 0.012, 'C': 0.105, 'NiSi': 0.102, 'NiSi2': 0.146}\n",
      "Mean Error: (0.05078831738015024, 0.0882072840672645)\n",
      "模型已保存至 ./Results/PINN_[128]x4/model_save/PINN_[128]x4_40000.pth\n",
      "Epoch: 9/10----------------\n"
     ]
    },
    {
     "name": "stderr",
     "output_type": "stream",
     "text": [
      "100%|██████████| 5000/5000 [06:40<00:00, 12.49it/s, Loss=4.639e-04, PDE=1.118e-04, BC=7.567e-07,3.117e-07, IC=3.337e-04,1.727e-05, D*=6.00e-02,9.57e-04, lr=2.46e-05]\n"
     ]
    },
    {
     "name": "stdout",
     "output_type": "stream",
     "text": [
      "R^2 Error: {'Ni': 0.051, 'SiC': 0.01, 'C': 0.04, 'NiSi': 0.061, 'NiSi2': 0.092}\n",
      "Inf Error: {'Ni': 0.081, 'SiC': 0.014, 'C': 0.106, 'NiSi': 0.097, 'NiSi2': 0.145}\n",
      "Mean Error: (0.05069813296207627, 0.08846532543204086)\n",
      "模型已保存至 ./Results/PINN_[128]x4/model_save/PINN_[128]x4_45000.pth\n",
      "Epoch: 10/10----------------\n"
     ]
    },
    {
     "name": "stderr",
     "output_type": "stream",
     "text": [
      "100%|██████████| 5000/5000 [06:40<00:00, 12.50it/s, Loss=3.635e-04, PDE=8.356e-05, BC=6.772e-07,2.976e-07, IC=2.627e-04,1.630e-05, D*=6.00e-02,9.85e-04, lr=1.01e-08]\n"
     ]
    },
    {
     "name": "stdout",
     "output_type": "stream",
     "text": [
      "R^2 Error: {'Ni': 0.051, 'SiC': 0.01, 'C': 0.039, 'NiSi': 0.061, 'NiSi2': 0.092}\n",
      "Inf Error: {'Ni': 0.081, 'SiC': 0.014, 'C': 0.104, 'NiSi': 0.096, 'NiSi2': 0.145}\n",
      "Mean Error: (0.05068712135081439, 0.08802288979387458)\n",
      "模型已保存至 ./Results/PINN_[128]x4/model_save/PINN_[128]x4_50000.pth\n",
      "Training time: 3992.33s-------------------------\n",
      "PINN_[96]x4:\n",
      "Epoch: 1/10----------------\n"
     ]
    },
    {
     "name": "stderr",
     "output_type": "stream",
     "text": [
      "100%|██████████| 5000/5000 [06:24<00:00, 13.02it/s, Loss=1.892e-02, PDE=5.354e-03, BC=1.481e-03,2.102e-04, IC=1.135e-02,5.263e-04, D*=5.99e-02,5.14e-03, lr=9.76e-04]\n"
     ]
    },
    {
     "name": "stdout",
     "output_type": "stream",
     "text": [
      "R^2 Error: {'Ni': 0.082, 'SiC': 0.031, 'C': 0.108, 'NiSi': 0.216, 'NiSi2': 0.213}\n",
      "Inf Error: {'Ni': 0.072, 'SiC': 0.03, 'C': 0.153, 'NiSi': 0.288, 'NiSi2': 0.231}\n",
      "Mean Error: (0.13013288042727972, 0.15493169278876953)\n",
      "模型已保存至 ./Results/PINN_[96]x4/model_save/PINN_[96]x4_5000.pth\n",
      "Epoch: 2/10----------------\n"
     ]
    },
    {
     "name": "stderr",
     "output_type": "stream",
     "text": [
      "100%|██████████| 5000/5000 [06:13<00:00, 13.39it/s, Loss=1.339e-02, PDE=5.011e-03, BC=1.709e-03,2.380e-05, IC=6.232e-03,4.155e-04, D*=5.99e-02,4.06e-03, lr=9.05e-04]\n"
     ]
    },
    {
     "name": "stdout",
     "output_type": "stream",
     "text": [
      "R^2 Error: {'Ni': 0.067, 'SiC': 0.009, 'C': 0.055, 'NiSi': 0.205, 'NiSi2': 0.17}\n",
      "Inf Error: {'Ni': 0.061, 'SiC': 0.019, 'C': 0.103, 'NiSi': 0.305, 'NiSi2': 0.227}\n",
      "Mean Error: (0.10112642035194912, 0.14309959182069282)\n",
      "模型已保存至 ./Results/PINN_[96]x4/model_save/PINN_[96]x4_10000.pth\n",
      "Epoch: 3/10----------------\n"
     ]
    },
    {
     "name": "stderr",
     "output_type": "stream",
     "text": [
      "100%|██████████| 5000/5000 [06:15<00:00, 13.33it/s, Loss=1.172e-02, PDE=5.769e-03, BC=3.995e-04,6.765e-05, IC=5.101e-03,3.841e-04, D*=6.00e-02,3.54e-03, lr=7.94e-04]\n"
     ]
    },
    {
     "name": "stdout",
     "output_type": "stream",
     "text": [
      "R^2 Error: {'Ni': 0.054, 'SiC': 0.011, 'C': 0.055, 'NiSi': 0.197, 'NiSi2': 0.147}\n",
      "Inf Error: {'Ni': 0.061, 'SiC': 0.014, 'C': 0.112, 'NiSi': 0.304, 'NiSi2': 0.22}\n",
      "Mean Error: (0.09286150051928192, 0.14219392336894193)\n",
      "模型已保存至 ./Results/PINN_[96]x4/model_save/PINN_[96]x4_15000.pth\n",
      "Epoch: 4/10----------------\n"
     ]
    },
    {
     "name": "stderr",
     "output_type": "stream",
     "text": [
      "100%|██████████| 5000/5000 [06:21<00:00, 13.11it/s, Loss=7.120e-03, PDE=2.451e-03, BC=7.133e-04,3.540e-05, IC=3.655e-03,2.658e-04, D*=6.00e-02,2.79e-03, lr=6.55e-04]\n"
     ]
    },
    {
     "name": "stdout",
     "output_type": "stream",
     "text": [
      "R^2 Error: {'Ni': 0.052, 'SiC': 0.009, 'C': 0.035, 'NiSi': 0.171, 'NiSi2': 0.14}\n",
      "Inf Error: {'Ni': 0.057, 'SiC': 0.011, 'C': 0.082, 'NiSi': 0.284, 'NiSi2': 0.214}\n",
      "Mean Error: (0.08150065226780547, 0.12978220529511836)\n",
      "模型已保存至 ./Results/PINN_[96]x4/model_save/PINN_[96]x4_20000.pth\n",
      "Epoch: 5/10----------------\n"
     ]
    },
    {
     "name": "stderr",
     "output_type": "stream",
     "text": [
      "100%|██████████| 5000/5000 [06:13<00:00, 13.37it/s, Loss=6.117e-03, PDE=2.539e-03, BC=1.896e-04,7.740e-06, IC=3.156e-03,2.248e-04, D*=6.00e-02,2.52e-03, lr=5.00e-04]\n"
     ]
    },
    {
     "name": "stdout",
     "output_type": "stream",
     "text": [
      "R^2 Error: {'Ni': 0.046, 'SiC': 0.008, 'C': 0.036, 'NiSi': 0.17, 'NiSi2': 0.134}\n",
      "Inf Error: {'Ni': 0.049, 'SiC': 0.009, 'C': 0.089, 'NiSi': 0.27, 'NiSi2': 0.21}\n",
      "Mean Error: (0.07879074444972287, 0.125468407687586)\n",
      "模型已保存至 ./Results/PINN_[96]x4/model_save/PINN_[96]x4_25000.pth\n",
      "Epoch: 6/10----------------\n"
     ]
    },
    {
     "name": "stderr",
     "output_type": "stream",
     "text": [
      "100%|██████████| 5000/5000 [06:14<00:00, 13.35it/s, Loss=4.660e-03, PDE=2.152e-03, BC=2.552e-05,1.443e-05, IC=2.317e-03,1.505e-04, D*=6.00e-02,2.01e-03, lr=3.46e-04]\n"
     ]
    },
    {
     "name": "stdout",
     "output_type": "stream",
     "text": [
      "R^2 Error: {'Ni': 0.043, 'SiC': 0.006, 'C': 0.03, 'NiSi': 0.14, 'NiSi2': 0.122}\n",
      "Inf Error: {'Ni': 0.046, 'SiC': 0.008, 'C': 0.075, 'NiSi': 0.246, 'NiSi2': 0.203}\n",
      "Mean Error: (0.06809167178102928, 0.11562676443305482)\n",
      "模型已保存至 ./Results/PINN_[96]x4/model_save/PINN_[96]x4_30000.pth\n",
      "Epoch: 7/10----------------\n"
     ]
    },
    {
     "name": "stderr",
     "output_type": "stream",
     "text": [
      "100%|██████████| 5000/5000 [06:15<00:00, 13.32it/s, Loss=2.375e-03, PDE=4.201e-04, BC=1.636e-04,1.879e-06, IC=1.682e-03,1.067e-04, D*=6.00e-02,1.56e-03, lr=2.06e-04]\n"
     ]
    },
    {
     "name": "stdout",
     "output_type": "stream",
     "text": [
      "R^2 Error: {'Ni': 0.043, 'SiC': 0.006, 'C': 0.031, 'NiSi': 0.127, 'NiSi2': 0.099}\n",
      "Inf Error: {'Ni': 0.043, 'SiC': 0.008, 'C': 0.076, 'NiSi': 0.219, 'NiSi2': 0.171}\n",
      "Mean Error: (0.060997317993828085, 0.10305424231689782)\n",
      "模型已保存至 ./Results/PINN_[96]x4/model_save/PINN_[96]x4_35000.pth\n",
      "Epoch: 8/10----------------\n"
     ]
    },
    {
     "name": "stderr",
     "output_type": "stream",
     "text": [
      "100%|██████████| 5000/5000 [06:12<00:00, 13.41it/s, Loss=1.652e-03, PDE=4.025e-04, BC=4.907e-06,5.276e-07, IC=1.166e-03,7.816e-05, D*=6.00e-02,1.28e-03, lr=9.57e-05]\n"
     ]
    },
    {
     "name": "stdout",
     "output_type": "stream",
     "text": [
      "R^2 Error: {'Ni': 0.041, 'SiC': 0.007, 'C': 0.03, 'NiSi': 0.113, 'NiSi2': 0.087}\n",
      "Inf Error: {'Ni': 0.04, 'SiC': 0.007, 'C': 0.071, 'NiSi': 0.196, 'NiSi2': 0.15}\n",
      "Mean Error: (0.05543998513751429, 0.09303208304524448)\n",
      "模型已保存至 ./Results/PINN_[96]x4/model_save/PINN_[96]x4_40000.pth\n",
      "Epoch: 9/10----------------\n"
     ]
    },
    {
     "name": "stderr",
     "output_type": "stream",
     "text": [
      "100%|██████████| 5000/5000 [06:15<00:00, 13.31it/s, Loss=1.173e-03, PDE=2.547e-04, BC=4.253e-06,4.072e-07, IC=8.466e-04,6.678e-05, D*=6.00e-02,1.17e-03, lr=2.46e-05]\n"
     ]
    },
    {
     "name": "stdout",
     "output_type": "stream",
     "text": [
      "R^2 Error: {'Ni': 0.04, 'SiC': 0.007, 'C': 0.03, 'NiSi': 0.107, 'NiSi2': 0.083}\n",
      "Inf Error: {'Ni': 0.039, 'SiC': 0.007, 'C': 0.07, 'NiSi': 0.186, 'NiSi2': 0.144}\n",
      "Mean Error: (0.05337615083513446, 0.08909522906531722)\n",
      "模型已保存至 ./Results/PINN_[96]x4/model_save/PINN_[96]x4_45000.pth\n",
      "Epoch: 10/10----------------\n"
     ]
    },
    {
     "name": "stderr",
     "output_type": "stream",
     "text": [
      "100%|██████████| 5000/5000 [06:28<00:00, 12.87it/s, Loss=1.009e-03, PDE=2.376e-04, BC=3.787e-06,3.619e-07, IC=7.048e-04,6.227e-05, D*=6.00e-02,1.12e-03, lr=1.01e-08]\n"
     ]
    },
    {
     "name": "stdout",
     "output_type": "stream",
     "text": [
      "R^2 Error: {'Ni': 0.04, 'SiC': 0.007, 'C': 0.03, 'NiSi': 0.103, 'NiSi2': 0.082}\n",
      "Inf Error: {'Ni': 0.039, 'SiC': 0.007, 'C': 0.069, 'NiSi': 0.178, 'NiSi2': 0.142}\n",
      "Mean Error: (0.05234595436248283, 0.08691903997626094)\n",
      "模型已保存至 ./Results/PINN_[96]x4/model_save/PINN_[96]x4_50000.pth\n",
      "Training time: 3796.86s-------------------------\n",
      "PINN_[64]x4:\n",
      "Epoch: 1/10----------------\n"
     ]
    },
    {
     "name": "stderr",
     "output_type": "stream",
     "text": [
      "100%|██████████| 5000/5000 [06:29<00:00, 12.84it/s, Loss=2.104e-02, PDE=8.977e-03, BC=1.250e-03,6.890e-05, IC=1.029e-02,4.477e-04, D*=5.99e-02,4.12e-03, lr=9.76e-04]\n"
     ]
    },
    {
     "name": "stdout",
     "output_type": "stream",
     "text": [
      "R^2 Error: {'Ni': 0.079, 'SiC': 0.027, 'C': 0.074, 'NiSi': 0.224, 'NiSi2': 0.192}\n",
      "Inf Error: {'Ni': 0.072, 'SiC': 0.03, 'C': 0.102, 'NiSi': 0.358, 'NiSi2': 0.283}\n",
      "Mean Error: (0.1193148566877398, 0.16902043579538123)\n",
      "模型已保存至 ./Results/PINN_[64]x4/model_save/PINN_[64]x4_5000.pth\n",
      "Epoch: 2/10----------------\n"
     ]
    },
    {
     "name": "stderr",
     "output_type": "stream",
     "text": [
      "100%|██████████| 5000/5000 [06:27<00:00, 12.90it/s, Loss=1.088e-02, PDE=2.726e-03, BC=9.200e-04,6.578e-06, IC=6.798e-03,4.264e-04, D*=5.99e-02,3.25e-03, lr=9.05e-04]\n"
     ]
    },
    {
     "name": "stdout",
     "output_type": "stream",
     "text": [
      "R^2 Error: {'Ni': 0.069, 'SiC': 0.019, 'C': 0.058, 'NiSi': 0.216, 'NiSi2': 0.17}\n",
      "Inf Error: {'Ni': 0.062, 'SiC': 0.022, 'C': 0.093, 'NiSi': 0.345, 'NiSi2': 0.29}\n",
      "Mean Error: (0.10621040076241708, 0.16227601025611707)\n",
      "模型已保存至 ./Results/PINN_[64]x4/model_save/PINN_[64]x4_10000.pth\n",
      "Epoch: 3/10----------------\n"
     ]
    },
    {
     "name": "stderr",
     "output_type": "stream",
     "text": [
      "100%|██████████| 5000/5000 [06:29<00:00, 12.84it/s, Loss=9.163e-03, PDE=1.846e-03, BC=2.171e-03,7.052e-06, IC=4.856e-03,2.823e-04, D*=5.99e-02,2.32e-03, lr=7.94e-04]\n"
     ]
    },
    {
     "name": "stdout",
     "output_type": "stream",
     "text": [
      "R^2 Error: {'Ni': 0.062, 'SiC': 0.012, 'C': 0.047, 'NiSi': 0.192, 'NiSi2': 0.171}\n",
      "Inf Error: {'Ni': 0.059, 'SiC': 0.016, 'C': 0.08, 'NiSi': 0.311, 'NiSi2': 0.322}\n",
      "Mean Error: (0.09692261360100482, 0.15751919593493102)\n",
      "模型已保存至 ./Results/PINN_[64]x4/model_save/PINN_[64]x4_15000.pth\n",
      "Epoch: 4/10----------------\n"
     ]
    },
    {
     "name": "stderr",
     "output_type": "stream",
     "text": [
      "100%|██████████| 5000/5000 [06:20<00:00, 13.13it/s, Loss=5.997e-03, PDE=1.256e-03, BC=9.878e-04,9.197e-05, IC=3.546e-03,1.158e-04, D*=5.99e-02,1.55e-03, lr=6.55e-04]\n"
     ]
    },
    {
     "name": "stdout",
     "output_type": "stream",
     "text": [
      "R^2 Error: {'Ni': 0.063, 'SiC': 0.009, 'C': 0.038, 'NiSi': 0.151, 'NiSi2': 0.119}\n",
      "Inf Error: {'Ni': 0.065, 'SiC': 0.012, 'C': 0.069, 'NiSi': 0.243, 'NiSi2': 0.221}\n",
      "Mean Error: (0.07586581313823604, 0.12198914418347173)\n",
      "模型已保存至 ./Results/PINN_[64]x4/model_save/PINN_[64]x4_20000.pth\n",
      "Epoch: 5/10----------------\n"
     ]
    },
    {
     "name": "stderr",
     "output_type": "stream",
     "text": [
      "100%|██████████| 5000/5000 [06:21<00:00, 13.12it/s, Loss=3.740e-03, PDE=7.057e-04, BC=3.882e-05,3.892e-06, IC=2.925e-03,6.624e-05, D*=6.00e-02,1.20e-03, lr=5.00e-04]\n"
     ]
    },
    {
     "name": "stdout",
     "output_type": "stream",
     "text": [
      "R^2 Error: {'Ni': 0.065, 'SiC': 0.009, 'C': 0.036, 'NiSi': 0.133, 'NiSi2': 0.095}\n",
      "Inf Error: {'Ni': 0.083, 'SiC': 0.011, 'C': 0.073, 'NiSi': 0.216, 'NiSi2': 0.168}\n",
      "Mean Error: (0.06759911181839465, 0.11004670341282308)\n",
      "模型已保存至 ./Results/PINN_[64]x4/model_save/PINN_[64]x4_25000.pth\n",
      "Epoch: 6/10----------------\n"
     ]
    },
    {
     "name": "stderr",
     "output_type": "stream",
     "text": [
      "100%|██████████| 5000/5000 [06:23<00:00, 13.03it/s, Loss=3.133e-03, PDE=7.647e-04, BC=1.819e-05,2.608e-06, IC=2.308e-03,4.004e-05, D*=6.00e-02,9.32e-04, lr=3.46e-04]\n"
     ]
    },
    {
     "name": "stdout",
     "output_type": "stream",
     "text": [
      "R^2 Error: {'Ni': 0.065, 'SiC': 0.007, 'C': 0.034, 'NiSi': 0.121, 'NiSi2': 0.08}\n",
      "Inf Error: {'Ni': 0.088, 'SiC': 0.01, 'C': 0.07, 'NiSi': 0.2, 'NiSi2': 0.139}\n",
      "Mean Error: (0.061442780309103974, 0.10131612907131635)\n",
      "模型已保存至 ./Results/PINN_[64]x4/model_save/PINN_[64]x4_30000.pth\n",
      "Epoch: 7/10----------------\n"
     ]
    },
    {
     "name": "stderr",
     "output_type": "stream",
     "text": [
      "100%|██████████| 5000/5000 [06:26<00:00, 12.93it/s, Loss=2.312e-03, PDE=4.572e-04, BC=1.241e-05,2.210e-06, IC=1.813e-03,2.693e-05, D*=6.00e-02,7.59e-04, lr=2.06e-04]\n"
     ]
    },
    {
     "name": "stdout",
     "output_type": "stream",
     "text": [
      "R^2 Error: {'Ni': 0.066, 'SiC': 0.006, 'C': 0.034, 'NiSi': 0.112, 'NiSi2': 0.074}\n",
      "Inf Error: {'Ni': 0.097, 'SiC': 0.008, 'C': 0.072, 'NiSi': 0.188, 'NiSi2': 0.123}\n",
      "Mean Error: (0.05843696555827382, 0.09759384440638924)\n",
      "模型已保存至 ./Results/PINN_[64]x4/model_save/PINN_[64]x4_35000.pth\n",
      "Epoch: 8/10----------------\n"
     ]
    },
    {
     "name": "stderr",
     "output_type": "stream",
     "text": [
      "100%|██████████| 5000/5000 [06:22<00:00, 13.09it/s, Loss=1.881e-03, PDE=4.905e-04, BC=1.078e-05,1.849e-06, IC=1.357e-03,2.070e-05, D*=6.00e-02,6.58e-04, lr=9.57e-05]\n"
     ]
    },
    {
     "name": "stdout",
     "output_type": "stream",
     "text": [
      "R^2 Error: {'Ni': 0.067, 'SiC': 0.006, 'C': 0.033, 'NiSi': 0.108, 'NiSi2': 0.071}\n",
      "Inf Error: {'Ni': 0.102, 'SiC': 0.007, 'C': 0.074, 'NiSi': 0.182, 'NiSi2': 0.114}\n",
      "Mean Error: (0.057176347272060335, 0.0959747517219636)\n",
      "模型已保存至 ./Results/PINN_[64]x4/model_save/PINN_[64]x4_40000.pth\n",
      "Epoch: 9/10----------------\n"
     ]
    },
    {
     "name": "stderr",
     "output_type": "stream",
     "text": [
      "100%|██████████| 5000/5000 [06:21<00:00, 13.10it/s, Loss=2.009e-03, PDE=8.398e-04, BC=1.127e-05,1.642e-06, IC=1.139e-03,1.773e-05, D*=6.00e-02,5.99e-04, lr=2.46e-05]\n"
     ]
    },
    {
     "name": "stdout",
     "output_type": "stream",
     "text": [
      "R^2 Error: {'Ni': 0.067, 'SiC': 0.007, 'C': 0.033, 'NiSi': 0.104, 'NiSi2': 0.069}\n",
      "Inf Error: {'Ni': 0.105, 'SiC': 0.007, 'C': 0.074, 'NiSi': 0.176, 'NiSi2': 0.108}\n",
      "Mean Error: (0.05595875802586823, 0.09408428338499908)\n",
      "模型已保存至 ./Results/PINN_[64]x4/model_save/PINN_[64]x4_45000.pth\n",
      "Epoch: 10/10----------------\n"
     ]
    },
    {
     "name": "stderr",
     "output_type": "stream",
     "text": [
      "100%|██████████| 5000/5000 [06:31<00:00, 12.78it/s, Loss=1.377e-03, PDE=3.120e-04, BC=8.794e-06,1.496e-06, IC=1.038e-03,1.673e-05, D*=6.00e-02,5.75e-04, lr=1.01e-08]\n"
     ]
    },
    {
     "name": "stdout",
     "output_type": "stream",
     "text": [
      "R^2 Error: {'Ni': 0.067, 'SiC': 0.007, 'C': 0.033, 'NiSi': 0.101, 'NiSi2': 0.068}\n",
      "Inf Error: {'Ni': 0.105, 'SiC': 0.007, 'C': 0.073, 'NiSi': 0.172, 'NiSi2': 0.105}\n",
      "Mean Error: (0.055081514011999635, 0.09244987875214108)\n",
      "模型已保存至 ./Results/PINN_[64]x4/model_save/PINN_[64]x4_50000.pth\n",
      "Training time: 3876.97s-------------------------\n",
      "PINN_[128]x3:\n",
      "Epoch: 1/10----------------\n"
     ]
    },
    {
     "name": "stderr",
     "output_type": "stream",
     "text": [
      "100%|██████████| 5000/5000 [05:41<00:00, 14.65it/s, Loss=2.003e-02, PDE=2.889e-03, BC=1.625e-03,1.016e-05, IC=1.485e-02,6.605e-04, D*=5.99e-02,5.21e-03, lr=9.76e-04]\n"
     ]
    },
    {
     "name": "stdout",
     "output_type": "stream",
     "text": [
      "R^2 Error: {'Ni': 0.087, 'SiC': 0.027, 'C': 0.12, 'NiSi': 0.188, 'NiSi2': 0.208}\n",
      "Inf Error: {'Ni': 0.076, 'SiC': 0.032, 'C': 0.165, 'NiSi': 0.186, 'NiSi2': 0.253}\n",
      "Mean Error: (0.12591587927042563, 0.1423283322462987)\n",
      "模型已保存至 ./Results/PINN_[128]x3/model_save/PINN_[128]x3_5000.pth\n",
      "Epoch: 2/10----------------\n"
     ]
    },
    {
     "name": "stderr",
     "output_type": "stream",
     "text": [
      "100%|██████████| 5000/5000 [05:43<00:00, 14.57it/s, Loss=1.196e-02, PDE=2.161e-03, BC=5.366e-05,6.207e-06, IC=9.376e-03,3.640e-04, D*=6.00e-02,3.40e-03, lr=9.05e-04]\n"
     ]
    },
    {
     "name": "stdout",
     "output_type": "stream",
     "text": [
      "R^2 Error: {'Ni': 0.065, 'SiC': 0.015, 'C': 0.081, 'NiSi': 0.1, 'NiSi2': 0.136}\n",
      "Inf Error: {'Ni': 0.062, 'SiC': 0.023, 'C': 0.149, 'NiSi': 0.119, 'NiSi2': 0.236}\n",
      "Mean Error: (0.07957846280924973, 0.11779386732651573)\n",
      "模型已保存至 ./Results/PINN_[128]x3/model_save/PINN_[128]x3_10000.pth\n",
      "Epoch: 3/10----------------\n"
     ]
    },
    {
     "name": "stderr",
     "output_type": "stream",
     "text": [
      "100%|██████████| 5000/5000 [05:38<00:00, 14.77it/s, Loss=1.006e-02, PDE=1.988e-03, BC=7.505e-04,1.637e-06, IC=6.956e-03,3.631e-04, D*=6.00e-02,2.95e-03, lr=7.94e-04]\n"
     ]
    },
    {
     "name": "stdout",
     "output_type": "stream",
     "text": [
      "R^2 Error: {'Ni': 0.063, 'SiC': 0.012, 'C': 0.067, 'NiSi': 0.111, 'NiSi2': 0.143}\n",
      "Inf Error: {'Ni': 0.06, 'SiC': 0.019, 'C': 0.136, 'NiSi': 0.14, 'NiSi2': 0.247}\n",
      "Mean Error: (0.07935598394916218, 0.12059140215915512)\n",
      "模型已保存至 ./Results/PINN_[128]x3/model_save/PINN_[128]x3_15000.pth\n",
      "Epoch: 4/10----------------\n"
     ]
    },
    {
     "name": "stderr",
     "output_type": "stream",
     "text": [
      "100%|██████████| 5000/5000 [05:37<00:00, 14.82it/s, Loss=8.278e-03, PDE=2.123e-03, BC=4.310e-04,3.029e-06, IC=5.380e-03,3.408e-04, D*=6.00e-02,2.64e-03, lr=6.55e-04]\n"
     ]
    },
    {
     "name": "stdout",
     "output_type": "stream",
     "text": [
      "R^2 Error: {'Ni': 0.062, 'SiC': 0.011, 'C': 0.058, 'NiSi': 0.107, 'NiSi2': 0.14}\n",
      "Inf Error: {'Ni': 0.06, 'SiC': 0.018, 'C': 0.124, 'NiSi': 0.144, 'NiSi2': 0.246}\n",
      "Mean Error: (0.07572959040741009, 0.11838385130012985)\n",
      "模型已保存至 ./Results/PINN_[128]x3/model_save/PINN_[128]x3_20000.pth\n",
      "Epoch: 5/10----------------\n"
     ]
    },
    {
     "name": "stderr",
     "output_type": "stream",
     "text": [
      "100%|██████████| 5000/5000 [05:37<00:00, 14.81it/s, Loss=6.737e-03, PDE=2.187e-03, BC=1.600e-04,6.178e-06, IC=4.127e-03,2.573e-04, D*=6.00e-02,2.35e-03, lr=5.00e-04]\n"
     ]
    },
    {
     "name": "stdout",
     "output_type": "stream",
     "text": [
      "R^2 Error: {'Ni': 0.06, 'SiC': 0.009, 'C': 0.053, 'NiSi': 0.099, 'NiSi2': 0.115}\n",
      "Inf Error: {'Ni': 0.059, 'SiC': 0.016, 'C': 0.111, 'NiSi': 0.137, 'NiSi2': 0.216}\n",
      "Mean Error: (0.06714455508147332, 0.10810566493908125)\n",
      "模型已保存至 ./Results/PINN_[128]x3/model_save/PINN_[128]x3_25000.pth\n",
      "Epoch: 6/10----------------\n"
     ]
    },
    {
     "name": "stderr",
     "output_type": "stream",
     "text": [
      "100%|██████████| 5000/5000 [05:35<00:00, 14.89it/s, Loss=5.270e-03, PDE=1.644e-03, BC=3.207e-05,2.075e-06, IC=3.396e-03,1.955e-04, D*=6.00e-02,2.05e-03, lr=3.46e-04]\n"
     ]
    },
    {
     "name": "stdout",
     "output_type": "stream",
     "text": [
      "R^2 Error: {'Ni': 0.058, 'SiC': 0.008, 'C': 0.048, 'NiSi': 0.092, 'NiSi2': 0.103}\n",
      "Inf Error: {'Ni': 0.059, 'SiC': 0.014, 'C': 0.102, 'NiSi': 0.127, 'NiSi2': 0.201}\n",
      "Mean Error: (0.06172088667065456, 0.10074827453200459)\n",
      "模型已保存至 ./Results/PINN_[128]x3/model_save/PINN_[128]x3_30000.pth\n",
      "Epoch: 7/10----------------\n"
     ]
    },
    {
     "name": "stderr",
     "output_type": "stream",
     "text": [
      "100%|██████████| 5000/5000 [05:34<00:00, 14.93it/s, Loss=3.754e-03, PDE=6.032e-04, BC=1.479e-05,2.408e-06, IC=2.978e-03,1.557e-04, D*=6.00e-02,1.89e-03, lr=2.06e-04]\n"
     ]
    },
    {
     "name": "stdout",
     "output_type": "stream",
     "text": [
      "R^2 Error: {'Ni': 0.056, 'SiC': 0.007, 'C': 0.045, 'NiSi': 0.087, 'NiSi2': 0.092}\n",
      "Inf Error: {'Ni': 0.058, 'SiC': 0.013, 'C': 0.093, 'NiSi': 0.119, 'NiSi2': 0.181}\n",
      "Mean Error: (0.057175574046957334, 0.09273200458494636)\n",
      "模型已保存至 ./Results/PINN_[128]x3/model_save/PINN_[128]x3_35000.pth\n",
      "Epoch: 8/10----------------\n"
     ]
    },
    {
     "name": "stderr",
     "output_type": "stream",
     "text": [
      "100%|██████████| 5000/5000 [05:36<00:00, 14.84it/s, Loss=3.115e-03, PDE=4.733e-04, BC=6.117e-06,4.724e-07, IC=2.515e-03,1.197e-04, D*=6.00e-02,1.75e-03, lr=9.57e-05]\n"
     ]
    },
    {
     "name": "stdout",
     "output_type": "stream",
     "text": [
      "R^2 Error: {'Ni': 0.054, 'SiC': 0.007, 'C': 0.041, 'NiSi': 0.078, 'NiSi2': 0.084}\n",
      "Inf Error: {'Ni': 0.056, 'SiC': 0.012, 'C': 0.085, 'NiSi': 0.108, 'NiSi2': 0.162}\n",
      "Mean Error: (0.052677690285469446, 0.08466047042647833)\n",
      "模型已保存至 ./Results/PINN_[128]x3/model_save/PINN_[128]x3_40000.pth\n",
      "Epoch: 9/10----------------\n"
     ]
    },
    {
     "name": "stderr",
     "output_type": "stream",
     "text": [
      "100%|██████████| 5000/5000 [05:36<00:00, 14.85it/s, Loss=2.482e-03, PDE=2.655e-04, BC=4.472e-06,3.299e-07, IC=2.134e-03,7.771e-05, D*=6.00e-02,1.50e-03, lr=2.46e-05]\n"
     ]
    },
    {
     "name": "stdout",
     "output_type": "stream",
     "text": [
      "R^2 Error: {'Ni': 0.049, 'SiC': 0.006, 'C': 0.038, 'NiSi': 0.068, 'NiSi2': 0.073}\n",
      "Inf Error: {'Ni': 0.052, 'SiC': 0.011, 'C': 0.08, 'NiSi': 0.09, 'NiSi2': 0.131}\n",
      "Mean Error: (0.04675868077228017, 0.07282414512030093)\n",
      "模型已保存至 ./Results/PINN_[128]x3/model_save/PINN_[128]x3_45000.pth\n",
      "Epoch: 10/10----------------\n"
     ]
    },
    {
     "name": "stderr",
     "output_type": "stream",
     "text": [
      "100%|██████████| 5000/5000 [05:35<00:00, 14.89it/s, Loss=2.246e-03, PDE=2.453e-04, BC=4.122e-06,2.978e-07, IC=1.933e-03,6.309e-05, D*=6.00e-02,1.36e-03, lr=1.01e-08]\n"
     ]
    },
    {
     "name": "stdout",
     "output_type": "stream",
     "text": [
      "R^2 Error: {'Ni': 0.047, 'SiC': 0.006, 'C': 0.036, 'NiSi': 0.065, 'NiSi2': 0.068}\n",
      "Inf Error: {'Ni': 0.05, 'SiC': 0.011, 'C': 0.077, 'NiSi': 0.082, 'NiSi2': 0.118}\n",
      "Mean Error: (0.044529958799904956, 0.06743723506686014)\n",
      "模型已保存至 ./Results/PINN_[128]x3/model_save/PINN_[128]x3_50000.pth\n",
      "Training time: 3399.29s-------------------------\n",
      "PINN_[96]x3:\n",
      "Epoch: 1/10----------------\n"
     ]
    },
    {
     "name": "stderr",
     "output_type": "stream",
     "text": [
      "100%|██████████| 5000/5000 [05:33<00:00, 14.99it/s, Loss=2.231e-02, PDE=3.068e-03, BC=1.376e-03,2.833e-05, IC=1.710e-02,7.339e-04, D*=5.99e-02,5.42e-03, lr=9.76e-04]\n"
     ]
    },
    {
     "name": "stdout",
     "output_type": "stream",
     "text": [
      "R^2 Error: {'Ni': 0.095, 'SiC': 0.033, 'C': 0.157, 'NiSi': 0.192, 'NiSi2': 0.198}\n",
      "Inf Error: {'Ni': 0.083, 'SiC': 0.036, 'C': 0.219, 'NiSi': 0.191, 'NiSi2': 0.197}\n",
      "Mean Error: (0.13499506760642513, 0.14518931732016557)\n",
      "模型已保存至 ./Results/PINN_[96]x3/model_save/PINN_[96]x3_5000.pth\n",
      "Epoch: 2/10----------------\n"
     ]
    },
    {
     "name": "stderr",
     "output_type": "stream",
     "text": [
      "100%|██████████| 5000/5000 [05:48<00:00, 14.35it/s, Loss=1.331e-02, PDE=1.914e-03, BC=2.448e-04,1.443e-05, IC=1.063e-02,5.007e-04, D*=5.99e-02,4.02e-03, lr=9.05e-04]\n"
     ]
    },
    {
     "name": "stdout",
     "output_type": "stream",
     "text": [
      "R^2 Error: {'Ni': 0.071, 'SiC': 0.021, 'C': 0.094, 'NiSi': 0.165, 'NiSi2': 0.196}\n",
      "Inf Error: {'Ni': 0.062, 'SiC': 0.026, 'C': 0.177, 'NiSi': 0.225, 'NiSi2': 0.385}\n",
      "Mean Error: (0.10927829302190603, 0.17512471363655285)\n",
      "模型已保存至 ./Results/PINN_[96]x3/model_save/PINN_[96]x3_10000.pth\n",
      "Epoch: 3/10----------------\n"
     ]
    },
    {
     "name": "stderr",
     "output_type": "stream",
     "text": [
      "100%|██████████| 5000/5000 [05:29<00:00, 15.19it/s, Loss=1.079e-02, PDE=1.608e-03, BC=2.693e-05,7.964e-06, IC=8.832e-03,3.147e-04, D*=6.00e-02,3.23e-03, lr=7.94e-04]\n"
     ]
    },
    {
     "name": "stdout",
     "output_type": "stream",
     "text": [
      "R^2 Error: {'Ni': 0.063, 'SiC': 0.013, 'C': 0.074, 'NiSi': 0.138, 'NiSi2': 0.126}\n",
      "Inf Error: {'Ni': 0.057, 'SiC': 0.02, 'C': 0.143, 'NiSi': 0.199, 'NiSi2': 0.259}\n",
      "Mean Error: (0.08252512908039926, 0.13575618311594898)\n",
      "模型已保存至 ./Results/PINN_[96]x3/model_save/PINN_[96]x3_15000.pth\n",
      "Epoch: 4/10----------------\n"
     ]
    },
    {
     "name": "stderr",
     "output_type": "stream",
     "text": [
      "100%|██████████| 5000/5000 [05:09<00:00, 16.13it/s, Loss=9.188e-03, PDE=1.356e-03, BC=3.522e-04,5.106e-06, IC=7.175e-03,3.003e-04, D*=6.00e-02,2.93e-03, lr=6.55e-04]\n"
     ]
    },
    {
     "name": "stdout",
     "output_type": "stream",
     "text": [
      "R^2 Error: {'Ni': 0.054, 'SiC': 0.009, 'C': 0.069, 'NiSi': 0.137, 'NiSi2': 0.132}\n",
      "Inf Error: {'Ni': 0.056, 'SiC': 0.017, 'C': 0.142, 'NiSi': 0.21, 'NiSi2': 0.283}\n",
      "Mean Error: (0.0803434577256337, 0.1415487172921094)\n",
      "模型已保存至 ./Results/PINN_[96]x3/model_save/PINN_[96]x3_20000.pth\n",
      "Epoch: 5/10----------------\n"
     ]
    },
    {
     "name": "stderr",
     "output_type": "stream",
     "text": [
      "100%|██████████| 5000/5000 [05:42<00:00, 14.62it/s, Loss=7.399e-03, PDE=1.260e-03, BC=2.323e-04,4.842e-06, IC=5.616e-03,2.855e-04, D*=6.00e-02,2.73e-03, lr=5.00e-04]\n"
     ]
    },
    {
     "name": "stdout",
     "output_type": "stream",
     "text": [
      "R^2 Error: {'Ni': 0.053, 'SiC': 0.007, 'C': 0.056, 'NiSi': 0.139, 'NiSi2': 0.14}\n",
      "Inf Error: {'Ni': 0.057, 'SiC': 0.015, 'C': 0.129, 'NiSi': 0.218, 'NiSi2': 0.306}\n",
      "Mean Error: (0.07879605203866441, 0.14510849218077765)\n",
      "模型已保存至 ./Results/PINN_[96]x3/model_save/PINN_[96]x3_25000.pth\n",
      "Epoch: 6/10----------------\n"
     ]
    },
    {
     "name": "stderr",
     "output_type": "stream",
     "text": [
      "100%|██████████| 5000/5000 [05:43<00:00, 14.54it/s, Loss=6.556e-03, PDE=2.092e-03, BC=7.575e-05,2.510e-06, IC=4.180e-03,2.052e-04, D*=6.00e-02,2.33e-03, lr=3.46e-04]\n"
     ]
    },
    {
     "name": "stdout",
     "output_type": "stream",
     "text": [
      "R^2 Error: {'Ni': 0.048, 'SiC': 0.01, 'C': 0.046, 'NiSi': 0.12, 'NiSi2': 0.097}\n",
      "Inf Error: {'Ni': 0.052, 'SiC': 0.015, 'C': 0.107, 'NiSi': 0.196, 'NiSi2': 0.215}\n",
      "Mean Error: (0.06410361915220145, 0.11682520131352236)\n",
      "模型已保存至 ./Results/PINN_[96]x3/model_save/PINN_[96]x3_30000.pth\n",
      "Epoch: 7/10----------------\n"
     ]
    },
    {
     "name": "stderr",
     "output_type": "stream",
     "text": [
      "100%|██████████| 5000/5000 [05:34<00:00, 14.96it/s, Loss=4.485e-03, PDE=7.058e-04, BC=7.699e-05,1.770e-06, IC=3.532e-03,1.688e-04, D*=6.00e-02,2.12e-03, lr=2.06e-04]\n"
     ]
    },
    {
     "name": "stdout",
     "output_type": "stream",
     "text": [
      "R^2 Error: {'Ni': 0.045, 'SiC': 0.007, 'C': 0.043, 'NiSi': 0.108, 'NiSi2': 0.087}\n",
      "Inf Error: {'Ni': 0.052, 'SiC': 0.012, 'C': 0.1, 'NiSi': 0.176, 'NiSi2': 0.193}\n",
      "Mean Error: (0.05795942073556263, 0.10657187140660833)\n",
      "模型已保存至 ./Results/PINN_[96]x3/model_save/PINN_[96]x3_35000.pth\n",
      "Epoch: 8/10----------------\n"
     ]
    },
    {
     "name": "stderr",
     "output_type": "stream",
     "text": [
      "100%|██████████| 5000/5000 [05:34<00:00, 14.96it/s, Loss=3.695e-03, PDE=4.605e-04, BC=1.118e-04,1.501e-06, IC=2.981e-03,1.400e-04, D*=6.00e-02,2.00e-03, lr=9.57e-05]\n"
     ]
    },
    {
     "name": "stdout",
     "output_type": "stream",
     "text": [
      "R^2 Error: {'Ni': 0.044, 'SiC': 0.007, 'C': 0.039, 'NiSi': 0.097, 'NiSi2': 0.08}\n",
      "Inf Error: {'Ni': 0.05, 'SiC': 0.012, 'C': 0.09, 'NiSi': 0.154, 'NiSi2': 0.175}\n",
      "Mean Error: (0.05337704179854584, 0.09619952915480616)\n",
      "模型已保存至 ./Results/PINN_[96]x3/model_save/PINN_[96]x3_40000.pth\n",
      "Epoch: 9/10----------------\n"
     ]
    },
    {
     "name": "stderr",
     "output_type": "stream",
     "text": [
      "100%|██████████| 5000/5000 [05:35<00:00, 14.91it/s, Loss=2.960e-03, PDE=3.591e-04, BC=8.830e-06,1.193e-06, IC=2.478e-03,1.125e-04, D*=6.00e-02,1.89e-03, lr=2.46e-05]\n"
     ]
    },
    {
     "name": "stdout",
     "output_type": "stream",
     "text": [
      "R^2 Error: {'Ni': 0.043, 'SiC': 0.007, 'C': 0.034, 'NiSi': 0.087, 'NiSi2': 0.074}\n",
      "Inf Error: {'Ni': 0.049, 'SiC': 0.011, 'C': 0.076, 'NiSi': 0.133, 'NiSi2': 0.158}\n",
      "Mean Error: (0.04913312928825812, 0.08530200113137398)\n",
      "模型已保存至 ./Results/PINN_[96]x3/model_save/PINN_[96]x3_45000.pth\n",
      "Epoch: 10/10----------------\n"
     ]
    },
    {
     "name": "stderr",
     "output_type": "stream",
     "text": [
      "100%|██████████| 5000/5000 [05:35<00:00, 14.91it/s, Loss=2.719e-03, PDE=3.380e-04, BC=8.129e-06,1.130e-06, IC=2.270e-03,1.014e-04, D*=6.00e-02,1.82e-03, lr=1.01e-08]\n"
     ]
    },
    {
     "name": "stdout",
     "output_type": "stream",
     "text": [
      "R^2 Error: {'Ni': 0.044, 'SiC': 0.007, 'C': 0.032, 'NiSi': 0.085, 'NiSi2': 0.073}\n",
      "Inf Error: {'Ni': 0.048, 'SiC': 0.012, 'C': 0.07, 'NiSi': 0.125, 'NiSi2': 0.152}\n",
      "Mean Error: (0.04798010924944224, 0.08117458040883645)\n",
      "模型已保存至 ./Results/PINN_[96]x3/model_save/PINN_[96]x3_50000.pth\n",
      "Training time: 3368.19s-------------------------\n",
      "PINN_[64]x3:\n",
      "Epoch: 1/10----------------\n"
     ]
    },
    {
     "name": "stderr",
     "output_type": "stream",
     "text": [
      "100%|██████████| 5000/5000 [05:38<00:00, 14.77it/s, Loss=2.643e-02, PDE=3.534e-03, BC=1.191e-03,1.526e-05, IC=2.092e-02,7.646e-04, D*=5.99e-02,5.68e-03, lr=9.76e-04]\n"
     ]
    },
    {
     "name": "stdout",
     "output_type": "stream",
     "text": [
      "R^2 Error: {'Ni': 0.115, 'SiC': 0.045, 'C': 0.152, 'NiSi': 0.264, 'NiSi2': 0.225}\n",
      "Inf Error: {'Ni': 0.102, 'SiC': 0.046, 'C': 0.154, 'NiSi': 0.268, 'NiSi2': 0.2}\n",
      "Mean Error: (0.15999900597674085, 0.1538230333936546)\n",
      "模型已保存至 ./Results/PINN_[64]x3/model_save/PINN_[64]x3_5000.pth\n",
      "Epoch: 2/10----------------\n"
     ]
    },
    {
     "name": "stderr",
     "output_type": "stream",
     "text": [
      "100%|██████████| 5000/5000 [05:43<00:00, 14.57it/s, Loss=1.345e-02, PDE=2.805e-03, BC=6.387e-05,1.395e-05, IC=1.025e-02,3.206e-04, D*=6.00e-02,3.61e-03, lr=9.05e-04]\n"
     ]
    },
    {
     "name": "stdout",
     "output_type": "stream",
     "text": [
      "R^2 Error: {'Ni': 0.07, 'SiC': 0.016, 'C': 0.068, 'NiSi': 0.155, 'NiSi2': 0.111}\n",
      "Inf Error: {'Ni': 0.065, 'SiC': 0.024, 'C': 0.106, 'NiSi': 0.191, 'NiSi2': 0.132}\n",
      "Mean Error: (0.08410208986702657, 0.10390280196899342)\n",
      "模型已保存至 ./Results/PINN_[64]x3/model_save/PINN_[64]x3_10000.pth\n",
      "Epoch: 3/10----------------\n"
     ]
    },
    {
     "name": "stderr",
     "output_type": "stream",
     "text": [
      "100%|██████████| 5000/5000 [05:45<00:00, 14.48it/s, Loss=1.000e-02, PDE=2.393e-03, BC=2.522e-04,4.290e-06, IC=7.106e-03,2.461e-04, D*=6.00e-02,3.19e-03, lr=7.94e-04]\n"
     ]
    },
    {
     "name": "stdout",
     "output_type": "stream",
     "text": [
      "R^2 Error: {'Ni': 0.058, 'SiC': 0.014, 'C': 0.046, 'NiSi': 0.133, 'NiSi2': 0.104}\n",
      "Inf Error: {'Ni': 0.055, 'SiC': 0.018, 'C': 0.096, 'NiSi': 0.185, 'NiSi2': 0.136}\n",
      "Mean Error: (0.07091181301183755, 0.09796134648141604)\n",
      "模型已保存至 ./Results/PINN_[64]x3/model_save/PINN_[64]x3_15000.pth\n",
      "Epoch: 4/10----------------\n"
     ]
    },
    {
     "name": "stderr",
     "output_type": "stream",
     "text": [
      "100%|██████████| 5000/5000 [05:18<00:00, 15.71it/s, Loss=8.435e-03, PDE=1.721e-03, BC=9.151e-04,5.708e-06, IC=5.549e-03,2.443e-04, D*=6.00e-02,3.03e-03, lr=6.55e-04]\n"
     ]
    },
    {
     "name": "stdout",
     "output_type": "stream",
     "text": [
      "R^2 Error: {'Ni': 0.054, 'SiC': 0.01, 'C': 0.045, 'NiSi': 0.128, 'NiSi2': 0.097}\n",
      "Inf Error: {'Ni': 0.05, 'SiC': 0.016, 'C': 0.101, 'NiSi': 0.187, 'NiSi2': 0.137}\n",
      "Mean Error: (0.06688133517812633, 0.09816544872443145)\n",
      "模型已保存至 ./Results/PINN_[64]x3/model_save/PINN_[64]x3_20000.pth\n",
      "Epoch: 5/10----------------\n"
     ]
    },
    {
     "name": "stderr",
     "output_type": "stream",
     "text": [
      "100%|██████████| 5000/5000 [05:49<00:00, 14.29it/s, Loss=6.386e-03, PDE=1.611e-03, BC=5.060e-05,3.196e-06, IC=4.531e-03,1.907e-04, D*=6.00e-02,2.89e-03, lr=5.00e-04]\n"
     ]
    },
    {
     "name": "stdout",
     "output_type": "stream",
     "text": [
      "R^2 Error: {'Ni': 0.052, 'SiC': 0.009, 'C': 0.04, 'NiSi': 0.115, 'NiSi2': 0.09}\n",
      "Inf Error: {'Ni': 0.05, 'SiC': 0.015, 'C': 0.092, 'NiSi': 0.171, 'NiSi2': 0.128}\n",
      "Mean Error: (0.06117239366582059, 0.09112506219209573)\n",
      "模型已保存至 ./Results/PINN_[64]x3/model_save/PINN_[64]x3_25000.pth\n",
      "Epoch: 6/10----------------\n"
     ]
    },
    {
     "name": "stderr",
     "output_type": "stream",
     "text": [
      "100%|██████████| 5000/5000 [05:44<00:00, 14.50it/s, Loss=5.696e-03, PDE=1.589e-03, BC=4.259e-05,2.834e-06, IC=3.876e-03,1.856e-04, D*=6.00e-02,2.79e-03, lr=3.46e-04]\n"
     ]
    },
    {
     "name": "stdout",
     "output_type": "stream",
     "text": [
      "R^2 Error: {'Ni': 0.051, 'SiC': 0.008, 'C': 0.037, 'NiSi': 0.109, 'NiSi2': 0.092}\n",
      "Inf Error: {'Ni': 0.049, 'SiC': 0.014, 'C': 0.089, 'NiSi': 0.165, 'NiSi2': 0.134}\n",
      "Mean Error: (0.05949176361468541, 0.09027519955195729)\n",
      "模型已保存至 ./Results/PINN_[64]x3/model_save/PINN_[64]x3_30000.pth\n",
      "Epoch: 7/10----------------\n"
     ]
    },
    {
     "name": "stderr",
     "output_type": "stream",
     "text": [
      "100%|██████████| 5000/5000 [05:45<00:00, 14.47it/s, Loss=4.801e-03, PDE=1.127e-03, BC=4.462e-05,2.459e-06, IC=3.470e-03,1.575e-04, D*=6.00e-02,2.63e-03, lr=2.06e-04]\n"
     ]
    },
    {
     "name": "stdout",
     "output_type": "stream",
     "text": [
      "R^2 Error: {'Ni': 0.049, 'SiC': 0.008, 'C': 0.035, 'NiSi': 0.1, 'NiSi2': 0.086}\n",
      "Inf Error: {'Ni': 0.048, 'SiC': 0.013, 'C': 0.084, 'NiSi': 0.151, 'NiSi2': 0.124}\n",
      "Mean Error: (0.05550882033571708, 0.08396732105817688)\n",
      "模型已保存至 ./Results/PINN_[64]x3/model_save/PINN_[64]x3_35000.pth\n",
      "Epoch: 8/10----------------\n"
     ]
    },
    {
     "name": "stderr",
     "output_type": "stream",
     "text": [
      "100%|██████████| 5000/5000 [05:43<00:00, 14.54it/s, Loss=4.267e-03, PDE=9.296e-04, BC=3.012e-05,2.090e-06, IC=3.158e-03,1.470e-04, D*=6.00e-02,2.59e-03, lr=9.57e-05]\n"
     ]
    },
    {
     "name": "stdout",
     "output_type": "stream",
     "text": [
      "R^2 Error: {'Ni': 0.048, 'SiC': 0.007, 'C': 0.033, 'NiSi': 0.093, 'NiSi2': 0.083}\n",
      "Inf Error: {'Ni': 0.048, 'SiC': 0.012, 'C': 0.08, 'NiSi': 0.142, 'NiSi2': 0.119}\n",
      "Mean Error: (0.05291545990285997, 0.08037652301536871)\n",
      "模型已保存至 ./Results/PINN_[64]x3/model_save/PINN_[64]x3_40000.pth\n",
      "Epoch: 9/10----------------\n"
     ]
    },
    {
     "name": "stderr",
     "output_type": "stream",
     "text": [
      "100%|██████████| 5000/5000 [05:50<00:00, 14.25it/s, Loss=3.748e-03, PDE=7.685e-04, BC=2.223e-05,1.697e-06, IC=2.820e-03,1.352e-04, D*=6.00e-02,2.54e-03, lr=2.46e-05]\n"
     ]
    },
    {
     "name": "stdout",
     "output_type": "stream",
     "text": [
      "R^2 Error: {'Ni': 0.047, 'SiC': 0.007, 'C': 0.031, 'NiSi': 0.086, 'NiSi2': 0.079}\n",
      "Inf Error: {'Ni': 0.048, 'SiC': 0.012, 'C': 0.075, 'NiSi': 0.132, 'NiSi2': 0.113}\n",
      "Mean Error: (0.050111350794054724, 0.07614211500076228)\n",
      "模型已保存至 ./Results/PINN_[64]x3/model_save/PINN_[64]x3_45000.pth\n",
      "Epoch: 10/10----------------\n"
     ]
    },
    {
     "name": "stderr",
     "output_type": "stream",
     "text": [
      "100%|██████████| 5000/5000 [05:56<00:00, 14.01it/s, Loss=3.491e-03, PDE=7.215e-04, BC=1.966e-05,1.395e-06, IC=2.621e-03,1.276e-04, D*=6.00e-02,2.50e-03, lr=1.01e-08]\n"
     ]
    },
    {
     "name": "stdout",
     "output_type": "stream",
     "text": [
      "R^2 Error: {'Ni': 0.047, 'SiC': 0.007, 'C': 0.03, 'NiSi': 0.082, 'NiSi2': 0.076}\n",
      "Inf Error: {'Ni': 0.048, 'SiC': 0.012, 'C': 0.072, 'NiSi': 0.126, 'NiSi2': 0.109}\n",
      "Mean Error: (0.04830574430875766, 0.07357065005873677)\n",
      "模型已保存至 ./Results/PINN_[64]x3/model_save/PINN_[64]x3_50000.pth\n",
      "Training time: 3455.90s-------------------------\n"
     ]
    }
   ],
   "source": [
    "from torch import Tensor\n",
    "\n",
    "\n",
    "hiddens = [6, 5, 4, 3]  ##[3,4] already finished\n",
    "neurons = [128,96,64]\n",
    "\n",
    "activation = torch.nn.functional.tanh\n",
    "\n",
    "start_lr = 1e-3\n",
    "end_lr = 1e-8\n",
    "\n",
    "weight = [1, 1, 1, 1, 1, 1]\n",
    "for hidden in hiddens:\n",
    "    for neuron in neurons:\n",
    "        for mode in ['PINN']:  ##['PINN', 'IA_PINN', 'Fourier_PINN', 'AF_PINN']\n",
    "            layer = [2] + [neuron]*hidden + [6]\n",
    "            \n",
    "            star_time = timeit.default_timer()\n",
    "            num_epochs = 5000\n",
    "            sub_spochs = 10\n",
    "\n",
    "            loss_log_total,loss_log_pde, loss_log_bc, loss_log_ic = [],[],[],[]\n",
    "            torch.cuda.empty_cache()\n",
    "            print(f'{mode}_[{neuron}]x{hidden}:')\n",
    "            \n",
    "            if mode == 'PINN':\n",
    "                model = PINN(layer,activation,non_negative=True).to(device)\n",
    "                optimizer = optim.Adam(model.parameters(), lr=start_lr)  \n",
    "                scheduler = optim.lr_scheduler.CosineAnnealingLR(optimizer, T_max=num_epochs * sub_spochs, eta_min=end_lr)\n",
    "            elif mode == 'IA_PINN':\n",
    "                model = Attention_PINN(layer,activation,non_negative=True).to(device)\n",
    "                optimizer = optim.Adam(model.parameters(), lr=start_lr)  \n",
    "                scheduler = optim.lr_scheduler.CosineAnnealingLR(optimizer, T_max=num_epochs * sub_spochs, eta_min=end_lr)\n",
    "            elif mode == 'Fourier_PINN':\n",
    "                model = Fourier_PINN(layer,non_negative=True, activation= activation, use_rff=True, rff_num_features=64, rff_sigma=5.0).to(device)\n",
    "                optimizer = optim.Adam(model.parameters(), lr=start_lr)  \n",
    "                scheduler = optim.lr_scheduler.CosineAnnealingLR(optimizer, T_max=num_epochs * sub_spochs, eta_min=end_lr)\n",
    "            elif mode == 'AF_PINN':\n",
    "                model = AF_PINN(layer, non_negative=True,activation = activation, use_rff=True, rff_num_features=64, rff_sigma=5.0).to(device)\n",
    "                optimizer = optim.Adam(model.parameters(), lr=start_lr)  \n",
    "                scheduler = optim.lr_scheduler.CosineAnnealingLR(optimizer, T_max=num_epochs * sub_spochs, eta_min=end_lr)\n",
    "            else:\n",
    "                print(\"Man! What can I say! Wrong Mode!!!\")\n",
    "                break            \n",
    "            points_types = ['domain', 'left_bc', 'right_bc', 'initial']\n",
    "\n",
    "            coords_pde, coords_bc1, coords_bc2, coords_ic = [\n",
    "                generator.grid_generator(2500 if pt in ['left_bc', 'right_bc'] else 10201, points_type=pt, nondim= True) \n",
    "                for pt in points_types\n",
    "            ]\n",
    "\n",
    "            for idx in range(sub_spochs):\n",
    "                print(f'Epoch: {idx+1}/{sub_spochs}----------------')\n",
    "                model.train()\n",
    "                \n",
    "                pbar = tqdm(range(num_epochs))\n",
    "                for epoch in pbar:\n",
    "                    current_lr = optimizer.param_groups[0]['lr'] \n",
    "                    def closure() -> Tensor:\n",
    "                        global loss_pde, D_star, loss_bc1, loss_bc2, loss_ic1, loss_ic2\n",
    "                        optimizer.zero_grad()\n",
    "\n",
    "                        # 计算损失时使用batch数据\n",
    "                        loss_eq1, loss_eq2, loss_eq3, loss_eq4, loss_eq5, loss_eq6, D_star = compute_pde(model, coords_pde)\n",
    "                        loss_pde = loss_eq1 + loss_eq2 + loss_eq3 + loss_eq4 + loss_eq5 + loss_eq6\n",
    "                        loss_bc1 = compute_bc(model, coords_bc1)\n",
    "                        loss_bc2 = compute_bc(model, coords_bc2)\n",
    "                        loss_ic1, loss_ic2 = compute_ic(model, coords_ic)\n",
    "\n",
    "                        #Give a weight to initial loss term\n",
    "                        loss = weight[0]*loss_pde +  weight[1]*loss_bc1 +  weight[2]*loss_bc2 +  weight[3]*loss_ic1 +  weight[4]*loss_ic2 \n",
    "\n",
    "                        loss.backward()\n",
    "                        torch.nn.utils.clip_grad_norm_(model.parameters(), max_norm=1.0, norm_type= 2)\n",
    "                        return loss\n",
    "\n",
    "                    optimizer.step(closure)\n",
    "                    \n",
    "                    # 如果使用scheduler（只在Adam阶段）\n",
    "                    if scheduler is not None:\n",
    "                        scheduler.step()\n",
    "                    \n",
    "                    loss_total = weight[0]*loss_pde +  weight[1]*loss_bc1 +  weight[2]*loss_bc2 +  weight[3]*loss_ic1 +  weight[4]*loss_ic2 \n",
    "\n",
    "                    loss_log_total.append(loss_total.item())\n",
    "                    loss_log_pde.append(loss_pde.item())\n",
    "                    loss_log_bc.append(loss_bc1.item() + loss_bc2.item())\n",
    "                    loss_log_ic.append(loss_ic1.item() + loss_ic2.item())\n",
    "                    \n",
    "                    if epoch % 10 == 0:\n",
    "                        pbar.set_postfix({\n",
    "                            'Loss': '{0:.3e}'.format(loss_total),\n",
    "                            'PDE': '{0:.3e}'.format(weight[0]*loss_pde.item()),\n",
    "                            'BC': '{0:.3e},{1:.3e}'.format(weight[1]*loss_bc1.item(),weight[2]*loss_bc2.item()),\n",
    "                            'IC': '{0:.3e},{1:.3e}'.format(weight[3]*loss_ic1.item(),weight[4]*loss_ic2.item()),\n",
    "                            'D*': '{0:.2e},{1:.2e}'.format(torch.max(D_star),torch.min(D_star)),\n",
    "                            'lr': '{0:.2e}'.format(current_lr),\n",
    "                        })        \n",
    "                    # # 将四个张量放在一个列表中并随机打乱\n",
    "                    shuffled_tensors = [tensor[torch.randperm(tensor.size(0))] for tensor in [coords_pde, coords_bc1, coords_bc2, coords_ic]]\n",
    "\n",
    "                    # 解包到四个变量中\n",
    "                    coords_pde, coords_bc1, coords_bc2, coords_ic = shuffled_tensors\n",
    "                \n",
    "                    if torch.isnan(loss_total):\n",
    "                        print('Loss is Nan, please check your model parameters')\n",
    "                        break\n",
    "                \n",
    "                true_path = './FDM/range[0,1]/'\n",
    "                file_names = ['u1_output.csv','u2_output.csv','u3_output.csv','u4_output.csv','u5_output.csv','u6_output.csv']\n",
    "                true_data = [pd.read_csv(true_path + file_name,header=None) for file_name in file_names]\n",
    "\n",
    "                model.eval()\n",
    "                val_data = generator.grid_generator(N=10201, points_type= 'domain', nondim= True)\n",
    "                result = model(val_data).data.cpu().numpy()\n",
    "                relative_error(result,true_data)\n",
    "\n",
    "                ##模型储存\n",
    "                save_path = f'./Results/{mode}_[{neuron}]x{hidden}/model_save/'\n",
    "                os.makedirs(save_path, exist_ok=True)  # 确保保存路径存在\n",
    "                # 指定模型文件名\n",
    "                model_file = os.path.join(save_path, f'{mode}_[{neuron}]x{hidden}_{(idx+1)*num_epochs}.pth')\n",
    "                # 保存模型\n",
    "                torch.save(model.state_dict(), model_file)\n",
    "                print(f\"模型已保存至 {model_file}\")\n",
    "            \n",
    "            # 绘制结果\n",
    "            plot_loss_curve(f'{mode}_[{neuron}]x{hidden}',loss_log_total,loss_log_pde, loss_log_bc, loss_log_ic)\n",
    "            \n",
    "            plot_relative_concen(f'{mode}_[{neuron}]x{hidden}',result,data_save=True)\n",
    "            \n",
    "            plot_3d_concen(f'{mode}_[{neuron}]x{hidden}', result, true_data)\n",
    "\n",
    "            Training_time = timeit.default_timer() - star_time\n",
    "            print(f'Training time: {Training_time:.2f}s-------------------------')\n"
   ]
  },
  {
   "cell_type": "code",
   "execution_count": 4,
   "metadata": {},
   "outputs": [],
   "source": [
    "# from torch import Tensor\n",
    "\n",
    "\n",
    "# hiddens = [6, 5, 4, 3]  ##[3,4] already finished\n",
    "# neurons = [128,96,64]\n",
    "\n",
    "# activation = torch.nn.functional.silu\n",
    "\n",
    "# start_lr = 1e-3\n",
    "# end_lr = 1e-8\n",
    "\n",
    "# weight = [1, 1, 1, 1, 1, 1]\n",
    "# for hidden in hiddens:\n",
    "#     for neuron in neurons:\n",
    "#         for mode in ['Fourier_PINN']:  ##['PINN', 'IA_PINN', 'Fourier_PINN', 'AF_PINN']\n",
    "#             layer = [2] + [neuron]*hidden + [6]\n",
    "            \n",
    "#             star_time = timeit.default_timer()\n",
    "#             num_epochs = 5000\n",
    "#             sub_spochs = 10\n",
    "\n",
    "#             loss_log_total,loss_log_pde, loss_log_bc, loss_log_ic = [],[],[],[]\n",
    "#             torch.cuda.empty_cache()\n",
    "#             print(f'{mode}_[{neuron}]x{hidden}:')\n",
    "            \n",
    "#             if mode == 'PINN':\n",
    "#                 model = PINN(layer,activation,non_negative=True).to(device)\n",
    "#                 optimizer = optim.Adam(model.parameters(), lr=start_lr)  \n",
    "#                 scheduler = optim.lr_scheduler.CosineAnnealingLR(optimizer, T_max=num_epochs * sub_spochs, eta_min=end_lr)\n",
    "#             elif mode == 'IA_PINN':\n",
    "#                 model = Attention_PINN(layer,activation,non_negative=True).to(device)\n",
    "#                 optimizer = optim.Adam(model.parameters(), lr=start_lr)  \n",
    "#                 scheduler = optim.lr_scheduler.CosineAnnealingLR(optimizer, T_max=num_epochs * sub_spochs, eta_min=end_lr)\n",
    "#             elif mode == 'Fourier_PINN':\n",
    "#                 model = Fourier_PINN(layer,non_negative=True, activation= activation, use_rff=True, rff_num_features=64, rff_sigma=5.0).to(device)\n",
    "#                 optimizer = optim.Adam(model.parameters(), lr=start_lr)  \n",
    "#                 scheduler = optim.lr_scheduler.CosineAnnealingLR(optimizer, T_max=num_epochs * sub_spochs, eta_min=end_lr)\n",
    "#             elif mode == 'AF_PINN':\n",
    "#                 model = AF_PINN(layer, non_negative=True,activation = activation, use_rff=True, rff_num_features=64, rff_sigma=5.0).to(device)\n",
    "#                 optimizer = optim.Adam(model.parameters(), lr=start_lr)  \n",
    "#                 scheduler = optim.lr_scheduler.CosineAnnealingLR(optimizer, T_max=num_epochs * sub_spochs, eta_min=end_lr)\n",
    "#             else:\n",
    "#                 print(\"Man! What can I say! Wrong Mode!!!\")\n",
    "#                 break            \n",
    "#             points_types = ['domain', 'left_bc', 'right_bc', 'initial']\n",
    "\n",
    "#             coords_pde, coords_bc1, coords_bc2, coords_ic = [\n",
    "#                 generator.grid_generator(2500 if pt in ['left_bc', 'right_bc'] else 10201, points_type=pt, nondim= True) \n",
    "#                 for pt in points_types\n",
    "#             ]\n",
    "\n",
    "#             for idx in range(sub_spochs):\n",
    "#                 print(f'Epoch: {idx+1}/{sub_spochs}----------------')\n",
    "#                 model.train()\n",
    "                \n",
    "#                 pbar = tqdm(range(num_epochs))\n",
    "#                 for epoch in pbar:\n",
    "#                     current_lr = optimizer.param_groups[0]['lr'] \n",
    "#                     def closure() -> Tensor:\n",
    "#                         global loss_pde, D_star, loss_bc1, loss_bc2, loss_ic1, loss_ic2\n",
    "#                         optimizer.zero_grad()\n",
    "\n",
    "#                         # 计算损失时使用batch数据\n",
    "#                         loss_eq1, loss_eq2, loss_eq3, loss_eq4, loss_eq5, loss_eq6, D_star = compute_pde(model, coords_pde)\n",
    "#                         loss_pde = loss_eq1 + loss_eq2 + loss_eq3 + loss_eq4 + loss_eq5 + loss_eq6\n",
    "#                         loss_bc1 = compute_bc(model, coords_bc1)\n",
    "#                         loss_bc2 = compute_bc(model, coords_bc2)\n",
    "#                         loss_ic1, loss_ic2 = compute_ic(model, coords_ic)\n",
    "\n",
    "#                         #Give a weight to initial loss term\n",
    "#                         loss = weight[0]*loss_pde +  weight[1]*loss_bc1 +  weight[2]*loss_bc2 +  weight[3]*loss_ic1 +  weight[4]*loss_ic2 \n",
    "\n",
    "#                         loss.backward()\n",
    "#                         torch.nn.utils.clip_grad_norm_(model.parameters(), max_norm=1.0, norm_type= 2)\n",
    "#                         return loss\n",
    "\n",
    "#                     optimizer.step(closure)\n",
    "                    \n",
    "#                     # 如果使用scheduler（只在Adam阶段）\n",
    "#                     if scheduler is not None:\n",
    "#                         scheduler.step()\n",
    "                    \n",
    "#                     loss_total = weight[0]*loss_pde +  weight[1]*loss_bc1 +  weight[2]*loss_bc2 +  weight[3]*loss_ic1 +  weight[4]*loss_ic2 \n",
    "\n",
    "#                     loss_log_total.append(loss_total.item())\n",
    "#                     loss_log_pde.append(loss_pde.item())\n",
    "#                     loss_log_bc.append(loss_bc1.item() + loss_bc2.item())\n",
    "#                     loss_log_ic.append(loss_ic1.item() + loss_ic2.item())\n",
    "                    \n",
    "#                     if epoch % 10 == 0:\n",
    "#                         pbar.set_postfix({\n",
    "#                             'Loss': '{0:.3e}'.format(loss_total),\n",
    "#                             'PDE': '{0:.3e}'.format(weight[0]*loss_pde.item()),\n",
    "#                             'BC': '{0:.3e},{1:.3e}'.format(weight[1]*loss_bc1.item(),weight[2]*loss_bc2.item()),\n",
    "#                             'IC': '{0:.3e},{1:.3e}'.format(weight[3]*loss_ic1.item(),weight[4]*loss_ic2.item()),\n",
    "#                             'D*': '{0:.2e},{1:.2e}'.format(torch.max(D_star),torch.min(D_star)),\n",
    "#                             'lr': '{0:.2e}'.format(current_lr),\n",
    "#                         })        \n",
    "#                     # # 将四个张量放在一个列表中并随机打乱\n",
    "#                     shuffled_tensors = [tensor[torch.randperm(tensor.size(0))] for tensor in [coords_pde, coords_bc1, coords_bc2, coords_ic]]\n",
    "\n",
    "#                     # 解包到四个变量中\n",
    "#                     coords_pde, coords_bc1, coords_bc2, coords_ic = shuffled_tensors\n",
    "                \n",
    "#                     if torch.isnan(loss_total):\n",
    "#                         print('Loss is Nan, please check your model parameters')\n",
    "#                         break\n",
    "                \n",
    "#                 true_path = './FDM/range[0,1]/'\n",
    "#                 file_names = ['u1_output.csv','u2_output.csv','u3_output.csv','u4_output.csv','u5_output.csv','u6_output.csv']\n",
    "#                 true_data = [pd.read_csv(true_path + file_name,header=None) for file_name in file_names]\n",
    "\n",
    "#                 model.eval()\n",
    "#                 val_data = generator.grid_generator(N=10201, points_type= 'domain', nondim= True)\n",
    "#                 result = model(val_data).data.cpu().numpy()\n",
    "#                 relative_error(result,true_data)\n",
    "\n",
    "#                 ##模型储存\n",
    "#                 save_path = f'./Results/{mode}_[{neuron}]x{hidden}/model_save/'\n",
    "#                 os.makedirs(save_path, exist_ok=True)  # 确保保存路径存在\n",
    "#                 # 指定模型文件名\n",
    "#                 model_file = os.path.join(save_path, f'{mode}_[{neuron}]x{hidden}_{(idx+1)*num_epochs}.pth')\n",
    "#                 # 保存模型\n",
    "#                 torch.save(model.state_dict(), model_file)\n",
    "#                 print(f\"模型已保存至 {model_file}\")\n",
    "            \n",
    "#             # 绘制结果\n",
    "#             plot_loss_curve(f'{mode}_[{neuron}]x{hidden}',loss_log_total,loss_log_pde, loss_log_bc, loss_log_ic)\n",
    "            \n",
    "#             plot_relative_concen(f'{mode}_[{neuron}]x{hidden}',result,data_save=True)\n",
    "            \n",
    "#             plot_3d_concen(f'{mode}_[{neuron}]x{hidden}', result, true_data)\n",
    "\n",
    "#             Training_time = timeit.default_timer() - star_time\n",
    "#             print(f'Training time: {Training_time:.2f}s-------------------------')\n"
   ]
  }
 ],
 "metadata": {
  "kernelspec": {
   "display_name": "pytorch",
   "language": "python",
   "name": "python3"
  },
  "language_info": {
   "codemirror_mode": {
    "name": "ipython",
    "version": 3
   },
   "file_extension": ".py",
   "mimetype": "text/x-python",
   "name": "python",
   "nbconvert_exporter": "python",
   "pygments_lexer": "ipython3",
   "version": "3.9.7"
  }
 },
 "nbformat": 4,
 "nbformat_minor": 2
}
