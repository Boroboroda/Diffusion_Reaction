{
 "cells": [
  {
   "cell_type": "code",
   "execution_count": 1,
   "metadata": {},
   "outputs": [
    {
     "name": "stdout",
     "output_type": "stream",
     "text": [
      "Using device: cuda:0\n"
     ]
    }
   ],
   "source": [
    "import sys\n",
    "import os\n",
    "import timeit\n",
    "\n",
    "current_dir = os.getcwd()\n",
    "\n",
    "parent_dir = os.path.dirname(current_dir)\n",
    "sys.path.append(parent_dir)\n",
    "\n",
    "import torch\n",
    "import torch.nn as nn\n",
    "import torch.optim as optim\n",
    "import numpy as np\n",
    "from tqdm import *\n",
    "import matplotlib.pyplot as plt\n",
    "from matplotlib import cm\n",
    "from mpl_toolkits.mplot3d import Axes3D\n",
    "from matplotlib import gridspec\n",
    "import random\n",
    "\n",
    "from Networks.DNN import PINN\n",
    "from Networks.IA_DNN import Attention_PINN\n",
    "from Networks.Fourier_DNN import Fourier_PINN\n",
    "from Networks.AF_PINN import AF_PINN\n",
    "from Networks.Efficient_KAN import KAN\n",
    "from Networks.Cheby_KAN import ChebyKAN\n",
    "from DataGenerator import DataGenerator\n",
    "\n",
    "import pandas as pd\n",
    "\n",
    "from torch.utils.data import TensorDataset, DataLoader\n",
    "\n",
    "import time\n",
    "from datetime import datetime\n",
    "\n",
    "device = torch.device(\"cuda:0\" if torch.cuda.is_available() else \"cpu\")\n",
    "print(\"Using device:\", device)\n",
    "def seed_torch(seed):\n",
    "    random.seed(seed)\n",
    "    np.random.seed(seed)\n",
    "    torch.manual_seed(seed)\n",
    "    torch.cuda.manual_seed(seed)\n",
    "seed_torch(42)"
   ]
  },
  {
   "cell_type": "code",
   "execution_count": 2,
   "metadata": {},
   "outputs": [],
   "source": [
    "L = 600.0\n",
    "h = 100.0\n",
    "anneal_time= 60\n",
    "D_A = 360.0  #6nm^2/s 360nm^2/min\n",
    "k11,k12,k21 = 3.6e-3,3.6e-3,0.0\n",
    "N_SA,N_SB,N_SC,N_SAB,N_SABB,N_SAAB = 90.0,48.0,90.0,90.0,90.0,90.0\n",
    "\n",
    "geom = [0,L]\n",
    "time = [0,anneal_time]\n",
    "\n",
    "##How I genertate data\n",
    "generator = DataGenerator(geom,time)\n",
    "\n",
    "from pde_system import compute_pde, compute_bc, compute_ic,relative_error\n",
    "from graphics import plot_loss_curve,plot_relative_concen,plot_3d_concen\n",
    "# from Utilitiy.residual_adaptive_resample import select_high_loss_points\n"
   ]
  },
  {
   "cell_type": "code",
   "execution_count": 3,
   "metadata": {},
   "outputs": [
    {
     "name": "stdout",
     "output_type": "stream",
     "text": [
      "Fourier_PINN_[128]x6:\n",
      "Epoch: 1/10----------------\n"
     ]
    },
    {
     "name": "stderr",
     "output_type": "stream",
     "text": [
      "100%|██████████| 5000/5000 [12:22<00:00,  6.73it/s, Loss=3.026e-02, PDE=1.426e-02, BC=1.252e-03,4.990e-05, IC=1.417e-02,5.239e-04, D*=5.99e-02,2.84e-03, lr=9.76e-04]\n"
     ]
    },
    {
     "name": "stdout",
     "output_type": "stream",
     "text": [
      "R^2 Error: {'Ni': 0.09, 'SiC': 0.034, 'C': 0.11, 'NiSi': 0.245, 'NiSi2': 0.23}\n",
      "Inf Error: {'Ni': 0.086, 'SiC': 0.03, 'C': 0.194, 'NiSi': 0.376, 'NiSi2': 0.334}\n",
      "Mean Error: (0.14165566789674777, 0.20383400234636623)\n",
      "模型已保存至 ./Results/Fourier_PINN_[128]x6/model_save/Fourier_PINN_[128]x6_5000.pth\n",
      "Epoch: 2/10----------------\n"
     ]
    },
    {
     "name": "stderr",
     "output_type": "stream",
     "text": [
      "100%|██████████| 5000/5000 [13:19<00:00,  6.26it/s, Loss=3.379e-02, PDE=9.466e-03, BC=1.408e-03,5.101e-06, IC=2.249e-02,4.182e-04, D*=5.99e-02,2.67e-03, lr=9.05e-04]\n"
     ]
    },
    {
     "name": "stdout",
     "output_type": "stream",
     "text": [
      "R^2 Error: {'Ni': 0.077, 'SiC': 0.023, 'C': 0.109, 'NiSi': 0.219, 'NiSi2': 0.264}\n",
      "Inf Error: {'Ni': 0.096, 'SiC': 0.026, 'C': 0.153, 'NiSi': 0.357, 'NiSi2': 0.407}\n",
      "Mean Error: (0.13833803394405159, 0.20747423293425796)\n",
      "模型已保存至 ./Results/Fourier_PINN_[128]x6/model_save/Fourier_PINN_[128]x6_10000.pth\n",
      "Epoch: 3/10----------------\n"
     ]
    },
    {
     "name": "stderr",
     "output_type": "stream",
     "text": [
      "100%|██████████| 5000/5000 [12:45<00:00,  6.53it/s, Loss=2.249e-02, PDE=5.179e-03, BC=4.270e-04,2.920e-06, IC=1.650e-02,3.808e-04, D*=5.99e-02,2.52e-03, lr=7.94e-04]\n"
     ]
    },
    {
     "name": "stdout",
     "output_type": "stream",
     "text": [
      "R^2 Error: {'Ni': 0.068, 'SiC': 0.018, 'C': 0.077, 'NiSi': 0.205, 'NiSi2': 0.155}\n",
      "Inf Error: {'Ni': 0.073, 'SiC': 0.017, 'C': 0.13, 'NiSi': 0.332, 'NiSi2': 0.304}\n",
      "Mean Error: (0.10466325676081571, 0.17106386318994155)\n",
      "模型已保存至 ./Results/Fourier_PINN_[128]x6/model_save/Fourier_PINN_[128]x6_15000.pth\n",
      "Epoch: 4/10----------------\n"
     ]
    },
    {
     "name": "stderr",
     "output_type": "stream",
     "text": [
      "100%|██████████| 5000/5000 [12:20<00:00,  6.76it/s, Loss=1.682e-02, PDE=1.143e-02, BC=1.541e-04,2.990e-06, IC=5.005e-03,2.285e-04, D*=5.99e-02,1.87e-03, lr=6.55e-04]\n"
     ]
    },
    {
     "name": "stdout",
     "output_type": "stream",
     "text": [
      "R^2 Error: {'Ni': 0.086, 'SiC': 0.019, 'C': 0.066, 'NiSi': 0.164, 'NiSi2': 0.145}\n",
      "Inf Error: {'Ni': 0.081, 'SiC': 0.028, 'C': 0.108, 'NiSi': 0.286, 'NiSi2': 0.273}\n",
      "Mean Error: (0.09600857023229462, 0.15515051628802584)\n",
      "模型已保存至 ./Results/Fourier_PINN_[128]x6/model_save/Fourier_PINN_[128]x6_20000.pth\n",
      "Epoch: 5/10----------------\n"
     ]
    },
    {
     "name": "stderr",
     "output_type": "stream",
     "text": [
      "100%|██████████| 5000/5000 [12:24<00:00,  6.71it/s, Loss=1.308e-02, PDE=3.084e-03, BC=1.054e-03,2.532e-06, IC=8.646e-03,2.963e-04, D*=5.99e-02,2.41e-03, lr=5.00e-04]\n"
     ]
    },
    {
     "name": "stdout",
     "output_type": "stream",
     "text": [
      "R^2 Error: {'Ni': 0.079, 'SiC': 0.017, 'C': 0.061, 'NiSi': 0.175, 'NiSi2': 0.14}\n",
      "Inf Error: {'Ni': 0.074, 'SiC': 0.024, 'C': 0.099, 'NiSi': 0.293, 'NiSi2': 0.291}\n",
      "Mean Error: (0.0945310678369143, 0.15619176042931418)\n",
      "模型已保存至 ./Results/Fourier_PINN_[128]x6/model_save/Fourier_PINN_[128]x6_25000.pth\n",
      "Epoch: 6/10----------------\n"
     ]
    },
    {
     "name": "stderr",
     "output_type": "stream",
     "text": [
      "100%|██████████| 5000/5000 [12:24<00:00,  6.71it/s, Loss=1.088e-02, PDE=4.157e-03, BC=1.446e-04,4.587e-06, IC=6.364e-03,2.070e-04, D*=5.99e-02,1.88e-03, lr=3.46e-04]\n"
     ]
    },
    {
     "name": "stdout",
     "output_type": "stream",
     "text": [
      "R^2 Error: {'Ni': 0.046, 'SiC': 0.011, 'C': 0.042, 'NiSi': 0.132, 'NiSi2': 0.111}\n",
      "Inf Error: {'Ni': 0.052, 'SiC': 0.014, 'C': 0.092, 'NiSi': 0.251, 'NiSi2': 0.264}\n",
      "Mean Error: (0.06833249961474616, 0.1346178502655056)\n",
      "模型已保存至 ./Results/Fourier_PINN_[128]x6/model_save/Fourier_PINN_[128]x6_30000.pth\n",
      "Epoch: 7/10----------------\n"
     ]
    },
    {
     "name": "stderr",
     "output_type": "stream",
     "text": [
      "100%|██████████| 5000/5000 [12:25<00:00,  6.71it/s, Loss=6.595e-02, PDE=6.333e-02, BC=2.540e-04,2.196e-06, IC=2.225e-03,1.379e-04, D*=6.00e-02,1.12e-03, lr=2.06e-04]\n"
     ]
    },
    {
     "name": "stdout",
     "output_type": "stream",
     "text": [
      "R^2 Error: {'Ni': 0.048, 'SiC': 0.008, 'C': 0.034, 'NiSi': 0.116, 'NiSi2': 0.109}\n",
      "Inf Error: {'Ni': 0.05, 'SiC': 0.009, 'C': 0.07, 'NiSi': 0.228, 'NiSi2': 0.273}\n",
      "Mean Error: (0.06319537515860607, 0.12576715393715485)\n",
      "模型已保存至 ./Results/Fourier_PINN_[128]x6/model_save/Fourier_PINN_[128]x6_35000.pth\n",
      "Epoch: 8/10----------------\n"
     ]
    },
    {
     "name": "stderr",
     "output_type": "stream",
     "text": [
      "100%|██████████| 5000/5000 [12:22<00:00,  6.73it/s, Loss=3.796e-04, PDE=2.064e-04, BC=3.981e-06,2.753e-07, IC=1.058e-04,6.306e-05, D*=6.00e-02,7.25e-04, lr=9.57e-05]\n"
     ]
    },
    {
     "name": "stdout",
     "output_type": "stream",
     "text": [
      "R^2 Error: {'Ni': 0.026, 'SiC': 0.011, 'C': 0.025, 'NiSi': 0.086, 'NiSi2': 0.078}\n",
      "Inf Error: {'Ni': 0.026, 'SiC': 0.014, 'C': 0.064, 'NiSi': 0.162, 'NiSi2': 0.178}\n",
      "Mean Error: (0.045035608420499654, 0.08897674525097297)\n",
      "模型已保存至 ./Results/Fourier_PINN_[128]x6/model_save/Fourier_PINN_[128]x6_40000.pth\n",
      "Epoch: 9/10----------------\n"
     ]
    },
    {
     "name": "stderr",
     "output_type": "stream",
     "text": [
      "100%|██████████| 5000/5000 [12:22<00:00,  6.74it/s, Loss=1.104e-04, PDE=7.101e-05, BC=1.215e-06,7.401e-08, IC=1.489e-05,2.324e-05, D*=6.00e-02,6.14e-04, lr=2.46e-05]\n"
     ]
    },
    {
     "name": "stdout",
     "output_type": "stream",
     "text": [
      "R^2 Error: {'Ni': 0.024, 'SiC': 0.014, 'C': 0.026, 'NiSi': 0.076, 'NiSi2': 0.087}\n",
      "Inf Error: {'Ni': 0.023, 'SiC': 0.019, 'C': 0.059, 'NiSi': 0.135, 'NiSi2': 0.19}\n",
      "Mean Error: (0.04530951870167743, 0.08513584748633643)\n",
      "模型已保存至 ./Results/Fourier_PINN_[128]x6/model_save/Fourier_PINN_[128]x6_45000.pth\n",
      "Epoch: 10/10----------------\n"
     ]
    },
    {
     "name": "stderr",
     "output_type": "stream",
     "text": [
      "100%|██████████| 5000/5000 [12:19<00:00,  6.76it/s, Loss=8.856e-05, PDE=5.920e-05, BC=8.936e-07,7.613e-08, IC=9.698e-06,1.869e-05, D*=6.00e-02,5.72e-04, lr=1.01e-08]\n"
     ]
    },
    {
     "name": "stdout",
     "output_type": "stream",
     "text": [
      "R^2 Error: {'Ni': 0.024, 'SiC': 0.014, 'C': 0.026, 'NiSi': 0.076, 'NiSi2': 0.091}\n",
      "Inf Error: {'Ni': 0.024, 'SiC': 0.019, 'C': 0.057, 'NiSi': 0.131, 'NiSi2': 0.198}\n",
      "Mean Error: (0.04632471595324117, 0.08609390779216047)\n",
      "模型已保存至 ./Results/Fourier_PINN_[128]x6/model_save/Fourier_PINN_[128]x6_50000.pth\n",
      "Training time: 7526.34s-------------------------\n",
      "Fourier_PINN_[96]x6:\n",
      "Epoch: 1/10----------------\n"
     ]
    },
    {
     "name": "stderr",
     "output_type": "stream",
     "text": [
      "100%|██████████| 5000/5000 [10:29<00:00,  7.94it/s, Loss=2.483e-02, PDE=7.229e-03, BC=4.754e-04,9.821e-06, IC=1.656e-02,5.536e-04, D*=5.99e-02,3.78e-03, lr=9.76e-04]\n"
     ]
    },
    {
     "name": "stdout",
     "output_type": "stream",
     "text": [
      "R^2 Error: {'Ni': 0.081, 'SiC': 0.026, 'C': 0.089, 'NiSi': 0.248, 'NiSi2': 0.191}\n",
      "Inf Error: {'Ni': 0.079, 'SiC': 0.028, 'C': 0.162, 'NiSi': 0.351, 'NiSi2': 0.228}\n",
      "Mean Error: (0.12691964860081895, 0.16954813661725215)\n",
      "模型已保存至 ./Results/Fourier_PINN_[96]x6/model_save/Fourier_PINN_[96]x6_5000.pth\n",
      "Epoch: 2/10----------------\n"
     ]
    },
    {
     "name": "stderr",
     "output_type": "stream",
     "text": [
      "100%|██████████| 5000/5000 [10:27<00:00,  7.97it/s, Loss=1.454e-02, PDE=2.436e-03, BC=1.032e-04,5.487e-06, IC=1.150e-02,4.941e-04, D*=5.99e-02,2.92e-03, lr=9.05e-04]\n"
     ]
    },
    {
     "name": "stdout",
     "output_type": "stream",
     "text": [
      "R^2 Error: {'Ni': 0.072, 'SiC': 0.022, 'C': 0.087, 'NiSi': 0.194, 'NiSi2': 0.182}\n",
      "Inf Error: {'Ni': 0.069, 'SiC': 0.032, 'C': 0.147, 'NiSi': 0.306, 'NiSi2': 0.275}\n",
      "Mean Error: (0.11141121148332456, 0.1658729232852349)\n",
      "模型已保存至 ./Results/Fourier_PINN_[96]x6/model_save/Fourier_PINN_[96]x6_10000.pth\n",
      "Epoch: 3/10----------------\n"
     ]
    },
    {
     "name": "stderr",
     "output_type": "stream",
     "text": [
      "100%|██████████| 5000/5000 [10:28<00:00,  7.95it/s, Loss=1.438e-02, PDE=2.824e-03, BC=1.807e-03,1.099e-06, IC=9.380e-03,3.656e-04, D*=5.99e-02,2.45e-03, lr=7.94e-04]\n"
     ]
    },
    {
     "name": "stdout",
     "output_type": "stream",
     "text": [
      "R^2 Error: {'Ni': 0.066, 'SiC': 0.025, 'C': 0.082, 'NiSi': 0.212, 'NiSi2': 0.205}\n",
      "Inf Error: {'Ni': 0.061, 'SiC': 0.025, 'C': 0.152, 'NiSi': 0.352, 'NiSi2': 0.345}\n",
      "Mean Error: (0.11804050474862357, 0.18674673374084322)\n",
      "模型已保存至 ./Results/Fourier_PINN_[96]x6/model_save/Fourier_PINN_[96]x6_15000.pth\n",
      "Epoch: 4/10----------------\n"
     ]
    },
    {
     "name": "stderr",
     "output_type": "stream",
     "text": [
      "100%|██████████| 5000/5000 [10:28<00:00,  7.96it/s, Loss=1.582e-02, PDE=9.053e-03, BC=1.033e-04,6.679e-06, IC=6.405e-03,2.558e-04, D*=5.99e-02,2.33e-03, lr=6.55e-04]\n"
     ]
    },
    {
     "name": "stdout",
     "output_type": "stream",
     "text": [
      "R^2 Error: {'Ni': 0.076, 'SiC': 0.022, 'C': 0.068, 'NiSi': 0.15, 'NiSi2': 0.121}\n",
      "Inf Error: {'Ni': 0.074, 'SiC': 0.021, 'C': 0.125, 'NiSi': 0.238, 'NiSi2': 0.168}\n",
      "Mean Error: (0.08748962140471034, 0.12521188553991452)\n",
      "模型已保存至 ./Results/Fourier_PINN_[96]x6/model_save/Fourier_PINN_[96]x6_20000.pth\n",
      "Epoch: 5/10----------------\n"
     ]
    },
    {
     "name": "stderr",
     "output_type": "stream",
     "text": [
      "100%|██████████| 5000/5000 [10:27<00:00,  7.97it/s, Loss=9.187e-03, PDE=2.766e-03, BC=1.009e-03,1.038e-05, IC=5.143e-03,2.586e-04, D*=5.99e-02,2.12e-03, lr=5.00e-04]\n"
     ]
    },
    {
     "name": "stdout",
     "output_type": "stream",
     "text": [
      "R^2 Error: {'Ni': 0.066, 'SiC': 0.01, 'C': 0.064, 'NiSi': 0.141, 'NiSi2': 0.138}\n",
      "Inf Error: {'Ni': 0.064, 'SiC': 0.019, 'C': 0.116, 'NiSi': 0.242, 'NiSi2': 0.242}\n",
      "Mean Error: (0.08373199556525093, 0.13636748783029604)\n",
      "模型已保存至 ./Results/Fourier_PINN_[96]x6/model_save/Fourier_PINN_[96]x6_25000.pth\n",
      "Epoch: 6/10----------------\n"
     ]
    },
    {
     "name": "stderr",
     "output_type": "stream",
     "text": [
      "100%|██████████| 5000/5000 [10:28<00:00,  7.95it/s, Loss=8.807e-03, PDE=2.290e-03, BC=2.631e-04,1.036e-06, IC=6.011e-03,2.418e-04, D*=5.99e-02,2.06e-03, lr=3.46e-04]\n"
     ]
    },
    {
     "name": "stdout",
     "output_type": "stream",
     "text": [
      "R^2 Error: {'Ni': 0.045, 'SiC': 0.006, 'C': 0.055, 'NiSi': 0.134, 'NiSi2': 0.119}\n",
      "Inf Error: {'Ni': 0.049, 'SiC': 0.009, 'C': 0.116, 'NiSi': 0.238, 'NiSi2': 0.224}\n",
      "Mean Error: (0.0720073907405168, 0.1271023219756225)\n",
      "模型已保存至 ./Results/Fourier_PINN_[96]x6/model_save/Fourier_PINN_[96]x6_30000.pth\n",
      "Epoch: 7/10----------------\n"
     ]
    },
    {
     "name": "stderr",
     "output_type": "stream",
     "text": [
      "100%|██████████| 5000/5000 [10:28<00:00,  7.95it/s, Loss=4.661e-03, PDE=2.334e-03, BC=7.064e-04,6.205e-07, IC=1.445e-03,1.750e-04, D*=5.99e-02,1.65e-03, lr=2.06e-04]\n"
     ]
    },
    {
     "name": "stdout",
     "output_type": "stream",
     "text": [
      "R^2 Error: {'Ni': 0.04, 'SiC': 0.008, 'C': 0.042, 'NiSi': 0.135, 'NiSi2': 0.124}\n",
      "Inf Error: {'Ni': 0.04, 'SiC': 0.01, 'C': 0.101, 'NiSi': 0.247, 'NiSi2': 0.252}\n",
      "Mean Error: (0.07013506780351131, 0.1301103443773898)\n",
      "模型已保存至 ./Results/Fourier_PINN_[96]x6/model_save/Fourier_PINN_[96]x6_35000.pth\n",
      "Epoch: 8/10----------------\n"
     ]
    },
    {
     "name": "stderr",
     "output_type": "stream",
     "text": [
      "100%|██████████| 5000/5000 [10:28<00:00,  7.96it/s, Loss=7.167e-04, PDE=4.232e-04, BC=1.938e-06,1.139e-07, IC=2.101e-04,8.132e-05, D*=6.00e-02,1.13e-03, lr=9.57e-05]\n"
     ]
    },
    {
     "name": "stdout",
     "output_type": "stream",
     "text": [
      "R^2 Error: {'Ni': 0.03, 'SiC': 0.011, 'C': 0.035, 'NiSi': 0.096, 'NiSi2': 0.086}\n",
      "Inf Error: {'Ni': 0.03, 'SiC': 0.013, 'C': 0.082, 'NiSi': 0.17, 'NiSi2': 0.156}\n",
      "Mean Error: (0.051402233707046927, 0.09021406582112101)\n",
      "模型已保存至 ./Results/Fourier_PINN_[96]x6/model_save/Fourier_PINN_[96]x6_40000.pth\n",
      "Epoch: 9/10----------------\n"
     ]
    },
    {
     "name": "stderr",
     "output_type": "stream",
     "text": [
      "100%|██████████| 5000/5000 [10:27<00:00,  7.96it/s, Loss=1.806e-04, PDE=1.047e-04, BC=1.383e-06,9.101e-08, IC=2.403e-05,5.043e-05, D*=6.00e-02,9.01e-04, lr=2.46e-05]\n"
     ]
    },
    {
     "name": "stdout",
     "output_type": "stream",
     "text": [
      "R^2 Error: {'Ni': 0.026, 'SiC': 0.013, 'C': 0.03, 'NiSi': 0.083, 'NiSi2': 0.08}\n",
      "Inf Error: {'Ni': 0.025, 'SiC': 0.017, 'C': 0.068, 'NiSi': 0.139, 'NiSi2': 0.131}\n",
      "Mean Error: (0.04616771983371367, 0.07600913703118173)\n",
      "模型已保存至 ./Results/Fourier_PINN_[96]x6/model_save/Fourier_PINN_[96]x6_45000.pth\n",
      "Epoch: 10/10----------------\n"
     ]
    },
    {
     "name": "stderr",
     "output_type": "stream",
     "text": [
      "100%|██████████| 5000/5000 [10:28<00:00,  7.96it/s, Loss=1.445e-04, PDE=8.709e-05, BC=7.964e-07,7.491e-08, IC=1.299e-05,4.352e-05, D*=6.00e-02,8.39e-04, lr=1.01e-08]\n"
     ]
    },
    {
     "name": "stdout",
     "output_type": "stream",
     "text": [
      "R^2 Error: {'Ni': 0.025, 'SiC': 0.013, 'C': 0.029, 'NiSi': 0.08, 'NiSi2': 0.079}\n",
      "Inf Error: {'Ni': 0.024, 'SiC': 0.018, 'C': 0.065, 'NiSi': 0.131, 'NiSi2': 0.127}\n",
      "Mean Error: (0.04526975354074554, 0.07296934306877242)\n",
      "模型已保存至 ./Results/Fourier_PINN_[96]x6/model_save/Fourier_PINN_[96]x6_50000.pth\n",
      "Training time: 6301.60s-------------------------\n",
      "Fourier_PINN_[64]x6:\n",
      "Epoch: 1/10----------------\n"
     ]
    },
    {
     "name": "stderr",
     "output_type": "stream",
     "text": [
      "100%|██████████| 5000/5000 [09:13<00:00,  9.04it/s, Loss=3.576e-02, PDE=2.628e-02, BC=9.449e-04,5.066e-05, IC=7.893e-03,5.893e-04, D*=5.99e-02,2.92e-03, lr=9.76e-04]\n"
     ]
    },
    {
     "name": "stdout",
     "output_type": "stream",
     "text": [
      "R^2 Error: {'Ni': 0.11, 'SiC': 0.055, 'C': 0.161, 'NiSi': 0.244, 'NiSi2': 0.271}\n",
      "Inf Error: {'Ni': 0.1, 'SiC': 0.056, 'C': 0.166, 'NiSi': 0.349, 'NiSi2': 0.322}\n",
      "Mean Error: (0.168272647114425, 0.19843073471759715)\n",
      "模型已保存至 ./Results/Fourier_PINN_[64]x6/model_save/Fourier_PINN_[64]x6_5000.pth\n",
      "Epoch: 2/10----------------\n"
     ]
    },
    {
     "name": "stderr",
     "output_type": "stream",
     "text": [
      "100%|██████████| 5000/5000 [09:14<00:00,  9.01it/s, Loss=2.459e-02, PDE=6.994e-03, BC=1.003e-03,7.486e-06, IC=1.622e-02,3.670e-04, D*=5.99e-02,3.72e-03, lr=9.05e-04]\n"
     ]
    },
    {
     "name": "stdout",
     "output_type": "stream",
     "text": [
      "R^2 Error: {'Ni': 0.099, 'SiC': 0.027, 'C': 0.099, 'NiSi': 0.218, 'NiSi2': 0.158}\n",
      "Inf Error: {'Ni': 0.093, 'SiC': 0.028, 'C': 0.138, 'NiSi': 0.309, 'NiSi2': 0.191}\n",
      "Mean Error: (0.12052223954901006, 0.15183701339538397)\n",
      "模型已保存至 ./Results/Fourier_PINN_[64]x6/model_save/Fourier_PINN_[64]x6_10000.pth\n",
      "Epoch: 3/10----------------\n"
     ]
    },
    {
     "name": "stderr",
     "output_type": "stream",
     "text": [
      "100%|██████████| 5000/5000 [10:03<00:00,  8.29it/s, Loss=5.227e-02, PDE=3.595e-02, BC=1.100e-02,1.396e-05, IC=4.948e-03,3.518e-04, D*=5.99e-02,2.59e-03, lr=7.94e-04]\n"
     ]
    },
    {
     "name": "stdout",
     "output_type": "stream",
     "text": [
      "R^2 Error: {'Ni': 0.093, 'SiC': 0.019, 'C': 0.104, 'NiSi': 0.212, 'NiSi2': 0.163}\n",
      "Inf Error: {'Ni': 0.085, 'SiC': 0.036, 'C': 0.16, 'NiSi': 0.318, 'NiSi2': 0.204}\n",
      "Mean Error: (0.11816049098410786, 0.16056809797474775)\n",
      "模型已保存至 ./Results/Fourier_PINN_[64]x6/model_save/Fourier_PINN_[64]x6_15000.pth\n",
      "Epoch: 4/10----------------\n"
     ]
    },
    {
     "name": "stderr",
     "output_type": "stream",
     "text": [
      "100%|██████████| 5000/5000 [09:15<00:00,  9.01it/s, Loss=1.690e-02, PDE=3.404e-03, BC=1.620e-03,1.844e-06, IC=1.155e-02,3.168e-04, D*=5.99e-02,2.80e-03, lr=6.55e-04]\n"
     ]
    },
    {
     "name": "stdout",
     "output_type": "stream",
     "text": [
      "R^2 Error: {'Ni': 0.069, 'SiC': 0.01, 'C': 0.071, 'NiSi': 0.183, 'NiSi2': 0.134}\n",
      "Inf Error: {'Ni': 0.066, 'SiC': 0.021, 'C': 0.149, 'NiSi': 0.294, 'NiSi2': 0.211}\n",
      "Mean Error: (0.09325807731370021, 0.148093835574719)\n",
      "模型已保存至 ./Results/Fourier_PINN_[64]x6/model_save/Fourier_PINN_[64]x6_20000.pth\n",
      "Epoch: 5/10----------------\n"
     ]
    },
    {
     "name": "stderr",
     "output_type": "stream",
     "text": [
      "100%|██████████| 5000/5000 [09:14<00:00,  9.02it/s, Loss=4.173e-02, PDE=3.262e-02, BC=7.934e-04,2.081e-05, IC=7.958e-03,3.281e-04, D*=5.99e-02,2.03e-03, lr=5.00e-04]\n"
     ]
    },
    {
     "name": "stdout",
     "output_type": "stream",
     "text": [
      "R^2 Error: {'Ni': 0.075, 'SiC': 0.017, 'C': 0.083, 'NiSi': 0.169, 'NiSi2': 0.148}\n",
      "Inf Error: {'Ni': 0.072, 'SiC': 0.027, 'C': 0.122, 'NiSi': 0.272, 'NiSi2': 0.249}\n",
      "Mean Error: (0.0984935513917586, 0.14861395681519854)\n",
      "模型已保存至 ./Results/Fourier_PINN_[64]x6/model_save/Fourier_PINN_[64]x6_25000.pth\n",
      "Epoch: 6/10----------------\n"
     ]
    },
    {
     "name": "stderr",
     "output_type": "stream",
     "text": [
      "100%|██████████| 5000/5000 [09:19<00:00,  8.94it/s, Loss=1.706e-02, PDE=1.031e-02, BC=1.679e-03,4.601e-06, IC=4.855e-03,2.146e-04, D*=5.99e-02,1.81e-03, lr=3.46e-04]\n"
     ]
    },
    {
     "name": "stdout",
     "output_type": "stream",
     "text": [
      "R^2 Error: {'Ni': 0.056, 'SiC': 0.011, 'C': 0.071, 'NiSi': 0.15, 'NiSi2': 0.123}\n",
      "Inf Error: {'Ni': 0.055, 'SiC': 0.015, 'C': 0.128, 'NiSi': 0.252, 'NiSi2': 0.224}\n",
      "Mean Error: (0.08197583380906835, 0.13459177042131776)\n",
      "模型已保存至 ./Results/Fourier_PINN_[64]x6/model_save/Fourier_PINN_[64]x6_30000.pth\n",
      "Epoch: 7/10----------------\n"
     ]
    },
    {
     "name": "stderr",
     "output_type": "stream",
     "text": [
      "100%|██████████| 5000/5000 [09:13<00:00,  9.04it/s, Loss=4.543e-03, PDE=1.358e-03, BC=1.854e-04,2.364e-06, IC=2.819e-03,1.779e-04, D*=5.99e-02,1.80e-03, lr=2.06e-04]\n"
     ]
    },
    {
     "name": "stdout",
     "output_type": "stream",
     "text": [
      "R^2 Error: {'Ni': 0.042, 'SiC': 0.007, 'C': 0.05, 'NiSi': 0.138, 'NiSi2': 0.118}\n",
      "Inf Error: {'Ni': 0.046, 'SiC': 0.007, 'C': 0.117, 'NiSi': 0.241, 'NiSi2': 0.233}\n",
      "Mean Error: (0.07108644237829281, 0.12879372424091087)\n",
      "模型已保存至 ./Results/Fourier_PINN_[64]x6/model_save/Fourier_PINN_[64]x6_35000.pth\n",
      "Epoch: 8/10----------------\n"
     ]
    },
    {
     "name": "stderr",
     "output_type": "stream",
     "text": [
      "100%|██████████| 5000/5000 [09:13<00:00,  9.03it/s, Loss=1.614e-03, PDE=7.402e-04, BC=2.331e-05,7.480e-07, IC=7.436e-04,1.063e-04, D*=5.99e-02,1.40e-03, lr=9.57e-05]\n"
     ]
    },
    {
     "name": "stdout",
     "output_type": "stream",
     "text": [
      "R^2 Error: {'Ni': 0.035, 'SiC': 0.007, 'C': 0.041, 'NiSi': 0.116, 'NiSi2': 0.094}\n",
      "Inf Error: {'Ni': 0.037, 'SiC': 0.009, 'C': 0.096, 'NiSi': 0.206, 'NiSi2': 0.187}\n",
      "Mean Error: (0.05869350995641538, 0.10677084288854725)\n",
      "模型已保存至 ./Results/Fourier_PINN_[64]x6/model_save/Fourier_PINN_[64]x6_40000.pth\n",
      "Epoch: 9/10----------------\n"
     ]
    },
    {
     "name": "stderr",
     "output_type": "stream",
     "text": [
      "100%|██████████| 5000/5000 [09:12<00:00,  9.05it/s, Loss=4.278e-04, PDE=2.119e-04, BC=2.129e-06,3.331e-07, IC=1.392e-04,7.423e-05, D*=5.99e-02,1.25e-03, lr=2.46e-05]\n"
     ]
    },
    {
     "name": "stdout",
     "output_type": "stream",
     "text": [
      "R^2 Error: {'Ni': 0.03, 'SiC': 0.01, 'C': 0.037, 'NiSi': 0.108, 'NiSi2': 0.082}\n",
      "Inf Error: {'Ni': 0.036, 'SiC': 0.013, 'C': 0.09, 'NiSi': 0.185, 'NiSi2': 0.15}\n",
      "Mean Error: (0.05368767301164895, 0.09481071522888422)\n",
      "模型已保存至 ./Results/Fourier_PINN_[64]x6/model_save/Fourier_PINN_[64]x6_45000.pth\n",
      "Epoch: 10/10----------------\n"
     ]
    },
    {
     "name": "stderr",
     "output_type": "stream",
     "text": [
      "100%|██████████| 5000/5000 [09:12<00:00,  9.04it/s, Loss=3.379e-04, PDE=1.899e-04, BC=1.878e-06,2.500e-07, IC=7.871e-05,6.711e-05, D*=5.99e-02,1.19e-03, lr=1.01e-08]\n"
     ]
    },
    {
     "name": "stdout",
     "output_type": "stream",
     "text": [
      "R^2 Error: {'Ni': 0.03, 'SiC': 0.011, 'C': 0.036, 'NiSi': 0.106, 'NiSi2': 0.081}\n",
      "Inf Error: {'Ni': 0.037, 'SiC': 0.014, 'C': 0.088, 'NiSi': 0.179, 'NiSi2': 0.144}\n",
      "Mean Error: (0.05277658718579568, 0.09234778646538173)\n",
      "模型已保存至 ./Results/Fourier_PINN_[64]x6/model_save/Fourier_PINN_[64]x6_50000.pth\n",
      "Training time: 5611.90s-------------------------\n",
      "Fourier_PINN_[128]x5:\n",
      "Epoch: 1/10----------------\n"
     ]
    },
    {
     "name": "stderr",
     "output_type": "stream",
     "text": [
      "100%|██████████| 5000/5000 [11:29<00:00,  7.25it/s, Loss=2.449e-02, PDE=5.387e-03, BC=6.343e-03,2.742e-06, IC=1.216e-02,5.894e-04, D*=5.99e-02,3.14e-03, lr=9.76e-04]\n"
     ]
    },
    {
     "name": "stdout",
     "output_type": "stream",
     "text": [
      "R^2 Error: {'Ni': 0.109, 'SiC': 0.022, 'C': 0.082, 'NiSi': 0.247, 'NiSi2': 0.198}\n",
      "Inf Error: {'Ni': 0.102, 'SiC': 0.038, 'C': 0.144, 'NiSi': 0.405, 'NiSi2': 0.316}\n",
      "Mean Error: (0.13141819981999753, 0.20089795619318576)\n",
      "模型已保存至 ./Results/Fourier_PINN_[128]x5/model_save/Fourier_PINN_[128]x5_5000.pth\n",
      "Epoch: 2/10----------------\n"
     ]
    },
    {
     "name": "stderr",
     "output_type": "stream",
     "text": [
      "100%|██████████| 5000/5000 [12:47<00:00,  6.52it/s, Loss=1.610e-02, PDE=4.827e-03, BC=1.205e-03,3.440e-06, IC=9.624e-03,4.375e-04, D*=5.99e-02,2.35e-03, lr=9.05e-04]\n"
     ]
    },
    {
     "name": "stdout",
     "output_type": "stream",
     "text": [
      "R^2 Error: {'Ni': 0.064, 'SiC': 0.019, 'C': 0.05, 'NiSi': 0.234, 'NiSi2': 0.206}\n",
      "Inf Error: {'Ni': 0.063, 'SiC': 0.02, 'C': 0.113, 'NiSi': 0.385, 'NiSi2': 0.382}\n",
      "Mean Error: (0.11442781661059684, 0.19249630971577433)\n",
      "模型已保存至 ./Results/Fourier_PINN_[128]x5/model_save/Fourier_PINN_[128]x5_10000.pth\n",
      "Epoch: 3/10----------------\n"
     ]
    },
    {
     "name": "stderr",
     "output_type": "stream",
     "text": [
      "100%|██████████| 5000/5000 [11:58<00:00,  6.96it/s, Loss=1.747e-02, PDE=5.597e-03, BC=2.743e-03,2.031e-06, IC=8.779e-03,3.452e-04, D*=6.00e-02,2.28e-03, lr=7.94e-04]\n"
     ]
    },
    {
     "name": "stdout",
     "output_type": "stream",
     "text": [
      "R^2 Error: {'Ni': 0.081, 'SiC': 0.013, 'C': 0.038, 'NiSi': 0.198, 'NiSi2': 0.195}\n",
      "Inf Error: {'Ni': 0.079, 'SiC': 0.02, 'C': 0.092, 'NiSi': 0.341, 'NiSi2': 0.43}\n",
      "Mean Error: (0.10497897204047393, 0.19239362184113995)\n",
      "模型已保存至 ./Results/Fourier_PINN_[128]x5/model_save/Fourier_PINN_[128]x5_15000.pth\n",
      "Epoch: 4/10----------------\n"
     ]
    },
    {
     "name": "stderr",
     "output_type": "stream",
     "text": [
      "100%|██████████| 5000/5000 [12:17<00:00,  6.78it/s, Loss=1.672e-02, PDE=2.087e-03, BC=1.217e-03,2.715e-06, IC=1.313e-02,2.859e-04, D*=6.00e-02,2.16e-03, lr=6.55e-04]\n"
     ]
    },
    {
     "name": "stdout",
     "output_type": "stream",
     "text": [
      "R^2 Error: {'Ni': 0.081, 'SiC': 0.029, 'C': 0.083, 'NiSi': 0.228, 'NiSi2': 0.275}\n",
      "Inf Error: {'Ni': 0.075, 'SiC': 0.029, 'C': 0.131, 'NiSi': 0.388, 'NiSi2': 0.623}\n",
      "Mean Error: (0.1391409363484981, 0.24949392497272962)\n",
      "模型已保存至 ./Results/Fourier_PINN_[128]x5/model_save/Fourier_PINN_[128]x5_20000.pth\n",
      "Epoch: 5/10----------------\n"
     ]
    },
    {
     "name": "stderr",
     "output_type": "stream",
     "text": [
      "100%|██████████| 5000/5000 [12:07<00:00,  6.87it/s, Loss=2.487e-02, PDE=1.741e-02, BC=5.121e-05,1.958e-06, IC=7.144e-03,2.597e-04, D*=5.99e-02,2.11e-03, lr=5.00e-04]\n"
     ]
    },
    {
     "name": "stdout",
     "output_type": "stream",
     "text": [
      "R^2 Error: {'Ni': 0.075, 'SiC': 0.013, 'C': 0.038, 'NiSi': 0.155, 'NiSi2': 0.148}\n",
      "Inf Error: {'Ni': 0.073, 'SiC': 0.02, 'C': 0.082, 'NiSi': 0.301, 'NiSi2': 0.344}\n",
      "Mean Error: (0.08595070457951573, 0.16405734830959612)\n",
      "模型已保存至 ./Results/Fourier_PINN_[128]x5/model_save/Fourier_PINN_[128]x5_25000.pth\n",
      "Epoch: 6/10----------------\n"
     ]
    },
    {
     "name": "stderr",
     "output_type": "stream",
     "text": [
      "100%|██████████| 5000/5000 [12:10<00:00,  6.85it/s, Loss=6.697e-03, PDE=2.412e-03, BC=2.400e-04,2.494e-06, IC=3.838e-03,2.036e-04, D*=5.99e-02,1.73e-03, lr=3.46e-04]\n"
     ]
    },
    {
     "name": "stdout",
     "output_type": "stream",
     "text": [
      "R^2 Error: {'Ni': 0.054, 'SiC': 0.007, 'C': 0.027, 'NiSi': 0.139, 'NiSi2': 0.127}\n",
      "Inf Error: {'Ni': 0.056, 'SiC': 0.012, 'C': 0.069, 'NiSi': 0.286, 'NiSi2': 0.345}\n",
      "Mean Error: (0.07096536604863271, 0.15351875849605304)\n",
      "模型已保存至 ./Results/Fourier_PINN_[128]x5/model_save/Fourier_PINN_[128]x5_30000.pth\n",
      "Epoch: 7/10----------------\n"
     ]
    },
    {
     "name": "stderr",
     "output_type": "stream",
     "text": [
      "100%|██████████| 5000/5000 [11:34<00:00,  7.20it/s, Loss=8.025e-03, PDE=5.043e-03, BC=6.539e-04,3.543e-07, IC=2.193e-03,1.344e-04, D*=6.00e-02,1.48e-03, lr=2.06e-04]\n"
     ]
    },
    {
     "name": "stdout",
     "output_type": "stream",
     "text": [
      "R^2 Error: {'Ni': 0.052, 'SiC': 0.007, 'C': 0.024, 'NiSi': 0.118, 'NiSi2': 0.117}\n",
      "Inf Error: {'Ni': 0.054, 'SiC': 0.01, 'C': 0.056, 'NiSi': 0.244, 'NiSi2': 0.323}\n",
      "Mean Error: (0.0635898238825219, 0.13740398915897628)\n",
      "模型已保存至 ./Results/Fourier_PINN_[128]x5/model_save/Fourier_PINN_[128]x5_35000.pth\n",
      "Epoch: 8/10----------------\n"
     ]
    },
    {
     "name": "stderr",
     "output_type": "stream",
     "text": [
      "100%|██████████| 5000/5000 [11:27<00:00,  7.27it/s, Loss=1.038e-03, PDE=4.659e-04, BC=9.439e-06,2.010e-07, IC=4.766e-04,8.601e-05, D*=6.00e-02,1.04e-03, lr=9.57e-05]\n"
     ]
    },
    {
     "name": "stdout",
     "output_type": "stream",
     "text": [
      "R^2 Error: {'Ni': 0.04, 'SiC': 0.007, 'C': 0.021, 'NiSi': 0.089, 'NiSi2': 0.094}\n",
      "Inf Error: {'Ni': 0.043, 'SiC': 0.01, 'C': 0.047, 'NiSi': 0.193, 'NiSi2': 0.263}\n",
      "Mean Error: (0.05025717104749559, 0.11102848466352482)\n",
      "模型已保存至 ./Results/Fourier_PINN_[128]x5/model_save/Fourier_PINN_[128]x5_40000.pth\n",
      "Epoch: 9/10----------------\n"
     ]
    },
    {
     "name": "stderr",
     "output_type": "stream",
     "text": [
      "100%|██████████| 5000/5000 [11:23<00:00,  7.31it/s, Loss=2.217e-04, PDE=9.989e-05, BC=2.054e-06,1.352e-07, IC=7.352e-05,4.609e-05, D*=6.00e-02,7.40e-04, lr=2.46e-05]\n"
     ]
    },
    {
     "name": "stdout",
     "output_type": "stream",
     "text": [
      "R^2 Error: {'Ni': 0.034, 'SiC': 0.012, 'C': 0.028, 'NiSi': 0.079, 'NiSi2': 0.085}\n",
      "Inf Error: {'Ni': 0.035, 'SiC': 0.017, 'C': 0.039, 'NiSi': 0.16, 'NiSi2': 0.222}\n",
      "Mean Error: (0.04761382346962194, 0.09457059687516964)\n",
      "模型已保存至 ./Results/Fourier_PINN_[128]x5/model_save/Fourier_PINN_[128]x5_45000.pth\n",
      "Epoch: 10/10----------------\n"
     ]
    },
    {
     "name": "stderr",
     "output_type": "stream",
     "text": [
      "100%|██████████| 5000/5000 [11:20<00:00,  7.35it/s, Loss=1.660e-04, PDE=8.451e-05, BC=1.697e-06,1.317e-07, IC=4.202e-05,3.766e-05, D*=6.00e-02,6.84e-04, lr=1.01e-08]\n"
     ]
    },
    {
     "name": "stdout",
     "output_type": "stream",
     "text": [
      "R^2 Error: {'Ni': 0.033, 'SiC': 0.013, 'C': 0.029, 'NiSi': 0.076, 'NiSi2': 0.086}\n",
      "Inf Error: {'Ni': 0.034, 'SiC': 0.018, 'C': 0.037, 'NiSi': 0.152, 'NiSi2': 0.221}\n",
      "Mean Error: (0.04768773074282167, 0.09236128399856279)\n",
      "模型已保存至 ./Results/Fourier_PINN_[128]x5/model_save/Fourier_PINN_[128]x5_50000.pth\n",
      "Training time: 7135.89s-------------------------\n",
      "Fourier_PINN_[96]x5:\n",
      "Epoch: 1/10----------------\n"
     ]
    },
    {
     "name": "stderr",
     "output_type": "stream",
     "text": [
      "100%|██████████| 5000/5000 [10:11<00:00,  8.18it/s, Loss=4.770e-02, PDE=1.337e-02, BC=1.337e-03,8.049e-06, IC=3.198e-02,1.008e-03, D*=5.99e-02,4.40e-03, lr=9.76e-04]\n"
     ]
    },
    {
     "name": "stdout",
     "output_type": "stream",
     "text": [
      "R^2 Error: {'Ni': 0.128, 'SiC': 0.05, 'C': 0.085, 'NiSi': 0.266, 'NiSi2': 0.235}\n",
      "Inf Error: {'Ni': 0.118, 'SiC': 0.044, 'C': 0.111, 'NiSi': 0.388, 'NiSi2': 0.332}\n",
      "Mean Error: (0.15284681338079867, 0.19856401432357057)\n",
      "模型已保存至 ./Results/Fourier_PINN_[96]x5/model_save/Fourier_PINN_[96]x5_5000.pth\n",
      "Epoch: 2/10----------------\n"
     ]
    },
    {
     "name": "stderr",
     "output_type": "stream",
     "text": [
      "100%|██████████| 5000/5000 [10:14<00:00,  8.14it/s, Loss=2.378e-02, PDE=1.326e-02, BC=1.824e-03,3.590e-06, IC=8.336e-03,3.610e-04, D*=5.99e-02,2.42e-03, lr=9.05e-04]\n"
     ]
    },
    {
     "name": "stdout",
     "output_type": "stream",
     "text": [
      "R^2 Error: {'Ni': 0.095, 'SiC': 0.025, 'C': 0.1, 'NiSi': 0.23, 'NiSi2': 0.217}\n",
      "Inf Error: {'Ni': 0.086, 'SiC': 0.027, 'C': 0.123, 'NiSi': 0.382, 'NiSi2': 0.421}\n",
      "Mean Error: (0.13328881707164225, 0.20761465597778903)\n",
      "模型已保存至 ./Results/Fourier_PINN_[96]x5/model_save/Fourier_PINN_[96]x5_10000.pth\n",
      "Epoch: 3/10----------------\n"
     ]
    },
    {
     "name": "stderr",
     "output_type": "stream",
     "text": [
      "100%|██████████| 5000/5000 [10:15<00:00,  8.13it/s, Loss=1.401e-02, PDE=5.314e-03, BC=2.996e-04,7.215e-06, IC=8.076e-03,3.114e-04, D*=5.99e-02,2.38e-03, lr=7.94e-04]\n"
     ]
    },
    {
     "name": "stdout",
     "output_type": "stream",
     "text": [
      "R^2 Error: {'Ni': 0.079, 'SiC': 0.018, 'C': 0.053, 'NiSi': 0.189, 'NiSi2': 0.162}\n",
      "Inf Error: {'Ni': 0.077, 'SiC': 0.022, 'C': 0.088, 'NiSi': 0.334, 'NiSi2': 0.333}\n",
      "Mean Error: (0.10030905856671173, 0.17087331716139045)\n",
      "模型已保存至 ./Results/Fourier_PINN_[96]x5/model_save/Fourier_PINN_[96]x5_15000.pth\n",
      "Epoch: 4/10----------------\n"
     ]
    },
    {
     "name": "stderr",
     "output_type": "stream",
     "text": [
      "100%|██████████| 5000/5000 [10:18<00:00,  8.09it/s, Loss=2.717e-02, PDE=9.970e-03, BC=7.122e-04,9.478e-07, IC=1.610e-02,3.908e-04, D*=5.99e-02,2.31e-03, lr=6.55e-04]\n"
     ]
    },
    {
     "name": "stdout",
     "output_type": "stream",
     "text": [
      "R^2 Error: {'Ni': 0.103, 'SiC': 0.022, 'C': 0.098, 'NiSi': 0.215, 'NiSi2': 0.197}\n",
      "Inf Error: {'Ni': 0.099, 'SiC': 0.034, 'C': 0.11, 'NiSi': 0.34, 'NiSi2': 0.383}\n",
      "Mean Error: (0.12702822756817103, 0.19327748513137394)\n",
      "模型已保存至 ./Results/Fourier_PINN_[96]x5/model_save/Fourier_PINN_[96]x5_20000.pth\n",
      "Epoch: 5/10----------------\n"
     ]
    },
    {
     "name": "stderr",
     "output_type": "stream",
     "text": [
      "100%|██████████| 5000/5000 [10:18<00:00,  8.08it/s, Loss=1.149e-02, PDE=3.469e-03, BC=3.447e-03,7.481e-07, IC=4.330e-03,2.390e-04, D*=5.99e-02,1.95e-03, lr=5.00e-04]\n"
     ]
    },
    {
     "name": "stdout",
     "output_type": "stream",
     "text": [
      "R^2 Error: {'Ni': 0.054, 'SiC': 0.014, 'C': 0.053, 'NiSi': 0.156, 'NiSi2': 0.148}\n",
      "Inf Error: {'Ni': 0.056, 'SiC': 0.015, 'C': 0.098, 'NiSi': 0.287, 'NiSi2': 0.347}\n",
      "Mean Error: (0.08506255936142808, 0.16080708039022443)\n",
      "模型已保存至 ./Results/Fourier_PINN_[96]x5/model_save/Fourier_PINN_[96]x5_25000.pth\n",
      "Epoch: 6/10----------------\n"
     ]
    },
    {
     "name": "stderr",
     "output_type": "stream",
     "text": [
      "100%|██████████| 5000/5000 [10:18<00:00,  8.08it/s, Loss=1.496e-02, PDE=1.110e-02, BC=3.908e-05,2.773e-06, IC=3.600e-03,2.135e-04, D*=5.99e-02,1.85e-03, lr=3.46e-04]\n"
     ]
    },
    {
     "name": "stdout",
     "output_type": "stream",
     "text": [
      "R^2 Error: {'Ni': 0.045, 'SiC': 0.01, 'C': 0.049, 'NiSi': 0.141, 'NiSi2': 0.127}\n",
      "Inf Error: {'Ni': 0.048, 'SiC': 0.012, 'C': 0.092, 'NiSi': 0.268, 'NiSi2': 0.313}\n",
      "Mean Error: (0.07452947888510571, 0.14674947009005349)\n",
      "模型已保存至 ./Results/Fourier_PINN_[96]x5/model_save/Fourier_PINN_[96]x5_30000.pth\n",
      "Epoch: 7/10----------------\n"
     ]
    },
    {
     "name": "stderr",
     "output_type": "stream",
     "text": [
      "100%|██████████| 5000/5000 [10:17<00:00,  8.10it/s, Loss=4.661e-03, PDE=2.265e-03, BC=3.768e-04,4.850e-07, IC=1.881e-03,1.378e-04, D*=5.99e-02,1.57e-03, lr=2.06e-04]\n"
     ]
    },
    {
     "name": "stdout",
     "output_type": "stream",
     "text": [
      "R^2 Error: {'Ni': 0.04, 'SiC': 0.009, 'C': 0.038, 'NiSi': 0.138, 'NiSi2': 0.128}\n",
      "Inf Error: {'Ni': 0.04, 'SiC': 0.011, 'C': 0.089, 'NiSi': 0.264, 'NiSi2': 0.322}\n",
      "Mean Error: (0.07062952693376742, 0.14520683980283838)\n",
      "模型已保存至 ./Results/Fourier_PINN_[96]x5/model_save/Fourier_PINN_[96]x5_35000.pth\n",
      "Epoch: 8/10----------------\n"
     ]
    },
    {
     "name": "stderr",
     "output_type": "stream",
     "text": [
      "100%|██████████| 5000/5000 [10:13<00:00,  8.15it/s, Loss=7.475e-04, PDE=3.720e-04, BC=1.181e-05,3.325e-07, IC=3.113e-04,5.207e-05, D*=5.99e-02,1.06e-03, lr=9.57e-05]\n"
     ]
    },
    {
     "name": "stdout",
     "output_type": "stream",
     "text": [
      "R^2 Error: {'Ni': 0.036, 'SiC': 0.01, 'C': 0.034, 'NiSi': 0.129, 'NiSi2': 0.115}\n",
      "Inf Error: {'Ni': 0.035, 'SiC': 0.011, 'C': 0.081, 'NiSi': 0.247, 'NiSi2': 0.291}\n",
      "Mean Error: (0.06492713013314799, 0.13308647699147497)\n",
      "模型已保存至 ./Results/Fourier_PINN_[96]x5/model_save/Fourier_PINN_[96]x5_40000.pth\n",
      "Epoch: 9/10----------------\n"
     ]
    },
    {
     "name": "stderr",
     "output_type": "stream",
     "text": [
      "100%|██████████| 5000/5000 [10:14<00:00,  8.13it/s, Loss=2.038e-04, PDE=1.122e-04, BC=1.737e-06,2.931e-07, IC=5.401e-05,3.553e-05, D*=6.00e-02,8.47e-04, lr=2.46e-05]\n"
     ]
    },
    {
     "name": "stdout",
     "output_type": "stream",
     "text": [
      "R^2 Error: {'Ni': 0.033, 'SiC': 0.011, 'C': 0.032, 'NiSi': 0.124, 'NiSi2': 0.107}\n",
      "Inf Error: {'Ni': 0.032, 'SiC': 0.014, 'C': 0.078, 'NiSi': 0.233, 'NiSi2': 0.266}\n",
      "Mean Error: (0.06156103654250793, 0.12456422412326114)\n",
      "模型已保存至 ./Results/Fourier_PINN_[96]x5/model_save/Fourier_PINN_[96]x5_45000.pth\n",
      "Epoch: 10/10----------------\n"
     ]
    },
    {
     "name": "stderr",
     "output_type": "stream",
     "text": [
      "100%|██████████| 5000/5000 [10:15<00:00,  8.12it/s, Loss=1.596e-04, PDE=9.574e-05, BC=1.551e-06,2.485e-07, IC=2.969e-05,3.237e-05, D*=6.00e-02,7.94e-04, lr=1.01e-08]\n"
     ]
    },
    {
     "name": "stdout",
     "output_type": "stream",
     "text": [
      "R^2 Error: {'Ni': 0.033, 'SiC': 0.012, 'C': 0.031, 'NiSi': 0.123, 'NiSi2': 0.107}\n",
      "Inf Error: {'Ni': 0.031, 'SiC': 0.015, 'C': 0.077, 'NiSi': 0.23, 'NiSi2': 0.264}\n",
      "Mean Error: (0.061235697758002416, 0.12357290511333803)\n",
      "模型已保存至 ./Results/Fourier_PINN_[96]x5/model_save/Fourier_PINN_[96]x5_50000.pth\n",
      "Training time: 6175.62s-------------------------\n",
      "Fourier_PINN_[64]x5:\n",
      "Epoch: 1/10----------------\n"
     ]
    },
    {
     "name": "stderr",
     "output_type": "stream",
     "text": [
      "100%|██████████| 5000/5000 [09:14<00:00,  9.01it/s, Loss=2.015e-02, PDE=7.134e-03, BC=1.200e-03,2.436e-05, IC=1.128e-02,5.110e-04, D*=5.99e-02,3.30e-03, lr=9.76e-04]\n"
     ]
    },
    {
     "name": "stdout",
     "output_type": "stream",
     "text": [
      "R^2 Error: {'Ni': 0.08, 'SiC': 0.023, 'C': 0.113, 'NiSi': 0.252, 'NiSi2': 0.234}\n",
      "Inf Error: {'Ni': 0.071, 'SiC': 0.03, 'C': 0.171, 'NiSi': 0.359, 'NiSi2': 0.339}\n",
      "Mean Error: (0.1404244302508706, 0.19398097691494445)\n",
      "模型已保存至 ./Results/Fourier_PINN_[64]x5/model_save/Fourier_PINN_[64]x5_5000.pth\n",
      "Epoch: 2/10----------------\n"
     ]
    },
    {
     "name": "stderr",
     "output_type": "stream",
     "text": [
      "100%|██████████| 5000/5000 [09:24<00:00,  8.85it/s, Loss=2.649e-02, PDE=1.519e-02, BC=1.098e-03,2.145e-04, IC=9.557e-03,4.313e-04, D*=5.99e-02,3.16e-03, lr=9.05e-04]\n"
     ]
    },
    {
     "name": "stdout",
     "output_type": "stream",
     "text": [
      "R^2 Error: {'Ni': 0.115, 'SiC': 0.026, 'C': 0.111, 'NiSi': 0.233, 'NiSi2': 0.216}\n",
      "Inf Error: {'Ni': 0.106, 'SiC': 0.037, 'C': 0.137, 'NiSi': 0.305, 'NiSi2': 0.302}\n",
      "Mean Error: (0.14021423657782223, 0.1774752547154009)\n",
      "模型已保存至 ./Results/Fourier_PINN_[64]x5/model_save/Fourier_PINN_[64]x5_10000.pth\n",
      "Epoch: 3/10----------------\n"
     ]
    },
    {
     "name": "stderr",
     "output_type": "stream",
     "text": [
      "100%|██████████| 5000/5000 [09:30<00:00,  8.76it/s, Loss=2.759e-02, PDE=1.089e-02, BC=2.161e-03,2.273e-05, IC=1.415e-02,3.581e-04, D*=5.99e-02,3.02e-03, lr=7.94e-04]\n"
     ]
    },
    {
     "name": "stdout",
     "output_type": "stream",
     "text": [
      "R^2 Error: {'Ni': 0.088, 'SiC': 0.023, 'C': 0.082, 'NiSi': 0.186, 'NiSi2': 0.184}\n",
      "Inf Error: {'Ni': 0.083, 'SiC': 0.034, 'C': 0.131, 'NiSi': 0.28, 'NiSi2': 0.283}\n",
      "Mean Error: (0.11295361008567606, 0.16214880661022105)\n",
      "模型已保存至 ./Results/Fourier_PINN_[64]x5/model_save/Fourier_PINN_[64]x5_15000.pth\n",
      "Epoch: 4/10----------------\n"
     ]
    },
    {
     "name": "stderr",
     "output_type": "stream",
     "text": [
      "100%|██████████| 5000/5000 [09:30<00:00,  8.77it/s, Loss=2.274e-02, PDE=1.076e-02, BC=5.545e-03,7.884e-06, IC=6.344e-03,8.275e-05, D*=5.99e-02,1.16e-03, lr=6.55e-04]\n"
     ]
    },
    {
     "name": "stdout",
     "output_type": "stream",
     "text": [
      "R^2 Error: {'Ni': 0.081, 'SiC': 0.019, 'C': 0.071, 'NiSi': 0.134, 'NiSi2': 0.161}\n",
      "Inf Error: {'Ni': 0.084, 'SiC': 0.02, 'C': 0.068, 'NiSi': 0.211, 'NiSi2': 0.243}\n",
      "Mean Error: (0.09319318458533372, 0.12510021201472293)\n",
      "模型已保存至 ./Results/Fourier_PINN_[64]x5/model_save/Fourier_PINN_[64]x5_20000.pth\n",
      "Epoch: 5/10----------------\n"
     ]
    },
    {
     "name": "stderr",
     "output_type": "stream",
     "text": [
      "100%|██████████| 5000/5000 [09:22<00:00,  8.89it/s, Loss=1.665e-02, PDE=3.079e-03, BC=8.381e-05,2.657e-06, IC=1.338e-02,1.056e-04, D*=5.99e-02,5.85e-04, lr=5.00e-04]\n"
     ]
    },
    {
     "name": "stdout",
     "output_type": "stream",
     "text": [
      "R^2 Error: {'Ni': 0.115, 'SiC': 0.018, 'C': 0.083, 'NiSi': 0.139, 'NiSi2': 0.146}\n",
      "Inf Error: {'Ni': 0.117, 'SiC': 0.028, 'C': 0.124, 'NiSi': 0.207, 'NiSi2': 0.239}\n",
      "Mean Error: (0.10019869560639694, 0.14292006623461484)\n",
      "模型已保存至 ./Results/Fourier_PINN_[64]x5/model_save/Fourier_PINN_[64]x5_25000.pth\n",
      "Epoch: 6/10----------------\n"
     ]
    },
    {
     "name": "stderr",
     "output_type": "stream",
     "text": [
      "100%|██████████| 5000/5000 [09:23<00:00,  8.87it/s, Loss=1.235e-02, PDE=3.087e-04, BC=6.917e-06,3.657e-07, IC=1.197e-02,6.344e-05, D*=6.00e-02,5.14e-04, lr=3.46e-04]\n"
     ]
    },
    {
     "name": "stdout",
     "output_type": "stream",
     "text": [
      "R^2 Error: {'Ni': 0.103, 'SiC': 0.016, 'C': 0.088, 'NiSi': 0.115, 'NiSi2': 0.127}\n",
      "Inf Error: {'Ni': 0.103, 'SiC': 0.02, 'C': 0.119, 'NiSi': 0.163, 'NiSi2': 0.214}\n",
      "Mean Error: (0.08979758208318037, 0.12363883135812612)\n",
      "模型已保存至 ./Results/Fourier_PINN_[64]x5/model_save/Fourier_PINN_[64]x5_30000.pth\n",
      "Epoch: 7/10----------------\n"
     ]
    },
    {
     "name": "stderr",
     "output_type": "stream",
     "text": [
      "100%|██████████| 5000/5000 [09:25<00:00,  8.84it/s, Loss=1.604e-02, PDE=1.557e-03, BC=3.278e-04,1.787e-06, IC=1.405e-02,9.856e-05, D*=6.00e-02,8.11e-04, lr=2.06e-04]\n"
     ]
    },
    {
     "name": "stdout",
     "output_type": "stream",
     "text": [
      "R^2 Error: {'Ni': 0.103, 'SiC': 0.018, 'C': 0.095, 'NiSi': 0.132, 'NiSi2': 0.135}\n",
      "Inf Error: {'Ni': 0.104, 'SiC': 0.025, 'C': 0.132, 'NiSi': 0.192, 'NiSi2': 0.227}\n",
      "Mean Error: (0.09679203858165975, 0.13597569633360337)\n",
      "模型已保存至 ./Results/Fourier_PINN_[64]x5/model_save/Fourier_PINN_[64]x5_35000.pth\n",
      "Epoch: 8/10----------------\n"
     ]
    },
    {
     "name": "stderr",
     "output_type": "stream",
     "text": [
      "100%|██████████| 5000/5000 [09:26<00:00,  8.83it/s, Loss=8.801e-03, PDE=5.757e-04, BC=9.209e-06,8.415e-07, IC=8.160e-03,5.559e-05, D*=6.00e-02,5.46e-04, lr=9.57e-05]\n"
     ]
    },
    {
     "name": "stdout",
     "output_type": "stream",
     "text": [
      "R^2 Error: {'Ni': 0.092, 'SiC': 0.014, 'C': 0.07, 'NiSi': 0.107, 'NiSi2': 0.117}\n",
      "Inf Error: {'Ni': 0.093, 'SiC': 0.018, 'C': 0.1, 'NiSi': 0.153, 'NiSi2': 0.194}\n",
      "Mean Error: (0.0799858102473368, 0.11162819955720157)\n",
      "模型已保存至 ./Results/Fourier_PINN_[64]x5/model_save/Fourier_PINN_[64]x5_40000.pth\n",
      "Epoch: 9/10----------------\n"
     ]
    },
    {
     "name": "stderr",
     "output_type": "stream",
     "text": [
      "100%|██████████| 5000/5000 [09:35<00:00,  8.69it/s, Loss=5.195e-03, PDE=1.590e-03, BC=6.734e-06,8.324e-07, IC=3.555e-03,4.255e-05, D*=6.00e-02,5.25e-04, lr=2.46e-05]\n"
     ]
    },
    {
     "name": "stdout",
     "output_type": "stream",
     "text": [
      "R^2 Error: {'Ni': 0.083, 'SiC': 0.012, 'C': 0.071, 'NiSi': 0.101, 'NiSi2': 0.107}\n",
      "Inf Error: {'Ni': 0.084, 'SiC': 0.013, 'C': 0.095, 'NiSi': 0.141, 'NiSi2': 0.178}\n",
      "Mean Error: (0.07458808686332893, 0.10229921107704018)\n",
      "模型已保存至 ./Results/Fourier_PINN_[64]x5/model_save/Fourier_PINN_[64]x5_45000.pth\n",
      "Epoch: 10/10----------------\n"
     ]
    },
    {
     "name": "stderr",
     "output_type": "stream",
     "text": [
      "100%|██████████| 5000/5000 [09:24<00:00,  8.85it/s, Loss=3.015e-03, PDE=5.784e-04, BC=6.467e-06,8.578e-07, IC=2.391e-03,3.742e-05, D*=6.00e-02,4.95e-04, lr=1.01e-08]\n"
     ]
    },
    {
     "name": "stdout",
     "output_type": "stream",
     "text": [
      "R^2 Error: {'Ni': 0.081, 'SiC': 0.011, 'C': 0.069, 'NiSi': 0.097, 'NiSi2': 0.103}\n",
      "Inf Error: {'Ni': 0.082, 'SiC': 0.013, 'C': 0.092, 'NiSi': 0.134, 'NiSi2': 0.172}\n",
      "Mean Error: (0.07234390948428618, 0.09872508857294404)\n",
      "模型已保存至 ./Results/Fourier_PINN_[64]x5/model_save/Fourier_PINN_[64]x5_50000.pth\n",
      "Training time: 5681.87s-------------------------\n",
      "Fourier_PINN_[128]x4:\n",
      "Epoch: 1/10----------------\n"
     ]
    },
    {
     "name": "stderr",
     "output_type": "stream",
     "text": [
      "100%|██████████| 5000/5000 [11:16<00:00,  7.39it/s, Loss=3.112e-02, PDE=4.781e-03, BC=5.248e-03,9.740e-06, IC=2.050e-02,5.820e-04, D*=5.99e-02,3.96e-03, lr=9.76e-04]\n"
     ]
    },
    {
     "name": "stdout",
     "output_type": "stream",
     "text": [
      "R^2 Error: {'Ni': 0.09, 'SiC': 0.058, 'C': 0.088, 'NiSi': 0.234, 'NiSi2': 0.193}\n",
      "Inf Error: {'Ni': 0.092, 'SiC': 0.05, 'C': 0.155, 'NiSi': 0.334, 'NiSi2': 0.279}\n",
      "Mean Error: (0.13236855016264645, 0.18183567122222927)\n",
      "模型已保存至 ./Results/Fourier_PINN_[128]x4/model_save/Fourier_PINN_[128]x4_5000.pth\n",
      "Epoch: 2/10----------------\n"
     ]
    },
    {
     "name": "stderr",
     "output_type": "stream",
     "text": [
      "100%|██████████| 5000/5000 [11:15<00:00,  7.40it/s, Loss=3.413e-02, PDE=7.106e-03, BC=4.827e-03,2.697e-05, IC=2.174e-02,4.246e-04, D*=5.99e-02,3.38e-03, lr=9.05e-04]\n"
     ]
    },
    {
     "name": "stdout",
     "output_type": "stream",
     "text": [
      "R^2 Error: {'Ni': 0.087, 'SiC': 0.02, 'C': 0.069, 'NiSi': 0.207, 'NiSi2': 0.173}\n",
      "Inf Error: {'Ni': 0.085, 'SiC': 0.026, 'C': 0.118, 'NiSi': 0.338, 'NiSi2': 0.281}\n",
      "Mean Error: (0.11109940809953107, 0.1696525998224573)\n",
      "模型已保存至 ./Results/Fourier_PINN_[128]x4/model_save/Fourier_PINN_[128]x4_10000.pth\n",
      "Epoch: 3/10----------------\n"
     ]
    },
    {
     "name": "stderr",
     "output_type": "stream",
     "text": [
      "100%|██████████| 5000/5000 [11:16<00:00,  7.40it/s, Loss=1.110e-02, PDE=3.578e-03, BC=5.024e-04,9.584e-06, IC=6.698e-03,3.112e-04, D*=6.00e-02,2.46e-03, lr=7.94e-04]\n"
     ]
    },
    {
     "name": "stdout",
     "output_type": "stream",
     "text": [
      "R^2 Error: {'Ni': 0.074, 'SiC': 0.011, 'C': 0.057, 'NiSi': 0.18, 'NiSi2': 0.167}\n",
      "Inf Error: {'Ni': 0.069, 'SiC': 0.021, 'C': 0.121, 'NiSi': 0.312, 'NiSi2': 0.317}\n",
      "Mean Error: (0.09767796094887109, 0.168272267654563)\n",
      "模型已保存至 ./Results/Fourier_PINN_[128]x4/model_save/Fourier_PINN_[128]x4_15000.pth\n",
      "Epoch: 4/10----------------\n"
     ]
    },
    {
     "name": "stderr",
     "output_type": "stream",
     "text": [
      "100%|██████████| 5000/5000 [11:16<00:00,  7.40it/s, Loss=1.886e-02, PDE=4.854e-03, BC=1.049e-04,4.707e-05, IC=1.354e-02,3.073e-04, D*=6.00e-02,2.49e-03, lr=6.55e-04]\n"
     ]
    },
    {
     "name": "stdout",
     "output_type": "stream",
     "text": [
      "R^2 Error: {'Ni': 0.062, 'SiC': 0.013, 'C': 0.059, 'NiSi': 0.177, 'NiSi2': 0.145}\n",
      "Inf Error: {'Ni': 0.061, 'SiC': 0.016, 'C': 0.109, 'NiSi': 0.307, 'NiSi2': 0.308}\n",
      "Mean Error: (0.09112364448145409, 0.16020185332630008)\n",
      "模型已保存至 ./Results/Fourier_PINN_[128]x4/model_save/Fourier_PINN_[128]x4_20000.pth\n",
      "Epoch: 5/10----------------\n"
     ]
    },
    {
     "name": "stderr",
     "output_type": "stream",
     "text": [
      "100%|██████████| 5000/5000 [11:15<00:00,  7.40it/s, Loss=1.044e-02, PDE=4.262e-03, BC=5.361e-04,1.503e-06, IC=5.385e-03,2.537e-04, D*=6.00e-02,2.17e-03, lr=5.00e-04]\n"
     ]
    },
    {
     "name": "stdout",
     "output_type": "stream",
     "text": [
      "R^2 Error: {'Ni': 0.05, 'SiC': 0.008, 'C': 0.044, 'NiSi': 0.152, 'NiSi2': 0.131}\n",
      "Inf Error: {'Ni': 0.05, 'SiC': 0.016, 'C': 0.096, 'NiSi': 0.283, 'NiSi2': 0.307}\n",
      "Mean Error: (0.07716828925450116, 0.15044009471472877)\n",
      "模型已保存至 ./Results/Fourier_PINN_[128]x4/model_save/Fourier_PINN_[128]x4_25000.pth\n",
      "Epoch: 6/10----------------\n"
     ]
    },
    {
     "name": "stderr",
     "output_type": "stream",
     "text": [
      "100%|██████████| 5000/5000 [11:15<00:00,  7.40it/s, Loss=5.292e-03, PDE=1.350e-03, BC=1.085e-04,1.611e-06, IC=3.601e-03,2.304e-04, D*=6.00e-02,2.04e-03, lr=3.46e-04]\n"
     ]
    },
    {
     "name": "stdout",
     "output_type": "stream",
     "text": [
      "R^2 Error: {'Ni': 0.051, 'SiC': 0.01, 'C': 0.045, 'NiSi': 0.137, 'NiSi2': 0.13}\n",
      "Inf Error: {'Ni': 0.048, 'SiC': 0.015, 'C': 0.096, 'NiSi': 0.26, 'NiSi2': 0.323}\n",
      "Mean Error: (0.07459446022604384, 0.14856215174333715)\n",
      "模型已保存至 ./Results/Fourier_PINN_[128]x4/model_save/Fourier_PINN_[128]x4_30000.pth\n",
      "Epoch: 7/10----------------\n"
     ]
    },
    {
     "name": "stderr",
     "output_type": "stream",
     "text": [
      "100%|██████████| 5000/5000 [11:15<00:00,  7.41it/s, Loss=9.127e-03, PDE=3.549e-03, BC=6.579e-04,3.867e-06, IC=4.756e-03,1.596e-04, D*=6.00e-02,1.82e-03, lr=2.06e-04]\n"
     ]
    },
    {
     "name": "stdout",
     "output_type": "stream",
     "text": [
      "R^2 Error: {'Ni': 0.037, 'SiC': 0.006, 'C': 0.028, 'NiSi': 0.118, 'NiSi2': 0.114}\n",
      "Inf Error: {'Ni': 0.041, 'SiC': 0.008, 'C': 0.07, 'NiSi': 0.234, 'NiSi2': 0.294}\n",
      "Mean Error: (0.06070359400092899, 0.12935706923105544)\n",
      "模型已保存至 ./Results/Fourier_PINN_[128]x4/model_save/Fourier_PINN_[128]x4_35000.pth\n",
      "Epoch: 8/10----------------\n"
     ]
    },
    {
     "name": "stderr",
     "output_type": "stream",
     "text": [
      "100%|██████████| 5000/5000 [11:14<00:00,  7.41it/s, Loss=2.517e-03, PDE=6.145e-04, BC=2.381e-04,2.176e-07, IC=1.559e-03,1.049e-04, D*=6.00e-02,1.62e-03, lr=9.57e-05]\n"
     ]
    },
    {
     "name": "stdout",
     "output_type": "stream",
     "text": [
      "R^2 Error: {'Ni': 0.037, 'SiC': 0.005, 'C': 0.031, 'NiSi': 0.101, 'NiSi2': 0.082}\n",
      "Inf Error: {'Ni': 0.038, 'SiC': 0.007, 'C': 0.078, 'NiSi': 0.203, 'NiSi2': 0.215}\n",
      "Mean Error: (0.05112765187950448, 0.10805668084480302)\n",
      "模型已保存至 ./Results/Fourier_PINN_[128]x4/model_save/Fourier_PINN_[128]x4_40000.pth\n",
      "Epoch: 9/10----------------\n"
     ]
    },
    {
     "name": "stderr",
     "output_type": "stream",
     "text": [
      "100%|██████████| 5000/5000 [11:14<00:00,  7.41it/s, Loss=9.364e-04, PDE=2.057e-04, BC=1.974e-06,9.895e-08, IC=6.444e-04,8.412e-05, D*=6.00e-02,1.49e-03, lr=2.46e-05]\n"
     ]
    },
    {
     "name": "stdout",
     "output_type": "stream",
     "text": [
      "R^2 Error: {'Ni': 0.029, 'SiC': 0.008, 'C': 0.03, 'NiSi': 0.093, 'NiSi2': 0.066}\n",
      "Inf Error: {'Ni': 0.029, 'SiC': 0.011, 'C': 0.076, 'NiSi': 0.187, 'NiSi2': 0.163}\n",
      "Mean Error: (0.045344024488910555, 0.09319155952863052)\n",
      "模型已保存至 ./Results/Fourier_PINN_[128]x4/model_save/Fourier_PINN_[128]x4_45000.pth\n",
      "Epoch: 10/10----------------\n"
     ]
    },
    {
     "name": "stderr",
     "output_type": "stream",
     "text": [
      "100%|██████████| 5000/5000 [11:14<00:00,  7.41it/s, Loss=6.019e-04, PDE=1.385e-04, BC=1.827e-06,9.317e-08, IC=3.851e-04,7.646e-05, D*=6.00e-02,1.41e-03, lr=1.01e-08]\n"
     ]
    },
    {
     "name": "stdout",
     "output_type": "stream",
     "text": [
      "R^2 Error: {'Ni': 0.028, 'SiC': 0.009, 'C': 0.029, 'NiSi': 0.092, 'NiSi2': 0.064}\n",
      "Inf Error: {'Ni': 0.027, 'SiC': 0.012, 'C': 0.074, 'NiSi': 0.181, 'NiSi2': 0.154}\n",
      "Mean Error: (0.04433482134378509, 0.08974060417039409)\n",
      "模型已保存至 ./Results/Fourier_PINN_[128]x4/model_save/Fourier_PINN_[128]x4_50000.pth\n",
      "Training time: 6774.73s-------------------------\n",
      "Fourier_PINN_[96]x4:\n",
      "Epoch: 1/10----------------\n"
     ]
    },
    {
     "name": "stderr",
     "output_type": "stream",
     "text": [
      "100%|██████████| 5000/5000 [09:25<00:00,  8.84it/s, Loss=2.286e-02, PDE=6.447e-03, BC=5.207e-03,2.040e-05, IC=1.073e-02,4.515e-04, D*=5.99e-02,3.24e-03, lr=9.76e-04]\n"
     ]
    },
    {
     "name": "stdout",
     "output_type": "stream",
     "text": [
      "R^2 Error: {'Ni': 0.099, 'SiC': 0.038, 'C': 0.1, 'NiSi': 0.258, 'NiSi2': 0.201}\n",
      "Inf Error: {'Ni': 0.085, 'SiC': 0.037, 'C': 0.156, 'NiSi': 0.367, 'NiSi2': 0.323}\n",
      "Mean Error: (0.1390719726299609, 0.19360605139014425)\n",
      "模型已保存至 ./Results/Fourier_PINN_[96]x4/model_save/Fourier_PINN_[96]x4_5000.pth\n",
      "Epoch: 2/10----------------\n"
     ]
    },
    {
     "name": "stderr",
     "output_type": "stream",
     "text": [
      "100%|██████████| 5000/5000 [09:27<00:00,  8.81it/s, Loss=2.444e-02, PDE=6.222e-03, BC=4.464e-04,1.702e-05, IC=1.736e-02,3.939e-04, D*=5.99e-02,3.24e-03, lr=9.05e-04]\n"
     ]
    },
    {
     "name": "stdout",
     "output_type": "stream",
     "text": [
      "R^2 Error: {'Ni': 0.154, 'SiC': 0.051, 'C': 0.068, 'NiSi': 0.225, 'NiSi2': 0.232}\n",
      "Inf Error: {'Ni': 0.127, 'SiC': 0.051, 'C': 0.101, 'NiSi': 0.29, 'NiSi2': 0.375}\n",
      "Mean Error: (0.14608252406947128, 0.18872630497325202)\n",
      "模型已保存至 ./Results/Fourier_PINN_[96]x4/model_save/Fourier_PINN_[96]x4_10000.pth\n",
      "Epoch: 3/10----------------\n"
     ]
    },
    {
     "name": "stderr",
     "output_type": "stream",
     "text": [
      "100%|██████████| 5000/5000 [09:24<00:00,  8.86it/s, Loss=3.601e-02, PDE=8.092e-03, BC=4.235e-03,8.345e-06, IC=2.327e-02,4.107e-04, D*=5.99e-02,3.07e-03, lr=7.94e-04]\n"
     ]
    },
    {
     "name": "stdout",
     "output_type": "stream",
     "text": [
      "R^2 Error: {'Ni': 0.091, 'SiC': 0.023, 'C': 0.076, 'NiSi': 0.193, 'NiSi2': 0.228}\n",
      "Inf Error: {'Ni': 0.089, 'SiC': 0.027, 'C': 0.098, 'NiSi': 0.295, 'NiSi2': 0.464}\n",
      "Mean Error: (0.12225317786538614, 0.19452926345888386)\n",
      "模型已保存至 ./Results/Fourier_PINN_[96]x4/model_save/Fourier_PINN_[96]x4_15000.pth\n",
      "Epoch: 4/10----------------\n"
     ]
    },
    {
     "name": "stderr",
     "output_type": "stream",
     "text": [
      "100%|██████████| 5000/5000 [09:23<00:00,  8.87it/s, Loss=1.292e-02, PDE=6.666e-03, BC=2.405e-04,2.119e-05, IC=5.634e-03,3.582e-04, D*=5.99e-02,2.55e-03, lr=6.55e-04]\n"
     ]
    },
    {
     "name": "stdout",
     "output_type": "stream",
     "text": [
      "R^2 Error: {'Ni': 0.068, 'SiC': 0.028, 'C': 0.078, 'NiSi': 0.171, 'NiSi2': 0.21}\n",
      "Inf Error: {'Ni': 0.062, 'SiC': 0.03, 'C': 0.125, 'NiSi': 0.273, 'NiSi2': 0.451}\n",
      "Mean Error: (0.11111953053143948, 0.18801372351609508)\n",
      "模型已保存至 ./Results/Fourier_PINN_[96]x4/model_save/Fourier_PINN_[96]x4_20000.pth\n",
      "Epoch: 5/10----------------\n"
     ]
    },
    {
     "name": "stderr",
     "output_type": "stream",
     "text": [
      "100%|██████████| 5000/5000 [09:19<00:00,  8.93it/s, Loss=3.259e-02, PDE=2.522e-02, BC=8.052e-04,2.256e-05, IC=6.291e-03,2.462e-04, D*=5.99e-02,2.28e-03, lr=5.00e-04]\n"
     ]
    },
    {
     "name": "stdout",
     "output_type": "stream",
     "text": [
      "R^2 Error: {'Ni': 0.08, 'SiC': 0.013, 'C': 0.065, 'NiSi': 0.153, 'NiSi2': 0.174}\n",
      "Inf Error: {'Ni': 0.073, 'SiC': 0.024, 'C': 0.105, 'NiSi': 0.254, 'NiSi2': 0.383}\n",
      "Mean Error: (0.09701965172601164, 0.1678245322605511)\n",
      "模型已保存至 ./Results/Fourier_PINN_[96]x4/model_save/Fourier_PINN_[96]x4_25000.pth\n",
      "Epoch: 6/10----------------\n"
     ]
    },
    {
     "name": "stderr",
     "output_type": "stream",
     "text": [
      "100%|██████████| 5000/5000 [09:22<00:00,  8.89it/s, Loss=6.829e-03, PDE=3.340e-03, BC=2.997e-04,1.790e-06, IC=2.936e-03,2.516e-04, D*=5.99e-02,2.35e-03, lr=3.46e-04]\n"
     ]
    },
    {
     "name": "stdout",
     "output_type": "stream",
     "text": [
      "R^2 Error: {'Ni': 0.046, 'SiC': 0.008, 'C': 0.049, 'NiSi': 0.134, 'NiSi2': 0.144}\n",
      "Inf Error: {'Ni': 0.049, 'SiC': 0.009, 'C': 0.106, 'NiSi': 0.242, 'NiSi2': 0.356}\n",
      "Mean Error: (0.07609570664500445, 0.15245555757393472)\n",
      "模型已保存至 ./Results/Fourier_PINN_[96]x4/model_save/Fourier_PINN_[96]x4_30000.pth\n",
      "Epoch: 7/10----------------\n"
     ]
    },
    {
     "name": "stderr",
     "output_type": "stream",
     "text": [
      "100%|██████████| 5000/5000 [09:19<00:00,  8.94it/s, Loss=5.396e-03, PDE=2.084e-03, BC=2.365e-04,4.347e-06, IC=2.887e-03,1.842e-04, D*=5.99e-02,2.24e-03, lr=2.06e-04]\n"
     ]
    },
    {
     "name": "stdout",
     "output_type": "stream",
     "text": [
      "R^2 Error: {'Ni': 0.038, 'SiC': 0.007, 'C': 0.047, 'NiSi': 0.127, 'NiSi2': 0.125}\n",
      "Inf Error: {'Ni': 0.041, 'SiC': 0.009, 'C': 0.107, 'NiSi': 0.225, 'NiSi2': 0.318}\n",
      "Mean Error: (0.06870630406262129, 0.14026208924296912)\n",
      "模型已保存至 ./Results/Fourier_PINN_[96]x4/model_save/Fourier_PINN_[96]x4_35000.pth\n",
      "Epoch: 8/10----------------\n"
     ]
    },
    {
     "name": "stderr",
     "output_type": "stream",
     "text": [
      "100%|██████████| 5000/5000 [09:27<00:00,  8.82it/s, Loss=6.192e-03, PDE=4.619e-03, BC=2.246e-04,2.995e-07, IC=1.200e-03,1.480e-04, D*=5.99e-02,2.04e-03, lr=9.57e-05]\n"
     ]
    },
    {
     "name": "stdout",
     "output_type": "stream",
     "text": [
      "R^2 Error: {'Ni': 0.038, 'SiC': 0.007, 'C': 0.042, 'NiSi': 0.107, 'NiSi2': 0.106}\n",
      "Inf Error: {'Ni': 0.038, 'SiC': 0.008, 'C': 0.097, 'NiSi': 0.199, 'NiSi2': 0.268}\n",
      "Mean Error: (0.06003342457166323, 0.12195448946730034)\n",
      "模型已保存至 ./Results/Fourier_PINN_[96]x4/model_save/Fourier_PINN_[96]x4_40000.pth\n",
      "Epoch: 9/10----------------\n"
     ]
    },
    {
     "name": "stderr",
     "output_type": "stream",
     "text": [
      "100%|██████████| 5000/5000 [09:19<00:00,  8.94it/s, Loss=1.419e-03, PDE=3.712e-04, BC=2.312e-06,2.033e-07, IC=9.379e-04,1.075e-04, D*=6.00e-02,1.83e-03, lr=2.46e-05]\n"
     ]
    },
    {
     "name": "stdout",
     "output_type": "stream",
     "text": [
      "R^2 Error: {'Ni': 0.031, 'SiC': 0.008, 'C': 0.038, 'NiSi': 0.099, 'NiSi2': 0.085}\n",
      "Inf Error: {'Ni': 0.03, 'SiC': 0.009, 'C': 0.088, 'NiSi': 0.177, 'NiSi2': 0.208}\n",
      "Mean Error: (0.05210060835119108, 0.1026235535990307)\n",
      "模型已保存至 ./Results/Fourier_PINN_[96]x4/model_save/Fourier_PINN_[96]x4_45000.pth\n",
      "Epoch: 10/10----------------\n"
     ]
    },
    {
     "name": "stderr",
     "output_type": "stream",
     "text": [
      "100%|██████████| 5000/5000 [09:23<00:00,  8.87it/s, Loss=9.571e-04, PDE=2.114e-04, BC=1.802e-06,2.454e-07, IC=6.483e-04,9.537e-05, D*=6.00e-02,1.74e-03, lr=1.01e-08]\n"
     ]
    },
    {
     "name": "stdout",
     "output_type": "stream",
     "text": [
      "R^2 Error: {'Ni': 0.03, 'SiC': 0.008, 'C': 0.037, 'NiSi': 0.096, 'NiSi2': 0.081}\n",
      "Inf Error: {'Ni': 0.029, 'SiC': 0.01, 'C': 0.085, 'NiSi': 0.172, 'NiSi2': 0.194}\n",
      "Mean Error: (0.050402353848846074, 0.09812556686779515)\n",
      "模型已保存至 ./Results/Fourier_PINN_[96]x4/model_save/Fourier_PINN_[96]x4_50000.pth\n",
      "Training time: 5654.12s-------------------------\n",
      "Fourier_PINN_[64]x4:\n",
      "Epoch: 1/10----------------\n"
     ]
    },
    {
     "name": "stderr",
     "output_type": "stream",
     "text": [
      "100%|██████████| 5000/5000 [08:28<00:00,  9.84it/s, Loss=3.138e-02, PDE=1.704e-02, BC=6.209e-04,1.211e-04, IC=1.308e-02,5.130e-04, D*=5.99e-02,3.69e-03, lr=9.76e-04]\n"
     ]
    },
    {
     "name": "stdout",
     "output_type": "stream",
     "text": [
      "R^2 Error: {'Ni': 0.101, 'SiC': 0.019, 'C': 0.095, 'NiSi': 0.237, 'NiSi2': 0.218}\n",
      "Inf Error: {'Ni': 0.093, 'SiC': 0.031, 'C': 0.149, 'NiSi': 0.349, 'NiSi2': 0.283}\n",
      "Mean Error: (0.13394133078934017, 0.18108693525081868)\n",
      "模型已保存至 ./Results/Fourier_PINN_[64]x4/model_save/Fourier_PINN_[64]x4_5000.pth\n",
      "Epoch: 2/10----------------\n"
     ]
    },
    {
     "name": "stderr",
     "output_type": "stream",
     "text": [
      "100%|██████████| 5000/5000 [08:16<00:00, 10.06it/s, Loss=1.806e-02, PDE=7.391e-03, BC=1.692e-03,3.544e-06, IC=8.579e-03,3.944e-04, D*=5.99e-02,3.13e-03, lr=9.05e-04]\n"
     ]
    },
    {
     "name": "stdout",
     "output_type": "stream",
     "text": [
      "R^2 Error: {'Ni': 0.051, 'SiC': 0.018, 'C': 0.114, 'NiSi': 0.196, 'NiSi2': 0.188}\n",
      "Inf Error: {'Ni': 0.067, 'SiC': 0.016, 'C': 0.16, 'NiSi': 0.293, 'NiSi2': 0.285}\n",
      "Mean Error: (0.11338041707588661, 0.16397355951626005)\n",
      "模型已保存至 ./Results/Fourier_PINN_[64]x4/model_save/Fourier_PINN_[64]x4_10000.pth\n",
      "Epoch: 3/10----------------\n"
     ]
    },
    {
     "name": "stderr",
     "output_type": "stream",
     "text": [
      "100%|██████████| 5000/5000 [08:15<00:00, 10.08it/s, Loss=1.271e-02, PDE=3.189e-03, BC=1.846e-03,7.469e-06, IC=7.350e-03,3.123e-04, D*=5.99e-02,2.83e-03, lr=7.94e-04]\n"
     ]
    },
    {
     "name": "stdout",
     "output_type": "stream",
     "text": [
      "R^2 Error: {'Ni': 0.064, 'SiC': 0.017, 'C': 0.064, 'NiSi': 0.146, 'NiSi2': 0.153}\n",
      "Inf Error: {'Ni': 0.06, 'SiC': 0.014, 'C': 0.13, 'NiSi': 0.243, 'NiSi2': 0.283}\n",
      "Mean Error: (0.0888446201939122, 0.14600463330599822)\n",
      "模型已保存至 ./Results/Fourier_PINN_[64]x4/model_save/Fourier_PINN_[64]x4_15000.pth\n",
      "Epoch: 4/10----------------\n"
     ]
    },
    {
     "name": "stderr",
     "output_type": "stream",
     "text": [
      "100%|██████████| 5000/5000 [08:16<00:00, 10.08it/s, Loss=9.981e-03, PDE=2.326e-03, BC=8.079e-04,7.480e-07, IC=6.475e-03,3.705e-04, D*=5.99e-02,2.80e-03, lr=6.55e-04]\n"
     ]
    },
    {
     "name": "stdout",
     "output_type": "stream",
     "text": [
      "R^2 Error: {'Ni': 0.061, 'SiC': 0.012, 'C': 0.064, 'NiSi': 0.142, 'NiSi2': 0.145}\n",
      "Inf Error: {'Ni': 0.059, 'SiC': 0.019, 'C': 0.117, 'NiSi': 0.233, 'NiSi2': 0.293}\n",
      "Mean Error: (0.08509501060748641, 0.1443833446569447)\n",
      "模型已保存至 ./Results/Fourier_PINN_[64]x4/model_save/Fourier_PINN_[64]x4_20000.pth\n",
      "Epoch: 5/10----------------\n"
     ]
    },
    {
     "name": "stderr",
     "output_type": "stream",
     "text": [
      "100%|██████████| 5000/5000 [08:15<00:00, 10.09it/s, Loss=1.674e-02, PDE=1.126e-02, BC=1.855e-04,1.097e-05, IC=5.035e-03,2.528e-04, D*=5.99e-02,2.48e-03, lr=5.00e-04]\n"
     ]
    },
    {
     "name": "stdout",
     "output_type": "stream",
     "text": [
      "R^2 Error: {'Ni': 0.059, 'SiC': 0.012, 'C': 0.052, 'NiSi': 0.121, 'NiSi2': 0.123}\n",
      "Inf Error: {'Ni': 0.058, 'SiC': 0.014, 'C': 0.111, 'NiSi': 0.211, 'NiSi2': 0.266}\n",
      "Mean Error: (0.0735547182416596, 0.13220381114329063)\n",
      "模型已保存至 ./Results/Fourier_PINN_[64]x4/model_save/Fourier_PINN_[64]x4_25000.pth\n",
      "Epoch: 6/10----------------\n"
     ]
    },
    {
     "name": "stderr",
     "output_type": "stream",
     "text": [
      "100%|██████████| 5000/5000 [08:14<00:00, 10.11it/s, Loss=5.083e-03, PDE=1.127e-03, BC=1.048e-04,3.783e-07, IC=3.645e-03,2.064e-04, D*=6.00e-02,2.44e-03, lr=3.46e-04]\n"
     ]
    },
    {
     "name": "stdout",
     "output_type": "stream",
     "text": [
      "R^2 Error: {'Ni': 0.043, 'SiC': 0.007, 'C': 0.055, 'NiSi': 0.124, 'NiSi2': 0.115}\n",
      "Inf Error: {'Ni': 0.043, 'SiC': 0.01, 'C': 0.11, 'NiSi': 0.209, 'NiSi2': 0.263}\n",
      "Mean Error: (0.0690591542351817, 0.12706483954076483)\n",
      "模型已保存至 ./Results/Fourier_PINN_[64]x4/model_save/Fourier_PINN_[64]x4_30000.pth\n",
      "Epoch: 7/10----------------\n"
     ]
    },
    {
     "name": "stderr",
     "output_type": "stream",
     "text": [
      "100%|██████████| 5000/5000 [08:12<00:00, 10.14it/s, Loss=3.707e-03, PDE=6.651e-04, BC=4.274e-05,4.561e-07, IC=2.825e-03,1.737e-04, D*=6.00e-02,2.27e-03, lr=2.06e-04]\n"
     ]
    },
    {
     "name": "stdout",
     "output_type": "stream",
     "text": [
      "R^2 Error: {'Ni': 0.039, 'SiC': 0.008, 'C': 0.05, 'NiSi': 0.106, 'NiSi2': 0.102}\n",
      "Inf Error: {'Ni': 0.038, 'SiC': 0.009, 'C': 0.102, 'NiSi': 0.189, 'NiSi2': 0.237}\n",
      "Mean Error: (0.060869028024160256, 0.11473598338152775)\n",
      "模型已保存至 ./Results/Fourier_PINN_[64]x4/model_save/Fourier_PINN_[64]x4_35000.pth\n",
      "Epoch: 8/10----------------\n"
     ]
    },
    {
     "name": "stderr",
     "output_type": "stream",
     "text": [
      "100%|██████████| 5000/5000 [08:12<00:00, 10.15it/s, Loss=3.100e-03, PDE=5.826e-04, BC=1.068e-04,1.429e-06, IC=2.258e-03,1.515e-04, D*=6.00e-02,2.20e-03, lr=9.57e-05]\n"
     ]
    },
    {
     "name": "stdout",
     "output_type": "stream",
     "text": [
      "R^2 Error: {'Ni': 0.036, 'SiC': 0.007, 'C': 0.049, 'NiSi': 0.099, 'NiSi2': 0.094}\n",
      "Inf Error: {'Ni': 0.035, 'SiC': 0.008, 'C': 0.1, 'NiSi': 0.175, 'NiSi2': 0.217}\n",
      "Mean Error: (0.057015554674773414, 0.107076186527203)\n",
      "模型已保存至 ./Results/Fourier_PINN_[64]x4/model_save/Fourier_PINN_[64]x4_40000.pth\n",
      "Epoch: 9/10----------------\n"
     ]
    },
    {
     "name": "stderr",
     "output_type": "stream",
     "text": [
      "100%|██████████| 5000/5000 [08:17<00:00, 10.05it/s, Loss=2.154e-03, PDE=5.839e-04, BC=3.934e-06,2.108e-07, IC=1.430e-03,1.366e-04, D*=6.00e-02,2.11e-03, lr=2.46e-05]\n"
     ]
    },
    {
     "name": "stdout",
     "output_type": "stream",
     "text": [
      "R^2 Error: {'Ni': 0.033, 'SiC': 0.007, 'C': 0.047, 'NiSi': 0.094, 'NiSi2': 0.087}\n",
      "Inf Error: {'Ni': 0.033, 'SiC': 0.008, 'C': 0.099, 'NiSi': 0.167, 'NiSi2': 0.197}\n",
      "Mean Error: (0.0535961528956679, 0.1008956808052697)\n",
      "模型已保存至 ./Results/Fourier_PINN_[64]x4/model_save/Fourier_PINN_[64]x4_45000.pth\n",
      "Epoch: 10/10----------------\n"
     ]
    },
    {
     "name": "stderr",
     "output_type": "stream",
     "text": [
      "100%|██████████| 5000/5000 [08:14<00:00, 10.12it/s, Loss=1.455e-03, PDE=3.149e-04, BC=3.408e-06,2.159e-07, IC=1.008e-03,1.286e-04, D*=6.00e-02,2.06e-03, lr=1.01e-08]\n"
     ]
    },
    {
     "name": "stdout",
     "output_type": "stream",
     "text": [
      "R^2 Error: {'Ni': 0.032, 'SiC': 0.008, 'C': 0.045, 'NiSi': 0.094, 'NiSi2': 0.084}\n",
      "Inf Error: {'Ni': 0.032, 'SiC': 0.008, 'C': 0.097, 'NiSi': 0.165, 'NiSi2': 0.19}\n",
      "Mean Error: (0.05253977756988265, 0.09845172752653022)\n",
      "模型已保存至 ./Results/Fourier_PINN_[64]x4/model_save/Fourier_PINN_[64]x4_50000.pth\n",
      "Training time: 4987.56s-------------------------\n",
      "Fourier_PINN_[128]x3:\n",
      "Epoch: 1/10----------------\n"
     ]
    },
    {
     "name": "stderr",
     "output_type": "stream",
     "text": [
      "100%|██████████| 5000/5000 [10:04<00:00,  8.28it/s, Loss=2.130e-02, PDE=3.850e-03, BC=1.441e-03,1.474e-05, IC=1.543e-02,5.610e-04, D*=5.99e-02,3.64e-03, lr=9.76e-04]\n"
     ]
    },
    {
     "name": "stdout",
     "output_type": "stream",
     "text": [
      "R^2 Error: {'Ni': 0.095, 'SiC': 0.028, 'C': 0.138, 'NiSi': 0.227, 'NiSi2': 0.228}\n",
      "Inf Error: {'Ni': 0.083, 'SiC': 0.036, 'C': 0.161, 'NiSi': 0.335, 'NiSi2': 0.397}\n",
      "Mean Error: (0.14316189281697927, 0.2026814789993018)\n",
      "模型已保存至 ./Results/Fourier_PINN_[128]x3/model_save/Fourier_PINN_[128]x3_5000.pth\n",
      "Epoch: 2/10----------------\n"
     ]
    },
    {
     "name": "stderr",
     "output_type": "stream",
     "text": [
      "100%|██████████| 5000/5000 [10:04<00:00,  8.27it/s, Loss=1.796e-02, PDE=3.542e-03, BC=2.213e-03,9.119e-06, IC=1.176e-02,4.389e-04, D*=5.99e-02,2.98e-03, lr=9.05e-04]\n"
     ]
    },
    {
     "name": "stdout",
     "output_type": "stream",
     "text": [
      "R^2 Error: {'Ni': 0.069, 'SiC': 0.018, 'C': 0.055, 'NiSi': 0.17, 'NiSi2': 0.185}\n",
      "Inf Error: {'Ni': 0.066, 'SiC': 0.018, 'C': 0.111, 'NiSi': 0.292, 'NiSi2': 0.432}\n",
      "Mean Error: (0.09944832076155204, 0.18380786338039976)\n",
      "模型已保存至 ./Results/Fourier_PINN_[128]x3/model_save/Fourier_PINN_[128]x3_10000.pth\n",
      "Epoch: 3/10----------------\n"
     ]
    },
    {
     "name": "stderr",
     "output_type": "stream",
     "text": [
      "100%|██████████| 5000/5000 [10:03<00:00,  8.29it/s, Loss=1.580e-02, PDE=6.708e-03, BC=2.724e-04,1.046e-05, IC=8.353e-03,4.520e-04, D*=5.99e-02,2.77e-03, lr=7.94e-04]\n"
     ]
    },
    {
     "name": "stdout",
     "output_type": "stream",
     "text": [
      "R^2 Error: {'Ni': 0.057, 'SiC': 0.01, 'C': 0.077, 'NiSi': 0.155, 'NiSi2': 0.185}\n",
      "Inf Error: {'Ni': 0.059, 'SiC': 0.019, 'C': 0.112, 'NiSi': 0.276, 'NiSi2': 0.499}\n",
      "Mean Error: (0.09699104377059964, 0.19310840364691928)\n",
      "模型已保存至 ./Results/Fourier_PINN_[128]x3/model_save/Fourier_PINN_[128]x3_15000.pth\n",
      "Epoch: 4/10----------------\n"
     ]
    },
    {
     "name": "stderr",
     "output_type": "stream",
     "text": [
      "100%|██████████| 5000/5000 [10:02<00:00,  8.29it/s, Loss=1.955e-02, PDE=8.603e-03, BC=7.987e-04,2.438e-06, IC=9.895e-03,2.496e-04, D*=5.99e-02,2.58e-03, lr=6.55e-04]\n"
     ]
    },
    {
     "name": "stdout",
     "output_type": "stream",
     "text": [
      "R^2 Error: {'Ni': 0.075, 'SiC': 0.014, 'C': 0.04, 'NiSi': 0.152, 'NiSi2': 0.161}\n",
      "Inf Error: {'Ni': 0.073, 'SiC': 0.015, 'C': 0.08, 'NiSi': 0.257, 'NiSi2': 0.458}\n",
      "Mean Error: (0.08815870012189206, 0.17662127684964796)\n",
      "模型已保存至 ./Results/Fourier_PINN_[128]x3/model_save/Fourier_PINN_[128]x3_20000.pth\n",
      "Epoch: 5/10----------------\n"
     ]
    },
    {
     "name": "stderr",
     "output_type": "stream",
     "text": [
      "100%|██████████| 5000/5000 [10:02<00:00,  8.29it/s, Loss=1.129e-02, PDE=5.360e-03, BC=1.556e-03,2.490e-06, IC=4.125e-03,2.417e-04, D*=5.99e-02,2.49e-03, lr=5.00e-04]\n"
     ]
    },
    {
     "name": "stdout",
     "output_type": "stream",
     "text": [
      "R^2 Error: {'Ni': 0.048, 'SiC': 0.007, 'C': 0.063, 'NiSi': 0.135, 'NiSi2': 0.156}\n",
      "Inf Error: {'Ni': 0.044, 'SiC': 0.015, 'C': 0.105, 'NiSi': 0.251, 'NiSi2': 0.46}\n",
      "Mean Error: (0.08148319572651683, 0.17499272423534085)\n",
      "模型已保存至 ./Results/Fourier_PINN_[128]x3/model_save/Fourier_PINN_[128]x3_25000.pth\n",
      "Epoch: 6/10----------------\n"
     ]
    },
    {
     "name": "stderr",
     "output_type": "stream",
     "text": [
      "100%|██████████| 5000/5000 [10:01<00:00,  8.32it/s, Loss=1.207e-02, PDE=4.203e-03, BC=3.783e-03,5.089e-06, IC=3.869e-03,2.143e-04, D*=6.00e-02,2.56e-03, lr=3.46e-04]\n"
     ]
    },
    {
     "name": "stdout",
     "output_type": "stream",
     "text": [
      "R^2 Error: {'Ni': 0.048, 'SiC': 0.01, 'C': 0.045, 'NiSi': 0.125, 'NiSi2': 0.157}\n",
      "Inf Error: {'Ni': 0.045, 'SiC': 0.013, 'C': 0.089, 'NiSi': 0.234, 'NiSi2': 0.482}\n",
      "Mean Error: (0.07719351189818281, 0.17264850341367777)\n",
      "模型已保存至 ./Results/Fourier_PINN_[128]x3/model_save/Fourier_PINN_[128]x3_30000.pth\n",
      "Epoch: 7/10----------------\n"
     ]
    },
    {
     "name": "stderr",
     "output_type": "stream",
     "text": [
      "100%|██████████| 5000/5000 [10:00<00:00,  8.33it/s, Loss=5.967e-03, PDE=3.161e-03, BC=3.652e-05,7.674e-07, IC=2.613e-03,1.563e-04, D*=6.00e-02,2.30e-03, lr=2.06e-04]\n"
     ]
    },
    {
     "name": "stdout",
     "output_type": "stream",
     "text": [
      "R^2 Error: {'Ni': 0.037, 'SiC': 0.009, 'C': 0.036, 'NiSi': 0.112, 'NiSi2': 0.128}\n",
      "Inf Error: {'Ni': 0.038, 'SiC': 0.01, 'C': 0.083, 'NiSi': 0.213, 'NiSi2': 0.402}\n",
      "Mean Error: (0.06448845478022934, 0.14919175705717874)\n",
      "模型已保存至 ./Results/Fourier_PINN_[128]x3/model_save/Fourier_PINN_[128]x3_35000.pth\n",
      "Epoch: 8/10----------------\n"
     ]
    },
    {
     "name": "stderr",
     "output_type": "stream",
     "text": [
      "100%|██████████| 5000/5000 [10:00<00:00,  8.33it/s, Loss=2.160e-03, PDE=3.184e-04, BC=4.615e-06,3.461e-07, IC=1.722e-03,1.146e-04, D*=6.00e-02,2.13e-03, lr=9.57e-05]\n"
     ]
    },
    {
     "name": "stdout",
     "output_type": "stream",
     "text": [
      "R^2 Error: {'Ni': 0.032, 'SiC': 0.007, 'C': 0.037, 'NiSi': 0.105, 'NiSi2': 0.102}\n",
      "Inf Error: {'Ni': 0.032, 'SiC': 0.009, 'C': 0.081, 'NiSi': 0.191, 'NiSi2': 0.307}\n",
      "Mean Error: (0.05648866968823474, 0.12398430984959904)\n",
      "模型已保存至 ./Results/Fourier_PINN_[128]x3/model_save/Fourier_PINN_[128]x3_40000.pth\n",
      "Epoch: 9/10----------------\n"
     ]
    },
    {
     "name": "stderr",
     "output_type": "stream",
     "text": [
      "100%|██████████| 5000/5000 [10:00<00:00,  8.32it/s, Loss=1.631e-03, PDE=3.584e-04, BC=2.754e-06,2.454e-07, IC=1.175e-03,9.461e-05, D*=6.00e-02,1.98e-03, lr=2.46e-05]\n"
     ]
    },
    {
     "name": "stdout",
     "output_type": "stream",
     "text": [
      "R^2 Error: {'Ni': 0.029, 'SiC': 0.008, 'C': 0.034, 'NiSi': 0.098, 'NiSi2': 0.088}\n",
      "Inf Error: {'Ni': 0.029, 'SiC': 0.01, 'C': 0.076, 'NiSi': 0.175, 'NiSi2': 0.25}\n",
      "Mean Error: (0.05120589027571408, 0.10785384367493947)\n",
      "模型已保存至 ./Results/Fourier_PINN_[128]x3/model_save/Fourier_PINN_[128]x3_45000.pth\n",
      "Epoch: 10/10----------------\n"
     ]
    },
    {
     "name": "stderr",
     "output_type": "stream",
     "text": [
      "100%|██████████| 5000/5000 [10:03<00:00,  8.28it/s, Loss=1.242e-03, PDE=1.813e-04, BC=2.073e-06,2.418e-07, IC=9.716e-04,8.723e-05, D*=6.00e-02,1.92e-03, lr=1.01e-08]\n"
     ]
    },
    {
     "name": "stdout",
     "output_type": "stream",
     "text": [
      "R^2 Error: {'Ni': 0.028, 'SiC': 0.008, 'C': 0.034, 'NiSi': 0.095, 'NiSi2': 0.084}\n",
      "Inf Error: {'Ni': 0.028, 'SiC': 0.01, 'C': 0.075, 'NiSi': 0.168, 'NiSi2': 0.233}\n",
      "Mean Error: (0.049755405928163424, 0.10295322144007371)\n",
      "模型已保存至 ./Results/Fourier_PINN_[128]x3/model_save/Fourier_PINN_[128]x3_50000.pth\n",
      "Training time: 6047.83s-------------------------\n",
      "Fourier_PINN_[96]x3:\n",
      "Epoch: 1/10----------------\n"
     ]
    },
    {
     "name": "stderr",
     "output_type": "stream",
     "text": [
      "100%|██████████| 5000/5000 [08:32<00:00,  9.76it/s, Loss=2.362e-02, PDE=7.800e-03, BC=2.193e-03,3.873e-05, IC=1.314e-02,4.423e-04, D*=5.99e-02,3.71e-03, lr=9.76e-04]\n"
     ]
    },
    {
     "name": "stdout",
     "output_type": "stream",
     "text": [
      "R^2 Error: {'Ni': 0.083, 'SiC': 0.04, 'C': 0.091, 'NiSi': 0.224, 'NiSi2': 0.233}\n",
      "Inf Error: {'Ni': 0.078, 'SiC': 0.036, 'C': 0.138, 'NiSi': 0.328, 'NiSi2': 0.368}\n",
      "Mean Error: (0.13424038045080713, 0.18974131078799644)\n",
      "模型已保存至 ./Results/Fourier_PINN_[96]x3/model_save/Fourier_PINN_[96]x3_5000.pth\n",
      "Epoch: 2/10----------------\n"
     ]
    },
    {
     "name": "stderr",
     "output_type": "stream",
     "text": [
      "100%|██████████| 5000/5000 [08:27<00:00,  9.85it/s, Loss=1.764e-02, PDE=4.162e-03, BC=2.523e-03,7.840e-06, IC=1.049e-02,4.581e-04, D*=5.99e-02,3.57e-03, lr=9.05e-04]\n"
     ]
    },
    {
     "name": "stdout",
     "output_type": "stream",
     "text": [
      "R^2 Error: {'Ni': 0.093, 'SiC': 0.019, 'C': 0.06, 'NiSi': 0.169, 'NiSi2': 0.213}\n",
      "Inf Error: {'Ni': 0.087, 'SiC': 0.026, 'C': 0.105, 'NiSi': 0.277, 'NiSi2': 0.448}\n",
      "Mean Error: (0.11073512595288797, 0.1884276331670849)\n",
      "模型已保存至 ./Results/Fourier_PINN_[96]x3/model_save/Fourier_PINN_[96]x3_10000.pth\n",
      "Epoch: 3/10----------------\n"
     ]
    },
    {
     "name": "stderr",
     "output_type": "stream",
     "text": [
      "100%|██████████| 5000/5000 [08:20<00:00,  9.98it/s, Loss=1.577e-02, PDE=3.152e-03, BC=1.092e-03,3.765e-06, IC=1.119e-02,3.307e-04, D*=6.00e-02,3.14e-03, lr=7.94e-04]\n"
     ]
    },
    {
     "name": "stdout",
     "output_type": "stream",
     "text": [
      "R^2 Error: {'Ni': 0.058, 'SiC': 0.016, 'C': 0.058, 'NiSi': 0.147, 'NiSi2': 0.166}\n",
      "Inf Error: {'Ni': 0.056, 'SiC': 0.016, 'C': 0.101, 'NiSi': 0.259, 'NiSi2': 0.404}\n",
      "Mean Error: (0.08891029440200897, 0.16706355443826798)\n",
      "模型已保存至 ./Results/Fourier_PINN_[96]x3/model_save/Fourier_PINN_[96]x3_15000.pth\n",
      "Epoch: 4/10----------------\n"
     ]
    },
    {
     "name": "stderr",
     "output_type": "stream",
     "text": [
      "100%|██████████| 5000/5000 [08:29<00:00,  9.81it/s, Loss=1.773e-02, PDE=6.958e-03, BC=4.502e-03,3.393e-05, IC=5.973e-03,2.614e-04, D*=6.00e-02,2.61e-03, lr=6.55e-04]\n"
     ]
    },
    {
     "name": "stdout",
     "output_type": "stream",
     "text": [
      "R^2 Error: {'Ni': 0.058, 'SiC': 0.019, 'C': 0.07, 'NiSi': 0.147, 'NiSi2': 0.176}\n",
      "Inf Error: {'Ni': 0.052, 'SiC': 0.024, 'C': 0.109, 'NiSi': 0.264, 'NiSi2': 0.441}\n",
      "Mean Error: (0.09391888935301787, 0.1779331712801945)\n",
      "模型已保存至 ./Results/Fourier_PINN_[96]x3/model_save/Fourier_PINN_[96]x3_20000.pth\n",
      "Epoch: 5/10----------------\n"
     ]
    },
    {
     "name": "stderr",
     "output_type": "stream",
     "text": [
      "100%|██████████| 5000/5000 [08:25<00:00,  9.90it/s, Loss=1.699e-02, PDE=1.123e-02, BC=2.397e-04,1.061e-05, IC=5.299e-03,2.040e-04, D*=6.00e-02,2.35e-03, lr=5.00e-04]\n"
     ]
    },
    {
     "name": "stdout",
     "output_type": "stream",
     "text": [
      "R^2 Error: {'Ni': 0.052, 'SiC': 0.012, 'C': 0.043, 'NiSi': 0.119, 'NiSi2': 0.151}\n",
      "Inf Error: {'Ni': 0.051, 'SiC': 0.016, 'C': 0.087, 'NiSi': 0.232, 'NiSi2': 0.405}\n",
      "Mean Error: (0.07559117586678354, 0.1581536820006313)\n",
      "模型已保存至 ./Results/Fourier_PINN_[96]x3/model_save/Fourier_PINN_[96]x3_25000.pth\n",
      "Epoch: 6/10----------------\n"
     ]
    },
    {
     "name": "stderr",
     "output_type": "stream",
     "text": [
      "100%|██████████| 5000/5000 [08:34<00:00,  9.73it/s, Loss=5.653e-03, PDE=1.539e-03, BC=2.003e-04,5.354e-06, IC=3.743e-03,1.659e-04, D*=6.00e-02,2.07e-03, lr=3.46e-04]\n"
     ]
    },
    {
     "name": "stdout",
     "output_type": "stream",
     "text": [
      "R^2 Error: {'Ni': 0.045, 'SiC': 0.008, 'C': 0.033, 'NiSi': 0.1, 'NiSi2': 0.136}\n",
      "Inf Error: {'Ni': 0.045, 'SiC': 0.01, 'C': 0.076, 'NiSi': 0.202, 'NiSi2': 0.377}\n",
      "Mean Error: (0.06442495876382068, 0.1418693980496306)\n",
      "模型已保存至 ./Results/Fourier_PINN_[96]x3/model_save/Fourier_PINN_[96]x3_30000.pth\n",
      "Epoch: 7/10----------------\n"
     ]
    },
    {
     "name": "stderr",
     "output_type": "stream",
     "text": [
      "100%|██████████| 5000/5000 [08:44<00:00,  9.53it/s, Loss=5.142e-03, PDE=1.847e-03, BC=4.949e-05,8.778e-07, IC=3.125e-03,1.188e-04, D*=6.00e-02,1.87e-03, lr=2.06e-04]\n"
     ]
    },
    {
     "name": "stdout",
     "output_type": "stream",
     "text": [
      "R^2 Error: {'Ni': 0.039, 'SiC': 0.006, 'C': 0.03, 'NiSi': 0.086, 'NiSi2': 0.124}\n",
      "Inf Error: {'Ni': 0.039, 'SiC': 0.008, 'C': 0.077, 'NiSi': 0.179, 'NiSi2': 0.348}\n",
      "Mean Error: (0.056890374920270916, 0.1302301160215404)\n",
      "模型已保存至 ./Results/Fourier_PINN_[96]x3/model_save/Fourier_PINN_[96]x3_35000.pth\n",
      "Epoch: 8/10----------------\n"
     ]
    },
    {
     "name": "stderr",
     "output_type": "stream",
     "text": [
      "100%|██████████| 5000/5000 [08:43<00:00,  9.55it/s, Loss=2.859e-03, PDE=5.965e-04, BC=1.488e-05,4.623e-07, IC=2.167e-03,8.018e-05, D*=6.00e-02,1.71e-03, lr=9.57e-05]\n"
     ]
    },
    {
     "name": "stdout",
     "output_type": "stream",
     "text": [
      "R^2 Error: {'Ni': 0.032, 'SiC': 0.008, 'C': 0.029, 'NiSi': 0.073, 'NiSi2': 0.107}\n",
      "Inf Error: {'Ni': 0.034, 'SiC': 0.009, 'C': 0.073, 'NiSi': 0.152, 'NiSi2': 0.295}\n",
      "Mean Error: (0.049500711551348685, 0.11278445998659829)\n",
      "模型已保存至 ./Results/Fourier_PINN_[96]x3/model_save/Fourier_PINN_[96]x3_40000.pth\n",
      "Epoch: 9/10----------------\n"
     ]
    },
    {
     "name": "stderr",
     "output_type": "stream",
     "text": [
      "100%|██████████| 5000/5000 [08:31<00:00,  9.77it/s, Loss=2.161e-03, PDE=3.062e-04, BC=7.701e-06,2.367e-07, IC=1.787e-03,5.955e-05, D*=6.00e-02,1.58e-03, lr=2.46e-05]\n"
     ]
    },
    {
     "name": "stdout",
     "output_type": "stream",
     "text": [
      "R^2 Error: {'Ni': 0.03, 'SiC': 0.008, 'C': 0.028, 'NiSi': 0.069, 'NiSi2': 0.1}\n",
      "Inf Error: {'Ni': 0.033, 'SiC': 0.011, 'C': 0.072, 'NiSi': 0.143, 'NiSi2': 0.271}\n",
      "Mean Error: (0.047082488571046355, 0.1059546819646755)\n",
      "模型已保存至 ./Results/Fourier_PINN_[96]x3/model_save/Fourier_PINN_[96]x3_45000.pth\n",
      "Epoch: 10/10----------------\n"
     ]
    },
    {
     "name": "stderr",
     "output_type": "stream",
     "text": [
      "100%|██████████| 5000/5000 [07:41<00:00, 10.84it/s, Loss=1.851e-03, PDE=2.605e-04, BC=7.712e-06,2.384e-07, IC=1.527e-03,5.497e-05, D*=6.00e-02,1.54e-03, lr=1.01e-08]\n"
     ]
    },
    {
     "name": "stdout",
     "output_type": "stream",
     "text": [
      "R^2 Error: {'Ni': 0.031, 'SiC': 0.008, 'C': 0.027, 'NiSi': 0.065, 'NiSi2': 0.1}\n",
      "Inf Error: {'Ni': 0.032, 'SiC': 0.01, 'C': 0.069, 'NiSi': 0.136, 'NiSi2': 0.27}\n",
      "Mean Error: (0.046070350674577966, 0.1034872575473714)\n",
      "模型已保存至 ./Results/Fourier_PINN_[96]x3/model_save/Fourier_PINN_[96]x3_50000.pth\n",
      "Training time: 5092.64s-------------------------\n",
      "Fourier_PINN_[64]x3:\n",
      "Epoch: 1/10----------------\n"
     ]
    },
    {
     "name": "stderr",
     "output_type": "stream",
     "text": [
      "100%|██████████| 5000/5000 [06:44<00:00, 12.35it/s, Loss=3.251e-02, PDE=1.018e-02, BC=2.173e-03,4.339e-04, IC=1.908e-02,6.382e-04, D*=5.99e-02,4.59e-03, lr=9.76e-04]\n"
     ]
    },
    {
     "name": "stdout",
     "output_type": "stream",
     "text": [
      "R^2 Error: {'Ni': 0.103, 'SiC': 0.039, 'C': 0.092, 'NiSi': 0.224, 'NiSi2': 0.22}\n",
      "Inf Error: {'Ni': 0.099, 'SiC': 0.04, 'C': 0.135, 'NiSi': 0.303, 'NiSi2': 0.331}\n",
      "Mean Error: (0.13569995678164717, 0.18168884636017474)\n",
      "模型已保存至 ./Results/Fourier_PINN_[64]x3/model_save/Fourier_PINN_[64]x3_5000.pth\n",
      "Epoch: 2/10----------------\n"
     ]
    },
    {
     "name": "stderr",
     "output_type": "stream",
     "text": [
      "100%|██████████| 5000/5000 [06:41<00:00, 12.47it/s, Loss=1.777e-02, PDE=4.573e-03, BC=1.566e-03,5.601e-06, IC=1.126e-02,3.695e-04, D*=5.99e-02,3.61e-03, lr=9.05e-04]\n"
     ]
    },
    {
     "name": "stdout",
     "output_type": "stream",
     "text": [
      "R^2 Error: {'Ni': 0.091, 'SiC': 0.036, 'C': 0.077, 'NiSi': 0.195, 'NiSi2': 0.161}\n",
      "Inf Error: {'Ni': 0.085, 'SiC': 0.034, 'C': 0.101, 'NiSi': 0.275, 'NiSi2': 0.286}\n",
      "Mean Error: (0.11174173623169899, 0.15617122012531845)\n",
      "模型已保存至 ./Results/Fourier_PINN_[64]x3/model_save/Fourier_PINN_[64]x3_10000.pth\n",
      "Epoch: 3/10----------------\n"
     ]
    },
    {
     "name": "stderr",
     "output_type": "stream",
     "text": [
      "100%|██████████| 5000/5000 [06:42<00:00, 12.41it/s, Loss=1.756e-02, PDE=9.009e-03, BC=1.072e-03,2.269e-06, IC=7.207e-03,2.722e-04, D*=5.99e-02,2.81e-03, lr=7.94e-04]\n"
     ]
    },
    {
     "name": "stdout",
     "output_type": "stream",
     "text": [
      "R^2 Error: {'Ni': 0.056, 'SiC': 0.024, 'C': 0.043, 'NiSi': 0.146, 'NiSi2': 0.116}\n",
      "Inf Error: {'Ni': 0.058, 'SiC': 0.022, 'C': 0.086, 'NiSi': 0.251, 'NiSi2': 0.235}\n",
      "Mean Error: (0.07713808157510318, 0.13037713075755117)\n",
      "模型已保存至 ./Results/Fourier_PINN_[64]x3/model_save/Fourier_PINN_[64]x3_15000.pth\n",
      "Epoch: 4/10----------------\n"
     ]
    },
    {
     "name": "stderr",
     "output_type": "stream",
     "text": [
      "100%|██████████| 5000/5000 [06:42<00:00, 12.41it/s, Loss=1.363e-02, PDE=3.365e-03, BC=3.755e-03,5.898e-06, IC=6.227e-03,2.818e-04, D*=5.99e-02,2.42e-03, lr=6.55e-04]\n"
     ]
    },
    {
     "name": "stdout",
     "output_type": "stream",
     "text": [
      "R^2 Error: {'Ni': 0.061, 'SiC': 0.016, 'C': 0.048, 'NiSi': 0.159, 'NiSi2': 0.122}\n",
      "Inf Error: {'Ni': 0.059, 'SiC': 0.019, 'C': 0.097, 'NiSi': 0.246, 'NiSi2': 0.251}\n",
      "Mean Error: (0.0812855555413026, 0.13441072468234547)\n",
      "模型已保存至 ./Results/Fourier_PINN_[64]x3/model_save/Fourier_PINN_[64]x3_20000.pth\n",
      "Epoch: 5/10----------------\n"
     ]
    },
    {
     "name": "stderr",
     "output_type": "stream",
     "text": [
      "100%|██████████| 5000/5000 [06:43<00:00, 12.39it/s, Loss=6.063e-03, PDE=1.246e-03, BC=1.556e-04,1.638e-05, IC=4.418e-03,2.267e-04, D*=5.99e-02,2.27e-03, lr=5.00e-04]\n"
     ]
    },
    {
     "name": "stdout",
     "output_type": "stream",
     "text": [
      "R^2 Error: {'Ni': 0.042, 'SiC': 0.008, 'C': 0.045, 'NiSi': 0.137, 'NiSi2': 0.108}\n",
      "Inf Error: {'Ni': 0.046, 'SiC': 0.011, 'C': 0.097, 'NiSi': 0.229, 'NiSi2': 0.229}\n",
      "Mean Error: (0.0679600178336242, 0.1223282175665856)\n",
      "模型已保存至 ./Results/Fourier_PINN_[64]x3/model_save/Fourier_PINN_[64]x3_25000.pth\n",
      "Epoch: 6/10----------------\n"
     ]
    },
    {
     "name": "stderr",
     "output_type": "stream",
     "text": [
      "100%|██████████| 5000/5000 [06:43<00:00, 12.38it/s, Loss=5.463e-03, PDE=9.756e-04, BC=7.318e-05,1.081e-06, IC=4.212e-03,2.012e-04, D*=5.99e-02,2.10e-03, lr=3.46e-04]\n"
     ]
    },
    {
     "name": "stdout",
     "output_type": "stream",
     "text": [
      "R^2 Error: {'Ni': 0.045, 'SiC': 0.01, 'C': 0.043, 'NiSi': 0.135, 'NiSi2': 0.108}\n",
      "Inf Error: {'Ni': 0.045, 'SiC': 0.012, 'C': 0.098, 'NiSi': 0.218, 'NiSi2': 0.225}\n",
      "Mean Error: (0.06802388145004404, 0.1195084248081049)\n",
      "模型已保存至 ./Results/Fourier_PINN_[64]x3/model_save/Fourier_PINN_[64]x3_30000.pth\n",
      "Epoch: 7/10----------------\n"
     ]
    },
    {
     "name": "stderr",
     "output_type": "stream",
     "text": [
      "100%|██████████| 5000/5000 [06:57<00:00, 11.98it/s, Loss=4.853e-03, PDE=1.107e-03, BC=1.720e-04,2.416e-07, IC=3.410e-03,1.631e-04, D*=5.99e-02,1.93e-03, lr=2.06e-04]\n"
     ]
    },
    {
     "name": "stdout",
     "output_type": "stream",
     "text": [
      "R^2 Error: {'Ni': 0.037, 'SiC': 0.007, 'C': 0.041, 'NiSi': 0.114, 'NiSi2': 0.087}\n",
      "Inf Error: {'Ni': 0.037, 'SiC': 0.008, 'C': 0.094, 'NiSi': 0.201, 'NiSi2': 0.187}\n",
      "Mean Error: (0.05741608154135043, 0.10524836445339399)\n",
      "模型已保存至 ./Results/Fourier_PINN_[64]x3/model_save/Fourier_PINN_[64]x3_35000.pth\n",
      "Epoch: 8/10----------------\n"
     ]
    },
    {
     "name": "stderr",
     "output_type": "stream",
     "text": [
      "100%|██████████| 5000/5000 [08:09<00:00, 10.21it/s, Loss=3.184e-03, PDE=6.202e-04, BC=4.880e-05,2.406e-07, IC=2.386e-03,1.287e-04, D*=5.99e-02,1.76e-03, lr=9.57e-05]\n"
     ]
    },
    {
     "name": "stdout",
     "output_type": "stream",
     "text": [
      "R^2 Error: {'Ni': 0.035, 'SiC': 0.007, 'C': 0.035, 'NiSi': 0.107, 'NiSi2': 0.077}\n",
      "Inf Error: {'Ni': 0.036, 'SiC': 0.008, 'C': 0.085, 'NiSi': 0.187, 'NiSi2': 0.159}\n",
      "Mean Error: (0.05248771554427143, 0.09506959547180363)\n",
      "模型已保存至 ./Results/Fourier_PINN_[64]x3/model_save/Fourier_PINN_[64]x3_40000.pth\n",
      "Epoch: 9/10----------------\n"
     ]
    },
    {
     "name": "stderr",
     "output_type": "stream",
     "text": [
      "100%|██████████| 5000/5000 [08:07<00:00, 10.26it/s, Loss=2.472e-03, PDE=4.576e-04, BC=5.358e-06,2.002e-07, IC=1.901e-03,1.085e-04, D*=5.99e-02,1.60e-03, lr=2.46e-05]\n"
     ]
    },
    {
     "name": "stdout",
     "output_type": "stream",
     "text": [
      "R^2 Error: {'Ni': 0.033, 'SiC': 0.007, 'C': 0.036, 'NiSi': 0.101, 'NiSi2': 0.073}\n",
      "Inf Error: {'Ni': 0.034, 'SiC': 0.008, 'C': 0.085, 'NiSi': 0.177, 'NiSi2': 0.145}\n",
      "Mean Error: (0.05009617971431827, 0.08953654533167207)\n",
      "模型已保存至 ./Results/Fourier_PINN_[64]x3/model_save/Fourier_PINN_[64]x3_45000.pth\n",
      "Epoch: 10/10----------------\n"
     ]
    },
    {
     "name": "stderr",
     "output_type": "stream",
     "text": [
      "100%|██████████| 5000/5000 [08:08<00:00, 10.23it/s, Loss=2.157e-03, PDE=4.105e-04, BC=5.077e-06,1.958e-07, IC=1.638e-03,1.026e-04, D*=5.99e-02,1.54e-03, lr=1.01e-08]\n"
     ]
    },
    {
     "name": "stdout",
     "output_type": "stream",
     "text": [
      "R^2 Error: {'Ni': 0.034, 'SiC': 0.007, 'C': 0.036, 'NiSi': 0.098, 'NiSi2': 0.07}\n",
      "Inf Error: {'Ni': 0.034, 'SiC': 0.008, 'C': 0.084, 'NiSi': 0.171, 'NiSi2': 0.141}\n",
      "Mean Error: (0.04887261303703531, 0.0875850458204793)\n",
      "模型已保存至 ./Results/Fourier_PINN_[64]x3/model_save/Fourier_PINN_[64]x3_50000.pth\n",
      "Training time: 4322.34s-------------------------\n"
     ]
    }
   ],
   "source": [
    "from torch import Tensor\n",
    "\n",
    "\n",
    "hiddens = [6, 5, 4, 3]  ##[3,4] already finished\n",
    "neurons = [128,96,64]\n",
    "\n",
    "activation = torch.nn.functional.tanh\n",
    "\n",
    "start_lr = 1e-3\n",
    "end_lr = 1e-8\n",
    "\n",
    "weight = [1, 1, 1, 1, 1, 1]\n",
    "for hidden in hiddens:\n",
    "    for neuron in neurons:\n",
    "        for mode in ['Fourier_PINN']:  ##['PINN', 'IA_PINN', 'Fourier_PINN', 'AF_PINN']\n",
    "            layer = [2] + [neuron]*hidden + [6]\n",
    "            \n",
    "            star_time = timeit.default_timer()\n",
    "            num_epochs = 5000\n",
    "            sub_spochs = 10\n",
    "\n",
    "            loss_log_total,loss_log_pde, loss_log_bc, loss_log_ic = [],[],[],[]\n",
    "            torch.cuda.empty_cache()\n",
    "            print(f'{mode}_[{neuron}]x{hidden}:')\n",
    "            \n",
    "            if mode == 'PINN':\n",
    "                model = PINN(layer,activation,non_negative=True).to(device)\n",
    "                optimizer = optim.Adam(model.parameters(), lr=start_lr)  \n",
    "                scheduler = optim.lr_scheduler.CosineAnnealingLR(optimizer, T_max=num_epochs * sub_spochs, eta_min=end_lr)\n",
    "            elif mode == 'IA_PINN':\n",
    "                model = Attention_PINN(layer,activation,non_negative=True).to(device)\n",
    "                optimizer = optim.Adam(model.parameters(), lr=start_lr)  \n",
    "                scheduler = optim.lr_scheduler.CosineAnnealingLR(optimizer, T_max=num_epochs * sub_spochs, eta_min=end_lr)\n",
    "            \n",
    "            ####################    \n",
    "            elif mode == 'Fourier_PINN':\n",
    "                model = Fourier_PINN(layer,non_negative=True, activation= activation, use_rff=True, rff_num_features= neuron * 2, rff_sigma=1.0).to(device)\n",
    "                optimizer = optim.Adam(model.parameters(), lr=start_lr)  \n",
    "                scheduler = optim.lr_scheduler.CosineAnnealingLR(optimizer, T_max=num_epochs * sub_spochs, eta_min=end_lr)\n",
    "            ######################\n",
    "            \n",
    "            elif mode == 'AF_PINN':\n",
    "                model = AF_PINN(layer, non_negative=True,activation = activation, use_rff=True, rff_num_features=64, rff_sigma=1.0).to(device)\n",
    "                optimizer = optim.Adam(model.parameters(), lr=start_lr)  \n",
    "                scheduler = optim.lr_scheduler.CosineAnnealingLR(optimizer, T_max=num_epochs * sub_spochs, eta_min=end_lr)\n",
    "            else:\n",
    "                print(\"Man! What can I say! Wrong Mode!!!\")\n",
    "                break            \n",
    "            points_types = ['domain', 'left_bc', 'right_bc', 'initial']\n",
    "\n",
    "            coords_pde, coords_bc1, coords_bc2, coords_ic = [\n",
    "                generator.grid_generator(2500 if pt in ['left_bc', 'right_bc'] else 10201, points_type=pt, nondim= True) \n",
    "                for pt in points_types\n",
    "            ]\n",
    "\n",
    "            for idx in range(sub_spochs):\n",
    "                print(f'Epoch: {idx+1}/{sub_spochs}----------------')\n",
    "                model.train()\n",
    "                \n",
    "                pbar = tqdm(range(num_epochs))\n",
    "                for epoch in pbar:\n",
    "                    current_lr = optimizer.param_groups[0]['lr'] \n",
    "                    def closure() -> Tensor:\n",
    "                        global loss_pde, D_star, loss_bc1, loss_bc2, loss_ic1, loss_ic2\n",
    "                        optimizer.zero_grad()\n",
    "\n",
    "                        # 计算损失时使用batch数据\n",
    "                        loss_eq1, loss_eq2, loss_eq3, loss_eq4, loss_eq5, loss_eq6, D_star = compute_pde(model, coords_pde)\n",
    "                        loss_pde = loss_eq1 + loss_eq2 + loss_eq3 + loss_eq4 + loss_eq5 + loss_eq6\n",
    "                        loss_bc1 = compute_bc(model, coords_bc1)\n",
    "                        loss_bc2 = compute_bc(model, coords_bc2)\n",
    "                        loss_ic1, loss_ic2 = compute_ic(model, coords_ic)\n",
    "\n",
    "                        #Give a weight to initial loss term\n",
    "                        loss = weight[0]*loss_pde +  weight[1]*loss_bc1 +  weight[2]*loss_bc2 +  weight[3]*loss_ic1 +  weight[4]*loss_ic2 \n",
    "\n",
    "                        loss.backward()\n",
    "                        torch.nn.utils.clip_grad_norm_(model.parameters(), max_norm=1.0, norm_type= 2)\n",
    "                        return loss\n",
    "\n",
    "                    optimizer.step(closure)\n",
    "                    \n",
    "                    # 如果使用scheduler（只在Adam阶段）\n",
    "                    if scheduler is not None:\n",
    "                        scheduler.step()\n",
    "                    \n",
    "                    loss_total = weight[0]*loss_pde +  weight[1]*loss_bc1 +  weight[2]*loss_bc2 +  weight[3]*loss_ic1 +  weight[4]*loss_ic2 \n",
    "\n",
    "                    loss_log_total.append(loss_total.item())\n",
    "                    loss_log_pde.append(loss_pde.item())\n",
    "                    loss_log_bc.append(loss_bc1.item() + loss_bc2.item())\n",
    "                    loss_log_ic.append(loss_ic1.item() + loss_ic2.item())\n",
    "                    \n",
    "                    if epoch % 10 == 0:\n",
    "                        pbar.set_postfix({\n",
    "                            'Loss': '{0:.3e}'.format(loss_total),\n",
    "                            'PDE': '{0:.3e}'.format(weight[0]*loss_pde.item()),\n",
    "                            'BC': '{0:.3e},{1:.3e}'.format(weight[1]*loss_bc1.item(),weight[2]*loss_bc2.item()),\n",
    "                            'IC': '{0:.3e},{1:.3e}'.format(weight[3]*loss_ic1.item(),weight[4]*loss_ic2.item()),\n",
    "                            'D*': '{0:.2e},{1:.2e}'.format(torch.max(D_star),torch.min(D_star)),\n",
    "                            'lr': '{0:.2e}'.format(current_lr),\n",
    "                        })        \n",
    "                    # # 将四个张量放在一个列表中并随机打乱\n",
    "                    shuffled_tensors = [tensor[torch.randperm(tensor.size(0))] for tensor in [coords_pde, coords_bc1, coords_bc2, coords_ic]]\n",
    "\n",
    "                    # 解包到四个变量中\n",
    "                    coords_pde, coords_bc1, coords_bc2, coords_ic = shuffled_tensors\n",
    "                \n",
    "                    if torch.isnan(loss_total):\n",
    "                        print('Loss is Nan, please check your model parameters')\n",
    "                        break\n",
    "                \n",
    "                true_path = './FDM/range[0,1]/'\n",
    "                file_names = ['u1_output.csv','u2_output.csv','u3_output.csv','u4_output.csv','u5_output.csv','u6_output.csv']\n",
    "                true_data = [pd.read_csv(true_path + file_name,header=None) for file_name in file_names]\n",
    "\n",
    "                model.eval()\n",
    "                val_data = generator.grid_generator(N=10201, points_type= 'domain', nondim= True)\n",
    "                result = model(val_data).data.cpu().numpy()\n",
    "                relative_error(result,true_data)\n",
    "\n",
    "                ##模型储存\n",
    "                save_path = f'./Results/{mode}_[{neuron}]x{hidden}/model_save/'\n",
    "                os.makedirs(save_path, exist_ok=True)  # 确保保存路径存在\n",
    "                # 指定模型文件名\n",
    "                model_file = os.path.join(save_path, f'{mode}_[{neuron}]x{hidden}_{(idx+1)*num_epochs}.pth')\n",
    "                # 保存模型\n",
    "                torch.save(model.state_dict(), model_file)\n",
    "                print(f\"模型已保存至 {model_file}\")\n",
    "            \n",
    "            # 绘制结果\n",
    "            plot_loss_curve(f'{mode}_[{neuron}]x{hidden}',loss_log_total,loss_log_pde, loss_log_bc, loss_log_ic)\n",
    "            \n",
    "            plot_relative_concen(f'{mode}_[{neuron}]x{hidden}',result,data_save=True)\n",
    "            \n",
    "            plot_3d_concen(f'{mode}_[{neuron}]x{hidden}', result, true_data)\n",
    "\n",
    "            Training_time = timeit.default_timer() - star_time\n",
    "            print(f'Training time: {Training_time:.2f}s-------------------------')\n"
   ]
  },
  {
   "cell_type": "code",
   "execution_count": 4,
   "metadata": {},
   "outputs": [
    {
     "name": "stdout",
     "output_type": "stream",
     "text": [
      "Fourier_PINN_96_[128]x6:\n",
      "Epoch: 1/10----------------\n"
     ]
    },
    {
     "name": "stderr",
     "output_type": "stream",
     "text": [
      " 16%|█▌        | 787/5000 [02:47<14:56,  4.70it/s, Loss=1.139e-01, PDE=2.571e-02, BC=4.606e-03,4.991e-05, IC=7.824e-02,5.313e-03, D*=5.99e-02,1.27e-02, lr=9.99e-05]\n"
     ]
    },
    {
     "ename": "KeyboardInterrupt",
     "evalue": "",
     "output_type": "error",
     "traceback": [
      "\u001b[1;31m---------------------------------------------------------------------------\u001b[0m",
      "\u001b[1;31mKeyboardInterrupt\u001b[0m                         Traceback (most recent call last)",
      "Cell \u001b[1;32mIn[4], line 89\u001b[0m\n\u001b[0;32m     86\u001b[0m     torch\u001b[38;5;241m.\u001b[39mnn\u001b[38;5;241m.\u001b[39mutils\u001b[38;5;241m.\u001b[39mclip_grad_norm_(model\u001b[38;5;241m.\u001b[39mparameters(), max_norm\u001b[38;5;241m=\u001b[39m\u001b[38;5;241m1.0\u001b[39m, norm_type\u001b[38;5;241m=\u001b[39m \u001b[38;5;241m2\u001b[39m)\n\u001b[0;32m     87\u001b[0m     \u001b[38;5;28;01mreturn\u001b[39;00m loss\n\u001b[1;32m---> 89\u001b[0m \u001b[43moptimizer\u001b[49m\u001b[38;5;241;43m.\u001b[39;49m\u001b[43mstep\u001b[49m\u001b[43m(\u001b[49m\u001b[43mclosure\u001b[49m\u001b[43m)\u001b[49m\n\u001b[0;32m     91\u001b[0m \u001b[38;5;66;03m# 如果使用scheduler（只在Adam阶段）\u001b[39;00m\n\u001b[0;32m     92\u001b[0m \u001b[38;5;28;01mif\u001b[39;00m scheduler \u001b[38;5;129;01mis\u001b[39;00m \u001b[38;5;129;01mnot\u001b[39;00m \u001b[38;5;28;01mNone\u001b[39;00m:\n",
      "File \u001b[1;32md:\\conda\\envs\\pytorch\\lib\\site-packages\\torch\\optim\\lr_scheduler.py:75\u001b[0m, in \u001b[0;36mLRScheduler.__init__.<locals>.with_counter.<locals>.wrapper\u001b[1;34m(*args, **kwargs)\u001b[0m\n\u001b[0;32m     73\u001b[0m instance\u001b[38;5;241m.\u001b[39m_step_count \u001b[38;5;241m+\u001b[39m\u001b[38;5;241m=\u001b[39m \u001b[38;5;241m1\u001b[39m\n\u001b[0;32m     74\u001b[0m wrapped \u001b[38;5;241m=\u001b[39m func\u001b[38;5;241m.\u001b[39m\u001b[38;5;21m__get__\u001b[39m(instance, \u001b[38;5;28mcls\u001b[39m)\n\u001b[1;32m---> 75\u001b[0m \u001b[38;5;28;01mreturn\u001b[39;00m wrapped(\u001b[38;5;241m*\u001b[39margs, \u001b[38;5;241m*\u001b[39m\u001b[38;5;241m*\u001b[39mkwargs)\n",
      "File \u001b[1;32md:\\conda\\envs\\pytorch\\lib\\site-packages\\torch\\optim\\optimizer.py:391\u001b[0m, in \u001b[0;36mOptimizer.profile_hook_step.<locals>.wrapper\u001b[1;34m(*args, **kwargs)\u001b[0m\n\u001b[0;32m    386\u001b[0m         \u001b[38;5;28;01melse\u001b[39;00m:\n\u001b[0;32m    387\u001b[0m             \u001b[38;5;28;01mraise\u001b[39;00m \u001b[38;5;167;01mRuntimeError\u001b[39;00m(\n\u001b[0;32m    388\u001b[0m                 \u001b[38;5;124mf\u001b[39m\u001b[38;5;124m\"\u001b[39m\u001b[38;5;132;01m{\u001b[39;00mfunc\u001b[38;5;132;01m}\u001b[39;00m\u001b[38;5;124m must return None or a tuple of (new_args, new_kwargs), but got \u001b[39m\u001b[38;5;132;01m{\u001b[39;00mresult\u001b[38;5;132;01m}\u001b[39;00m\u001b[38;5;124m.\u001b[39m\u001b[38;5;124m\"\u001b[39m\n\u001b[0;32m    389\u001b[0m             )\n\u001b[1;32m--> 391\u001b[0m out \u001b[38;5;241m=\u001b[39m func(\u001b[38;5;241m*\u001b[39margs, \u001b[38;5;241m*\u001b[39m\u001b[38;5;241m*\u001b[39mkwargs)\n\u001b[0;32m    392\u001b[0m \u001b[38;5;28mself\u001b[39m\u001b[38;5;241m.\u001b[39m_optimizer_step_code()\n\u001b[0;32m    394\u001b[0m \u001b[38;5;66;03m# call optimizer step post hooks\u001b[39;00m\n",
      "File \u001b[1;32md:\\conda\\envs\\pytorch\\lib\\site-packages\\torch\\optim\\optimizer.py:76\u001b[0m, in \u001b[0;36m_use_grad_for_differentiable.<locals>._use_grad\u001b[1;34m(self, *args, **kwargs)\u001b[0m\n\u001b[0;32m     74\u001b[0m     torch\u001b[38;5;241m.\u001b[39mset_grad_enabled(\u001b[38;5;28mself\u001b[39m\u001b[38;5;241m.\u001b[39mdefaults[\u001b[38;5;124m'\u001b[39m\u001b[38;5;124mdifferentiable\u001b[39m\u001b[38;5;124m'\u001b[39m])\n\u001b[0;32m     75\u001b[0m     torch\u001b[38;5;241m.\u001b[39m_dynamo\u001b[38;5;241m.\u001b[39mgraph_break()\n\u001b[1;32m---> 76\u001b[0m     ret \u001b[38;5;241m=\u001b[39m func(\u001b[38;5;28mself\u001b[39m, \u001b[38;5;241m*\u001b[39margs, \u001b[38;5;241m*\u001b[39m\u001b[38;5;241m*\u001b[39mkwargs)\n\u001b[0;32m     77\u001b[0m \u001b[38;5;28;01mfinally\u001b[39;00m:\n\u001b[0;32m     78\u001b[0m     torch\u001b[38;5;241m.\u001b[39m_dynamo\u001b[38;5;241m.\u001b[39mgraph_break()\n",
      "File \u001b[1;32md:\\conda\\envs\\pytorch\\lib\\site-packages\\torch\\optim\\adam.py:148\u001b[0m, in \u001b[0;36mAdam.step\u001b[1;34m(self, closure)\u001b[0m\n\u001b[0;32m    146\u001b[0m \u001b[38;5;28;01mif\u001b[39;00m closure \u001b[38;5;129;01mis\u001b[39;00m \u001b[38;5;129;01mnot\u001b[39;00m \u001b[38;5;28;01mNone\u001b[39;00m:\n\u001b[0;32m    147\u001b[0m     \u001b[38;5;28;01mwith\u001b[39;00m torch\u001b[38;5;241m.\u001b[39menable_grad():\n\u001b[1;32m--> 148\u001b[0m         loss \u001b[38;5;241m=\u001b[39m \u001b[43mclosure\u001b[49m\u001b[43m(\u001b[49m\u001b[43m)\u001b[49m\n\u001b[0;32m    150\u001b[0m \u001b[38;5;28;01mfor\u001b[39;00m group \u001b[38;5;129;01min\u001b[39;00m \u001b[38;5;28mself\u001b[39m\u001b[38;5;241m.\u001b[39mparam_groups:\n\u001b[0;32m    151\u001b[0m     params_with_grad \u001b[38;5;241m=\u001b[39m []\n",
      "Cell \u001b[1;32mIn[4], line 79\u001b[0m, in \u001b[0;36mclosure\u001b[1;34m()\u001b[0m\n\u001b[0;32m     77\u001b[0m loss_pde \u001b[38;5;241m=\u001b[39m loss_eq1 \u001b[38;5;241m+\u001b[39m loss_eq2 \u001b[38;5;241m+\u001b[39m loss_eq3 \u001b[38;5;241m+\u001b[39m loss_eq4 \u001b[38;5;241m+\u001b[39m loss_eq5 \u001b[38;5;241m+\u001b[39m loss_eq6\n\u001b[0;32m     78\u001b[0m loss_bc1 \u001b[38;5;241m=\u001b[39m compute_bc(model, coords_bc1)\n\u001b[1;32m---> 79\u001b[0m loss_bc2 \u001b[38;5;241m=\u001b[39m \u001b[43mcompute_bc\u001b[49m\u001b[43m(\u001b[49m\u001b[43mmodel\u001b[49m\u001b[43m,\u001b[49m\u001b[43m \u001b[49m\u001b[43mcoords_bc2\u001b[49m\u001b[43m)\u001b[49m\n\u001b[0;32m     80\u001b[0m loss_ic1, loss_ic2 \u001b[38;5;241m=\u001b[39m compute_ic(model, coords_ic)\n\u001b[0;32m     82\u001b[0m \u001b[38;5;66;03m#Give a weight to initial loss term\u001b[39;00m\n",
      "File \u001b[1;32me:\\Report 12 Some Try\\Main_Diffusion_Reaction\\pde_system.py:86\u001b[0m, in \u001b[0;36mcompute_bc\u001b[1;34m(model, coords)\u001b[0m\n\u001b[0;32m     76\u001b[0m bc_ca,bc_cbc,bc_cc \u001b[38;5;241m=\u001b[39m u[:,\u001b[38;5;241m0\u001b[39m], u[:,\u001b[38;5;241m1\u001b[39m], u[:,\u001b[38;5;241m2\u001b[39m]\n\u001b[0;32m     78\u001b[0m \u001b[38;5;66;03m##Neumann Boundary Condition\u001b[39;00m\n\u001b[0;32m     79\u001b[0m \u001b[38;5;66;03m# bc_ca_dx = gradients(bc_ca, coords)[:, 0]\u001b[39;00m\n\u001b[0;32m     80\u001b[0m \u001b[38;5;66;03m# bc_cbc_dx = gradients(bc_cbc, coords)[:, 0]\u001b[39;00m\n\u001b[1;32m   (...)\u001b[0m\n\u001b[0;32m     83\u001b[0m \u001b[38;5;66;03m# bc_cabb_dx = gradients(bc_cabb, coords)[:, 0]\u001b[39;00m\n\u001b[0;32m     84\u001b[0m \u001b[38;5;66;03m# bc_caab_dx = gradients(bc_caab, coords)[:, 0]\u001b[39;00m\n\u001b[1;32m---> 86\u001b[0m gradients_x \u001b[38;5;241m=\u001b[39m [gradients(c, coords)[:,\u001b[38;5;241m0\u001b[39m] \u001b[38;5;28;01mfor\u001b[39;00m c \u001b[38;5;129;01min\u001b[39;00m [bc_ca,bc_cbc,bc_cc]]\n\u001b[0;32m     87\u001b[0m bc_ca_dx,bc_cbc_dx,bc_cc_dx \u001b[38;5;241m=\u001b[39m gradients_x\n\u001b[0;32m     90\u001b[0m \u001b[38;5;66;03m##Gradient Enhance\u001b[39;00m\n\u001b[0;32m     91\u001b[0m \u001b[38;5;66;03m# bc_ca_dxx = gradients(bc_ca_dx, coords)[:, 0]\u001b[39;00m\n\u001b[0;32m     92\u001b[0m \u001b[38;5;66;03m# bc_cbc_dxx = gradients(bc_cbc_dx, coords)[:, 0]\u001b[39;00m\n\u001b[0;32m     93\u001b[0m \u001b[38;5;66;03m# bc_cc_dxx = gradients(bc_cc_dx, coords)[:, 0]    \u001b[39;00m\n",
      "File \u001b[1;32me:\\Report 12 Some Try\\Main_Diffusion_Reaction\\pde_system.py:86\u001b[0m, in \u001b[0;36m<listcomp>\u001b[1;34m(.0)\u001b[0m\n\u001b[0;32m     76\u001b[0m bc_ca,bc_cbc,bc_cc \u001b[38;5;241m=\u001b[39m u[:,\u001b[38;5;241m0\u001b[39m], u[:,\u001b[38;5;241m1\u001b[39m], u[:,\u001b[38;5;241m2\u001b[39m]\n\u001b[0;32m     78\u001b[0m \u001b[38;5;66;03m##Neumann Boundary Condition\u001b[39;00m\n\u001b[0;32m     79\u001b[0m \u001b[38;5;66;03m# bc_ca_dx = gradients(bc_ca, coords)[:, 0]\u001b[39;00m\n\u001b[0;32m     80\u001b[0m \u001b[38;5;66;03m# bc_cbc_dx = gradients(bc_cbc, coords)[:, 0]\u001b[39;00m\n\u001b[1;32m   (...)\u001b[0m\n\u001b[0;32m     83\u001b[0m \u001b[38;5;66;03m# bc_cabb_dx = gradients(bc_cabb, coords)[:, 0]\u001b[39;00m\n\u001b[0;32m     84\u001b[0m \u001b[38;5;66;03m# bc_caab_dx = gradients(bc_caab, coords)[:, 0]\u001b[39;00m\n\u001b[1;32m---> 86\u001b[0m gradients_x \u001b[38;5;241m=\u001b[39m [\u001b[43mgradients\u001b[49m\u001b[43m(\u001b[49m\u001b[43mc\u001b[49m\u001b[43m,\u001b[49m\u001b[43m \u001b[49m\u001b[43mcoords\u001b[49m\u001b[43m)\u001b[49m[:,\u001b[38;5;241m0\u001b[39m] \u001b[38;5;28;01mfor\u001b[39;00m c \u001b[38;5;129;01min\u001b[39;00m [bc_ca,bc_cbc,bc_cc]]\n\u001b[0;32m     87\u001b[0m bc_ca_dx,bc_cbc_dx,bc_cc_dx \u001b[38;5;241m=\u001b[39m gradients_x\n\u001b[0;32m     90\u001b[0m \u001b[38;5;66;03m##Gradient Enhance\u001b[39;00m\n\u001b[0;32m     91\u001b[0m \u001b[38;5;66;03m# bc_ca_dxx = gradients(bc_ca_dx, coords)[:, 0]\u001b[39;00m\n\u001b[0;32m     92\u001b[0m \u001b[38;5;66;03m# bc_cbc_dxx = gradients(bc_cbc_dx, coords)[:, 0]\u001b[39;00m\n\u001b[0;32m     93\u001b[0m \u001b[38;5;66;03m# bc_cc_dxx = gradients(bc_cc_dx, coords)[:, 0]    \u001b[39;00m\n",
      "File \u001b[1;32me:\\Report 12 Some Try\\Utilitiy\\gradients_func.py:5\u001b[0m, in \u001b[0;36mgradients\u001b[1;34m(u, x, order)\u001b[0m\n\u001b[0;32m      3\u001b[0m \u001b[38;5;28;01mdef\u001b[39;00m \u001b[38;5;21mgradients\u001b[39m(u, x, order \u001b[38;5;241m=\u001b[39m \u001b[38;5;241m1\u001b[39m):\n\u001b[0;32m      4\u001b[0m     \u001b[38;5;28;01mif\u001b[39;00m order \u001b[38;5;241m==\u001b[39m \u001b[38;5;241m1\u001b[39m:\n\u001b[1;32m----> 5\u001b[0m         \u001b[38;5;28;01mreturn\u001b[39;00m \u001b[43mtorch\u001b[49m\u001b[38;5;241;43m.\u001b[39;49m\u001b[43mautograd\u001b[49m\u001b[38;5;241;43m.\u001b[39;49m\u001b[43mgrad\u001b[49m\u001b[43m(\u001b[49m\u001b[43mu\u001b[49m\u001b[43m,\u001b[49m\u001b[43m \u001b[49m\u001b[43mx\u001b[49m\u001b[43m,\u001b[49m\u001b[43m \u001b[49m\u001b[43mgrad_outputs\u001b[49m\u001b[38;5;241;43m=\u001b[39;49m\u001b[43mtorch\u001b[49m\u001b[38;5;241;43m.\u001b[39;49m\u001b[43mones_like\u001b[49m\u001b[43m(\u001b[49m\u001b[43mu\u001b[49m\u001b[43m)\u001b[49m\u001b[43m,\u001b[49m\n\u001b[0;32m      6\u001b[0m \u001b[43m                                        \u001b[49m\u001b[43mcreate_graph\u001b[49m\u001b[38;5;241;43m=\u001b[39;49m\u001b[38;5;28;43;01mTrue\u001b[39;49;00m\u001b[43m,\u001b[49m\n\u001b[0;32m      7\u001b[0m \u001b[43m                                        \u001b[49m\u001b[43monly_inputs\u001b[49m\u001b[38;5;241;43m=\u001b[39;49m\u001b[38;5;28;43;01mTrue\u001b[39;49;00m\u001b[43m)\u001b[49m[\u001b[38;5;241m0\u001b[39m]\n\u001b[0;32m      8\u001b[0m     \u001b[38;5;28;01mreturn\u001b[39;00m gradients(gradients(u, x), x, order\u001b[38;5;241m=\u001b[39m order \u001b[38;5;241m-\u001b[39m \u001b[38;5;241m1\u001b[39m)\n",
      "File \u001b[1;32md:\\conda\\envs\\pytorch\\lib\\site-packages\\torch\\autograd\\__init__.py:412\u001b[0m, in \u001b[0;36mgrad\u001b[1;34m(outputs, inputs, grad_outputs, retain_graph, create_graph, only_inputs, allow_unused, is_grads_batched, materialize_grads)\u001b[0m\n\u001b[0;32m    408\u001b[0m     result \u001b[38;5;241m=\u001b[39m _vmap_internals\u001b[38;5;241m.\u001b[39m_vmap(vjp, \u001b[38;5;241m0\u001b[39m, \u001b[38;5;241m0\u001b[39m, allow_none_pass_through\u001b[38;5;241m=\u001b[39m\u001b[38;5;28;01mTrue\u001b[39;00m)(\n\u001b[0;32m    409\u001b[0m         grad_outputs_\n\u001b[0;32m    410\u001b[0m     )\n\u001b[0;32m    411\u001b[0m \u001b[38;5;28;01melse\u001b[39;00m:\n\u001b[1;32m--> 412\u001b[0m     result \u001b[38;5;241m=\u001b[39m \u001b[43m_engine_run_backward\u001b[49m\u001b[43m(\u001b[49m\n\u001b[0;32m    413\u001b[0m \u001b[43m        \u001b[49m\u001b[43mt_outputs\u001b[49m\u001b[43m,\u001b[49m\n\u001b[0;32m    414\u001b[0m \u001b[43m        \u001b[49m\u001b[43mgrad_outputs_\u001b[49m\u001b[43m,\u001b[49m\n\u001b[0;32m    415\u001b[0m \u001b[43m        \u001b[49m\u001b[43mretain_graph\u001b[49m\u001b[43m,\u001b[49m\n\u001b[0;32m    416\u001b[0m \u001b[43m        \u001b[49m\u001b[43mcreate_graph\u001b[49m\u001b[43m,\u001b[49m\n\u001b[0;32m    417\u001b[0m \u001b[43m        \u001b[49m\u001b[43minputs\u001b[49m\u001b[43m,\u001b[49m\n\u001b[0;32m    418\u001b[0m \u001b[43m        \u001b[49m\u001b[43mallow_unused\u001b[49m\u001b[43m,\u001b[49m\n\u001b[0;32m    419\u001b[0m \u001b[43m        \u001b[49m\u001b[43maccumulate_grad\u001b[49m\u001b[38;5;241;43m=\u001b[39;49m\u001b[38;5;28;43;01mFalse\u001b[39;49;00m\u001b[43m,\u001b[49m\n\u001b[0;32m    420\u001b[0m \u001b[43m    \u001b[49m\u001b[43m)\u001b[49m\n\u001b[0;32m    421\u001b[0m \u001b[38;5;28;01mif\u001b[39;00m materialize_grads:\n\u001b[0;32m    422\u001b[0m     \u001b[38;5;28;01mif\u001b[39;00m \u001b[38;5;28many\u001b[39m(\n\u001b[0;32m    423\u001b[0m         result[i] \u001b[38;5;129;01mis\u001b[39;00m \u001b[38;5;28;01mNone\u001b[39;00m \u001b[38;5;129;01mand\u001b[39;00m \u001b[38;5;129;01mnot\u001b[39;00m is_tensor_like(inputs[i])\n\u001b[0;32m    424\u001b[0m         \u001b[38;5;28;01mfor\u001b[39;00m i \u001b[38;5;129;01min\u001b[39;00m \u001b[38;5;28mrange\u001b[39m(\u001b[38;5;28mlen\u001b[39m(inputs))\n\u001b[0;32m    425\u001b[0m     ):\n",
      "File \u001b[1;32md:\\conda\\envs\\pytorch\\lib\\site-packages\\torch\\autograd\\graph.py:744\u001b[0m, in \u001b[0;36m_engine_run_backward\u001b[1;34m(t_outputs, *args, **kwargs)\u001b[0m\n\u001b[0;32m    742\u001b[0m     unregister_hooks \u001b[38;5;241m=\u001b[39m _register_logging_hooks_on_whole_graph(t_outputs)\n\u001b[0;32m    743\u001b[0m \u001b[38;5;28;01mtry\u001b[39;00m:\n\u001b[1;32m--> 744\u001b[0m     \u001b[38;5;28;01mreturn\u001b[39;00m Variable\u001b[38;5;241m.\u001b[39m_execution_engine\u001b[38;5;241m.\u001b[39mrun_backward(  \u001b[38;5;66;03m# Calls into the C++ engine to run the backward pass\u001b[39;00m\n\u001b[0;32m    745\u001b[0m         t_outputs, \u001b[38;5;241m*\u001b[39margs, \u001b[38;5;241m*\u001b[39m\u001b[38;5;241m*\u001b[39mkwargs\n\u001b[0;32m    746\u001b[0m     )  \u001b[38;5;66;03m# Calls into the C++ engine to run the backward pass\u001b[39;00m\n\u001b[0;32m    747\u001b[0m \u001b[38;5;28;01mfinally\u001b[39;00m:\n\u001b[0;32m    748\u001b[0m     \u001b[38;5;28;01mif\u001b[39;00m attach_logging_hooks:\n",
      "\u001b[1;31mKeyboardInterrupt\u001b[0m: "
     ]
    }
   ],
   "source": [
    "from torch import Tensor\n",
    "\n",
    "\n",
    "hiddens = [6]  ##[3,4] already finished\n",
    "neurons = [128]\n",
    "\n",
    "activation = torch.nn.functional.silu\n",
    "\n",
    "start_lr = 1e-4\n",
    "end_lr = 1e-8\n",
    "\n",
    "weight = [1, 1, 1, 1, 1, 1]\n",
    "for hidden in hiddens:\n",
    "    for neuron in neurons:\n",
    "        for mode in ['Fourier_PINN_96', 'Fourier_PINN_128']:  ##['PINN', 'IA_PINN', 'Fourier_PINN', 'AF_PINN']\n",
    "            layer = [2] + [neuron]*hidden + [6]\n",
    "            \n",
    "            star_time = timeit.default_timer()\n",
    "            num_epochs = 5000\n",
    "            sub_spochs = 10\n",
    "\n",
    "            loss_log_total,loss_log_pde, loss_log_bc, loss_log_ic = [],[],[],[]\n",
    "            torch.cuda.empty_cache()\n",
    "            print(f'{mode}_[{neuron}]x{hidden}:')\n",
    "            \n",
    "            if mode == 'PINN':\n",
    "                model = PINN(layer,activation,non_negative=True).to(device)\n",
    "                optimizer = optim.Adam(model.parameters(), lr=start_lr)  \n",
    "                scheduler = optim.lr_scheduler.CosineAnnealingLR(optimizer, T_max=num_epochs * sub_spochs, eta_min=end_lr)\n",
    "            elif mode == 'IA_PINN':\n",
    "                model = Attention_PINN(layer,activation,non_negative=True).to(device)\n",
    "                optimizer = optim.Adam(model.parameters(), lr=start_lr)  \n",
    "                scheduler = optim.lr_scheduler.CosineAnnealingLR(optimizer, T_max=num_epochs * sub_spochs, eta_min=end_lr)\n",
    "            \n",
    "            ####################    \n",
    "            elif mode == 'Fourier_PINN_96':\n",
    "                model = Fourier_PINN(layer,non_negative=True, activation= activation, use_rff=True, rff_num_features=96, rff_sigma=1.0).to(device)\n",
    "                optimizer = optim.Adam(model.parameters(), lr=start_lr)  \n",
    "                scheduler = optim.lr_scheduler.CosineAnnealingLR(optimizer, T_max=num_epochs * sub_spochs, eta_min=end_lr)\n",
    "            elif mode == 'Fourier_PINN_128':\n",
    "                model = Fourier_PINN(layer,non_negative=True, activation= activation, use_rff=True, rff_num_features=128, rff_sigma=1.0).to(device)\n",
    "                optimizer = optim.Adam(model.parameters(), lr=start_lr)  \n",
    "                scheduler = optim.lr_scheduler.CosineAnnealingLR(optimizer, T_max=num_epochs * sub_spochs, eta_min=end_lr)\n",
    "            elif mode == 'Fourier_PINN_10':\n",
    "                model = Fourier_PINN(layer,non_negative=True, activation= activation, use_rff=True, rff_num_features=64, rff_sigma=10.0).to(device)\n",
    "                optimizer = optim.Adam(model.parameters(), lr=start_lr)  \n",
    "                scheduler = optim.lr_scheduler.CosineAnnealingLR(optimizer, T_max=num_epochs * sub_spochs, eta_min=end_lr)\n",
    "            ######################\n",
    "            \n",
    "            elif mode == 'AF_PINN':\n",
    "                model = AF_PINN(layer, non_negative=True,activation = activation, use_rff=True, rff_num_features=64, rff_sigma=1.0).to(device)\n",
    "                optimizer = optim.Adam(model.parameters(), lr=start_lr)  \n",
    "                scheduler = optim.lr_scheduler.CosineAnnealingLR(optimizer, T_max=num_epochs * sub_spochs, eta_min=end_lr)\n",
    "            else:\n",
    "                print(\"Man! What can I say! Wrong Mode!!!\")\n",
    "                break            \n",
    "            points_types = ['domain', 'left_bc', 'right_bc', 'initial']\n",
    "\n",
    "            coords_pde, coords_bc1, coords_bc2, coords_ic = [\n",
    "                generator.grid_generator(2500 if pt in ['left_bc', 'right_bc'] else 10201, points_type=pt, nondim= True) \n",
    "                for pt in points_types\n",
    "            ]\n",
    "\n",
    "            for idx in range(sub_spochs):\n",
    "                print(f'Epoch: {idx+1}/{sub_spochs}----------------')\n",
    "                model.train()\n",
    "                \n",
    "                pbar = tqdm(range(num_epochs))\n",
    "                for epoch in pbar:\n",
    "                    current_lr = optimizer.param_groups[0]['lr'] \n",
    "                    def closure() -> Tensor:\n",
    "                        global loss_pde, D_star, loss_bc1, loss_bc2, loss_ic1, loss_ic2\n",
    "                        optimizer.zero_grad()\n",
    "\n",
    "                        # 计算损失时使用batch数据\n",
    "                        loss_eq1, loss_eq2, loss_eq3, loss_eq4, loss_eq5, loss_eq6, D_star = compute_pde(model, coords_pde)\n",
    "                        loss_pde = loss_eq1 + loss_eq2 + loss_eq3 + loss_eq4 + loss_eq5 + loss_eq6\n",
    "                        loss_bc1 = compute_bc(model, coords_bc1)\n",
    "                        loss_bc2 = compute_bc(model, coords_bc2)\n",
    "                        loss_ic1, loss_ic2 = compute_ic(model, coords_ic)\n",
    "\n",
    "                        #Give a weight to initial loss term\n",
    "                        loss = weight[0]*loss_pde +  weight[1]*loss_bc1 +  weight[2]*loss_bc2 +  weight[3]*loss_ic1 +  weight[4]*loss_ic2 \n",
    "\n",
    "                        loss.backward()\n",
    "                        torch.nn.utils.clip_grad_norm_(model.parameters(), max_norm=1.0, norm_type= 2)\n",
    "                        return loss\n",
    "\n",
    "                    optimizer.step(closure)\n",
    "                    \n",
    "                    # 如果使用scheduler（只在Adam阶段）\n",
    "                    if scheduler is not None:\n",
    "                        scheduler.step()\n",
    "                    \n",
    "                    loss_total = weight[0]*loss_pde +  weight[1]*loss_bc1 +  weight[2]*loss_bc2 +  weight[3]*loss_ic1 +  weight[4]*loss_ic2 \n",
    "\n",
    "                    loss_log_total.append(loss_total.item())\n",
    "                    loss_log_pde.append(loss_pde.item())\n",
    "                    loss_log_bc.append(loss_bc1.item() + loss_bc2.item())\n",
    "                    loss_log_ic.append(loss_ic1.item() + loss_ic2.item())\n",
    "                    \n",
    "                    if epoch % 10 == 0:\n",
    "                        pbar.set_postfix({\n",
    "                            'Loss': '{0:.3e}'.format(loss_total),\n",
    "                            'PDE': '{0:.3e}'.format(weight[0]*loss_pde.item()),\n",
    "                            'BC': '{0:.3e},{1:.3e}'.format(weight[1]*loss_bc1.item(),weight[2]*loss_bc2.item()),\n",
    "                            'IC': '{0:.3e},{1:.3e}'.format(weight[3]*loss_ic1.item(),weight[4]*loss_ic2.item()),\n",
    "                            'D*': '{0:.2e},{1:.2e}'.format(torch.max(D_star),torch.min(D_star)),\n",
    "                            'lr': '{0:.2e}'.format(current_lr),\n",
    "                        })        \n",
    "                    # # 将四个张量放在一个列表中并随机打乱\n",
    "                    shuffled_tensors = [tensor[torch.randperm(tensor.size(0))] for tensor in [coords_pde, coords_bc1, coords_bc2, coords_ic]]\n",
    "\n",
    "                    # 解包到四个变量中\n",
    "                    coords_pde, coords_bc1, coords_bc2, coords_ic = shuffled_tensors\n",
    "                \n",
    "                    if torch.isnan(loss_total):\n",
    "                        print('Loss is Nan, please check your model parameters')\n",
    "                        break\n",
    "                \n",
    "                true_path = './FDM/range[0,1]/'\n",
    "                file_names = ['u1_output.csv','u2_output.csv','u3_output.csv','u4_output.csv','u5_output.csv','u6_output.csv']\n",
    "                true_data = [pd.read_csv(true_path + file_name,header=None) for file_name in file_names]\n",
    "\n",
    "                model.eval()\n",
    "                val_data = generator.grid_generator(N=10201, points_type= 'domain', nondim= True)\n",
    "                result = model(val_data).data.cpu().numpy()\n",
    "                relative_error(result,true_data)\n",
    "\n",
    "                ##模型储存\n",
    "                save_path = f'./Results/{mode}_[{neuron}]x{hidden}/model_save/'\n",
    "                os.makedirs(save_path, exist_ok=True)  # 确保保存路径存在\n",
    "                # 指定模型文件名\n",
    "                model_file = os.path.join(save_path, f'{mode}_[{neuron}]x{hidden}_{(idx+1)*num_epochs}.pth')\n",
    "                # 保存模型\n",
    "                torch.save(model.state_dict(), model_file)\n",
    "                print(f\"模型已保存至 {model_file}\")\n",
    "            \n",
    "            # 绘制结果\n",
    "            plot_loss_curve(f'{mode}_[{neuron}]x{hidden}',loss_log_total,loss_log_pde, loss_log_bc, loss_log_ic)\n",
    "            \n",
    "            plot_relative_concen(f'{mode}_[{neuron}]x{hidden}',result,data_save=True)\n",
    "            \n",
    "            plot_3d_concen(f'{mode}_[{neuron}]x{hidden}', result, true_data)\n",
    "\n",
    "            Training_time = timeit.default_timer() - star_time\n",
    "            print(f'Training time: {Training_time:.2f}s-------------------------')\n"
   ]
  }
 ],
 "metadata": {
  "kernelspec": {
   "display_name": "pytorch",
   "language": "python",
   "name": "python3"
  },
  "language_info": {
   "codemirror_mode": {
    "name": "ipython",
    "version": 3
   },
   "file_extension": ".py",
   "mimetype": "text/x-python",
   "name": "python",
   "nbconvert_exporter": "python",
   "pygments_lexer": "ipython3",
   "version": "3.9.7"
  }
 },
 "nbformat": 4,
 "nbformat_minor": 2
}
