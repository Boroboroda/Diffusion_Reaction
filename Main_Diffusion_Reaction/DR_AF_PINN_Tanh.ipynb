{
 "cells": [
  {
   "cell_type": "code",
   "execution_count": 1,
   "metadata": {},
   "outputs": [
    {
     "name": "stdout",
     "output_type": "stream",
     "text": [
      "Using device: cuda:0\n"
     ]
    }
   ],
   "source": [
    "import sys\n",
    "import os\n",
    "import timeit\n",
    "\n",
    "current_dir = os.getcwd()\n",
    "\n",
    "parent_dir = os.path.dirname(current_dir)\n",
    "sys.path.append(parent_dir)\n",
    "\n",
    "import torch\n",
    "import torch.nn as nn\n",
    "import torch.optim as optim\n",
    "import numpy as np\n",
    "from tqdm import *\n",
    "import matplotlib.pyplot as plt\n",
    "from matplotlib import cm\n",
    "from mpl_toolkits.mplot3d import Axes3D\n",
    "from matplotlib import gridspec\n",
    "import random\n",
    "\n",
    "from Networks.DNN import PINN\n",
    "from Networks.IA_DNN import Attention_PINN\n",
    "from Networks.Fourier_DNN import Fourier_PINN\n",
    "from Networks.AF_PINN import AF_PINN\n",
    "from Networks.Efficient_KAN import KAN\n",
    "from Networks.Cheby_KAN import ChebyKAN\n",
    "from DataGenerator import DataGenerator\n",
    "\n",
    "import pandas as pd\n",
    "\n",
    "from torch.utils.data import TensorDataset, DataLoader\n",
    "\n",
    "import time\n",
    "from datetime import datetime\n",
    "\n",
    "device = torch.device(\"cuda:0\" if torch.cuda.is_available() else \"cpu\")\n",
    "print(\"Using device:\", device)\n",
    "def seed_torch(seed):\n",
    "    random.seed(seed)\n",
    "    np.random.seed(seed)\n",
    "    torch.manual_seed(seed)\n",
    "    torch.cuda.manual_seed(seed)\n",
    "seed_torch(42)"
   ]
  },
  {
   "cell_type": "code",
   "execution_count": 2,
   "metadata": {},
   "outputs": [],
   "source": [
    "L = 600.0\n",
    "h = 100.0\n",
    "anneal_time= 60\n",
    "D_A = 360.0  #6nm^2/s 360nm^2/min\n",
    "k11,k12,k21 = 3.6e-3,3.6e-3,0.0\n",
    "N_SA,N_SB,N_SC,N_SAB,N_SABB,N_SAAB = 90.0,48.0,90.0,90.0,90.0,90.0\n",
    "\n",
    "geom = [0,L]\n",
    "time = [0,anneal_time]\n",
    "\n",
    "##How I genertate data\n",
    "generator = DataGenerator(geom,time)\n",
    "\n",
    "from pde_system import compute_pde, compute_bc, compute_ic,relative_error\n",
    "from graphics import plot_loss_curve,plot_relative_concen,plot_3d_concen\n",
    "# from Utilitiy.residual_adaptive_resample import select_high_loss_points\n"
   ]
  },
  {
   "cell_type": "code",
   "execution_count": 3,
   "metadata": {},
   "outputs": [
    {
     "name": "stdout",
     "output_type": "stream",
     "text": [
      "AF_PINN_[128]x6:\n",
      "Epoch: 1/10----------------\n"
     ]
    },
    {
     "name": "stderr",
     "output_type": "stream",
     "text": [
      "100%|██████████| 3000/3000 [16:56<00:00,  2.95it/s, Loss=3.631e-02, PDE=9.755e-03, BC=1.699e-03,4.896e-05, IC=2.402e-02,7.876e-04, D*=5.99e-02,4.27e-03, lr=9.76e-04]\n"
     ]
    },
    {
     "name": "stdout",
     "output_type": "stream",
     "text": [
      "R^2 Error: {'Ni': 0.112, 'SiC': 0.043, 'C': 0.141, 'NiSi': 0.242, 'NiSi2': 0.265}\n",
      "Inf Error: {'Ni': 0.104, 'SiC': 0.045, 'C': 0.182, 'NiSi': 0.301, 'NiSi2': 0.437}\n",
      "Mean Error: (0.16037130504392008, 0.21380615723025817)\n",
      "模型已保存至 ./Results/AF_PINN_[128]x6/model_save/AF_PINN_[128]x6_3000.pth\n",
      "Epoch: 2/10----------------\n"
     ]
    },
    {
     "name": "stderr",
     "output_type": "stream",
     "text": [
      "100%|██████████| 3000/3000 [16:09<00:00,  3.09it/s, Loss=2.180e-02, PDE=3.852e-03, BC=5.715e-04,1.727e-04, IC=1.667e-02,5.324e-04, D*=6.00e-02,3.12e-03, lr=9.05e-04]\n"
     ]
    },
    {
     "name": "stdout",
     "output_type": "stream",
     "text": [
      "R^2 Error: {'Ni': 0.088, 'SiC': 0.03, 'C': 0.082, 'NiSi': 0.23, 'NiSi2': 0.25}\n",
      "Inf Error: {'Ni': 0.096, 'SiC': 0.038, 'C': 0.173, 'NiSi': 0.351, 'NiSi2': 0.576}\n",
      "Mean Error: (0.135800331500512, 0.24659907151084118)\n",
      "模型已保存至 ./Results/AF_PINN_[128]x6/model_save/AF_PINN_[128]x6_6000.pth\n",
      "Epoch: 3/10----------------\n"
     ]
    },
    {
     "name": "stderr",
     "output_type": "stream",
     "text": [
      "100%|██████████| 3000/3000 [15:59<00:00,  3.13it/s, Loss=2.026e-02, PDE=6.245e-03, BC=4.094e-04,6.159e-06, IC=1.322e-02,3.795e-04, D*=6.00e-02,2.24e-03, lr=7.94e-04]\n"
     ]
    },
    {
     "name": "stdout",
     "output_type": "stream",
     "text": [
      "R^2 Error: {'Ni': 0.079, 'SiC': 0.024, 'C': 0.079, 'NiSi': 0.197, 'NiSi2': 0.201}\n",
      "Inf Error: {'Ni': 0.077, 'SiC': 0.036, 'C': 0.156, 'NiSi': 0.335, 'NiSi2': 0.53}\n",
      "Mean Error: (0.11607221352285266, 0.2266239294008059)\n",
      "模型已保存至 ./Results/AF_PINN_[128]x6/model_save/AF_PINN_[128]x6_9000.pth\n",
      "Epoch: 4/10----------------\n"
     ]
    },
    {
     "name": "stderr",
     "output_type": "stream",
     "text": [
      "100%|██████████| 3000/3000 [16:03<00:00,  3.11it/s, Loss=1.824e-02, PDE=2.796e-03, BC=8.849e-04,8.207e-06, IC=1.413e-02,4.174e-04, D*=6.00e-02,2.58e-03, lr=6.55e-04]\n"
     ]
    },
    {
     "name": "stdout",
     "output_type": "stream",
     "text": [
      "R^2 Error: {'Ni': 0.104, 'SiC': 0.021, 'C': 0.092, 'NiSi': 0.197, 'NiSi2': 0.234}\n",
      "Inf Error: {'Ni': 0.096, 'SiC': 0.028, 'C': 0.146, 'NiSi': 0.354, 'NiSi2': 0.628}\n",
      "Mean Error: (0.12943136413250328, 0.2505207851974195)\n",
      "模型已保存至 ./Results/AF_PINN_[128]x6/model_save/AF_PINN_[128]x6_12000.pth\n",
      "Epoch: 5/10----------------\n"
     ]
    },
    {
     "name": "stderr",
     "output_type": "stream",
     "text": [
      "100%|██████████| 3000/3000 [16:02<00:00,  3.12it/s, Loss=1.468e-02, PDE=3.775e-03, BC=1.808e-04,8.686e-06, IC=1.037e-02,3.483e-04, D*=6.00e-02,2.36e-03, lr=5.01e-04]\n"
     ]
    },
    {
     "name": "stdout",
     "output_type": "stream",
     "text": [
      "R^2 Error: {'Ni': 0.059, 'SiC': 0.023, 'C': 0.063, 'NiSi': 0.173, 'NiSi2': 0.182}\n",
      "Inf Error: {'Ni': 0.059, 'SiC': 0.022, 'C': 0.13, 'NiSi': 0.316, 'NiSi2': 0.558}\n",
      "Mean Error: (0.09997039351293609, 0.21704135019147497)\n",
      "模型已保存至 ./Results/AF_PINN_[128]x6/model_save/AF_PINN_[128]x6_15000.pth\n",
      "Epoch: 6/10----------------\n"
     ]
    },
    {
     "name": "stderr",
     "output_type": "stream",
     "text": [
      "100%|██████████| 3000/3000 [16:10<00:00,  3.09it/s, Loss=9.594e-03, PDE=3.777e-03, BC=1.895e-04,1.644e-06, IC=5.339e-03,2.879e-04, D*=6.00e-02,2.43e-03, lr=3.46e-04]\n"
     ]
    },
    {
     "name": "stdout",
     "output_type": "stream",
     "text": [
      "R^2 Error: {'Ni': 0.052, 'SiC': 0.008, 'C': 0.054, 'NiSi': 0.16, 'NiSi2': 0.146}\n",
      "Inf Error: {'Ni': 0.053, 'SiC': 0.016, 'C': 0.116, 'NiSi': 0.297, 'NiSi2': 0.457}\n",
      "Mean Error: (0.08400355848033562, 0.1878402590190585)\n",
      "模型已保存至 ./Results/AF_PINN_[128]x6/model_save/AF_PINN_[128]x6_18000.pth\n",
      "Epoch: 7/10----------------\n"
     ]
    },
    {
     "name": "stderr",
     "output_type": "stream",
     "text": [
      "100%|██████████| 3000/3000 [16:02<00:00,  3.12it/s, Loss=2.447e-02, PDE=1.957e-02, BC=4.072e-04,6.245e-06, IC=4.259e-03,2.220e-04, D*=6.00e-02,2.19e-03, lr=2.07e-04]\n"
     ]
    },
    {
     "name": "stdout",
     "output_type": "stream",
     "text": [
      "R^2 Error: {'Ni': 0.058, 'SiC': 0.009, 'C': 0.047, 'NiSi': 0.13, 'NiSi2': 0.141}\n",
      "Inf Error: {'Ni': 0.058, 'SiC': 0.017, 'C': 0.108, 'NiSi': 0.269, 'NiSi2': 0.455}\n",
      "Mean Error: (0.07691743257793518, 0.18133561194387748)\n",
      "模型已保存至 ./Results/AF_PINN_[128]x6/model_save/AF_PINN_[128]x6_21000.pth\n",
      "Epoch: 8/10----------------\n"
     ]
    },
    {
     "name": "stderr",
     "output_type": "stream",
     "text": [
      "100%|██████████| 3000/3000 [16:48<00:00,  2.97it/s, Loss=1.070e-02, PDE=5.651e-03, BC=2.057e-03,4.389e-06, IC=2.859e-03,1.291e-04, D*=6.00e-02,1.72e-03, lr=9.58e-05]\n"
     ]
    },
    {
     "name": "stdout",
     "output_type": "stream",
     "text": [
      "R^2 Error: {'Ni': 0.04, 'SiC': 0.005, 'C': 0.029, 'NiSi': 0.106, 'NiSi2': 0.106}\n",
      "Inf Error: {'Ni': 0.042, 'SiC': 0.007, 'C': 0.077, 'NiSi': 0.229, 'NiSi2': 0.356}\n",
      "Mean Error: (0.05714003500314173, 0.14223030603768613)\n",
      "模型已保存至 ./Results/AF_PINN_[128]x6/model_save/AF_PINN_[128]x6_24000.pth\n",
      "Epoch: 9/10----------------\n"
     ]
    },
    {
     "name": "stderr",
     "output_type": "stream",
     "text": [
      "100%|██████████| 3000/3000 [16:55<00:00,  2.96it/s, Loss=8.029e-04, PDE=3.053e-04, BC=6.519e-06,1.016e-07, IC=4.215e-04,6.955e-05, D*=6.00e-02,1.10e-03, lr=2.46e-05]\n"
     ]
    },
    {
     "name": "stdout",
     "output_type": "stream",
     "text": [
      "R^2 Error: {'Ni': 0.026, 'SiC': 0.009, 'C': 0.028, 'NiSi': 0.097, 'NiSi2': 0.076}\n",
      "Inf Error: {'Ni': 0.026, 'SiC': 0.013, 'C': 0.072, 'NiSi': 0.195, 'NiSi2': 0.222}\n",
      "Mean Error: (0.04747631549134124, 0.10561445341630857)\n",
      "模型已保存至 ./Results/AF_PINN_[128]x6/model_save/AF_PINN_[128]x6_27000.pth\n",
      "Epoch: 10/10----------------\n"
     ]
    },
    {
     "name": "stderr",
     "output_type": "stream",
     "text": [
      "100%|██████████| 3000/3000 [17:16<00:00,  2.89it/s, Loss=5.207e-04, PDE=2.331e-04, BC=4.476e-06,6.813e-08, IC=2.246e-04,5.854e-05, D*=6.00e-02,9.60e-04, lr=1.03e-08]\n"
     ]
    },
    {
     "name": "stdout",
     "output_type": "stream",
     "text": [
      "R^2 Error: {'Ni': 0.025, 'SiC': 0.011, 'C': 0.028, 'NiSi': 0.093, 'NiSi2': 0.071}\n",
      "Inf Error: {'Ni': 0.024, 'SiC': 0.014, 'C': 0.067, 'NiSi': 0.182, 'NiSi2': 0.187}\n",
      "Mean Error: (0.04553953302110038, 0.09494742943671117)\n",
      "模型已保存至 ./Results/AF_PINN_[128]x6/model_save/AF_PINN_[128]x6_30000.pth\n",
      "Training time: 9886.86s-------------------------\n",
      "AF_PINN_[96]x6:\n",
      "Epoch: 1/10----------------\n"
     ]
    },
    {
     "name": "stderr",
     "output_type": "stream",
     "text": [
      "100%|██████████| 3000/3000 [14:43<00:00,  3.39it/s, Loss=2.993e-02, PDE=1.225e-02, BC=5.163e-03,9.980e-05, IC=1.158e-02,8.344e-04, D*=6.00e-02,2.87e-03, lr=9.76e-04]\n"
     ]
    },
    {
     "name": "stdout",
     "output_type": "stream",
     "text": [
      "R^2 Error: {'Ni': 0.091, 'SiC': 0.036, 'C': 0.098, 'NiSi': 0.288, 'NiSi2': 0.29}\n",
      "Inf Error: {'Ni': 0.085, 'SiC': 0.032, 'C': 0.13, 'NiSi': 0.375, 'NiSi2': 0.324}\n",
      "Mean Error: (0.1604211041241856, 0.18922043950711673)\n",
      "模型已保存至 ./Results/AF_PINN_[96]x6/model_save/AF_PINN_[96]x6_3000.pth\n",
      "Epoch: 2/10----------------\n"
     ]
    },
    {
     "name": "stderr",
     "output_type": "stream",
     "text": [
      "100%|██████████| 3000/3000 [14:50<00:00,  3.37it/s, Loss=5.177e-02, PDE=4.871e-03, BC=1.178e-02,5.502e-05, IC=3.447e-02,5.952e-04, D*=6.00e-02,3.40e-03, lr=9.05e-04]\n"
     ]
    },
    {
     "name": "stdout",
     "output_type": "stream",
     "text": [
      "R^2 Error: {'Ni': 0.107, 'SiC': 0.031, 'C': 0.078, 'NiSi': 0.243, 'NiSi2': 0.197}\n",
      "Inf Error: {'Ni': 0.099, 'SiC': 0.039, 'C': 0.085, 'NiSi': 0.298, 'NiSi2': 0.242}\n",
      "Mean Error: (0.13130244437903052, 0.15279369552844)\n",
      "模型已保存至 ./Results/AF_PINN_[96]x6/model_save/AF_PINN_[96]x6_6000.pth\n",
      "Epoch: 3/10----------------\n"
     ]
    },
    {
     "name": "stderr",
     "output_type": "stream",
     "text": [
      "100%|██████████| 3000/3000 [14:20<00:00,  3.48it/s, Loss=2.896e-02, PDE=7.503e-03, BC=3.852e-03,5.663e-05, IC=1.693e-02,6.246e-04, D*=6.00e-02,2.93e-03, lr=7.94e-04]\n"
     ]
    },
    {
     "name": "stdout",
     "output_type": "stream",
     "text": [
      "R^2 Error: {'Ni': 0.087, 'SiC': 0.029, 'C': 0.093, 'NiSi': 0.199, 'NiSi2': 0.129}\n",
      "Inf Error: {'Ni': 0.084, 'SiC': 0.032, 'C': 0.148, 'NiSi': 0.244, 'NiSi2': 0.145}\n",
      "Mean Error: (0.10753571098290962, 0.13049613052997522)\n",
      "模型已保存至 ./Results/AF_PINN_[96]x6/model_save/AF_PINN_[96]x6_9000.pth\n",
      "Epoch: 4/10----------------\n"
     ]
    },
    {
     "name": "stderr",
     "output_type": "stream",
     "text": [
      "100%|██████████| 3000/3000 [14:25<00:00,  3.47it/s, Loss=1.732e-02, PDE=3.884e-03, BC=1.088e-04,9.271e-05, IC=1.288e-02,3.465e-04, D*=6.00e-02,2.64e-03, lr=6.55e-04]\n"
     ]
    },
    {
     "name": "stdout",
     "output_type": "stream",
     "text": [
      "R^2 Error: {'Ni': 0.091, 'SiC': 0.035, 'C': 0.049, 'NiSi': 0.166, 'NiSi2': 0.132}\n",
      "Inf Error: {'Ni': 0.085, 'SiC': 0.032, 'C': 0.112, 'NiSi': 0.21, 'NiSi2': 0.185}\n",
      "Mean Error: (0.0946042514187455, 0.12484700578107093)\n",
      "模型已保存至 ./Results/AF_PINN_[96]x6/model_save/AF_PINN_[96]x6_12000.pth\n",
      "Epoch: 5/10----------------\n"
     ]
    },
    {
     "name": "stderr",
     "output_type": "stream",
     "text": [
      "100%|██████████| 3000/3000 [14:47<00:00,  3.38it/s, Loss=1.924e-02, PDE=6.588e-03, BC=3.785e-03,3.536e-05, IC=8.499e-03,3.316e-04, D*=6.00e-02,2.65e-03, lr=5.01e-04]\n"
     ]
    },
    {
     "name": "stdout",
     "output_type": "stream",
     "text": [
      "R^2 Error: {'Ni': 0.059, 'SiC': 0.02, 'C': 0.08, 'NiSi': 0.123, 'NiSi2': 0.117}\n",
      "Inf Error: {'Ni': 0.055, 'SiC': 0.021, 'C': 0.129, 'NiSi': 0.187, 'NiSi2': 0.119}\n",
      "Mean Error: (0.07955126410633458, 0.10214983941885455)\n",
      "模型已保存至 ./Results/AF_PINN_[96]x6/model_save/AF_PINN_[96]x6_15000.pth\n",
      "Epoch: 6/10----------------\n"
     ]
    },
    {
     "name": "stderr",
     "output_type": "stream",
     "text": [
      "100%|██████████| 3000/3000 [14:29<00:00,  3.45it/s, Loss=1.192e-02, PDE=4.860e-03, BC=6.225e-04,7.667e-06, IC=6.124e-03,3.063e-04, D*=6.00e-02,2.62e-03, lr=3.46e-04]\n"
     ]
    },
    {
     "name": "stdout",
     "output_type": "stream",
     "text": [
      "R^2 Error: {'Ni': 0.069, 'SiC': 0.016, 'C': 0.073, 'NiSi': 0.127, 'NiSi2': 0.114}\n",
      "Inf Error: {'Ni': 0.067, 'SiC': 0.021, 'C': 0.129, 'NiSi': 0.176, 'NiSi2': 0.12}\n",
      "Mean Error: (0.07968789165447429, 0.10290459730591657)\n",
      "模型已保存至 ./Results/AF_PINN_[96]x6/model_save/AF_PINN_[96]x6_18000.pth\n",
      "Epoch: 7/10----------------\n"
     ]
    },
    {
     "name": "stderr",
     "output_type": "stream",
     "text": [
      "100%|██████████| 3000/3000 [14:37<00:00,  3.42it/s, Loss=2.683e-02, PDE=2.163e-02, BC=6.635e-04,2.496e-05, IC=4.260e-03,2.545e-04, D*=6.00e-02,1.90e-03, lr=2.07e-04]\n"
     ]
    },
    {
     "name": "stdout",
     "output_type": "stream",
     "text": [
      "R^2 Error: {'Ni': 0.06, 'SiC': 0.009, 'C': 0.053, 'NiSi': 0.098, 'NiSi2': 0.089}\n",
      "Inf Error: {'Ni': 0.06, 'SiC': 0.019, 'C': 0.1, 'NiSi': 0.148, 'NiSi2': 0.107}\n",
      "Mean Error: (0.06171922837269862, 0.08681725476233607)\n",
      "模型已保存至 ./Results/AF_PINN_[96]x6/model_save/AF_PINN_[96]x6_21000.pth\n",
      "Epoch: 8/10----------------\n"
     ]
    },
    {
     "name": "stderr",
     "output_type": "stream",
     "text": [
      "100%|██████████| 3000/3000 [14:33<00:00,  3.43it/s, Loss=1.241e-02, PDE=8.686e-03, BC=2.147e-03,1.233e-05, IC=1.423e-03,1.422e-04, D*=6.00e-02,1.70e-03, lr=9.58e-05]\n"
     ]
    },
    {
     "name": "stdout",
     "output_type": "stream",
     "text": [
      "R^2 Error: {'Ni': 0.049, 'SiC': 0.013, 'C': 0.041, 'NiSi': 0.088, 'NiSi2': 0.082}\n",
      "Inf Error: {'Ni': 0.049, 'SiC': 0.013, 'C': 0.093, 'NiSi': 0.137, 'NiSi2': 0.095}\n",
      "Mean Error: (0.0543851897509393, 0.07738215207267944)\n",
      "模型已保存至 ./Results/AF_PINN_[96]x6/model_save/AF_PINN_[96]x6_24000.pth\n",
      "Epoch: 9/10----------------\n"
     ]
    },
    {
     "name": "stderr",
     "output_type": "stream",
     "text": [
      "100%|██████████| 3000/3000 [14:26<00:00,  3.46it/s, Loss=9.253e-04, PDE=4.134e-04, BC=8.347e-06,2.774e-07, IC=4.211e-04,8.221e-05, D*=6.00e-02,1.33e-03, lr=2.46e-05]\n"
     ]
    },
    {
     "name": "stdout",
     "output_type": "stream",
     "text": [
      "R^2 Error: {'Ni': 0.03, 'SiC': 0.006, 'C': 0.032, 'NiSi': 0.072, 'NiSi2': 0.081}\n",
      "Inf Error: {'Ni': 0.03, 'SiC': 0.008, 'C': 0.079, 'NiSi': 0.118, 'NiSi2': 0.095}\n",
      "Mean Error: (0.04424651422881335, 0.06610742770540723)\n",
      "模型已保存至 ./Results/AF_PINN_[96]x6/model_save/AF_PINN_[96]x6_27000.pth\n",
      "Epoch: 10/10----------------\n"
     ]
    },
    {
     "name": "stderr",
     "output_type": "stream",
     "text": [
      "100%|██████████| 3000/3000 [14:28<00:00,  3.45it/s, Loss=5.140e-04, PDE=2.540e-04, BC=5.095e-06,1.617e-07, IC=1.875e-04,6.730e-05, D*=6.00e-02,1.23e-03, lr=1.03e-08]\n"
     ]
    },
    {
     "name": "stdout",
     "output_type": "stream",
     "text": [
      "R^2 Error: {'Ni': 0.027, 'SiC': 0.008, 'C': 0.03, 'NiSi': 0.071, 'NiSi2': 0.081}\n",
      "Inf Error: {'Ni': 0.026, 'SiC': 0.01, 'C': 0.076, 'NiSi': 0.114, 'NiSi2': 0.098}\n",
      "Mean Error: (0.043265671432678995, 0.06463981926507982)\n",
      "模型已保存至 ./Results/AF_PINN_[96]x6/model_save/AF_PINN_[96]x6_30000.pth\n",
      "Training time: 8767.09s-------------------------\n",
      "AF_PINN_[64]x6:\n",
      "Epoch: 1/10----------------\n"
     ]
    },
    {
     "name": "stderr",
     "output_type": "stream",
     "text": [
      "100%|██████████| 3000/3000 [12:46<00:00,  3.91it/s, Loss=8.201e-02, PDE=5.354e-02, BC=3.144e-04,8.152e-05, IC=2.806e-02,1.151e-05, D*=6.00e-02,2.99e-05, lr=9.76e-04]\n"
     ]
    },
    {
     "name": "stdout",
     "output_type": "stream",
     "text": [
      "R^2 Error: {'Ni': 0.355, 'SiC': 0.041, 'C': 0.433, 'NiSi': 0.382, 'NiSi2': 1.0}\n",
      "Inf Error: {'Ni': 0.536, 'SiC': 0.047, 'C': 0.599, 'NiSi': 0.437, 'NiSi2': 1.0}\n",
      "Mean Error: (0.4422389815575971, 0.5239970245562561)\n",
      "模型已保存至 ./Results/AF_PINN_[64]x6/model_save/AF_PINN_[64]x6_3000.pth\n",
      "Epoch: 2/10----------------\n"
     ]
    },
    {
     "name": "stderr",
     "output_type": "stream",
     "text": [
      "100%|██████████| 3000/3000 [12:06<00:00,  4.13it/s, Loss=3.517e-02, PDE=1.727e-02, BC=2.005e-04,1.102e-04, IC=1.757e-02,2.288e-05, D*=6.00e-02,1.04e-05, lr=9.05e-04]\n"
     ]
    },
    {
     "name": "stdout",
     "output_type": "stream",
     "text": [
      "R^2 Error: {'Ni': 0.277, 'SiC': 0.041, 'C': 0.323, 'NiSi': 0.268, 'NiSi2': 1.0}\n",
      "Inf Error: {'Ni': 0.544, 'SiC': 0.034, 'C': 0.579, 'NiSi': 0.272, 'NiSi2': 1.0}\n",
      "Mean Error: (0.3815580709410452, 0.4857240823352054)\n",
      "模型已保存至 ./Results/AF_PINN_[64]x6/model_save/AF_PINN_[64]x6_6000.pth\n",
      "Epoch: 3/10----------------\n"
     ]
    },
    {
     "name": "stderr",
     "output_type": "stream",
     "text": [
      "100%|██████████| 3000/3000 [12:40<00:00,  3.94it/s, Loss=2.785e-02, PDE=1.119e-02, BC=2.498e-04,2.871e-05, IC=1.635e-02,2.942e-05, D*=5.99e-02,9.70e-06, lr=7.94e-04]\n"
     ]
    },
    {
     "name": "stdout",
     "output_type": "stream",
     "text": [
      "R^2 Error: {'Ni': 0.431, 'SiC': 0.083, 'C': 0.396, 'NiSi': 0.33, 'NiSi2': 0.525}\n",
      "Inf Error: {'Ni': 0.597, 'SiC': 0.076, 'C': 0.664, 'NiSi': 0.372, 'NiSi2': 0.687}\n",
      "Mean Error: (0.35295179407918653, 0.47909562270950196)\n",
      "模型已保存至 ./Results/AF_PINN_[64]x6/model_save/AF_PINN_[64]x6_9000.pth\n",
      "Epoch: 4/10----------------\n"
     ]
    },
    {
     "name": "stderr",
     "output_type": "stream",
     "text": [
      "100%|██████████| 3000/3000 [13:09<00:00,  3.80it/s, Loss=1.653e-02, PDE=5.478e-03, BC=1.036e-04,2.398e-05, IC=1.091e-02,1.574e-05, D*=5.99e-02,3.73e-06, lr=6.55e-04]\n"
     ]
    },
    {
     "name": "stdout",
     "output_type": "stream",
     "text": [
      "R^2 Error: {'Ni': 0.333, 'SiC': 0.018, 'C': 0.271, 'NiSi': 0.134, 'NiSi2': 0.143}\n",
      "Inf Error: {'Ni': 0.547, 'SiC': 0.021, 'C': 0.602, 'NiSi': 0.126, 'NiSi2': 0.24}\n",
      "Mean Error: (0.1799715932938801, 0.30740746794511964)\n",
      "模型已保存至 ./Results/AF_PINN_[64]x6/model_save/AF_PINN_[64]x6_12000.pth\n",
      "Epoch: 5/10----------------\n"
     ]
    },
    {
     "name": "stderr",
     "output_type": "stream",
     "text": [
      "100%|██████████| 3000/3000 [14:21<00:00,  3.48it/s, Loss=2.345e-02, PDE=3.484e-03, BC=1.405e-04,5.371e-05, IC=1.974e-02,3.146e-05, D*=5.99e-02,4.61e-06, lr=5.01e-04]\n"
     ]
    },
    {
     "name": "stdout",
     "output_type": "stream",
     "text": [
      "R^2 Error: {'Ni': 0.321, 'SiC': 0.022, 'C': 0.249, 'NiSi': 0.144, 'NiSi2': 0.135}\n",
      "Inf Error: {'Ni': 0.554, 'SiC': 0.031, 'C': 0.58, 'NiSi': 0.122, 'NiSi2': 0.228}\n",
      "Mean Error: (0.17443299672893664, 0.30307068548220195)\n",
      "模型已保存至 ./Results/AF_PINN_[64]x6/model_save/AF_PINN_[64]x6_15000.pth\n",
      "Epoch: 6/10----------------\n"
     ]
    },
    {
     "name": "stderr",
     "output_type": "stream",
     "text": [
      "100%|██████████| 3000/3000 [14:13<00:00,  3.52it/s, Loss=1.276e-02, PDE=2.830e-03, BC=2.599e-05,8.789e-06, IC=9.876e-03,1.533e-05, D*=5.99e-02,4.22e-06, lr=3.46e-04]\n"
     ]
    },
    {
     "name": "stdout",
     "output_type": "stream",
     "text": [
      "R^2 Error: {'Ni': 0.291, 'SiC': 0.012, 'C': 0.235, 'NiSi': 0.098, 'NiSi2': 0.097}\n",
      "Inf Error: {'Ni': 0.548, 'SiC': 0.013, 'C': 0.58, 'NiSi': 0.097, 'NiSi2': 0.154}\n",
      "Mean Error: (0.14670260195933152, 0.2782877114248904)\n",
      "模型已保存至 ./Results/AF_PINN_[64]x6/model_save/AF_PINN_[64]x6_18000.pth\n",
      "Epoch: 7/10----------------\n"
     ]
    },
    {
     "name": "stderr",
     "output_type": "stream",
     "text": [
      "100%|██████████| 3000/3000 [13:51<00:00,  3.61it/s, Loss=9.285e-03, PDE=2.884e-03, BC=3.323e-05,1.792e-06, IC=6.352e-03,1.413e-05, D*=6.00e-02,4.59e-06, lr=2.07e-04]\n"
     ]
    },
    {
     "name": "stdout",
     "output_type": "stream",
     "text": [
      "R^2 Error: {'Ni': 0.273, 'SiC': 0.006, 'C': 0.231, 'NiSi': 0.076, 'NiSi2': 0.073}\n",
      "Inf Error: {'Ni': 0.551, 'SiC': 0.008, 'C': 0.58, 'NiSi': 0.072, 'NiSi2': 0.099}\n",
      "Mean Error: (0.1316393591422858, 0.261900852220056)\n",
      "模型已保存至 ./Results/AF_PINN_[64]x6/model_save/AF_PINN_[64]x6_21000.pth\n",
      "Epoch: 8/10----------------\n"
     ]
    },
    {
     "name": "stderr",
     "output_type": "stream",
     "text": [
      "100%|██████████| 3000/3000 [14:07<00:00,  3.54it/s, Loss=4.860e-03, PDE=1.738e-03, BC=9.332e-06,1.974e-06, IC=3.099e-03,1.103e-05, D*=6.00e-02,4.86e-06, lr=9.58e-05]\n"
     ]
    },
    {
     "name": "stdout",
     "output_type": "stream",
     "text": [
      "R^2 Error: {'Ni': 0.271, 'SiC': 0.007, 'C': 0.233, 'NiSi': 0.067, 'NiSi2': 0.062}\n",
      "Inf Error: {'Ni': 0.554, 'SiC': 0.008, 'C': 0.58, 'NiSi': 0.063, 'NiSi2': 0.083}\n",
      "Mean Error: (0.12810076223757386, 0.2574876832764518)\n",
      "模型已保存至 ./Results/AF_PINN_[64]x6/model_save/AF_PINN_[64]x6_24000.pth\n",
      "Epoch: 9/10----------------\n"
     ]
    },
    {
     "name": "stderr",
     "output_type": "stream",
     "text": [
      "100%|██████████| 3000/3000 [14:14<00:00,  3.51it/s, Loss=2.529e-03, PDE=5.387e-04, BC=8.765e-07,8.292e-07, IC=1.979e-03,9.264e-06, D*=6.00e-02,5.02e-06, lr=2.46e-05]\n"
     ]
    },
    {
     "name": "stdout",
     "output_type": "stream",
     "text": [
      "R^2 Error: {'Ni': 0.266, 'SiC': 0.007, 'C': 0.233, 'NiSi': 0.061, 'NiSi2': 0.055}\n",
      "Inf Error: {'Ni': 0.555, 'SiC': 0.008, 'C': 0.58, 'NiSi': 0.062, 'NiSi2': 0.067}\n",
      "Mean Error: (0.1245323936469249, 0.2542751440085437)\n",
      "模型已保存至 ./Results/AF_PINN_[64]x6/model_save/AF_PINN_[64]x6_27000.pth\n",
      "Epoch: 10/10----------------\n"
     ]
    },
    {
     "name": "stderr",
     "output_type": "stream",
     "text": [
      "100%|██████████| 3000/3000 [14:55<00:00,  3.35it/s, Loss=2.041e-03, PDE=4.822e-04, BC=8.420e-07,9.145e-07, IC=1.549e-03,8.633e-06, D*=6.00e-02,5.14e-06, lr=1.03e-08]\n"
     ]
    },
    {
     "name": "stdout",
     "output_type": "stream",
     "text": [
      "R^2 Error: {'Ni': 0.265, 'SiC': 0.007, 'C': 0.233, 'NiSi': 0.06, 'NiSi2': 0.054}\n",
      "Inf Error: {'Ni': 0.555, 'SiC': 0.009, 'C': 0.58, 'NiSi': 0.062, 'NiSi2': 0.063}\n",
      "Mean Error: (0.12388825108002299, 0.25358723907431585)\n",
      "模型已保存至 ./Results/AF_PINN_[64]x6/model_save/AF_PINN_[64]x6_30000.pth\n",
      "Training time: 8207.49s-------------------------\n",
      "AF_PINN_[128]x5:\n",
      "Epoch: 1/10----------------\n"
     ]
    },
    {
     "name": "stderr",
     "output_type": "stream",
     "text": [
      "100%|██████████| 3000/3000 [17:37<00:00,  2.84it/s, Loss=3.905e-02, PDE=8.375e-03, BC=1.830e-03,1.427e-05, IC=2.787e-02,9.648e-04, D*=5.99e-02,4.83e-03, lr=9.76e-04]\n"
     ]
    },
    {
     "name": "stdout",
     "output_type": "stream",
     "text": [
      "R^2 Error: {'Ni': 0.135, 'SiC': 0.044, 'C': 0.141, 'NiSi': 0.29, 'NiSi2': 0.23}\n",
      "Inf Error: {'Ni': 0.122, 'SiC': 0.053, 'C': 0.164, 'NiSi': 0.426, 'NiSi2': 0.25}\n",
      "Mean Error: (0.16794722290708095, 0.2030897777482839)\n",
      "模型已保存至 ./Results/AF_PINN_[128]x5/model_save/AF_PINN_[128]x5_3000.pth\n",
      "Epoch: 2/10----------------\n"
     ]
    },
    {
     "name": "stderr",
     "output_type": "stream",
     "text": [
      "100%|██████████| 3000/3000 [17:44<00:00,  2.82it/s, Loss=3.989e-02, PDE=1.294e-02, BC=1.084e-02,3.121e-05, IC=1.517e-02,9.100e-04, D*=6.00e-02,3.45e-03, lr=9.05e-04]\n"
     ]
    },
    {
     "name": "stdout",
     "output_type": "stream",
     "text": [
      "R^2 Error: {'Ni': 0.091, 'SiC': 0.029, 'C': 0.116, 'NiSi': 0.229, 'NiSi2': 0.184}\n",
      "Inf Error: {'Ni': 0.09, 'SiC': 0.036, 'C': 0.194, 'NiSi': 0.379, 'NiSi2': 0.232}\n",
      "Mean Error: (0.1297038339960246, 0.18623609782710826)\n",
      "模型已保存至 ./Results/AF_PINN_[128]x5/model_save/AF_PINN_[128]x5_6000.pth\n",
      "Epoch: 3/10----------------\n"
     ]
    },
    {
     "name": "stderr",
     "output_type": "stream",
     "text": [
      "100%|██████████| 3000/3000 [17:14<00:00,  2.90it/s, Loss=1.630e-02, PDE=4.354e-03, BC=1.251e-04,1.344e-05, IC=1.133e-02,4.800e-04, D*=6.00e-02,2.86e-03, lr=7.94e-04]\n"
     ]
    },
    {
     "name": "stdout",
     "output_type": "stream",
     "text": [
      "R^2 Error: {'Ni': 0.082, 'SiC': 0.021, 'C': 0.061, 'NiSi': 0.218, 'NiSi2': 0.131}\n",
      "Inf Error: {'Ni': 0.078, 'SiC': 0.027, 'C': 0.134, 'NiSi': 0.352, 'NiSi2': 0.204}\n",
      "Mean Error: (0.10262092041491125, 0.15911464242111723)\n",
      "模型已保存至 ./Results/AF_PINN_[128]x5/model_save/AF_PINN_[128]x5_9000.pth\n",
      "Epoch: 4/10----------------\n"
     ]
    },
    {
     "name": "stderr",
     "output_type": "stream",
     "text": [
      "100%|██████████| 3000/3000 [17:26<00:00,  2.87it/s, Loss=2.223e-02, PDE=5.215e-03, BC=4.216e-04,1.268e-05, IC=1.613e-02,4.586e-04, D*=6.00e-02,3.14e-03, lr=6.55e-04]\n"
     ]
    },
    {
     "name": "stdout",
     "output_type": "stream",
     "text": [
      "R^2 Error: {'Ni': 0.069, 'SiC': 0.027, 'C': 0.111, 'NiSi': 0.22, 'NiSi2': 0.127}\n",
      "Inf Error: {'Ni': 0.068, 'SiC': 0.024, 'C': 0.16, 'NiSi': 0.313, 'NiSi2': 0.223}\n",
      "Mean Error: (0.11079393853507473, 0.15750243394356317)\n",
      "模型已保存至 ./Results/AF_PINN_[128]x5/model_save/AF_PINN_[128]x5_12000.pth\n",
      "Epoch: 5/10----------------\n"
     ]
    },
    {
     "name": "stderr",
     "output_type": "stream",
     "text": [
      "100%|██████████| 3000/3000 [17:25<00:00,  2.87it/s, Loss=1.355e-02, PDE=4.684e-03, BC=7.036e-04,1.707e-05, IC=7.742e-03,4.018e-04, D*=6.00e-02,2.95e-03, lr=5.01e-04]\n"
     ]
    },
    {
     "name": "stdout",
     "output_type": "stream",
     "text": [
      "R^2 Error: {'Ni': 0.078, 'SiC': 0.011, 'C': 0.053, 'NiSi': 0.175, 'NiSi2': 0.131}\n",
      "Inf Error: {'Ni': 0.075, 'SiC': 0.022, 'C': 0.111, 'NiSi': 0.273, 'NiSi2': 0.255}\n",
      "Mean Error: (0.0894455110084329, 0.14709476702585977)\n",
      "模型已保存至 ./Results/AF_PINN_[128]x5/model_save/AF_PINN_[128]x5_15000.pth\n",
      "Epoch: 6/10----------------\n"
     ]
    },
    {
     "name": "stderr",
     "output_type": "stream",
     "text": [
      "100%|██████████| 3000/3000 [17:10<00:00,  2.91it/s, Loss=1.307e-02, PDE=4.365e-03, BC=3.182e-04,4.824e-06, IC=8.022e-03,3.642e-04, D*=6.00e-02,2.94e-03, lr=3.46e-04]\n"
     ]
    },
    {
     "name": "stdout",
     "output_type": "stream",
     "text": [
      "R^2 Error: {'Ni': 0.052, 'SiC': 0.009, 'C': 0.063, 'NiSi': 0.179, 'NiSi2': 0.119}\n",
      "Inf Error: {'Ni': 0.054, 'SiC': 0.015, 'C': 0.127, 'NiSi': 0.26, 'NiSi2': 0.256}\n",
      "Mean Error: (0.0844476277494743, 0.14238879458098258)\n",
      "模型已保存至 ./Results/AF_PINN_[128]x5/model_save/AF_PINN_[128]x5_18000.pth\n",
      "Epoch: 7/10----------------\n"
     ]
    },
    {
     "name": "stderr",
     "output_type": "stream",
     "text": [
      "100%|██████████| 3000/3000 [17:19<00:00,  2.89it/s, Loss=7.829e-03, PDE=1.813e-03, BC=4.326e-04,4.819e-06, IC=5.316e-03,2.628e-04, D*=6.00e-02,2.61e-03, lr=2.07e-04]\n"
     ]
    },
    {
     "name": "stdout",
     "output_type": "stream",
     "text": [
      "R^2 Error: {'Ni': 0.066, 'SiC': 0.014, 'C': 0.053, 'NiSi': 0.131, 'NiSi2': 0.108}\n",
      "Inf Error: {'Ni': 0.064, 'SiC': 0.017, 'C': 0.114, 'NiSi': 0.221, 'NiSi2': 0.242}\n",
      "Mean Error: (0.07443303018704198, 0.131392865976064)\n",
      "模型已保存至 ./Results/AF_PINN_[128]x5/model_save/AF_PINN_[128]x5_21000.pth\n",
      "Epoch: 8/10----------------\n"
     ]
    },
    {
     "name": "stderr",
     "output_type": "stream",
     "text": [
      "100%|██████████| 3000/3000 [18:45<00:00,  2.67it/s, Loss=4.703e-03, PDE=1.529e-03, BC=3.157e-04,6.606e-07, IC=2.666e-03,1.912e-04, D*=6.00e-02,2.11e-03, lr=9.58e-05]\n"
     ]
    },
    {
     "name": "stdout",
     "output_type": "stream",
     "text": [
      "R^2 Error: {'Ni': 0.042, 'SiC': 0.005, 'C': 0.041, 'NiSi': 0.122, 'NiSi2': 0.083}\n",
      "Inf Error: {'Ni': 0.043, 'SiC': 0.008, 'C': 0.095, 'NiSi': 0.201, 'NiSi2': 0.199}\n",
      "Mean Error: (0.05844870074055528, 0.10916615076921765)\n",
      "模型已保存至 ./Results/AF_PINN_[128]x5/model_save/AF_PINN_[128]x5_24000.pth\n",
      "Epoch: 9/10----------------\n"
     ]
    },
    {
     "name": "stderr",
     "output_type": "stream",
     "text": [
      "100%|██████████| 3000/3000 [18:05<00:00,  2.76it/s, Loss=1.161e-03, PDE=3.919e-04, BC=2.417e-05,1.830e-07, IC=6.162e-04,1.281e-04, D*=6.00e-02,1.48e-03, lr=2.46e-05]\n"
     ]
    },
    {
     "name": "stdout",
     "output_type": "stream",
     "text": [
      "R^2 Error: {'Ni': 0.032, 'SiC': 0.006, 'C': 0.038, 'NiSi': 0.106, 'NiSi2': 0.06}\n",
      "Inf Error: {'Ni': 0.032, 'SiC': 0.008, 'C': 0.09, 'NiSi': 0.175, 'NiSi2': 0.129}\n",
      "Mean Error: (0.04850417268912112, 0.08683473071383123)\n",
      "模型已保存至 ./Results/AF_PINN_[128]x5/model_save/AF_PINN_[128]x5_27000.pth\n",
      "Epoch: 10/10----------------\n"
     ]
    },
    {
     "name": "stderr",
     "output_type": "stream",
     "text": [
      "100%|██████████| 3000/3000 [17:15<00:00,  2.90it/s, Loss=6.495e-04, PDE=2.784e-04, BC=4.814e-06,1.790e-07, IC=2.506e-04,1.155e-04, D*=6.00e-02,1.25e-03, lr=1.03e-08]\n"
     ]
    },
    {
     "name": "stdout",
     "output_type": "stream",
     "text": [
      "R^2 Error: {'Ni': 0.029, 'SiC': 0.008, 'C': 0.036, 'NiSi': 0.104, 'NiSi2': 0.06}\n",
      "Inf Error: {'Ni': 0.029, 'SiC': 0.011, 'C': 0.088, 'NiSi': 0.169, 'NiSi2': 0.116}\n",
      "Mean Error: (0.04729881411549386, 0.08243711569132586)\n",
      "模型已保存至 ./Results/AF_PINN_[128]x5/model_save/AF_PINN_[128]x5_30000.pth\n",
      "Training time: 10582.51s-------------------------\n",
      "AF_PINN_[96]x5:\n",
      "Epoch: 1/10----------------\n"
     ]
    },
    {
     "name": "stderr",
     "output_type": "stream",
     "text": [
      "100%|██████████| 3000/3000 [13:04<00:00,  3.83it/s, Loss=2.594e-02, PDE=6.915e-03, BC=8.759e-04,9.463e-04, IC=1.654e-02,6.551e-04, D*=6.00e-02,4.11e-03, lr=9.76e-04]\n"
     ]
    },
    {
     "name": "stdout",
     "output_type": "stream",
     "text": [
      "R^2 Error: {'Ni': 0.088, 'SiC': 0.03, 'C': 0.094, 'NiSi': 0.231, 'NiSi2': 0.187}\n",
      "Inf Error: {'Ni': 0.098, 'SiC': 0.041, 'C': 0.137, 'NiSi': 0.327, 'NiSi2': 0.225}\n",
      "Mean Error: (0.12597961114660103, 0.16551327883055117)\n",
      "模型已保存至 ./Results/AF_PINN_[96]x5/model_save/AF_PINN_[96]x5_3000.pth\n",
      "Epoch: 2/10----------------\n"
     ]
    },
    {
     "name": "stderr",
     "output_type": "stream",
     "text": [
      "100%|██████████| 3000/3000 [12:22<00:00,  4.04it/s, Loss=4.553e-02, PDE=9.553e-03, BC=7.063e-03,5.469e-05, IC=2.833e-02,5.344e-04, D*=6.00e-02,3.82e-03, lr=9.05e-04]\n"
     ]
    },
    {
     "name": "stdout",
     "output_type": "stream",
     "text": [
      "R^2 Error: {'Ni': 0.089, 'SiC': 0.022, 'C': 0.062, 'NiSi': 0.281, 'NiSi2': 0.262}\n",
      "Inf Error: {'Ni': 0.088, 'SiC': 0.033, 'C': 0.132, 'NiSi': 0.323, 'NiSi2': 0.283}\n",
      "Mean Error: (0.14299406979634116, 0.17179705995439076)\n",
      "模型已保存至 ./Results/AF_PINN_[96]x5/model_save/AF_PINN_[96]x5_6000.pth\n",
      "Epoch: 3/10----------------\n"
     ]
    },
    {
     "name": "stderr",
     "output_type": "stream",
     "text": [
      "100%|██████████| 3000/3000 [12:14<00:00,  4.08it/s, Loss=1.897e-02, PDE=7.396e-03, BC=2.261e-04,5.071e-05, IC=1.078e-02,5.221e-04, D*=6.00e-02,3.15e-03, lr=7.94e-04]\n"
     ]
    },
    {
     "name": "stdout",
     "output_type": "stream",
     "text": [
      "R^2 Error: {'Ni': 0.075, 'SiC': 0.01, 'C': 0.078, 'NiSi': 0.179, 'NiSi2': 0.177}\n",
      "Inf Error: {'Ni': 0.072, 'SiC': 0.021, 'C': 0.153, 'NiSi': 0.275, 'NiSi2': 0.254}\n",
      "Mean Error: (0.10379818121614041, 0.15506146415224253)\n",
      "模型已保存至 ./Results/AF_PINN_[96]x5/model_save/AF_PINN_[96]x5_9000.pth\n",
      "Epoch: 4/10----------------\n"
     ]
    },
    {
     "name": "stderr",
     "output_type": "stream",
     "text": [
      "100%|██████████| 3000/3000 [12:24<00:00,  4.03it/s, Loss=1.591e-02, PDE=3.462e-03, BC=3.920e-04,6.150e-06, IC=1.150e-02,5.583e-04, D*=6.00e-02,2.92e-03, lr=6.55e-04]\n"
     ]
    },
    {
     "name": "stdout",
     "output_type": "stream",
     "text": [
      "R^2 Error: {'Ni': 0.089, 'SiC': 0.014, 'C': 0.056, 'NiSi': 0.165, 'NiSi2': 0.158}\n",
      "Inf Error: {'Ni': 0.087, 'SiC': 0.021, 'C': 0.119, 'NiSi': 0.272, 'NiSi2': 0.248}\n",
      "Mean Error: (0.09632908630327024, 0.14947113165370987)\n",
      "模型已保存至 ./Results/AF_PINN_[96]x5/model_save/AF_PINN_[96]x5_12000.pth\n",
      "Epoch: 5/10----------------\n"
     ]
    },
    {
     "name": "stderr",
     "output_type": "stream",
     "text": [
      "100%|██████████| 3000/3000 [12:28<00:00,  4.01it/s, Loss=1.771e-02, PDE=4.600e-03, BC=1.032e-03,7.995e-05, IC=1.158e-02,4.184e-04, D*=6.00e-02,2.57e-03, lr=5.01e-04]\n"
     ]
    },
    {
     "name": "stdout",
     "output_type": "stream",
     "text": [
      "R^2 Error: {'Ni': 0.064, 'SiC': 0.023, 'C': 0.084, 'NiSi': 0.204, 'NiSi2': 0.182}\n",
      "Inf Error: {'Ni': 0.061, 'SiC': 0.023, 'C': 0.136, 'NiSi': 0.291, 'NiSi2': 0.23}\n",
      "Mean Error: (0.11143390268163922, 0.1480617673672391)\n",
      "模型已保存至 ./Results/AF_PINN_[96]x5/model_save/AF_PINN_[96]x5_15000.pth\n",
      "Epoch: 6/10----------------\n"
     ]
    },
    {
     "name": "stderr",
     "output_type": "stream",
     "text": [
      "100%|██████████| 3000/3000 [12:29<00:00,  4.00it/s, Loss=2.242e-02, PDE=1.693e-02, BC=2.966e-04,3.930e-06, IC=4.928e-03,2.634e-04, D*=6.00e-02,2.40e-03, lr=3.46e-04]\n"
     ]
    },
    {
     "name": "stdout",
     "output_type": "stream",
     "text": [
      "R^2 Error: {'Ni': 0.063, 'SiC': 0.007, 'C': 0.063, 'NiSi': 0.148, 'NiSi2': 0.12}\n",
      "Inf Error: {'Ni': 0.062, 'SiC': 0.012, 'C': 0.122, 'NiSi': 0.252, 'NiSi2': 0.192}\n",
      "Mean Error: (0.08028106360872543, 0.12820377202252056)\n",
      "模型已保存至 ./Results/AF_PINN_[96]x5/model_save/AF_PINN_[96]x5_18000.pth\n",
      "Epoch: 7/10----------------\n"
     ]
    },
    {
     "name": "stderr",
     "output_type": "stream",
     "text": [
      "100%|██████████| 3000/3000 [12:32<00:00,  3.99it/s, Loss=1.351e-02, PDE=5.728e-03, BC=8.042e-04,1.469e-05, IC=6.669e-03,2.977e-04, D*=6.00e-02,2.43e-03, lr=2.07e-04]\n"
     ]
    },
    {
     "name": "stdout",
     "output_type": "stream",
     "text": [
      "R^2 Error: {'Ni': 0.057, 'SiC': 0.018, 'C': 0.051, 'NiSi': 0.136, 'NiSi2': 0.097}\n",
      "Inf Error: {'Ni': 0.056, 'SiC': 0.017, 'C': 0.113, 'NiSi': 0.238, 'NiSi2': 0.161}\n",
      "Mean Error: (0.07169166491238889, 0.11717025839873334)\n",
      "模型已保存至 ./Results/AF_PINN_[96]x5/model_save/AF_PINN_[96]x5_21000.pth\n",
      "Epoch: 8/10----------------\n"
     ]
    },
    {
     "name": "stderr",
     "output_type": "stream",
     "text": [
      "100%|██████████| 3000/3000 [12:38<00:00,  3.96it/s, Loss=3.287e-03, PDE=1.093e-03, BC=3.732e-05,7.280e-07, IC=1.982e-03,1.738e-04, D*=6.00e-02,2.11e-03, lr=9.58e-05]\n"
     ]
    },
    {
     "name": "stdout",
     "output_type": "stream",
     "text": [
      "R^2 Error: {'Ni': 0.039, 'SiC': 0.005, 'C': 0.044, 'NiSi': 0.134, 'NiSi2': 0.076}\n",
      "Inf Error: {'Ni': 0.039, 'SiC': 0.008, 'C': 0.098, 'NiSi': 0.227, 'NiSi2': 0.12}\n",
      "Mean Error: (0.059710782260977334, 0.09838234101195145)\n",
      "模型已保存至 ./Results/AF_PINN_[96]x5/model_save/AF_PINN_[96]x5_24000.pth\n",
      "Epoch: 9/10----------------\n"
     ]
    },
    {
     "name": "stderr",
     "output_type": "stream",
     "text": [
      "100%|██████████| 3000/3000 [12:25<00:00,  4.03it/s, Loss=1.877e-03, PDE=3.502e-04, BC=1.256e-05,3.627e-07, IC=1.386e-03,1.284e-04, D*=6.00e-02,1.93e-03, lr=2.46e-05]\n"
     ]
    },
    {
     "name": "stdout",
     "output_type": "stream",
     "text": [
      "R^2 Error: {'Ni': 0.035, 'SiC': 0.005, 'C': 0.033, 'NiSi': 0.121, 'NiSi2': 0.066}\n",
      "Inf Error: {'Ni': 0.035, 'SiC': 0.007, 'C': 0.08, 'NiSi': 0.207, 'NiSi2': 0.096}\n",
      "Mean Error: (0.0520007478964448, 0.08487382952369296)\n",
      "模型已保存至 ./Results/AF_PINN_[96]x5/model_save/AF_PINN_[96]x5_27000.pth\n",
      "Epoch: 10/10----------------\n"
     ]
    },
    {
     "name": "stderr",
     "output_type": "stream",
     "text": [
      "100%|██████████| 3000/3000 [12:34<00:00,  3.98it/s, Loss=1.466e-03, PDE=3.302e-04, BC=1.142e-05,3.691e-07, IC=1.006e-03,1.172e-04, D*=6.00e-02,1.86e-03, lr=1.03e-08]\n"
     ]
    },
    {
     "name": "stdout",
     "output_type": "stream",
     "text": [
      "R^2 Error: {'Ni': 0.034, 'SiC': 0.005, 'C': 0.031, 'NiSi': 0.12, 'NiSi2': 0.065}\n",
      "Inf Error: {'Ni': 0.035, 'SiC': 0.006, 'C': 0.076, 'NiSi': 0.204, 'NiSi2': 0.091}\n",
      "Mean Error: (0.05101562736859239, 0.0824810198812735)\n",
      "模型已保存至 ./Results/AF_PINN_[96]x5/model_save/AF_PINN_[96]x5_30000.pth\n",
      "Training time: 7533.97s-------------------------\n",
      "AF_PINN_[64]x5:\n",
      "Epoch: 1/10----------------\n"
     ]
    },
    {
     "name": "stderr",
     "output_type": "stream",
     "text": [
      "100%|██████████| 3000/3000 [11:16<00:00,  4.43it/s, Loss=2.862e-02, PDE=1.179e-02, BC=5.095e-04,5.560e-05, IC=1.545e-02,8.165e-04, D*=5.99e-02,3.73e-03, lr=9.76e-04]\n"
     ]
    },
    {
     "name": "stdout",
     "output_type": "stream",
     "text": [
      "R^2 Error: {'Ni': 0.1, 'SiC': 0.026, 'C': 0.15, 'NiSi': 0.264, 'NiSi2': 0.157}\n",
      "Inf Error: {'Ni': 0.093, 'SiC': 0.038, 'C': 0.174, 'NiSi': 0.312, 'NiSi2': 0.217}\n",
      "Mean Error: (0.13953468704590005, 0.166600686047682)\n",
      "模型已保存至 ./Results/AF_PINN_[64]x5/model_save/AF_PINN_[64]x5_3000.pth\n",
      "Epoch: 2/10----------------\n"
     ]
    },
    {
     "name": "stderr",
     "output_type": "stream",
     "text": [
      "100%|██████████| 3000/3000 [11:16<00:00,  4.43it/s, Loss=4.416e-02, PDE=2.800e-02, BC=4.417e-03,2.076e-05, IC=1.088e-02,8.426e-04, D*=5.99e-02,3.02e-03, lr=9.05e-04]\n"
     ]
    },
    {
     "name": "stdout",
     "output_type": "stream",
     "text": [
      "R^2 Error: {'Ni': 0.091, 'SiC': 0.037, 'C': 0.108, 'NiSi': 0.202, 'NiSi2': 0.112}\n",
      "Inf Error: {'Ni': 0.083, 'SiC': 0.035, 'C': 0.154, 'NiSi': 0.207, 'NiSi2': 0.178}\n",
      "Mean Error: (0.1100907172906977, 0.13130604341393057)\n",
      "模型已保存至 ./Results/AF_PINN_[64]x5/model_save/AF_PINN_[64]x5_6000.pth\n",
      "Epoch: 3/10----------------\n"
     ]
    },
    {
     "name": "stderr",
     "output_type": "stream",
     "text": [
      "100%|██████████| 3000/3000 [11:05<00:00,  4.51it/s, Loss=1.775e-02, PDE=4.660e-03, BC=1.226e-03,2.614e-05, IC=1.127e-02,5.699e-04, D*=6.00e-02,3.37e-03, lr=7.94e-04]\n"
     ]
    },
    {
     "name": "stdout",
     "output_type": "stream",
     "text": [
      "R^2 Error: {'Ni': 0.067, 'SiC': 0.02, 'C': 0.102, 'NiSi': 0.108, 'NiSi2': 0.089}\n",
      "Inf Error: {'Ni': 0.067, 'SiC': 0.026, 'C': 0.148, 'NiSi': 0.14, 'NiSi2': 0.166}\n",
      "Mean Error: (0.07694945630490482, 0.1092270733199088)\n",
      "模型已保存至 ./Results/AF_PINN_[64]x5/model_save/AF_PINN_[64]x5_9000.pth\n",
      "Epoch: 4/10----------------\n"
     ]
    },
    {
     "name": "stderr",
     "output_type": "stream",
     "text": [
      "100%|██████████| 3000/3000 [11:12<00:00,  4.46it/s, Loss=1.425e-02, PDE=3.479e-03, BC=3.244e-04,1.444e-05, IC=9.984e-03,4.460e-04, D*=6.00e-02,3.30e-03, lr=6.55e-04]\n"
     ]
    },
    {
     "name": "stdout",
     "output_type": "stream",
     "text": [
      "R^2 Error: {'Ni': 0.067, 'SiC': 0.014, 'C': 0.085, 'NiSi': 0.089, 'NiSi2': 0.075}\n",
      "Inf Error: {'Ni': 0.066, 'SiC': 0.024, 'C': 0.14, 'NiSi': 0.111, 'NiSi2': 0.147}\n",
      "Mean Error: (0.06577347410461996, 0.0979472436854273)\n",
      "模型已保存至 ./Results/AF_PINN_[64]x5/model_save/AF_PINN_[64]x5_12000.pth\n",
      "Epoch: 5/10----------------\n"
     ]
    },
    {
     "name": "stderr",
     "output_type": "stream",
     "text": [
      "100%|██████████| 3000/3000 [11:12<00:00,  4.46it/s, Loss=1.103e-02, PDE=3.316e-03, BC=1.327e-04,1.229e-05, IC=7.110e-03,4.577e-04, D*=6.00e-02,3.15e-03, lr=5.01e-04]\n"
     ]
    },
    {
     "name": "stdout",
     "output_type": "stream",
     "text": [
      "R^2 Error: {'Ni': 0.05, 'SiC': 0.013, 'C': 0.089, 'NiSi': 0.095, 'NiSi2': 0.047}\n",
      "Inf Error: {'Ni': 0.053, 'SiC': 0.02, 'C': 0.151, 'NiSi': 0.104, 'NiSi2': 0.088}\n",
      "Mean Error: (0.05867098092321192, 0.08304842757067468)\n",
      "模型已保存至 ./Results/AF_PINN_[64]x5/model_save/AF_PINN_[64]x5_15000.pth\n",
      "Epoch: 6/10----------------\n"
     ]
    },
    {
     "name": "stderr",
     "output_type": "stream",
     "text": [
      "100%|██████████| 3000/3000 [11:02<00:00,  4.53it/s, Loss=9.678e-03, PDE=2.936e-03, BC=4.686e-04,3.083e-06, IC=5.881e-03,3.895e-04, D*=6.00e-02,2.98e-03, lr=3.46e-04]\n"
     ]
    },
    {
     "name": "stdout",
     "output_type": "stream",
     "text": [
      "R^2 Error: {'Ni': 0.053, 'SiC': 0.007, 'C': 0.06, 'NiSi': 0.083, 'NiSi2': 0.036}\n",
      "Inf Error: {'Ni': 0.051, 'SiC': 0.015, 'C': 0.12, 'NiSi': 0.091, 'NiSi2': 0.075}\n",
      "Mean Error: (0.04795187637258942, 0.07010864250409524)\n",
      "模型已保存至 ./Results/AF_PINN_[64]x5/model_save/AF_PINN_[64]x5_18000.pth\n",
      "Epoch: 7/10----------------\n"
     ]
    },
    {
     "name": "stderr",
     "output_type": "stream",
     "text": [
      "100%|██████████| 3000/3000 [11:11<00:00,  4.46it/s, Loss=9.982e-03, PDE=4.079e-03, BC=2.111e-04,1.008e-05, IC=5.372e-03,3.098e-04, D*=6.00e-02,2.75e-03, lr=2.07e-04]\n"
     ]
    },
    {
     "name": "stdout",
     "output_type": "stream",
     "text": [
      "R^2 Error: {'Ni': 0.059, 'SiC': 0.013, 'C': 0.045, 'NiSi': 0.08, 'NiSi2': 0.042}\n",
      "Inf Error: {'Ni': 0.056, 'SiC': 0.015, 'C': 0.102, 'NiSi': 0.081, 'NiSi2': 0.052}\n",
      "Mean Error: (0.047856428184324104, 0.061041961134803514)\n",
      "模型已保存至 ./Results/AF_PINN_[64]x5/model_save/AF_PINN_[64]x5_21000.pth\n",
      "Epoch: 8/10----------------\n"
     ]
    },
    {
     "name": "stderr",
     "output_type": "stream",
     "text": [
      "100%|██████████| 3000/3000 [11:14<00:00,  4.45it/s, Loss=5.274e-03, PDE=2.266e-03, BC=2.412e-05,7.553e-07, IC=2.750e-03,2.336e-04, D*=6.00e-02,2.55e-03, lr=9.58e-05]\n"
     ]
    },
    {
     "name": "stdout",
     "output_type": "stream",
     "text": [
      "R^2 Error: {'Ni': 0.035, 'SiC': 0.005, 'C': 0.063, 'NiSi': 0.072, 'NiSi2': 0.026}\n",
      "Inf Error: {'Ni': 0.034, 'SiC': 0.008, 'C': 0.123, 'NiSi': 0.077, 'NiSi2': 0.04}\n",
      "Mean Error: (0.04018511204191138, 0.05642797560736551)\n",
      "模型已保存至 ./Results/AF_PINN_[64]x5/model_save/AF_PINN_[64]x5_24000.pth\n",
      "Epoch: 9/10----------------\n"
     ]
    },
    {
     "name": "stderr",
     "output_type": "stream",
     "text": [
      "100%|██████████| 3000/3000 [11:13<00:00,  4.46it/s, Loss=2.770e-03, PDE=6.466e-04, BC=4.837e-06,3.474e-07, IC=1.918e-03,1.999e-04, D*=6.00e-02,2.41e-03, lr=2.46e-05]\n"
     ]
    },
    {
     "name": "stdout",
     "output_type": "stream",
     "text": [
      "R^2 Error: {'Ni': 0.031, 'SiC': 0.005, 'C': 0.059, 'NiSi': 0.069, 'NiSi2': 0.028}\n",
      "Inf Error: {'Ni': 0.03, 'SiC': 0.007, 'C': 0.118, 'NiSi': 0.074, 'NiSi2': 0.044}\n",
      "Mean Error: (0.038413232952254, 0.0543956044504582)\n",
      "模型已保存至 ./Results/AF_PINN_[64]x5/model_save/AF_PINN_[64]x5_27000.pth\n",
      "Epoch: 10/10----------------\n"
     ]
    },
    {
     "name": "stderr",
     "output_type": "stream",
     "text": [
      "100%|██████████| 3000/3000 [11:01<00:00,  4.54it/s, Loss=2.163e-03, PDE=4.506e-04, BC=4.116e-06,3.491e-07, IC=1.522e-03,1.856e-04, D*=6.00e-02,2.34e-03, lr=1.03e-08]\n"
     ]
    },
    {
     "name": "stdout",
     "output_type": "stream",
     "text": [
      "R^2 Error: {'Ni': 0.031, 'SiC': 0.005, 'C': 0.057, 'NiSi': 0.068, 'NiSi2': 0.029}\n",
      "Inf Error: {'Ni': 0.029, 'SiC': 0.007, 'C': 0.114, 'NiSi': 0.073, 'NiSi2': 0.046}\n",
      "Mean Error: (0.03798489069499965, 0.05381633033896629)\n",
      "模型已保存至 ./Results/AF_PINN_[64]x5/model_save/AF_PINN_[64]x5_30000.pth\n",
      "Training time: 6728.26s-------------------------\n",
      "AF_PINN_[128]x4:\n",
      "Epoch: 1/10----------------\n"
     ]
    },
    {
     "name": "stderr",
     "output_type": "stream",
     "text": [
      "100%|██████████| 3000/3000 [12:36<00:00,  3.96it/s, Loss=4.092e-02, PDE=3.870e-03, BC=4.644e-03,5.921e-05, IC=3.135e-02,9.972e-04, D*=6.00e-02,4.49e-03, lr=9.76e-04]\n"
     ]
    },
    {
     "name": "stdout",
     "output_type": "stream",
     "text": [
      "R^2 Error: {'Ni': 0.103, 'SiC': 0.042, 'C': 0.142, 'NiSi': 0.217, 'NiSi2': 0.173}\n",
      "Inf Error: {'Ni': 0.091, 'SiC': 0.043, 'C': 0.195, 'NiSi': 0.319, 'NiSi2': 0.22}\n",
      "Mean Error: (0.13537009711893117, 0.17339178539781225)\n",
      "模型已保存至 ./Results/AF_PINN_[128]x4/model_save/AF_PINN_[128]x4_3000.pth\n",
      "Epoch: 2/10----------------\n"
     ]
    },
    {
     "name": "stderr",
     "output_type": "stream",
     "text": [
      "100%|██████████| 3000/3000 [12:37<00:00,  3.96it/s, Loss=1.956e-02, PDE=6.288e-03, BC=6.146e-04,1.238e-04, IC=1.181e-02,7.232e-04, D*=6.00e-02,3.45e-03, lr=9.05e-04]\n"
     ]
    },
    {
     "name": "stdout",
     "output_type": "stream",
     "text": [
      "R^2 Error: {'Ni': 0.095, 'SiC': 0.027, 'C': 0.105, 'NiSi': 0.24, 'NiSi2': 0.162}\n",
      "Inf Error: {'Ni': 0.089, 'SiC': 0.031, 'C': 0.162, 'NiSi': 0.334, 'NiSi2': 0.172}\n",
      "Mean Error: (0.12579587879193005, 0.15747651668722562)\n",
      "模型已保存至 ./Results/AF_PINN_[128]x4/model_save/AF_PINN_[128]x4_6000.pth\n",
      "Epoch: 3/10----------------\n"
     ]
    },
    {
     "name": "stderr",
     "output_type": "stream",
     "text": [
      "100%|██████████| 3000/3000 [12:41<00:00,  3.94it/s, Loss=1.839e-02, PDE=6.467e-03, BC=7.422e-04,2.126e-05, IC=1.068e-02,4.821e-04, D*=6.00e-02,3.06e-03, lr=7.94e-04]\n"
     ]
    },
    {
     "name": "stdout",
     "output_type": "stream",
     "text": [
      "R^2 Error: {'Ni': 0.064, 'SiC': 0.039, 'C': 0.075, 'NiSi': 0.201, 'NiSi2': 0.207}\n",
      "Inf Error: {'Ni': 0.063, 'SiC': 0.036, 'C': 0.146, 'NiSi': 0.315, 'NiSi2': 0.273}\n",
      "Mean Error: (0.11714404005866152, 0.16633653494414044)\n",
      "模型已保存至 ./Results/AF_PINN_[128]x4/model_save/AF_PINN_[128]x4_9000.pth\n",
      "Epoch: 4/10----------------\n"
     ]
    },
    {
     "name": "stderr",
     "output_type": "stream",
     "text": [
      "100%|██████████| 3000/3000 [12:37<00:00,  3.96it/s, Loss=1.250e-02, PDE=3.626e-03, BC=1.714e-04,6.403e-05, IC=8.230e-03,4.044e-04, D*=6.00e-02,3.13e-03, lr=6.55e-04]\n"
     ]
    },
    {
     "name": "stdout",
     "output_type": "stream",
     "text": [
      "R^2 Error: {'Ni': 0.068, 'SiC': 0.012, 'C': 0.063, 'NiSi': 0.175, 'NiSi2': 0.154}\n",
      "Inf Error: {'Ni': 0.068, 'SiC': 0.023, 'C': 0.124, 'NiSi': 0.292, 'NiSi2': 0.287}\n",
      "Mean Error: (0.09456867403909874, 0.15882865865613302)\n",
      "模型已保存至 ./Results/AF_PINN_[128]x4/model_save/AF_PINN_[128]x4_12000.pth\n",
      "Epoch: 5/10----------------\n"
     ]
    },
    {
     "name": "stderr",
     "output_type": "stream",
     "text": [
      "100%|██████████| 3000/3000 [12:36<00:00,  3.97it/s, Loss=1.353e-02, PDE=3.295e-03, BC=2.795e-03,3.750e-05, IC=7.083e-03,3.183e-04, D*=6.00e-02,2.57e-03, lr=5.01e-04]\n"
     ]
    },
    {
     "name": "stdout",
     "output_type": "stream",
     "text": [
      "R^2 Error: {'Ni': 0.066, 'SiC': 0.011, 'C': 0.045, 'NiSi': 0.152, 'NiSi2': 0.143}\n",
      "Inf Error: {'Ni': 0.065, 'SiC': 0.02, 'C': 0.097, 'NiSi': 0.25, 'NiSi2': 0.273}\n",
      "Mean Error: (0.08352129128092176, 0.14115345276670857)\n",
      "模型已保存至 ./Results/AF_PINN_[128]x4/model_save/AF_PINN_[128]x4_15000.pth\n",
      "Epoch: 6/10----------------\n"
     ]
    },
    {
     "name": "stderr",
     "output_type": "stream",
     "text": [
      "100%|██████████| 3000/3000 [12:37<00:00,  3.96it/s, Loss=1.098e-02, PDE=1.913e-03, BC=2.078e-03,9.532e-05, IC=6.600e-03,2.977e-04, D*=6.00e-02,2.47e-03, lr=3.46e-04]\n"
     ]
    },
    {
     "name": "stdout",
     "output_type": "stream",
     "text": [
      "R^2 Error: {'Ni': 0.052, 'SiC': 0.008, 'C': 0.048, 'NiSi': 0.151, 'NiSi2': 0.119}\n",
      "Inf Error: {'Ni': 0.052, 'SiC': 0.016, 'C': 0.096, 'NiSi': 0.24, 'NiSi2': 0.244}\n",
      "Mean Error: (0.07571674930318088, 0.12954577239492854)\n",
      "模型已保存至 ./Results/AF_PINN_[128]x4/model_save/AF_PINN_[128]x4_18000.pth\n",
      "Epoch: 7/10----------------\n"
     ]
    },
    {
     "name": "stderr",
     "output_type": "stream",
     "text": [
      "100%|██████████| 3000/3000 [12:36<00:00,  3.96it/s, Loss=9.011e-03, PDE=3.327e-03, BC=6.748e-04,9.822e-06, IC=4.767e-03,2.318e-04, D*=6.00e-02,2.40e-03, lr=2.07e-04]\n"
     ]
    },
    {
     "name": "stdout",
     "output_type": "stream",
     "text": [
      "R^2 Error: {'Ni': 0.048, 'SiC': 0.008, 'C': 0.049, 'NiSi': 0.144, 'NiSi2': 0.112}\n",
      "Inf Error: {'Ni': 0.047, 'SiC': 0.015, 'C': 0.103, 'NiSi': 0.228, 'NiSi2': 0.23}\n",
      "Mean Error: (0.07243347960840414, 0.12455244306785915)\n",
      "模型已保存至 ./Results/AF_PINN_[128]x4/model_save/AF_PINN_[128]x4_21000.pth\n",
      "Epoch: 8/10----------------\n"
     ]
    },
    {
     "name": "stderr",
     "output_type": "stream",
     "text": [
      "100%|██████████| 3000/3000 [12:40<00:00,  3.95it/s, Loss=3.664e-03, PDE=8.919e-04, BC=4.404e-05,2.166e-06, IC=2.582e-03,1.440e-04, D*=6.00e-02,1.99e-03, lr=9.58e-05]\n"
     ]
    },
    {
     "name": "stdout",
     "output_type": "stream",
     "text": [
      "R^2 Error: {'Ni': 0.042, 'SiC': 0.005, 'C': 0.045, 'NiSi': 0.114, 'NiSi2': 0.094}\n",
      "Inf Error: {'Ni': 0.043, 'SiC': 0.009, 'C': 0.091, 'NiSi': 0.194, 'NiSi2': 0.185}\n",
      "Mean Error: (0.060172923793702406, 0.10463260190136667)\n",
      "模型已保存至 ./Results/AF_PINN_[128]x4/model_save/AF_PINN_[128]x4_24000.pth\n",
      "Epoch: 9/10----------------\n"
     ]
    },
    {
     "name": "stderr",
     "output_type": "stream",
     "text": [
      "100%|██████████| 3000/3000 [12:42<00:00,  3.94it/s, Loss=2.412e-03, PDE=7.116e-04, BC=5.984e-06,6.377e-08, IC=1.586e-03,1.085e-04, D*=6.00e-02,1.81e-03, lr=2.46e-05]\n"
     ]
    },
    {
     "name": "stdout",
     "output_type": "stream",
     "text": [
      "R^2 Error: {'Ni': 0.034, 'SiC': 0.005, 'C': 0.032, 'NiSi': 0.1, 'NiSi2': 0.073}\n",
      "Inf Error: {'Ni': 0.035, 'SiC': 0.007, 'C': 0.078, 'NiSi': 0.175, 'NiSi2': 0.15}\n",
      "Mean Error: (0.04890483050418766, 0.08890076084628762)\n",
      "模型已保存至 ./Results/AF_PINN_[128]x4/model_save/AF_PINN_[128]x4_27000.pth\n",
      "Epoch: 10/10----------------\n"
     ]
    },
    {
     "name": "stderr",
     "output_type": "stream",
     "text": [
      "100%|██████████| 3000/3000 [12:40<00:00,  3.95it/s, Loss=1.660e-03, PDE=2.557e-04, BC=5.291e-06,4.877e-08, IC=1.297e-03,1.014e-04, D*=6.00e-02,1.75e-03, lr=1.03e-08]\n"
     ]
    },
    {
     "name": "stdout",
     "output_type": "stream",
     "text": [
      "R^2 Error: {'Ni': 0.034, 'SiC': 0.005, 'C': 0.031, 'NiSi': 0.099, 'NiSi2': 0.07}\n",
      "Inf Error: {'Ni': 0.035, 'SiC': 0.006, 'C': 0.076, 'NiSi': 0.172, 'NiSi2': 0.143}\n",
      "Mean Error: (0.04770061182366835, 0.08655888025695556)\n",
      "模型已保存至 ./Results/AF_PINN_[128]x4/model_save/AF_PINN_[128]x4_30000.pth\n",
      "Training time: 7607.48s-------------------------\n",
      "AF_PINN_[96]x4:\n",
      "Epoch: 1/10----------------\n"
     ]
    },
    {
     "name": "stderr",
     "output_type": "stream",
     "text": [
      "100%|██████████| 3000/3000 [10:54<00:00,  4.58it/s, Loss=4.192e-02, PDE=6.075e-03, BC=3.178e-03,1.253e-04, IC=3.177e-02,7.724e-04, D*=6.00e-02,4.13e-03, lr=9.76e-04]\n"
     ]
    },
    {
     "name": "stdout",
     "output_type": "stream",
     "text": [
      "R^2 Error: {'Ni': 0.135, 'SiC': 0.046, 'C': 0.092, 'NiSi': 0.346, 'NiSi2': 0.239}\n",
      "Inf Error: {'Ni': 0.118, 'SiC': 0.061, 'C': 0.125, 'NiSi': 0.507, 'NiSi2': 0.246}\n",
      "Mean Error: (0.17143475684402865, 0.21131705004159893)\n",
      "模型已保存至 ./Results/AF_PINN_[96]x4/model_save/AF_PINN_[96]x4_3000.pth\n",
      "Epoch: 2/10----------------\n"
     ]
    },
    {
     "name": "stderr",
     "output_type": "stream",
     "text": [
      "100%|██████████| 3000/3000 [11:01<00:00,  4.53it/s, Loss=3.893e-02, PDE=2.815e-02, BC=2.693e-03,2.055e-04, IC=7.430e-03,4.567e-04, D*=6.00e-02,2.25e-03, lr=9.05e-04]\n"
     ]
    },
    {
     "name": "stdout",
     "output_type": "stream",
     "text": [
      "R^2 Error: {'Ni': 0.084, 'SiC': 0.033, 'C': 0.067, 'NiSi': 0.263, 'NiSi2': 0.18}\n",
      "Inf Error: {'Ni': 0.08, 'SiC': 0.034, 'C': 0.107, 'NiSi': 0.46, 'NiSi2': 0.219}\n",
      "Mean Error: (0.12538317378510766, 0.17988930044980667)\n",
      "模型已保存至 ./Results/AF_PINN_[96]x4/model_save/AF_PINN_[96]x4_6000.pth\n",
      "Epoch: 3/10----------------\n"
     ]
    },
    {
     "name": "stderr",
     "output_type": "stream",
     "text": [
      "100%|██████████| 3000/3000 [11:01<00:00,  4.53it/s, Loss=1.420e-02, PDE=3.355e-03, BC=1.982e-04,1.428e-05, IC=1.000e-02,6.318e-04, D*=6.00e-02,2.43e-03, lr=7.94e-04]\n"
     ]
    },
    {
     "name": "stdout",
     "output_type": "stream",
     "text": [
      "R^2 Error: {'Ni': 0.079, 'SiC': 0.015, 'C': 0.056, 'NiSi': 0.259, 'NiSi2': 0.164}\n",
      "Inf Error: {'Ni': 0.076, 'SiC': 0.03, 'C': 0.095, 'NiSi': 0.469, 'NiSi2': 0.255}\n",
      "Mean Error: (0.11463022278912452, 0.18488680194029689)\n",
      "模型已保存至 ./Results/AF_PINN_[96]x4/model_save/AF_PINN_[96]x4_9000.pth\n",
      "Epoch: 4/10----------------\n"
     ]
    },
    {
     "name": "stderr",
     "output_type": "stream",
     "text": [
      "100%|██████████| 3000/3000 [10:59<00:00,  4.55it/s, Loss=2.060e-02, PDE=2.625e-03, BC=1.126e-03,3.769e-05, IC=1.631e-02,5.019e-04, D*=6.00e-02,2.54e-03, lr=6.55e-04]\n"
     ]
    },
    {
     "name": "stdout",
     "output_type": "stream",
     "text": [
      "R^2 Error: {'Ni': 0.076, 'SiC': 0.029, 'C': 0.091, 'NiSi': 0.277, 'NiSi2': 0.149}\n",
      "Inf Error: {'Ni': 0.074, 'SiC': 0.026, 'C': 0.152, 'NiSi': 0.444, 'NiSi2': 0.237}\n",
      "Mean Error: (0.12442515057160741, 0.18676292524398616)\n",
      "模型已保存至 ./Results/AF_PINN_[96]x4/model_save/AF_PINN_[96]x4_12000.pth\n",
      "Epoch: 5/10----------------\n"
     ]
    },
    {
     "name": "stderr",
     "output_type": "stream",
     "text": [
      "100%|██████████| 3000/3000 [10:59<00:00,  4.55it/s, Loss=1.200e-02, PDE=1.748e-03, BC=2.927e-04,4.532e-06, IC=9.624e-03,3.295e-04, D*=6.00e-02,2.36e-03, lr=5.01e-04]\n"
     ]
    },
    {
     "name": "stdout",
     "output_type": "stream",
     "text": [
      "R^2 Error: {'Ni': 0.066, 'SiC': 0.016, 'C': 0.067, 'NiSi': 0.215, 'NiSi2': 0.138}\n",
      "Inf Error: {'Ni': 0.064, 'SiC': 0.019, 'C': 0.131, 'NiSi': 0.403, 'NiSi2': 0.242}\n",
      "Mean Error: (0.10042040404168182, 0.1717736775285915)\n",
      "模型已保存至 ./Results/AF_PINN_[96]x4/model_save/AF_PINN_[96]x4_15000.pth\n",
      "Epoch: 6/10----------------\n"
     ]
    },
    {
     "name": "stderr",
     "output_type": "stream",
     "text": [
      "100%|██████████| 3000/3000 [10:57<00:00,  4.56it/s, Loss=7.392e-03, PDE=1.900e-03, BC=2.978e-04,8.601e-06, IC=4.877e-03,3.084e-04, D*=6.00e-02,2.31e-03, lr=3.46e-04]\n"
     ]
    },
    {
     "name": "stdout",
     "output_type": "stream",
     "text": [
      "R^2 Error: {'Ni': 0.058, 'SiC': 0.011, 'C': 0.055, 'NiSi': 0.187, 'NiSi2': 0.107}\n",
      "Inf Error: {'Ni': 0.055, 'SiC': 0.017, 'C': 0.115, 'NiSi': 0.361, 'NiSi2': 0.215}\n",
      "Mean Error: (0.08348694881999005, 0.15291914932330755)\n",
      "模型已保存至 ./Results/AF_PINN_[96]x4/model_save/AF_PINN_[96]x4_18000.pth\n",
      "Epoch: 7/10----------------\n"
     ]
    },
    {
     "name": "stderr",
     "output_type": "stream",
     "text": [
      "100%|██████████| 3000/3000 [10:57<00:00,  4.57it/s, Loss=8.848e-03, PDE=3.811e-03, BC=3.879e-04,9.396e-07, IC=4.424e-03,2.242e-04, D*=6.00e-02,2.17e-03, lr=2.07e-04]\n"
     ]
    },
    {
     "name": "stdout",
     "output_type": "stream",
     "text": [
      "R^2 Error: {'Ni': 0.047, 'SiC': 0.006, 'C': 0.057, 'NiSi': 0.159, 'NiSi2': 0.097}\n",
      "Inf Error: {'Ni': 0.045, 'SiC': 0.009, 'C': 0.122, 'NiSi': 0.306, 'NiSi2': 0.19}\n",
      "Mean Error: (0.07295902502590203, 0.13447730536238353)\n",
      "模型已保存至 ./Results/AF_PINN_[96]x4/model_save/AF_PINN_[96]x4_21000.pth\n",
      "Epoch: 8/10----------------\n"
     ]
    },
    {
     "name": "stderr",
     "output_type": "stream",
     "text": [
      "100%|██████████| 3000/3000 [11:02<00:00,  4.53it/s, Loss=3.586e-03, PDE=8.994e-04, BC=1.276e-04,9.247e-07, IC=2.388e-03,1.699e-04, D*=6.00e-02,2.04e-03, lr=9.58e-05]\n"
     ]
    },
    {
     "name": "stdout",
     "output_type": "stream",
     "text": [
      "R^2 Error: {'Ni': 0.038, 'SiC': 0.005, 'C': 0.046, 'NiSi': 0.131, 'NiSi2': 0.083}\n",
      "Inf Error: {'Ni': 0.039, 'SiC': 0.007, 'C': 0.108, 'NiSi': 0.247, 'NiSi2': 0.155}\n",
      "Mean Error: (0.06054120416066355, 0.1113586192792518)\n",
      "模型已保存至 ./Results/AF_PINN_[96]x4/model_save/AF_PINN_[96]x4_24000.pth\n",
      "Epoch: 9/10----------------\n"
     ]
    },
    {
     "name": "stderr",
     "output_type": "stream",
     "text": [
      "100%|██████████| 3000/3000 [11:00<00:00,  4.54it/s, Loss=2.382e-03, PDE=4.563e-04, BC=3.747e-06,2.275e-07, IC=1.795e-03,1.261e-04, D*=6.00e-02,1.83e-03, lr=2.46e-05]\n"
     ]
    },
    {
     "name": "stdout",
     "output_type": "stream",
     "text": [
      "R^2 Error: {'Ni': 0.035, 'SiC': 0.005, 'C': 0.042, 'NiSi': 0.114, 'NiSi2': 0.074}\n",
      "Inf Error: {'Ni': 0.035, 'SiC': 0.006, 'C': 0.1, 'NiSi': 0.213, 'NiSi2': 0.133}\n",
      "Mean Error: (0.05414454283740542, 0.09745925503804162)\n",
      "模型已保存至 ./Results/AF_PINN_[96]x4/model_save/AF_PINN_[96]x4_27000.pth\n",
      "Epoch: 10/10----------------\n"
     ]
    },
    {
     "name": "stderr",
     "output_type": "stream",
     "text": [
      "100%|██████████| 3000/3000 [11:03<00:00,  4.52it/s, Loss=1.885e-03, PDE=3.642e-04, BC=3.706e-06,2.328e-07, IC=1.398e-03,1.189e-04, D*=6.00e-02,1.79e-03, lr=1.03e-08]\n"
     ]
    },
    {
     "name": "stdout",
     "output_type": "stream",
     "text": [
      "R^2 Error: {'Ni': 0.035, 'SiC': 0.005, 'C': 0.041, 'NiSi': 0.11, 'NiSi2': 0.071}\n",
      "Inf Error: {'Ni': 0.034, 'SiC': 0.006, 'C': 0.098, 'NiSi': 0.207, 'NiSi2': 0.125}\n",
      "Mean Error: (0.05251259200162426, 0.0939920043846348)\n",
      "模型已保存至 ./Results/AF_PINN_[96]x4/model_save/AF_PINN_[96]x4_30000.pth\n",
      "Training time: 6621.64s-------------------------\n",
      "AF_PINN_[64]x4:\n",
      "Epoch: 1/10----------------\n"
     ]
    },
    {
     "name": "stderr",
     "output_type": "stream",
     "text": [
      "100%|██████████| 3000/3000 [09:37<00:00,  5.20it/s, Loss=3.270e-02, PDE=6.532e-03, BC=1.711e-03,2.312e-04, IC=2.344e-02,7.822e-04, D*=5.99e-02,5.07e-03, lr=9.76e-04]\n"
     ]
    },
    {
     "name": "stdout",
     "output_type": "stream",
     "text": [
      "R^2 Error: {'Ni': 0.104, 'SiC': 0.033, 'C': 0.103, 'NiSi': 0.301, 'NiSi2': 0.275}\n",
      "Inf Error: {'Ni': 0.098, 'SiC': 0.038, 'C': 0.146, 'NiSi': 0.418, 'NiSi2': 0.325}\n",
      "Mean Error: (0.1633680952356901, 0.20483672122013746)\n",
      "模型已保存至 ./Results/AF_PINN_[64]x4/model_save/AF_PINN_[64]x4_3000.pth\n",
      "Epoch: 2/10----------------\n"
     ]
    },
    {
     "name": "stderr",
     "output_type": "stream",
     "text": [
      "100%|██████████| 3000/3000 [09:38<00:00,  5.18it/s, Loss=3.837e-02, PDE=1.789e-02, BC=4.473e-03,3.262e-05, IC=1.531e-02,6.691e-04, D*=6.00e-02,3.54e-03, lr=9.05e-04]\n"
     ]
    },
    {
     "name": "stdout",
     "output_type": "stream",
     "text": [
      "R^2 Error: {'Ni': 0.103, 'SiC': 0.025, 'C': 0.082, 'NiSi': 0.262, 'NiSi2': 0.19}\n",
      "Inf Error: {'Ni': 0.093, 'SiC': 0.036, 'C': 0.155, 'NiSi': 0.381, 'NiSi2': 0.27}\n",
      "Mean Error: (0.13245980629340148, 0.18726932027516469)\n",
      "模型已保存至 ./Results/AF_PINN_[64]x4/model_save/AF_PINN_[64]x4_6000.pth\n",
      "Epoch: 3/10----------------\n"
     ]
    },
    {
     "name": "stderr",
     "output_type": "stream",
     "text": [
      "100%|██████████| 3000/3000 [09:39<00:00,  5.18it/s, Loss=1.733e-02, PDE=3.014e-03, BC=2.291e-03,9.171e-06, IC=1.130e-02,7.158e-04, D*=6.00e-02,3.65e-03, lr=7.94e-04]\n"
     ]
    },
    {
     "name": "stdout",
     "output_type": "stream",
     "text": [
      "R^2 Error: {'Ni': 0.088, 'SiC': 0.019, 'C': 0.079, 'NiSi': 0.263, 'NiSi2': 0.182}\n",
      "Inf Error: {'Ni': 0.079, 'SiC': 0.031, 'C': 0.152, 'NiSi': 0.373, 'NiSi2': 0.312}\n",
      "Mean Error: (0.12638248000932592, 0.18957053585580858)\n",
      "模型已保存至 ./Results/AF_PINN_[64]x4/model_save/AF_PINN_[64]x4_9000.pth\n",
      "Epoch: 4/10----------------\n"
     ]
    },
    {
     "name": "stderr",
     "output_type": "stream",
     "text": [
      "100%|██████████| 3000/3000 [09:39<00:00,  5.18it/s, Loss=2.787e-02, PDE=1.305e-02, BC=4.606e-03,6.227e-06, IC=9.707e-03,5.072e-04, D*=6.00e-02,3.19e-03, lr=6.55e-04]\n"
     ]
    },
    {
     "name": "stdout",
     "output_type": "stream",
     "text": [
      "R^2 Error: {'Ni': 0.091, 'SiC': 0.015, 'C': 0.075, 'NiSi': 0.224, 'NiSi2': 0.157}\n",
      "Inf Error: {'Ni': 0.084, 'SiC': 0.027, 'C': 0.135, 'NiSi': 0.307, 'NiSi2': 0.281}\n",
      "Mean Error: (0.1122027625581167, 0.16665495041586306)\n",
      "模型已保存至 ./Results/AF_PINN_[64]x4/model_save/AF_PINN_[64]x4_12000.pth\n",
      "Epoch: 5/10----------------\n"
     ]
    },
    {
     "name": "stderr",
     "output_type": "stream",
     "text": [
      "100%|██████████| 3000/3000 [09:40<00:00,  5.17it/s, Loss=1.532e-02, PDE=2.478e-03, BC=2.415e-03,7.710e-05, IC=9.936e-03,4.119e-04, D*=6.00e-02,3.23e-03, lr=5.01e-04]\n"
     ]
    },
    {
     "name": "stdout",
     "output_type": "stream",
     "text": [
      "R^2 Error: {'Ni': 0.074, 'SiC': 0.013, 'C': 0.088, 'NiSi': 0.176, 'NiSi2': 0.128}\n",
      "Inf Error: {'Ni': 0.07, 'SiC': 0.02, 'C': 0.148, 'NiSi': 0.271, 'NiSi2': 0.236}\n",
      "Mean Error: (0.09590690883691454, 0.14877248267557344)\n",
      "模型已保存至 ./Results/AF_PINN_[64]x4/model_save/AF_PINN_[64]x4_15000.pth\n",
      "Epoch: 6/10----------------\n"
     ]
    },
    {
     "name": "stderr",
     "output_type": "stream",
     "text": [
      "100%|██████████| 3000/3000 [09:35<00:00,  5.21it/s, Loss=1.784e-02, PDE=9.978e-03, BC=1.253e-03,1.185e-04, IC=6.163e-03,3.247e-04, D*=6.00e-02,2.92e-03, lr=3.46e-04]\n"
     ]
    },
    {
     "name": "stdout",
     "output_type": "stream",
     "text": [
      "R^2 Error: {'Ni': 0.064, 'SiC': 0.015, 'C': 0.075, 'NiSi': 0.144, 'NiSi2': 0.118}\n",
      "Inf Error: {'Ni': 0.062, 'SiC': 0.026, 'C': 0.127, 'NiSi': 0.235, 'NiSi2': 0.206}\n",
      "Mean Error: (0.08318725140750673, 0.13116405954992844)\n",
      "模型已保存至 ./Results/AF_PINN_[64]x4/model_save/AF_PINN_[64]x4_18000.pth\n",
      "Epoch: 7/10----------------\n"
     ]
    },
    {
     "name": "stderr",
     "output_type": "stream",
     "text": [
      "100%|██████████| 3000/3000 [09:34<00:00,  5.22it/s, Loss=7.626e-03, PDE=2.692e-03, BC=8.389e-05,2.029e-05, IC=4.548e-03,2.828e-04, D*=6.00e-02,3.04e-03, lr=2.07e-04]\n"
     ]
    },
    {
     "name": "stdout",
     "output_type": "stream",
     "text": [
      "R^2 Error: {'Ni': 0.05, 'SiC': 0.008, 'C': 0.065, 'NiSi': 0.142, 'NiSi2': 0.09}\n",
      "Inf Error: {'Ni': 0.047, 'SiC': 0.013, 'C': 0.135, 'NiSi': 0.231, 'NiSi2': 0.173}\n",
      "Mean Error: (0.07079750138157295, 0.1198441105295136)\n",
      "模型已保存至 ./Results/AF_PINN_[64]x4/model_save/AF_PINN_[64]x4_21000.pth\n",
      "Epoch: 8/10----------------\n"
     ]
    },
    {
     "name": "stderr",
     "output_type": "stream",
     "text": [
      "100%|██████████| 3000/3000 [09:31<00:00,  5.25it/s, Loss=4.349e-03, PDE=1.096e-03, BC=2.636e-05,1.770e-06, IC=2.997e-03,2.279e-04, D*=6.00e-02,2.93e-03, lr=9.58e-05]\n"
     ]
    },
    {
     "name": "stdout",
     "output_type": "stream",
     "text": [
      "R^2 Error: {'Ni': 0.04, 'SiC': 0.006, 'C': 0.061, 'NiSi': 0.129, 'NiSi2': 0.076}\n",
      "Inf Error: {'Ni': 0.042, 'SiC': 0.009, 'C': 0.13, 'NiSi': 0.214, 'NiSi2': 0.146}\n",
      "Mean Error: (0.062373599680058435, 0.10817138560577588)\n",
      "模型已保存至 ./Results/AF_PINN_[64]x4/model_save/AF_PINN_[64]x4_24000.pth\n",
      "Epoch: 9/10----------------\n"
     ]
    },
    {
     "name": "stderr",
     "output_type": "stream",
     "text": [
      "100%|██████████| 3000/3000 [09:20<00:00,  5.35it/s, Loss=3.029e-03, PDE=5.549e-04, BC=7.282e-06,1.292e-06, IC=2.283e-03,1.821e-04, D*=6.00e-02,2.72e-03, lr=2.46e-05]\n"
     ]
    },
    {
     "name": "stdout",
     "output_type": "stream",
     "text": [
      "R^2 Error: {'Ni': 0.036, 'SiC': 0.005, 'C': 0.051, 'NiSi': 0.118, 'NiSi2': 0.067}\n",
      "Inf Error: {'Ni': 0.037, 'SiC': 0.007, 'C': 0.115, 'NiSi': 0.198, 'NiSi2': 0.125}\n",
      "Mean Error: (0.055401829224685575, 0.09642505111726266)\n",
      "模型已保存至 ./Results/AF_PINN_[64]x4/model_save/AF_PINN_[64]x4_27000.pth\n",
      "Epoch: 10/10----------------\n"
     ]
    },
    {
     "name": "stderr",
     "output_type": "stream",
     "text": [
      "100%|██████████| 3000/3000 [09:35<00:00,  5.21it/s, Loss=2.634e-03, PDE=5.054e-04, BC=7.643e-06,1.141e-06, IC=1.955e-03,1.649e-04, D*=6.00e-02,2.57e-03, lr=1.03e-08]\n"
     ]
    },
    {
     "name": "stdout",
     "output_type": "stream",
     "text": [
      "R^2 Error: {'Ni': 0.035, 'SiC': 0.004, 'C': 0.048, 'NiSi': 0.115, 'NiSi2': 0.065}\n",
      "Inf Error: {'Ni': 0.036, 'SiC': 0.007, 'C': 0.109, 'NiSi': 0.193, 'NiSi2': 0.121}\n",
      "Mean Error: (0.05355596374377745, 0.09314959588482542)\n",
      "模型已保存至 ./Results/AF_PINN_[64]x4/model_save/AF_PINN_[64]x4_30000.pth\n",
      "Training time: 5774.53s-------------------------\n",
      "AF_PINN_[128]x3:\n",
      "Epoch: 1/10----------------\n"
     ]
    },
    {
     "name": "stderr",
     "output_type": "stream",
     "text": [
      "100%|██████████| 3000/3000 [10:41<00:00,  4.67it/s, Loss=2.622e-02, PDE=8.684e-03, BC=5.475e-04,7.546e-04, IC=1.579e-02,4.481e-04, D*=6.00e-02,3.15e-03, lr=9.76e-04]\n"
     ]
    },
    {
     "name": "stdout",
     "output_type": "stream",
     "text": [
      "R^2 Error: {'Ni': 0.086, 'SiC': 0.02, 'C': 0.093, 'NiSi': 0.297, 'NiSi2': 0.236}\n",
      "Inf Error: {'Ni': 0.088, 'SiC': 0.03, 'C': 0.123, 'NiSi': 0.461, 'NiSi2': 0.405}\n",
      "Mean Error: (0.14634021144014184, 0.2213475298125788)\n",
      "模型已保存至 ./Results/AF_PINN_[128]x3/model_save/AF_PINN_[128]x3_3000.pth\n",
      "Epoch: 2/10----------------\n"
     ]
    },
    {
     "name": "stderr",
     "output_type": "stream",
     "text": [
      "100%|██████████| 3000/3000 [10:40<00:00,  4.69it/s, Loss=2.420e-02, PDE=4.204e-03, BC=3.793e-03,2.396e-04, IC=1.559e-02,3.795e-04, D*=6.00e-02,2.55e-03, lr=9.05e-04]\n"
     ]
    },
    {
     "name": "stdout",
     "output_type": "stream",
     "text": [
      "R^2 Error: {'Ni': 0.096, 'SiC': 0.032, 'C': 0.091, 'NiSi': 0.236, 'NiSi2': 0.202}\n",
      "Inf Error: {'Ni': 0.089, 'SiC': 0.035, 'C': 0.114, 'NiSi': 0.383, 'NiSi2': 0.417}\n",
      "Mean Error: (0.13131812570154094, 0.2075416610634076)\n",
      "模型已保存至 ./Results/AF_PINN_[128]x3/model_save/AF_PINN_[128]x3_6000.pth\n",
      "Epoch: 3/10----------------\n"
     ]
    },
    {
     "name": "stderr",
     "output_type": "stream",
     "text": [
      "100%|██████████| 3000/3000 [10:42<00:00,  4.67it/s, Loss=2.563e-02, PDE=8.715e-03, BC=1.217e-03,4.977e-05, IC=1.524e-02,4.079e-04, D*=6.00e-02,2.57e-03, lr=7.94e-04]\n"
     ]
    },
    {
     "name": "stdout",
     "output_type": "stream",
     "text": [
      "R^2 Error: {'Ni': 0.066, 'SiC': 0.013, 'C': 0.051, 'NiSi': 0.213, 'NiSi2': 0.195}\n",
      "Inf Error: {'Ni': 0.063, 'SiC': 0.021, 'C': 0.107, 'NiSi': 0.342, 'NiSi2': 0.455}\n",
      "Mean Error: (0.10764649161822201, 0.19753603368808217)\n",
      "模型已保存至 ./Results/AF_PINN_[128]x3/model_save/AF_PINN_[128]x3_9000.pth\n",
      "Epoch: 4/10----------------\n"
     ]
    },
    {
     "name": "stderr",
     "output_type": "stream",
     "text": [
      "100%|██████████| 3000/3000 [10:44<00:00,  4.65it/s, Loss=1.483e-02, PDE=4.643e-03, BC=1.237e-03,1.974e-05, IC=8.599e-03,3.290e-04, D*=6.00e-02,2.42e-03, lr=6.55e-04]\n"
     ]
    },
    {
     "name": "stdout",
     "output_type": "stream",
     "text": [
      "R^2 Error: {'Ni': 0.064, 'SiC': 0.008, 'C': 0.045, 'NiSi': 0.209, 'NiSi2': 0.168}\n",
      "Inf Error: {'Ni': 0.062, 'SiC': 0.016, 'C': 0.097, 'NiSi': 0.308, 'NiSi2': 0.434}\n",
      "Mean Error: (0.09868055017741084, 0.1833254552082731)\n",
      "模型已保存至 ./Results/AF_PINN_[128]x3/model_save/AF_PINN_[128]x3_12000.pth\n",
      "Epoch: 5/10----------------\n"
     ]
    },
    {
     "name": "stderr",
     "output_type": "stream",
     "text": [
      "100%|██████████| 3000/3000 [10:59<00:00,  4.55it/s, Loss=1.441e-02, PDE=2.526e-03, BC=2.204e-03,1.176e-05, IC=9.377e-03,2.943e-04, D*=6.00e-02,2.26e-03, lr=5.01e-04]\n"
     ]
    },
    {
     "name": "stdout",
     "output_type": "stream",
     "text": [
      "R^2 Error: {'Ni': 0.073, 'SiC': 0.015, 'C': 0.043, 'NiSi': 0.159, 'NiSi2': 0.17}\n",
      "Inf Error: {'Ni': 0.069, 'SiC': 0.023, 'C': 0.097, 'NiSi': 0.271, 'NiSi2': 0.459}\n",
      "Mean Error: (0.09178226917234797, 0.1838043773522454)\n",
      "模型已保存至 ./Results/AF_PINN_[128]x3/model_save/AF_PINN_[128]x3_15000.pth\n",
      "Epoch: 6/10----------------\n"
     ]
    },
    {
     "name": "stderr",
     "output_type": "stream",
     "text": [
      "100%|██████████| 3000/3000 [11:07<00:00,  4.49it/s, Loss=2.224e-02, PDE=1.012e-02, BC=2.566e-03,9.824e-05, IC=9.262e-03,2.011e-04, D*=6.00e-02,2.03e-03, lr=3.46e-04]\n"
     ]
    },
    {
     "name": "stdout",
     "output_type": "stream",
     "text": [
      "R^2 Error: {'Ni': 0.059, 'SiC': 0.011, 'C': 0.05, 'NiSi': 0.131, 'NiSi2': 0.118}\n",
      "Inf Error: {'Ni': 0.058, 'SiC': 0.021, 'C': 0.092, 'NiSi': 0.238, 'NiSi2': 0.332}\n",
      "Mean Error: (0.07389393093023575, 0.1483583547913959)\n",
      "模型已保存至 ./Results/AF_PINN_[128]x3/model_save/AF_PINN_[128]x3_18000.pth\n",
      "Epoch: 7/10----------------\n"
     ]
    },
    {
     "name": "stderr",
     "output_type": "stream",
     "text": [
      "100%|██████████| 3000/3000 [11:16<00:00,  4.43it/s, Loss=5.758e-03, PDE=9.645e-04, BC=6.486e-05,4.410e-06, IC=4.556e-03,1.677e-04, D*=6.00e-02,1.84e-03, lr=2.07e-04]\n"
     ]
    },
    {
     "name": "stdout",
     "output_type": "stream",
     "text": [
      "R^2 Error: {'Ni': 0.046, 'SiC': 0.006, 'C': 0.036, 'NiSi': 0.12, 'NiSi2': 0.115}\n",
      "Inf Error: {'Ni': 0.048, 'SiC': 0.012, 'C': 0.076, 'NiSi': 0.214, 'NiSi2': 0.313}\n",
      "Mean Error: (0.06454200128214171, 0.13226163395797402)\n",
      "模型已保存至 ./Results/AF_PINN_[128]x3/model_save/AF_PINN_[128]x3_21000.pth\n",
      "Epoch: 8/10----------------\n"
     ]
    },
    {
     "name": "stderr",
     "output_type": "stream",
     "text": [
      "100%|██████████| 3000/3000 [11:17<00:00,  4.43it/s, Loss=4.148e-03, PDE=5.291e-04, BC=3.253e-05,3.321e-07, IC=3.470e-03,1.159e-04, D*=6.00e-02,1.71e-03, lr=9.58e-05]\n"
     ]
    },
    {
     "name": "stdout",
     "output_type": "stream",
     "text": [
      "R^2 Error: {'Ni': 0.045, 'SiC': 0.005, 'C': 0.03, 'NiSi': 0.107, 'NiSi2': 0.079}\n",
      "Inf Error: {'Ni': 0.046, 'SiC': 0.009, 'C': 0.063, 'NiSi': 0.184, 'NiSi2': 0.222}\n",
      "Mean Error: (0.053235225130722395, 0.10497875549232935)\n",
      "模型已保存至 ./Results/AF_PINN_[128]x3/model_save/AF_PINN_[128]x3_24000.pth\n",
      "Epoch: 9/10----------------\n"
     ]
    },
    {
     "name": "stderr",
     "output_type": "stream",
     "text": [
      "100%|██████████| 3000/3000 [11:17<00:00,  4.43it/s, Loss=3.253e-03, PDE=4.496e-04, BC=3.603e-06,1.973e-07, IC=2.709e-03,8.997e-05, D*=6.00e-02,1.63e-03, lr=2.46e-05]\n"
     ]
    },
    {
     "name": "stdout",
     "output_type": "stream",
     "text": [
      "R^2 Error: {'Ni': 0.046, 'SiC': 0.005, 'C': 0.026, 'NiSi': 0.096, 'NiSi2': 0.064}\n",
      "Inf Error: {'Ni': 0.047, 'SiC': 0.009, 'C': 0.055, 'NiSi': 0.167, 'NiSi2': 0.177}\n",
      "Mean Error: (0.047371829345653434, 0.09107087777020863)\n",
      "模型已保存至 ./Results/AF_PINN_[128]x3/model_save/AF_PINN_[128]x3_27000.pth\n",
      "Epoch: 10/10----------------\n"
     ]
    },
    {
     "name": "stderr",
     "output_type": "stream",
     "text": [
      "100%|██████████| 3000/3000 [11:18<00:00,  4.42it/s, Loss=2.860e-03, PDE=2.890e-04, BC=2.759e-06,1.883e-07, IC=2.484e-03,8.369e-05, D*=6.00e-02,1.60e-03, lr=1.03e-08]\n"
     ]
    },
    {
     "name": "stdout",
     "output_type": "stream",
     "text": [
      "R^2 Error: {'Ni': 0.046, 'SiC': 0.005, 'C': 0.024, 'NiSi': 0.092, 'NiSi2': 0.06}\n",
      "Inf Error: {'Ni': 0.048, 'SiC': 0.009, 'C': 0.051, 'NiSi': 0.16, 'NiSi2': 0.166}\n",
      "Mean Error: (0.04533330994598545, 0.086703121783407)\n",
      "模型已保存至 ./Results/AF_PINN_[128]x3/model_save/AF_PINN_[128]x3_30000.pth\n",
      "Training time: 6627.28s-------------------------\n",
      "AF_PINN_[96]x3:\n",
      "Epoch: 1/10----------------\n"
     ]
    },
    {
     "name": "stderr",
     "output_type": "stream",
     "text": [
      "100%|██████████| 3000/3000 [09:33<00:00,  5.23it/s, Loss=3.825e-02, PDE=1.539e-02, BC=1.659e-03,3.193e-05, IC=2.040e-02,7.731e-04, D*=6.00e-02,4.20e-03, lr=9.76e-04]\n"
     ]
    },
    {
     "name": "stdout",
     "output_type": "stream",
     "text": [
      "R^2 Error: {'Ni': 0.122, 'SiC': 0.023, 'C': 0.067, 'NiSi': 0.304, 'NiSi2': 1.0}\n",
      "Inf Error: {'Ni': 0.119, 'SiC': 0.033, 'C': 0.148, 'NiSi': 0.495, 'NiSi2': 1.0}\n",
      "Mean Error: (0.3029898609737005, 0.35897303513973106)\n",
      "模型已保存至 ./Results/AF_PINN_[96]x3/model_save/AF_PINN_[96]x3_3000.pth\n",
      "Epoch: 2/10----------------\n"
     ]
    },
    {
     "name": "stderr",
     "output_type": "stream",
     "text": [
      "100%|██████████| 3000/3000 [09:34<00:00,  5.22it/s, Loss=3.141e-02, PDE=1.445e-02, BC=4.087e-04,4.757e-04, IC=1.557e-02,5.005e-04, D*=6.00e-02,2.82e-03, lr=9.05e-04]\n"
     ]
    },
    {
     "name": "stdout",
     "output_type": "stream",
     "text": [
      "R^2 Error: {'Ni': 0.069, 'SiC': 0.023, 'C': 0.048, 'NiSi': 0.239, 'NiSi2': 1.0}\n",
      "Inf Error: {'Ni': 0.076, 'SiC': 0.025, 'C': 0.121, 'NiSi': 0.402, 'NiSi2': 1.0}\n",
      "Mean Error: (0.2758902495080828, 0.32482425368747764)\n",
      "模型已保存至 ./Results/AF_PINN_[96]x3/model_save/AF_PINN_[96]x3_6000.pth\n",
      "Epoch: 3/10----------------\n"
     ]
    },
    {
     "name": "stderr",
     "output_type": "stream",
     "text": [
      "100%|██████████| 3000/3000 [09:40<00:00,  5.17it/s, Loss=2.683e-02, PDE=1.354e-02, BC=1.059e-03,9.480e-05, IC=1.167e-02,4.650e-04, D*=6.00e-02,2.36e-03, lr=7.94e-04]\n"
     ]
    },
    {
     "name": "stdout",
     "output_type": "stream",
     "text": [
      "R^2 Error: {'Ni': 0.086, 'SiC': 0.027, 'C': 0.075, 'NiSi': 0.25, 'NiSi2': 1.0}\n",
      "Inf Error: {'Ni': 0.092, 'SiC': 0.025, 'C': 0.115, 'NiSi': 0.394, 'NiSi2': 1.0}\n",
      "Mean Error: (0.287545404186572, 0.32502230376506824)\n",
      "模型已保存至 ./Results/AF_PINN_[96]x3/model_save/AF_PINN_[96]x3_9000.pth\n",
      "Epoch: 4/10----------------\n"
     ]
    },
    {
     "name": "stderr",
     "output_type": "stream",
     "text": [
      "100%|██████████| 3000/3000 [09:45<00:00,  5.13it/s, Loss=2.690e-02, PDE=1.566e-02, BC=5.989e-04,1.137e-04, IC=1.013e-02,3.932e-04, D*=6.00e-02,2.15e-03, lr=6.55e-04]\n"
     ]
    },
    {
     "name": "stdout",
     "output_type": "stream",
     "text": [
      "R^2 Error: {'Ni': 0.075, 'SiC': 0.025, 'C': 0.049, 'NiSi': 0.225, 'NiSi2': 0.121}\n",
      "Inf Error: {'Ni': 0.073, 'SiC': 0.029, 'C': 0.114, 'NiSi': 0.421, 'NiSi2': 0.227}\n",
      "Mean Error: (0.09911310844118996, 0.1728689897742525)\n",
      "模型已保存至 ./Results/AF_PINN_[96]x3/model_save/AF_PINN_[96]x3_12000.pth\n",
      "Epoch: 5/10----------------\n"
     ]
    },
    {
     "name": "stderr",
     "output_type": "stream",
     "text": [
      "100%|██████████| 3000/3000 [09:43<00:00,  5.14it/s, Loss=1.330e-02, PDE=4.043e-03, BC=9.286e-04,2.188e-05, IC=8.022e-03,2.883e-04, D*=6.00e-02,2.07e-03, lr=5.01e-04]\n"
     ]
    },
    {
     "name": "stdout",
     "output_type": "stream",
     "text": [
      "R^2 Error: {'Ni': 0.07, 'SiC': 0.01, 'C': 0.052, 'NiSi': 0.198, 'NiSi2': 0.092}\n",
      "Inf Error: {'Ni': 0.068, 'SiC': 0.021, 'C': 0.115, 'NiSi': 0.383, 'NiSi2': 0.123}\n",
      "Mean Error: (0.08415652861015765, 0.14190783061647874)\n",
      "模型已保存至 ./Results/AF_PINN_[96]x3/model_save/AF_PINN_[96]x3_15000.pth\n",
      "Epoch: 6/10----------------\n"
     ]
    },
    {
     "name": "stderr",
     "output_type": "stream",
     "text": [
      "100%|██████████| 3000/3000 [09:47<00:00,  5.11it/s, Loss=1.009e-02, PDE=1.753e-03, BC=8.214e-04,3.112e-06, IC=7.234e-03,2.780e-04, D*=6.00e-02,1.93e-03, lr=3.46e-04]\n"
     ]
    },
    {
     "name": "stdout",
     "output_type": "stream",
     "text": [
      "R^2 Error: {'Ni': 0.054, 'SiC': 0.009, 'C': 0.058, 'NiSi': 0.194, 'NiSi2': 0.056}\n",
      "Inf Error: {'Ni': 0.053, 'SiC': 0.017, 'C': 0.115, 'NiSi': 0.37, 'NiSi2': 0.087}\n",
      "Mean Error: (0.07401214877484215, 0.12806246097354107)\n",
      "模型已保存至 ./Results/AF_PINN_[96]x3/model_save/AF_PINN_[96]x3_18000.pth\n",
      "Epoch: 7/10----------------\n"
     ]
    },
    {
     "name": "stderr",
     "output_type": "stream",
     "text": [
      "100%|██████████| 3000/3000 [09:47<00:00,  5.11it/s, Loss=7.546e-03, PDE=1.903e-03, BC=2.763e-04,2.418e-06, IC=5.143e-03,2.215e-04, D*=6.00e-02,1.90e-03, lr=2.07e-04]\n"
     ]
    },
    {
     "name": "stdout",
     "output_type": "stream",
     "text": [
      "R^2 Error: {'Ni': 0.055, 'SiC': 0.009, 'C': 0.043, 'NiSi': 0.157, 'NiSi2': 0.048}\n",
      "Inf Error: {'Ni': 0.055, 'SiC': 0.015, 'C': 0.097, 'NiSi': 0.315, 'NiSi2': 0.072}\n",
      "Mean Error: (0.06236514663153403, 0.11059506019733441)\n",
      "模型已保存至 ./Results/AF_PINN_[96]x3/model_save/AF_PINN_[96]x3_21000.pth\n",
      "Epoch: 8/10----------------\n"
     ]
    },
    {
     "name": "stderr",
     "output_type": "stream",
     "text": [
      "100%|██████████| 3000/3000 [09:45<00:00,  5.12it/s, Loss=5.057e-03, PDE=7.768e-04, BC=6.092e-05,1.848e-07, IC=4.053e-03,1.656e-04, D*=6.00e-02,1.88e-03, lr=9.58e-05]\n"
     ]
    },
    {
     "name": "stdout",
     "output_type": "stream",
     "text": [
      "R^2 Error: {'Ni': 0.051, 'SiC': 0.006, 'C': 0.041, 'NiSi': 0.132, 'NiSi2': 0.041}\n",
      "Inf Error: {'Ni': 0.051, 'SiC': 0.011, 'C': 0.091, 'NiSi': 0.271, 'NiSi2': 0.061}\n",
      "Mean Error: (0.05406917445608826, 0.09712332293796955)\n",
      "模型已保存至 ./Results/AF_PINN_[96]x3/model_save/AF_PINN_[96]x3_24000.pth\n",
      "Epoch: 9/10----------------\n"
     ]
    },
    {
     "name": "stderr",
     "output_type": "stream",
     "text": [
      "100%|██████████| 3000/3000 [09:45<00:00,  5.12it/s, Loss=3.973e-03, PDE=5.436e-04, BC=8.814e-06,2.732e-07, IC=3.281e-03,1.396e-04, D*=6.00e-02,1.87e-03, lr=2.46e-05]\n"
     ]
    },
    {
     "name": "stdout",
     "output_type": "stream",
     "text": [
      "R^2 Error: {'Ni': 0.047, 'SiC': 0.005, 'C': 0.039, 'NiSi': 0.118, 'NiSi2': 0.035}\n",
      "Inf Error: {'Ni': 0.049, 'SiC': 0.009, 'C': 0.086, 'NiSi': 0.246, 'NiSi2': 0.054}\n",
      "Mean Error: (0.049118116608038484, 0.08868330922210699)\n",
      "模型已保存至 ./Results/AF_PINN_[96]x3/model_save/AF_PINN_[96]x3_27000.pth\n",
      "Epoch: 10/10----------------\n"
     ]
    },
    {
     "name": "stderr",
     "output_type": "stream",
     "text": [
      "100%|██████████| 3000/3000 [09:41<00:00,  5.16it/s, Loss=3.526e-03, PDE=4.889e-04, BC=7.824e-06,3.073e-07, IC=2.900e-03,1.285e-04, D*=6.00e-02,1.85e-03, lr=1.03e-08]\n"
     ]
    },
    {
     "name": "stdout",
     "output_type": "stream",
     "text": [
      "R^2 Error: {'Ni': 0.047, 'SiC': 0.005, 'C': 0.037, 'NiSi': 0.112, 'NiSi2': 0.034}\n",
      "Inf Error: {'Ni': 0.049, 'SiC': 0.009, 'C': 0.081, 'NiSi': 0.234, 'NiSi2': 0.052}\n",
      "Mean Error: (0.04719239181256523, 0.08501482734427032)\n",
      "模型已保存至 ./Results/AF_PINN_[96]x3/model_save/AF_PINN_[96]x3_30000.pth\n",
      "Training time: 5848.57s-------------------------\n",
      "AF_PINN_[64]x3:\n",
      "Epoch: 1/10----------------\n"
     ]
    },
    {
     "name": "stderr",
     "output_type": "stream",
     "text": [
      "100%|██████████| 3000/3000 [08:32<00:00,  5.86it/s, Loss=2.770e-02, PDE=7.230e-03, BC=3.463e-03,5.482e-05, IC=1.653e-02,4.297e-04, D*=6.00e-02,3.84e-03, lr=9.76e-04]\n"
     ]
    },
    {
     "name": "stdout",
     "output_type": "stream",
     "text": [
      "R^2 Error: {'Ni': 0.084, 'SiC': 0.034, 'C': 0.09, 'NiSi': 0.238, 'NiSi2': 0.161}\n",
      "Inf Error: {'Ni': 0.081, 'SiC': 0.037, 'C': 0.088, 'NiSi': 0.318, 'NiSi2': 0.158}\n",
      "Mean Error: (0.12146848126651558, 0.1363307335498342)\n",
      "模型已保存至 ./Results/AF_PINN_[64]x3/model_save/AF_PINN_[64]x3_3000.pth\n",
      "Epoch: 2/10----------------\n"
     ]
    },
    {
     "name": "stderr",
     "output_type": "stream",
     "text": [
      "100%|██████████| 3000/3000 [08:33<00:00,  5.84it/s, Loss=2.663e-02, PDE=5.021e-03, BC=2.366e-03,3.174e-04, IC=1.849e-02,4.411e-04, D*=6.00e-02,2.92e-03, lr=9.05e-04]\n"
     ]
    },
    {
     "name": "stdout",
     "output_type": "stream",
     "text": [
      "R^2 Error: {'Ni': 0.085, 'SiC': 0.037, 'C': 0.067, 'NiSi': 0.187, 'NiSi2': 0.111}\n",
      "Inf Error: {'Ni': 0.079, 'SiC': 0.034, 'C': 0.075, 'NiSi': 0.252, 'NiSi2': 0.126}\n",
      "Mean Error: (0.0973558917137983, 0.11315407413968197)\n",
      "模型已保存至 ./Results/AF_PINN_[64]x3/model_save/AF_PINN_[64]x3_6000.pth\n",
      "Epoch: 3/10----------------\n"
     ]
    },
    {
     "name": "stderr",
     "output_type": "stream",
     "text": [
      "100%|██████████| 3000/3000 [08:34<00:00,  5.83it/s, Loss=2.015e-02, PDE=4.856e-03, BC=3.228e-03,3.081e-05, IC=1.172e-02,3.233e-04, D*=6.00e-02,2.47e-03, lr=7.94e-04]\n"
     ]
    },
    {
     "name": "stdout",
     "output_type": "stream",
     "text": [
      "R^2 Error: {'Ni': 0.083, 'SiC': 0.014, 'C': 0.036, 'NiSi': 0.165, 'NiSi2': 0.093}\n",
      "Inf Error: {'Ni': 0.08, 'SiC': 0.026, 'C': 0.068, 'NiSi': 0.239, 'NiSi2': 0.089}\n",
      "Mean Error: (0.07823450853342376, 0.10021755876620284)\n",
      "模型已保存至 ./Results/AF_PINN_[64]x3/model_save/AF_PINN_[64]x3_9000.pth\n",
      "Epoch: 4/10----------------\n"
     ]
    },
    {
     "name": "stderr",
     "output_type": "stream",
     "text": [
      "100%|██████████| 3000/3000 [08:09<00:00,  6.12it/s, Loss=1.324e-02, PDE=3.684e-03, BC=3.778e-04,1.763e-05, IC=8.856e-03,3.050e-04, D*=6.00e-02,2.35e-03, lr=6.55e-04]\n"
     ]
    },
    {
     "name": "stdout",
     "output_type": "stream",
     "text": [
      "R^2 Error: {'Ni': 0.061, 'SiC': 0.009, 'C': 0.029, 'NiSi': 0.161, 'NiSi2': 0.077}\n",
      "Inf Error: {'Ni': 0.06, 'SiC': 0.02, 'C': 0.062, 'NiSi': 0.239, 'NiSi2': 0.071}\n",
      "Mean Error: (0.06722526146643504, 0.09025881283278961)\n",
      "模型已保存至 ./Results/AF_PINN_[64]x3/model_save/AF_PINN_[64]x3_12000.pth\n",
      "Epoch: 5/10----------------\n"
     ]
    },
    {
     "name": "stderr",
     "output_type": "stream",
     "text": [
      "100%|██████████| 3000/3000 [07:48<00:00,  6.40it/s, Loss=1.114e-02, PDE=2.407e-03, BC=7.038e-04,1.434e-06, IC=7.750e-03,2.758e-04, D*=6.00e-02,2.20e-03, lr=5.01e-04]\n"
     ]
    },
    {
     "name": "stdout",
     "output_type": "stream",
     "text": [
      "R^2 Error: {'Ni': 0.065, 'SiC': 0.009, 'C': 0.034, 'NiSi': 0.143, 'NiSi2': 0.061}\n",
      "Inf Error: {'Ni': 0.063, 'SiC': 0.019, 'C': 0.055, 'NiSi': 0.223, 'NiSi2': 0.065}\n",
      "Mean Error: (0.06252774484181692, 0.0850043183553679)\n",
      "模型已保存至 ./Results/AF_PINN_[64]x3/model_save/AF_PINN_[64]x3_15000.pth\n",
      "Epoch: 6/10----------------\n"
     ]
    },
    {
     "name": "stderr",
     "output_type": "stream",
     "text": [
      "100%|██████████| 3000/3000 [08:28<00:00,  5.90it/s, Loss=8.794e-03, PDE=2.186e-03, BC=6.983e-05,3.728e-06, IC=6.335e-03,1.996e-04, D*=6.00e-02,1.99e-03, lr=3.46e-04]\n"
     ]
    },
    {
     "name": "stdout",
     "output_type": "stream",
     "text": [
      "R^2 Error: {'Ni': 0.061, 'SiC': 0.009, 'C': 0.022, 'NiSi': 0.126, 'NiSi2': 0.063}\n",
      "Inf Error: {'Ni': 0.06, 'SiC': 0.018, 'C': 0.052, 'NiSi': 0.202, 'NiSi2': 0.069}\n",
      "Mean Error: (0.05616982866364982, 0.08042059458819065)\n",
      "模型已保存至 ./Results/AF_PINN_[64]x3/model_save/AF_PINN_[64]x3_18000.pth\n",
      "Epoch: 7/10----------------\n"
     ]
    },
    {
     "name": "stderr",
     "output_type": "stream",
     "text": [
      "100%|██████████| 3000/3000 [08:53<00:00,  5.62it/s, Loss=7.244e-03, PDE=2.014e-03, BC=4.787e-05,1.260e-06, IC=5.032e-03,1.482e-04, D*=6.00e-02,1.78e-03, lr=2.07e-04]\n"
     ]
    },
    {
     "name": "stdout",
     "output_type": "stream",
     "text": [
      "R^2 Error: {'Ni': 0.055, 'SiC': 0.007, 'C': 0.018, 'NiSi': 0.113, 'NiSi2': 0.05}\n",
      "Inf Error: {'Ni': 0.056, 'SiC': 0.014, 'C': 0.047, 'NiSi': 0.18, 'NiSi2': 0.069}\n",
      "Mean Error: (0.04857712118030174, 0.07313267342744037)\n",
      "模型已保存至 ./Results/AF_PINN_[64]x3/model_save/AF_PINN_[64]x3_21000.pth\n",
      "Epoch: 8/10----------------\n"
     ]
    },
    {
     "name": "stderr",
     "output_type": "stream",
     "text": [
      "100%|██████████| 3000/3000 [08:47<00:00,  5.69it/s, Loss=5.378e-03, PDE=1.076e-03, BC=3.543e-05,2.552e-07, IC=4.160e-03,1.062e-04, D*=6.00e-02,1.58e-03, lr=9.58e-05]\n"
     ]
    },
    {
     "name": "stdout",
     "output_type": "stream",
     "text": [
      "R^2 Error: {'Ni': 0.059, 'SiC': 0.006, 'C': 0.018, 'NiSi': 0.102, 'NiSi2': 0.043}\n",
      "Inf Error: {'Ni': 0.058, 'SiC': 0.014, 'C': 0.041, 'NiSi': 0.161, 'NiSi2': 0.059}\n",
      "Mean Error: (0.04576537919918168, 0.06673685577209405)\n",
      "模型已保存至 ./Results/AF_PINN_[64]x3/model_save/AF_PINN_[64]x3_24000.pth\n",
      "Epoch: 9/10----------------\n"
     ]
    },
    {
     "name": "stderr",
     "output_type": "stream",
     "text": [
      "100%|██████████| 3000/3000 [08:45<00:00,  5.71it/s, Loss=4.177e-03, PDE=6.265e-04, BC=9.567e-06,1.832e-07, IC=3.460e-03,8.000e-05, D*=6.00e-02,1.43e-03, lr=2.46e-05]\n"
     ]
    },
    {
     "name": "stdout",
     "output_type": "stream",
     "text": [
      "R^2 Error: {'Ni': 0.061, 'SiC': 0.006, 'C': 0.018, 'NiSi': 0.094, 'NiSi2': 0.04}\n",
      "Inf Error: {'Ni': 0.059, 'SiC': 0.013, 'C': 0.039, 'NiSi': 0.146, 'NiSi2': 0.053}\n",
      "Mean Error: (0.04391682174787555, 0.06198666710913767)\n",
      "模型已保存至 ./Results/AF_PINN_[64]x3/model_save/AF_PINN_[64]x3_27000.pth\n",
      "Epoch: 10/10----------------\n"
     ]
    },
    {
     "name": "stderr",
     "output_type": "stream",
     "text": [
      "100%|██████████| 3000/3000 [08:47<00:00,  5.69it/s, Loss=3.906e-03, PDE=6.098e-04, BC=9.440e-06,1.997e-07, IC=3.214e-03,7.206e-05, D*=6.00e-02,1.37e-03, lr=1.03e-08]\n"
     ]
    },
    {
     "name": "stdout",
     "output_type": "stream",
     "text": [
      "R^2 Error: {'Ni': 0.061, 'SiC': 0.006, 'C': 0.018, 'NiSi': 0.09, 'NiSi2': 0.039}\n",
      "Inf Error: {'Ni': 0.059, 'SiC': 0.013, 'C': 0.038, 'NiSi': 0.141, 'NiSi2': 0.05}\n",
      "Mean Error: (0.04270828600563685, 0.06018459489376735)\n",
      "模型已保存至 ./Results/AF_PINN_[64]x3/model_save/AF_PINN_[64]x3_30000.pth\n",
      "Training time: 5143.59s-------------------------\n"
     ]
    }
   ],
   "source": [
    "from torch import Tensor\n",
    "\n",
    "hiddens = [6, 5, 4, 3]  ##[3,4] already finished\n",
    "neurons = [128,96,64]\n",
    "\n",
    "activation = torch.nn.functional.tanh\n",
    "\n",
    "start_lr = 1e-3\n",
    "end_lr = 1e-8\n",
    "\n",
    "weight = [1, 1, 1, 1, 1, 1]\n",
    "for hidden in hiddens:\n",
    "    for neuron in neurons:\n",
    "        for mode in ['AF_PINN']:  ##['PINN', 'IA_PINN', 'Fourier_PINN', 'AF_PINN']\n",
    "            layer = [2] + [neuron]*hidden + [6]\n",
    "            \n",
    "            star_time = timeit.default_timer()\n",
    "            num_epochs = 3000\n",
    "            sub_spochs = 10\n",
    "\n",
    "            loss_log_total, loss_log_pde, loss_log_bc, loss_log_ic = [],[],[],[]\n",
    "            torch.cuda.empty_cache()\n",
    "            print(f'{mode}_[{neuron}]x{hidden}:')\n",
    "            \n",
    "            if mode == 'PINN':\n",
    "                model = PINN(layer,activation,non_negative=True).to(device)\n",
    "                optimizer = optim.Adam(model.parameters(), lr=start_lr)  \n",
    "                scheduler = optim.lr_scheduler.CosineAnnealingLR(optimizer, T_max=num_epochs * sub_spochs, eta_min=end_lr)\n",
    "            elif mode == 'IA_PINN':\n",
    "                model = Attention_PINN(layer,activation,non_negative=True).to(device)\n",
    "                optimizer = optim.Adam(model.parameters(), lr=start_lr)  \n",
    "                scheduler = optim.lr_scheduler.CosineAnnealingLR(optimizer, T_max=num_epochs * sub_spochs, eta_min=end_lr)\n",
    "            elif mode == 'Fourier_PINN':\n",
    "                model = Fourier_PINN(layer,activation, non_negative=True, use_rff=True, rff_num_features=64, rff_sigma=1.0).to(device)\n",
    "                optimizer = optim.Adam(model.parameters(), lr=start_lr)  \n",
    "                scheduler = optim.lr_scheduler.CosineAnnealingLR(optimizer, T_max=num_epochs * sub_spochs, eta_min=end_lr)\n",
    "            elif mode == 'AF_PINN':\n",
    "                model = AF_PINN(layer, non_negative=True,activation = activation, use_rff=True, rff_num_features= neuron, rff_sigma=1.0).to(device)\n",
    "                optimizer = optim.Adam(model.parameters(), lr=start_lr)  \n",
    "                scheduler = optim.lr_scheduler.CosineAnnealingLR(optimizer, T_max=num_epochs * sub_spochs, eta_min=end_lr)\n",
    "            else:\n",
    "                print(\"Man! What can I say! Wrong Mode!!!\")\n",
    "                break            \n",
    "            points_types = ['domain', 'left_bc', 'right_bc', 'initial']\n",
    "\n",
    "            coords_pde, coords_bc1, coords_bc2, coords_ic = [\n",
    "                generator.grid_generator(2500 if pt in ['left_bc', 'right_bc'] else 10201, points_type=pt, nondim= True) \n",
    "                for pt in points_types\n",
    "            ]\n",
    "\n",
    "            for idx in range(sub_spochs):\n",
    "                print(f'Epoch: {idx+1}/{sub_spochs}----------------')\n",
    "                model.train()\n",
    "                \n",
    "                pbar = tqdm(range(num_epochs))\n",
    "                for epoch in pbar:\n",
    "                    current_lr = optimizer.param_groups[0]['lr'] \n",
    "                    def closure() -> Tensor:\n",
    "                        global loss_pde, D_star, loss_bc1, loss_bc2, loss_ic1, loss_ic2\n",
    "                        optimizer.zero_grad()\n",
    "\n",
    "                        # 计算损失时使用batch数据\n",
    "                        loss_eq1, loss_eq2, loss_eq3, loss_eq4, loss_eq5, loss_eq6, D_star = compute_pde(model, coords_pde)\n",
    "                        loss_pde = loss_eq1 + loss_eq2 + loss_eq3 + loss_eq4 + loss_eq5 + loss_eq6\n",
    "                        loss_bc1 = compute_bc(model, coords_bc1)\n",
    "                        loss_bc2 = compute_bc(model, coords_bc2)\n",
    "                        loss_ic1, loss_ic2 = compute_ic(model, coords_ic)\n",
    "\n",
    "                        #Give a weight to initial loss term\n",
    "                        loss = weight[0]*loss_pde +  weight[1]*loss_bc1 +  weight[2]*loss_bc2 +  weight[3]*loss_ic1 +  weight[4]*loss_ic2 \n",
    "\n",
    "                        loss.backward()\n",
    "                        torch.nn.utils.clip_grad_norm_(model.parameters(), max_norm=1.0, norm_type= 2)\n",
    "                        return loss\n",
    "\n",
    "                    optimizer.step(closure)\n",
    "                    \n",
    "                    # 如果使用scheduler（只在Adam阶段）\n",
    "                    if scheduler is not None:\n",
    "                        scheduler.step()\n",
    "                    \n",
    "                    loss_total = weight[0]*loss_pde +  weight[1]*loss_bc1 +  weight[2]*loss_bc2 +  weight[3]*loss_ic1 +  weight[4]*loss_ic2 \n",
    "\n",
    "                    loss_log_total.append(loss_total.item())\n",
    "                    loss_log_pde.append(loss_pde.item())\n",
    "                    loss_log_bc.append(loss_bc1.item() + loss_bc2.item())\n",
    "                    loss_log_ic.append(loss_ic1.item() + loss_ic2.item())\n",
    "                    \n",
    "                    if epoch % 10 == 0:\n",
    "                        pbar.set_postfix({\n",
    "                            'Loss': '{0:.3e}'.format(loss_total),\n",
    "                            'PDE': '{0:.3e}'.format(weight[0]*loss_pde.item()),\n",
    "                            'BC': '{0:.3e},{1:.3e}'.format(weight[1]*loss_bc1.item(),weight[2]*loss_bc2.item()),\n",
    "                            'IC': '{0:.3e},{1:.3e}'.format(weight[3]*loss_ic1.item(),weight[4]*loss_ic2.item()),\n",
    "                            'D*': '{0:.2e},{1:.2e}'.format(torch.max(D_star),torch.min(D_star)),\n",
    "                            'lr': '{0:.2e}'.format(current_lr),\n",
    "                        })        \n",
    "                    # # 将四个张量放在一个列表中并随机打乱\n",
    "                    shuffled_tensors = [tensor[torch.randperm(tensor.size(0))] for tensor in [coords_pde, coords_bc1, coords_bc2, coords_ic]]\n",
    "\n",
    "                    # 解包到四个变量中\n",
    "                    coords_pde, coords_bc1, coords_bc2, coords_ic = shuffled_tensors\n",
    "                \n",
    "                    if torch.isnan(loss_total):\n",
    "                        print('Loss is Nan, please check your model parameters')\n",
    "                        break\n",
    "                \n",
    "                true_path = './FDM/range[0,1]/'\n",
    "                file_names = ['u1_output.csv','u2_output.csv','u3_output.csv','u4_output.csv','u5_output.csv','u6_output.csv']\n",
    "                true_data = [pd.read_csv(true_path + file_name,header=None) for file_name in file_names]\n",
    "\n",
    "                model.eval()\n",
    "                val_data = generator.grid_generator(N=10201, points_type= 'domain', nondim= True)\n",
    "                result = model(val_data).data.cpu().numpy()\n",
    "                relative_error(result,true_data)\n",
    "\n",
    "                ##模型储存\n",
    "                save_path = f'./Results/{mode}_[{neuron}]x{hidden}/model_save/'\n",
    "                os.makedirs(save_path, exist_ok=True)  # 确保保存路径存在\n",
    "                # 指定模型文件名\n",
    "                model_file = os.path.join(save_path, f'{mode}_[{neuron}]x{hidden}_{(idx+1)*num_epochs}.pth')\n",
    "                # 保存模型\n",
    "                torch.save(model.state_dict(), model_file)\n",
    "                print(f\"模型已保存至 {model_file}\")\n",
    "            \n",
    "            # 绘制结果\n",
    "            plot_loss_curve(f'{mode}_[{neuron}]x{hidden}',loss_log_total,loss_log_pde, loss_log_bc, loss_log_ic)\n",
    "            \n",
    "            plot_relative_concen(f'{mode}_[{neuron}]x{hidden}',result,data_save=True)\n",
    "            \n",
    "            plot_3d_concen(f'{mode}_[{neuron}]x{hidden}', result, true_data)\n",
    "\n",
    "            Training_time = timeit.default_timer() - star_time\n",
    "            print(f'Training time: {Training_time:.2f}s-------------------------')\n"
   ]
  },
  {
   "cell_type": "code",
   "execution_count": null,
   "metadata": {},
   "outputs": [],
   "source": []
  }
 ],
 "metadata": {
  "kernelspec": {
   "display_name": "pytorch",
   "language": "python",
   "name": "python3"
  },
  "language_info": {
   "codemirror_mode": {
    "name": "ipython",
    "version": 3
   },
   "file_extension": ".py",
   "mimetype": "text/x-python",
   "name": "python",
   "nbconvert_exporter": "python",
   "pygments_lexer": "ipython3",
   "version": "3.9.7"
  }
 },
 "nbformat": 4,
 "nbformat_minor": 2
}
