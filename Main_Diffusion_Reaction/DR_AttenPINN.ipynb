{
 "cells": [
  {
   "cell_type": "code",
   "execution_count": 1,
   "metadata": {},
   "outputs": [
    {
     "name": "stdout",
     "output_type": "stream",
     "text": [
      "Using device: cuda:0\n"
     ]
    }
   ],
   "source": [
    "import sys\n",
    "import os\n",
    "import timeit\n",
    "\n",
    "current_dir = os.getcwd()\n",
    "\n",
    "parent_dir = os.path.dirname(current_dir)\n",
    "sys.path.append(parent_dir)\n",
    "\n",
    "import torch\n",
    "import torch.nn as nn\n",
    "import torch.optim as optim\n",
    "import numpy as np\n",
    "from tqdm import *\n",
    "import matplotlib.pyplot as plt\n",
    "from matplotlib import cm\n",
    "from mpl_toolkits.mplot3d import Axes3D\n",
    "from matplotlib import gridspec\n",
    "import random\n",
    "\n",
    "from Networks.DNN import PINN\n",
    "from Networks.IA_DNN import Attention_PINN\n",
    "from Networks.Fourier_DNN import Fourier_PINN\n",
    "from Networks.AF_PINN import AF_PINN\n",
    "from Networks.Efficient_KAN import KAN\n",
    "from Networks.Cheby_KAN import ChebyKAN\n",
    "from DataGenerator import DataGenerator\n",
    "\n",
    "import pandas as pd\n",
    "\n",
    "from torch.utils.data import TensorDataset, DataLoader\n",
    "\n",
    "import time\n",
    "from datetime import datetime\n",
    "\n",
    "device = torch.device(\"cuda:0\" if torch.cuda.is_available() else \"cpu\")\n",
    "print(\"Using device:\", device)\n",
    "def seed_torch(seed):\n",
    "    random.seed(seed)\n",
    "    np.random.seed(seed)\n",
    "    torch.manual_seed(seed)\n",
    "    torch.cuda.manual_seed(seed)\n",
    "seed_torch(42)"
   ]
  },
  {
   "cell_type": "code",
   "execution_count": 2,
   "metadata": {},
   "outputs": [],
   "source": [
    "L = 600.0\n",
    "h = 100.0\n",
    "anneal_time= 60\n",
    "D_A = 360.0  #6nm^2/s 360nm^2/min\n",
    "k11,k12,k21 = 3.6e-3,3.6e-3,0.0\n",
    "N_SA,N_SB,N_SC,N_SAB,N_SABB,N_SAAB = 90.0,48.0,90.0,90.0,90.0,90.0\n",
    "\n",
    "geom = [0,L]\n",
    "time = [0,anneal_time]\n",
    "\n",
    "##How I genertate data\n",
    "generator = DataGenerator(geom,time)\n",
    "\n",
    "from pde_system import compute_pde, compute_bc, compute_ic,relative_error\n",
    "from graphics import plot_loss_curve,plot_relative_concen,plot_3d_concen\n",
    "# from Utilitiy.residual_adaptive_resample import select_high_loss_points\n"
   ]
  },
  {
   "cell_type": "code",
   "execution_count": 3,
   "metadata": {},
   "outputs": [
    {
     "name": "stdout",
     "output_type": "stream",
     "text": [
      "IA_PINN_[128]x6:\n",
      "Epoch: 1/10----------------\n"
     ]
    },
    {
     "name": "stderr",
     "output_type": "stream",
     "text": [
      "100%|██████████| 3000/3000 [17:12<00:00,  2.91it/s, Loss=2.380e-02, PDE=4.610e-03, BC=2.248e-03,1.056e-03, IC=1.525e-02,6.300e-04, D*=6.00e-02,1.88e-03, lr=9.76e-04]\n"
     ]
    },
    {
     "name": "stdout",
     "output_type": "stream",
     "text": [
      "R^2 Error: {'Ni': 0.129, 'SiC': 0.032, 'C': 0.094, 'NiSi': 0.213, 'NiSi2': 0.203}\n",
      "Inf Error: {'Ni': 0.118, 'SiC': 0.041, 'C': 0.145, 'NiSi': 0.264, 'NiSi2': 0.261}\n",
      "Mean Error: (0.13422552176384012, 0.16586685494540362)\n",
      "模型已保存至 ./Results/IA_PINN_[128]x6/model_save/IA_PINN_[128]x6_3000.pth\n",
      "Epoch: 2/10----------------\n"
     ]
    },
    {
     "name": "stderr",
     "output_type": "stream",
     "text": [
      "100%|██████████| 3000/3000 [18:00<00:00,  2.78it/s, Loss=1.534e-02, PDE=3.469e-03, BC=2.223e-03,1.019e-05, IC=9.278e-03,3.641e-04, D*=6.00e-02,1.70e-03, lr=9.05e-04]\n"
     ]
    },
    {
     "name": "stdout",
     "output_type": "stream",
     "text": [
      "R^2 Error: {'Ni': 0.099, 'SiC': 0.018, 'C': 0.05, 'NiSi': 0.123, 'NiSi2': 0.119}\n",
      "Inf Error: {'Ni': 0.094, 'SiC': 0.027, 'C': 0.122, 'NiSi': 0.195, 'NiSi2': 0.181}\n",
      "Mean Error: (0.08162559378257081, 0.12373804301867661)\n",
      "模型已保存至 ./Results/IA_PINN_[128]x6/model_save/IA_PINN_[128]x6_6000.pth\n",
      "Epoch: 3/10----------------\n"
     ]
    },
    {
     "name": "stderr",
     "output_type": "stream",
     "text": [
      "100%|██████████| 3000/3000 [18:13<00:00,  2.74it/s, Loss=1.397e-02, PDE=8.539e-03, BC=4.140e-04,1.600e-05, IC=4.751e-03,2.486e-04, D*=6.00e-02,1.48e-03, lr=7.94e-04]\n"
     ]
    },
    {
     "name": "stdout",
     "output_type": "stream",
     "text": [
      "R^2 Error: {'Ni': 0.078, 'SiC': 0.011, 'C': 0.043, 'NiSi': 0.109, 'NiSi2': 0.079}\n",
      "Inf Error: {'Ni': 0.076, 'SiC': 0.018, 'C': 0.109, 'NiSi': 0.192, 'NiSi2': 0.111}\n",
      "Mean Error: (0.06371892514016501, 0.10123422981418)\n",
      "模型已保存至 ./Results/IA_PINN_[128]x6/model_save/IA_PINN_[128]x6_9000.pth\n",
      "Epoch: 4/10----------------\n"
     ]
    },
    {
     "name": "stderr",
     "output_type": "stream",
     "text": [
      "100%|██████████| 3000/3000 [18:38<00:00,  2.68it/s, Loss=7.024e-03, PDE=1.666e-03, BC=8.562e-04,2.430e-04, IC=4.038e-03,2.202e-04, D*=6.00e-02,1.52e-03, lr=6.55e-04]\n"
     ]
    },
    {
     "name": "stdout",
     "output_type": "stream",
     "text": [
      "R^2 Error: {'Ni': 0.079, 'SiC': 0.01, 'C': 0.039, 'NiSi': 0.094, 'NiSi2': 0.079}\n",
      "Inf Error: {'Ni': 0.077, 'SiC': 0.017, 'C': 0.104, 'NiSi': 0.192, 'NiSi2': 0.117}\n",
      "Mean Error: (0.06014474277677826, 0.10118385950612688)\n",
      "模型已保存至 ./Results/IA_PINN_[128]x6/model_save/IA_PINN_[128]x6_12000.pth\n",
      "Epoch: 5/10----------------\n"
     ]
    },
    {
     "name": "stderr",
     "output_type": "stream",
     "text": [
      "100%|██████████| 3000/3000 [18:36<00:00,  2.69it/s, Loss=5.396e-03, PDE=1.701e-03, BC=2.142e-04,1.020e-05, IC=3.295e-03,1.751e-04, D*=6.00e-02,1.54e-03, lr=5.01e-04]\n"
     ]
    },
    {
     "name": "stdout",
     "output_type": "stream",
     "text": [
      "R^2 Error: {'Ni': 0.079, 'SiC': 0.01, 'C': 0.036, 'NiSi': 0.083, 'NiSi2': 0.071}\n",
      "Inf Error: {'Ni': 0.076, 'SiC': 0.015, 'C': 0.096, 'NiSi': 0.168, 'NiSi2': 0.109}\n",
      "Mean Error: (0.0558264449623345, 0.09289973513664654)\n",
      "模型已保存至 ./Results/IA_PINN_[128]x6/model_save/IA_PINN_[128]x6_15000.pth\n",
      "Epoch: 6/10----------------\n"
     ]
    },
    {
     "name": "stderr",
     "output_type": "stream",
     "text": [
      "100%|██████████| 3000/3000 [18:08<00:00,  2.76it/s, Loss=4.726e-03, PDE=1.755e-03, BC=1.520e-04,1.243e-05, IC=2.663e-03,1.444e-04, D*=6.00e-02,1.54e-03, lr=3.46e-04]\n"
     ]
    },
    {
     "name": "stdout",
     "output_type": "stream",
     "text": [
      "R^2 Error: {'Ni': 0.081, 'SiC': 0.009, 'C': 0.034, 'NiSi': 0.069, 'NiSi2': 0.067}\n",
      "Inf Error: {'Ni': 0.078, 'SiC': 0.015, 'C': 0.091, 'NiSi': 0.141, 'NiSi2': 0.1}\n",
      "Mean Error: (0.05215301724951109, 0.0849317479191658)\n",
      "模型已保存至 ./Results/IA_PINN_[128]x6/model_save/IA_PINN_[128]x6_18000.pth\n",
      "Epoch: 7/10----------------\n"
     ]
    },
    {
     "name": "stderr",
     "output_type": "stream",
     "text": [
      "100%|██████████| 3000/3000 [17:45<00:00,  2.82it/s, Loss=3.757e-03, PDE=1.245e-03, BC=3.697e-04,1.822e-05, IC=2.000e-03,1.233e-04, D*=6.00e-02,1.55e-03, lr=2.07e-04]\n"
     ]
    },
    {
     "name": "stdout",
     "output_type": "stream",
     "text": [
      "R^2 Error: {'Ni': 0.083, 'SiC': 0.009, 'C': 0.035, 'NiSi': 0.064, 'NiSi2': 0.064}\n",
      "Inf Error: {'Ni': 0.08, 'SiC': 0.015, 'C': 0.09, 'NiSi': 0.12, 'NiSi2': 0.096}\n",
      "Mean Error: (0.05089840689579082, 0.08017700906493846)\n",
      "模型已保存至 ./Results/IA_PINN_[128]x6/model_save/IA_PINN_[128]x6_21000.pth\n",
      "Epoch: 8/10----------------\n"
     ]
    },
    {
     "name": "stderr",
     "output_type": "stream",
     "text": [
      "100%|██████████| 3000/3000 [16:47<00:00,  2.98it/s, Loss=3.108e-03, PDE=1.243e-03, BC=1.547e-04,2.242e-07, IC=1.600e-03,1.092e-04, D*=6.00e-02,1.54e-03, lr=9.58e-05]\n"
     ]
    },
    {
     "name": "stdout",
     "output_type": "stream",
     "text": [
      "R^2 Error: {'Ni': 0.086, 'SiC': 0.008, 'C': 0.034, 'NiSi': 0.066, 'NiSi2': 0.063}\n",
      "Inf Error: {'Ni': 0.082, 'SiC': 0.015, 'C': 0.088, 'NiSi': 0.1, 'NiSi2': 0.092}\n",
      "Mean Error: (0.051168869700205254, 0.07533896653773994)\n",
      "模型已保存至 ./Results/IA_PINN_[128]x6/model_save/IA_PINN_[128]x6_24000.pth\n",
      "Epoch: 9/10----------------\n"
     ]
    },
    {
     "name": "stderr",
     "output_type": "stream",
     "text": [
      "100%|██████████| 3000/3000 [18:20<00:00,  2.73it/s, Loss=2.446e-03, PDE=9.453e-04, BC=9.647e-05,1.345e-07, IC=1.302e-03,1.016e-04, D*=6.00e-02,1.52e-03, lr=2.46e-05]\n"
     ]
    },
    {
     "name": "stdout",
     "output_type": "stream",
     "text": [
      "R^2 Error: {'Ni': 0.089, 'SiC': 0.008, 'C': 0.034, 'NiSi': 0.069, 'NiSi2': 0.064}\n",
      "Inf Error: {'Ni': 0.085, 'SiC': 0.015, 'C': 0.088, 'NiSi': 0.09, 'NiSi2': 0.092}\n",
      "Mean Error: (0.05287492611052859, 0.0738605762991724)\n",
      "模型已保存至 ./Results/IA_PINN_[128]x6/model_save/IA_PINN_[128]x6_27000.pth\n",
      "Epoch: 10/10----------------\n"
     ]
    },
    {
     "name": "stderr",
     "output_type": "stream",
     "text": [
      "100%|██████████| 3000/3000 [18:06<00:00,  2.76it/s, Loss=2.338e-03, PDE=9.126e-04, BC=9.399e-05,1.280e-07, IC=1.231e-03,1.001e-04, D*=6.00e-02,1.52e-03, lr=1.03e-08]\n"
     ]
    },
    {
     "name": "stdout",
     "output_type": "stream",
     "text": [
      "R^2 Error: {'Ni': 0.09, 'SiC': 0.008, 'C': 0.034, 'NiSi': 0.07, 'NiSi2': 0.064}\n",
      "Inf Error: {'Ni': 0.085, 'SiC': 0.015, 'C': 0.087, 'NiSi': 0.088, 'NiSi2': 0.091}\n",
      "Mean Error: (0.05322342446332813, 0.07344791775192291)\n",
      "模型已保存至 ./Results/IA_PINN_[128]x6/model_save/IA_PINN_[128]x6_30000.pth\n",
      "Training time: 10815.26s-------------------------\n",
      "IA_PINN_[96]x6:\n",
      "Epoch: 1/10----------------\n"
     ]
    },
    {
     "name": "stderr",
     "output_type": "stream",
     "text": [
      "100%|██████████| 3000/3000 [14:34<00:00,  3.43it/s, Loss=2.101e-02, PDE=4.587e-03, BC=1.326e-03,5.573e-05, IC=1.469e-02,3.522e-04, D*=6.00e-02,2.39e-03, lr=9.76e-04]\n"
     ]
    },
    {
     "name": "stdout",
     "output_type": "stream",
     "text": [
      "R^2 Error: {'Ni': 0.112, 'SiC': 0.025, 'C': 0.078, 'NiSi': 0.205, 'NiSi2': 0.201}\n",
      "Inf Error: {'Ni': 0.104, 'SiC': 0.037, 'C': 0.129, 'NiSi': 0.202, 'NiSi2': 0.231}\n",
      "Mean Error: (0.1239886836925261, 0.14053718121730646)\n",
      "模型已保存至 ./Results/IA_PINN_[96]x6/model_save/IA_PINN_[96]x6_3000.pth\n",
      "Epoch: 2/10----------------\n"
     ]
    },
    {
     "name": "stderr",
     "output_type": "stream",
     "text": [
      "100%|██████████| 3000/3000 [13:37<00:00,  3.67it/s, Loss=1.057e-02, PDE=2.662e-03, BC=4.045e-04,7.290e-04, IC=6.498e-03,2.802e-04, D*=6.00e-02,1.63e-03, lr=9.05e-04]\n"
     ]
    },
    {
     "name": "stdout",
     "output_type": "stream",
     "text": [
      "R^2 Error: {'Ni': 0.094, 'SiC': 0.019, 'C': 0.043, 'NiSi': 0.14, 'NiSi2': 0.112}\n",
      "Inf Error: {'Ni': 0.09, 'SiC': 0.025, 'C': 0.113, 'NiSi': 0.221, 'NiSi2': 0.19}\n",
      "Mean Error: (0.0815242058404904, 0.12792419032719535)\n",
      "模型已保存至 ./Results/IA_PINN_[96]x6/model_save/IA_PINN_[96]x6_6000.pth\n",
      "Epoch: 3/10----------------\n"
     ]
    },
    {
     "name": "stderr",
     "output_type": "stream",
     "text": [
      "100%|██████████| 3000/3000 [13:39<00:00,  3.66it/s, Loss=9.581e-03, PDE=3.580e-03, BC=6.656e-04,5.121e-06, IC=5.111e-03,2.193e-04, D*=6.00e-02,1.37e-03, lr=7.94e-04]\n"
     ]
    },
    {
     "name": "stdout",
     "output_type": "stream",
     "text": [
      "R^2 Error: {'Ni': 0.094, 'SiC': 0.016, 'C': 0.039, 'NiSi': 0.116, 'NiSi2': 0.091}\n",
      "Inf Error: {'Ni': 0.09, 'SiC': 0.021, 'C': 0.104, 'NiSi': 0.184, 'NiSi2': 0.15}\n",
      "Mean Error: (0.07118871969654768, 0.11001416801496773)\n",
      "模型已保存至 ./Results/IA_PINN_[96]x6/model_save/IA_PINN_[96]x6_9000.pth\n",
      "Epoch: 4/10----------------\n"
     ]
    },
    {
     "name": "stderr",
     "output_type": "stream",
     "text": [
      "100%|██████████| 3000/3000 [13:38<00:00,  3.67it/s, Loss=7.728e-03, PDE=1.673e-03, BC=2.080e-03,3.634e-05, IC=3.761e-03,1.779e-04, D*=6.00e-02,1.28e-03, lr=6.55e-04]\n"
     ]
    },
    {
     "name": "stdout",
     "output_type": "stream",
     "text": [
      "R^2 Error: {'Ni': 0.091, 'SiC': 0.013, 'C': 0.037, 'NiSi': 0.096, 'NiSi2': 0.078}\n",
      "Inf Error: {'Ni': 0.086, 'SiC': 0.018, 'C': 0.098, 'NiSi': 0.146, 'NiSi2': 0.113}\n",
      "Mean Error: (0.06295772361505722, 0.09221804334079342)\n",
      "模型已保存至 ./Results/IA_PINN_[96]x6/model_save/IA_PINN_[96]x6_12000.pth\n",
      "Epoch: 5/10----------------\n"
     ]
    },
    {
     "name": "stderr",
     "output_type": "stream",
     "text": [
      "100%|██████████| 3000/3000 [13:38<00:00,  3.66it/s, Loss=7.315e-03, PDE=2.575e-03, BC=1.176e-03,2.927e-04, IC=3.118e-03,1.525e-04, D*=6.00e-02,1.26e-03, lr=5.01e-04]\n"
     ]
    },
    {
     "name": "stdout",
     "output_type": "stream",
     "text": [
      "R^2 Error: {'Ni': 0.094, 'SiC': 0.012, 'C': 0.036, 'NiSi': 0.084, 'NiSi2': 0.079}\n",
      "Inf Error: {'Ni': 0.09, 'SiC': 0.018, 'C': 0.095, 'NiSi': 0.12, 'NiSi2': 0.113}\n",
      "Mean Error: (0.060879643347223046, 0.08706091697839702)\n",
      "模型已保存至 ./Results/IA_PINN_[96]x6/model_save/IA_PINN_[96]x6_15000.pth\n",
      "Epoch: 6/10----------------\n"
     ]
    },
    {
     "name": "stderr",
     "output_type": "stream",
     "text": [
      "100%|██████████| 3000/3000 [13:40<00:00,  3.66it/s, Loss=4.666e-03, PDE=1.691e-03, BC=3.697e-04,4.740e-04, IC=2.011e-03,1.199e-04, D*=6.00e-02,1.16e-03, lr=3.46e-04]\n"
     ]
    },
    {
     "name": "stdout",
     "output_type": "stream",
     "text": [
      "R^2 Error: {'Ni': 0.095, 'SiC': 0.01, 'C': 0.035, 'NiSi': 0.08, 'NiSi2': 0.073}\n",
      "Inf Error: {'Ni': 0.09, 'SiC': 0.017, 'C': 0.093, 'NiSi': 0.094, 'NiSi2': 0.094}\n",
      "Mean Error: (0.058651492761678095, 0.07767382830794091)\n",
      "模型已保存至 ./Results/IA_PINN_[96]x6/model_save/IA_PINN_[96]x6_18000.pth\n",
      "Epoch: 7/10----------------\n"
     ]
    },
    {
     "name": "stderr",
     "output_type": "stream",
     "text": [
      "100%|██████████| 3000/3000 [13:41<00:00,  3.65it/s, Loss=2.642e-03, PDE=1.164e-03, BC=1.659e-04,8.942e-06, IC=1.204e-03,9.892e-05, D*=6.00e-02,1.04e-03, lr=2.07e-04]\n"
     ]
    },
    {
     "name": "stdout",
     "output_type": "stream",
     "text": [
      "R^2 Error: {'Ni': 0.096, 'SiC': 0.008, 'C': 0.035, 'NiSi': 0.077, 'NiSi2': 0.067}\n",
      "Inf Error: {'Ni': 0.091, 'SiC': 0.016, 'C': 0.092, 'NiSi': 0.084, 'NiSi2': 0.081}\n",
      "Mean Error: (0.056744932210819374, 0.07268526802638572)\n",
      "模型已保存至 ./Results/IA_PINN_[96]x6/model_save/IA_PINN_[96]x6_21000.pth\n",
      "Epoch: 8/10----------------\n"
     ]
    },
    {
     "name": "stderr",
     "output_type": "stream",
     "text": [
      "100%|██████████| 3000/3000 [13:38<00:00,  3.66it/s, Loss=2.626e-03, PDE=1.683e-03, BC=1.461e-04,8.559e-07, IC=7.106e-04,8.467e-05, D*=6.00e-02,9.58e-04, lr=9.58e-05]\n"
     ]
    },
    {
     "name": "stdout",
     "output_type": "stream",
     "text": [
      "R^2 Error: {'Ni': 0.095, 'SiC': 0.009, 'C': 0.034, 'NiSi': 0.078, 'NiSi2': 0.066}\n",
      "Inf Error: {'Ni': 0.09, 'SiC': 0.015, 'C': 0.09, 'NiSi': 0.086, 'NiSi2': 0.081}\n",
      "Mean Error: (0.05644801295574099, 0.07228805831383754)\n",
      "模型已保存至 ./Results/IA_PINN_[96]x6/model_save/IA_PINN_[96]x6_24000.pth\n",
      "Epoch: 9/10----------------\n"
     ]
    },
    {
     "name": "stderr",
     "output_type": "stream",
     "text": [
      "100%|██████████| 3000/3000 [13:38<00:00,  3.66it/s, Loss=1.653e-03, PDE=9.764e-04, BC=1.308e-04,7.638e-08, IC=4.688e-04,7.667e-05, D*=6.00e-02,8.86e-04, lr=2.46e-05]\n"
     ]
    },
    {
     "name": "stdout",
     "output_type": "stream",
     "text": [
      "R^2 Error: {'Ni': 0.093, 'SiC': 0.007, 'C': 0.034, 'NiSi': 0.077, 'NiSi2': 0.062}\n",
      "Inf Error: {'Ni': 0.088, 'SiC': 0.014, 'C': 0.089, 'NiSi': 0.085, 'NiSi2': 0.075}\n",
      "Mean Error: (0.05481280586738442, 0.07021451108442664)\n",
      "模型已保存至 ./Results/IA_PINN_[96]x6/model_save/IA_PINN_[96]x6_27000.pth\n",
      "Epoch: 10/10----------------\n"
     ]
    },
    {
     "name": "stderr",
     "output_type": "stream",
     "text": [
      "100%|██████████| 3000/3000 [13:41<00:00,  3.65it/s, Loss=1.558e-03, PDE=9.569e-04, BC=1.268e-04,7.900e-08, IC=3.996e-04,7.425e-05, D*=6.00e-02,8.62e-04, lr=1.03e-08]\n"
     ]
    },
    {
     "name": "stdout",
     "output_type": "stream",
     "text": [
      "R^2 Error: {'Ni': 0.094, 'SiC': 0.007, 'C': 0.034, 'NiSi': 0.078, 'NiSi2': 0.062}\n",
      "Inf Error: {'Ni': 0.089, 'SiC': 0.015, 'C': 0.088, 'NiSi': 0.085, 'NiSi2': 0.074}\n",
      "Mean Error: (0.05510911386007102, 0.07024181753063657)\n",
      "模型已保存至 ./Results/IA_PINN_[96]x6/model_save/IA_PINN_[96]x6_30000.pth\n",
      "Training time: 8270.86s-------------------------\n",
      "IA_PINN_[64]x6:\n",
      "Epoch: 1/10----------------\n"
     ]
    },
    {
     "name": "stderr",
     "output_type": "stream",
     "text": [
      "100%|██████████| 3000/3000 [12:05<00:00,  4.13it/s, Loss=2.569e-02, PDE=5.884e-03, BC=9.112e-04,1.795e-03, IC=1.642e-02,6.744e-04, D*=6.00e-02,4.54e-03, lr=9.76e-04]\n"
     ]
    },
    {
     "name": "stdout",
     "output_type": "stream",
     "text": [
      "R^2 Error: {'Ni': 0.13, 'SiC': 0.032, 'C': 0.094, 'NiSi': 0.328, 'NiSi2': 0.223}\n",
      "Inf Error: {'Ni': 0.119, 'SiC': 0.044, 'C': 0.136, 'NiSi': 0.39, 'NiSi2': 0.251}\n",
      "Mean Error: (0.16132266142429835, 0.18807584945694428)\n",
      "模型已保存至 ./Results/IA_PINN_[64]x6/model_save/IA_PINN_[64]x6_3000.pth\n",
      "Epoch: 2/10----------------\n"
     ]
    },
    {
     "name": "stderr",
     "output_type": "stream",
     "text": [
      "100%|██████████| 3000/3000 [12:03<00:00,  4.15it/s, Loss=1.103e-02, PDE=3.365e-03, BC=1.239e-03,2.171e-05, IC=5.973e-03,4.323e-04, D*=6.00e-02,4.21e-03, lr=9.05e-04]\n"
     ]
    },
    {
     "name": "stdout",
     "output_type": "stream",
     "text": [
      "R^2 Error: {'Ni': 0.076, 'SiC': 0.016, 'C': 0.062, 'NiSi': 0.216, 'NiSi2': 0.129}\n",
      "Inf Error: {'Ni': 0.075, 'SiC': 0.026, 'C': 0.127, 'NiSi': 0.25, 'NiSi2': 0.196}\n",
      "Mean Error: (0.0996940376450881, 0.1347753401147184)\n",
      "模型已保存至 ./Results/IA_PINN_[64]x6/model_save/IA_PINN_[64]x6_6000.pth\n",
      "Epoch: 3/10----------------\n"
     ]
    },
    {
     "name": "stderr",
     "output_type": "stream",
     "text": [
      "100%|██████████| 3000/3000 [12:11<00:00,  4.10it/s, Loss=8.144e-03, PDE=2.043e-03, BC=9.250e-04,5.996e-04, IC=4.241e-03,3.357e-04, D*=6.00e-02,3.94e-03, lr=7.94e-04]\n"
     ]
    },
    {
     "name": "stdout",
     "output_type": "stream",
     "text": [
      "R^2 Error: {'Ni': 0.059, 'SiC': 0.011, 'C': 0.065, 'NiSi': 0.191, 'NiSi2': 0.088}\n",
      "Inf Error: {'Ni': 0.057, 'SiC': 0.018, 'C': 0.136, 'NiSi': 0.3, 'NiSi2': 0.152}\n",
      "Mean Error: (0.08252021833920367, 0.13286396184541585)\n",
      "模型已保存至 ./Results/IA_PINN_[64]x6/model_save/IA_PINN_[64]x6_9000.pth\n",
      "Epoch: 4/10----------------\n"
     ]
    },
    {
     "name": "stderr",
     "output_type": "stream",
     "text": [
      "100%|██████████| 3000/3000 [12:37<00:00,  3.96it/s, Loss=6.879e-03, PDE=3.195e-03, BC=1.394e-04,6.875e-05, IC=3.204e-03,2.725e-04, D*=6.00e-02,3.55e-03, lr=6.55e-04]\n"
     ]
    },
    {
     "name": "stdout",
     "output_type": "stream",
     "text": [
      "R^2 Error: {'Ni': 0.05, 'SiC': 0.007, 'C': 0.065, 'NiSi': 0.148, 'NiSi2': 0.062}\n",
      "Inf Error: {'Ni': 0.046, 'SiC': 0.014, 'C': 0.144, 'NiSi': 0.225, 'NiSi2': 0.103}\n",
      "Mean Error: (0.06629334504974423, 0.10642937782709883)\n",
      "模型已保存至 ./Results/IA_PINN_[64]x6/model_save/IA_PINN_[64]x6_12000.pth\n",
      "Epoch: 5/10----------------\n"
     ]
    },
    {
     "name": "stderr",
     "output_type": "stream",
     "text": [
      "100%|██████████| 3000/3000 [14:04<00:00,  3.55it/s, Loss=4.674e-03, PDE=1.108e-03, BC=3.754e-04,4.211e-06, IC=2.947e-03,2.397e-04, D*=6.00e-02,3.26e-03, lr=5.01e-04]\n"
     ]
    },
    {
     "name": "stdout",
     "output_type": "stream",
     "text": [
      "R^2 Error: {'Ni': 0.046, 'SiC': 0.006, 'C': 0.062, 'NiSi': 0.127, 'NiSi2': 0.051}\n",
      "Inf Error: {'Ni': 0.044, 'SiC': 0.011, 'C': 0.14, 'NiSi': 0.198, 'NiSi2': 0.089}\n",
      "Mean Error: (0.05847956374654765, 0.09650755562304694)\n",
      "模型已保存至 ./Results/IA_PINN_[64]x6/model_save/IA_PINN_[64]x6_15000.pth\n",
      "Epoch: 6/10----------------\n"
     ]
    },
    {
     "name": "stderr",
     "output_type": "stream",
     "text": [
      "100%|██████████| 3000/3000 [13:38<00:00,  3.67it/s, Loss=3.831e-03, PDE=1.206e-03, BC=4.595e-05,7.494e-06, IC=2.373e-03,1.983e-04, D*=6.00e-02,2.98e-03, lr=3.46e-04]\n"
     ]
    },
    {
     "name": "stdout",
     "output_type": "stream",
     "text": [
      "R^2 Error: {'Ni': 0.042, 'SiC': 0.006, 'C': 0.059, 'NiSi': 0.106, 'NiSi2': 0.045}\n",
      "Inf Error: {'Ni': 0.039, 'SiC': 0.01, 'C': 0.13, 'NiSi': 0.168, 'NiSi2': 0.073}\n",
      "Mean Error: (0.05154972102677141, 0.08385920399470996)\n",
      "模型已保存至 ./Results/IA_PINN_[64]x6/model_save/IA_PINN_[64]x6_18000.pth\n",
      "Epoch: 7/10----------------\n"
     ]
    },
    {
     "name": "stderr",
     "output_type": "stream",
     "text": [
      "100%|██████████| 3000/3000 [13:20<00:00,  3.75it/s, Loss=3.062e-03, PDE=9.241e-04, BC=1.501e-05,1.829e-06, IC=1.953e-03,1.686e-04, D*=6.00e-02,2.75e-03, lr=2.07e-04]\n"
     ]
    },
    {
     "name": "stdout",
     "output_type": "stream",
     "text": [
      "R^2 Error: {'Ni': 0.039, 'SiC': 0.005, 'C': 0.054, 'NiSi': 0.094, 'NiSi2': 0.042}\n",
      "Inf Error: {'Ni': 0.037, 'SiC': 0.009, 'C': 0.12, 'NiSi': 0.15, 'NiSi2': 0.058}\n",
      "Mean Error: (0.04680043673095797, 0.07485251407268886)\n",
      "模型已保存至 ./Results/IA_PINN_[64]x6/model_save/IA_PINN_[64]x6_21000.pth\n",
      "Epoch: 8/10----------------\n"
     ]
    },
    {
     "name": "stderr",
     "output_type": "stream",
     "text": [
      "100%|██████████| 3000/3000 [13:18<00:00,  3.76it/s, Loss=2.568e-03, PDE=7.218e-04, BC=3.371e-05,1.291e-06, IC=1.662e-03,1.496e-04, D*=6.00e-02,2.59e-03, lr=9.58e-05]\n"
     ]
    },
    {
     "name": "stdout",
     "output_type": "stream",
     "text": [
      "R^2 Error: {'Ni': 0.038, 'SiC': 0.005, 'C': 0.05, 'NiSi': 0.086, 'NiSi2': 0.041}\n",
      "Inf Error: {'Ni': 0.036, 'SiC': 0.008, 'C': 0.112, 'NiSi': 0.139, 'NiSi2': 0.049}\n",
      "Mean Error: (0.04379991369272715, 0.06872385749307322)\n",
      "模型已保存至 ./Results/IA_PINN_[64]x6/model_save/IA_PINN_[64]x6_24000.pth\n",
      "Epoch: 9/10----------------\n"
     ]
    },
    {
     "name": "stderr",
     "output_type": "stream",
     "text": [
      "100%|██████████| 3000/3000 [13:21<00:00,  3.74it/s, Loss=2.259e-03, PDE=7.255e-04, BC=8.686e-06,3.007e-07, IC=1.388e-03,1.366e-04, D*=6.00e-02,2.46e-03, lr=2.46e-05]\n"
     ]
    },
    {
     "name": "stdout",
     "output_type": "stream",
     "text": [
      "R^2 Error: {'Ni': 0.037, 'SiC': 0.005, 'C': 0.047, 'NiSi': 0.082, 'NiSi2': 0.04}\n",
      "Inf Error: {'Ni': 0.035, 'SiC': 0.008, 'C': 0.106, 'NiSi': 0.133, 'NiSi2': 0.047}\n",
      "Mean Error: (0.04225917253191164, 0.06588906681296432)\n",
      "模型已保存至 ./Results/IA_PINN_[64]x6/model_save/IA_PINN_[64]x6_27000.pth\n",
      "Epoch: 10/10----------------\n"
     ]
    },
    {
     "name": "stderr",
     "output_type": "stream",
     "text": [
      "100%|██████████| 3000/3000 [13:18<00:00,  3.76it/s, Loss=2.078e-03, PDE=6.691e-04, BC=8.510e-06,2.870e-07, IC=1.266e-03,1.338e-04, D*=6.00e-02,2.43e-03, lr=1.03e-08]\n"
     ]
    },
    {
     "name": "stdout",
     "output_type": "stream",
     "text": [
      "R^2 Error: {'Ni': 0.037, 'SiC': 0.005, 'C': 0.047, 'NiSi': 0.081, 'NiSi2': 0.04}\n",
      "Inf Error: {'Ni': 0.035, 'SiC': 0.008, 'C': 0.104, 'NiSi': 0.131, 'NiSi2': 0.048}\n",
      "Mean Error: (0.04202085530375503, 0.0654135597441502)\n",
      "模型已保存至 ./Results/IA_PINN_[64]x6/model_save/IA_PINN_[64]x6_30000.pth\n",
      "Training time: 7821.45s-------------------------\n",
      "IA_PINN_[128]x5:\n",
      "Epoch: 1/10----------------\n"
     ]
    },
    {
     "name": "stderr",
     "output_type": "stream",
     "text": [
      "100%|██████████| 3000/3000 [15:18<00:00,  3.27it/s, Loss=1.807e-02, PDE=6.343e-03, BC=9.839e-04,1.218e-03, IC=8.857e-03,6.696e-04, D*=6.00e-02,2.68e-03, lr=9.76e-04]\n"
     ]
    },
    {
     "name": "stdout",
     "output_type": "stream",
     "text": [
      "R^2 Error: {'Ni': 0.101, 'SiC': 0.033, 'C': 0.058, 'NiSi': 0.26, 'NiSi2': 0.207}\n",
      "Inf Error: {'Ni': 0.1, 'SiC': 0.033, 'C': 0.142, 'NiSi': 0.285, 'NiSi2': 0.259}\n",
      "Mean Error: (0.13176893036506016, 0.16394076277453046)\n",
      "模型已保存至 ./Results/IA_PINN_[128]x5/model_save/IA_PINN_[128]x5_3000.pth\n",
      "Epoch: 2/10----------------\n"
     ]
    },
    {
     "name": "stderr",
     "output_type": "stream",
     "text": [
      "100%|██████████| 3000/3000 [15:19<00:00,  3.26it/s, Loss=8.879e-03, PDE=2.013e-03, BC=1.488e-03,1.058e-04, IC=4.900e-03,3.708e-04, D*=6.00e-02,2.18e-03, lr=9.05e-04]\n"
     ]
    },
    {
     "name": "stdout",
     "output_type": "stream",
     "text": [
      "R^2 Error: {'Ni': 0.074, 'SiC': 0.012, 'C': 0.044, 'NiSi': 0.161, 'NiSi2': 0.119}\n",
      "Inf Error: {'Ni': 0.075, 'SiC': 0.023, 'C': 0.114, 'NiSi': 0.156, 'NiSi2': 0.155}\n",
      "Mean Error: (0.08216388552228074, 0.10455273306297119)\n",
      "模型已保存至 ./Results/IA_PINN_[128]x5/model_save/IA_PINN_[128]x5_6000.pth\n",
      "Epoch: 3/10----------------\n"
     ]
    },
    {
     "name": "stderr",
     "output_type": "stream",
     "text": [
      "100%|██████████| 3000/3000 [15:18<00:00,  3.26it/s, Loss=6.576e-03, PDE=1.999e-03, BC=5.072e-04,1.302e-04, IC=3.695e-03,2.449e-04, D*=6.00e-02,1.80e-03, lr=7.94e-04]\n"
     ]
    },
    {
     "name": "stdout",
     "output_type": "stream",
     "text": [
      "R^2 Error: {'Ni': 0.08, 'SiC': 0.011, 'C': 0.043, 'NiSi': 0.109, 'NiSi2': 0.073}\n",
      "Inf Error: {'Ni': 0.078, 'SiC': 0.02, 'C': 0.108, 'NiSi': 0.109, 'NiSi2': 0.132}\n",
      "Mean Error: (0.06341434324213543, 0.0893691585884641)\n",
      "模型已保存至 ./Results/IA_PINN_[128]x5/model_save/IA_PINN_[128]x5_9000.pth\n",
      "Epoch: 4/10----------------\n"
     ]
    },
    {
     "name": "stderr",
     "output_type": "stream",
     "text": [
      "100%|██████████| 3000/3000 [15:17<00:00,  3.27it/s, Loss=6.030e-03, PDE=1.896e-03, BC=6.952e-04,1.241e-04, IC=3.113e-03,2.021e-04, D*=6.00e-02,1.67e-03, lr=6.55e-04]\n"
     ]
    },
    {
     "name": "stdout",
     "output_type": "stream",
     "text": [
      "R^2 Error: {'Ni': 0.078, 'SiC': 0.009, 'C': 0.039, 'NiSi': 0.094, 'NiSi2': 0.055}\n",
      "Inf Error: {'Ni': 0.076, 'SiC': 0.018, 'C': 0.101, 'NiSi': 0.098, 'NiSi2': 0.111}\n",
      "Mean Error: (0.05499833497554417, 0.08090767469606494)\n",
      "模型已保存至 ./Results/IA_PINN_[128]x5/model_save/IA_PINN_[128]x5_12000.pth\n",
      "Epoch: 5/10----------------\n"
     ]
    },
    {
     "name": "stderr",
     "output_type": "stream",
     "text": [
      "100%|██████████| 3000/3000 [15:19<00:00,  3.26it/s, Loss=4.839e-03, PDE=1.573e-03, BC=4.447e-04,1.126e-04, IC=2.552e-03,1.570e-04, D*=6.00e-02,1.50e-03, lr=5.01e-04]\n"
     ]
    },
    {
     "name": "stdout",
     "output_type": "stream",
     "text": [
      "R^2 Error: {'Ni': 0.086, 'SiC': 0.012, 'C': 0.04, 'NiSi': 0.075, 'NiSi2': 0.058}\n",
      "Inf Error: {'Ni': 0.084, 'SiC': 0.018, 'C': 0.102, 'NiSi': 0.088, 'NiSi2': 0.115}\n",
      "Mean Error: (0.05412755685048526, 0.08148782044975436)\n",
      "模型已保存至 ./Results/IA_PINN_[128]x5/model_save/IA_PINN_[128]x5_15000.pth\n",
      "Epoch: 6/10----------------\n"
     ]
    },
    {
     "name": "stderr",
     "output_type": "stream",
     "text": [
      "100%|██████████| 3000/3000 [15:18<00:00,  3.27it/s, Loss=3.508e-03, PDE=1.146e-03, BC=2.792e-04,5.675e-05, IC=1.912e-03,1.140e-04, D*=6.00e-02,1.34e-03, lr=3.46e-04]\n"
     ]
    },
    {
     "name": "stdout",
     "output_type": "stream",
     "text": [
      "R^2 Error: {'Ni': 0.093, 'SiC': 0.008, 'C': 0.039, 'NiSi': 0.068, 'NiSi2': 0.048}\n",
      "Inf Error: {'Ni': 0.091, 'SiC': 0.017, 'C': 0.096, 'NiSi': 0.075, 'NiSi2': 0.092}\n",
      "Mean Error: (0.05147928793696297, 0.07414420629798965)\n",
      "模型已保存至 ./Results/IA_PINN_[128]x5/model_save/IA_PINN_[128]x5_18000.pth\n",
      "Epoch: 7/10----------------\n"
     ]
    },
    {
     "name": "stderr",
     "output_type": "stream",
     "text": [
      "100%|██████████| 3000/3000 [15:08<00:00,  3.30it/s, Loss=2.523e-03, PDE=8.844e-04, BC=1.621e-04,4.158e-05, IC=1.351e-03,8.471e-05, D*=6.00e-02,1.22e-03, lr=2.07e-04]\n"
     ]
    },
    {
     "name": "stdout",
     "output_type": "stream",
     "text": [
      "R^2 Error: {'Ni': 0.101, 'SiC': 0.008, 'C': 0.037, 'NiSi': 0.063, 'NiSi2': 0.044}\n",
      "Inf Error: {'Ni': 0.098, 'SiC': 0.016, 'C': 0.089, 'NiSi': 0.068, 'NiSi2': 0.078}\n",
      "Mean Error: (0.0505390701926986, 0.06992075692793809)\n",
      "模型已保存至 ./Results/IA_PINN_[128]x5/model_save/IA_PINN_[128]x5_21000.pth\n",
      "Epoch: 8/10----------------\n"
     ]
    },
    {
     "name": "stderr",
     "output_type": "stream",
     "text": [
      "100%|██████████| 3000/3000 [14:07<00:00,  3.54it/s, Loss=2.036e-03, PDE=7.908e-04, BC=1.337e-04,3.426e-05, IC=1.009e-03,6.805e-05, D*=6.00e-02,1.17e-03, lr=9.58e-05]\n"
     ]
    },
    {
     "name": "stdout",
     "output_type": "stream",
     "text": [
      "R^2 Error: {'Ni': 0.108, 'SiC': 0.007, 'C': 0.036, 'NiSi': 0.065, 'NiSi2': 0.042}\n",
      "Inf Error: {'Ni': 0.105, 'SiC': 0.016, 'C': 0.086, 'NiSi': 0.067, 'NiSi2': 0.07}\n",
      "Mean Error: (0.051870998168414506, 0.06898464556464534)\n",
      "模型已保存至 ./Results/IA_PINN_[128]x5/model_save/IA_PINN_[128]x5_24000.pth\n",
      "Epoch: 9/10----------------\n"
     ]
    },
    {
     "name": "stderr",
     "output_type": "stream",
     "text": [
      "100%|██████████| 3000/3000 [14:08<00:00,  3.54it/s, Loss=1.661e-03, PDE=6.744e-04, BC=1.206e-04,3.167e-05, IC=7.748e-04,5.971e-05, D*=6.00e-02,1.11e-03, lr=2.46e-05]\n"
     ]
    },
    {
     "name": "stdout",
     "output_type": "stream",
     "text": [
      "R^2 Error: {'Ni': 0.117, 'SiC': 0.008, 'C': 0.035, 'NiSi': 0.071, 'NiSi2': 0.041}\n",
      "Inf Error: {'Ni': 0.113, 'SiC': 0.016, 'C': 0.084, 'NiSi': 0.067, 'NiSi2': 0.065}\n",
      "Mean Error: (0.05441224244827344, 0.06914377929092015)\n",
      "模型已保存至 ./Results/IA_PINN_[128]x5/model_save/IA_PINN_[128]x5_27000.pth\n",
      "Epoch: 10/10----------------\n"
     ]
    },
    {
     "name": "stderr",
     "output_type": "stream",
     "text": [
      "100%|██████████| 3000/3000 [14:09<00:00,  3.53it/s, Loss=1.526e-03, PDE=6.441e-04, BC=1.129e-04,3.029e-05, IC=6.820e-04,5.648e-05, D*=6.00e-02,1.09e-03, lr=1.03e-08]\n"
     ]
    },
    {
     "name": "stdout",
     "output_type": "stream",
     "text": [
      "R^2 Error: {'Ni': 0.122, 'SiC': 0.008, 'C': 0.035, 'NiSi': 0.074, 'NiSi2': 0.041}\n",
      "Inf Error: {'Ni': 0.117, 'SiC': 0.017, 'C': 0.083, 'NiSi': 0.07, 'NiSi2': 0.063}\n",
      "Mean Error: (0.055981260026839355, 0.06987515929109488)\n",
      "模型已保存至 ./Results/IA_PINN_[128]x5/model_save/IA_PINN_[128]x5_30000.pth\n",
      "Training time: 8990.14s-------------------------\n",
      "IA_PINN_[96]x5:\n",
      "Epoch: 1/10----------------\n"
     ]
    },
    {
     "name": "stderr",
     "output_type": "stream",
     "text": [
      "100%|██████████| 3000/3000 [11:46<00:00,  4.24it/s, Loss=2.062e-02, PDE=4.502e-03, BC=1.243e-03,9.604e-05, IC=1.433e-02,4.463e-04, D*=6.00e-02,1.85e-03, lr=9.76e-04]\n"
     ]
    },
    {
     "name": "stdout",
     "output_type": "stream",
     "text": [
      "R^2 Error: {'Ni': 0.12, 'SiC': 0.027, 'C': 0.067, 'NiSi': 0.208, 'NiSi2': 0.189}\n",
      "Inf Error: {'Ni': 0.11, 'SiC': 0.037, 'C': 0.122, 'NiSi': 0.255, 'NiSi2': 0.236}\n",
      "Mean Error: (0.1222090248419427, 0.15202187442345205)\n",
      "模型已保存至 ./Results/IA_PINN_[96]x5/model_save/IA_PINN_[96]x5_3000.pth\n",
      "Epoch: 2/10----------------\n"
     ]
    },
    {
     "name": "stderr",
     "output_type": "stream",
     "text": [
      "100%|██████████| 3000/3000 [12:32<00:00,  3.99it/s, Loss=1.281e-02, PDE=5.274e-03, BC=4.301e-04,8.150e-05, IC=6.814e-03,2.070e-04, D*=6.00e-02,9.88e-04, lr=9.05e-04]\n"
     ]
    },
    {
     "name": "stdout",
     "output_type": "stream",
     "text": [
      "R^2 Error: {'Ni': 0.1, 'SiC': 0.014, 'C': 0.041, 'NiSi': 0.118, 'NiSi2': 0.113}\n",
      "Inf Error: {'Ni': 0.095, 'SiC': 0.024, 'C': 0.107, 'NiSi': 0.181, 'NiSi2': 0.188}\n",
      "Mean Error: (0.07730827795947358, 0.11896848824662401)\n",
      "模型已保存至 ./Results/IA_PINN_[96]x5/model_save/IA_PINN_[96]x5_6000.pth\n",
      "Epoch: 3/10----------------\n"
     ]
    },
    {
     "name": "stderr",
     "output_type": "stream",
     "text": [
      "100%|██████████| 3000/3000 [13:08<00:00,  3.80it/s, Loss=1.108e-02, PDE=5.448e-03, BC=5.106e-04,1.812e-04, IC=4.763e-03,1.720e-04, D*=6.00e-02,8.49e-04, lr=7.94e-04]\n"
     ]
    },
    {
     "name": "stdout",
     "output_type": "stream",
     "text": [
      "R^2 Error: {'Ni': 0.096, 'SiC': 0.013, 'C': 0.042, 'NiSi': 0.09, 'NiSi2': 0.092}\n",
      "Inf Error: {'Ni': 0.09, 'SiC': 0.021, 'C': 0.103, 'NiSi': 0.152, 'NiSi2': 0.155}\n",
      "Mean Error: (0.06637081027176286, 0.10401562590120461)\n",
      "模型已保存至 ./Results/IA_PINN_[96]x5/model_save/IA_PINN_[96]x5_9000.pth\n",
      "Epoch: 4/10----------------\n"
     ]
    },
    {
     "name": "stderr",
     "output_type": "stream",
     "text": [
      "100%|██████████| 3000/3000 [12:48<00:00,  3.90it/s, Loss=8.111e-03, PDE=3.197e-03, BC=2.294e-04,5.290e-05, IC=4.483e-03,1.484e-04, D*=6.00e-02,8.56e-04, lr=6.55e-04]\n"
     ]
    },
    {
     "name": "stdout",
     "output_type": "stream",
     "text": [
      "R^2 Error: {'Ni': 0.091, 'SiC': 0.01, 'C': 0.042, 'NiSi': 0.074, 'NiSi2': 0.081}\n",
      "Inf Error: {'Ni': 0.087, 'SiC': 0.018, 'C': 0.096, 'NiSi': 0.124, 'NiSi2': 0.135}\n",
      "Mean Error: (0.05965104133624956, 0.09213715517489243)\n",
      "模型已保存至 ./Results/IA_PINN_[96]x5/model_save/IA_PINN_[96]x5_12000.pth\n",
      "Epoch: 5/10----------------\n"
     ]
    },
    {
     "name": "stderr",
     "output_type": "stream",
     "text": [
      "100%|██████████| 3000/3000 [12:50<00:00,  3.90it/s, Loss=6.224e-03, PDE=2.092e-03, BC=5.247e-04,1.336e-04, IC=3.356e-03,1.183e-04, D*=6.00e-02,8.22e-04, lr=5.01e-04]\n"
     ]
    },
    {
     "name": "stdout",
     "output_type": "stream",
     "text": [
      "R^2 Error: {'Ni': 0.09, 'SiC': 0.015, 'C': 0.046, 'NiSi': 0.063, 'NiSi2': 0.094}\n",
      "Inf Error: {'Ni': 0.085, 'SiC': 0.017, 'C': 0.095, 'NiSi': 0.088, 'NiSi2': 0.163}\n",
      "Mean Error: (0.06152985501771106, 0.08979406892551671)\n",
      "模型已保存至 ./Results/IA_PINN_[96]x5/model_save/IA_PINN_[96]x5_15000.pth\n",
      "Epoch: 6/10----------------\n"
     ]
    },
    {
     "name": "stderr",
     "output_type": "stream",
     "text": [
      "100%|██████████| 3000/3000 [12:51<00:00,  3.89it/s, Loss=4.873e-03, PDE=1.355e-03, BC=7.032e-04,4.302e-05, IC=2.677e-03,9.456e-05, D*=6.00e-02,7.48e-04, lr=3.46e-04]\n"
     ]
    },
    {
     "name": "stdout",
     "output_type": "stream",
     "text": [
      "R^2 Error: {'Ni': 0.087, 'SiC': 0.008, 'C': 0.045, 'NiSi': 0.07, 'NiSi2': 0.069}\n",
      "Inf Error: {'Ni': 0.083, 'SiC': 0.016, 'C': 0.093, 'NiSi': 0.083, 'NiSi2': 0.125}\n",
      "Mean Error: (0.055718410075331556, 0.0799870000081905)\n",
      "模型已保存至 ./Results/IA_PINN_[96]x5/model_save/IA_PINN_[96]x5_18000.pth\n",
      "Epoch: 7/10----------------\n"
     ]
    },
    {
     "name": "stderr",
     "output_type": "stream",
     "text": [
      "100%|██████████| 3000/3000 [12:53<00:00,  3.88it/s, Loss=3.812e-03, PDE=1.489e-03, BC=1.425e-04,2.593e-05, IC=2.077e-03,7.725e-05, D*=6.00e-02,6.79e-04, lr=2.07e-04]\n"
     ]
    },
    {
     "name": "stdout",
     "output_type": "stream",
     "text": [
      "R^2 Error: {'Ni': 0.091, 'SiC': 0.008, 'C': 0.047, 'NiSi': 0.071, 'NiSi2': 0.071}\n",
      "Inf Error: {'Ni': 0.087, 'SiC': 0.015, 'C': 0.094, 'NiSi': 0.087, 'NiSi2': 0.135}\n",
      "Mean Error: (0.057745643893016584, 0.08392080717187136)\n",
      "模型已保存至 ./Results/IA_PINN_[96]x5/model_save/IA_PINN_[96]x5_21000.pth\n",
      "Epoch: 8/10----------------\n"
     ]
    },
    {
     "name": "stderr",
     "output_type": "stream",
     "text": [
      "100%|██████████| 3000/3000 [12:50<00:00,  3.89it/s, Loss=3.879e-03, PDE=2.075e-03, BC=1.351e-04,2.066e-05, IC=1.581e-03,6.730e-05, D*=6.00e-02,6.16e-04, lr=9.58e-05]\n"
     ]
    },
    {
     "name": "stdout",
     "output_type": "stream",
     "text": [
      "R^2 Error: {'Ni': 0.09, 'SiC': 0.008, 'C': 0.049, 'NiSi': 0.072, 'NiSi2': 0.069}\n",
      "Inf Error: {'Ni': 0.087, 'SiC': 0.015, 'C': 0.094, 'NiSi': 0.089, 'NiSi2': 0.134}\n",
      "Mean Error: (0.05752433553005405, 0.08370620483318365)\n",
      "模型已保存至 ./Results/IA_PINN_[96]x5/model_save/IA_PINN_[96]x5_24000.pth\n",
      "Epoch: 9/10----------------\n"
     ]
    },
    {
     "name": "stderr",
     "output_type": "stream",
     "text": [
      "100%|██████████| 3000/3000 [12:31<00:00,  3.99it/s, Loss=2.557e-03, PDE=1.181e-03, BC=1.229e-04,1.810e-05, IC=1.173e-03,6.171e-05, D*=6.00e-02,5.61e-04, lr=2.46e-05]\n"
     ]
    },
    {
     "name": "stdout",
     "output_type": "stream",
     "text": [
      "R^2 Error: {'Ni': 0.091, 'SiC': 0.008, 'C': 0.049, 'NiSi': 0.073, 'NiSi2': 0.069}\n",
      "Inf Error: {'Ni': 0.088, 'SiC': 0.014, 'C': 0.095, 'NiSi': 0.09, 'NiSi2': 0.134}\n",
      "Mean Error: (0.05803322876747243, 0.08424327529666482)\n",
      "模型已保存至 ./Results/IA_PINN_[96]x5/model_save/IA_PINN_[96]x5_27000.pth\n",
      "Epoch: 10/10----------------\n"
     ]
    },
    {
     "name": "stderr",
     "output_type": "stream",
     "text": [
      "100%|██████████| 3000/3000 [12:16<00:00,  4.08it/s, Loss=2.377e-03, PDE=1.170e-03, BC=1.187e-04,1.722e-05, IC=1.011e-03,5.967e-05, D*=6.00e-02,5.38e-04, lr=1.03e-08]\n"
     ]
    },
    {
     "name": "stdout",
     "output_type": "stream",
     "text": [
      "R^2 Error: {'Ni': 0.091, 'SiC': 0.007, 'C': 0.05, 'NiSi': 0.073, 'NiSi2': 0.07}\n",
      "Inf Error: {'Ni': 0.088, 'SiC': 0.014, 'C': 0.095, 'NiSi': 0.091, 'NiSi2': 0.134}\n",
      "Mean Error: (0.05822734646435387, 0.08445989855619121)\n",
      "模型已保存至 ./Results/IA_PINN_[96]x5/model_save/IA_PINN_[96]x5_30000.pth\n",
      "Training time: 7612.52s-------------------------\n",
      "IA_PINN_[64]x5:\n",
      "Epoch: 1/10----------------\n"
     ]
    },
    {
     "name": "stderr",
     "output_type": "stream",
     "text": [
      "100%|██████████| 3000/3000 [11:26<00:00,  4.37it/s, Loss=3.522e-02, PDE=7.500e-03, BC=1.239e-03,1.520e-03, IC=2.399e-02,9.734e-04, D*=6.00e-02,7.16e-03, lr=9.76e-04]\n"
     ]
    },
    {
     "name": "stdout",
     "output_type": "stream",
     "text": [
      "R^2 Error: {'Ni': 0.147, 'SiC': 0.06, 'C': 0.171, 'NiSi': 0.319, 'NiSi2': 0.241}\n",
      "Inf Error: {'Ni': 0.131, 'SiC': 0.069, 'C': 0.193, 'NiSi': 0.301, 'NiSi2': 0.223}\n",
      "Mean Error: (0.1876138904604488, 0.18354527622916184)\n",
      "模型已保存至 ./Results/IA_PINN_[64]x5/model_save/IA_PINN_[64]x5_3000.pth\n",
      "Epoch: 2/10----------------\n"
     ]
    },
    {
     "name": "stderr",
     "output_type": "stream",
     "text": [
      "100%|██████████| 3000/3000 [11:30<00:00,  4.35it/s, Loss=1.600e-02, PDE=4.582e-03, BC=9.552e-04,2.772e-06, IC=1.009e-02,3.718e-04, D*=6.00e-02,3.95e-03, lr=9.05e-04]\n"
     ]
    },
    {
     "name": "stdout",
     "output_type": "stream",
     "text": [
      "R^2 Error: {'Ni': 0.103, 'SiC': 0.03, 'C': 0.069, 'NiSi': 0.176, 'NiSi2': 0.112}\n",
      "Inf Error: {'Ni': 0.096, 'SiC': 0.036, 'C': 0.119, 'NiSi': 0.149, 'NiSi2': 0.161}\n",
      "Mean Error: (0.09802142338420299, 0.1121208150472317)\n",
      "模型已保存至 ./Results/IA_PINN_[64]x5/model_save/IA_PINN_[64]x5_6000.pth\n",
      "Epoch: 3/10----------------\n"
     ]
    },
    {
     "name": "stderr",
     "output_type": "stream",
     "text": [
      "100%|██████████| 3000/3000 [11:30<00:00,  4.34it/s, Loss=1.355e-02, PDE=3.838e-03, BC=7.197e-04,1.744e-03, IC=6.956e-03,2.888e-04, D*=6.00e-02,3.40e-03, lr=7.94e-04]\n"
     ]
    },
    {
     "name": "stdout",
     "output_type": "stream",
     "text": [
      "R^2 Error: {'Ni': 0.097, 'SiC': 0.024, 'C': 0.055, 'NiSi': 0.145, 'NiSi2': 0.099}\n",
      "Inf Error: {'Ni': 0.09, 'SiC': 0.03, 'C': 0.113, 'NiSi': 0.121, 'NiSi2': 0.14}\n",
      "Mean Error: (0.08397992771268367, 0.09886913873938104)\n",
      "模型已保存至 ./Results/IA_PINN_[64]x5/model_save/IA_PINN_[64]x5_9000.pth\n",
      "Epoch: 4/10----------------\n"
     ]
    },
    {
     "name": "stderr",
     "output_type": "stream",
     "text": [
      "100%|██████████| 3000/3000 [10:51<00:00,  4.61it/s, Loss=1.017e-02, PDE=3.288e-03, BC=5.059e-04,1.345e-05, IC=6.113e-03,2.514e-04, D*=6.00e-02,3.41e-03, lr=6.55e-04]\n"
     ]
    },
    {
     "name": "stdout",
     "output_type": "stream",
     "text": [
      "R^2 Error: {'Ni': 0.097, 'SiC': 0.021, 'C': 0.052, 'NiSi': 0.121, 'NiSi2': 0.096}\n",
      "Inf Error: {'Ni': 0.091, 'SiC': 0.028, 'C': 0.111, 'NiSi': 0.11, 'NiSi2': 0.135}\n",
      "Mean Error: (0.07748379933623961, 0.09511112554644478)\n",
      "模型已保存至 ./Results/IA_PINN_[64]x5/model_save/IA_PINN_[64]x5_12000.pth\n",
      "Epoch: 5/10----------------\n"
     ]
    },
    {
     "name": "stderr",
     "output_type": "stream",
     "text": [
      "100%|██████████| 3000/3000 [10:53<00:00,  4.59it/s, Loss=9.542e-03, PDE=3.457e-03, BC=6.051e-04,3.918e-05, IC=5.205e-03,2.355e-04, D*=6.00e-02,3.40e-03, lr=5.01e-04]\n"
     ]
    },
    {
     "name": "stdout",
     "output_type": "stream",
     "text": [
      "R^2 Error: {'Ni': 0.096, 'SiC': 0.02, 'C': 0.052, 'NiSi': 0.108, 'NiSi2': 0.093}\n",
      "Inf Error: {'Ni': 0.088, 'SiC': 0.028, 'C': 0.107, 'NiSi': 0.106, 'NiSi2': 0.127}\n",
      "Mean Error: (0.07396198242236321, 0.09113842434613842)\n",
      "模型已保存至 ./Results/IA_PINN_[64]x5/model_save/IA_PINN_[64]x5_15000.pth\n",
      "Epoch: 6/10----------------\n"
     ]
    },
    {
     "name": "stderr",
     "output_type": "stream",
     "text": [
      "100%|██████████| 3000/3000 [10:53<00:00,  4.59it/s, Loss=7.829e-03, PDE=2.610e-03, BC=4.228e-04,8.206e-07, IC=4.594e-03,2.010e-04, D*=6.00e-02,3.02e-03, lr=3.46e-04]\n"
     ]
    },
    {
     "name": "stdout",
     "output_type": "stream",
     "text": [
      "R^2 Error: {'Ni': 0.099, 'SiC': 0.02, 'C': 0.046, 'NiSi': 0.101, 'NiSi2': 0.092}\n",
      "Inf Error: {'Ni': 0.09, 'SiC': 0.026, 'C': 0.104, 'NiSi': 0.104, 'NiSi2': 0.122}\n",
      "Mean Error: (0.07149556465827779, 0.08934756542981986)\n",
      "模型已保存至 ./Results/IA_PINN_[64]x5/model_save/IA_PINN_[64]x5_18000.pth\n",
      "Epoch: 7/10----------------\n"
     ]
    },
    {
     "name": "stderr",
     "output_type": "stream",
     "text": [
      "100%|██████████| 3000/3000 [10:54<00:00,  4.59it/s, Loss=7.120e-03, PDE=2.546e-03, BC=3.320e-04,9.780e-07, IC=4.053e-03,1.879e-04, D*=6.00e-02,2.72e-03, lr=2.07e-04]\n"
     ]
    },
    {
     "name": "stdout",
     "output_type": "stream",
     "text": [
      "R^2 Error: {'Ni': 0.1, 'SiC': 0.019, 'C': 0.045, 'NiSi': 0.095, 'NiSi2': 0.09}\n",
      "Inf Error: {'Ni': 0.091, 'SiC': 0.026, 'C': 0.101, 'NiSi': 0.101, 'NiSi2': 0.119}\n",
      "Mean Error: (0.06991698450963091, 0.08737416303523668)\n",
      "模型已保存至 ./Results/IA_PINN_[64]x5/model_save/IA_PINN_[64]x5_21000.pth\n",
      "Epoch: 8/10----------------\n"
     ]
    },
    {
     "name": "stderr",
     "output_type": "stream",
     "text": [
      "100%|██████████| 3000/3000 [10:53<00:00,  4.59it/s, Loss=6.039e-03, PDE=2.017e-03, BC=2.941e-04,7.273e-07, IC=3.556e-03,1.715e-04, D*=6.00e-02,2.48e-03, lr=9.58e-05]\n"
     ]
    },
    {
     "name": "stdout",
     "output_type": "stream",
     "text": [
      "R^2 Error: {'Ni': 0.103, 'SiC': 0.019, 'C': 0.044, 'NiSi': 0.094, 'NiSi2': 0.09}\n",
      "Inf Error: {'Ni': 0.093, 'SiC': 0.025, 'C': 0.098, 'NiSi': 0.1, 'NiSi2': 0.117}\n",
      "Mean Error: (0.07013488570004436, 0.08691237724637192)\n",
      "模型已保存至 ./Results/IA_PINN_[64]x5/model_save/IA_PINN_[64]x5_24000.pth\n",
      "Epoch: 9/10----------------\n"
     ]
    },
    {
     "name": "stderr",
     "output_type": "stream",
     "text": [
      "100%|██████████| 3000/3000 [10:54<00:00,  4.59it/s, Loss=5.341e-03, PDE=1.792e-03, BC=2.622e-04,6.522e-07, IC=3.128e-03,1.580e-04, D*=6.00e-02,2.26e-03, lr=2.46e-05]\n"
     ]
    },
    {
     "name": "stdout",
     "output_type": "stream",
     "text": [
      "R^2 Error: {'Ni': 0.108, 'SiC': 0.019, 'C': 0.044, 'NiSi': 0.095, 'NiSi2': 0.091}\n",
      "Inf Error: {'Ni': 0.097, 'SiC': 0.026, 'C': 0.097, 'NiSi': 0.101, 'NiSi2': 0.118}\n",
      "Mean Error: (0.07144450481860024, 0.08761821941471482)\n",
      "模型已保存至 ./Results/IA_PINN_[64]x5/model_save/IA_PINN_[64]x5_27000.pth\n",
      "Epoch: 10/10----------------\n"
     ]
    },
    {
     "name": "stderr",
     "output_type": "stream",
     "text": [
      "100%|██████████| 3000/3000 [10:52<00:00,  4.59it/s, Loss=5.111e-03, PDE=1.733e-03, BC=2.477e-04,6.075e-07, IC=2.977e-03,1.529e-04, D*=6.00e-02,2.18e-03, lr=1.03e-08]\n"
     ]
    },
    {
     "name": "stdout",
     "output_type": "stream",
     "text": [
      "R^2 Error: {'Ni': 0.111, 'SiC': 0.02, 'C': 0.044, 'NiSi': 0.097, 'NiSi2': 0.091}\n",
      "Inf Error: {'Ni': 0.1, 'SiC': 0.026, 'C': 0.096, 'NiSi': 0.101, 'NiSi2': 0.118}\n",
      "Mean Error: (0.07247146092922944, 0.08822917174215579)\n",
      "模型已保存至 ./Results/IA_PINN_[64]x5/model_save/IA_PINN_[64]x5_30000.pth\n",
      "Training time: 6660.88s-------------------------\n",
      "IA_PINN_[128]x4:\n",
      "Epoch: 1/10----------------\n"
     ]
    },
    {
     "name": "stderr",
     "output_type": "stream",
     "text": [
      "100%|██████████| 3000/3000 [12:13<00:00,  4.09it/s, Loss=2.834e-02, PDE=4.742e-03, BC=2.101e-03,2.521e-04, IC=2.019e-02,1.051e-03, D*=6.00e-02,6.09e-03, lr=9.76e-04]\n"
     ]
    },
    {
     "name": "stdout",
     "output_type": "stream",
     "text": [
      "R^2 Error: {'Ni': 0.129, 'SiC': 0.037, 'C': 0.112, 'NiSi': 0.316, 'NiSi2': 0.231}\n",
      "Inf Error: {'Ni': 0.119, 'SiC': 0.048, 'C': 0.161, 'NiSi': 0.304, 'NiSi2': 0.242}\n",
      "Mean Error: (0.16487244994388353, 0.17484094343800408)\n",
      "模型已保存至 ./Results/IA_PINN_[128]x4/model_save/IA_PINN_[128]x4_3000.pth\n",
      "Epoch: 2/10----------------\n"
     ]
    },
    {
     "name": "stderr",
     "output_type": "stream",
     "text": [
      "100%|██████████| 3000/3000 [12:13<00:00,  4.09it/s, Loss=1.444e-02, PDE=3.004e-03, BC=1.973e-03,7.192e-06, IC=8.852e-03,6.027e-04, D*=6.00e-02,5.09e-03, lr=9.05e-04]\n"
     ]
    },
    {
     "name": "stdout",
     "output_type": "stream",
     "text": [
      "R^2 Error: {'Ni': 0.098, 'SiC': 0.028, 'C': 0.08, 'NiSi': 0.158, 'NiSi2': 0.121}\n",
      "Inf Error: {'Ni': 0.092, 'SiC': 0.036, 'C': 0.142, 'NiSi': 0.143, 'NiSi2': 0.157}\n",
      "Mean Error: (0.09710219641939669, 0.11402574930419558)\n",
      "模型已保存至 ./Results/IA_PINN_[128]x4/model_save/IA_PINN_[128]x4_6000.pth\n",
      "Epoch: 3/10----------------\n"
     ]
    },
    {
     "name": "stderr",
     "output_type": "stream",
     "text": [
      "100%|██████████| 3000/3000 [12:13<00:00,  4.09it/s, Loss=1.151e-02, PDE=2.737e-03, BC=1.448e-03,1.045e-04, IC=6.726e-03,4.946e-04, D*=6.00e-02,4.44e-03, lr=7.94e-04]\n"
     ]
    },
    {
     "name": "stdout",
     "output_type": "stream",
     "text": [
      "R^2 Error: {'Ni': 0.093, 'SiC': 0.027, 'C': 0.074, 'NiSi': 0.137, 'NiSi2': 0.086}\n",
      "Inf Error: {'Ni': 0.085, 'SiC': 0.033, 'C': 0.128, 'NiSi': 0.137, 'NiSi2': 0.115}\n",
      "Mean Error: (0.08321659328985845, 0.09970345219797258)\n",
      "模型已保存至 ./Results/IA_PINN_[128]x4/model_save/IA_PINN_[128]x4_9000.pth\n",
      "Epoch: 4/10----------------\n"
     ]
    },
    {
     "name": "stderr",
     "output_type": "stream",
     "text": [
      "100%|██████████| 3000/3000 [12:14<00:00,  4.09it/s, Loss=9.080e-03, PDE=2.678e-03, BC=3.931e-04,9.399e-07, IC=5.598e-03,4.106e-04, D*=6.00e-02,3.87e-03, lr=6.55e-04]\n"
     ]
    },
    {
     "name": "stdout",
     "output_type": "stream",
     "text": [
      "R^2 Error: {'Ni': 0.09, 'SiC': 0.023, 'C': 0.065, 'NiSi': 0.129, 'NiSi2': 0.07}\n",
      "Inf Error: {'Ni': 0.081, 'SiC': 0.03, 'C': 0.115, 'NiSi': 0.134, 'NiSi2': 0.093}\n",
      "Mean Error: (0.07538183486863687, 0.09068670045834318)\n",
      "模型已保存至 ./Results/IA_PINN_[128]x4/model_save/IA_PINN_[128]x4_12000.pth\n",
      "Epoch: 5/10----------------\n"
     ]
    },
    {
     "name": "stderr",
     "output_type": "stream",
     "text": [
      "100%|██████████| 3000/3000 [12:12<00:00,  4.10it/s, Loss=8.373e-03, PDE=2.787e-03, BC=2.778e-04,1.380e-04, IC=4.824e-03,3.456e-04, D*=6.00e-02,3.41e-03, lr=5.01e-04]\n"
     ]
    },
    {
     "name": "stdout",
     "output_type": "stream",
     "text": [
      "R^2 Error: {'Ni': 0.085, 'SiC': 0.021, 'C': 0.06, 'NiSi': 0.123, 'NiSi2': 0.061}\n",
      "Inf Error: {'Ni': 0.075, 'SiC': 0.027, 'C': 0.106, 'NiSi': 0.132, 'NiSi2': 0.09}\n",
      "Mean Error: (0.06992150979904385, 0.08607094026708405)\n",
      "模型已保存至 ./Results/IA_PINN_[128]x4/model_save/IA_PINN_[128]x4_15000.pth\n",
      "Epoch: 6/10----------------\n"
     ]
    },
    {
     "name": "stderr",
     "output_type": "stream",
     "text": [
      "100%|██████████| 3000/3000 [12:13<00:00,  4.09it/s, Loss=6.788e-03, PDE=1.967e-03, BC=2.387e-04,1.013e-06, IC=4.281e-03,2.996e-04, D*=6.00e-02,3.06e-03, lr=3.46e-04]\n"
     ]
    },
    {
     "name": "stdout",
     "output_type": "stream",
     "text": [
      "R^2 Error: {'Ni': 0.082, 'SiC': 0.017, 'C': 0.054, 'NiSi': 0.124, 'NiSi2': 0.059}\n",
      "Inf Error: {'Ni': 0.072, 'SiC': 0.024, 'C': 0.101, 'NiSi': 0.128, 'NiSi2': 0.09}\n",
      "Mean Error: (0.06714495964058524, 0.08312206333544195)\n",
      "模型已保存至 ./Results/IA_PINN_[128]x4/model_save/IA_PINN_[128]x4_18000.pth\n",
      "Epoch: 7/10----------------\n"
     ]
    },
    {
     "name": "stderr",
     "output_type": "stream",
     "text": [
      "100%|██████████| 3000/3000 [12:13<00:00,  4.09it/s, Loss=1.006e-02, PDE=3.185e-03, BC=2.375e-04,2.511e-03, IC=3.860e-03,2.655e-04, D*=6.00e-02,2.74e-03, lr=2.07e-04]\n"
     ]
    },
    {
     "name": "stdout",
     "output_type": "stream",
     "text": [
      "R^2 Error: {'Ni': 0.081, 'SiC': 0.022, 'C': 0.05, 'NiSi': 0.113, 'NiSi2': 0.05}\n",
      "Inf Error: {'Ni': 0.069, 'SiC': 0.024, 'C': 0.096, 'NiSi': 0.115, 'NiSi2': 0.086}\n",
      "Mean Error: (0.06312612213720685, 0.0780104594086554)\n",
      "模型已保存至 ./Results/IA_PINN_[128]x4/model_save/IA_PINN_[128]x4_21000.pth\n",
      "Epoch: 8/10----------------\n"
     ]
    },
    {
     "name": "stderr",
     "output_type": "stream",
     "text": [
      "100%|██████████| 3000/3000 [12:13<00:00,  4.09it/s, Loss=5.180e-03, PDE=1.431e-03, BC=1.620e-04,2.203e-07, IC=3.343e-03,2.431e-04, D*=6.00e-02,2.50e-03, lr=9.58e-05]\n"
     ]
    },
    {
     "name": "stdout",
     "output_type": "stream",
     "text": [
      "R^2 Error: {'Ni': 0.08, 'SiC': 0.015, 'C': 0.048, 'NiSi': 0.124, 'NiSi2': 0.057}\n",
      "Inf Error: {'Ni': 0.068, 'SiC': 0.022, 'C': 0.094, 'NiSi': 0.124, 'NiSi2': 0.093}\n",
      "Mean Error: (0.06494106451539272, 0.08032167580651692)\n",
      "模型已保存至 ./Results/IA_PINN_[128]x4/model_save/IA_PINN_[128]x4_24000.pth\n",
      "Epoch: 9/10----------------\n"
     ]
    },
    {
     "name": "stderr",
     "output_type": "stream",
     "text": [
      "100%|██████████| 3000/3000 [12:13<00:00,  4.09it/s, Loss=4.758e-03, PDE=1.380e-03, BC=1.481e-04,2.605e-07, IC=3.009e-03,2.213e-04, D*=6.00e-02,2.32e-03, lr=2.46e-05]\n"
     ]
    },
    {
     "name": "stdout",
     "output_type": "stream",
     "text": [
      "R^2 Error: {'Ni': 0.08, 'SiC': 0.015, 'C': 0.046, 'NiSi': 0.123, 'NiSi2': 0.055}\n",
      "Inf Error: {'Ni': 0.068, 'SiC': 0.021, 'C': 0.091, 'NiSi': 0.119, 'NiSi2': 0.09}\n",
      "Mean Error: (0.06391804592744536, 0.07782351510863436)\n",
      "模型已保存至 ./Results/IA_PINN_[128]x4/model_save/IA_PINN_[128]x4_27000.pth\n",
      "Epoch: 10/10----------------\n"
     ]
    },
    {
     "name": "stderr",
     "output_type": "stream",
     "text": [
      "100%|██████████| 3000/3000 [12:13<00:00,  4.09it/s, Loss=4.607e-03, PDE=1.361e-03, BC=1.422e-04,2.665e-07, IC=2.890e-03,2.128e-04, D*=6.00e-02,2.24e-03, lr=1.03e-08]\n"
     ]
    },
    {
     "name": "stdout",
     "output_type": "stream",
     "text": [
      "R^2 Error: {'Ni': 0.08, 'SiC': 0.014, 'C': 0.046, 'NiSi': 0.123, 'NiSi2': 0.054}\n",
      "Inf Error: {'Ni': 0.068, 'SiC': 0.021, 'C': 0.09, 'NiSi': 0.116, 'NiSi2': 0.087}\n",
      "Mean Error: (0.06346497362317652, 0.07656594337311995)\n",
      "模型已保存至 ./Results/IA_PINN_[128]x4/model_save/IA_PINN_[128]x4_30000.pth\n",
      "Training time: 7358.37s-------------------------\n",
      "IA_PINN_[96]x4:\n",
      "Epoch: 1/10----------------\n"
     ]
    },
    {
     "name": "stderr",
     "output_type": "stream",
     "text": [
      "100%|██████████| 3000/3000 [10:17<00:00,  4.85it/s, Loss=4.299e-02, PDE=8.194e-03, BC=1.096e-03,2.076e-03, IC=3.019e-02,1.434e-03, D*=6.00e-02,5.27e-03, lr=9.76e-04]\n"
     ]
    },
    {
     "name": "stdout",
     "output_type": "stream",
     "text": [
      "R^2 Error: {'Ni': 0.16, 'SiC': 0.051, 'C': 0.144, 'NiSi': 0.329, 'NiSi2': 0.325}\n",
      "Inf Error: {'Ni': 0.146, 'SiC': 0.068, 'C': 0.201, 'NiSi': 0.332, 'NiSi2': 0.299}\n",
      "Mean Error: (0.20188800408843233, 0.20896402820378995)\n",
      "模型已保存至 ./Results/IA_PINN_[96]x4/model_save/IA_PINN_[96]x4_3000.pth\n",
      "Epoch: 2/10----------------\n"
     ]
    },
    {
     "name": "stderr",
     "output_type": "stream",
     "text": [
      "100%|██████████| 3000/3000 [10:18<00:00,  4.85it/s, Loss=2.376e-02, PDE=8.173e-03, BC=2.906e-03,2.106e-04, IC=1.187e-02,5.971e-04, D*=6.00e-02,4.83e-03, lr=9.05e-04]\n"
     ]
    },
    {
     "name": "stdout",
     "output_type": "stream",
     "text": [
      "R^2 Error: {'Ni': 0.097, 'SiC': 0.027, 'C': 0.066, 'NiSi': 0.171, 'NiSi2': 0.148}\n",
      "Inf Error: {'Ni': 0.092, 'SiC': 0.035, 'C': 0.143, 'NiSi': 0.142, 'NiSi2': 0.169}\n",
      "Mean Error: (0.10173749814539423, 0.11620399653435334)\n",
      "模型已保存至 ./Results/IA_PINN_[96]x4/model_save/IA_PINN_[96]x4_6000.pth\n",
      "Epoch: 3/10----------------\n"
     ]
    },
    {
     "name": "stderr",
     "output_type": "stream",
     "text": [
      "100%|██████████| 3000/3000 [10:18<00:00,  4.85it/s, Loss=1.182e-02, PDE=3.345e-03, BC=6.917e-04,1.948e-05, IC=7.374e-03,3.871e-04, D*=6.00e-02,3.79e-03, lr=7.94e-04]\n"
     ]
    },
    {
     "name": "stdout",
     "output_type": "stream",
     "text": [
      "R^2 Error: {'Ni': 0.086, 'SiC': 0.016, 'C': 0.056, 'NiSi': 0.124, 'NiSi2': 0.093}\n",
      "Inf Error: {'Ni': 0.08, 'SiC': 0.028, 'C': 0.12, 'NiSi': 0.113, 'NiSi2': 0.107}\n",
      "Mean Error: (0.07529526872436201, 0.08981409273202359)\n",
      "模型已保存至 ./Results/IA_PINN_[96]x4/model_save/IA_PINN_[96]x4_9000.pth\n",
      "Epoch: 4/10----------------\n"
     ]
    },
    {
     "name": "stderr",
     "output_type": "stream",
     "text": [
      "100%|██████████| 3000/3000 [10:19<00:00,  4.84it/s, Loss=1.030e-02, PDE=3.350e-03, BC=3.482e-04,4.269e-05, IC=6.235e-03,3.259e-04, D*=6.00e-02,3.74e-03, lr=6.55e-04]\n"
     ]
    },
    {
     "name": "stdout",
     "output_type": "stream",
     "text": [
      "R^2 Error: {'Ni': 0.087, 'SiC': 0.022, 'C': 0.051, 'NiSi': 0.113, 'NiSi2': 0.061}\n",
      "Inf Error: {'Ni': 0.078, 'SiC': 0.027, 'C': 0.114, 'NiSi': 0.116, 'NiSi2': 0.085}\n",
      "Mean Error: (0.06698127914732017, 0.08417627293632432)\n",
      "模型已保存至 ./Results/IA_PINN_[96]x4/model_save/IA_PINN_[96]x4_12000.pth\n",
      "Epoch: 5/10----------------\n"
     ]
    },
    {
     "name": "stderr",
     "output_type": "stream",
     "text": [
      "100%|██████████| 3000/3000 [10:18<00:00,  4.85it/s, Loss=8.165e-03, PDE=2.503e-03, BC=2.999e-04,7.121e-05, IC=4.996e-03,2.946e-04, D*=6.00e-02,3.46e-03, lr=5.01e-04]\n"
     ]
    },
    {
     "name": "stdout",
     "output_type": "stream",
     "text": [
      "R^2 Error: {'Ni': 0.09, 'SiC': 0.018, 'C': 0.05, 'NiSi': 0.12, 'NiSi2': 0.061}\n",
      "Inf Error: {'Ni': 0.079, 'SiC': 0.027, 'C': 0.107, 'NiSi': 0.121, 'NiSi2': 0.079}\n",
      "Mean Error: (0.06789901879356773, 0.08254480220443076)\n",
      "模型已保存至 ./Results/IA_PINN_[96]x4/model_save/IA_PINN_[96]x4_15000.pth\n",
      "Epoch: 6/10----------------\n"
     ]
    },
    {
     "name": "stderr",
     "output_type": "stream",
     "text": [
      "100%|██████████| 3000/3000 [10:19<00:00,  4.84it/s, Loss=7.746e-03, PDE=2.725e-03, BC=4.349e-04,2.377e-05, IC=4.306e-03,2.574e-04, D*=6.00e-02,3.09e-03, lr=3.46e-04]\n"
     ]
    },
    {
     "name": "stdout",
     "output_type": "stream",
     "text": [
      "R^2 Error: {'Ni': 0.094, 'SiC': 0.02, 'C': 0.046, 'NiSi': 0.12, 'NiSi2': 0.059}\n",
      "Inf Error: {'Ni': 0.081, 'SiC': 0.027, 'C': 0.102, 'NiSi': 0.118, 'NiSi2': 0.074}\n",
      "Mean Error: (0.06791389174994533, 0.08035723982665513)\n",
      "模型已保存至 ./Results/IA_PINN_[96]x4/model_save/IA_PINN_[96]x4_18000.pth\n",
      "Epoch: 7/10----------------\n"
     ]
    },
    {
     "name": "stderr",
     "output_type": "stream",
     "text": [
      "100%|██████████| 3000/3000 [10:20<00:00,  4.84it/s, Loss=5.928e-03, PDE=1.655e-03, BC=1.912e-04,5.043e-05, IC=3.803e-03,2.283e-04, D*=6.00e-02,2.82e-03, lr=2.07e-04]\n"
     ]
    },
    {
     "name": "stdout",
     "output_type": "stream",
     "text": [
      "R^2 Error: {'Ni': 0.098, 'SiC': 0.026, 'C': 0.047, 'NiSi': 0.126, 'NiSi2': 0.064}\n",
      "Inf Error: {'Ni': 0.083, 'SiC': 0.027, 'C': 0.098, 'NiSi': 0.118, 'NiSi2': 0.082}\n",
      "Mean Error: (0.07231386869379434, 0.08180083043024555)\n",
      "模型已保存至 ./Results/IA_PINN_[96]x4/model_save/IA_PINN_[96]x4_21000.pth\n",
      "Epoch: 8/10----------------\n"
     ]
    },
    {
     "name": "stderr",
     "output_type": "stream",
     "text": [
      "100%|██████████| 3000/3000 [10:20<00:00,  4.84it/s, Loss=5.318e-03, PDE=1.476e-03, BC=1.597e-04,1.224e-06, IC=3.471e-03,2.109e-04, D*=6.00e-02,2.66e-03, lr=9.58e-05]\n"
     ]
    },
    {
     "name": "stdout",
     "output_type": "stream",
     "text": [
      "R^2 Error: {'Ni': 0.101, 'SiC': 0.019, 'C': 0.048, 'NiSi': 0.13, 'NiSi2': 0.069}\n",
      "Inf Error: {'Ni': 0.085, 'SiC': 0.028, 'C': 0.096, 'NiSi': 0.121, 'NiSi2': 0.086}\n",
      "Mean Error: (0.07344379827771112, 0.08317104562911691)\n",
      "模型已保存至 ./Results/IA_PINN_[96]x4/model_save/IA_PINN_[96]x4_24000.pth\n",
      "Epoch: 9/10----------------\n"
     ]
    },
    {
     "name": "stderr",
     "output_type": "stream",
     "text": [
      "100%|██████████| 3000/3000 [10:19<00:00,  4.84it/s, Loss=4.739e-03, PDE=1.259e-03, BC=1.266e-04,7.612e-07, IC=3.158e-03,1.944e-04, D*=6.00e-02,2.50e-03, lr=2.46e-05]\n"
     ]
    },
    {
     "name": "stdout",
     "output_type": "stream",
     "text": [
      "R^2 Error: {'Ni': 0.104, 'SiC': 0.019, 'C': 0.05, 'NiSi': 0.134, 'NiSi2': 0.074}\n",
      "Inf Error: {'Ni': 0.088, 'SiC': 0.028, 'C': 0.094, 'NiSi': 0.126, 'NiSi2': 0.092}\n",
      "Mean Error: (0.07624055001069507, 0.0854723888815516)\n",
      "模型已保存至 ./Results/IA_PINN_[96]x4/model_save/IA_PINN_[96]x4_27000.pth\n",
      "Epoch: 10/10----------------\n"
     ]
    },
    {
     "name": "stderr",
     "output_type": "stream",
     "text": [
      "100%|██████████| 3000/3000 [10:21<00:00,  4.83it/s, Loss=4.576e-03, PDE=1.216e-03, BC=1.211e-04,6.435e-07, IC=3.049e-03,1.889e-04, D*=6.00e-02,2.44e-03, lr=1.03e-08]\n"
     ]
    },
    {
     "name": "stdout",
     "output_type": "stream",
     "text": [
      "R^2 Error: {'Ni': 0.106, 'SiC': 0.019, 'C': 0.051, 'NiSi': 0.136, 'NiSi2': 0.075}\n",
      "Inf Error: {'Ni': 0.089, 'SiC': 0.028, 'C': 0.093, 'NiSi': 0.128, 'NiSi2': 0.094}\n",
      "Mean Error: (0.07732314252978918, 0.08640686745171025)\n",
      "模型已保存至 ./Results/IA_PINN_[96]x4/model_save/IA_PINN_[96]x4_30000.pth\n",
      "Training time: 6216.99s-------------------------\n",
      "IA_PINN_[64]x4:\n",
      "Epoch: 1/10----------------\n"
     ]
    },
    {
     "name": "stderr",
     "output_type": "stream",
     "text": [
      "100%|██████████| 3000/3000 [09:18<00:00,  5.38it/s, Loss=3.663e-02, PDE=6.739e-03, BC=4.381e-04,7.851e-04, IC=2.748e-02,1.189e-03, D*=6.00e-02,5.13e-03, lr=9.76e-04]\n"
     ]
    },
    {
     "name": "stdout",
     "output_type": "stream",
     "text": [
      "R^2 Error: {'Ni': 0.161, 'SiC': 0.052, 'C': 0.149, 'NiSi': 0.311, 'NiSi2': 0.273}\n",
      "Inf Error: {'Ni': 0.141, 'SiC': 0.07, 'C': 0.182, 'NiSi': 0.323, 'NiSi2': 0.31}\n",
      "Mean Error: (0.1891503152435548, 0.20532887158794413)\n",
      "模型已保存至 ./Results/IA_PINN_[64]x4/model_save/IA_PINN_[64]x4_3000.pth\n",
      "Epoch: 2/10----------------\n"
     ]
    },
    {
     "name": "stderr",
     "output_type": "stream",
     "text": [
      "100%|██████████| 3000/3000 [09:19<00:00,  5.36it/s, Loss=1.571e-02, PDE=3.953e-03, BC=2.621e-04,9.111e-04, IC=1.020e-02,3.810e-04, D*=6.00e-02,2.49e-03, lr=9.05e-04]\n"
     ]
    },
    {
     "name": "stdout",
     "output_type": "stream",
     "text": [
      "R^2 Error: {'Ni': 0.115, 'SiC': 0.024, 'C': 0.069, 'NiSi': 0.16, 'NiSi2': 0.145}\n",
      "Inf Error: {'Ni': 0.104, 'SiC': 0.035, 'C': 0.122, 'NiSi': 0.158, 'NiSi2': 0.171}\n",
      "Mean Error: (0.10256926495961469, 0.11780798912507455)\n",
      "模型已保存至 ./Results/IA_PINN_[64]x4/model_save/IA_PINN_[64]x4_6000.pth\n",
      "Epoch: 3/10----------------\n"
     ]
    },
    {
     "name": "stderr",
     "output_type": "stream",
     "text": [
      "100%|██████████| 3000/3000 [09:17<00:00,  5.38it/s, Loss=1.361e-02, PDE=3.304e-03, BC=1.488e-03,7.108e-04, IC=7.801e-03,3.106e-04, D*=6.00e-02,2.07e-03, lr=7.94e-04]\n"
     ]
    },
    {
     "name": "stdout",
     "output_type": "stream",
     "text": [
      "R^2 Error: {'Ni': 0.104, 'SiC': 0.02, 'C': 0.058, 'NiSi': 0.133, 'NiSi2': 0.139}\n",
      "Inf Error: {'Ni': 0.095, 'SiC': 0.031, 'C': 0.11, 'NiSi': 0.145, 'NiSi2': 0.165}\n",
      "Mean Error: (0.09077090346923003, 0.10928611989802783)\n",
      "模型已保存至 ./Results/IA_PINN_[64]x4/model_save/IA_PINN_[64]x4_9000.pth\n",
      "Epoch: 4/10----------------\n"
     ]
    },
    {
     "name": "stderr",
     "output_type": "stream",
     "text": [
      "100%|██████████| 3000/3000 [09:49<00:00,  5.09it/s, Loss=1.041e-02, PDE=3.439e-03, BC=3.121e-04,9.071e-05, IC=6.301e-03,2.695e-04, D*=6.00e-02,1.99e-03, lr=6.55e-04]\n"
     ]
    },
    {
     "name": "stdout",
     "output_type": "stream",
     "text": [
      "R^2 Error: {'Ni': 0.115, 'SiC': 0.021, 'C': 0.05, 'NiSi': 0.116, 'NiSi2': 0.125}\n",
      "Inf Error: {'Ni': 0.103, 'SiC': 0.032, 'C': 0.106, 'NiSi': 0.137, 'NiSi2': 0.167}\n",
      "Mean Error: (0.08552864731543076, 0.10910504226658957)\n",
      "模型已保存至 ./Results/IA_PINN_[64]x4/model_save/IA_PINN_[64]x4_12000.pth\n",
      "Epoch: 5/10----------------\n"
     ]
    },
    {
     "name": "stderr",
     "output_type": "stream",
     "text": [
      "100%|██████████| 3000/3000 [09:52<00:00,  5.06it/s, Loss=8.526e-03, PDE=2.421e-03, BC=2.959e-04,7.452e-05, IC=5.488e-03,2.463e-04, D*=6.00e-02,1.92e-03, lr=5.01e-04]\n"
     ]
    },
    {
     "name": "stdout",
     "output_type": "stream",
     "text": [
      "R^2 Error: {'Ni': 0.116, 'SiC': 0.02, 'C': 0.048, 'NiSi': 0.116, 'NiSi2': 0.118}\n",
      "Inf Error: {'Ni': 0.103, 'SiC': 0.031, 'C': 0.103, 'NiSi': 0.137, 'NiSi2': 0.16}\n",
      "Mean Error: (0.08364404987034284, 0.1066816816986372)\n",
      "模型已保存至 ./Results/IA_PINN_[64]x4/model_save/IA_PINN_[64]x4_15000.pth\n",
      "Epoch: 6/10----------------\n"
     ]
    },
    {
     "name": "stderr",
     "output_type": "stream",
     "text": [
      "100%|██████████| 3000/3000 [09:20<00:00,  5.35it/s, Loss=7.878e-03, PDE=2.284e-03, BC=3.112e-04,6.377e-05, IC=5.002e-03,2.169e-04, D*=6.00e-02,1.69e-03, lr=3.46e-04]\n"
     ]
    },
    {
     "name": "stdout",
     "output_type": "stream",
     "text": [
      "R^2 Error: {'Ni': 0.116, 'SiC': 0.018, 'C': 0.045, 'NiSi': 0.12, 'NiSi2': 0.118}\n",
      "Inf Error: {'Ni': 0.101, 'SiC': 0.03, 'C': 0.102, 'NiSi': 0.139, 'NiSi2': 0.147}\n",
      "Mean Error: (0.0834889910980113, 0.10372597549245408)\n",
      "模型已保存至 ./Results/IA_PINN_[64]x4/model_save/IA_PINN_[64]x4_18000.pth\n",
      "Epoch: 7/10----------------\n"
     ]
    },
    {
     "name": "stderr",
     "output_type": "stream",
     "text": [
      "100%|██████████| 3000/3000 [09:21<00:00,  5.35it/s, Loss=6.878e-03, PDE=1.889e-03, BC=2.182e-04,6.205e-05, IC=4.515e-03,1.939e-04, D*=6.00e-02,1.54e-03, lr=2.07e-04]\n"
     ]
    },
    {
     "name": "stdout",
     "output_type": "stream",
     "text": [
      "R^2 Error: {'Ni': 0.118, 'SiC': 0.019, 'C': 0.043, 'NiSi': 0.125, 'NiSi2': 0.114}\n",
      "Inf Error: {'Ni': 0.103, 'SiC': 0.03, 'C': 0.101, 'NiSi': 0.138, 'NiSi2': 0.144}\n",
      "Mean Error: (0.08378667682784506, 0.1031671018525429)\n",
      "模型已保存至 ./Results/IA_PINN_[64]x4/model_save/IA_PINN_[64]x4_21000.pth\n",
      "Epoch: 8/10----------------\n"
     ]
    },
    {
     "name": "stderr",
     "output_type": "stream",
     "text": [
      "100%|██████████| 3000/3000 [09:20<00:00,  5.35it/s, Loss=6.119e-03, PDE=1.652e-03, BC=1.443e-04,5.252e-05, IC=4.097e-03,1.722e-04, D*=6.00e-02,1.44e-03, lr=9.58e-05]\n"
     ]
    },
    {
     "name": "stdout",
     "output_type": "stream",
     "text": [
      "R^2 Error: {'Ni': 0.122, 'SiC': 0.019, 'C': 0.041, 'NiSi': 0.133, 'NiSi2': 0.111}\n",
      "Inf Error: {'Ni': 0.106, 'SiC': 0.03, 'C': 0.099, 'NiSi': 0.14, 'NiSi2': 0.143}\n",
      "Mean Error: (0.0852428438377791, 0.10353616243019895)\n",
      "模型已保存至 ./Results/IA_PINN_[64]x4/model_save/IA_PINN_[64]x4_24000.pth\n",
      "Epoch: 9/10----------------\n"
     ]
    },
    {
     "name": "stderr",
     "output_type": "stream",
     "text": [
      "100%|██████████| 3000/3000 [09:20<00:00,  5.35it/s, Loss=5.521e-03, PDE=1.549e-03, BC=1.307e-04,4.763e-05, IC=3.645e-03,1.485e-04, D*=6.00e-02,1.33e-03, lr=2.46e-05]\n"
     ]
    },
    {
     "name": "stdout",
     "output_type": "stream",
     "text": [
      "R^2 Error: {'Ni': 0.126, 'SiC': 0.019, 'C': 0.042, 'NiSi': 0.142, 'NiSi2': 0.11}\n",
      "Inf Error: {'Ni': 0.109, 'SiC': 0.03, 'C': 0.099, 'NiSi': 0.142, 'NiSi2': 0.14}\n",
      "Mean Error: (0.0877928012300505, 0.10396731361664882)\n",
      "模型已保存至 ./Results/IA_PINN_[64]x4/model_save/IA_PINN_[64]x4_27000.pth\n",
      "Epoch: 10/10----------------\n"
     ]
    },
    {
     "name": "stderr",
     "output_type": "stream",
     "text": [
      "100%|██████████| 3000/3000 [09:53<00:00,  5.05it/s, Loss=5.306e-03, PDE=1.509e-03, BC=1.257e-04,4.576e-05, IC=3.486e-03,1.400e-04, D*=6.00e-02,1.30e-03, lr=1.03e-08]\n"
     ]
    },
    {
     "name": "stdout",
     "output_type": "stream",
     "text": [
      "R^2 Error: {'Ni': 0.128, 'SiC': 0.019, 'C': 0.042, 'NiSi': 0.145, 'NiSi2': 0.11}\n",
      "Inf Error: {'Ni': 0.111, 'SiC': 0.03, 'C': 0.1, 'NiSi': 0.143, 'NiSi2': 0.138}\n",
      "Mean Error: (0.08890629385071973, 0.10423243733754481)\n",
      "模型已保存至 ./Results/IA_PINN_[64]x4/model_save/IA_PINN_[64]x4_30000.pth\n",
      "Training time: 5714.42s-------------------------\n",
      "IA_PINN_[128]x3:\n",
      "Epoch: 1/10----------------\n"
     ]
    },
    {
     "name": "stderr",
     "output_type": "stream",
     "text": [
      "100%|██████████| 3000/3000 [09:51<00:00,  5.07it/s, Loss=4.286e-02, PDE=6.804e-03, BC=1.116e-03,2.097e-03, IC=3.159e-02,1.246e-03, D*=6.00e-02,6.12e-03, lr=9.76e-04]\n"
     ]
    },
    {
     "name": "stdout",
     "output_type": "stream",
     "text": [
      "R^2 Error: {'Ni': 0.174, 'SiC': 0.056, 'C': 0.15, 'NiSi': 0.31, 'NiSi2': 0.31}\n",
      "Inf Error: {'Ni': 0.156, 'SiC': 0.073, 'C': 0.161, 'NiSi': 0.27, 'NiSi2': 0.29}\n",
      "Mean Error: (0.20023901738843608, 0.19006276905313751)\n",
      "模型已保存至 ./Results/IA_PINN_[128]x3/model_save/IA_PINN_[128]x3_3000.pth\n",
      "Epoch: 2/10----------------\n"
     ]
    },
    {
     "name": "stderr",
     "output_type": "stream",
     "text": [
      "100%|██████████| 3000/3000 [09:51<00:00,  5.08it/s, Loss=2.114e-02, PDE=3.960e-03, BC=5.543e-04,1.039e-03, IC=1.518e-02,4.016e-04, D*=6.00e-02,4.19e-03, lr=9.05e-04]\n"
     ]
    },
    {
     "name": "stdout",
     "output_type": "stream",
     "text": [
      "R^2 Error: {'Ni': 0.117, 'SiC': 0.026, 'C': 0.053, 'NiSi': 0.151, 'NiSi2': 0.16}\n",
      "Inf Error: {'Ni': 0.105, 'SiC': 0.039, 'C': 0.106, 'NiSi': 0.139, 'NiSi2': 0.176}\n",
      "Mean Error: (0.10155015378484822, 0.11305920940038221)\n",
      "模型已保存至 ./Results/IA_PINN_[128]x3/model_save/IA_PINN_[128]x3_6000.pth\n",
      "Epoch: 3/10----------------\n"
     ]
    },
    {
     "name": "stderr",
     "output_type": "stream",
     "text": [
      "100%|██████████| 3000/3000 [09:51<00:00,  5.07it/s, Loss=1.360e-02, PDE=3.630e-03, BC=6.871e-04,4.481e-05, IC=9.014e-03,2.191e-04, D*=6.00e-02,2.93e-03, lr=7.94e-04]\n"
     ]
    },
    {
     "name": "stdout",
     "output_type": "stream",
     "text": [
      "R^2 Error: {'Ni': 0.094, 'SiC': 0.017, 'C': 0.037, 'NiSi': 0.097, 'NiSi2': 0.083}\n",
      "Inf Error: {'Ni': 0.084, 'SiC': 0.027, 'C': 0.096, 'NiSi': 0.091, 'NiSi2': 0.127}\n",
      "Mean Error: (0.06564932537758675, 0.08510250575590958)\n",
      "模型已保存至 ./Results/IA_PINN_[128]x3/model_save/IA_PINN_[128]x3_9000.pth\n",
      "Epoch: 4/10----------------\n"
     ]
    },
    {
     "name": "stderr",
     "output_type": "stream",
     "text": [
      "100%|██████████| 3000/3000 [09:52<00:00,  5.06it/s, Loss=1.041e-02, PDE=2.311e-03, BC=2.727e-04,7.387e-04, IC=6.899e-03,1.865e-04, D*=6.00e-02,2.81e-03, lr=6.55e-04]\n"
     ]
    },
    {
     "name": "stdout",
     "output_type": "stream",
     "text": [
      "R^2 Error: {'Ni': 0.088, 'SiC': 0.014, 'C': 0.035, 'NiSi': 0.095, 'NiSi2': 0.064}\n",
      "Inf Error: {'Ni': 0.079, 'SiC': 0.023, 'C': 0.092, 'NiSi': 0.098, 'NiSi2': 0.107}\n",
      "Mean Error: (0.05911931549396373, 0.07983738678726658)\n",
      "模型已保存至 ./Results/IA_PINN_[128]x3/model_save/IA_PINN_[128]x3_12000.pth\n",
      "Epoch: 5/10----------------\n"
     ]
    },
    {
     "name": "stderr",
     "output_type": "stream",
     "text": [
      "100%|██████████| 3000/3000 [09:50<00:00,  5.08it/s, Loss=9.714e-03, PDE=3.161e-03, BC=4.676e-04,1.361e-06, IC=5.913e-03,1.707e-04, D*=6.00e-02,2.47e-03, lr=5.01e-04]\n"
     ]
    },
    {
     "name": "stdout",
     "output_type": "stream",
     "text": [
      "R^2 Error: {'Ni': 0.088, 'SiC': 0.013, 'C': 0.034, 'NiSi': 0.097, 'NiSi2': 0.063}\n",
      "Inf Error: {'Ni': 0.08, 'SiC': 0.022, 'C': 0.09, 'NiSi': 0.102, 'NiSi2': 0.103}\n",
      "Mean Error: (0.05899732094963235, 0.0791267184166243)\n",
      "模型已保存至 ./Results/IA_PINN_[128]x3/model_save/IA_PINN_[128]x3_15000.pth\n",
      "Epoch: 6/10----------------\n"
     ]
    },
    {
     "name": "stderr",
     "output_type": "stream",
     "text": [
      "100%|██████████| 3000/3000 [09:53<00:00,  5.06it/s, Loss=8.694e-03, PDE=2.216e-03, BC=2.103e-04,7.502e-04, IC=5.367e-03,1.510e-04, D*=6.00e-02,2.22e-03, lr=3.46e-04]\n"
     ]
    },
    {
     "name": "stdout",
     "output_type": "stream",
     "text": [
      "R^2 Error: {'Ni': 0.087, 'SiC': 0.013, 'C': 0.034, 'NiSi': 0.103, 'NiSi2': 0.065}\n",
      "Inf Error: {'Ni': 0.079, 'SiC': 0.02, 'C': 0.087, 'NiSi': 0.104, 'NiSi2': 0.086}\n",
      "Mean Error: (0.06036452656843731, 0.07527608734279886)\n",
      "模型已保存至 ./Results/IA_PINN_[128]x3/model_save/IA_PINN_[128]x3_18000.pth\n",
      "Epoch: 7/10----------------\n"
     ]
    },
    {
     "name": "stderr",
     "output_type": "stream",
     "text": [
      "100%|██████████| 3000/3000 [09:51<00:00,  5.07it/s, Loss=6.657e-03, PDE=1.735e-03, BC=1.766e-04,6.621e-07, IC=4.610e-03,1.349e-04, D*=6.00e-02,2.04e-03, lr=2.07e-04]\n"
     ]
    },
    {
     "name": "stdout",
     "output_type": "stream",
     "text": [
      "R^2 Error: {'Ni': 0.087, 'SiC': 0.012, 'C': 0.033, 'NiSi': 0.101, 'NiSi2': 0.059}\n",
      "Inf Error: {'Ni': 0.08, 'SiC': 0.019, 'C': 0.087, 'NiSi': 0.111, 'NiSi2': 0.086}\n",
      "Mean Error: (0.05834123115939506, 0.07651044998629837)\n",
      "模型已保存至 ./Results/IA_PINN_[128]x3/model_save/IA_PINN_[128]x3_21000.pth\n",
      "Epoch: 8/10----------------\n"
     ]
    },
    {
     "name": "stderr",
     "output_type": "stream",
     "text": [
      "100%|██████████| 3000/3000 [09:51<00:00,  5.07it/s, Loss=5.863e-03, PDE=1.561e-03, BC=1.514e-04,9.745e-07, IC=4.023e-03,1.262e-04, D*=6.00e-02,1.88e-03, lr=9.58e-05]\n"
     ]
    },
    {
     "name": "stdout",
     "output_type": "stream",
     "text": [
      "R^2 Error: {'Ni': 0.09, 'SiC': 0.011, 'C': 0.033, 'NiSi': 0.104, 'NiSi2': 0.059}\n",
      "Inf Error: {'Ni': 0.083, 'SiC': 0.018, 'C': 0.086, 'NiSi': 0.115, 'NiSi2': 0.078}\n",
      "Mean Error: (0.05931142323130696, 0.07601216141813681)\n",
      "模型已保存至 ./Results/IA_PINN_[128]x3/model_save/IA_PINN_[128]x3_24000.pth\n",
      "Epoch: 9/10----------------\n"
     ]
    },
    {
     "name": "stderr",
     "output_type": "stream",
     "text": [
      "100%|██████████| 3000/3000 [09:51<00:00,  5.08it/s, Loss=5.353e-03, PDE=1.419e-03, BC=1.322e-04,7.629e-07, IC=3.678e-03,1.233e-04, D*=6.00e-02,1.74e-03, lr=2.46e-05]\n"
     ]
    },
    {
     "name": "stdout",
     "output_type": "stream",
     "text": [
      "R^2 Error: {'Ni': 0.095, 'SiC': 0.011, 'C': 0.034, 'NiSi': 0.108, 'NiSi2': 0.06}\n",
      "Inf Error: {'Ni': 0.089, 'SiC': 0.018, 'C': 0.086, 'NiSi': 0.118, 'NiSi2': 0.072}\n",
      "Mean Error: (0.06183820815520753, 0.07647870415515146)\n",
      "模型已保存至 ./Results/IA_PINN_[128]x3/model_save/IA_PINN_[128]x3_27000.pth\n",
      "Epoch: 10/10----------------\n"
     ]
    },
    {
     "name": "stderr",
     "output_type": "stream",
     "text": [
      "100%|██████████| 3000/3000 [09:51<00:00,  5.07it/s, Loss=5.174e-03, PDE=1.369e-03, BC=1.249e-04,7.095e-07, IC=3.557e-03,1.219e-04, D*=6.00e-02,1.69e-03, lr=1.03e-08]\n"
     ]
    },
    {
     "name": "stdout",
     "output_type": "stream",
     "text": [
      "R^2 Error: {'Ni': 0.098, 'SiC': 0.012, 'C': 0.034, 'NiSi': 0.11, 'NiSi2': 0.061}\n",
      "Inf Error: {'Ni': 0.092, 'SiC': 0.018, 'C': 0.086, 'NiSi': 0.119, 'NiSi2': 0.071}\n",
      "Mean Error: (0.06322483727849157, 0.07711860567489362)\n",
      "模型已保存至 ./Results/IA_PINN_[128]x3/model_save/IA_PINN_[128]x3_30000.pth\n",
      "Training time: 5938.26s-------------------------\n",
      "IA_PINN_[96]x3:\n",
      "Epoch: 1/10----------------\n"
     ]
    },
    {
     "name": "stderr",
     "output_type": "stream",
     "text": [
      "100%|██████████| 3000/3000 [08:29<00:00,  5.88it/s, Loss=6.349e-02, PDE=1.224e-02, BC=8.754e-04,3.459e-03, IC=4.504e-02,1.874e-03, D*=6.00e-02,6.45e-03, lr=9.76e-04]\n"
     ]
    },
    {
     "name": "stdout",
     "output_type": "stream",
     "text": [
      "R^2 Error: {'Ni': 0.192, 'SiC': 0.073, 'C': 0.183, 'NiSi': 0.393, 'NiSi2': 0.294}\n",
      "Inf Error: {'Ni': 0.171, 'SiC': 0.09, 'C': 0.232, 'NiSi': 0.399, 'NiSi2': 0.278}\n",
      "Mean Error: (0.2269268589052303, 0.23389135543483883)\n",
      "模型已保存至 ./Results/IA_PINN_[96]x3/model_save/IA_PINN_[96]x3_3000.pth\n",
      "Epoch: 2/10----------------\n"
     ]
    },
    {
     "name": "stderr",
     "output_type": "stream",
     "text": [
      "100%|██████████| 3000/3000 [08:28<00:00,  5.90it/s, Loss=3.640e-02, PDE=6.211e-03, BC=3.510e-04,2.380e-03, IC=2.671e-02,7.428e-04, D*=6.00e-02,4.12e-03, lr=9.05e-04]\n"
     ]
    },
    {
     "name": "stdout",
     "output_type": "stream",
     "text": [
      "R^2 Error: {'Ni': 0.153, 'SiC': 0.043, 'C': 0.11, 'NiSi': 0.191, 'NiSi2': 0.232}\n",
      "Inf Error: {'Ni': 0.133, 'SiC': 0.056, 'C': 0.156, 'NiSi': 0.203, 'NiSi2': 0.266}\n",
      "Mean Error: (0.14585773929824386, 0.16280113038860256)\n",
      "模型已保存至 ./Results/IA_PINN_[96]x3/model_save/IA_PINN_[96]x3_6000.pth\n",
      "Epoch: 3/10----------------\n"
     ]
    },
    {
     "name": "stderr",
     "output_type": "stream",
     "text": [
      "100%|██████████| 3000/3000 [08:29<00:00,  5.89it/s, Loss=2.592e-02, PDE=4.321e-03, BC=4.363e-04,1.463e-03, IC=1.916e-02,5.321e-04, D*=6.00e-02,4.37e-03, lr=7.94e-04]\n"
     ]
    },
    {
     "name": "stdout",
     "output_type": "stream",
     "text": [
      "R^2 Error: {'Ni': 0.122, 'SiC': 0.03, 'C': 0.069, 'NiSi': 0.144, 'NiSi2': 0.135}\n",
      "Inf Error: {'Ni': 0.106, 'SiC': 0.042, 'C': 0.129, 'NiSi': 0.161, 'NiSi2': 0.177}\n",
      "Mean Error: (0.0998940990300292, 0.12312987836587604)\n",
      "模型已保存至 ./Results/IA_PINN_[96]x3/model_save/IA_PINN_[96]x3_9000.pth\n",
      "Epoch: 4/10----------------\n"
     ]
    },
    {
     "name": "stderr",
     "output_type": "stream",
     "text": [
      "100%|██████████| 3000/3000 [08:28<00:00,  5.90it/s, Loss=1.947e-02, PDE=3.876e-03, BC=2.431e-04,1.506e-03, IC=1.343e-02,4.189e-04, D*=6.00e-02,3.63e-03, lr=6.55e-04]\n"
     ]
    },
    {
     "name": "stdout",
     "output_type": "stream",
     "text": [
      "R^2 Error: {'Ni': 0.101, 'SiC': 0.023, 'C': 0.059, 'NiSi': 0.115, 'NiSi2': 0.1}\n",
      "Inf Error: {'Ni': 0.089, 'SiC': 0.032, 'C': 0.124, 'NiSi': 0.11, 'NiSi2': 0.144}\n",
      "Mean Error: (0.0793975413636269, 0.09997892395512209)\n",
      "模型已保存至 ./Results/IA_PINN_[96]x3/model_save/IA_PINN_[96]x3_12000.pth\n",
      "Epoch: 5/10----------------\n"
     ]
    },
    {
     "name": "stderr",
     "output_type": "stream",
     "text": [
      "100%|██████████| 3000/3000 [08:29<00:00,  5.89it/s, Loss=1.480e-02, PDE=3.431e-03, BC=4.742e-04,1.810e-04, IC=1.041e-02,3.083e-04, D*=6.00e-02,3.02e-03, lr=5.01e-04]\n"
     ]
    },
    {
     "name": "stdout",
     "output_type": "stream",
     "text": [
      "R^2 Error: {'Ni': 0.088, 'SiC': 0.015, 'C': 0.056, 'NiSi': 0.107, 'NiSi2': 0.088}\n",
      "Inf Error: {'Ni': 0.078, 'SiC': 0.027, 'C': 0.117, 'NiSi': 0.096, 'NiSi2': 0.126}\n",
      "Mean Error: (0.07069629158023985, 0.08858948914833623)\n",
      "模型已保存至 ./Results/IA_PINN_[96]x3/model_save/IA_PINN_[96]x3_15000.pth\n",
      "Epoch: 6/10----------------\n"
     ]
    },
    {
     "name": "stderr",
     "output_type": "stream",
     "text": [
      "100%|██████████| 3000/3000 [08:29<00:00,  5.89it/s, Loss=1.187e-02, PDE=2.870e-03, BC=6.845e-04,1.094e-05, IC=8.082e-03,2.273e-04, D*=6.00e-02,2.66e-03, lr=3.46e-04]\n"
     ]
    },
    {
     "name": "stdout",
     "output_type": "stream",
     "text": [
      "R^2 Error: {'Ni': 0.081, 'SiC': 0.012, 'C': 0.049, 'NiSi': 0.106, 'NiSi2': 0.082}\n",
      "Inf Error: {'Ni': 0.073, 'SiC': 0.022, 'C': 0.109, 'NiSi': 0.106, 'NiSi2': 0.115}\n",
      "Mean Error: (0.06593707880506047, 0.08491057883848668)\n",
      "模型已保存至 ./Results/IA_PINN_[96]x3/model_save/IA_PINN_[96]x3_18000.pth\n",
      "Epoch: 7/10----------------\n"
     ]
    },
    {
     "name": "stderr",
     "output_type": "stream",
     "text": [
      "100%|██████████| 3000/3000 [08:31<00:00,  5.87it/s, Loss=9.629e-03, PDE=2.537e-03, BC=1.712e-04,1.519e-06, IC=6.727e-03,1.928e-04, D*=6.00e-02,2.40e-03, lr=2.07e-04]\n"
     ]
    },
    {
     "name": "stdout",
     "output_type": "stream",
     "text": [
      "R^2 Error: {'Ni': 0.083, 'SiC': 0.011, 'C': 0.045, 'NiSi': 0.105, 'NiSi2': 0.08}\n",
      "Inf Error: {'Ni': 0.075, 'SiC': 0.02, 'C': 0.104, 'NiSi': 0.109, 'NiSi2': 0.112}\n",
      "Mean Error: (0.06468412801942722, 0.08402326920858591)\n",
      "模型已保存至 ./Results/IA_PINN_[96]x3/model_save/IA_PINN_[96]x3_21000.pth\n",
      "Epoch: 8/10----------------\n"
     ]
    },
    {
     "name": "stderr",
     "output_type": "stream",
     "text": [
      "100%|██████████| 3000/3000 [08:30<00:00,  5.88it/s, Loss=7.742e-03, PDE=2.146e-03, BC=1.408e-04,1.307e-06, IC=5.291e-03,1.627e-04, D*=6.00e-02,1.79e-03, lr=9.58e-05]\n"
     ]
    },
    {
     "name": "stdout",
     "output_type": "stream",
     "text": [
      "R^2 Error: {'Ni': 0.082, 'SiC': 0.01, 'C': 0.041, 'NiSi': 0.104, 'NiSi2': 0.08}\n",
      "Inf Error: {'Ni': 0.075, 'SiC': 0.018, 'C': 0.099, 'NiSi': 0.112, 'NiSi2': 0.106}\n",
      "Mean Error: (0.06339364445946061, 0.08197684502608632)\n",
      "模型已保存至 ./Results/IA_PINN_[96]x3/model_save/IA_PINN_[96]x3_24000.pth\n",
      "Epoch: 9/10----------------\n"
     ]
    },
    {
     "name": "stderr",
     "output_type": "stream",
     "text": [
      "100%|██████████| 3000/3000 [08:30<00:00,  5.87it/s, Loss=6.618e-03, PDE=1.920e-03, BC=1.311e-04,9.242e-07, IC=4.420e-03,1.466e-04, D*=6.00e-02,1.62e-03, lr=2.46e-05]\n"
     ]
    },
    {
     "name": "stdout",
     "output_type": "stream",
     "text": [
      "R^2 Error: {'Ni': 0.082, 'SiC': 0.01, 'C': 0.039, 'NiSi': 0.105, 'NiSi2': 0.082}\n",
      "Inf Error: {'Ni': 0.076, 'SiC': 0.017, 'C': 0.095, 'NiSi': 0.115, 'NiSi2': 0.101}\n",
      "Mean Error: (0.06382301364912482, 0.08099160601607955)\n",
      "模型已保存至 ./Results/IA_PINN_[96]x3/model_save/IA_PINN_[96]x3_27000.pth\n",
      "Epoch: 10/10----------------\n"
     ]
    },
    {
     "name": "stderr",
     "output_type": "stream",
     "text": [
      "100%|██████████| 3000/3000 [08:30<00:00,  5.87it/s, Loss=6.279e-03, PDE=1.860e-03, BC=1.269e-04,7.850e-07, IC=4.150e-03,1.412e-04, D*=6.00e-02,1.58e-03, lr=1.03e-08]\n"
     ]
    },
    {
     "name": "stdout",
     "output_type": "stream",
     "text": [
      "R^2 Error: {'Ni': 0.083, 'SiC': 0.01, 'C': 0.039, 'NiSi': 0.106, 'NiSi2': 0.084}\n",
      "Inf Error: {'Ni': 0.077, 'SiC': 0.017, 'C': 0.094, 'NiSi': 0.116, 'NiSi2': 0.1}\n",
      "Mean Error: (0.06421556318840962, 0.08083430490622154)\n",
      "模型已保存至 ./Results/IA_PINN_[96]x3/model_save/IA_PINN_[96]x3_30000.pth\n",
      "Training time: 5121.02s-------------------------\n",
      "IA_PINN_[64]x3:\n",
      "Epoch: 1/10----------------\n"
     ]
    },
    {
     "name": "stderr",
     "output_type": "stream",
     "text": [
      "100%|██████████| 3000/3000 [07:54<00:00,  6.32it/s, Loss=7.000e-02, PDE=1.119e-02, BC=1.031e-03,3.692e-03, IC=5.152e-02,2.563e-03, D*=6.00e-02,8.89e-03, lr=9.76e-04]\n"
     ]
    },
    {
     "name": "stdout",
     "output_type": "stream",
     "text": [
      "R^2 Error: {'Ni': 0.172, 'SiC': 0.066, 'C': 0.206, 'NiSi': 0.575, 'NiSi2': 0.36}\n",
      "Inf Error: {'Ni': 0.151, 'SiC': 0.093, 'C': 0.265, 'NiSi': 0.672, 'NiSi2': 0.312}\n",
      "Mean Error: (0.2759154721193806, 0.2985038679536204)\n",
      "模型已保存至 ./Results/IA_PINN_[64]x3/model_save/IA_PINN_[64]x3_3000.pth\n",
      "Epoch: 2/10----------------\n"
     ]
    },
    {
     "name": "stderr",
     "output_type": "stream",
     "text": [
      "100%|██████████| 3000/3000 [07:48<00:00,  6.40it/s, Loss=5.021e-02, PDE=6.196e-03, BC=1.110e-02,1.767e-03, IC=3.005e-02,1.102e-03, D*=6.00e-02,7.03e-03, lr=9.05e-04]\n"
     ]
    },
    {
     "name": "stdout",
     "output_type": "stream",
     "text": [
      "R^2 Error: {'Ni': 0.134, 'SiC': 0.043, 'C': 0.118, 'NiSi': 0.386, 'NiSi2': 0.244}\n",
      "Inf Error: {'Ni': 0.122, 'SiC': 0.057, 'C': 0.186, 'NiSi': 0.419, 'NiSi2': 0.284}\n",
      "Mean Error: (0.18501799564724558, 0.21380671292988365)\n",
      "模型已保存至 ./Results/IA_PINN_[64]x3/model_save/IA_PINN_[64]x3_6000.pth\n",
      "Epoch: 3/10----------------\n"
     ]
    },
    {
     "name": "stderr",
     "output_type": "stream",
     "text": [
      "100%|██████████| 3000/3000 [07:48<00:00,  6.40it/s, Loss=2.759e-02, PDE=3.895e-03, BC=8.992e-05,1.687e-03, IC=2.121e-02,7.029e-04, D*=6.00e-02,4.96e-03, lr=7.94e-04]\n"
     ]
    },
    {
     "name": "stdout",
     "output_type": "stream",
     "text": [
      "R^2 Error: {'Ni': 0.112, 'SiC': 0.03, 'C': 0.111, 'NiSi': 0.235, 'NiSi2': 0.196}\n",
      "Inf Error: {'Ni': 0.102, 'SiC': 0.045, 'C': 0.159, 'NiSi': 0.214, 'NiSi2': 0.233}\n",
      "Mean Error: (0.13690802136732882, 0.15072605801748917)\n",
      "模型已保存至 ./Results/IA_PINN_[64]x3/model_save/IA_PINN_[64]x3_9000.pth\n",
      "Epoch: 4/10----------------\n"
     ]
    },
    {
     "name": "stderr",
     "output_type": "stream",
     "text": [
      "100%|██████████| 3000/3000 [07:49<00:00,  6.39it/s, Loss=1.963e-02, PDE=3.313e-03, BC=1.100e-04,5.025e-04, IC=1.518e-02,5.261e-04, D*=6.00e-02,4.34e-03, lr=6.55e-04]\n"
     ]
    },
    {
     "name": "stdout",
     "output_type": "stream",
     "text": [
      "R^2 Error: {'Ni': 0.089, 'SiC': 0.02, 'C': 0.084, 'NiSi': 0.185, 'NiSi2': 0.137}\n",
      "Inf Error: {'Ni': 0.083, 'SiC': 0.035, 'C': 0.14, 'NiSi': 0.167, 'NiSi2': 0.164}\n",
      "Mean Error: (0.10297626296675284, 0.1176734921122717)\n",
      "模型已保存至 ./Results/IA_PINN_[64]x3/model_save/IA_PINN_[64]x3_12000.pth\n",
      "Epoch: 5/10----------------\n"
     ]
    },
    {
     "name": "stderr",
     "output_type": "stream",
     "text": [
      "100%|██████████| 3000/3000 [08:17<00:00,  6.03it/s, Loss=1.401e-02, PDE=3.204e-03, BC=8.804e-05,2.601e-04, IC=1.012e-02,3.359e-04, D*=6.00e-02,3.35e-03, lr=5.01e-04]\n"
     ]
    },
    {
     "name": "stdout",
     "output_type": "stream",
     "text": [
      "R^2 Error: {'Ni': 0.067, 'SiC': 0.012, 'C': 0.053, 'NiSi': 0.124, 'NiSi2': 0.104}\n",
      "Inf Error: {'Ni': 0.064, 'SiC': 0.024, 'C': 0.109, 'NiSi': 0.118, 'NiSi2': 0.133}\n",
      "Mean Error: (0.0720281928015211, 0.08952858512520041)\n",
      "模型已保存至 ./Results/IA_PINN_[64]x3/model_save/IA_PINN_[64]x3_15000.pth\n",
      "Epoch: 6/10----------------\n"
     ]
    },
    {
     "name": "stderr",
     "output_type": "stream",
     "text": [
      "100%|██████████| 3000/3000 [08:18<00:00,  6.02it/s, Loss=1.086e-02, PDE=2.806e-03, BC=7.233e-05,1.738e-04, IC=7.549e-03,2.639e-04, D*=6.00e-02,2.75e-03, lr=3.46e-04]\n"
     ]
    },
    {
     "name": "stdout",
     "output_type": "stream",
     "text": [
      "R^2 Error: {'Ni': 0.054, 'SiC': 0.009, 'C': 0.042, 'NiSi': 0.099, 'NiSi2': 0.078}\n",
      "Inf Error: {'Ni': 0.052, 'SiC': 0.016, 'C': 0.096, 'NiSi': 0.1, 'NiSi2': 0.102}\n",
      "Mean Error: (0.05643313808279586, 0.07312656282984417)\n",
      "模型已保存至 ./Results/IA_PINN_[64]x3/model_save/IA_PINN_[64]x3_18000.pth\n",
      "Epoch: 7/10----------------\n"
     ]
    },
    {
     "name": "stderr",
     "output_type": "stream",
     "text": [
      "100%|██████████| 3000/3000 [08:16<00:00,  6.04it/s, Loss=8.785e-03, PDE=2.359e-03, BC=4.832e-05,1.531e-05, IC=6.118e-03,2.453e-04, D*=6.00e-02,2.55e-03, lr=2.07e-04]\n"
     ]
    },
    {
     "name": "stdout",
     "output_type": "stream",
     "text": [
      "R^2 Error: {'Ni': 0.047, 'SiC': 0.007, 'C': 0.037, 'NiSi': 0.09, 'NiSi2': 0.06}\n",
      "Inf Error: {'Ni': 0.044, 'SiC': 0.012, 'C': 0.088, 'NiSi': 0.095, 'NiSi2': 0.071}\n",
      "Mean Error: (0.048100196677006005, 0.06210741552199461)\n",
      "模型已保存至 ./Results/IA_PINN_[64]x3/model_save/IA_PINN_[64]x3_21000.pth\n",
      "Epoch: 8/10----------------\n"
     ]
    },
    {
     "name": "stderr",
     "output_type": "stream",
     "text": [
      "100%|██████████| 3000/3000 [08:19<00:00,  6.01it/s, Loss=7.456e-03, PDE=2.027e-03, BC=4.839e-05,5.494e-06, IC=5.128e-03,2.471e-04, D*=6.00e-02,2.51e-03, lr=9.58e-05]\n"
     ]
    },
    {
     "name": "stdout",
     "output_type": "stream",
     "text": [
      "R^2 Error: {'Ni': 0.042, 'SiC': 0.007, 'C': 0.033, 'NiSi': 0.088, 'NiSi2': 0.046}\n",
      "Inf Error: {'Ni': 0.039, 'SiC': 0.01, 'C': 0.082, 'NiSi': 0.097, 'NiSi2': 0.057}\n",
      "Mean Error: (0.043236913926214454, 0.056876038250197235)\n",
      "模型已保存至 ./Results/IA_PINN_[64]x3/model_save/IA_PINN_[64]x3_24000.pth\n",
      "Epoch: 9/10----------------\n"
     ]
    },
    {
     "name": "stderr",
     "output_type": "stream",
     "text": [
      "100%|██████████| 3000/3000 [07:50<00:00,  6.38it/s, Loss=6.631e-03, PDE=1.806e-03, BC=4.491e-05,5.394e-06, IC=4.522e-03,2.522e-04, D*=6.00e-02,2.55e-03, lr=2.46e-05]\n"
     ]
    },
    {
     "name": "stdout",
     "output_type": "stream",
     "text": [
      "R^2 Error: {'Ni': 0.04, 'SiC': 0.007, 'C': 0.031, 'NiSi': 0.093, 'NiSi2': 0.04}\n",
      "Inf Error: {'Ni': 0.039, 'SiC': 0.009, 'C': 0.079, 'NiSi': 0.106, 'NiSi2': 0.045}\n",
      "Mean Error: (0.04230861934191096, 0.05557942571617068)\n",
      "模型已保存至 ./Results/IA_PINN_[64]x3/model_save/IA_PINN_[64]x3_27000.pth\n",
      "Epoch: 10/10----------------\n"
     ]
    },
    {
     "name": "stderr",
     "output_type": "stream",
     "text": [
      "100%|██████████| 3000/3000 [07:50<00:00,  6.37it/s, Loss=6.363e-03, PDE=1.735e-03, BC=4.184e-05,5.293e-06, IC=4.328e-03,2.530e-04, D*=6.00e-02,2.56e-03, lr=1.03e-08]\n"
     ]
    },
    {
     "name": "stdout",
     "output_type": "stream",
     "text": [
      "R^2 Error: {'Ni': 0.039, 'SiC': 0.007, 'C': 0.031, 'NiSi': 0.095, 'NiSi2': 0.039}\n",
      "Inf Error: {'Ni': 0.039, 'SiC': 0.01, 'C': 0.078, 'NiSi': 0.109, 'NiSi2': 0.042}\n",
      "Mean Error: (0.04230348631876657, 0.05539601378362422)\n",
      "模型已保存至 ./Results/IA_PINN_[64]x3/model_save/IA_PINN_[64]x3_30000.pth\n",
      "Training time: 4835.90s-------------------------\n"
     ]
    }
   ],
   "source": [
    "from torch import Tensor\n",
    "\n",
    "hiddens = [6, 5, 4, 3]  ##[3,4] already finished\n",
    "neurons = [128,96,64]\n",
    "\n",
    "activation = torch.nn.functional.silu\n",
    "\n",
    "start_lr = 1e-3\n",
    "end_lr = 1e-8\n",
    "\n",
    "weight = [1, 1, 1, 1, 1, 1]\n",
    "for hidden in hiddens:\n",
    "    for neuron in neurons:\n",
    "        for mode in ['IA_PINN']:  ##['PINN', 'IA_PINN', 'Fourier_PINN', 'AF_PINN']\n",
    "            layer = [2] + [neuron]*hidden + [6]\n",
    "            \n",
    "            star_time = timeit.default_timer()\n",
    "            num_epochs = 3000\n",
    "            sub_spochs = 10\n",
    "\n",
    "            loss_log_total, loss_log_pde, loss_log_bc, loss_log_ic = [],[],[],[]\n",
    "            torch.cuda.empty_cache()\n",
    "            print(f'{mode}_[{neuron}]x{hidden}:')\n",
    "            \n",
    "            if mode == 'PINN':\n",
    "                model = PINN(layer,activation,non_negative=True).to(device)\n",
    "                optimizer = optim.Adam(model.parameters(), lr=start_lr)  \n",
    "                scheduler = optim.lr_scheduler.CosineAnnealingLR(optimizer, T_max=num_epochs * sub_spochs, eta_min=end_lr)\n",
    "            elif mode == 'IA_PINN':\n",
    "                model = Attention_PINN(layer,activation,non_negative=True).to(device)\n",
    "                optimizer = optim.Adam(model.parameters(), lr=start_lr)  \n",
    "                scheduler = optim.lr_scheduler.CosineAnnealingLR(optimizer, T_max=num_epochs * sub_spochs, eta_min=end_lr)\n",
    "            elif mode == 'Fourier_PINN':\n",
    "                model = Fourier_PINN(layer,activation, non_negative=True, use_rff=True, rff_num_features=64, rff_sigma=5.0).to(device)\n",
    "                optimizer = optim.Adam(model.parameters(), lr=start_lr)  \n",
    "                scheduler = optim.lr_scheduler.CosineAnnealingLR(optimizer, T_max=num_epochs * sub_spochs, eta_min=end_lr)\n",
    "            elif mode == 'AF_PINN':\n",
    "                model = AF_PINN(layer, non_negative=True,activation = activation, use_rff=True, rff_num_features=64, rff_sigma=5.0).to(device)\n",
    "                optimizer = optim.Adam(model.parameters(), lr=start_lr)  \n",
    "                scheduler = optim.lr_scheduler.CosineAnnealingLR(optimizer, T_max=num_epochs * sub_spochs, eta_min=end_lr)\n",
    "            else:\n",
    "                print(\"Man! What can I say! Wrong Mode!!!\")\n",
    "                break            \n",
    "            points_types = ['domain', 'left_bc', 'right_bc', 'initial']\n",
    "\n",
    "            coords_pde, coords_bc1, coords_bc2, coords_ic = [\n",
    "                generator.grid_generator(2500 if pt in ['left_bc', 'right_bc'] else 10201, points_type=pt, nondim= True) \n",
    "                for pt in points_types\n",
    "            ]\n",
    "\n",
    "            for idx in range(sub_spochs):\n",
    "                print(f'Epoch: {idx+1}/{sub_spochs}----------------')\n",
    "                model.train()\n",
    "                \n",
    "                pbar = tqdm(range(num_epochs))\n",
    "                for epoch in pbar:\n",
    "                    current_lr = optimizer.param_groups[0]['lr'] \n",
    "                    def closure() -> Tensor:\n",
    "                        global loss_pde, D_star, loss_bc1, loss_bc2, loss_ic1, loss_ic2\n",
    "                        optimizer.zero_grad()\n",
    "\n",
    "                        # 计算损失时使用batch数据\n",
    "                        loss_eq1, loss_eq2, loss_eq3, loss_eq4, loss_eq5, loss_eq6, D_star = compute_pde(model, coords_pde)\n",
    "                        loss_pde = loss_eq1 + loss_eq2 + loss_eq3 + loss_eq4 + loss_eq5 + loss_eq6\n",
    "                        loss_bc1 = compute_bc(model, coords_bc1)\n",
    "                        loss_bc2 = compute_bc(model, coords_bc2)\n",
    "                        loss_ic1, loss_ic2 = compute_ic(model, coords_ic)\n",
    "\n",
    "                        #Give a weight to initial loss term\n",
    "                        loss = weight[0]*loss_pde +  weight[1]*loss_bc1 +  weight[2]*loss_bc2 +  weight[3]*loss_ic1 +  weight[4]*loss_ic2 \n",
    "\n",
    "                        loss.backward()\n",
    "                        torch.nn.utils.clip_grad_norm_(model.parameters(), max_norm=1.0, norm_type= 2)\n",
    "                        return loss\n",
    "\n",
    "                    optimizer.step(closure)\n",
    "                    \n",
    "                    # 如果使用scheduler（只在Adam阶段）\n",
    "                    if scheduler is not None:\n",
    "                        scheduler.step()\n",
    "                    \n",
    "                    loss_total = weight[0]*loss_pde +  weight[1]*loss_bc1 +  weight[2]*loss_bc2 +  weight[3]*loss_ic1 +  weight[4]*loss_ic2 \n",
    "\n",
    "                    loss_log_total.append(loss_total.item())\n",
    "                    loss_log_pde.append(loss_pde.item())\n",
    "                    loss_log_bc.append(loss_bc1.item() + loss_bc2.item())\n",
    "                    loss_log_ic.append(loss_ic1.item() + loss_ic2.item())\n",
    "                    \n",
    "                    if epoch % 10 == 0:\n",
    "                        pbar.set_postfix({\n",
    "                            'Loss': '{0:.3e}'.format(loss_total),\n",
    "                            'PDE': '{0:.3e}'.format(weight[0]*loss_pde.item()),\n",
    "                            'BC': '{0:.3e},{1:.3e}'.format(weight[1]*loss_bc1.item(),weight[2]*loss_bc2.item()),\n",
    "                            'IC': '{0:.3e},{1:.3e}'.format(weight[3]*loss_ic1.item(),weight[4]*loss_ic2.item()),\n",
    "                            'D*': '{0:.2e},{1:.2e}'.format(torch.max(D_star),torch.min(D_star)),\n",
    "                            'lr': '{0:.2e}'.format(current_lr),\n",
    "                        })        \n",
    "                    # # 将四个张量放在一个列表中并随机打乱\n",
    "                    shuffled_tensors = [tensor[torch.randperm(tensor.size(0))] for tensor in [coords_pde, coords_bc1, coords_bc2, coords_ic]]\n",
    "\n",
    "                    # 解包到四个变量中\n",
    "                    coords_pde, coords_bc1, coords_bc2, coords_ic = shuffled_tensors\n",
    "                \n",
    "                    if torch.isnan(loss_total):\n",
    "                        print('Loss is Nan, please check your model parameters')\n",
    "                        break\n",
    "                \n",
    "                true_path = './FDM/range[0,1]/'\n",
    "                file_names = ['u1_output.csv','u2_output.csv','u3_output.csv','u4_output.csv','u5_output.csv','u6_output.csv']\n",
    "                true_data = [pd.read_csv(true_path + file_name,header=None) for file_name in file_names]\n",
    "\n",
    "                model.eval()\n",
    "                val_data = generator.grid_generator(N=10201, points_type= 'domain', nondim= True)\n",
    "                result = model(val_data).data.cpu().numpy()\n",
    "                relative_error(result,true_data)\n",
    "\n",
    "                ##模型储存\n",
    "                save_path = f'./Results/{mode}_[{neuron}]x{hidden}/model_save/'\n",
    "                os.makedirs(save_path, exist_ok=True)  # 确保保存路径存在\n",
    "                # 指定模型文件名\n",
    "                model_file = os.path.join(save_path, f'{mode}_[{neuron}]x{hidden}_{(idx+1)*num_epochs}.pth')\n",
    "                # 保存模型\n",
    "                torch.save(model.state_dict(), model_file)\n",
    "                print(f\"模型已保存至 {model_file}\")\n",
    "            \n",
    "            # 绘制结果\n",
    "            plot_loss_curve(f'{mode}_[{neuron}]x{hidden}',loss_log_total,loss_log_pde, loss_log_bc, loss_log_ic)\n",
    "            \n",
    "            plot_relative_concen(f'{mode}_[{neuron}]x{hidden}',result,data_save=True)\n",
    "            \n",
    "            plot_3d_concen(f'{mode}_[{neuron}]x{hidden}', result, true_data)\n",
    "\n",
    "            Training_time = timeit.default_timer() - star_time\n",
    "            print(f'Training time: {Training_time:.2f}s-------------------------')\n"
   ]
  },
  {
   "cell_type": "code",
   "execution_count": null,
   "metadata": {},
   "outputs": [],
   "source": []
  }
 ],
 "metadata": {
  "kernelspec": {
   "display_name": "pytorch",
   "language": "python",
   "name": "python3"
  },
  "language_info": {
   "codemirror_mode": {
    "name": "ipython",
    "version": 3
   },
   "file_extension": ".py",
   "mimetype": "text/x-python",
   "name": "python",
   "nbconvert_exporter": "python",
   "pygments_lexer": "ipython3",
   "version": "3.9.7"
  }
 },
 "nbformat": 4,
 "nbformat_minor": 2
}
